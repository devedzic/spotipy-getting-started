{
 "cells": [
  {
   "cell_type": "markdown",
   "source": [
    "# Working with Spotify albums\n",
    "Getting data for an album from a Spotify object and running basic operations with the album (like getting the track list)."
   ],
   "metadata": {
    "collapsed": false
   }
  },
  {
   "cell_type": "markdown",
   "source": [
    "## Import statements"
   ],
   "metadata": {
    "collapsed": false
   }
  },
  {
   "cell_type": "code",
   "execution_count": 14,
   "outputs": [],
   "source": [
    "# import os\n",
    "#\n",
    "# from pathlib import Path\n",
    "# from dotenv import load_dotenv\n",
    "#\n",
    "# import spotipy\n",
    "# from spotipy.oauth2 import SpotifyClientCredentials\n",
    "#\n",
    "# # Based on https://github.com/ipython/ipynb; the reported compiler errors don't seem to matter\n",
    "# import ipynb\n",
    "# # from ipynb.fs.full.spotify_authentication import get_spotify_object\n",
    "\n",
    "import pandas as pd\n",
    "\n",
    "from my_spotify import get_spotify_object\n",
    "\n",
    "# from my_spotify import get_spotify_object\n",
    "# import my_spotify\n",
    "# %run \"M:\\\\Vladan\\\\Courses\\\\P3\\\\Python\\\\Python projects\\\\Jupyter projects\\\\spotipy-getting-started\\\\spotify_authentication.ipynb\""
   ],
   "metadata": {
    "collapsed": false,
    "ExecuteTime": {
     "end_time": "2023-05-12T21:18:58.257913500Z",
     "start_time": "2023-05-12T21:18:58.254413600Z"
    }
   }
  },
  {
   "cell_type": "markdown",
   "source": [
    "## Define albums to work with\n",
    "A Spotify album can be identified by its ID, its URI, and its URL. See the differences [here](https://spotipy.readthedocs.io/en/2.22.1/#ids-uris-and-urls). Spotify URLs are used in this notebook. See also [this](https://towardsdatascience.com/extracting-song-data-from-the-spotify-api-using-python-b1e79388d50), section *Extracting Tracks From a Playlist*.\n",
    "\n",
    "To get any of these album identifiers for an album, go to Spotify, open an album of your choice, click the '.&nbsp;.&nbsp;.' under the album title, and then select *Share > Copy Album Link*."
   ],
   "metadata": {
    "collapsed": false
   }
  },
  {
   "cell_type": "code",
   "execution_count": 2,
   "outputs": [],
   "source": [
    "ANTHOLOGY_1 = 'https://open.spotify.com/album/1pBBIxK5yURfbv8Xd5lta1?si=7kvHosStSz-GsAdMGgvpnw'\n",
    "ANTHOLOGY_2 = 'https://open.spotify.com/album/3Lf8VA23cMAl5imbABTZoo?si=2epR2z-MQiKVLQBeItcVmg'\n",
    "ANTHOLOGY_3 = 'https://open.spotify.com/album/4l0xO28Y37MBBXQEcBIbXQ?si=TIk8Z7rjTxyLVSgHZNUjqQ'\n"
   ],
   "metadata": {
    "collapsed": false,
    "ExecuteTime": {
     "end_time": "2023-05-12T20:33:33.840916200Z",
     "start_time": "2023-05-12T20:33:33.819975300Z"
    }
   }
  },
  {
   "cell_type": "markdown",
   "source": [
    "## Get the Spotify object"
   ],
   "metadata": {
    "collapsed": false
   }
  },
  {
   "cell_type": "code",
   "execution_count": 3,
   "outputs": [],
   "source": [
    "# display(get_spotify_object('env/.env'))\n",
    "spot = get_spotify_object('env/.env')"
   ],
   "metadata": {
    "collapsed": false,
    "ExecuteTime": {
     "end_time": "2023-05-12T20:33:38.167571Z",
     "start_time": "2023-05-12T20:33:38.162461900Z"
    }
   }
  },
  {
   "cell_type": "markdown",
   "source": [
    "## Get all tracks from an album"
   ],
   "metadata": {
    "collapsed": false
   }
  },
  {
   "cell_type": "code",
   "execution_count": 12,
   "outputs": [
    {
     "name": "stdout",
     "output_type": "stream",
     "text": [
      "Free As A Bird - Anthology 1 Version\n",
      "We Were Four Guys... That's All - Anthology 1 Version\n",
      "That'll Be The Day - Anthology 1 Version\n",
      "In Spite Of All The Danger - Anthology 1 Version\n",
      "Sometimes I'd Borrow...Those Still Exist - Anthology 1 Version\n",
      "Hallelujah I Love Her So - Anthology 1 Version\n",
      "You'll Be Mine - Anthology 1 Version\n",
      "Cayenne - Anthology 1 Version\n",
      "First Of All... It Didn't Do A Thing Here - Anthology 1 Version\n",
      "My Bonnie - Anthology 1 Version\n",
      "Ain't She Sweet - Anthology 1 Version\n",
      "Cry For A Shadow - Anthology 1 Version\n",
      "Brian Was A Beautiful Guy...He Presented Us Well - Anthology 1 Version\n",
      "I Secured Them... A Beatle Drink Even Then - Anthology 1 Version\n",
      "Searchin' - Anthology 1 Version\n",
      "Three Cool Cats - Anthology 1 Version\n",
      "The Sheik Of Araby - Anthology 1 Version\n",
      "Like Dreamers Do - Anthology 1 Version\n",
      "Hello Little Girl - Anthology 1 Version\n",
      "Well, The Recording Test... By My Artists - Anthology 1 Version\n",
      "Besame Mucho - Anthology 1 Version\n",
      "Love Me Do - Anthology 1 Version\n",
      "How Do You Do It? - Anthology 1 Version\n",
      "Please Please Me - Anthology 1 Version\n",
      "One After 909 - Anthology 1 Version / False Starts\n",
      "One After 909 - Anthology 1 Version / Complete\n",
      "Lend Me Your Comb - Anthology 1 Version\n",
      "I'll Get You - Anthology 1 Version\n",
      "We Were Performers... In Britain - Anthology 1 Version\n",
      "I Saw Her Standing There - Anthology 1 Version\n",
      "From Me To You - Anthology 1 Version\n",
      "Money (That's What I Want) - Anthology 1 Version\n",
      "You Really Got A Hold On Me - Anthology 1 Version\n",
      "Roll Over Beethoven - Anthology 1 Version\n",
      "She Loves You - Anthology 1 Version / Live At The Prince Of Wales Theatre, London/1963\n",
      "Till There Was You - Anthology 1 Version / Live At The Prince Of Wales Theatre, London/1963\n",
      "Twist And Shout - Anthology 1 Version / Live At The Prince Of Wales Theatre, London/1963\n",
      "This Boy - Anthology 1 Version\n",
      "I Want To Hold Your Hand - Anthology 1 Version\n",
      "Boys, What Was I Thinking... - Anthology 1 Version\n",
      "Moonlight Bay - Anthology 1 Version\n",
      "Can't Buy Me Love - Anthology 1 Version\n",
      "All My Loving - Anthology 1 Version\n",
      "You Can't Do That - Anthology 1 Version\n",
      "And I Love Her - Anthology 1 Version\n",
      "A Hard Day's Night - Anthology 1 Version\n",
      "I Wanna Be Your Man - Anthology 1 Version\n",
      "Long Tall Sally - Anthology 1 Version\n",
      "Boys - Anthology 1 Version\n",
      "Shout - Anthology 1 Version\n"
     ]
    }
   ],
   "source": [
    "tracks = spot.album_tracks(ANTHOLOGY_1)         # type(tracks): <class 'dict'>\n",
    "for track in tracks['items']:\n",
    "    print(track['name'])                        # type(track): <class 'dict'>"
   ],
   "metadata": {
    "collapsed": false,
    "ExecuteTime": {
     "end_time": "2023-05-12T21:12:29.555019200Z",
     "start_time": "2023-05-12T21:12:29.224324500Z"
    }
   }
  },
  {
   "cell_type": "markdown",
   "source": [
    "## Modify album titles in The Beatles songs dataset\n",
    "The initial version of The Beatles songs dataset, `The Beatles songs dataset, 310x30, v0.csv`, as well as its shorter variations like `The Beatles songs dataset, 310x9, v0.csv` and `The Beatles songs dataset, 310x10, v0.csv`, include many album titles like 'UK: Please Please Me US: The Early Beatles'. These should be modified to reflect the original UK album titles only. In this example, the album title should be only 'Please Please Me'."
   ],
   "metadata": {
    "collapsed": false
   }
  },
  {
   "cell_type": "markdown",
   "source": [
    "### Read The Beatles songs dataset"
   ],
   "metadata": {
    "collapsed": false
   }
  },
  {
   "cell_type": "code",
   "execution_count": 88,
   "outputs": [
    {
     "data": {
      "text/plain": "                                           Title       Year  \\\n303                             You Won't See Me       1965   \n210                                    Real Love  1980/1995   \n91                                Hello, Goodbye       1967   \n130  I'm Gonna Sit Right Down and Cry (Over You)       1963   \n208                                Polythene Pam       1969   \n149                               Jessie's Dream       1967   \n204                                   Penny Lane       1966   \n136                        I'm Talking About You       1962   \n241                                     Sun King       1969   \n186                                Mr. Moonlight       1964   \n\n                                          Album debut  Duration  \\\n303                                       Rubber Soul     202.0   \n210                                       Anthology 2     236.0   \n91                               Magical Mystery Tour     207.0   \n130                                   Live at the BBC     121.0   \n208                                        Abbey Road      72.0   \n149                                               NaN       NaN   \n204                              Magical Mystery Tour     183.0   \n136  Live! at the Star-Club in Hamburg, Germany; 1962       NaN   \n241                                        Abbey Road     146.0   \n186              UK: Beatles for Sale US: Beatles '65     155.0   \n\n     Other releases   Single A side              Single B side  \\\n303            11.0             NaN                        NaN   \n210             2.0       Real Love            Baby's in Black   \n91             14.0  Hello, Goodbye            I Am the Walrus   \n130             NaN             NaN                        NaN   \n208             8.0             NaN                        NaN   \n149             NaN             NaN                        NaN   \n204            22.0      Penny Lane  Strawberry Fields Forever   \n136             NaN             NaN                        NaN   \n241             6.0             NaN                        NaN   \n186            17.0             NaN                        NaN   \n\n    Single certification                                              Genre  \\\n303                  NaN                                           Pop/Rock   \n210            RIAA Gold                                     Rock, Pop/Rock   \n91             RIAA Gold                                           Pop/Rock   \n130                  NaN                                           Pop/Rock   \n208                  NaN                                           Pop/Rock   \n149                  NaN                                                NaN   \n204            RIAA Gold  Progressive Pop, Baroque Pop, Psychedelic Pop,...   \n136                  NaN                            Rock and Roll, Pop/Rock   \n241                  NaN                                  Art Pop, Pop/Rock   \n186                  NaN                                Folk Rock, Pop/Rock   \n\n                                                Styles  ...  \\\n303  British Invasion, Contemporary Pop/Rock, Early...  ...   \n210                                                NaN  ...   \n91   British Psychedelia, Contemporary Pop/Rock, Ea...  ...   \n130  British Invasion, Merseybeat, Contemporary Pop...  ...   \n208  Album Rock, Contemporary Pop/Roc,k, Early Pop/...  ...   \n149                                                NaN  ...   \n204  British Psychedelia, Contemporary Pop/Rock, Ea...  ...   \n136                                   British Invasion  ...   \n241  Album Rock, Contemporary Pop/Rock, Early Pop/R...  ...   \n186  British Invasion, Contemporary Pop/Rock, Rock ...  ...   \n\n    Weeks at No1 in UK (The Guardian) Highest position (Billboard)  \\\n303                               NaN                          NaN   \n210                               NaN                         11.0   \n91                                7.0                          1.0   \n130                               NaN                          NaN   \n208                               NaN                          NaN   \n149                               NaN                          NaN   \n204                               NaN                          1.0   \n136                               NaN                          NaN   \n241                               NaN                          NaN   \n186                               NaN                          NaN   \n\n    Weeks at No1 (Billboard) Top 50 (Billboard)  \\\n303                      NaN                NaN   \n210                      NaN               47.0   \n91                       3.0                7.0   \n130                      NaN                NaN   \n208                      NaN                NaN   \n149                      NaN                NaN   \n204                      NaN               24.0   \n136                      NaN                NaN   \n241                      NaN                NaN   \n186                      NaN                NaN   \n\n    Top 50 (Ultimate classic rock)  Top 50 (Rolling Stone)  Top 50 (NME)  \\\n303                            NaN                     NaN           NaN   \n210                            NaN                     NaN           NaN   \n91                            45.0                     NaN           NaN   \n130                            NaN                     NaN           NaN   \n208                            NaN                     NaN           NaN   \n149                            NaN                     NaN           NaN   \n204                            8.0                    32.0          29.0   \n136                            NaN                     NaN           NaN   \n241                            NaN                     NaN           NaN   \n186                            NaN                     NaN           NaN   \n\n     Top 50 (Top50songs.org)  Top 50 (USA today, 2017)  \\\n303                      NaN                       NaN   \n210                      NaN                       NaN   \n91                      22.0                       NaN   \n130                      NaN                       NaN   \n208                      NaN                       NaN   \n149                      NaN                       NaN   \n204                     17.0                      23.0   \n136                      NaN                       NaN   \n241                      NaN                       NaN   \n186                      NaN                       NaN   \n\n     Top 50 (Vulture, by Bill Wyman)  \n303                              NaN  \n210                              NaN  \n91                               NaN  \n130                              NaN  \n208                              NaN  \n149                              NaN  \n204                              3.0  \n136                              NaN  \n241                              NaN  \n186                              NaN  \n\n[10 rows x 30 columns]",
      "text/html": "<div>\n<style scoped>\n    .dataframe tbody tr th:only-of-type {\n        vertical-align: middle;\n    }\n\n    .dataframe tbody tr th {\n        vertical-align: top;\n    }\n\n    .dataframe thead th {\n        text-align: right;\n    }\n</style>\n<table border=\"1\" class=\"dataframe\">\n  <thead>\n    <tr style=\"text-align: right;\">\n      <th></th>\n      <th>Title</th>\n      <th>Year</th>\n      <th>Album debut</th>\n      <th>Duration</th>\n      <th>Other releases</th>\n      <th>Single A side</th>\n      <th>Single B side</th>\n      <th>Single certification</th>\n      <th>Genre</th>\n      <th>Styles</th>\n      <th>...</th>\n      <th>Weeks at No1 in UK (The Guardian)</th>\n      <th>Highest position (Billboard)</th>\n      <th>Weeks at No1 (Billboard)</th>\n      <th>Top 50 (Billboard)</th>\n      <th>Top 50 (Ultimate classic rock)</th>\n      <th>Top 50 (Rolling Stone)</th>\n      <th>Top 50 (NME)</th>\n      <th>Top 50 (Top50songs.org)</th>\n      <th>Top 50 (USA today, 2017)</th>\n      <th>Top 50 (Vulture, by Bill Wyman)</th>\n    </tr>\n  </thead>\n  <tbody>\n    <tr>\n      <th>303</th>\n      <td>You Won't See Me</td>\n      <td>1965</td>\n      <td>Rubber Soul</td>\n      <td>202.0</td>\n      <td>11.0</td>\n      <td>NaN</td>\n      <td>NaN</td>\n      <td>NaN</td>\n      <td>Pop/Rock</td>\n      <td>British Invasion, Contemporary Pop/Rock, Early...</td>\n      <td>...</td>\n      <td>NaN</td>\n      <td>NaN</td>\n      <td>NaN</td>\n      <td>NaN</td>\n      <td>NaN</td>\n      <td>NaN</td>\n      <td>NaN</td>\n      <td>NaN</td>\n      <td>NaN</td>\n      <td>NaN</td>\n    </tr>\n    <tr>\n      <th>210</th>\n      <td>Real Love</td>\n      <td>1980/1995</td>\n      <td>Anthology 2</td>\n      <td>236.0</td>\n      <td>2.0</td>\n      <td>Real Love</td>\n      <td>Baby's in Black</td>\n      <td>RIAA Gold</td>\n      <td>Rock, Pop/Rock</td>\n      <td>NaN</td>\n      <td>...</td>\n      <td>NaN</td>\n      <td>11.0</td>\n      <td>NaN</td>\n      <td>47.0</td>\n      <td>NaN</td>\n      <td>NaN</td>\n      <td>NaN</td>\n      <td>NaN</td>\n      <td>NaN</td>\n      <td>NaN</td>\n    </tr>\n    <tr>\n      <th>91</th>\n      <td>Hello, Goodbye</td>\n      <td>1967</td>\n      <td>Magical Mystery Tour</td>\n      <td>207.0</td>\n      <td>14.0</td>\n      <td>Hello, Goodbye</td>\n      <td>I Am the Walrus</td>\n      <td>RIAA Gold</td>\n      <td>Pop/Rock</td>\n      <td>British Psychedelia, Contemporary Pop/Rock, Ea...</td>\n      <td>...</td>\n      <td>7.0</td>\n      <td>1.0</td>\n      <td>3.0</td>\n      <td>7.0</td>\n      <td>45.0</td>\n      <td>NaN</td>\n      <td>NaN</td>\n      <td>22.0</td>\n      <td>NaN</td>\n      <td>NaN</td>\n    </tr>\n    <tr>\n      <th>130</th>\n      <td>I'm Gonna Sit Right Down and Cry (Over You)</td>\n      <td>1963</td>\n      <td>Live at the BBC</td>\n      <td>121.0</td>\n      <td>NaN</td>\n      <td>NaN</td>\n      <td>NaN</td>\n      <td>NaN</td>\n      <td>Pop/Rock</td>\n      <td>British Invasion, Merseybeat, Contemporary Pop...</td>\n      <td>...</td>\n      <td>NaN</td>\n      <td>NaN</td>\n      <td>NaN</td>\n      <td>NaN</td>\n      <td>NaN</td>\n      <td>NaN</td>\n      <td>NaN</td>\n      <td>NaN</td>\n      <td>NaN</td>\n      <td>NaN</td>\n    </tr>\n    <tr>\n      <th>208</th>\n      <td>Polythene Pam</td>\n      <td>1969</td>\n      <td>Abbey Road</td>\n      <td>72.0</td>\n      <td>8.0</td>\n      <td>NaN</td>\n      <td>NaN</td>\n      <td>NaN</td>\n      <td>Pop/Rock</td>\n      <td>Album Rock, Contemporary Pop/Roc,k, Early Pop/...</td>\n      <td>...</td>\n      <td>NaN</td>\n      <td>NaN</td>\n      <td>NaN</td>\n      <td>NaN</td>\n      <td>NaN</td>\n      <td>NaN</td>\n      <td>NaN</td>\n      <td>NaN</td>\n      <td>NaN</td>\n      <td>NaN</td>\n    </tr>\n    <tr>\n      <th>149</th>\n      <td>Jessie's Dream</td>\n      <td>1967</td>\n      <td>NaN</td>\n      <td>NaN</td>\n      <td>NaN</td>\n      <td>NaN</td>\n      <td>NaN</td>\n      <td>NaN</td>\n      <td>NaN</td>\n      <td>NaN</td>\n      <td>...</td>\n      <td>NaN</td>\n      <td>NaN</td>\n      <td>NaN</td>\n      <td>NaN</td>\n      <td>NaN</td>\n      <td>NaN</td>\n      <td>NaN</td>\n      <td>NaN</td>\n      <td>NaN</td>\n      <td>NaN</td>\n    </tr>\n    <tr>\n      <th>204</th>\n      <td>Penny Lane</td>\n      <td>1966</td>\n      <td>Magical Mystery Tour</td>\n      <td>183.0</td>\n      <td>22.0</td>\n      <td>Penny Lane</td>\n      <td>Strawberry Fields Forever</td>\n      <td>RIAA Gold</td>\n      <td>Progressive Pop, Baroque Pop, Psychedelic Pop,...</td>\n      <td>British Psychedelia, Contemporary Pop/Rock, Ea...</td>\n      <td>...</td>\n      <td>NaN</td>\n      <td>1.0</td>\n      <td>NaN</td>\n      <td>24.0</td>\n      <td>8.0</td>\n      <td>32.0</td>\n      <td>29.0</td>\n      <td>17.0</td>\n      <td>23.0</td>\n      <td>3.0</td>\n    </tr>\n    <tr>\n      <th>136</th>\n      <td>I'm Talking About You</td>\n      <td>1962</td>\n      <td>Live! at the Star-Club in Hamburg, Germany; 1962</td>\n      <td>NaN</td>\n      <td>NaN</td>\n      <td>NaN</td>\n      <td>NaN</td>\n      <td>NaN</td>\n      <td>Rock and Roll, Pop/Rock</td>\n      <td>British Invasion</td>\n      <td>...</td>\n      <td>NaN</td>\n      <td>NaN</td>\n      <td>NaN</td>\n      <td>NaN</td>\n      <td>NaN</td>\n      <td>NaN</td>\n      <td>NaN</td>\n      <td>NaN</td>\n      <td>NaN</td>\n      <td>NaN</td>\n    </tr>\n    <tr>\n      <th>241</th>\n      <td>Sun King</td>\n      <td>1969</td>\n      <td>Abbey Road</td>\n      <td>146.0</td>\n      <td>6.0</td>\n      <td>NaN</td>\n      <td>NaN</td>\n      <td>NaN</td>\n      <td>Art Pop, Pop/Rock</td>\n      <td>Album Rock, Contemporary Pop/Rock, Early Pop/R...</td>\n      <td>...</td>\n      <td>NaN</td>\n      <td>NaN</td>\n      <td>NaN</td>\n      <td>NaN</td>\n      <td>NaN</td>\n      <td>NaN</td>\n      <td>NaN</td>\n      <td>NaN</td>\n      <td>NaN</td>\n      <td>NaN</td>\n    </tr>\n    <tr>\n      <th>186</th>\n      <td>Mr. Moonlight</td>\n      <td>1964</td>\n      <td>UK: Beatles for Sale US: Beatles '65</td>\n      <td>155.0</td>\n      <td>17.0</td>\n      <td>NaN</td>\n      <td>NaN</td>\n      <td>NaN</td>\n      <td>Folk Rock, Pop/Rock</td>\n      <td>British Invasion, Contemporary Pop/Rock, Rock ...</td>\n      <td>...</td>\n      <td>NaN</td>\n      <td>NaN</td>\n      <td>NaN</td>\n      <td>NaN</td>\n      <td>NaN</td>\n      <td>NaN</td>\n      <td>NaN</td>\n      <td>NaN</td>\n      <td>NaN</td>\n      <td>NaN</td>\n    </tr>\n  </tbody>\n</table>\n<p>10 rows × 30 columns</p>\n</div>"
     },
     "metadata": {},
     "output_type": "display_data"
    }
   ],
   "source": [
    "# Get the songs as a pd.DataFrame object from '../data/The Beatles songs dataset, 310x30, v0.csv'\n",
    "songs  = pd.read_csv('../data/The Beatles songs dataset, 310x30, v0.csv')\n",
    "display(songs.sample(10))"
   ],
   "metadata": {
    "collapsed": false,
    "ExecuteTime": {
     "end_time": "2023-05-13T13:49:38.626934200Z",
     "start_time": "2023-05-13T13:49:38.603552600Z"
    }
   }
  },
  {
   "cell_type": "markdown",
   "source": [
    "### Find all album titles"
   ],
   "metadata": {
    "collapsed": false
   }
  },
  {
   "cell_type": "code",
   "execution_count": 89,
   "outputs": [
    {
     "data": {
      "text/plain": "54"
     },
     "metadata": {},
     "output_type": "display_data"
    },
    {
     "data": {
      "text/plain": "array(['Anthology 2', \"Sgt. Pepper's Lonely Hearts Club Band\",\n       \"UK: A Hard Day's Night US: 1962-1966\", 'Live at the BBC',\n       'UK: Please Please Me US: The Early Beatles', 'Let It Be',\n       'UK: Help! US: Yesterday and Today', 'Anthology 1',\n       'UK: With the Beatles US: Meet The Beatles!', 'Anthology 3',\n       'Yellow Submarine', 'Magical Mystery Tour',\n       \"UK: A Hard Day's Night US: Something New\",\n       'UK: Revolver US: Yesterday and Today', 'Help!',\n       \"UK: Beatles for Sale US: Beatles '65\", 'The Beatles',\n       'UK: A Collection of Beatles Oldies US: Beatles VI',\n       'The Beatles Bootleg Recordings 1963',\n       'On Air – Live at the BBC Volume 2',\n       'Let It Be... Naked - Fly on the Wall bonus disc', 'Abbey Road',\n       \"UK: A Hard Day's Night US: Hey Jude\", nan,\n       \"The Beatles' Christmas Album\",\n       'UK: A Collection of Beatles Oldies US: Yesterday and Today',\n       'UK: With the Beatles US: The Beatles Second Album',\n       'UK: Help! US: Beatles VI', 'UK: 1967-1970 US: Hey Jude',\n       'UK: Rubber Soul US: Yesterday and Today',\n       'UK: Beatles for Sale US: Beatles VI', 'Revolver',\n       'UK: A Collection of Beatles Oldies US: 1962-1966', 'Rubber Soul',\n       'UK: Past Masters Volume 1 US: The Beatles Second Album',\n       \"UK: A Collection of Beatles Oldies US: Beatles '65\",\n       'UK: Please Please Me US: Meet The Beatles!',\n       'UK: A Collection of Beatles Oldies US: Meet The Beatles!',\n       \"UK: A Hard Day's Night US: Beatles '65\", \"Rock 'n' Roll Music\",\n       'Live! at the Star-Club in Hamburg, Germany; 1962',\n       'UK: Help! US: Rubber Soul', 'UK: Rarities US: Something New',\n       \"UK: Rock 'n' Roll Music US: The Beatles Second Album\",\n       \"UK: Rock 'n' Roll Music US: Something New\",\n       'UK: Please Please Me US: Rarities',\n       'UK: A Collection of Beatles Oldies US: Hey Jude',\n       'UK: Rarities US: Hey Jude',\n       'UK: A Collection of Beatles Oldies US: The Beatles Second Album',\n       \"UK: Rarities US: Beatles '65\", 'UK: Rarities US: Rarities',\n       'UK: Rarities US: The Beatles Second Album',\n       'UK: Rarities US: Meet The Beatles!',\n       'UK: Rarities US: Beatles VI',\n       \"UK: A Hard Day's Night US: The Beatles Second Album\"],\n      dtype=object)"
     },
     "metadata": {},
     "output_type": "display_data"
    }
   ],
   "source": [
    "display(songs['Album debut'].nunique())\n",
    "display(songs['Album debut'].unique())"
   ],
   "metadata": {
    "collapsed": false,
    "ExecuteTime": {
     "end_time": "2023-05-13T13:49:44.412457700Z",
     "start_time": "2023-05-13T13:49:44.407296900Z"
    }
   }
  },
  {
   "cell_type": "markdown",
   "source": [
    "### Copy the *Album.debut* column to a new column, *Album*, in order to keep the original values in *Album.debut*"
   ],
   "metadata": {
    "collapsed": false
   }
  },
  {
   "cell_type": "code",
   "execution_count": 90,
   "outputs": [],
   "source": [
    "songs['Album'] = songs['Album debut']"
   ],
   "metadata": {
    "collapsed": false,
    "ExecuteTime": {
     "end_time": "2023-05-13T13:49:48.181151400Z",
     "start_time": "2023-05-13T13:49:48.157756800Z"
    }
   }
  },
  {
   "cell_type": "markdown",
   "source": [
    "### Put the *Album* and *Album.debut* columns next to each other"
   ],
   "metadata": {
    "collapsed": false
   }
  },
  {
   "cell_type": "code",
   "execution_count": 91,
   "outputs": [
    {
     "data": {
      "text/plain": "['Title',\n 'Year',\n 'Album debut',\n 'Duration',\n 'Other releases',\n 'Single A side',\n 'Single B side',\n 'Single certification',\n 'Genre',\n 'Styles',\n 'Themes',\n 'Moods',\n 'Songwriter(s)',\n 'Lead vocal(s)',\n 'Cover',\n 'Covered by',\n 'Chart position UK (Wikipedia)',\n 'Chart position US (Wikipedia)',\n 'Highest position (The Guardian)',\n 'Weeks on chart in UK (The Guardian)',\n 'Weeks at No1 in UK (The Guardian)',\n 'Highest position (Billboard)',\n 'Weeks at No1 (Billboard)',\n 'Top 50 (Billboard)',\n 'Top 50 (Ultimate classic rock)',\n 'Top 50 (Rolling Stone)',\n 'Top 50 (NME)',\n 'Top 50 (Top50songs.org)',\n 'Top 50 (USA today, 2017)',\n 'Top 50 (Vulture, by Bill Wyman)',\n 'Album']"
     },
     "metadata": {},
     "output_type": "display_data"
    },
    {
     "data": {
      "text/plain": "['Title',\n 'Year',\n 'Album',\n 'Album debut',\n 'Duration',\n 'Other releases',\n 'Single A side',\n 'Single B side',\n 'Single certification',\n 'Genre',\n 'Styles',\n 'Themes',\n 'Moods',\n 'Songwriter(s)',\n 'Lead vocal(s)',\n 'Cover',\n 'Covered by',\n 'Chart position UK (Wikipedia)',\n 'Chart position US (Wikipedia)',\n 'Highest position (The Guardian)',\n 'Weeks on chart in UK (The Guardian)',\n 'Weeks at No1 in UK (The Guardian)',\n 'Highest position (Billboard)',\n 'Weeks at No1 (Billboard)',\n 'Top 50 (Billboard)',\n 'Top 50 (Ultimate classic rock)',\n 'Top 50 (Rolling Stone)',\n 'Top 50 (NME)',\n 'Top 50 (Top50songs.org)',\n 'Top 50 (USA today, 2017)',\n 'Top 50 (Vulture, by Bill Wyman)']"
     },
     "metadata": {},
     "output_type": "display_data"
    }
   ],
   "source": [
    "c = songs.columns.tolist()\n",
    "display(c)\n",
    "c = ['Title',\n",
    "     'Year',\n",
    "     'Album',\n",
    "     'Album debut',\n",
    "     'Duration',\n",
    "     'Other releases',\n",
    "     'Single A side',\n",
    "     'Single B side',\n",
    "     'Single certification',\n",
    "     'Genre',\n",
    "     'Styles',\n",
    "     'Themes',\n",
    "     'Moods',\n",
    "     'Songwriter(s)',\n",
    "     'Lead vocal(s)',\n",
    "     'Cover',\n",
    "     'Covered by',\n",
    "     'Chart position UK (Wikipedia)',\n",
    "     'Chart position US (Wikipedia)',\n",
    "     'Highest position (The Guardian)',\n",
    "     'Weeks on chart in UK (The Guardian)',\n",
    "     'Weeks at No1 in UK (The Guardian)',\n",
    "     'Highest position (Billboard)',\n",
    "     'Weeks at No1 (Billboard)',\n",
    "     'Top 50 (Billboard)',\n",
    "     'Top 50 (Ultimate classic rock)',\n",
    "     'Top 50 (Rolling Stone)',\n",
    "     'Top 50 (NME)',\n",
    "     'Top 50 (Top50songs.org)',\n",
    "     'Top 50 (USA today, 2017)',\n",
    "     'Top 50 (Vulture, by Bill Wyman)',\n",
    "     ]\n",
    "display(c)"
   ],
   "metadata": {
    "collapsed": false,
    "ExecuteTime": {
     "end_time": "2023-05-13T13:49:50.936341300Z",
     "start_time": "2023-05-13T13:49:50.921770100Z"
    }
   }
  },
  {
   "cell_type": "code",
   "execution_count": 92,
   "outputs": [
    {
     "data": {
      "text/plain": "                              Title  Year  \\\n48          Crying, Waiting, Hoping  1963   \n32                             Boys  1963   \n307  You've Really Got a Hold on Me  1963   \n139           I've Just Seen a Face  1965   \n92                            Help!  1965   \n110           I Got to Find My Baby  1963   \n190               Not a Second Time  1963   \n127         I'll Keep You Satisfied  1963   \n24                        Bad to Me  1963   \n203                Paperback Writer  1966   \n\n                                                 Album  \\\n48                                     Live at the BBC   \n32          UK: Please Please Me US: The Early Beatles   \n307  UK: With the Beatles US: The Beatles Second Album   \n139                          UK: Help! US: Rubber Soul   \n92                                               Help!   \n110                                    Live at the BBC   \n190         UK: With the Beatles US: Meet The Beatles!   \n127                                                NaN   \n24                 The Beatles Bootleg Recordings 1963   \n203    UK: A Collection of Beatles Oldies US: Hey Jude   \n\n                                           Album debut  Duration  \\\n48                                     Live at the BBC     130.0   \n32          UK: Please Please Me US: The Early Beatles     144.0   \n307  UK: With the Beatles US: The Beatles Second Album     182.0   \n139                          UK: Help! US: Rubber Soul     127.0   \n92                                               Help!     138.0   \n110                                    Live at the BBC     116.0   \n190         UK: With the Beatles US: Meet The Beatles!     128.0   \n127                                                NaN       NaN   \n24                 The Beatles Bootleg Recordings 1963     142.0   \n203    UK: A Collection of Beatles Oldies US: Hey Jude     138.0   \n\n     Other releases     Single A side                   Single B side  \\\n48              NaN               NaN                             NaN   \n32             21.0              Boys  Kansas City/Hey, Hey, Hey, Hey   \n307             2.0               NaN                             NaN   \n139            10.0               NaN                             NaN   \n92             34.0             Help!                        I'm Down   \n110             NaN               NaN                             NaN   \n190             9.0               NaN                             NaN   \n127             NaN               NaN                             NaN   \n24              NaN               NaN                             NaN   \n203            27.0  Paperback Writer                            Rain   \n\n    Single certification                                             Genre  \\\n48                   NaN                           Rock and Roll, Pop/Rock   \n32                   NaN                           Rock and Roll, Pop/Rock   \n307                  NaN                                    Soul, Pop/Rock   \n139                  NaN                      Folk Rock, Country, Pop/Rock   \n92             RIAA Gold                               Folk Rock, Pop/Rock   \n110                  NaN                                    Rock, Pop/Rock   \n190                  NaN                                    Rock, Pop/Rock   \n127                  NaN                                          Pop/Rock   \n24                   NaN                                    Beat, Pop/Rock   \n203            RIAA Gold  Hard Rock, Power Pop, Psychedelic Rock, Pop/Rock   \n\n     ... Weeks at No1 in UK (The Guardian) Highest position (Billboard)  \\\n48   ...                               NaN                          NaN   \n32   ...                               NaN                          NaN   \n307  ...                               NaN                          NaN   \n139  ...                               NaN                          NaN   \n92   ...                               3.0                          1.0   \n110  ...                               NaN                          NaN   \n190  ...                               NaN                          NaN   \n127  ...                               NaN                          NaN   \n24   ...                               NaN                          NaN   \n203  ...                               2.0                          1.0   \n\n    Weeks at No1 (Billboard) Top 50 (Billboard)  \\\n48                       NaN                NaN   \n32                       NaN                NaN   \n307                      NaN                NaN   \n139                      NaN                NaN   \n92                       3.0               14.0   \n110                      NaN                NaN   \n190                      NaN                NaN   \n127                      NaN                NaN   \n24                       NaN                NaN   \n203                      2.0               19.0   \n\n    Top 50 (Ultimate classic rock) Top 50 (Rolling Stone)  Top 50 (NME)  \\\n48                             NaN                    NaN           NaN   \n32                             NaN                    NaN           NaN   \n307                            NaN                    NaN           NaN   \n139                            NaN                    NaN           NaN   \n92                            13.0                   15.0          41.0   \n110                            NaN                    NaN           NaN   \n190                            NaN                    NaN           NaN   \n127                            NaN                    NaN           NaN   \n24                             NaN                    NaN           NaN   \n203                           33.0                   35.0          17.0   \n\n     Top 50 (Top50songs.org)  Top 50 (USA today, 2017)  \\\n48                       NaN                       NaN   \n32                       NaN                       NaN   \n307                      NaN                       NaN   \n139                      NaN                       NaN   \n92                       4.0                       8.0   \n110                      NaN                       NaN   \n190                      NaN                       NaN   \n127                      NaN                       NaN   \n24                       NaN                       NaN   \n203                      NaN                      42.0   \n\n     Top 50 (Vulture, by Bill Wyman)  \n48                               NaN  \n32                               NaN  \n307                              NaN  \n139                              NaN  \n92                              36.0  \n110                              NaN  \n190                              NaN  \n127                              NaN  \n24                               NaN  \n203                             40.0  \n\n[10 rows x 31 columns]",
      "text/html": "<div>\n<style scoped>\n    .dataframe tbody tr th:only-of-type {\n        vertical-align: middle;\n    }\n\n    .dataframe tbody tr th {\n        vertical-align: top;\n    }\n\n    .dataframe thead th {\n        text-align: right;\n    }\n</style>\n<table border=\"1\" class=\"dataframe\">\n  <thead>\n    <tr style=\"text-align: right;\">\n      <th></th>\n      <th>Title</th>\n      <th>Year</th>\n      <th>Album</th>\n      <th>Album debut</th>\n      <th>Duration</th>\n      <th>Other releases</th>\n      <th>Single A side</th>\n      <th>Single B side</th>\n      <th>Single certification</th>\n      <th>Genre</th>\n      <th>...</th>\n      <th>Weeks at No1 in UK (The Guardian)</th>\n      <th>Highest position (Billboard)</th>\n      <th>Weeks at No1 (Billboard)</th>\n      <th>Top 50 (Billboard)</th>\n      <th>Top 50 (Ultimate classic rock)</th>\n      <th>Top 50 (Rolling Stone)</th>\n      <th>Top 50 (NME)</th>\n      <th>Top 50 (Top50songs.org)</th>\n      <th>Top 50 (USA today, 2017)</th>\n      <th>Top 50 (Vulture, by Bill Wyman)</th>\n    </tr>\n  </thead>\n  <tbody>\n    <tr>\n      <th>48</th>\n      <td>Crying, Waiting, Hoping</td>\n      <td>1963</td>\n      <td>Live at the BBC</td>\n      <td>Live at the BBC</td>\n      <td>130.0</td>\n      <td>NaN</td>\n      <td>NaN</td>\n      <td>NaN</td>\n      <td>NaN</td>\n      <td>Rock and Roll, Pop/Rock</td>\n      <td>...</td>\n      <td>NaN</td>\n      <td>NaN</td>\n      <td>NaN</td>\n      <td>NaN</td>\n      <td>NaN</td>\n      <td>NaN</td>\n      <td>NaN</td>\n      <td>NaN</td>\n      <td>NaN</td>\n      <td>NaN</td>\n    </tr>\n    <tr>\n      <th>32</th>\n      <td>Boys</td>\n      <td>1963</td>\n      <td>UK: Please Please Me US: The Early Beatles</td>\n      <td>UK: Please Please Me US: The Early Beatles</td>\n      <td>144.0</td>\n      <td>21.0</td>\n      <td>Boys</td>\n      <td>Kansas City/Hey, Hey, Hey, Hey</td>\n      <td>NaN</td>\n      <td>Rock and Roll, Pop/Rock</td>\n      <td>...</td>\n      <td>NaN</td>\n      <td>NaN</td>\n      <td>NaN</td>\n      <td>NaN</td>\n      <td>NaN</td>\n      <td>NaN</td>\n      <td>NaN</td>\n      <td>NaN</td>\n      <td>NaN</td>\n      <td>NaN</td>\n    </tr>\n    <tr>\n      <th>307</th>\n      <td>You've Really Got a Hold on Me</td>\n      <td>1963</td>\n      <td>UK: With the Beatles US: The Beatles Second Album</td>\n      <td>UK: With the Beatles US: The Beatles Second Album</td>\n      <td>182.0</td>\n      <td>2.0</td>\n      <td>NaN</td>\n      <td>NaN</td>\n      <td>NaN</td>\n      <td>Soul, Pop/Rock</td>\n      <td>...</td>\n      <td>NaN</td>\n      <td>NaN</td>\n      <td>NaN</td>\n      <td>NaN</td>\n      <td>NaN</td>\n      <td>NaN</td>\n      <td>NaN</td>\n      <td>NaN</td>\n      <td>NaN</td>\n      <td>NaN</td>\n    </tr>\n    <tr>\n      <th>139</th>\n      <td>I've Just Seen a Face</td>\n      <td>1965</td>\n      <td>UK: Help! US: Rubber Soul</td>\n      <td>UK: Help! US: Rubber Soul</td>\n      <td>127.0</td>\n      <td>10.0</td>\n      <td>NaN</td>\n      <td>NaN</td>\n      <td>NaN</td>\n      <td>Folk Rock, Country, Pop/Rock</td>\n      <td>...</td>\n      <td>NaN</td>\n      <td>NaN</td>\n      <td>NaN</td>\n      <td>NaN</td>\n      <td>NaN</td>\n      <td>NaN</td>\n      <td>NaN</td>\n      <td>NaN</td>\n      <td>NaN</td>\n      <td>NaN</td>\n    </tr>\n    <tr>\n      <th>92</th>\n      <td>Help!</td>\n      <td>1965</td>\n      <td>Help!</td>\n      <td>Help!</td>\n      <td>138.0</td>\n      <td>34.0</td>\n      <td>Help!</td>\n      <td>I'm Down</td>\n      <td>RIAA Gold</td>\n      <td>Folk Rock, Pop/Rock</td>\n      <td>...</td>\n      <td>3.0</td>\n      <td>1.0</td>\n      <td>3.0</td>\n      <td>14.0</td>\n      <td>13.0</td>\n      <td>15.0</td>\n      <td>41.0</td>\n      <td>4.0</td>\n      <td>8.0</td>\n      <td>36.0</td>\n    </tr>\n    <tr>\n      <th>110</th>\n      <td>I Got to Find My Baby</td>\n      <td>1963</td>\n      <td>Live at the BBC</td>\n      <td>Live at the BBC</td>\n      <td>116.0</td>\n      <td>NaN</td>\n      <td>NaN</td>\n      <td>NaN</td>\n      <td>NaN</td>\n      <td>Rock, Pop/Rock</td>\n      <td>...</td>\n      <td>NaN</td>\n      <td>NaN</td>\n      <td>NaN</td>\n      <td>NaN</td>\n      <td>NaN</td>\n      <td>NaN</td>\n      <td>NaN</td>\n      <td>NaN</td>\n      <td>NaN</td>\n      <td>NaN</td>\n    </tr>\n    <tr>\n      <th>190</th>\n      <td>Not a Second Time</td>\n      <td>1963</td>\n      <td>UK: With the Beatles US: Meet The Beatles!</td>\n      <td>UK: With the Beatles US: Meet The Beatles!</td>\n      <td>128.0</td>\n      <td>9.0</td>\n      <td>NaN</td>\n      <td>NaN</td>\n      <td>NaN</td>\n      <td>Rock, Pop/Rock</td>\n      <td>...</td>\n      <td>NaN</td>\n      <td>NaN</td>\n      <td>NaN</td>\n      <td>NaN</td>\n      <td>NaN</td>\n      <td>NaN</td>\n      <td>NaN</td>\n      <td>NaN</td>\n      <td>NaN</td>\n      <td>NaN</td>\n    </tr>\n    <tr>\n      <th>127</th>\n      <td>I'll Keep You Satisfied</td>\n      <td>1963</td>\n      <td>NaN</td>\n      <td>NaN</td>\n      <td>NaN</td>\n      <td>NaN</td>\n      <td>NaN</td>\n      <td>NaN</td>\n      <td>NaN</td>\n      <td>Pop/Rock</td>\n      <td>...</td>\n      <td>NaN</td>\n      <td>NaN</td>\n      <td>NaN</td>\n      <td>NaN</td>\n      <td>NaN</td>\n      <td>NaN</td>\n      <td>NaN</td>\n      <td>NaN</td>\n      <td>NaN</td>\n      <td>NaN</td>\n    </tr>\n    <tr>\n      <th>24</th>\n      <td>Bad to Me</td>\n      <td>1963</td>\n      <td>The Beatles Bootleg Recordings 1963</td>\n      <td>The Beatles Bootleg Recordings 1963</td>\n      <td>142.0</td>\n      <td>NaN</td>\n      <td>NaN</td>\n      <td>NaN</td>\n      <td>NaN</td>\n      <td>Beat, Pop/Rock</td>\n      <td>...</td>\n      <td>NaN</td>\n      <td>NaN</td>\n      <td>NaN</td>\n      <td>NaN</td>\n      <td>NaN</td>\n      <td>NaN</td>\n      <td>NaN</td>\n      <td>NaN</td>\n      <td>NaN</td>\n      <td>NaN</td>\n    </tr>\n    <tr>\n      <th>203</th>\n      <td>Paperback Writer</td>\n      <td>1966</td>\n      <td>UK: A Collection of Beatles Oldies US: Hey Jude</td>\n      <td>UK: A Collection of Beatles Oldies US: Hey Jude</td>\n      <td>138.0</td>\n      <td>27.0</td>\n      <td>Paperback Writer</td>\n      <td>Rain</td>\n      <td>RIAA Gold</td>\n      <td>Hard Rock, Power Pop, Psychedelic Rock, Pop/Rock</td>\n      <td>...</td>\n      <td>2.0</td>\n      <td>1.0</td>\n      <td>2.0</td>\n      <td>19.0</td>\n      <td>33.0</td>\n      <td>35.0</td>\n      <td>17.0</td>\n      <td>NaN</td>\n      <td>42.0</td>\n      <td>40.0</td>\n    </tr>\n  </tbody>\n</table>\n<p>10 rows × 31 columns</p>\n</div>"
     },
     "metadata": {},
     "output_type": "display_data"
    }
   ],
   "source": [
    "songs = songs[c]\n",
    "display(songs.sample(10))"
   ],
   "metadata": {
    "collapsed": false,
    "ExecuteTime": {
     "end_time": "2023-05-13T13:50:07.729920200Z",
     "start_time": "2023-05-13T13:50:07.710662200Z"
    }
   }
  },
  {
   "cell_type": "markdown",
   "source": [
    "### Replace the album titles in the *Album* column with original UK titles only"
   ],
   "metadata": {
    "collapsed": false
   }
  },
  {
   "cell_type": "code",
   "execution_count": 93,
   "outputs": [],
   "source": [
    "songs['Album'].replace(\"UK: A Hard Day's Night US: 1962-1966\", \"A Hard Day's Night\", inplace=True)\n",
    "songs['Album'].replace('UK: Please Please Me US: The Early Beatles', 'Please Please Me', inplace=True)\n",
    "songs['Album'].replace('UK: Help! US: Yesterday and Today', 'Help!', inplace=True)\n",
    "songs['Album'].replace(\"UK: A Hard Day's Night US: Something New\", \"A Hard Day's Night\", inplace=True)\n",
    "songs['Album'].replace('UK: With the Beatles US: Meet The Beatles!', 'With the Beatles US', inplace=True)\n",
    "songs['Album'].replace('UK: Revolver US: Yesterday and Today', 'Revolver', inplace=True)\n",
    "songs['Album'].replace(\"UK: Beatles for Sale US: Beatles '65\", \"Beatles for Sale\", inplace=True)\n",
    "songs['Album'].replace('UK: A Collection of Beatles Oldies US: Beatles VI', 'A Collection of Beatles Oldies', inplace=True)\n",
    "songs['Album'].replace(\"UK: A Hard Day's Night US: Hey Jude\", \"A Hard Day's Night\", inplace=True)\n",
    "songs['Album'].replace(\"UK: A Hard Day's Night US: Hey Jude\", \"A Hard Day's Night\", inplace=True)\n",
    "songs['Album'].replace('UK: A Collection of Beatles Oldies US: Yesterday and Today', 'A Collection of Beatles Oldies', inplace=True)\n",
    "songs['Album'].replace('UK: With the Beatles US: The Beatles Second Album', 'With the Beatles', inplace=True)\n",
    "songs['Album'].replace('UK: Help! US: Beatles VI', 'Help!', inplace=True)\n",
    "songs['Album'].replace('UK: 1967-1970 US: Hey Jude', '1967-1970', inplace=True)\n",
    "songs['Album'].replace('UK: Rubber Soul US: Yesterday and Today', 'Rubber Soul', inplace=True)\n",
    "songs['Album'].replace('UK: Beatles for Sale US: Beatles VI', 'Beatles for Sale', inplace=True)\n",
    "songs['Album'].replace('UK: A Collection of Beatles Oldies US: 1962-1966', 'A Collection of Beatles Oldies', inplace=True)\n",
    "songs['Album'].replace('Past Masters Volume 1', 'Past Masters Volume 1', inplace=True)\n",
    "songs['Album'].replace(\"UK: A Collection of Beatles Oldies US: Beatles '65\", \"A Collection of Beatles Oldies\", inplace=True)\n",
    "songs['Album'].replace('UK: Please Please Me US: Meet The Beatles!', 'Please Please Me', inplace=True)\n",
    "songs['Album'].replace('UK: A Collection of Beatles Oldies US: Meet The Beatles!', 'A Collection of Beatles Oldies', inplace=True)\n",
    "songs['Album'].replace(\"UK: A Hard Day's Night US: Beatles '65\", \"A Hard Day's Night\", inplace=True)\n",
    "songs['Album'].replace('UK: Help! US: Rubber Soul', 'Help!', inplace=True)\n",
    "songs['Album'].replace('UK: Rarities US: Something New', 'Rarities', inplace=True)\n",
    "songs['Album'].replace(\"UK: Rock 'n' Roll Music US: The Beatles Second Album\", \"Rock 'n' Roll Music\", inplace=True)\n",
    "songs['Album'].replace(\"UK: Rock 'n' Roll Music US: Something New\", \"Rock 'n' Roll Music\", inplace=True)\n",
    "songs['Album'].replace('UK: Please Please Me US: Rarities', 'Please Please Me', inplace=True)\n",
    "songs['Album'].replace('UK: A Collection of Beatles Oldies US: Hey Jude', 'A Collection of Beatles Oldies', inplace=True)\n",
    "songs['Album'].replace('UK: Rarities US: Hey Jude', 'Rarities', inplace=True)\n",
    "songs['Album'].replace('UK: A Collection of Beatles Oldies US: The Beatles Second Album', 'A Collection of Beatles Oldies', inplace=True)\n",
    "songs['Album'].replace(\"UK: Rarities US: Beatles '65\", \"Rarities\", inplace=True)\n",
    "songs['Album'].replace('UK: Rarities US: The Beatles Second Album', 'Rarities', inplace=True)\n",
    "songs['Album'].replace('UK: Rarities US: Meet The Beatles!', 'Rarities', inplace=True)\n",
    "songs['Album'].replace('UK: Rarities US: Beatles VI', 'Rarities', inplace=True)\n",
    "songs['Album'].replace(\"UK: A Hard Day's Night US: The Beatles Second Album\", \"A Hard Day's Night\", inplace=True)\n",
    "songs['Album'].replace('UK: Past Masters Volume 1 US: The Beatles Second Album', 'Past Masters Volume 1', inplace=True)\n",
    "songs['Album'].replace('UK: Rarities US: Rarities', 'Rarities', inplace=True)"
   ],
   "metadata": {
    "collapsed": false,
    "ExecuteTime": {
     "end_time": "2023-05-13T13:50:13.952252100Z",
     "start_time": "2023-05-13T13:50:13.940344500Z"
    }
   }
  },
  {
   "cell_type": "code",
   "execution_count": 94,
   "outputs": [
    {
     "data": {
      "text/plain": "28"
     },
     "metadata": {},
     "output_type": "display_data"
    },
    {
     "data": {
      "text/plain": "array(['Anthology 2', \"Sgt. Pepper's Lonely Hearts Club Band\",\n       \"A Hard Day's Night\", 'Live at the BBC', 'Please Please Me',\n       'Let It Be', 'Help!', 'Anthology 1', 'With the Beatles US',\n       'Anthology 3', 'Yellow Submarine', 'Magical Mystery Tour',\n       'Revolver', 'Beatles for Sale', 'The Beatles',\n       'A Collection of Beatles Oldies',\n       'The Beatles Bootleg Recordings 1963',\n       'On Air – Live at the BBC Volume 2',\n       'Let It Be... Naked - Fly on the Wall bonus disc', 'Abbey Road',\n       nan, \"The Beatles' Christmas Album\", 'With the Beatles',\n       '1967-1970', 'Rubber Soul', 'Past Masters Volume 1',\n       \"Rock 'n' Roll Music\",\n       'Live! at the Star-Club in Hamburg, Germany; 1962', 'Rarities'],\n      dtype=object)"
     },
     "metadata": {},
     "output_type": "display_data"
    }
   ],
   "source": [
    "display(songs['Album'].nunique())\n",
    "display(songs['Album'].unique())"
   ],
   "metadata": {
    "collapsed": false,
    "ExecuteTime": {
     "end_time": "2023-05-13T13:50:17.544745100Z",
     "start_time": "2023-05-13T13:50:17.527700500Z"
    }
   }
  },
  {
   "cell_type": "markdown",
   "source": [
    "### Display the resulting dataframe"
   ],
   "metadata": {
    "collapsed": false
   }
  },
  {
   "cell_type": "code",
   "execution_count": 95,
   "outputs": [
    {
     "data": {
      "text/plain": "                       Title       Year                 Album  \\\n13            And I Love Her       1964    A Hard Day's Night   \n51        Devil in Her Heart       1963      With the Beatles   \n215      Rock and Roll Music       1964      Beatles for Sale   \n110    I Got to Find My Baby       1963       Live at the BBC   \n135             I'm So Tired       1968           The Beatles   \n119       I Want to Tell You       1966              Revolver   \n301     You Like Me Too Much       1965                 Help!   \n309  Your Mother Should Know       1967  Magical Mystery Tour   \n73            Free as a Bird  1977/1994           Anthology 1   \n52                Dig a Pony       1969             Let It Be   \n\n                                           Album debut  Duration  \\\n13            UK: A Hard Day's Night US: Something New     152.0   \n51   UK: With the Beatles US: The Beatles Second Album     147.0   \n215               UK: Beatles for Sale US: Beatles '65     150.0   \n110                                    Live at the BBC     116.0   \n135                                        The Beatles     123.0   \n119                                           Revolver     149.0   \n301                           UK: Help! US: Beatles VI     155.0   \n309                               Magical Mystery Tour     149.0   \n73                                         Anthology 1     266.0   \n52                                           Let It Be     232.0   \n\n     Other releases                  Single A side  \\\n13             29.0                 And I Love Her   \n51             11.0                            NaN   \n215            25.0  Rock and Roll Music; No Reply   \n110             NaN                            NaN   \n135            11.0                            NaN   \n119             5.0                            NaN   \n301            12.0                            NaN   \n309            13.0                            NaN   \n73              NaN                 Free as a Bird   \n52             12.0                            NaN   \n\n                        Single B side   Single certification  \\\n13                          If I Fell                    NaN   \n51                                NaN                    NaN   \n215  I'm a Loser; Rock and Roll Music                    NaN   \n110                               NaN                    NaN   \n135                               NaN                    NaN   \n119                               NaN                    NaN   \n301                               NaN                    NaN   \n309                               NaN                    NaN   \n73     Christmas Time (Is Here Again)  BPI Silver; RIAA Gold   \n52                                NaN                    NaN   \n\n                                                 Genre  ...  \\\n13                                            Pop/Rock  ...   \n51                                      Rock, Pop/Rock  ...   \n215                            Rock and Roll, Pop/Rock  ...   \n110                                     Rock, Pop/Rock  ...   \n135                               Blues Rock, Pop/Rock  ...   \n119                         Psychedelic Rock, Pop/Rock  ...   \n301                                           Pop/Rock  ...   \n309  Music Hall, Vaudeville Rock, Psychedelic Pop, ...  ...   \n73                                      Rock, Pop/Rock  ...   \n52                                Blues Rock, Pop/Rock  ...   \n\n    Weeks at No1 in UK (The Guardian) Highest position (Billboard)  \\\n13                                NaN                         12.0   \n51                                NaN                          NaN   \n215                               NaN                          NaN   \n110                               NaN                          NaN   \n135                               NaN                          NaN   \n119                               NaN                          NaN   \n301                               NaN                          NaN   \n309                               NaN                          NaN   \n73                                NaN                          6.0   \n52                                NaN                          NaN   \n\n    Weeks at No1 (Billboard) Top 50 (Billboard)  \\\n13                       NaN               37.0   \n51                       NaN                NaN   \n215                      NaN                NaN   \n110                      NaN                NaN   \n135                      NaN                NaN   \n119                      NaN                NaN   \n301                      NaN                NaN   \n309                      NaN                NaN   \n73                       NaN               39.0   \n52                       NaN                NaN   \n\n    Top 50 (Ultimate classic rock) Top 50 (Rolling Stone)  Top 50 (NME)  \\\n13                             NaN                    NaN           NaN   \n51                             NaN                    NaN           NaN   \n215                            NaN                    NaN           NaN   \n110                            NaN                    NaN           NaN   \n135                            NaN                    NaN           NaN   \n119                            NaN                    NaN           NaN   \n301                            NaN                    NaN           NaN   \n309                            NaN                    NaN           NaN   \n73                             NaN                    NaN           NaN   \n52                             NaN                    NaN           NaN   \n\n     Top 50 (Top50songs.org)  Top 50 (USA today, 2017)  \\\n13                       NaN                       NaN   \n51                       NaN                       NaN   \n215                      NaN                       NaN   \n110                      NaN                       NaN   \n135                      NaN                       NaN   \n119                      NaN                       NaN   \n301                      NaN                       NaN   \n309                      NaN                       NaN   \n73                       NaN                       NaN   \n52                       NaN                       NaN   \n\n     Top 50 (Vulture, by Bill Wyman)  \n13                               NaN  \n51                               NaN  \n215                              NaN  \n110                              NaN  \n135                              NaN  \n119                              NaN  \n301                              NaN  \n309                              NaN  \n73                               NaN  \n52                               NaN  \n\n[10 rows x 31 columns]",
      "text/html": "<div>\n<style scoped>\n    .dataframe tbody tr th:only-of-type {\n        vertical-align: middle;\n    }\n\n    .dataframe tbody tr th {\n        vertical-align: top;\n    }\n\n    .dataframe thead th {\n        text-align: right;\n    }\n</style>\n<table border=\"1\" class=\"dataframe\">\n  <thead>\n    <tr style=\"text-align: right;\">\n      <th></th>\n      <th>Title</th>\n      <th>Year</th>\n      <th>Album</th>\n      <th>Album debut</th>\n      <th>Duration</th>\n      <th>Other releases</th>\n      <th>Single A side</th>\n      <th>Single B side</th>\n      <th>Single certification</th>\n      <th>Genre</th>\n      <th>...</th>\n      <th>Weeks at No1 in UK (The Guardian)</th>\n      <th>Highest position (Billboard)</th>\n      <th>Weeks at No1 (Billboard)</th>\n      <th>Top 50 (Billboard)</th>\n      <th>Top 50 (Ultimate classic rock)</th>\n      <th>Top 50 (Rolling Stone)</th>\n      <th>Top 50 (NME)</th>\n      <th>Top 50 (Top50songs.org)</th>\n      <th>Top 50 (USA today, 2017)</th>\n      <th>Top 50 (Vulture, by Bill Wyman)</th>\n    </tr>\n  </thead>\n  <tbody>\n    <tr>\n      <th>13</th>\n      <td>And I Love Her</td>\n      <td>1964</td>\n      <td>A Hard Day's Night</td>\n      <td>UK: A Hard Day's Night US: Something New</td>\n      <td>152.0</td>\n      <td>29.0</td>\n      <td>And I Love Her</td>\n      <td>If I Fell</td>\n      <td>NaN</td>\n      <td>Pop/Rock</td>\n      <td>...</td>\n      <td>NaN</td>\n      <td>12.0</td>\n      <td>NaN</td>\n      <td>37.0</td>\n      <td>NaN</td>\n      <td>NaN</td>\n      <td>NaN</td>\n      <td>NaN</td>\n      <td>NaN</td>\n      <td>NaN</td>\n    </tr>\n    <tr>\n      <th>51</th>\n      <td>Devil in Her Heart</td>\n      <td>1963</td>\n      <td>With the Beatles</td>\n      <td>UK: With the Beatles US: The Beatles Second Album</td>\n      <td>147.0</td>\n      <td>11.0</td>\n      <td>NaN</td>\n      <td>NaN</td>\n      <td>NaN</td>\n      <td>Rock, Pop/Rock</td>\n      <td>...</td>\n      <td>NaN</td>\n      <td>NaN</td>\n      <td>NaN</td>\n      <td>NaN</td>\n      <td>NaN</td>\n      <td>NaN</td>\n      <td>NaN</td>\n      <td>NaN</td>\n      <td>NaN</td>\n      <td>NaN</td>\n    </tr>\n    <tr>\n      <th>215</th>\n      <td>Rock and Roll Music</td>\n      <td>1964</td>\n      <td>Beatles for Sale</td>\n      <td>UK: Beatles for Sale US: Beatles '65</td>\n      <td>150.0</td>\n      <td>25.0</td>\n      <td>Rock and Roll Music; No Reply</td>\n      <td>I'm a Loser; Rock and Roll Music</td>\n      <td>NaN</td>\n      <td>Rock and Roll, Pop/Rock</td>\n      <td>...</td>\n      <td>NaN</td>\n      <td>NaN</td>\n      <td>NaN</td>\n      <td>NaN</td>\n      <td>NaN</td>\n      <td>NaN</td>\n      <td>NaN</td>\n      <td>NaN</td>\n      <td>NaN</td>\n      <td>NaN</td>\n    </tr>\n    <tr>\n      <th>110</th>\n      <td>I Got to Find My Baby</td>\n      <td>1963</td>\n      <td>Live at the BBC</td>\n      <td>Live at the BBC</td>\n      <td>116.0</td>\n      <td>NaN</td>\n      <td>NaN</td>\n      <td>NaN</td>\n      <td>NaN</td>\n      <td>Rock, Pop/Rock</td>\n      <td>...</td>\n      <td>NaN</td>\n      <td>NaN</td>\n      <td>NaN</td>\n      <td>NaN</td>\n      <td>NaN</td>\n      <td>NaN</td>\n      <td>NaN</td>\n      <td>NaN</td>\n      <td>NaN</td>\n      <td>NaN</td>\n    </tr>\n    <tr>\n      <th>135</th>\n      <td>I'm So Tired</td>\n      <td>1968</td>\n      <td>The Beatles</td>\n      <td>The Beatles</td>\n      <td>123.0</td>\n      <td>11.0</td>\n      <td>NaN</td>\n      <td>NaN</td>\n      <td>NaN</td>\n      <td>Blues Rock, Pop/Rock</td>\n      <td>...</td>\n      <td>NaN</td>\n      <td>NaN</td>\n      <td>NaN</td>\n      <td>NaN</td>\n      <td>NaN</td>\n      <td>NaN</td>\n      <td>NaN</td>\n      <td>NaN</td>\n      <td>NaN</td>\n      <td>NaN</td>\n    </tr>\n    <tr>\n      <th>119</th>\n      <td>I Want to Tell You</td>\n      <td>1966</td>\n      <td>Revolver</td>\n      <td>Revolver</td>\n      <td>149.0</td>\n      <td>5.0</td>\n      <td>NaN</td>\n      <td>NaN</td>\n      <td>NaN</td>\n      <td>Psychedelic Rock, Pop/Rock</td>\n      <td>...</td>\n      <td>NaN</td>\n      <td>NaN</td>\n      <td>NaN</td>\n      <td>NaN</td>\n      <td>NaN</td>\n      <td>NaN</td>\n      <td>NaN</td>\n      <td>NaN</td>\n      <td>NaN</td>\n      <td>NaN</td>\n    </tr>\n    <tr>\n      <th>301</th>\n      <td>You Like Me Too Much</td>\n      <td>1965</td>\n      <td>Help!</td>\n      <td>UK: Help! US: Beatles VI</td>\n      <td>155.0</td>\n      <td>12.0</td>\n      <td>NaN</td>\n      <td>NaN</td>\n      <td>NaN</td>\n      <td>Pop/Rock</td>\n      <td>...</td>\n      <td>NaN</td>\n      <td>NaN</td>\n      <td>NaN</td>\n      <td>NaN</td>\n      <td>NaN</td>\n      <td>NaN</td>\n      <td>NaN</td>\n      <td>NaN</td>\n      <td>NaN</td>\n      <td>NaN</td>\n    </tr>\n    <tr>\n      <th>309</th>\n      <td>Your Mother Should Know</td>\n      <td>1967</td>\n      <td>Magical Mystery Tour</td>\n      <td>Magical Mystery Tour</td>\n      <td>149.0</td>\n      <td>13.0</td>\n      <td>NaN</td>\n      <td>NaN</td>\n      <td>NaN</td>\n      <td>Music Hall, Vaudeville Rock, Psychedelic Pop, ...</td>\n      <td>...</td>\n      <td>NaN</td>\n      <td>NaN</td>\n      <td>NaN</td>\n      <td>NaN</td>\n      <td>NaN</td>\n      <td>NaN</td>\n      <td>NaN</td>\n      <td>NaN</td>\n      <td>NaN</td>\n      <td>NaN</td>\n    </tr>\n    <tr>\n      <th>73</th>\n      <td>Free as a Bird</td>\n      <td>1977/1994</td>\n      <td>Anthology 1</td>\n      <td>Anthology 1</td>\n      <td>266.0</td>\n      <td>NaN</td>\n      <td>Free as a Bird</td>\n      <td>Christmas Time (Is Here Again)</td>\n      <td>BPI Silver; RIAA Gold</td>\n      <td>Rock, Pop/Rock</td>\n      <td>...</td>\n      <td>NaN</td>\n      <td>6.0</td>\n      <td>NaN</td>\n      <td>39.0</td>\n      <td>NaN</td>\n      <td>NaN</td>\n      <td>NaN</td>\n      <td>NaN</td>\n      <td>NaN</td>\n      <td>NaN</td>\n    </tr>\n    <tr>\n      <th>52</th>\n      <td>Dig a Pony</td>\n      <td>1969</td>\n      <td>Let It Be</td>\n      <td>Let It Be</td>\n      <td>232.0</td>\n      <td>12.0</td>\n      <td>NaN</td>\n      <td>NaN</td>\n      <td>NaN</td>\n      <td>Blues Rock, Pop/Rock</td>\n      <td>...</td>\n      <td>NaN</td>\n      <td>NaN</td>\n      <td>NaN</td>\n      <td>NaN</td>\n      <td>NaN</td>\n      <td>NaN</td>\n      <td>NaN</td>\n      <td>NaN</td>\n      <td>NaN</td>\n      <td>NaN</td>\n    </tr>\n  </tbody>\n</table>\n<p>10 rows × 31 columns</p>\n</div>"
     },
     "metadata": {},
     "output_type": "display_data"
    }
   ],
   "source": [
    "display(songs.sample(10))"
   ],
   "metadata": {
    "collapsed": false,
    "ExecuteTime": {
     "end_time": "2023-05-13T13:50:21.082139300Z",
     "start_time": "2023-05-13T13:50:21.073825200Z"
    }
   }
  },
  {
   "cell_type": "markdown",
   "source": [
    "### Save the resulting dataframe as *'../data/The Beatles songs dataset, 310x31, v0 (Album).csv'*"
   ],
   "metadata": {
    "collapsed": false
   }
  },
  {
   "cell_type": "code",
   "execution_count": 96,
   "outputs": [],
   "source": [
    "songs.to_csv('../data/The Beatles songs dataset, 310x31 (Album), v0.csv', index=False)"
   ],
   "metadata": {
    "collapsed": false,
    "ExecuteTime": {
     "end_time": "2023-05-13T13:50:49.737445800Z",
     "start_time": "2023-05-13T13:50:49.727479500Z"
    }
   }
  },
  {
   "cell_type": "markdown",
   "source": [
    "Repeat the same process for all the other starting datasets."
   ],
   "metadata": {
    "collapsed": false
   }
  },
  {
   "cell_type": "markdown",
   "source": [
    "## Get The Beatles rarities\n",
    "Compile all tracks that do not appear on official albums and were not released as singles."
   ],
   "metadata": {
    "collapsed": false
   }
  }
 ],
 "metadata": {
  "kernelspec": {
   "display_name": "Python 3",
   "language": "python",
   "name": "python3"
  },
  "language_info": {
   "codemirror_mode": {
    "name": "ipython",
    "version": 2
   },
   "file_extension": ".py",
   "mimetype": "text/x-python",
   "name": "python",
   "nbconvert_exporter": "python",
   "pygments_lexer": "ipython2",
   "version": "2.7.6"
  }
 },
 "nbformat": 4,
 "nbformat_minor": 0
}
