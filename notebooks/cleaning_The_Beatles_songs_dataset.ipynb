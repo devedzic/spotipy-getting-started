{
 "cells": [
  {
   "cell_type": "markdown",
   "source": [
    "# Cleaning The Beatles songs dataset\n",
    "Starting point: The Beatles songs dataset created in the end of the *crafting_The_Beatles_songs_dataset.ipynb*."
   ],
   "metadata": {
    "collapsed": false
   },
   "id": "9142d79c3b738a3e"
  },
  {
   "cell_type": "markdown",
   "source": [
    "## Import statements"
   ],
   "metadata": {
    "collapsed": false
   },
   "id": "25c61323ba8c5efd"
  },
  {
   "cell_type": "code",
   "execution_count": 1,
   "outputs": [],
   "source": [
    "import pandas as pd"
   ],
   "metadata": {
    "collapsed": false,
    "ExecuteTime": {
     "end_time": "2023-09-13T15:40:28.737914400Z",
     "start_time": "2023-09-13T15:40:26.995076200Z"
    }
   },
   "id": "ad07df19e919bb90"
  },
  {
   "cell_type": "markdown",
   "source": [
    "## Read the dataset\n",
    "Use The Beatles songs dataset created in the end of the *crafting_The_Beatles_songs_dataset.ipynb*, `The Beatles songs dataset, 285x45, v0.csv`."
   ],
   "metadata": {
    "collapsed": false
   },
   "id": "3076f26a157ca78c"
  },
  {
   "cell_type": "code",
   "execution_count": 3,
   "outputs": [],
   "source": [
    "songs = pd.read_csv('../data/The Beatles songs dataset, 285x45, v0.csv')"
   ],
   "metadata": {
    "collapsed": false,
    "ExecuteTime": {
     "end_time": "2023-09-13T15:44:11.096243300Z",
     "start_time": "2023-09-13T15:44:11.080477600Z"
    }
   },
   "id": "285179a3aa0a8430"
  },
  {
   "cell_type": "markdown",
   "source": [
    "## Remove *NaN* and other missing values from the dataset"
   ],
   "metadata": {
    "collapsed": false
   },
   "id": "8c050f2ca0fa7ab1"
  },
  {
   "cell_type": "markdown",
   "source": [
    "### Check the dataset for *NaN* values"
   ],
   "metadata": {
    "collapsed": false
   },
   "id": "7f7b80527a6f99bb"
  },
  {
   "cell_type": "code",
   "execution_count": 5,
   "outputs": [
    {
     "data": {
      "text/plain": "URI                                      0\nTitle                                    0\nYear                                     8\nAlbum                                    1\nPopularity                               0\nDuration                                 0\nKey                                      0\nMode                                     0\nTempo                                    0\nTime_signature                           0\nValence                                  0\nDanceability                             0\nEnergy                                   0\nLoudness                                 0\nAcousticness                             0\nInstrumentalness                         0\nLiveness                                 0\nSpeechiness                              0\nAlbum debut                             10\nOther releases                          72\nSingle A side                          195\nSingle B side                          195\nSingle certification                   235\nGenre                                    7\nStyles                                  28\nThemes                                 101\nMoods                                   25\nSongwriter(s)                            7\nLead vocal(s)                           12\nCover                                  219\nCovered by                             103\nChart position UK (Wikipedia)          240\nChart position US (Wikipedia)          218\nHighest position (The Guardian)        254\nWeeks on chart in UK (The Guardian)    254\nWeeks at No1 in UK (The Guardian)      269\nHighest position (Billboard)           236\nWeeks at No1 (Billboard)               270\nTop 50 (Billboard)                     236\nTop 50 (Ultimate classic rock)         236\nTop 50 (Rolling Stone)                 236\nTop 50 (NME)                           236\nTop 50 (Top50songs.org)                235\nTop 50 (USA today, 2017)               235\nTop 50 (Vulture, by Bill Wyman)        243\ndtype: int64"
     },
     "metadata": {},
     "output_type": "display_data"
    }
   ],
   "source": [
    "display(songs.isnull().sum())"
   ],
   "metadata": {
    "collapsed": false,
    "ExecuteTime": {
     "end_time": "2023-09-13T15:52:13.423831100Z",
     "start_time": "2023-09-13T15:52:13.416350Z"
    }
   },
   "id": "77a5b37b778b2d0d"
  },
  {
   "cell_type": "markdown",
   "source": [
    "Obviously, the audio features from Spotify are all there. \n",
    "The missing values for `Album`, `Year`, `Album debut`, `Genre` and `Songwriter(s)` are very few and are best inspected and eliminated manually. In the case of `Album` and `Album debut`, the values from the two columns are compared for validation purposes and the more likely value from the two columns is used (the other one is discarded as erroneous).\n",
    "The missing values for `Styles`, `Moods`, `Themes` and `Lead vocal(s)` are also inspected manually and are filled in based on VD's experience and on consulting additional Websites on the Internet, notably [AllMusic](https://www.allmusic.com/).\n",
    "As for `Other releases`, the missing values are filled with 0s. In some cases, this choice is questionable, since some songs have been released on, say, *Anthology* series only, and they represent early versions of the songs subsequently released on The Beatles members' solo albums after the breakup (e.g., *All Things Must Pass*). The criterion for filling the missing value with 0 was that there were no other releases of the same song by all four Beatles.\n",
    "All missing values for `Cover` are set to 'N' and then double-checked manually, and all missing values for `Covered by` are set to 0 (also double-checked manually).\n",
    "All missing values in columns `Chart position UK (Wikipedia)` : `Top 50 (Vulture, by Bill Wyman)` are set to 0."
   ],
   "metadata": {
    "collapsed": false
   },
   "id": "31a865d94e2e2fb9"
  },
  {
   "cell_type": "markdown",
   "source": [
    "### *Album*, *Year*, *Album debut*, *Genre* and *Songwriter(s)*"
   ],
   "metadata": {
    "collapsed": false
   },
   "id": "2441a09481a16172"
  },
  {
   "cell_type": "markdown",
   "source": [
    "##### *Album*"
   ],
   "metadata": {
    "collapsed": false
   },
   "id": "6790d0b4937dc5cf"
  },
  {
   "cell_type": "code",
   "execution_count": 9,
   "outputs": [
    {
     "data": {
      "text/plain": "1"
     },
     "execution_count": 9,
     "metadata": {},
     "output_type": "execute_result"
    }
   ],
   "source": [
    "condition = songs.Album.isnull()\n",
    "songs.Album.isnull().sum()"
   ],
   "metadata": {
    "collapsed": false,
    "ExecuteTime": {
     "end_time": "2023-09-13T18:29:23.973208700Z",
     "start_time": "2023-09-13T18:29:23.967682400Z"
    }
   },
   "id": "70b2992e9b80a1b3"
  },
  {
   "cell_type": "markdown",
   "source": [
    "Careful manual inspection has shown that both *Album* and *Album debut* are missing for the corresponding song - *Sour Milk Sea, Esher Demo* - as well as that another song - *Child of Nature* - has not been included in *The Beatles songs dataset, 285x45, v0.csv* dataset. Thus another auxiliary dataframe has been created in the *tracks.ipynb* notebook in the end, with songs from the *Esher Demos* playlist only (`THE_ESHER_DEMOS_PLAYLIST = 'https://open.spotify.com/playlist/1ACQGYUwU0mkFoIu9ac4Tu?si=bc8505d1cd064300'`), and the data from that dataframe have been manually added to *The Beatles songs dataset, 285x45, v0.csv* dataset to make it more complete. The resulting dataframe has been manually saved as *The Beatles songs dataset, 286x45, v0.csv* dataset."
   ],
   "metadata": {
    "collapsed": false
   },
   "id": "f684114a8b3b12da"
  },
  {
   "cell_type": "code",
   "execution_count": 11,
   "outputs": [
    {
     "data": {
      "text/plain": "0"
     },
     "execution_count": 11,
     "metadata": {},
     "output_type": "execute_result"
    }
   ],
   "source": [
    "songs = pd.read_csv('../data/The Beatles songs dataset, 286x45, v0.csv')\n",
    "songs.Album.isnull().sum()"
   ],
   "metadata": {
    "collapsed": false,
    "ExecuteTime": {
     "end_time": "2023-09-13T19:24:55.665841800Z",
     "start_time": "2023-09-13T19:24:55.654842200Z"
    }
   },
   "id": "b6fb246b9cdceb31"
  },
  {
   "cell_type": "markdown",
   "source": [
    "##### *Year*"
   ],
   "metadata": {
    "collapsed": false
   },
   "id": "e6e215596ca3f568"
  },
  {
   "cell_type": "markdown",
   "source": [
    "How many songs miss the value for *Year*?"
   ],
   "metadata": {
    "collapsed": false
   },
   "id": "a4b79129f3ce54c5"
  },
  {
   "cell_type": "code",
   "execution_count": 12,
   "outputs": [
    {
     "data": {
      "text/plain": "7"
     },
     "execution_count": 12,
     "metadata": {},
     "output_type": "execute_result"
    }
   ],
   "source": [
    "songs.Year.isnull().sum()"
   ],
   "metadata": {
    "collapsed": false,
    "ExecuteTime": {
     "end_time": "2023-09-13T19:45:59.566656300Z",
     "start_time": "2023-09-13T19:45:59.561109900Z"
    }
   },
   "id": "db8a550f67a1d54b"
  },
  {
   "cell_type": "markdown",
   "source": [
    "What are these songs?"
   ],
   "metadata": {
    "collapsed": false
   },
   "id": "55fd939029136480"
  },
  {
   "cell_type": "code",
   "execution_count": 13,
   "outputs": [
    {
     "data": {
      "text/plain": "                                      URI  \\\n0    spotify:track:2FDEHIMkjxFLzj688M2I3h   \n2    spotify:track:34dsKRJHIadrrNdCDtMwGn   \n8    spotify:track:00fyPXxe2SCBHnFwEO9Eh1   \n30   spotify:track:2Qgak11t9BJHwkicG0WJQE   \n35   spotify:track:5D6TY2nkWmC0fijXKuYQrm   \n98   spotify:track:0cyR03TLxoLceHKWs7UDDM   \n238  spotify:track:1j8M18rzGenrxvrbHNp8Aj   \n\n                                                 Title Year            Album  \\\n0    (You're So Square) Baby I Don't Care - Studio Jam  NaN      The Beatles   \n2                    A Beginning - Anthology 3 Version  NaN      Anthology 3   \n8    Across the Universe - Take 2 / Anthology 2 Ver...  NaN      Anthology 2   \n30                                        Besame Mucho  NaN      Anthology 1   \n35                      Can You Take Me Back? - Take 1  NaN      The Beatles   \n98                                   How Do You Do It?  NaN      Anthology 1   \n238  The Hippy Hippy Shake - Live at the Bbc for \"p...  NaN  Live At The BBC   \n\n     Popularity  Duration  Key  Mode    Tempo  Time_signature  ...  \\\n0            29        43    9     1  112.173               4  ...   \n2            29        50    0     1   90.588               3  ...   \n8            35       212    2     1   79.377               4  ...   \n30           45       157   11     0   76.146               4  ...   \n35           30       142    5     1   79.355               4  ...   \n98           34       117    7     1  136.596               4  ...   \n238          29       110    2     1  133.737               4  ...   \n\n     Weeks at No1 in UK (The Guardian)  Highest position (Billboard)  \\\n0                                  NaN                           NaN   \n2                                  NaN                           NaN   \n8                                  NaN                           NaN   \n30                                 NaN                           NaN   \n35                                 NaN                           NaN   \n98                                 NaN                           NaN   \n238                                NaN                           NaN   \n\n     Weeks at No1 (Billboard)  Top 50 (Billboard)  \\\n0                         NaN                 NaN   \n2                         NaN                 NaN   \n8                         NaN                 NaN   \n30                        NaN                 NaN   \n35                        NaN                 NaN   \n98                        NaN                 NaN   \n238                       NaN                 NaN   \n\n     Top 50 (Ultimate classic rock)  Top 50 (Rolling Stone)  Top 50 (NME)  \\\n0                               NaN                     NaN           NaN   \n2                               NaN                     NaN           NaN   \n8                               NaN                     NaN           NaN   \n30                              NaN                     NaN           NaN   \n35                              NaN                     NaN           NaN   \n98                              NaN                     NaN           NaN   \n238                             NaN                     NaN           NaN   \n\n     Top 50 (Top50songs.org) Top 50 (USA today, 2017)  \\\n0                        NaN                      NaN   \n2                        NaN                      NaN   \n8                        NaN                      NaN   \n30                       NaN                      NaN   \n35                       NaN                      NaN   \n98                       NaN                      NaN   \n238                      NaN                      NaN   \n\n     Top 50 (Vulture, by Bill Wyman)  \n0                                NaN  \n2                                NaN  \n8                                NaN  \n30                               NaN  \n35                               NaN  \n98                               NaN  \n238                              NaN  \n\n[7 rows x 45 columns]",
      "text/html": "<div>\n<style scoped>\n    .dataframe tbody tr th:only-of-type {\n        vertical-align: middle;\n    }\n\n    .dataframe tbody tr th {\n        vertical-align: top;\n    }\n\n    .dataframe thead th {\n        text-align: right;\n    }\n</style>\n<table border=\"1\" class=\"dataframe\">\n  <thead>\n    <tr style=\"text-align: right;\">\n      <th></th>\n      <th>URI</th>\n      <th>Title</th>\n      <th>Year</th>\n      <th>Album</th>\n      <th>Popularity</th>\n      <th>Duration</th>\n      <th>Key</th>\n      <th>Mode</th>\n      <th>Tempo</th>\n      <th>Time_signature</th>\n      <th>...</th>\n      <th>Weeks at No1 in UK (The Guardian)</th>\n      <th>Highest position (Billboard)</th>\n      <th>Weeks at No1 (Billboard)</th>\n      <th>Top 50 (Billboard)</th>\n      <th>Top 50 (Ultimate classic rock)</th>\n      <th>Top 50 (Rolling Stone)</th>\n      <th>Top 50 (NME)</th>\n      <th>Top 50 (Top50songs.org)</th>\n      <th>Top 50 (USA today, 2017)</th>\n      <th>Top 50 (Vulture, by Bill Wyman)</th>\n    </tr>\n  </thead>\n  <tbody>\n    <tr>\n      <th>0</th>\n      <td>spotify:track:2FDEHIMkjxFLzj688M2I3h</td>\n      <td>(You're So Square) Baby I Don't Care - Studio Jam</td>\n      <td>NaN</td>\n      <td>The Beatles</td>\n      <td>29</td>\n      <td>43</td>\n      <td>9</td>\n      <td>1</td>\n      <td>112.173</td>\n      <td>4</td>\n      <td>...</td>\n      <td>NaN</td>\n      <td>NaN</td>\n      <td>NaN</td>\n      <td>NaN</td>\n      <td>NaN</td>\n      <td>NaN</td>\n      <td>NaN</td>\n      <td>NaN</td>\n      <td>NaN</td>\n      <td>NaN</td>\n    </tr>\n    <tr>\n      <th>2</th>\n      <td>spotify:track:34dsKRJHIadrrNdCDtMwGn</td>\n      <td>A Beginning - Anthology 3 Version</td>\n      <td>NaN</td>\n      <td>Anthology 3</td>\n      <td>29</td>\n      <td>50</td>\n      <td>0</td>\n      <td>1</td>\n      <td>90.588</td>\n      <td>3</td>\n      <td>...</td>\n      <td>NaN</td>\n      <td>NaN</td>\n      <td>NaN</td>\n      <td>NaN</td>\n      <td>NaN</td>\n      <td>NaN</td>\n      <td>NaN</td>\n      <td>NaN</td>\n      <td>NaN</td>\n      <td>NaN</td>\n    </tr>\n    <tr>\n      <th>8</th>\n      <td>spotify:track:00fyPXxe2SCBHnFwEO9Eh1</td>\n      <td>Across the Universe - Take 2 / Anthology 2 Ver...</td>\n      <td>NaN</td>\n      <td>Anthology 2</td>\n      <td>35</td>\n      <td>212</td>\n      <td>2</td>\n      <td>1</td>\n      <td>79.377</td>\n      <td>4</td>\n      <td>...</td>\n      <td>NaN</td>\n      <td>NaN</td>\n      <td>NaN</td>\n      <td>NaN</td>\n      <td>NaN</td>\n      <td>NaN</td>\n      <td>NaN</td>\n      <td>NaN</td>\n      <td>NaN</td>\n      <td>NaN</td>\n    </tr>\n    <tr>\n      <th>30</th>\n      <td>spotify:track:2Qgak11t9BJHwkicG0WJQE</td>\n      <td>Besame Mucho</td>\n      <td>NaN</td>\n      <td>Anthology 1</td>\n      <td>45</td>\n      <td>157</td>\n      <td>11</td>\n      <td>0</td>\n      <td>76.146</td>\n      <td>4</td>\n      <td>...</td>\n      <td>NaN</td>\n      <td>NaN</td>\n      <td>NaN</td>\n      <td>NaN</td>\n      <td>NaN</td>\n      <td>NaN</td>\n      <td>NaN</td>\n      <td>NaN</td>\n      <td>NaN</td>\n      <td>NaN</td>\n    </tr>\n    <tr>\n      <th>35</th>\n      <td>spotify:track:5D6TY2nkWmC0fijXKuYQrm</td>\n      <td>Can You Take Me Back? - Take 1</td>\n      <td>NaN</td>\n      <td>The Beatles</td>\n      <td>30</td>\n      <td>142</td>\n      <td>5</td>\n      <td>1</td>\n      <td>79.355</td>\n      <td>4</td>\n      <td>...</td>\n      <td>NaN</td>\n      <td>NaN</td>\n      <td>NaN</td>\n      <td>NaN</td>\n      <td>NaN</td>\n      <td>NaN</td>\n      <td>NaN</td>\n      <td>NaN</td>\n      <td>NaN</td>\n      <td>NaN</td>\n    </tr>\n    <tr>\n      <th>98</th>\n      <td>spotify:track:0cyR03TLxoLceHKWs7UDDM</td>\n      <td>How Do You Do It?</td>\n      <td>NaN</td>\n      <td>Anthology 1</td>\n      <td>34</td>\n      <td>117</td>\n      <td>7</td>\n      <td>1</td>\n      <td>136.596</td>\n      <td>4</td>\n      <td>...</td>\n      <td>NaN</td>\n      <td>NaN</td>\n      <td>NaN</td>\n      <td>NaN</td>\n      <td>NaN</td>\n      <td>NaN</td>\n      <td>NaN</td>\n      <td>NaN</td>\n      <td>NaN</td>\n      <td>NaN</td>\n    </tr>\n    <tr>\n      <th>238</th>\n      <td>spotify:track:1j8M18rzGenrxvrbHNp8Aj</td>\n      <td>The Hippy Hippy Shake - Live at the Bbc for \"p...</td>\n      <td>NaN</td>\n      <td>Live At The BBC</td>\n      <td>29</td>\n      <td>110</td>\n      <td>2</td>\n      <td>1</td>\n      <td>133.737</td>\n      <td>4</td>\n      <td>...</td>\n      <td>NaN</td>\n      <td>NaN</td>\n      <td>NaN</td>\n      <td>NaN</td>\n      <td>NaN</td>\n      <td>NaN</td>\n      <td>NaN</td>\n      <td>NaN</td>\n      <td>NaN</td>\n      <td>NaN</td>\n    </tr>\n  </tbody>\n</table>\n<p>7 rows × 45 columns</p>\n</div>"
     },
     "metadata": {},
     "output_type": "display_data"
    }
   ],
   "source": [
    "condition = songs.Year.isnull()\n",
    "display(songs.loc[condition])"
   ],
   "metadata": {
    "collapsed": false,
    "ExecuteTime": {
     "end_time": "2023-09-13T19:46:47.726698800Z",
     "start_time": "2023-09-13T19:46:47.703734100Z"
    }
   },
   "id": "a6adedea7cf44a86"
  },
  {
   "cell_type": "markdown",
   "source": [
    "These missing values have been set manually as follows:\n",
    "* (You're So Square) Baby I Don't Care - 1968, since it's part of the Esher Demos\n",
    "* A Beginning - Anthology 3 Version - omitted completely from the dataset, it's too short and not really a Beatles song\n",
    "* Across the Universe - Take 2 / Anthology 2 Version - eliminated, only the version from the *Let It Be* album kept in the dataset\n",
    "* Besame Mucho - 1969 (The Beatles recorded this song during the Let It Be sessions)\n",
    "* Can You Take Me Back? - Take 1 - 1968, since it's part of the Esher Demos\n",
    "* How Do You Do It? - 1962 (ref. The Beatles Bible)\n",
    "* The Hippy Hippy Shake - Live at the BBC for ... - 1963\n",
    "\n",
    "The resulting dataframe has been manually saved as *The Beatles songs dataset, 284x45, v0.csv* dataset."
   ],
   "metadata": {
    "collapsed": false
   },
   "id": "ab50e3636952ca59"
  },
  {
   "cell_type": "code",
   "execution_count": 14,
   "outputs": [
    {
     "data": {
      "text/plain": "0"
     },
     "execution_count": 14,
     "metadata": {},
     "output_type": "execute_result"
    }
   ],
   "source": [
    "songs = pd.read_csv('../data/The Beatles songs dataset, 284x45, v0.csv')\n",
    "songs.Year.isnull().sum()"
   ],
   "metadata": {
    "collapsed": false,
    "ExecuteTime": {
     "end_time": "2023-09-13T20:12:44.616163100Z",
     "start_time": "2023-09-13T20:12:44.601832600Z"
    }
   },
   "id": "a5646e44c3df1068"
  },
  {
   "cell_type": "markdown",
   "source": [
    "##### *Album debut*"
   ],
   "metadata": {
    "collapsed": false
   },
   "id": "1ca9f8f37bc12f6f"
  },
  {
   "cell_type": "code",
   "execution_count": 48,
   "outputs": [
    {
     "data": {
      "text/plain": "(284, 45)"
     },
     "execution_count": 48,
     "metadata": {},
     "output_type": "execute_result"
    }
   ],
   "source": [
    "songs = pd.read_csv('../data/The Beatles songs dataset, 284x45, v0.csv')\n",
    "songs.shape"
   ],
   "metadata": {
    "collapsed": false,
    "ExecuteTime": {
     "end_time": "2023-09-13T20:49:42.164034700Z",
     "start_time": "2023-09-13T20:49:42.152876100Z"
    }
   },
   "id": "b472e62753ffdd1e"
  },
  {
   "cell_type": "markdown",
   "source": [
    "How many songs miss the value for *Year*?"
   ],
   "metadata": {
    "collapsed": false
   },
   "id": "420255aa3aeef536"
  },
  {
   "cell_type": "code",
   "execution_count": 49,
   "outputs": [
    {
     "data": {
      "text/plain": "9"
     },
     "execution_count": 49,
     "metadata": {},
     "output_type": "execute_result"
    }
   ],
   "source": [
    "songs['Album debut'].isnull().sum()"
   ],
   "metadata": {
    "collapsed": false,
    "ExecuteTime": {
     "end_time": "2023-09-13T20:49:58.245428400Z",
     "start_time": "2023-09-13T20:49:58.240775900Z"
    }
   },
   "id": "fdd8f78b4009b195"
  },
  {
   "cell_type": "markdown",
   "source": [
    "What are these songs?"
   ],
   "metadata": {
    "collapsed": false
   },
   "id": "2c009822aa239aa5"
  },
  {
   "cell_type": "code",
   "execution_count": 50,
   "outputs": [
    {
     "data": {
      "text/plain": "                                      URI  \\\n0    spotify:track:2FDEHIMkjxFLzj688M2I3h   \n28   spotify:track:2Qgak11t9BJHwkicG0WJQE   \n33   spotify:track:5D6TY2nkWmC0fijXKuYQrm   \n39   spotify:track:1MQhdLXEHmUWLF0bu7uVff   \n40   spotify:track:49GqhxyTdBXAn4cB8EAbTo   \n80   spotify:track:2cQGln8y7OgSOLxSHkgehd   \n82   spotify:track:5aOteYP6rA7vvBA7TG4Zpx   \n151  spotify:track:2yRHcIxk1tQp2Yb4CiCnxT   \n218  spotify:track:3LhwP2LcoiaIxMxRnU6zez   \n\n                                                 Title  Year  \\\n0    (You're So Square) Baby I Don't Care - Studio Jam  1968   \n28                                        Besame Mucho  1969   \n33                      Can You Take Me Back? - Take 1  1968   \n39                        Child Of Nature - Esher Demo  1968   \n40                                Circles - Esher Demo  1968   \n80                                             Goodbye  1969   \n82                           Hallelujah, I Love Her So  1960   \n151                         Los Paranoias - Studio Jam  1968   \n218                         Sour Milk Sea - Esher Demo  1968   \n\n                                 Album  Popularity  Duration  Key  Mode  \\\n0                          The Beatles          29        43    9     1   \n28                         Anthology 1          45       157   11     0   \n33                         The Beatles          30       142    5     1   \n39                         The Beatles          37       158    6     1   \n40                         The Beatles          30       137    8     1   \n80   Abbey Road (Super Deluxe Edition)          45       144   11     1   \n82                         Anthology 1          30        73    5     1   \n151                        The Beatles          27       238    0     1   \n218                        The Beatles          31       224    7     1   \n\n       Tempo  Time_signature  ...  Weeks at No1 in UK (The Guardian)  \\\n0    112.173               4  ...                                NaN   \n28    76.146               4  ...                                NaN   \n33    79.355               4  ...                                NaN   \n39    72.062               3  ...                                NaN   \n40   101.504               3  ...                                NaN   \n80   126.695               3  ...                                NaN   \n82   131.028               4  ...                                NaN   \n151  163.524               4  ...                                NaN   \n218  127.317               4  ...                                NaN   \n\n     Highest position (Billboard)  Weeks at No1 (Billboard)  \\\n0                             NaN                       NaN   \n28                            NaN                       NaN   \n33                            NaN                       NaN   \n39                            NaN                       NaN   \n40                            NaN                       NaN   \n80                            NaN                       NaN   \n82                            NaN                       NaN   \n151                           NaN                       NaN   \n218                           NaN                       NaN   \n\n     Top 50 (Billboard)  Top 50 (Ultimate classic rock)  \\\n0                   NaN                             NaN   \n28                  NaN                             NaN   \n33                  NaN                             NaN   \n39                  NaN                             NaN   \n40                  NaN                             NaN   \n80                  NaN                             NaN   \n82                  NaN                             NaN   \n151                 NaN                             NaN   \n218                 NaN                             NaN   \n\n     Top 50 (Rolling Stone)  Top 50 (NME)  Top 50 (Top50songs.org)  \\\n0                       NaN           NaN                      NaN   \n28                      NaN           NaN                      NaN   \n33                      NaN           NaN                      NaN   \n39                      NaN           NaN                      NaN   \n40                      NaN           NaN                      NaN   \n80                      NaN           NaN                      NaN   \n82                      NaN           NaN                      NaN   \n151                     NaN           NaN                      NaN   \n218                     NaN           NaN                      NaN   \n\n    Top 50 (USA today, 2017)  Top 50 (Vulture, by Bill Wyman)  \n0                        NaN                              NaN  \n28                       NaN                              NaN  \n33                       NaN                              NaN  \n39                       NaN                              NaN  \n40                       NaN                              NaN  \n80                       NaN                              NaN  \n82                       NaN                              NaN  \n151                      NaN                              NaN  \n218                      NaN                              NaN  \n\n[9 rows x 45 columns]",
      "text/html": "<div>\n<style scoped>\n    .dataframe tbody tr th:only-of-type {\n        vertical-align: middle;\n    }\n\n    .dataframe tbody tr th {\n        vertical-align: top;\n    }\n\n    .dataframe thead th {\n        text-align: right;\n    }\n</style>\n<table border=\"1\" class=\"dataframe\">\n  <thead>\n    <tr style=\"text-align: right;\">\n      <th></th>\n      <th>URI</th>\n      <th>Title</th>\n      <th>Year</th>\n      <th>Album</th>\n      <th>Popularity</th>\n      <th>Duration</th>\n      <th>Key</th>\n      <th>Mode</th>\n      <th>Tempo</th>\n      <th>Time_signature</th>\n      <th>...</th>\n      <th>Weeks at No1 in UK (The Guardian)</th>\n      <th>Highest position (Billboard)</th>\n      <th>Weeks at No1 (Billboard)</th>\n      <th>Top 50 (Billboard)</th>\n      <th>Top 50 (Ultimate classic rock)</th>\n      <th>Top 50 (Rolling Stone)</th>\n      <th>Top 50 (NME)</th>\n      <th>Top 50 (Top50songs.org)</th>\n      <th>Top 50 (USA today, 2017)</th>\n      <th>Top 50 (Vulture, by Bill Wyman)</th>\n    </tr>\n  </thead>\n  <tbody>\n    <tr>\n      <th>0</th>\n      <td>spotify:track:2FDEHIMkjxFLzj688M2I3h</td>\n      <td>(You're So Square) Baby I Don't Care - Studio Jam</td>\n      <td>1968</td>\n      <td>The Beatles</td>\n      <td>29</td>\n      <td>43</td>\n      <td>9</td>\n      <td>1</td>\n      <td>112.173</td>\n      <td>4</td>\n      <td>...</td>\n      <td>NaN</td>\n      <td>NaN</td>\n      <td>NaN</td>\n      <td>NaN</td>\n      <td>NaN</td>\n      <td>NaN</td>\n      <td>NaN</td>\n      <td>NaN</td>\n      <td>NaN</td>\n      <td>NaN</td>\n    </tr>\n    <tr>\n      <th>28</th>\n      <td>spotify:track:2Qgak11t9BJHwkicG0WJQE</td>\n      <td>Besame Mucho</td>\n      <td>1969</td>\n      <td>Anthology 1</td>\n      <td>45</td>\n      <td>157</td>\n      <td>11</td>\n      <td>0</td>\n      <td>76.146</td>\n      <td>4</td>\n      <td>...</td>\n      <td>NaN</td>\n      <td>NaN</td>\n      <td>NaN</td>\n      <td>NaN</td>\n      <td>NaN</td>\n      <td>NaN</td>\n      <td>NaN</td>\n      <td>NaN</td>\n      <td>NaN</td>\n      <td>NaN</td>\n    </tr>\n    <tr>\n      <th>33</th>\n      <td>spotify:track:5D6TY2nkWmC0fijXKuYQrm</td>\n      <td>Can You Take Me Back? - Take 1</td>\n      <td>1968</td>\n      <td>The Beatles</td>\n      <td>30</td>\n      <td>142</td>\n      <td>5</td>\n      <td>1</td>\n      <td>79.355</td>\n      <td>4</td>\n      <td>...</td>\n      <td>NaN</td>\n      <td>NaN</td>\n      <td>NaN</td>\n      <td>NaN</td>\n      <td>NaN</td>\n      <td>NaN</td>\n      <td>NaN</td>\n      <td>NaN</td>\n      <td>NaN</td>\n      <td>NaN</td>\n    </tr>\n    <tr>\n      <th>39</th>\n      <td>spotify:track:1MQhdLXEHmUWLF0bu7uVff</td>\n      <td>Child Of Nature - Esher Demo</td>\n      <td>1968</td>\n      <td>The Beatles</td>\n      <td>37</td>\n      <td>158</td>\n      <td>6</td>\n      <td>1</td>\n      <td>72.062</td>\n      <td>3</td>\n      <td>...</td>\n      <td>NaN</td>\n      <td>NaN</td>\n      <td>NaN</td>\n      <td>NaN</td>\n      <td>NaN</td>\n      <td>NaN</td>\n      <td>NaN</td>\n      <td>NaN</td>\n      <td>NaN</td>\n      <td>NaN</td>\n    </tr>\n    <tr>\n      <th>40</th>\n      <td>spotify:track:49GqhxyTdBXAn4cB8EAbTo</td>\n      <td>Circles - Esher Demo</td>\n      <td>1968</td>\n      <td>The Beatles</td>\n      <td>30</td>\n      <td>137</td>\n      <td>8</td>\n      <td>1</td>\n      <td>101.504</td>\n      <td>3</td>\n      <td>...</td>\n      <td>NaN</td>\n      <td>NaN</td>\n      <td>NaN</td>\n      <td>NaN</td>\n      <td>NaN</td>\n      <td>NaN</td>\n      <td>NaN</td>\n      <td>NaN</td>\n      <td>NaN</td>\n      <td>NaN</td>\n    </tr>\n    <tr>\n      <th>80</th>\n      <td>spotify:track:2cQGln8y7OgSOLxSHkgehd</td>\n      <td>Goodbye</td>\n      <td>1969</td>\n      <td>Abbey Road (Super Deluxe Edition)</td>\n      <td>45</td>\n      <td>144</td>\n      <td>11</td>\n      <td>1</td>\n      <td>126.695</td>\n      <td>3</td>\n      <td>...</td>\n      <td>NaN</td>\n      <td>NaN</td>\n      <td>NaN</td>\n      <td>NaN</td>\n      <td>NaN</td>\n      <td>NaN</td>\n      <td>NaN</td>\n      <td>NaN</td>\n      <td>NaN</td>\n      <td>NaN</td>\n    </tr>\n    <tr>\n      <th>82</th>\n      <td>spotify:track:5aOteYP6rA7vvBA7TG4Zpx</td>\n      <td>Hallelujah, I Love Her So</td>\n      <td>1960</td>\n      <td>Anthology 1</td>\n      <td>30</td>\n      <td>73</td>\n      <td>5</td>\n      <td>1</td>\n      <td>131.028</td>\n      <td>4</td>\n      <td>...</td>\n      <td>NaN</td>\n      <td>NaN</td>\n      <td>NaN</td>\n      <td>NaN</td>\n      <td>NaN</td>\n      <td>NaN</td>\n      <td>NaN</td>\n      <td>NaN</td>\n      <td>NaN</td>\n      <td>NaN</td>\n    </tr>\n    <tr>\n      <th>151</th>\n      <td>spotify:track:2yRHcIxk1tQp2Yb4CiCnxT</td>\n      <td>Los Paranoias - Studio Jam</td>\n      <td>1968</td>\n      <td>The Beatles</td>\n      <td>27</td>\n      <td>238</td>\n      <td>0</td>\n      <td>1</td>\n      <td>163.524</td>\n      <td>4</td>\n      <td>...</td>\n      <td>NaN</td>\n      <td>NaN</td>\n      <td>NaN</td>\n      <td>NaN</td>\n      <td>NaN</td>\n      <td>NaN</td>\n      <td>NaN</td>\n      <td>NaN</td>\n      <td>NaN</td>\n      <td>NaN</td>\n    </tr>\n    <tr>\n      <th>218</th>\n      <td>spotify:track:3LhwP2LcoiaIxMxRnU6zez</td>\n      <td>Sour Milk Sea - Esher Demo</td>\n      <td>1968</td>\n      <td>The Beatles</td>\n      <td>31</td>\n      <td>224</td>\n      <td>7</td>\n      <td>1</td>\n      <td>127.317</td>\n      <td>4</td>\n      <td>...</td>\n      <td>NaN</td>\n      <td>NaN</td>\n      <td>NaN</td>\n      <td>NaN</td>\n      <td>NaN</td>\n      <td>NaN</td>\n      <td>NaN</td>\n      <td>NaN</td>\n      <td>NaN</td>\n      <td>NaN</td>\n    </tr>\n  </tbody>\n</table>\n<p>9 rows × 45 columns</p>\n</div>"
     },
     "metadata": {},
     "output_type": "display_data"
    }
   ],
   "source": [
    "condition = songs['Album debut'].isnull()\n",
    "display(songs.loc[condition])"
   ],
   "metadata": {
    "collapsed": false,
    "ExecuteTime": {
     "end_time": "2023-09-13T20:50:01.458055600Z",
     "start_time": "2023-09-13T20:50:01.432797600Z"
    }
   },
   "id": "87dd945099e42977"
  },
  {
   "cell_type": "code",
   "execution_count": 51,
   "outputs": [
    {
     "data": {
      "text/plain": "Int64Index([0, 28, 33, 39, 40, 80, 82, 151, 218], dtype='int64')"
     },
     "execution_count": 51,
     "metadata": {},
     "output_type": "execute_result"
    }
   ],
   "source": [
    "i = songs.loc[condition].index\n",
    "i"
   ],
   "metadata": {
    "collapsed": false,
    "ExecuteTime": {
     "end_time": "2023-09-13T20:50:04.620356Z",
     "start_time": "2023-09-13T20:50:04.615859Z"
    }
   },
   "id": "b844cf9f8de21d15"
  },
  {
   "cell_type": "markdown",
   "source": [
    "Replace the missing *Album debut* values with the corresponding *Album* values."
   ],
   "metadata": {
    "collapsed": false
   },
   "id": "23062c0e6776cb6"
  },
  {
   "cell_type": "code",
   "execution_count": 59,
   "outputs": [
    {
     "data": {
      "text/plain": "0                            The Beatles\n28                           Anthology 1\n33                           The Beatles\n39                           The Beatles\n40                           The Beatles\n80     Abbey Road (Super Deluxe Edition)\n82                           Anthology 1\n151                          The Beatles\n218                          The Beatles\nName: Album debut, dtype: object"
     },
     "execution_count": 59,
     "metadata": {},
     "output_type": "execute_result"
    }
   ],
   "source": [
    "album = songs.loc[condition].Album\n",
    "songs.loc[condition, 'Album debut'] = album\n",
    "songs.loc[condition, 'Album debut']"
   ],
   "metadata": {
    "collapsed": false,
    "ExecuteTime": {
     "end_time": "2023-09-13T20:56:02.217575200Z",
     "start_time": "2023-09-13T20:56:02.211040300Z"
    }
   },
   "id": "a2146a65c324da66"
  },
  {
   "cell_type": "code",
   "execution_count": 63,
   "outputs": [
    {
     "data": {
      "text/plain": "(284, 45)"
     },
     "metadata": {},
     "output_type": "display_data"
    },
    {
     "data": {
      "text/plain": "0"
     },
     "execution_count": 63,
     "metadata": {},
     "output_type": "execute_result"
    }
   ],
   "source": [
    "display(songs.shape)\n",
    "songs['Album debut'].isnull().sum()"
   ],
   "metadata": {
    "collapsed": false,
    "ExecuteTime": {
     "end_time": "2023-09-13T21:01:29.226340700Z",
     "start_time": "2023-09-13T21:01:29.218363500Z"
    }
   },
   "id": "bde17f33d911775e"
  },
  {
   "cell_type": "markdown",
   "source": [
    "Save the resulting dataframe as *The Beatles songs dataset, 284x45, v1.csv*."
   ],
   "metadata": {
    "collapsed": false
   },
   "id": "b4639aa404ecfb4f"
  },
  {
   "cell_type": "code",
   "execution_count": 61,
   "outputs": [],
   "source": [
    "songs.to_csv('../data/The Beatles songs dataset, 284x45, v1.csv')"
   ],
   "metadata": {
    "collapsed": false,
    "ExecuteTime": {
     "end_time": "2023-09-13T20:58:34.673146800Z",
     "start_time": "2023-09-13T20:58:34.662255300Z"
    }
   },
   "id": "f5412cddba7c3327"
  }
 ],
 "metadata": {
  "kernelspec": {
   "display_name": "Python 3",
   "language": "python",
   "name": "python3"
  },
  "language_info": {
   "codemirror_mode": {
    "name": "ipython",
    "version": 2
   },
   "file_extension": ".py",
   "mimetype": "text/x-python",
   "name": "python",
   "nbconvert_exporter": "python",
   "pygments_lexer": "ipython2",
   "version": "2.7.6"
  }
 },
 "nbformat": 4,
 "nbformat_minor": 5
}
