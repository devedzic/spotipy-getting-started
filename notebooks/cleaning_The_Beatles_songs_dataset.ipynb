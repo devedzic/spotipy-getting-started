{
 "cells": [
  {
   "cell_type": "markdown",
   "source": [
    "# Cleaning The Beatles songs dataset\n",
    "Starting point: The Beatles songs dataset created in the end of the *crafting_The_Beatles_songs_dataset.ipynb*."
   ],
   "metadata": {
    "collapsed": false
   },
   "id": "9142d79c3b738a3e"
  },
  {
   "cell_type": "markdown",
   "source": [
    "## Import statements"
   ],
   "metadata": {
    "collapsed": false
   },
   "id": "25c61323ba8c5efd"
  },
  {
   "cell_type": "code",
   "execution_count": 1,
   "outputs": [],
   "source": [
    "import pandas as pd"
   ],
   "metadata": {
    "collapsed": false,
    "ExecuteTime": {
     "end_time": "2023-09-15T16:00:35.569930400Z",
     "start_time": "2023-09-15T16:00:33.641456400Z"
    }
   },
   "id": "ad07df19e919bb90"
  },
  {
   "cell_type": "markdown",
   "source": [
    "## Read the dataset\n",
    "Use The Beatles songs dataset created in the end of the *crafting_The_Beatles_songs_dataset.ipynb*, `The Beatles songs dataset, 285x45, v0.csv`."
   ],
   "metadata": {
    "collapsed": false
   },
   "id": "3076f26a157ca78c"
  },
  {
   "cell_type": "code",
   "execution_count": 3,
   "outputs": [],
   "source": [
    "songs = pd.read_csv('../data/The Beatles songs dataset, 285x45, v0.csv')"
   ],
   "metadata": {
    "collapsed": false,
    "ExecuteTime": {
     "end_time": "2023-09-13T15:44:11.096243300Z",
     "start_time": "2023-09-13T15:44:11.080477600Z"
    }
   },
   "id": "285179a3aa0a8430"
  },
  {
   "cell_type": "markdown",
   "source": [
    "## Remove *NaN* and other missing values from the dataset"
   ],
   "metadata": {
    "collapsed": false
   },
   "id": "8c050f2ca0fa7ab1"
  },
  {
   "cell_type": "markdown",
   "source": [
    "### Check the dataset for *NaN* values"
   ],
   "metadata": {
    "collapsed": false
   },
   "id": "7f7b80527a6f99bb"
  },
  {
   "cell_type": "code",
   "execution_count": 5,
   "outputs": [
    {
     "data": {
      "text/plain": "URI                                      0\nTitle                                    0\nYear                                     8\nAlbum                                    1\nPopularity                               0\nDuration                                 0\nKey                                      0\nMode                                     0\nTempo                                    0\nTime_signature                           0\nValence                                  0\nDanceability                             0\nEnergy                                   0\nLoudness                                 0\nAcousticness                             0\nInstrumentalness                         0\nLiveness                                 0\nSpeechiness                              0\nAlbum debut                             10\nOther releases                          72\nSingle A side                          195\nSingle B side                          195\nSingle certification                   235\nGenre                                    7\nStyles                                  28\nThemes                                 101\nMoods                                   25\nSongwriter(s)                            7\nLead vocal(s)                           12\nCover                                  219\nCovered by                             103\nChart position UK (Wikipedia)          240\nChart position US (Wikipedia)          218\nHighest position (The Guardian)        254\nWeeks on chart in UK (The Guardian)    254\nWeeks at No1 in UK (The Guardian)      269\nHighest position (Billboard)           236\nWeeks at No1 (Billboard)               270\nTop 50 (Billboard)                     236\nTop 50 (Ultimate classic rock)         236\nTop 50 (Rolling Stone)                 236\nTop 50 (NME)                           236\nTop 50 (Top50songs.org)                235\nTop 50 (USA today, 2017)               235\nTop 50 (Vulture, by Bill Wyman)        243\ndtype: int64"
     },
     "metadata": {},
     "output_type": "display_data"
    }
   ],
   "source": [
    "display(songs.isnull().sum())"
   ],
   "metadata": {
    "collapsed": false,
    "ExecuteTime": {
     "end_time": "2023-09-13T15:52:13.423831100Z",
     "start_time": "2023-09-13T15:52:13.416350Z"
    }
   },
   "id": "77a5b37b778b2d0d"
  },
  {
   "cell_type": "markdown",
   "source": [
    "Obviously, the audio features from Spotify are all there. \n",
    "The missing values for `Album`, `Year`, `Album debut`, `Genre` and `Songwriter(s)` are very few and are best inspected and eliminated manually. In the case of `Album` and `Album debut`, the values from the two columns are compared for validation purposes and the more likely value from the two columns is used (the other one is discarded as erroneous).\n",
    "The missing values for `Styles`, `Moods`, `Themes` and `Lead vocal(s)` are also inspected manually and are filled in based on VD's experience and on consulting additional Websites on the Internet, notably [AllMusic](https://www.allmusic.com/).\n",
    "As for `Other releases`, the missing values are filled with 0s. In some cases, this choice is questionable, since some songs have been released on, say, *Anthology* series only, and they represent early versions of the songs subsequently released on The Beatles members' solo albums after the breakup (e.g., *All Things Must Pass*). The criterion for filling the missing value with 0 was that there were no other releases of the same song by all four Beatles.\n",
    "All missing values for `Cover` are set to 'N' and then double-checked manually, and all missing values for `Covered by` are set to 0 (also double-checked manually).\n",
    "All missing values in columns `Chart position UK (Wikipedia)` : `Top 50 (Vulture, by Bill Wyman)` are set to 0."
   ],
   "metadata": {
    "collapsed": false
   },
   "id": "31a865d94e2e2fb9"
  },
  {
   "cell_type": "markdown",
   "source": [
    "### *Album*, *Year*, *Album debut*, *Genre* and *Songwriter(s)*"
   ],
   "metadata": {
    "collapsed": false
   },
   "id": "2441a09481a16172"
  },
  {
   "cell_type": "markdown",
   "source": [
    "##### *Album*"
   ],
   "metadata": {
    "collapsed": false
   },
   "id": "6790d0b4937dc5cf"
  },
  {
   "cell_type": "code",
   "execution_count": 9,
   "outputs": [
    {
     "data": {
      "text/plain": "1"
     },
     "execution_count": 9,
     "metadata": {},
     "output_type": "execute_result"
    }
   ],
   "source": [
    "condition = songs.Album.isnull()\n",
    "songs.Album.isnull().sum()"
   ],
   "metadata": {
    "collapsed": false,
    "ExecuteTime": {
     "end_time": "2023-09-13T18:29:23.973208700Z",
     "start_time": "2023-09-13T18:29:23.967682400Z"
    }
   },
   "id": "70b2992e9b80a1b3"
  },
  {
   "cell_type": "markdown",
   "source": [
    "Careful manual inspection has shown that both *Album* and *Album debut* are missing for the corresponding song - *Sour Milk Sea, Esher Demo* - as well as that another song - *Child of Nature* - has not been included in *The Beatles songs dataset, 285x45, v0.csv* dataset. Thus another auxiliary dataframe has been created in the *tracks.ipynb* notebook in the end, with songs from the *Esher Demos* playlist only (`THE_ESHER_DEMOS_PLAYLIST = 'https://open.spotify.com/playlist/1ACQGYUwU0mkFoIu9ac4Tu?si=bc8505d1cd064300'`), and the data from that dataframe have been manually added to *The Beatles songs dataset, 285x45, v0.csv* dataset to make it more complete. The resulting dataframe has been manually saved as *The Beatles songs dataset, 286x45, v0.csv* dataset."
   ],
   "metadata": {
    "collapsed": false
   },
   "id": "f684114a8b3b12da"
  },
  {
   "cell_type": "code",
   "execution_count": 11,
   "outputs": [
    {
     "data": {
      "text/plain": "0"
     },
     "execution_count": 11,
     "metadata": {},
     "output_type": "execute_result"
    }
   ],
   "source": [
    "songs = pd.read_csv('../data/The Beatles songs dataset, 286x45, v0.csv')\n",
    "songs.Album.isnull().sum()"
   ],
   "metadata": {
    "collapsed": false,
    "ExecuteTime": {
     "end_time": "2023-09-13T19:24:55.665841800Z",
     "start_time": "2023-09-13T19:24:55.654842200Z"
    }
   },
   "id": "b6fb246b9cdceb31"
  },
  {
   "cell_type": "markdown",
   "source": [
    "##### *Year*"
   ],
   "metadata": {
    "collapsed": false
   },
   "id": "e6e215596ca3f568"
  },
  {
   "cell_type": "markdown",
   "source": [
    "How many songs miss the value for *Year*?"
   ],
   "metadata": {
    "collapsed": false
   },
   "id": "a4b79129f3ce54c5"
  },
  {
   "cell_type": "code",
   "execution_count": 12,
   "outputs": [
    {
     "data": {
      "text/plain": "7"
     },
     "execution_count": 12,
     "metadata": {},
     "output_type": "execute_result"
    }
   ],
   "source": [
    "songs.Year.isnull().sum()"
   ],
   "metadata": {
    "collapsed": false,
    "ExecuteTime": {
     "end_time": "2023-09-13T19:45:59.566656300Z",
     "start_time": "2023-09-13T19:45:59.561109900Z"
    }
   },
   "id": "db8a550f67a1d54b"
  },
  {
   "cell_type": "markdown",
   "source": [
    "What are these songs?"
   ],
   "metadata": {
    "collapsed": false
   },
   "id": "55fd939029136480"
  },
  {
   "cell_type": "code",
   "execution_count": 13,
   "outputs": [
    {
     "data": {
      "text/plain": "                                      URI  \\\n0    spotify:track:2FDEHIMkjxFLzj688M2I3h   \n2    spotify:track:34dsKRJHIadrrNdCDtMwGn   \n8    spotify:track:00fyPXxe2SCBHnFwEO9Eh1   \n30   spotify:track:2Qgak11t9BJHwkicG0WJQE   \n35   spotify:track:5D6TY2nkWmC0fijXKuYQrm   \n98   spotify:track:0cyR03TLxoLceHKWs7UDDM   \n238  spotify:track:1j8M18rzGenrxvrbHNp8Aj   \n\n                                                 Title Year            Album  \\\n0    (You're So Square) Baby I Don't Care - Studio Jam  NaN      The Beatles   \n2                    A Beginning - Anthology 3 Version  NaN      Anthology 3   \n8    Across the Universe - Take 2 / Anthology 2 Ver...  NaN      Anthology 2   \n30                                        Besame Mucho  NaN      Anthology 1   \n35                      Can You Take Me Back? - Take 1  NaN      The Beatles   \n98                                   How Do You Do It?  NaN      Anthology 1   \n238  The Hippy Hippy Shake - Live at the Bbc for \"p...  NaN  Live At The BBC   \n\n     Popularity  Duration  Key  Mode    Tempo  Time_signature  ...  \\\n0            29        43    9     1  112.173               4  ...   \n2            29        50    0     1   90.588               3  ...   \n8            35       212    2     1   79.377               4  ...   \n30           45       157   11     0   76.146               4  ...   \n35           30       142    5     1   79.355               4  ...   \n98           34       117    7     1  136.596               4  ...   \n238          29       110    2     1  133.737               4  ...   \n\n     Weeks at No1 in UK (The Guardian)  Highest position (Billboard)  \\\n0                                  NaN                           NaN   \n2                                  NaN                           NaN   \n8                                  NaN                           NaN   \n30                                 NaN                           NaN   \n35                                 NaN                           NaN   \n98                                 NaN                           NaN   \n238                                NaN                           NaN   \n\n     Weeks at No1 (Billboard)  Top 50 (Billboard)  \\\n0                         NaN                 NaN   \n2                         NaN                 NaN   \n8                         NaN                 NaN   \n30                        NaN                 NaN   \n35                        NaN                 NaN   \n98                        NaN                 NaN   \n238                       NaN                 NaN   \n\n     Top 50 (Ultimate classic rock)  Top 50 (Rolling Stone)  Top 50 (NME)  \\\n0                               NaN                     NaN           NaN   \n2                               NaN                     NaN           NaN   \n8                               NaN                     NaN           NaN   \n30                              NaN                     NaN           NaN   \n35                              NaN                     NaN           NaN   \n98                              NaN                     NaN           NaN   \n238                             NaN                     NaN           NaN   \n\n     Top 50 (Top50songs.org) Top 50 (USA today, 2017)  \\\n0                        NaN                      NaN   \n2                        NaN                      NaN   \n8                        NaN                      NaN   \n30                       NaN                      NaN   \n35                       NaN                      NaN   \n98                       NaN                      NaN   \n238                      NaN                      NaN   \n\n     Top 50 (Vulture, by Bill Wyman)  \n0                                NaN  \n2                                NaN  \n8                                NaN  \n30                               NaN  \n35                               NaN  \n98                               NaN  \n238                              NaN  \n\n[7 rows x 45 columns]",
      "text/html": "<div>\n<style scoped>\n    .dataframe tbody tr th:only-of-type {\n        vertical-align: middle;\n    }\n\n    .dataframe tbody tr th {\n        vertical-align: top;\n    }\n\n    .dataframe thead th {\n        text-align: right;\n    }\n</style>\n<table border=\"1\" class=\"dataframe\">\n  <thead>\n    <tr style=\"text-align: right;\">\n      <th></th>\n      <th>URI</th>\n      <th>Title</th>\n      <th>Year</th>\n      <th>Album</th>\n      <th>Popularity</th>\n      <th>Duration</th>\n      <th>Key</th>\n      <th>Mode</th>\n      <th>Tempo</th>\n      <th>Time_signature</th>\n      <th>...</th>\n      <th>Weeks at No1 in UK (The Guardian)</th>\n      <th>Highest position (Billboard)</th>\n      <th>Weeks at No1 (Billboard)</th>\n      <th>Top 50 (Billboard)</th>\n      <th>Top 50 (Ultimate classic rock)</th>\n      <th>Top 50 (Rolling Stone)</th>\n      <th>Top 50 (NME)</th>\n      <th>Top 50 (Top50songs.org)</th>\n      <th>Top 50 (USA today, 2017)</th>\n      <th>Top 50 (Vulture, by Bill Wyman)</th>\n    </tr>\n  </thead>\n  <tbody>\n    <tr>\n      <th>0</th>\n      <td>spotify:track:2FDEHIMkjxFLzj688M2I3h</td>\n      <td>(You're So Square) Baby I Don't Care - Studio Jam</td>\n      <td>NaN</td>\n      <td>The Beatles</td>\n      <td>29</td>\n      <td>43</td>\n      <td>9</td>\n      <td>1</td>\n      <td>112.173</td>\n      <td>4</td>\n      <td>...</td>\n      <td>NaN</td>\n      <td>NaN</td>\n      <td>NaN</td>\n      <td>NaN</td>\n      <td>NaN</td>\n      <td>NaN</td>\n      <td>NaN</td>\n      <td>NaN</td>\n      <td>NaN</td>\n      <td>NaN</td>\n    </tr>\n    <tr>\n      <th>2</th>\n      <td>spotify:track:34dsKRJHIadrrNdCDtMwGn</td>\n      <td>A Beginning - Anthology 3 Version</td>\n      <td>NaN</td>\n      <td>Anthology 3</td>\n      <td>29</td>\n      <td>50</td>\n      <td>0</td>\n      <td>1</td>\n      <td>90.588</td>\n      <td>3</td>\n      <td>...</td>\n      <td>NaN</td>\n      <td>NaN</td>\n      <td>NaN</td>\n      <td>NaN</td>\n      <td>NaN</td>\n      <td>NaN</td>\n      <td>NaN</td>\n      <td>NaN</td>\n      <td>NaN</td>\n      <td>NaN</td>\n    </tr>\n    <tr>\n      <th>8</th>\n      <td>spotify:track:00fyPXxe2SCBHnFwEO9Eh1</td>\n      <td>Across the Universe - Take 2 / Anthology 2 Ver...</td>\n      <td>NaN</td>\n      <td>Anthology 2</td>\n      <td>35</td>\n      <td>212</td>\n      <td>2</td>\n      <td>1</td>\n      <td>79.377</td>\n      <td>4</td>\n      <td>...</td>\n      <td>NaN</td>\n      <td>NaN</td>\n      <td>NaN</td>\n      <td>NaN</td>\n      <td>NaN</td>\n      <td>NaN</td>\n      <td>NaN</td>\n      <td>NaN</td>\n      <td>NaN</td>\n      <td>NaN</td>\n    </tr>\n    <tr>\n      <th>30</th>\n      <td>spotify:track:2Qgak11t9BJHwkicG0WJQE</td>\n      <td>Besame Mucho</td>\n      <td>NaN</td>\n      <td>Anthology 1</td>\n      <td>45</td>\n      <td>157</td>\n      <td>11</td>\n      <td>0</td>\n      <td>76.146</td>\n      <td>4</td>\n      <td>...</td>\n      <td>NaN</td>\n      <td>NaN</td>\n      <td>NaN</td>\n      <td>NaN</td>\n      <td>NaN</td>\n      <td>NaN</td>\n      <td>NaN</td>\n      <td>NaN</td>\n      <td>NaN</td>\n      <td>NaN</td>\n    </tr>\n    <tr>\n      <th>35</th>\n      <td>spotify:track:5D6TY2nkWmC0fijXKuYQrm</td>\n      <td>Can You Take Me Back? - Take 1</td>\n      <td>NaN</td>\n      <td>The Beatles</td>\n      <td>30</td>\n      <td>142</td>\n      <td>5</td>\n      <td>1</td>\n      <td>79.355</td>\n      <td>4</td>\n      <td>...</td>\n      <td>NaN</td>\n      <td>NaN</td>\n      <td>NaN</td>\n      <td>NaN</td>\n      <td>NaN</td>\n      <td>NaN</td>\n      <td>NaN</td>\n      <td>NaN</td>\n      <td>NaN</td>\n      <td>NaN</td>\n    </tr>\n    <tr>\n      <th>98</th>\n      <td>spotify:track:0cyR03TLxoLceHKWs7UDDM</td>\n      <td>How Do You Do It?</td>\n      <td>NaN</td>\n      <td>Anthology 1</td>\n      <td>34</td>\n      <td>117</td>\n      <td>7</td>\n      <td>1</td>\n      <td>136.596</td>\n      <td>4</td>\n      <td>...</td>\n      <td>NaN</td>\n      <td>NaN</td>\n      <td>NaN</td>\n      <td>NaN</td>\n      <td>NaN</td>\n      <td>NaN</td>\n      <td>NaN</td>\n      <td>NaN</td>\n      <td>NaN</td>\n      <td>NaN</td>\n    </tr>\n    <tr>\n      <th>238</th>\n      <td>spotify:track:1j8M18rzGenrxvrbHNp8Aj</td>\n      <td>The Hippy Hippy Shake - Live at the Bbc for \"p...</td>\n      <td>NaN</td>\n      <td>Live At The BBC</td>\n      <td>29</td>\n      <td>110</td>\n      <td>2</td>\n      <td>1</td>\n      <td>133.737</td>\n      <td>4</td>\n      <td>...</td>\n      <td>NaN</td>\n      <td>NaN</td>\n      <td>NaN</td>\n      <td>NaN</td>\n      <td>NaN</td>\n      <td>NaN</td>\n      <td>NaN</td>\n      <td>NaN</td>\n      <td>NaN</td>\n      <td>NaN</td>\n    </tr>\n  </tbody>\n</table>\n<p>7 rows × 45 columns</p>\n</div>"
     },
     "metadata": {},
     "output_type": "display_data"
    }
   ],
   "source": [
    "condition = songs.Year.isnull()\n",
    "display(songs.loc[condition])"
   ],
   "metadata": {
    "collapsed": false,
    "ExecuteTime": {
     "end_time": "2023-09-13T19:46:47.726698800Z",
     "start_time": "2023-09-13T19:46:47.703734100Z"
    }
   },
   "id": "a6adedea7cf44a86"
  },
  {
   "cell_type": "markdown",
   "source": [
    "These missing values have been set manually as follows:\n",
    "* (You're So Square) Baby I Don't Care - 1968, since it's part of the Esher Demos\n",
    "* A Beginning - Anthology 3 Version - omitted completely from the dataset, it's too short and not really a Beatles song\n",
    "* Across the Universe - Take 2 / Anthology 2 Version - eliminated, only the version from the *Let It Be* album kept in the dataset\n",
    "* Besame Mucho - 1969 (The Beatles recorded this song during the Let It Be sessions)\n",
    "* Can You Take Me Back? - Take 1 - 1968, since it's part of the Esher Demos\n",
    "* How Do You Do It? - 1962 (ref. The Beatles Bible)\n",
    "* The Hippy Hippy Shake - Live at the BBC for ... - 1963\n",
    "\n",
    "The resulting dataframe has been manually saved as *The Beatles songs dataset, 284x45, v0.csv* dataset."
   ],
   "metadata": {
    "collapsed": false
   },
   "id": "ab50e3636952ca59"
  },
  {
   "cell_type": "code",
   "execution_count": 14,
   "outputs": [
    {
     "data": {
      "text/plain": "0"
     },
     "execution_count": 14,
     "metadata": {},
     "output_type": "execute_result"
    }
   ],
   "source": [
    "songs = pd.read_csv('../data/The Beatles songs dataset, 284x45, v0.csv')\n",
    "songs.Year.isnull().sum()"
   ],
   "metadata": {
    "collapsed": false,
    "ExecuteTime": {
     "end_time": "2023-09-13T20:12:44.616163100Z",
     "start_time": "2023-09-13T20:12:44.601832600Z"
    }
   },
   "id": "a5646e44c3df1068"
  },
  {
   "cell_type": "markdown",
   "source": [
    "##### *Album debut*"
   ],
   "metadata": {
    "collapsed": false
   },
   "id": "1ca9f8f37bc12f6f"
  },
  {
   "cell_type": "code",
   "execution_count": 67,
   "outputs": [
    {
     "data": {
      "text/plain": "(284, 45)"
     },
     "execution_count": 67,
     "metadata": {},
     "output_type": "execute_result"
    }
   ],
   "source": [
    "songs = pd.read_csv('../data/The Beatles songs dataset, 284x45, v0.csv')\n",
    "songs.shape"
   ],
   "metadata": {
    "collapsed": false,
    "ExecuteTime": {
     "end_time": "2023-09-14T07:35:24.682666Z",
     "start_time": "2023-09-14T07:35:24.670300500Z"
    }
   },
   "id": "b472e62753ffdd1e"
  },
  {
   "cell_type": "markdown",
   "source": [
    "How many songs miss the value for *Year*?"
   ],
   "metadata": {
    "collapsed": false
   },
   "id": "420255aa3aeef536"
  },
  {
   "cell_type": "code",
   "execution_count": 68,
   "outputs": [
    {
     "data": {
      "text/plain": "9"
     },
     "execution_count": 68,
     "metadata": {},
     "output_type": "execute_result"
    }
   ],
   "source": [
    "songs['Album debut'].isnull().sum()"
   ],
   "metadata": {
    "collapsed": false,
    "ExecuteTime": {
     "end_time": "2023-09-14T07:35:31.611880800Z",
     "start_time": "2023-09-14T07:35:31.604299700Z"
    }
   },
   "id": "fdd8f78b4009b195"
  },
  {
   "cell_type": "markdown",
   "source": [
    "What are these songs?"
   ],
   "metadata": {
    "collapsed": false
   },
   "id": "2c009822aa239aa5"
  },
  {
   "cell_type": "code",
   "execution_count": 69,
   "outputs": [
    {
     "data": {
      "text/plain": "                                      URI  \\\n0    spotify:track:2FDEHIMkjxFLzj688M2I3h   \n28   spotify:track:2Qgak11t9BJHwkicG0WJQE   \n33   spotify:track:5D6TY2nkWmC0fijXKuYQrm   \n39   spotify:track:1MQhdLXEHmUWLF0bu7uVff   \n40   spotify:track:49GqhxyTdBXAn4cB8EAbTo   \n80   spotify:track:2cQGln8y7OgSOLxSHkgehd   \n82   spotify:track:5aOteYP6rA7vvBA7TG4Zpx   \n151  spotify:track:2yRHcIxk1tQp2Yb4CiCnxT   \n218  spotify:track:3LhwP2LcoiaIxMxRnU6zez   \n\n                                                 Title  Year  \\\n0    (You're So Square) Baby I Don't Care - Studio Jam  1968   \n28                                        Besame Mucho  1969   \n33                      Can You Take Me Back? - Take 1  1968   \n39                        Child Of Nature - Esher Demo  1968   \n40                                Circles - Esher Demo  1968   \n80                                             Goodbye  1969   \n82                           Hallelujah, I Love Her So  1960   \n151                         Los Paranoias - Studio Jam  1968   \n218                         Sour Milk Sea - Esher Demo  1968   \n\n                                 Album  Popularity  Duration  Key  Mode  \\\n0                          The Beatles          29        43    9     1   \n28                         Anthology 1          45       157   11     0   \n33                         The Beatles          30       142    5     1   \n39                         The Beatles          37       158    6     1   \n40                         The Beatles          30       137    8     1   \n80   Abbey Road (Super Deluxe Edition)          45       144   11     1   \n82                         Anthology 1          30        73    5     1   \n151                        The Beatles          27       238    0     1   \n218                        The Beatles          31       224    7     1   \n\n       Tempo  Time_signature  ...  Weeks at No1 in UK (The Guardian)  \\\n0    112.173               4  ...                                NaN   \n28    76.146               4  ...                                NaN   \n33    79.355               4  ...                                NaN   \n39    72.062               3  ...                                NaN   \n40   101.504               3  ...                                NaN   \n80   126.695               3  ...                                NaN   \n82   131.028               4  ...                                NaN   \n151  163.524               4  ...                                NaN   \n218  127.317               4  ...                                NaN   \n\n     Highest position (Billboard)  Weeks at No1 (Billboard)  \\\n0                             NaN                       NaN   \n28                            NaN                       NaN   \n33                            NaN                       NaN   \n39                            NaN                       NaN   \n40                            NaN                       NaN   \n80                            NaN                       NaN   \n82                            NaN                       NaN   \n151                           NaN                       NaN   \n218                           NaN                       NaN   \n\n     Top 50 (Billboard)  Top 50 (Ultimate classic rock)  \\\n0                   NaN                             NaN   \n28                  NaN                             NaN   \n33                  NaN                             NaN   \n39                  NaN                             NaN   \n40                  NaN                             NaN   \n80                  NaN                             NaN   \n82                  NaN                             NaN   \n151                 NaN                             NaN   \n218                 NaN                             NaN   \n\n     Top 50 (Rolling Stone)  Top 50 (NME)  Top 50 (Top50songs.org)  \\\n0                       NaN           NaN                      NaN   \n28                      NaN           NaN                      NaN   \n33                      NaN           NaN                      NaN   \n39                      NaN           NaN                      NaN   \n40                      NaN           NaN                      NaN   \n80                      NaN           NaN                      NaN   \n82                      NaN           NaN                      NaN   \n151                     NaN           NaN                      NaN   \n218                     NaN           NaN                      NaN   \n\n    Top 50 (USA today, 2017)  Top 50 (Vulture, by Bill Wyman)  \n0                        NaN                              NaN  \n28                       NaN                              NaN  \n33                       NaN                              NaN  \n39                       NaN                              NaN  \n40                       NaN                              NaN  \n80                       NaN                              NaN  \n82                       NaN                              NaN  \n151                      NaN                              NaN  \n218                      NaN                              NaN  \n\n[9 rows x 45 columns]",
      "text/html": "<div>\n<style scoped>\n    .dataframe tbody tr th:only-of-type {\n        vertical-align: middle;\n    }\n\n    .dataframe tbody tr th {\n        vertical-align: top;\n    }\n\n    .dataframe thead th {\n        text-align: right;\n    }\n</style>\n<table border=\"1\" class=\"dataframe\">\n  <thead>\n    <tr style=\"text-align: right;\">\n      <th></th>\n      <th>URI</th>\n      <th>Title</th>\n      <th>Year</th>\n      <th>Album</th>\n      <th>Popularity</th>\n      <th>Duration</th>\n      <th>Key</th>\n      <th>Mode</th>\n      <th>Tempo</th>\n      <th>Time_signature</th>\n      <th>...</th>\n      <th>Weeks at No1 in UK (The Guardian)</th>\n      <th>Highest position (Billboard)</th>\n      <th>Weeks at No1 (Billboard)</th>\n      <th>Top 50 (Billboard)</th>\n      <th>Top 50 (Ultimate classic rock)</th>\n      <th>Top 50 (Rolling Stone)</th>\n      <th>Top 50 (NME)</th>\n      <th>Top 50 (Top50songs.org)</th>\n      <th>Top 50 (USA today, 2017)</th>\n      <th>Top 50 (Vulture, by Bill Wyman)</th>\n    </tr>\n  </thead>\n  <tbody>\n    <tr>\n      <th>0</th>\n      <td>spotify:track:2FDEHIMkjxFLzj688M2I3h</td>\n      <td>(You're So Square) Baby I Don't Care - Studio Jam</td>\n      <td>1968</td>\n      <td>The Beatles</td>\n      <td>29</td>\n      <td>43</td>\n      <td>9</td>\n      <td>1</td>\n      <td>112.173</td>\n      <td>4</td>\n      <td>...</td>\n      <td>NaN</td>\n      <td>NaN</td>\n      <td>NaN</td>\n      <td>NaN</td>\n      <td>NaN</td>\n      <td>NaN</td>\n      <td>NaN</td>\n      <td>NaN</td>\n      <td>NaN</td>\n      <td>NaN</td>\n    </tr>\n    <tr>\n      <th>28</th>\n      <td>spotify:track:2Qgak11t9BJHwkicG0WJQE</td>\n      <td>Besame Mucho</td>\n      <td>1969</td>\n      <td>Anthology 1</td>\n      <td>45</td>\n      <td>157</td>\n      <td>11</td>\n      <td>0</td>\n      <td>76.146</td>\n      <td>4</td>\n      <td>...</td>\n      <td>NaN</td>\n      <td>NaN</td>\n      <td>NaN</td>\n      <td>NaN</td>\n      <td>NaN</td>\n      <td>NaN</td>\n      <td>NaN</td>\n      <td>NaN</td>\n      <td>NaN</td>\n      <td>NaN</td>\n    </tr>\n    <tr>\n      <th>33</th>\n      <td>spotify:track:5D6TY2nkWmC0fijXKuYQrm</td>\n      <td>Can You Take Me Back? - Take 1</td>\n      <td>1968</td>\n      <td>The Beatles</td>\n      <td>30</td>\n      <td>142</td>\n      <td>5</td>\n      <td>1</td>\n      <td>79.355</td>\n      <td>4</td>\n      <td>...</td>\n      <td>NaN</td>\n      <td>NaN</td>\n      <td>NaN</td>\n      <td>NaN</td>\n      <td>NaN</td>\n      <td>NaN</td>\n      <td>NaN</td>\n      <td>NaN</td>\n      <td>NaN</td>\n      <td>NaN</td>\n    </tr>\n    <tr>\n      <th>39</th>\n      <td>spotify:track:1MQhdLXEHmUWLF0bu7uVff</td>\n      <td>Child Of Nature - Esher Demo</td>\n      <td>1968</td>\n      <td>The Beatles</td>\n      <td>37</td>\n      <td>158</td>\n      <td>6</td>\n      <td>1</td>\n      <td>72.062</td>\n      <td>3</td>\n      <td>...</td>\n      <td>NaN</td>\n      <td>NaN</td>\n      <td>NaN</td>\n      <td>NaN</td>\n      <td>NaN</td>\n      <td>NaN</td>\n      <td>NaN</td>\n      <td>NaN</td>\n      <td>NaN</td>\n      <td>NaN</td>\n    </tr>\n    <tr>\n      <th>40</th>\n      <td>spotify:track:49GqhxyTdBXAn4cB8EAbTo</td>\n      <td>Circles - Esher Demo</td>\n      <td>1968</td>\n      <td>The Beatles</td>\n      <td>30</td>\n      <td>137</td>\n      <td>8</td>\n      <td>1</td>\n      <td>101.504</td>\n      <td>3</td>\n      <td>...</td>\n      <td>NaN</td>\n      <td>NaN</td>\n      <td>NaN</td>\n      <td>NaN</td>\n      <td>NaN</td>\n      <td>NaN</td>\n      <td>NaN</td>\n      <td>NaN</td>\n      <td>NaN</td>\n      <td>NaN</td>\n    </tr>\n    <tr>\n      <th>80</th>\n      <td>spotify:track:2cQGln8y7OgSOLxSHkgehd</td>\n      <td>Goodbye</td>\n      <td>1969</td>\n      <td>Abbey Road (Super Deluxe Edition)</td>\n      <td>45</td>\n      <td>144</td>\n      <td>11</td>\n      <td>1</td>\n      <td>126.695</td>\n      <td>3</td>\n      <td>...</td>\n      <td>NaN</td>\n      <td>NaN</td>\n      <td>NaN</td>\n      <td>NaN</td>\n      <td>NaN</td>\n      <td>NaN</td>\n      <td>NaN</td>\n      <td>NaN</td>\n      <td>NaN</td>\n      <td>NaN</td>\n    </tr>\n    <tr>\n      <th>82</th>\n      <td>spotify:track:5aOteYP6rA7vvBA7TG4Zpx</td>\n      <td>Hallelujah, I Love Her So</td>\n      <td>1960</td>\n      <td>Anthology 1</td>\n      <td>30</td>\n      <td>73</td>\n      <td>5</td>\n      <td>1</td>\n      <td>131.028</td>\n      <td>4</td>\n      <td>...</td>\n      <td>NaN</td>\n      <td>NaN</td>\n      <td>NaN</td>\n      <td>NaN</td>\n      <td>NaN</td>\n      <td>NaN</td>\n      <td>NaN</td>\n      <td>NaN</td>\n      <td>NaN</td>\n      <td>NaN</td>\n    </tr>\n    <tr>\n      <th>151</th>\n      <td>spotify:track:2yRHcIxk1tQp2Yb4CiCnxT</td>\n      <td>Los Paranoias - Studio Jam</td>\n      <td>1968</td>\n      <td>The Beatles</td>\n      <td>27</td>\n      <td>238</td>\n      <td>0</td>\n      <td>1</td>\n      <td>163.524</td>\n      <td>4</td>\n      <td>...</td>\n      <td>NaN</td>\n      <td>NaN</td>\n      <td>NaN</td>\n      <td>NaN</td>\n      <td>NaN</td>\n      <td>NaN</td>\n      <td>NaN</td>\n      <td>NaN</td>\n      <td>NaN</td>\n      <td>NaN</td>\n    </tr>\n    <tr>\n      <th>218</th>\n      <td>spotify:track:3LhwP2LcoiaIxMxRnU6zez</td>\n      <td>Sour Milk Sea - Esher Demo</td>\n      <td>1968</td>\n      <td>The Beatles</td>\n      <td>31</td>\n      <td>224</td>\n      <td>7</td>\n      <td>1</td>\n      <td>127.317</td>\n      <td>4</td>\n      <td>...</td>\n      <td>NaN</td>\n      <td>NaN</td>\n      <td>NaN</td>\n      <td>NaN</td>\n      <td>NaN</td>\n      <td>NaN</td>\n      <td>NaN</td>\n      <td>NaN</td>\n      <td>NaN</td>\n      <td>NaN</td>\n    </tr>\n  </tbody>\n</table>\n<p>9 rows × 45 columns</p>\n</div>"
     },
     "metadata": {},
     "output_type": "display_data"
    }
   ],
   "source": [
    "condition = songs['Album debut'].isnull()\n",
    "display(songs.loc[condition])"
   ],
   "metadata": {
    "collapsed": false,
    "ExecuteTime": {
     "end_time": "2023-09-14T07:35:35.409344200Z",
     "start_time": "2023-09-14T07:35:35.380442800Z"
    }
   },
   "id": "87dd945099e42977"
  },
  {
   "cell_type": "code",
   "execution_count": 70,
   "outputs": [
    {
     "data": {
      "text/plain": "Int64Index([0, 28, 33, 39, 40, 80, 82, 151, 218], dtype='int64')"
     },
     "execution_count": 70,
     "metadata": {},
     "output_type": "execute_result"
    }
   ],
   "source": [
    "i = songs.loc[condition].index\n",
    "i"
   ],
   "metadata": {
    "collapsed": false,
    "ExecuteTime": {
     "end_time": "2023-09-14T07:35:38.811629600Z",
     "start_time": "2023-09-14T07:35:38.805364300Z"
    }
   },
   "id": "b844cf9f8de21d15"
  },
  {
   "cell_type": "markdown",
   "source": [
    "Replace the missing *Album debut* values with the corresponding *Album* values."
   ],
   "metadata": {
    "collapsed": false
   },
   "id": "23062c0e6776cb6"
  },
  {
   "cell_type": "code",
   "execution_count": 71,
   "outputs": [
    {
     "data": {
      "text/plain": "0                            The Beatles\n28                           Anthology 1\n33                           The Beatles\n39                           The Beatles\n40                           The Beatles\n80     Abbey Road (Super Deluxe Edition)\n82                           Anthology 1\n151                          The Beatles\n218                          The Beatles\nName: Album debut, dtype: object"
     },
     "execution_count": 71,
     "metadata": {},
     "output_type": "execute_result"
    }
   ],
   "source": [
    "album = songs.loc[condition].Album\n",
    "songs.loc[condition, 'Album debut'] = album\n",
    "songs.loc[condition, 'Album debut']"
   ],
   "metadata": {
    "collapsed": false,
    "ExecuteTime": {
     "end_time": "2023-09-14T07:35:41.864558300Z",
     "start_time": "2023-09-14T07:35:41.851301400Z"
    }
   },
   "id": "a2146a65c324da66"
  },
  {
   "cell_type": "code",
   "execution_count": 72,
   "outputs": [
    {
     "data": {
      "text/plain": "(284, 45)"
     },
     "metadata": {},
     "output_type": "display_data"
    },
    {
     "data": {
      "text/plain": "0"
     },
     "execution_count": 72,
     "metadata": {},
     "output_type": "execute_result"
    }
   ],
   "source": [
    "display(songs.shape)\n",
    "songs['Album debut'].isnull().sum()"
   ],
   "metadata": {
    "collapsed": false,
    "ExecuteTime": {
     "end_time": "2023-09-14T07:35:48.637982200Z",
     "start_time": "2023-09-14T07:35:48.630027400Z"
    }
   },
   "id": "bde17f33d911775e"
  },
  {
   "cell_type": "markdown",
   "source": [
    "Save the resulting dataframe as *The Beatles songs dataset, 284x45, v1.csv*."
   ],
   "metadata": {
    "collapsed": false
   },
   "id": "b4639aa404ecfb4f"
  },
  {
   "cell_type": "code",
   "execution_count": 73,
   "outputs": [],
   "source": [
    "songs.to_csv('../data/The Beatles songs dataset, 284x45, v1.csv', index=False)"
   ],
   "metadata": {
    "collapsed": false,
    "ExecuteTime": {
     "end_time": "2023-09-14T07:35:53.192214500Z",
     "start_time": "2023-09-14T07:35:53.171912300Z"
    }
   },
   "id": "f5412cddba7c3327"
  },
  {
   "cell_type": "markdown",
   "source": [
    "##### *Genre*"
   ],
   "metadata": {
    "collapsed": false
   },
   "id": "a117c5a0e91d1c21"
  },
  {
   "cell_type": "code",
   "execution_count": 84,
   "outputs": [],
   "source": [
    "songs = pd.read_csv('../data/The Beatles songs dataset, 284x45, v1.csv')"
   ],
   "metadata": {
    "collapsed": false,
    "ExecuteTime": {
     "end_time": "2023-09-14T10:58:48.572012300Z",
     "start_time": "2023-09-14T10:58:48.556852400Z"
    }
   },
   "id": "45723ec8d994c763"
  },
  {
   "cell_type": "markdown",
   "source": [
    "How many songs miss the value for *Genre*?"
   ],
   "metadata": {
    "collapsed": false
   },
   "id": "8991df9967bb5c73"
  },
  {
   "cell_type": "code",
   "execution_count": 85,
   "outputs": [
    {
     "data": {
      "text/plain": "URI                                      0\nTitle                                    0\nYear                                     0\nAlbum                                    0\nPopularity                               0\nDuration                                 0\nKey                                      0\nMode                                     0\nTempo                                    0\nTime_signature                           0\nValence                                  0\nDanceability                             0\nEnergy                                   0\nLoudness                                 0\nAcousticness                             0\nInstrumentalness                         0\nLiveness                                 0\nSpeechiness                              0\nAlbum debut                              0\nOther releases                          71\nSingle A side                          194\nSingle B side                          194\nSingle certification                   234\nGenre                                    5\nStyles                                  26\nThemes                                  99\nMoods                                   23\nSongwriter(s)                            5\nLead vocal(s)                           10\nCover                                  218\nCovered by                             102\nChart position UK (Wikipedia)          239\nChart position US (Wikipedia)          217\nHighest position (The Guardian)        253\nWeeks on chart in UK (The Guardian)    253\nWeeks at No1 in UK (The Guardian)      268\nHighest position (Billboard)           235\nWeeks at No1 (Billboard)               269\nTop 50 (Billboard)                     235\nTop 50 (Ultimate classic rock)         235\nTop 50 (Rolling Stone)                 235\nTop 50 (NME)                           235\nTop 50 (Top50songs.org)                234\nTop 50 (USA today, 2017)               234\nTop 50 (Vulture, by Bill Wyman)        242\ndtype: int64"
     },
     "metadata": {},
     "output_type": "display_data"
    },
    {
     "data": {
      "text/plain": "5"
     },
     "metadata": {},
     "output_type": "display_data"
    }
   ],
   "source": [
    "display(songs.isnull().sum())\n",
    "display(songs.Genre.isnull().sum())"
   ],
   "metadata": {
    "collapsed": false,
    "ExecuteTime": {
     "end_time": "2023-09-14T10:58:54.127114Z",
     "start_time": "2023-09-14T10:58:54.119756600Z"
    }
   },
   "id": "9e0c7821edff68a1"
  },
  {
   "cell_type": "markdown",
   "source": [
    "What are these songs?"
   ],
   "metadata": {
    "collapsed": false
   },
   "id": "3987785cc3f022a4"
  },
  {
   "cell_type": "code",
   "execution_count": 86,
   "outputs": [
    {
     "data": {
      "text/plain": "                                      URI  \\\n0    spotify:track:2FDEHIMkjxFLzj688M2I3h   \n28   spotify:track:2Qgak11t9BJHwkicG0WJQE   \n33   spotify:track:5D6TY2nkWmC0fijXKuYQrm   \n82   spotify:track:5aOteYP6rA7vvBA7TG4Zpx   \n151  spotify:track:2yRHcIxk1tQp2Yb4CiCnxT   \n\n                                                 Title  Year        Album  \\\n0    (You're So Square) Baby I Don't Care - Studio Jam  1968  The Beatles   \n28                                        Besame Mucho  1969  Anthology 1   \n33                      Can You Take Me Back? - Take 1  1968  The Beatles   \n82                           Hallelujah, I Love Her So  1960  Anthology 1   \n151                         Los Paranoias - Studio Jam  1968  The Beatles   \n\n     Popularity  Duration  Key  Mode    Tempo  Time_signature  ...  \\\n0            29        43    9     1  112.173               4  ...   \n28           45       157   11     0   76.146               4  ...   \n33           30       142    5     1   79.355               4  ...   \n82           30        73    5     1  131.028               4  ...   \n151          27       238    0     1  163.524               4  ...   \n\n     Weeks at No1 in UK (The Guardian)  Highest position (Billboard)  \\\n0                                  NaN                           NaN   \n28                                 NaN                           NaN   \n33                                 NaN                           NaN   \n82                                 NaN                           NaN   \n151                                NaN                           NaN   \n\n     Weeks at No1 (Billboard)  Top 50 (Billboard)  \\\n0                         NaN                 NaN   \n28                        NaN                 NaN   \n33                        NaN                 NaN   \n82                        NaN                 NaN   \n151                       NaN                 NaN   \n\n     Top 50 (Ultimate classic rock)  Top 50 (Rolling Stone)  Top 50 (NME)  \\\n0                               NaN                     NaN           NaN   \n28                              NaN                     NaN           NaN   \n33                              NaN                     NaN           NaN   \n82                              NaN                     NaN           NaN   \n151                             NaN                     NaN           NaN   \n\n     Top 50 (Top50songs.org) Top 50 (USA today, 2017)  \\\n0                        NaN                      NaN   \n28                       NaN                      NaN   \n33                       NaN                      NaN   \n82                       NaN                      NaN   \n151                      NaN                      NaN   \n\n     Top 50 (Vulture, by Bill Wyman)  \n0                                NaN  \n28                               NaN  \n33                               NaN  \n82                               NaN  \n151                              NaN  \n\n[5 rows x 45 columns]",
      "text/html": "<div>\n<style scoped>\n    .dataframe tbody tr th:only-of-type {\n        vertical-align: middle;\n    }\n\n    .dataframe tbody tr th {\n        vertical-align: top;\n    }\n\n    .dataframe thead th {\n        text-align: right;\n    }\n</style>\n<table border=\"1\" class=\"dataframe\">\n  <thead>\n    <tr style=\"text-align: right;\">\n      <th></th>\n      <th>URI</th>\n      <th>Title</th>\n      <th>Year</th>\n      <th>Album</th>\n      <th>Popularity</th>\n      <th>Duration</th>\n      <th>Key</th>\n      <th>Mode</th>\n      <th>Tempo</th>\n      <th>Time_signature</th>\n      <th>...</th>\n      <th>Weeks at No1 in UK (The Guardian)</th>\n      <th>Highest position (Billboard)</th>\n      <th>Weeks at No1 (Billboard)</th>\n      <th>Top 50 (Billboard)</th>\n      <th>Top 50 (Ultimate classic rock)</th>\n      <th>Top 50 (Rolling Stone)</th>\n      <th>Top 50 (NME)</th>\n      <th>Top 50 (Top50songs.org)</th>\n      <th>Top 50 (USA today, 2017)</th>\n      <th>Top 50 (Vulture, by Bill Wyman)</th>\n    </tr>\n  </thead>\n  <tbody>\n    <tr>\n      <th>0</th>\n      <td>spotify:track:2FDEHIMkjxFLzj688M2I3h</td>\n      <td>(You're So Square) Baby I Don't Care - Studio Jam</td>\n      <td>1968</td>\n      <td>The Beatles</td>\n      <td>29</td>\n      <td>43</td>\n      <td>9</td>\n      <td>1</td>\n      <td>112.173</td>\n      <td>4</td>\n      <td>...</td>\n      <td>NaN</td>\n      <td>NaN</td>\n      <td>NaN</td>\n      <td>NaN</td>\n      <td>NaN</td>\n      <td>NaN</td>\n      <td>NaN</td>\n      <td>NaN</td>\n      <td>NaN</td>\n      <td>NaN</td>\n    </tr>\n    <tr>\n      <th>28</th>\n      <td>spotify:track:2Qgak11t9BJHwkicG0WJQE</td>\n      <td>Besame Mucho</td>\n      <td>1969</td>\n      <td>Anthology 1</td>\n      <td>45</td>\n      <td>157</td>\n      <td>11</td>\n      <td>0</td>\n      <td>76.146</td>\n      <td>4</td>\n      <td>...</td>\n      <td>NaN</td>\n      <td>NaN</td>\n      <td>NaN</td>\n      <td>NaN</td>\n      <td>NaN</td>\n      <td>NaN</td>\n      <td>NaN</td>\n      <td>NaN</td>\n      <td>NaN</td>\n      <td>NaN</td>\n    </tr>\n    <tr>\n      <th>33</th>\n      <td>spotify:track:5D6TY2nkWmC0fijXKuYQrm</td>\n      <td>Can You Take Me Back? - Take 1</td>\n      <td>1968</td>\n      <td>The Beatles</td>\n      <td>30</td>\n      <td>142</td>\n      <td>5</td>\n      <td>1</td>\n      <td>79.355</td>\n      <td>4</td>\n      <td>...</td>\n      <td>NaN</td>\n      <td>NaN</td>\n      <td>NaN</td>\n      <td>NaN</td>\n      <td>NaN</td>\n      <td>NaN</td>\n      <td>NaN</td>\n      <td>NaN</td>\n      <td>NaN</td>\n      <td>NaN</td>\n    </tr>\n    <tr>\n      <th>82</th>\n      <td>spotify:track:5aOteYP6rA7vvBA7TG4Zpx</td>\n      <td>Hallelujah, I Love Her So</td>\n      <td>1960</td>\n      <td>Anthology 1</td>\n      <td>30</td>\n      <td>73</td>\n      <td>5</td>\n      <td>1</td>\n      <td>131.028</td>\n      <td>4</td>\n      <td>...</td>\n      <td>NaN</td>\n      <td>NaN</td>\n      <td>NaN</td>\n      <td>NaN</td>\n      <td>NaN</td>\n      <td>NaN</td>\n      <td>NaN</td>\n      <td>NaN</td>\n      <td>NaN</td>\n      <td>NaN</td>\n    </tr>\n    <tr>\n      <th>151</th>\n      <td>spotify:track:2yRHcIxk1tQp2Yb4CiCnxT</td>\n      <td>Los Paranoias - Studio Jam</td>\n      <td>1968</td>\n      <td>The Beatles</td>\n      <td>27</td>\n      <td>238</td>\n      <td>0</td>\n      <td>1</td>\n      <td>163.524</td>\n      <td>4</td>\n      <td>...</td>\n      <td>NaN</td>\n      <td>NaN</td>\n      <td>NaN</td>\n      <td>NaN</td>\n      <td>NaN</td>\n      <td>NaN</td>\n      <td>NaN</td>\n      <td>NaN</td>\n      <td>NaN</td>\n      <td>NaN</td>\n    </tr>\n  </tbody>\n</table>\n<p>5 rows × 45 columns</p>\n</div>"
     },
     "metadata": {},
     "output_type": "display_data"
    }
   ],
   "source": [
    "display(songs.loc[songs.Genre.isnull()])"
   ],
   "metadata": {
    "collapsed": false,
    "ExecuteTime": {
     "end_time": "2023-09-14T10:59:01.073562Z",
     "start_time": "2023-09-14T10:59:01.058247400Z"
    }
   },
   "id": "bfa2a6e75b556ffa"
  },
  {
   "cell_type": "markdown",
   "source": [
    "Replace the missing values for *Genre* manually, based on data from [AllMusic](https://www.allmusic.com/) and VD's personal experience."
   ],
   "metadata": {
    "collapsed": false
   },
   "id": "2a79887be888a8f0"
  },
  {
   "cell_type": "code",
   "execution_count": 87,
   "outputs": [],
   "source": [
    "pd.Series(songs.columns)\n",
    "songs.iloc[0, 23] = 'Pop/Rock'                                                                      # (You're So Square) Baby I Don't Care)\n",
    "songs.iloc[28, 23] = 'R&B'                                                                          # Besame Mucho\n",
    "songs.iloc[33, 23] = 'Folk Pop, Experimental Rock, Psychodelic Rock, Baroque Pop'                   # Can You Take Me Back? - Take 1\n",
    "songs.iloc[82, 23] = 'Blues, R&B, Pop/Rock'                                                         # Hallelujah, I Love Her So\n",
    "songs.iloc[151, 23] = 'Avant-Garde, Musique Concrete, Experimental, Sound Collage, Pop/Rock'        # Los Paranoias - Studio Jam\n",
    "# songs.loc[0, ['Title', 'Genre']]\n",
    "# songs.iloc[0, 23]"
   ],
   "metadata": {
    "collapsed": false,
    "ExecuteTime": {
     "end_time": "2023-09-14T10:59:05.359368700Z",
     "start_time": "2023-09-14T10:59:05.335028600Z"
    }
   },
   "id": "99cbcc7df4071d36"
  },
  {
   "cell_type": "code",
   "execution_count": 88,
   "outputs": [
    {
     "data": {
      "text/plain": "                                                 Title  \\\n0    (You're So Square) Baby I Don't Care - Studio Jam   \n28                                        Besame Mucho   \n33                      Can You Take Me Back? - Take 1   \n82                           Hallelujah, I Love Her So   \n151                         Los Paranoias - Studio Jam   \n\n                                                 Genre  \n0                                             Pop/Rock  \n28                                                 R&B  \n33   Folk Pop, Experimental Rock, Psychodelic Rock,...  \n82                                Blues, R&B, Pop/Rock  \n151  Avant-Garde, Musique Concrete, Experimental, S...  ",
      "text/html": "<div>\n<style scoped>\n    .dataframe tbody tr th:only-of-type {\n        vertical-align: middle;\n    }\n\n    .dataframe tbody tr th {\n        vertical-align: top;\n    }\n\n    .dataframe thead th {\n        text-align: right;\n    }\n</style>\n<table border=\"1\" class=\"dataframe\">\n  <thead>\n    <tr style=\"text-align: right;\">\n      <th></th>\n      <th>Title</th>\n      <th>Genre</th>\n    </tr>\n  </thead>\n  <tbody>\n    <tr>\n      <th>0</th>\n      <td>(You're So Square) Baby I Don't Care - Studio Jam</td>\n      <td>Pop/Rock</td>\n    </tr>\n    <tr>\n      <th>28</th>\n      <td>Besame Mucho</td>\n      <td>R&amp;B</td>\n    </tr>\n    <tr>\n      <th>33</th>\n      <td>Can You Take Me Back? - Take 1</td>\n      <td>Folk Pop, Experimental Rock, Psychodelic Rock,...</td>\n    </tr>\n    <tr>\n      <th>82</th>\n      <td>Hallelujah, I Love Her So</td>\n      <td>Blues, R&amp;B, Pop/Rock</td>\n    </tr>\n    <tr>\n      <th>151</th>\n      <td>Los Paranoias - Studio Jam</td>\n      <td>Avant-Garde, Musique Concrete, Experimental, S...</td>\n    </tr>\n  </tbody>\n</table>\n</div>"
     },
     "execution_count": 88,
     "metadata": {},
     "output_type": "execute_result"
    }
   ],
   "source": [
    "songs.loc[[0, 28, 33, 82, 151], ['Title', 'Genre']]"
   ],
   "metadata": {
    "collapsed": false,
    "ExecuteTime": {
     "end_time": "2023-09-14T11:00:11.745975400Z",
     "start_time": "2023-09-14T11:00:11.736260500Z"
    }
   },
   "id": "eb3ec7c1c0ad0397"
  },
  {
   "cell_type": "markdown",
   "source": [
    "Save the new version of the dataset, *The Beatles songs dataset, 284x45, v2.csv*."
   ],
   "metadata": {
    "collapsed": false
   },
   "id": "1ccda4819a0085de"
  },
  {
   "cell_type": "code",
   "execution_count": 89,
   "outputs": [],
   "source": [
    "songs.to_csv('../data/The Beatles songs dataset, 284x45, v2.csv', index=False)"
   ],
   "metadata": {
    "collapsed": false,
    "ExecuteTime": {
     "end_time": "2023-09-14T11:01:59.577632600Z",
     "start_time": "2023-09-14T11:01:59.544818600Z"
    }
   },
   "id": "a20bfa21921461f5"
  },
  {
   "cell_type": "markdown",
   "source": [
    "##### *Songwriter(s)*"
   ],
   "metadata": {
    "collapsed": false
   },
   "id": "7a448bfc1af19d3b"
  },
  {
   "cell_type": "code",
   "execution_count": 90,
   "outputs": [],
   "source": [
    "songs = pd.read_csv('../data/The Beatles songs dataset, 284x45, v2.csv')"
   ],
   "metadata": {
    "collapsed": false,
    "ExecuteTime": {
     "end_time": "2023-09-14T11:03:55.983735400Z",
     "start_time": "2023-09-14T11:03:55.975015600Z"
    }
   },
   "id": "6a1c04c1f4c209"
  },
  {
   "cell_type": "markdown",
   "source": [
    "How many songs miss the value for *Songwriter(s)*?"
   ],
   "metadata": {
    "collapsed": false
   },
   "id": "fbc526d570491c1f"
  },
  {
   "cell_type": "code",
   "execution_count": 91,
   "outputs": [
    {
     "data": {
      "text/plain": "URI                                      0\nTitle                                    0\nYear                                     0\nAlbum                                    0\nPopularity                               0\nDuration                                 0\nKey                                      0\nMode                                     0\nTempo                                    0\nTime_signature                           0\nValence                                  0\nDanceability                             0\nEnergy                                   0\nLoudness                                 0\nAcousticness                             0\nInstrumentalness                         0\nLiveness                                 0\nSpeechiness                              0\nAlbum debut                              0\nOther releases                          71\nSingle A side                          194\nSingle B side                          194\nSingle certification                   234\nGenre                                    0\nStyles                                  26\nThemes                                  99\nMoods                                   23\nSongwriter(s)                            5\nLead vocal(s)                           10\nCover                                  218\nCovered by                             102\nChart position UK (Wikipedia)          239\nChart position US (Wikipedia)          217\nHighest position (The Guardian)        253\nWeeks on chart in UK (The Guardian)    253\nWeeks at No1 in UK (The Guardian)      268\nHighest position (Billboard)           235\nWeeks at No1 (Billboard)               269\nTop 50 (Billboard)                     235\nTop 50 (Ultimate classic rock)         235\nTop 50 (Rolling Stone)                 235\nTop 50 (NME)                           235\nTop 50 (Top50songs.org)                234\nTop 50 (USA today, 2017)               234\nTop 50 (Vulture, by Bill Wyman)        242\ndtype: int64"
     },
     "metadata": {},
     "output_type": "display_data"
    },
    {
     "data": {
      "text/plain": "5"
     },
     "metadata": {},
     "output_type": "display_data"
    }
   ],
   "source": [
    "display(songs.isnull().sum())\n",
    "display(songs['Songwriter(s)'].isnull().sum())"
   ],
   "metadata": {
    "collapsed": false,
    "ExecuteTime": {
     "end_time": "2023-09-14T11:04:21.537102400Z",
     "start_time": "2023-09-14T11:04:21.519719700Z"
    }
   },
   "id": "fbf45625037b470b"
  },
  {
   "cell_type": "markdown",
   "source": [
    "What are these songs?"
   ],
   "metadata": {
    "collapsed": false
   },
   "id": "9967aad7064ad93b"
  },
  {
   "cell_type": "code",
   "execution_count": 92,
   "outputs": [
    {
     "data": {
      "text/plain": "                                      URI  \\\n0    spotify:track:2FDEHIMkjxFLzj688M2I3h   \n28   spotify:track:2Qgak11t9BJHwkicG0WJQE   \n33   spotify:track:5D6TY2nkWmC0fijXKuYQrm   \n82   spotify:track:5aOteYP6rA7vvBA7TG4Zpx   \n151  spotify:track:2yRHcIxk1tQp2Yb4CiCnxT   \n\n                                                 Title  Year        Album  \\\n0    (You're So Square) Baby I Don't Care - Studio Jam  1968  The Beatles   \n28                                        Besame Mucho  1969  Anthology 1   \n33                      Can You Take Me Back? - Take 1  1968  The Beatles   \n82                           Hallelujah, I Love Her So  1960  Anthology 1   \n151                         Los Paranoias - Studio Jam  1968  The Beatles   \n\n     Popularity  Duration  Key  Mode    Tempo  Time_signature  ...  \\\n0            29        43    9     1  112.173               4  ...   \n28           45       157   11     0   76.146               4  ...   \n33           30       142    5     1   79.355               4  ...   \n82           30        73    5     1  131.028               4  ...   \n151          27       238    0     1  163.524               4  ...   \n\n     Weeks at No1 in UK (The Guardian)  Highest position (Billboard)  \\\n0                                  NaN                           NaN   \n28                                 NaN                           NaN   \n33                                 NaN                           NaN   \n82                                 NaN                           NaN   \n151                                NaN                           NaN   \n\n     Weeks at No1 (Billboard)  Top 50 (Billboard)  \\\n0                         NaN                 NaN   \n28                        NaN                 NaN   \n33                        NaN                 NaN   \n82                        NaN                 NaN   \n151                       NaN                 NaN   \n\n     Top 50 (Ultimate classic rock)  Top 50 (Rolling Stone)  Top 50 (NME)  \\\n0                               NaN                     NaN           NaN   \n28                              NaN                     NaN           NaN   \n33                              NaN                     NaN           NaN   \n82                              NaN                     NaN           NaN   \n151                             NaN                     NaN           NaN   \n\n     Top 50 (Top50songs.org) Top 50 (USA today, 2017)  \\\n0                        NaN                      NaN   \n28                       NaN                      NaN   \n33                       NaN                      NaN   \n82                       NaN                      NaN   \n151                      NaN                      NaN   \n\n     Top 50 (Vulture, by Bill Wyman)  \n0                                NaN  \n28                               NaN  \n33                               NaN  \n82                               NaN  \n151                              NaN  \n\n[5 rows x 45 columns]",
      "text/html": "<div>\n<style scoped>\n    .dataframe tbody tr th:only-of-type {\n        vertical-align: middle;\n    }\n\n    .dataframe tbody tr th {\n        vertical-align: top;\n    }\n\n    .dataframe thead th {\n        text-align: right;\n    }\n</style>\n<table border=\"1\" class=\"dataframe\">\n  <thead>\n    <tr style=\"text-align: right;\">\n      <th></th>\n      <th>URI</th>\n      <th>Title</th>\n      <th>Year</th>\n      <th>Album</th>\n      <th>Popularity</th>\n      <th>Duration</th>\n      <th>Key</th>\n      <th>Mode</th>\n      <th>Tempo</th>\n      <th>Time_signature</th>\n      <th>...</th>\n      <th>Weeks at No1 in UK (The Guardian)</th>\n      <th>Highest position (Billboard)</th>\n      <th>Weeks at No1 (Billboard)</th>\n      <th>Top 50 (Billboard)</th>\n      <th>Top 50 (Ultimate classic rock)</th>\n      <th>Top 50 (Rolling Stone)</th>\n      <th>Top 50 (NME)</th>\n      <th>Top 50 (Top50songs.org)</th>\n      <th>Top 50 (USA today, 2017)</th>\n      <th>Top 50 (Vulture, by Bill Wyman)</th>\n    </tr>\n  </thead>\n  <tbody>\n    <tr>\n      <th>0</th>\n      <td>spotify:track:2FDEHIMkjxFLzj688M2I3h</td>\n      <td>(You're So Square) Baby I Don't Care - Studio Jam</td>\n      <td>1968</td>\n      <td>The Beatles</td>\n      <td>29</td>\n      <td>43</td>\n      <td>9</td>\n      <td>1</td>\n      <td>112.173</td>\n      <td>4</td>\n      <td>...</td>\n      <td>NaN</td>\n      <td>NaN</td>\n      <td>NaN</td>\n      <td>NaN</td>\n      <td>NaN</td>\n      <td>NaN</td>\n      <td>NaN</td>\n      <td>NaN</td>\n      <td>NaN</td>\n      <td>NaN</td>\n    </tr>\n    <tr>\n      <th>28</th>\n      <td>spotify:track:2Qgak11t9BJHwkicG0WJQE</td>\n      <td>Besame Mucho</td>\n      <td>1969</td>\n      <td>Anthology 1</td>\n      <td>45</td>\n      <td>157</td>\n      <td>11</td>\n      <td>0</td>\n      <td>76.146</td>\n      <td>4</td>\n      <td>...</td>\n      <td>NaN</td>\n      <td>NaN</td>\n      <td>NaN</td>\n      <td>NaN</td>\n      <td>NaN</td>\n      <td>NaN</td>\n      <td>NaN</td>\n      <td>NaN</td>\n      <td>NaN</td>\n      <td>NaN</td>\n    </tr>\n    <tr>\n      <th>33</th>\n      <td>spotify:track:5D6TY2nkWmC0fijXKuYQrm</td>\n      <td>Can You Take Me Back? - Take 1</td>\n      <td>1968</td>\n      <td>The Beatles</td>\n      <td>30</td>\n      <td>142</td>\n      <td>5</td>\n      <td>1</td>\n      <td>79.355</td>\n      <td>4</td>\n      <td>...</td>\n      <td>NaN</td>\n      <td>NaN</td>\n      <td>NaN</td>\n      <td>NaN</td>\n      <td>NaN</td>\n      <td>NaN</td>\n      <td>NaN</td>\n      <td>NaN</td>\n      <td>NaN</td>\n      <td>NaN</td>\n    </tr>\n    <tr>\n      <th>82</th>\n      <td>spotify:track:5aOteYP6rA7vvBA7TG4Zpx</td>\n      <td>Hallelujah, I Love Her So</td>\n      <td>1960</td>\n      <td>Anthology 1</td>\n      <td>30</td>\n      <td>73</td>\n      <td>5</td>\n      <td>1</td>\n      <td>131.028</td>\n      <td>4</td>\n      <td>...</td>\n      <td>NaN</td>\n      <td>NaN</td>\n      <td>NaN</td>\n      <td>NaN</td>\n      <td>NaN</td>\n      <td>NaN</td>\n      <td>NaN</td>\n      <td>NaN</td>\n      <td>NaN</td>\n      <td>NaN</td>\n    </tr>\n    <tr>\n      <th>151</th>\n      <td>spotify:track:2yRHcIxk1tQp2Yb4CiCnxT</td>\n      <td>Los Paranoias - Studio Jam</td>\n      <td>1968</td>\n      <td>The Beatles</td>\n      <td>27</td>\n      <td>238</td>\n      <td>0</td>\n      <td>1</td>\n      <td>163.524</td>\n      <td>4</td>\n      <td>...</td>\n      <td>NaN</td>\n      <td>NaN</td>\n      <td>NaN</td>\n      <td>NaN</td>\n      <td>NaN</td>\n      <td>NaN</td>\n      <td>NaN</td>\n      <td>NaN</td>\n      <td>NaN</td>\n      <td>NaN</td>\n    </tr>\n  </tbody>\n</table>\n<p>5 rows × 45 columns</p>\n</div>"
     },
     "metadata": {},
     "output_type": "display_data"
    }
   ],
   "source": [
    "display(songs.loc[songs['Songwriter(s)'].isnull()])"
   ],
   "metadata": {
    "collapsed": false,
    "ExecuteTime": {
     "end_time": "2023-09-14T11:05:56.896924100Z",
     "start_time": "2023-09-14T11:05:56.878963700Z"
    }
   },
   "id": "5bf2471058e9d23b"
  },
  {
   "cell_type": "markdown",
   "source": [
    "Replace the missing values for *Songwriter(s)* manually, based on data from [AllMusic](https://www.allmusic.com/) and VD's personal experience."
   ],
   "metadata": {
    "collapsed": false
   },
   "id": "7fa1c4b613b75e9e"
  },
  {
   "cell_type": "code",
   "execution_count": 94,
   "outputs": [],
   "source": [
    "pd.Series(songs.columns)\n",
    "songs.iloc[0, 27] = 'Lieber, Stoller'                                                               # (You're So Square) Baby I Don't Care)\n",
    "songs.iloc[28, 27] = 'Skylar, Velazquez'                                                            # Besame Mucho\n",
    "songs.iloc[33, 27] = 'McCartney'                                                                    # Can You Take Me Back? - Take 1\n",
    "songs.iloc[82, 27] = 'Ray Charles'                                                                  # Hallelujah, I Love Her So\n",
    "songs.iloc[151, 27] = 'McCartney, with Lennon'                                                      # Los Paranoias - Studio Jam\n",
    "# songs.loc[0, ['Title', 'Genre']]\n",
    "# songs.iloc[0, 23]"
   ],
   "metadata": {
    "collapsed": false,
    "ExecuteTime": {
     "end_time": "2023-09-14T11:21:44.284303200Z",
     "start_time": "2023-09-14T11:21:44.272895900Z"
    }
   },
   "id": "88e7ed9194044559"
  },
  {
   "cell_type": "code",
   "execution_count": 95,
   "outputs": [
    {
     "data": {
      "text/plain": "                                                 Title           Songwriter(s)\n0    (You're So Square) Baby I Don't Care - Studio Jam         Lieber, Stoller\n28                                        Besame Mucho       Skylar, Velazquez\n33                      Can You Take Me Back? - Take 1               McCartney\n82                           Hallelujah, I Love Her So             Ray Charles\n151                         Los Paranoias - Studio Jam  McCartney, with Lennon",
      "text/html": "<div>\n<style scoped>\n    .dataframe tbody tr th:only-of-type {\n        vertical-align: middle;\n    }\n\n    .dataframe tbody tr th {\n        vertical-align: top;\n    }\n\n    .dataframe thead th {\n        text-align: right;\n    }\n</style>\n<table border=\"1\" class=\"dataframe\">\n  <thead>\n    <tr style=\"text-align: right;\">\n      <th></th>\n      <th>Title</th>\n      <th>Songwriter(s)</th>\n    </tr>\n  </thead>\n  <tbody>\n    <tr>\n      <th>0</th>\n      <td>(You're So Square) Baby I Don't Care - Studio Jam</td>\n      <td>Lieber, Stoller</td>\n    </tr>\n    <tr>\n      <th>28</th>\n      <td>Besame Mucho</td>\n      <td>Skylar, Velazquez</td>\n    </tr>\n    <tr>\n      <th>33</th>\n      <td>Can You Take Me Back? - Take 1</td>\n      <td>McCartney</td>\n    </tr>\n    <tr>\n      <th>82</th>\n      <td>Hallelujah, I Love Her So</td>\n      <td>Ray Charles</td>\n    </tr>\n    <tr>\n      <th>151</th>\n      <td>Los Paranoias - Studio Jam</td>\n      <td>McCartney, with Lennon</td>\n    </tr>\n  </tbody>\n</table>\n</div>"
     },
     "execution_count": 95,
     "metadata": {},
     "output_type": "execute_result"
    }
   ],
   "source": [
    "songs.loc[[0, 28, 33, 82, 151], ['Title', 'Songwriter(s)']]"
   ],
   "metadata": {
    "collapsed": false,
    "ExecuteTime": {
     "end_time": "2023-09-14T11:21:46.765958900Z",
     "start_time": "2023-09-14T11:21:46.734782Z"
    }
   },
   "id": "1186b4a547e3a661"
  },
  {
   "cell_type": "markdown",
   "source": [
    "Save the new version of the dataset, *The Beatles songs dataset, 284x45, v3.csv*."
   ],
   "metadata": {
    "collapsed": false
   },
   "id": "b7f75ca8551d2ea9"
  },
  {
   "cell_type": "code",
   "execution_count": 96,
   "outputs": [],
   "source": [
    "songs.to_csv('../data/The Beatles songs dataset, 284x45, v3.csv', index=False)"
   ],
   "metadata": {
    "collapsed": false,
    "ExecuteTime": {
     "end_time": "2023-09-14T11:22:41.291729200Z",
     "start_time": "2023-09-14T11:22:41.184228300Z"
    }
   },
   "id": "d31bb7fbebcdb614"
  },
  {
   "cell_type": "markdown",
   "source": [
    "### *Styles*, *Moods*, *Themes* and *Lead vocal(s)*"
   ],
   "metadata": {
    "collapsed": false
   },
   "id": "59b528444898ec6d"
  },
  {
   "cell_type": "markdown",
   "source": [
    "##### *Styles*"
   ],
   "metadata": {
    "collapsed": false
   },
   "id": "3325f76d67bddda9"
  },
  {
   "cell_type": "code",
   "execution_count": 105,
   "outputs": [],
   "source": [
    "songs = pd.read_csv('../data/The Beatles songs dataset, 284x45, v3.csv')"
   ],
   "metadata": {
    "collapsed": false,
    "ExecuteTime": {
     "end_time": "2023-09-14T15:36:00.501750400Z",
     "start_time": "2023-09-14T15:36:00.484698600Z"
    }
   },
   "id": "f961c49aba3c3e2"
  },
  {
   "cell_type": "markdown",
   "source": [
    "How many songs miss the value for *Styles*?"
   ],
   "metadata": {
    "collapsed": false
   },
   "id": "9068e9fe9f89f0d6"
  },
  {
   "cell_type": "code",
   "execution_count": 106,
   "outputs": [
    {
     "data": {
      "text/plain": "URI                                      0\nTitle                                    0\nYear                                     0\nAlbum                                    0\nPopularity                               0\nDuration                                 0\nKey                                      0\nMode                                     0\nTempo                                    0\nTime_signature                           0\nValence                                  0\nDanceability                             0\nEnergy                                   0\nLoudness                                 0\nAcousticness                             0\nInstrumentalness                         0\nLiveness                                 0\nSpeechiness                              0\nAlbum debut                              0\nOther releases                          71\nSingle A side                          194\nSingle B side                          194\nSingle certification                   234\nGenre                                    0\nStyles                                  26\nThemes                                  99\nMoods                                   23\nSongwriter(s)                            0\nLead vocal(s)                           10\nCover                                  218\nCovered by                             102\nChart position UK (Wikipedia)          239\nChart position US (Wikipedia)          217\nHighest position (The Guardian)        253\nWeeks on chart in UK (The Guardian)    253\nWeeks at No1 in UK (The Guardian)      268\nHighest position (Billboard)           235\nWeeks at No1 (Billboard)               269\nTop 50 (Billboard)                     235\nTop 50 (Ultimate classic rock)         235\nTop 50 (Rolling Stone)                 235\nTop 50 (NME)                           235\nTop 50 (Top50songs.org)                234\nTop 50 (USA today, 2017)               234\nTop 50 (Vulture, by Bill Wyman)        242\ndtype: int64"
     },
     "metadata": {},
     "output_type": "display_data"
    },
    {
     "data": {
      "text/plain": "26"
     },
     "metadata": {},
     "output_type": "display_data"
    }
   ],
   "source": [
    "display(songs.isnull().sum())\n",
    "display(songs.Styles.isnull().sum())"
   ],
   "metadata": {
    "collapsed": false,
    "ExecuteTime": {
     "end_time": "2023-09-14T15:36:03.661031800Z",
     "start_time": "2023-09-14T15:36:03.638153800Z"
    }
   },
   "id": "61020d06cd513d58"
  },
  {
   "cell_type": "markdown",
   "source": [
    "What are these songs?"
   ],
   "metadata": {
    "collapsed": false
   },
   "id": "dbfcf382e4a4a9dd"
  },
  {
   "cell_type": "code",
   "execution_count": 107,
   "outputs": [
    {
     "data": {
      "text/plain": "                                      URI  \\\n0    spotify:track:2FDEHIMkjxFLzj688M2I3h   \n1    spotify:track:2HvTGx5fzFGpHSyRNvXd9T   \n25   spotify:track:6N6He3Wk0q2O0f2LRLrbil   \n28   spotify:track:2Qgak11t9BJHwkicG0WJQE   \n33   spotify:track:5D6TY2nkWmC0fijXKuYQrm   \n82   spotify:track:5aOteYP6rA7vvBA7TG4Zpx   \n102  spotify:track:53PHRtl7ZP8gkiWiX4rm15   \n118  spotify:track:4VMOdHVfB57lNhSDadhOBc   \n133  spotify:track:7zvMaTcCspbRMahT4DcjQG   \n143  spotify:track:4iR7Jx9E4zY0Q7AwMyFpZZ   \n144  spotify:track:4J3FSYFhUGp0mkaH7m2YnN   \n146  spotify:track:3eSgAvKnHbQNLdkVY7eagU   \n151  spotify:track:2yRHcIxk1tQp2Yb4CiCnxT   \n168  spotify:track:2nBKT7OYXtN4XwT8ajCrfc   \n193  spotify:track:5frMgt4jqRGJk3yMKfqOyl   \n203  spotify:track:1I6ayuCPZQ5SHuiEqnyLSB   \n218  spotify:track:3LhwP2LcoiaIxMxRnU6zez   \n230  spotify:track:5AxDzt8VmHreQaDatK6TD4   \n231  spotify:track:6zsbf8RSb8YODtTclmMgAb   \n232  spotify:track:6r7JAngkBzKGDKRUzLgY2U   \n233  spotify:track:5Z3Rd1fMcaty8g5Pn7yhBQ   \n237  spotify:track:4nN3sSVDpCqf3TW4tpDBAS   \n241  spotify:track:5ZZWchqd0TY6QwVgKROk50   \n247  spotify:track:6xAiyH80RTPPMBZwvWpTEN   \n274  spotify:track:1n8oABN9yti0owTEKcms0q   \n278  spotify:track:175jiRVJ6N6ayJQ1FXim56   \n\n                                                 Title       Year  \\\n0    (You're So Square) Baby I Don't Care - Studio Jam       1968   \n1                                      12-bar Original       1965   \n25                                   Beautiful Dreamer       1963   \n28                                        Besame Mucho       1969   \n33                      Can You Take Me Back? - Take 1       1968   \n82                           Hallelujah, I Love Her So       1960   \n102                                      I Got a Woman       1963   \n118                                       I'll Get You       1963   \n133                         In Spite of All the Danger       1958   \n143                              Leave My Kitten Alone       1964   \n144                                  Lend Me Your Comb       1963   \n146                                   Like Dreamers Do       1962   \n151                         Los Paranoias - Studio Jam       1968   \n168                                      Moonlight Bay       1963   \n193                                          Real Love  1980/1995   \n203                                          Searchin'       1962   \n218                         Sour Milk Sea - Esher Demo       1968   \n230                                 That'll Be the Day       1958   \n231                            That's All Right (Mama)       1963   \n232                        The Ballad of John and Yoko       1969   \n233              The Continuing Story of Bungalow Bill       1968   \n237                                 The Honeymoon Song       1963   \n241                                 The Sheik of Araby       1962   \n247                                    Three Cool Cats       1962   \n274                                You Know What to Do       1964   \n278                                     You'll Be Mine       1960   \n\n                                       Album  Popularity  Duration  Key  Mode  \\\n0                                The Beatles          29        43    9     1   \n1                                Anthology 2          31       175    9     1   \n25         On Air – Live at the BBC Volume 2          25       106    2     1   \n28                               Anthology 1          45       157   11     0   \n33                               The Beatles          30       142    5     1   \n82                               Anthology 1          30        73    5     1   \n102                          Live at the BBC          31       168    4     1   \n118  Past Masters (Vols. 1 & 2 / Remastered)          42       124    9     1   \n133                              Anthology 1          43       164    4     1   \n143                              Anthology 1          31       176    5     1   \n144                              Anthology 1          28       110    4     1   \n146                              Anthology 1          38       155    9     1   \n151                              The Beatles          27       238    0     1   \n168                              Anthology 1          25        50    9     0   \n193                              Anthology 2          53       236    8     1   \n203                              Anthology 1          30       180    7     1   \n218                              The Beatles          31       224    7     1   \n230                              Anthology 1          36       128    9     1   \n231                          Live at the BBC          29       176    9     1   \n232  Past Masters (Vols. 1 & 2 / Remastered)          40       179    4     1   \n233                              The Beatles          54       198    0     1   \n237                          Live at the BBC          30       100    4     1   \n241                              Anthology 1          32       103    0     1   \n247                              Anthology 1          33       145    4     1   \n274                              Anthology 1          28       119    9     1   \n278                              Anthology 1          28        99    5     1   \n\n       Tempo  Time_signature  ...  Weeks at No1 in UK (The Guardian)  \\\n0    112.173               4  ...                                NaN   \n1    122.678               4  ...                                NaN   \n25   169.334               4  ...                                NaN   \n28    76.146               4  ...                                NaN   \n33    79.355               4  ...                                NaN   \n82   131.028               4  ...                                NaN   \n102  103.446               4  ...                                NaN   \n118  125.700               4  ...                                NaN   \n133   87.147               4  ...                                NaN   \n143  100.129               4  ...                                NaN   \n144   81.909               4  ...                                NaN   \n146  156.529               4  ...                                NaN   \n151  163.524               4  ...                                NaN   \n168  112.227               3  ...                                NaN   \n193  175.726               4  ...                                NaN   \n203  150.239               4  ...                                NaN   \n218  127.317               4  ...                                NaN   \n230  134.468               4  ...                                NaN   \n231  104.729               4  ...                                NaN   \n232  135.183               4  ...                                3.0   \n233  114.816               4  ...                                NaN   \n237  134.904               4  ...                                NaN   \n241   93.986               4  ...                                NaN   \n247  140.961               4  ...                                NaN   \n274   82.770               4  ...                                NaN   \n278   89.585               3  ...                                NaN   \n\n     Highest position (Billboard)  Weeks at No1 (Billboard)  \\\n0                             NaN                       NaN   \n1                             NaN                       NaN   \n25                            NaN                       NaN   \n28                            NaN                       NaN   \n33                            NaN                       NaN   \n82                            NaN                       NaN   \n102                           NaN                       NaN   \n118                           NaN                       NaN   \n133                           NaN                       NaN   \n143                           NaN                       NaN   \n144                           NaN                       NaN   \n146                           NaN                       NaN   \n151                           NaN                       NaN   \n168                           NaN                       NaN   \n193                          11.0                       NaN   \n203                           NaN                       NaN   \n218                           NaN                       NaN   \n230                           NaN                       NaN   \n231                           NaN                       NaN   \n232                           8.0                       NaN   \n233                           NaN                       NaN   \n237                           NaN                       NaN   \n241                           NaN                       NaN   \n247                           NaN                       NaN   \n274                           NaN                       NaN   \n278                           NaN                       NaN   \n\n     Top 50 (Billboard)  Top 50 (Ultimate classic rock)  \\\n0                   NaN                             NaN   \n1                   NaN                             NaN   \n25                  NaN                             NaN   \n28                  NaN                             NaN   \n33                  NaN                             NaN   \n82                  NaN                             NaN   \n102                 NaN                             NaN   \n118                 NaN                             NaN   \n133                 NaN                             NaN   \n143                 NaN                             NaN   \n144                 NaN                             NaN   \n146                 NaN                             NaN   \n151                 NaN                             NaN   \n168                 NaN                             NaN   \n193                47.0                             NaN   \n203                 NaN                             NaN   \n218                 NaN                             NaN   \n230                 NaN                             NaN   \n231                 NaN                             NaN   \n232                28.0                            49.0   \n233                 NaN                             NaN   \n237                 NaN                             NaN   \n241                 NaN                             NaN   \n247                 NaN                             NaN   \n274                 NaN                             NaN   \n278                 NaN                             NaN   \n\n     Top 50 (Rolling Stone)  Top 50 (NME)  Top 50 (Top50songs.org)  \\\n0                       NaN           NaN                      NaN   \n1                       NaN           NaN                      NaN   \n25                      NaN           NaN                      NaN   \n28                      NaN           NaN                      NaN   \n33                      NaN           NaN                      NaN   \n82                      NaN           NaN                      NaN   \n102                     NaN           NaN                      NaN   \n118                     NaN           NaN                      NaN   \n133                     NaN           NaN                      NaN   \n143                     NaN           NaN                      NaN   \n144                     NaN           NaN                      NaN   \n146                     NaN           NaN                      NaN   \n151                     NaN           NaN                      NaN   \n168                     NaN           NaN                      NaN   \n193                     NaN           NaN                      NaN   \n203                     NaN           NaN                      NaN   \n218                     NaN           NaN                      NaN   \n230                     NaN           NaN                      NaN   \n231                     NaN           NaN                      NaN   \n232                    48.0           NaN                      NaN   \n233                     NaN           NaN                      NaN   \n237                     NaN           NaN                      NaN   \n241                     NaN           NaN                      NaN   \n247                     NaN           NaN                      NaN   \n274                     NaN           NaN                      NaN   \n278                     NaN           NaN                      NaN   \n\n    Top 50 (USA today, 2017)  Top 50 (Vulture, by Bill Wyman)  \n0                        NaN                              NaN  \n1                        NaN                              NaN  \n25                       NaN                              NaN  \n28                       NaN                              NaN  \n33                       NaN                              NaN  \n82                       NaN                              NaN  \n102                      NaN                              NaN  \n118                      NaN                              NaN  \n133                      NaN                              NaN  \n143                      NaN                              NaN  \n144                      NaN                              NaN  \n146                      NaN                              NaN  \n151                      NaN                              NaN  \n168                      NaN                              NaN  \n193                      NaN                              NaN  \n203                      NaN                              NaN  \n218                      NaN                              NaN  \n230                      NaN                              NaN  \n231                      NaN                              NaN  \n232                      NaN                              NaN  \n233                      NaN                              NaN  \n237                      NaN                              NaN  \n241                      NaN                              NaN  \n247                      NaN                              NaN  \n274                      NaN                              NaN  \n278                      NaN                              NaN  \n\n[26 rows x 45 columns]",
      "text/html": "<div>\n<style scoped>\n    .dataframe tbody tr th:only-of-type {\n        vertical-align: middle;\n    }\n\n    .dataframe tbody tr th {\n        vertical-align: top;\n    }\n\n    .dataframe thead th {\n        text-align: right;\n    }\n</style>\n<table border=\"1\" class=\"dataframe\">\n  <thead>\n    <tr style=\"text-align: right;\">\n      <th></th>\n      <th>URI</th>\n      <th>Title</th>\n      <th>Year</th>\n      <th>Album</th>\n      <th>Popularity</th>\n      <th>Duration</th>\n      <th>Key</th>\n      <th>Mode</th>\n      <th>Tempo</th>\n      <th>Time_signature</th>\n      <th>...</th>\n      <th>Weeks at No1 in UK (The Guardian)</th>\n      <th>Highest position (Billboard)</th>\n      <th>Weeks at No1 (Billboard)</th>\n      <th>Top 50 (Billboard)</th>\n      <th>Top 50 (Ultimate classic rock)</th>\n      <th>Top 50 (Rolling Stone)</th>\n      <th>Top 50 (NME)</th>\n      <th>Top 50 (Top50songs.org)</th>\n      <th>Top 50 (USA today, 2017)</th>\n      <th>Top 50 (Vulture, by Bill Wyman)</th>\n    </tr>\n  </thead>\n  <tbody>\n    <tr>\n      <th>0</th>\n      <td>spotify:track:2FDEHIMkjxFLzj688M2I3h</td>\n      <td>(You're So Square) Baby I Don't Care - Studio Jam</td>\n      <td>1968</td>\n      <td>The Beatles</td>\n      <td>29</td>\n      <td>43</td>\n      <td>9</td>\n      <td>1</td>\n      <td>112.173</td>\n      <td>4</td>\n      <td>...</td>\n      <td>NaN</td>\n      <td>NaN</td>\n      <td>NaN</td>\n      <td>NaN</td>\n      <td>NaN</td>\n      <td>NaN</td>\n      <td>NaN</td>\n      <td>NaN</td>\n      <td>NaN</td>\n      <td>NaN</td>\n    </tr>\n    <tr>\n      <th>1</th>\n      <td>spotify:track:2HvTGx5fzFGpHSyRNvXd9T</td>\n      <td>12-bar Original</td>\n      <td>1965</td>\n      <td>Anthology 2</td>\n      <td>31</td>\n      <td>175</td>\n      <td>9</td>\n      <td>1</td>\n      <td>122.678</td>\n      <td>4</td>\n      <td>...</td>\n      <td>NaN</td>\n      <td>NaN</td>\n      <td>NaN</td>\n      <td>NaN</td>\n      <td>NaN</td>\n      <td>NaN</td>\n      <td>NaN</td>\n      <td>NaN</td>\n      <td>NaN</td>\n      <td>NaN</td>\n    </tr>\n    <tr>\n      <th>25</th>\n      <td>spotify:track:6N6He3Wk0q2O0f2LRLrbil</td>\n      <td>Beautiful Dreamer</td>\n      <td>1963</td>\n      <td>On Air – Live at the BBC Volume 2</td>\n      <td>25</td>\n      <td>106</td>\n      <td>2</td>\n      <td>1</td>\n      <td>169.334</td>\n      <td>4</td>\n      <td>...</td>\n      <td>NaN</td>\n      <td>NaN</td>\n      <td>NaN</td>\n      <td>NaN</td>\n      <td>NaN</td>\n      <td>NaN</td>\n      <td>NaN</td>\n      <td>NaN</td>\n      <td>NaN</td>\n      <td>NaN</td>\n    </tr>\n    <tr>\n      <th>28</th>\n      <td>spotify:track:2Qgak11t9BJHwkicG0WJQE</td>\n      <td>Besame Mucho</td>\n      <td>1969</td>\n      <td>Anthology 1</td>\n      <td>45</td>\n      <td>157</td>\n      <td>11</td>\n      <td>0</td>\n      <td>76.146</td>\n      <td>4</td>\n      <td>...</td>\n      <td>NaN</td>\n      <td>NaN</td>\n      <td>NaN</td>\n      <td>NaN</td>\n      <td>NaN</td>\n      <td>NaN</td>\n      <td>NaN</td>\n      <td>NaN</td>\n      <td>NaN</td>\n      <td>NaN</td>\n    </tr>\n    <tr>\n      <th>33</th>\n      <td>spotify:track:5D6TY2nkWmC0fijXKuYQrm</td>\n      <td>Can You Take Me Back? - Take 1</td>\n      <td>1968</td>\n      <td>The Beatles</td>\n      <td>30</td>\n      <td>142</td>\n      <td>5</td>\n      <td>1</td>\n      <td>79.355</td>\n      <td>4</td>\n      <td>...</td>\n      <td>NaN</td>\n      <td>NaN</td>\n      <td>NaN</td>\n      <td>NaN</td>\n      <td>NaN</td>\n      <td>NaN</td>\n      <td>NaN</td>\n      <td>NaN</td>\n      <td>NaN</td>\n      <td>NaN</td>\n    </tr>\n    <tr>\n      <th>82</th>\n      <td>spotify:track:5aOteYP6rA7vvBA7TG4Zpx</td>\n      <td>Hallelujah, I Love Her So</td>\n      <td>1960</td>\n      <td>Anthology 1</td>\n      <td>30</td>\n      <td>73</td>\n      <td>5</td>\n      <td>1</td>\n      <td>131.028</td>\n      <td>4</td>\n      <td>...</td>\n      <td>NaN</td>\n      <td>NaN</td>\n      <td>NaN</td>\n      <td>NaN</td>\n      <td>NaN</td>\n      <td>NaN</td>\n      <td>NaN</td>\n      <td>NaN</td>\n      <td>NaN</td>\n      <td>NaN</td>\n    </tr>\n    <tr>\n      <th>102</th>\n      <td>spotify:track:53PHRtl7ZP8gkiWiX4rm15</td>\n      <td>I Got a Woman</td>\n      <td>1963</td>\n      <td>Live at the BBC</td>\n      <td>31</td>\n      <td>168</td>\n      <td>4</td>\n      <td>1</td>\n      <td>103.446</td>\n      <td>4</td>\n      <td>...</td>\n      <td>NaN</td>\n      <td>NaN</td>\n      <td>NaN</td>\n      <td>NaN</td>\n      <td>NaN</td>\n      <td>NaN</td>\n      <td>NaN</td>\n      <td>NaN</td>\n      <td>NaN</td>\n      <td>NaN</td>\n    </tr>\n    <tr>\n      <th>118</th>\n      <td>spotify:track:4VMOdHVfB57lNhSDadhOBc</td>\n      <td>I'll Get You</td>\n      <td>1963</td>\n      <td>Past Masters (Vols. 1 &amp; 2 / Remastered)</td>\n      <td>42</td>\n      <td>124</td>\n      <td>9</td>\n      <td>1</td>\n      <td>125.700</td>\n      <td>4</td>\n      <td>...</td>\n      <td>NaN</td>\n      <td>NaN</td>\n      <td>NaN</td>\n      <td>NaN</td>\n      <td>NaN</td>\n      <td>NaN</td>\n      <td>NaN</td>\n      <td>NaN</td>\n      <td>NaN</td>\n      <td>NaN</td>\n    </tr>\n    <tr>\n      <th>133</th>\n      <td>spotify:track:7zvMaTcCspbRMahT4DcjQG</td>\n      <td>In Spite of All the Danger</td>\n      <td>1958</td>\n      <td>Anthology 1</td>\n      <td>43</td>\n      <td>164</td>\n      <td>4</td>\n      <td>1</td>\n      <td>87.147</td>\n      <td>4</td>\n      <td>...</td>\n      <td>NaN</td>\n      <td>NaN</td>\n      <td>NaN</td>\n      <td>NaN</td>\n      <td>NaN</td>\n      <td>NaN</td>\n      <td>NaN</td>\n      <td>NaN</td>\n      <td>NaN</td>\n      <td>NaN</td>\n    </tr>\n    <tr>\n      <th>143</th>\n      <td>spotify:track:4iR7Jx9E4zY0Q7AwMyFpZZ</td>\n      <td>Leave My Kitten Alone</td>\n      <td>1964</td>\n      <td>Anthology 1</td>\n      <td>31</td>\n      <td>176</td>\n      <td>5</td>\n      <td>1</td>\n      <td>100.129</td>\n      <td>4</td>\n      <td>...</td>\n      <td>NaN</td>\n      <td>NaN</td>\n      <td>NaN</td>\n      <td>NaN</td>\n      <td>NaN</td>\n      <td>NaN</td>\n      <td>NaN</td>\n      <td>NaN</td>\n      <td>NaN</td>\n      <td>NaN</td>\n    </tr>\n    <tr>\n      <th>144</th>\n      <td>spotify:track:4J3FSYFhUGp0mkaH7m2YnN</td>\n      <td>Lend Me Your Comb</td>\n      <td>1963</td>\n      <td>Anthology 1</td>\n      <td>28</td>\n      <td>110</td>\n      <td>4</td>\n      <td>1</td>\n      <td>81.909</td>\n      <td>4</td>\n      <td>...</td>\n      <td>NaN</td>\n      <td>NaN</td>\n      <td>NaN</td>\n      <td>NaN</td>\n      <td>NaN</td>\n      <td>NaN</td>\n      <td>NaN</td>\n      <td>NaN</td>\n      <td>NaN</td>\n      <td>NaN</td>\n    </tr>\n    <tr>\n      <th>146</th>\n      <td>spotify:track:3eSgAvKnHbQNLdkVY7eagU</td>\n      <td>Like Dreamers Do</td>\n      <td>1962</td>\n      <td>Anthology 1</td>\n      <td>38</td>\n      <td>155</td>\n      <td>9</td>\n      <td>1</td>\n      <td>156.529</td>\n      <td>4</td>\n      <td>...</td>\n      <td>NaN</td>\n      <td>NaN</td>\n      <td>NaN</td>\n      <td>NaN</td>\n      <td>NaN</td>\n      <td>NaN</td>\n      <td>NaN</td>\n      <td>NaN</td>\n      <td>NaN</td>\n      <td>NaN</td>\n    </tr>\n    <tr>\n      <th>151</th>\n      <td>spotify:track:2yRHcIxk1tQp2Yb4CiCnxT</td>\n      <td>Los Paranoias - Studio Jam</td>\n      <td>1968</td>\n      <td>The Beatles</td>\n      <td>27</td>\n      <td>238</td>\n      <td>0</td>\n      <td>1</td>\n      <td>163.524</td>\n      <td>4</td>\n      <td>...</td>\n      <td>NaN</td>\n      <td>NaN</td>\n      <td>NaN</td>\n      <td>NaN</td>\n      <td>NaN</td>\n      <td>NaN</td>\n      <td>NaN</td>\n      <td>NaN</td>\n      <td>NaN</td>\n      <td>NaN</td>\n    </tr>\n    <tr>\n      <th>168</th>\n      <td>spotify:track:2nBKT7OYXtN4XwT8ajCrfc</td>\n      <td>Moonlight Bay</td>\n      <td>1963</td>\n      <td>Anthology 1</td>\n      <td>25</td>\n      <td>50</td>\n      <td>9</td>\n      <td>0</td>\n      <td>112.227</td>\n      <td>3</td>\n      <td>...</td>\n      <td>NaN</td>\n      <td>NaN</td>\n      <td>NaN</td>\n      <td>NaN</td>\n      <td>NaN</td>\n      <td>NaN</td>\n      <td>NaN</td>\n      <td>NaN</td>\n      <td>NaN</td>\n      <td>NaN</td>\n    </tr>\n    <tr>\n      <th>193</th>\n      <td>spotify:track:5frMgt4jqRGJk3yMKfqOyl</td>\n      <td>Real Love</td>\n      <td>1980/1995</td>\n      <td>Anthology 2</td>\n      <td>53</td>\n      <td>236</td>\n      <td>8</td>\n      <td>1</td>\n      <td>175.726</td>\n      <td>4</td>\n      <td>...</td>\n      <td>NaN</td>\n      <td>11.0</td>\n      <td>NaN</td>\n      <td>47.0</td>\n      <td>NaN</td>\n      <td>NaN</td>\n      <td>NaN</td>\n      <td>NaN</td>\n      <td>NaN</td>\n      <td>NaN</td>\n    </tr>\n    <tr>\n      <th>203</th>\n      <td>spotify:track:1I6ayuCPZQ5SHuiEqnyLSB</td>\n      <td>Searchin'</td>\n      <td>1962</td>\n      <td>Anthology 1</td>\n      <td>30</td>\n      <td>180</td>\n      <td>7</td>\n      <td>1</td>\n      <td>150.239</td>\n      <td>4</td>\n      <td>...</td>\n      <td>NaN</td>\n      <td>NaN</td>\n      <td>NaN</td>\n      <td>NaN</td>\n      <td>NaN</td>\n      <td>NaN</td>\n      <td>NaN</td>\n      <td>NaN</td>\n      <td>NaN</td>\n      <td>NaN</td>\n    </tr>\n    <tr>\n      <th>218</th>\n      <td>spotify:track:3LhwP2LcoiaIxMxRnU6zez</td>\n      <td>Sour Milk Sea - Esher Demo</td>\n      <td>1968</td>\n      <td>The Beatles</td>\n      <td>31</td>\n      <td>224</td>\n      <td>7</td>\n      <td>1</td>\n      <td>127.317</td>\n      <td>4</td>\n      <td>...</td>\n      <td>NaN</td>\n      <td>NaN</td>\n      <td>NaN</td>\n      <td>NaN</td>\n      <td>NaN</td>\n      <td>NaN</td>\n      <td>NaN</td>\n      <td>NaN</td>\n      <td>NaN</td>\n      <td>NaN</td>\n    </tr>\n    <tr>\n      <th>230</th>\n      <td>spotify:track:5AxDzt8VmHreQaDatK6TD4</td>\n      <td>That'll Be the Day</td>\n      <td>1958</td>\n      <td>Anthology 1</td>\n      <td>36</td>\n      <td>128</td>\n      <td>9</td>\n      <td>1</td>\n      <td>134.468</td>\n      <td>4</td>\n      <td>...</td>\n      <td>NaN</td>\n      <td>NaN</td>\n      <td>NaN</td>\n      <td>NaN</td>\n      <td>NaN</td>\n      <td>NaN</td>\n      <td>NaN</td>\n      <td>NaN</td>\n      <td>NaN</td>\n      <td>NaN</td>\n    </tr>\n    <tr>\n      <th>231</th>\n      <td>spotify:track:6zsbf8RSb8YODtTclmMgAb</td>\n      <td>That's All Right (Mama)</td>\n      <td>1963</td>\n      <td>Live at the BBC</td>\n      <td>29</td>\n      <td>176</td>\n      <td>9</td>\n      <td>1</td>\n      <td>104.729</td>\n      <td>4</td>\n      <td>...</td>\n      <td>NaN</td>\n      <td>NaN</td>\n      <td>NaN</td>\n      <td>NaN</td>\n      <td>NaN</td>\n      <td>NaN</td>\n      <td>NaN</td>\n      <td>NaN</td>\n      <td>NaN</td>\n      <td>NaN</td>\n    </tr>\n    <tr>\n      <th>232</th>\n      <td>spotify:track:6r7JAngkBzKGDKRUzLgY2U</td>\n      <td>The Ballad of John and Yoko</td>\n      <td>1969</td>\n      <td>Past Masters (Vols. 1 &amp; 2 / Remastered)</td>\n      <td>40</td>\n      <td>179</td>\n      <td>4</td>\n      <td>1</td>\n      <td>135.183</td>\n      <td>4</td>\n      <td>...</td>\n      <td>3.0</td>\n      <td>8.0</td>\n      <td>NaN</td>\n      <td>28.0</td>\n      <td>49.0</td>\n      <td>48.0</td>\n      <td>NaN</td>\n      <td>NaN</td>\n      <td>NaN</td>\n      <td>NaN</td>\n    </tr>\n    <tr>\n      <th>233</th>\n      <td>spotify:track:5Z3Rd1fMcaty8g5Pn7yhBQ</td>\n      <td>The Continuing Story of Bungalow Bill</td>\n      <td>1968</td>\n      <td>The Beatles</td>\n      <td>54</td>\n      <td>198</td>\n      <td>0</td>\n      <td>1</td>\n      <td>114.816</td>\n      <td>4</td>\n      <td>...</td>\n      <td>NaN</td>\n      <td>NaN</td>\n      <td>NaN</td>\n      <td>NaN</td>\n      <td>NaN</td>\n      <td>NaN</td>\n      <td>NaN</td>\n      <td>NaN</td>\n      <td>NaN</td>\n      <td>NaN</td>\n    </tr>\n    <tr>\n      <th>237</th>\n      <td>spotify:track:4nN3sSVDpCqf3TW4tpDBAS</td>\n      <td>The Honeymoon Song</td>\n      <td>1963</td>\n      <td>Live at the BBC</td>\n      <td>30</td>\n      <td>100</td>\n      <td>4</td>\n      <td>1</td>\n      <td>134.904</td>\n      <td>4</td>\n      <td>...</td>\n      <td>NaN</td>\n      <td>NaN</td>\n      <td>NaN</td>\n      <td>NaN</td>\n      <td>NaN</td>\n      <td>NaN</td>\n      <td>NaN</td>\n      <td>NaN</td>\n      <td>NaN</td>\n      <td>NaN</td>\n    </tr>\n    <tr>\n      <th>241</th>\n      <td>spotify:track:5ZZWchqd0TY6QwVgKROk50</td>\n      <td>The Sheik of Araby</td>\n      <td>1962</td>\n      <td>Anthology 1</td>\n      <td>32</td>\n      <td>103</td>\n      <td>0</td>\n      <td>1</td>\n      <td>93.986</td>\n      <td>4</td>\n      <td>...</td>\n      <td>NaN</td>\n      <td>NaN</td>\n      <td>NaN</td>\n      <td>NaN</td>\n      <td>NaN</td>\n      <td>NaN</td>\n      <td>NaN</td>\n      <td>NaN</td>\n      <td>NaN</td>\n      <td>NaN</td>\n    </tr>\n    <tr>\n      <th>247</th>\n      <td>spotify:track:6xAiyH80RTPPMBZwvWpTEN</td>\n      <td>Three Cool Cats</td>\n      <td>1962</td>\n      <td>Anthology 1</td>\n      <td>33</td>\n      <td>145</td>\n      <td>4</td>\n      <td>1</td>\n      <td>140.961</td>\n      <td>4</td>\n      <td>...</td>\n      <td>NaN</td>\n      <td>NaN</td>\n      <td>NaN</td>\n      <td>NaN</td>\n      <td>NaN</td>\n      <td>NaN</td>\n      <td>NaN</td>\n      <td>NaN</td>\n      <td>NaN</td>\n      <td>NaN</td>\n    </tr>\n    <tr>\n      <th>274</th>\n      <td>spotify:track:1n8oABN9yti0owTEKcms0q</td>\n      <td>You Know What to Do</td>\n      <td>1964</td>\n      <td>Anthology 1</td>\n      <td>28</td>\n      <td>119</td>\n      <td>9</td>\n      <td>1</td>\n      <td>82.770</td>\n      <td>4</td>\n      <td>...</td>\n      <td>NaN</td>\n      <td>NaN</td>\n      <td>NaN</td>\n      <td>NaN</td>\n      <td>NaN</td>\n      <td>NaN</td>\n      <td>NaN</td>\n      <td>NaN</td>\n      <td>NaN</td>\n      <td>NaN</td>\n    </tr>\n    <tr>\n      <th>278</th>\n      <td>spotify:track:175jiRVJ6N6ayJQ1FXim56</td>\n      <td>You'll Be Mine</td>\n      <td>1960</td>\n      <td>Anthology 1</td>\n      <td>28</td>\n      <td>99</td>\n      <td>5</td>\n      <td>1</td>\n      <td>89.585</td>\n      <td>3</td>\n      <td>...</td>\n      <td>NaN</td>\n      <td>NaN</td>\n      <td>NaN</td>\n      <td>NaN</td>\n      <td>NaN</td>\n      <td>NaN</td>\n      <td>NaN</td>\n      <td>NaN</td>\n      <td>NaN</td>\n      <td>NaN</td>\n    </tr>\n  </tbody>\n</table>\n<p>26 rows × 45 columns</p>\n</div>"
     },
     "metadata": {},
     "output_type": "display_data"
    }
   ],
   "source": [
    "display(songs.loc[songs.Styles.isnull()])"
   ],
   "metadata": {
    "collapsed": false,
    "ExecuteTime": {
     "end_time": "2023-09-14T15:36:07.038477800Z",
     "start_time": "2023-09-14T15:36:07.014522800Z"
    }
   },
   "id": "97dc8c6eb9248d72"
  },
  {
   "cell_type": "markdown",
   "source": [
    "Replace the missing values for *Styles* manually, based on data from [AllMusic](https://www.allmusic.com/) and VD's personal experience."
   ],
   "metadata": {
    "collapsed": false
   },
   "id": "209b9f8bb3d5dfa7"
  },
  {
   "cell_type": "code",
   "execution_count": 108,
   "outputs": [
    {
     "data": {
      "text/plain": "Int64Index([  0,   1,  25,  28,  33,  82, 102, 118, 133, 143, 144, 146, 151,\n            168, 193, 203, 218, 230, 231, 232, 233, 237, 241, 247, 274, 278],\n           dtype='int64')"
     },
     "metadata": {},
     "output_type": "display_data"
    },
    {
     "data": {
      "text/plain": "                                                 Title Styles\n0    (You're So Square) Baby I Don't Care - Studio Jam    NaN\n1                                      12-bar Original    NaN\n25                                   Beautiful Dreamer    NaN\n28                                        Besame Mucho    NaN\n33                      Can You Take Me Back? - Take 1    NaN\n82                           Hallelujah, I Love Her So    NaN\n102                                      I Got a Woman    NaN\n118                                       I'll Get You    NaN\n133                         In Spite of All the Danger    NaN\n143                              Leave My Kitten Alone    NaN\n144                                  Lend Me Your Comb    NaN\n146                                   Like Dreamers Do    NaN\n151                         Los Paranoias - Studio Jam    NaN\n168                                      Moonlight Bay    NaN\n193                                          Real Love    NaN\n203                                          Searchin'    NaN\n218                         Sour Milk Sea - Esher Demo    NaN\n230                                 That'll Be the Day    NaN\n231                            That's All Right (Mama)    NaN\n232                        The Ballad of John and Yoko    NaN\n233              The Continuing Story of Bungalow Bill    NaN\n237                                 The Honeymoon Song    NaN\n241                                 The Sheik of Araby    NaN\n247                                    Three Cool Cats    NaN\n274                                You Know What to Do    NaN\n278                                     You'll Be Mine    NaN",
      "text/html": "<div>\n<style scoped>\n    .dataframe tbody tr th:only-of-type {\n        vertical-align: middle;\n    }\n\n    .dataframe tbody tr th {\n        vertical-align: top;\n    }\n\n    .dataframe thead th {\n        text-align: right;\n    }\n</style>\n<table border=\"1\" class=\"dataframe\">\n  <thead>\n    <tr style=\"text-align: right;\">\n      <th></th>\n      <th>Title</th>\n      <th>Styles</th>\n    </tr>\n  </thead>\n  <tbody>\n    <tr>\n      <th>0</th>\n      <td>(You're So Square) Baby I Don't Care - Studio Jam</td>\n      <td>NaN</td>\n    </tr>\n    <tr>\n      <th>1</th>\n      <td>12-bar Original</td>\n      <td>NaN</td>\n    </tr>\n    <tr>\n      <th>25</th>\n      <td>Beautiful Dreamer</td>\n      <td>NaN</td>\n    </tr>\n    <tr>\n      <th>28</th>\n      <td>Besame Mucho</td>\n      <td>NaN</td>\n    </tr>\n    <tr>\n      <th>33</th>\n      <td>Can You Take Me Back? - Take 1</td>\n      <td>NaN</td>\n    </tr>\n    <tr>\n      <th>82</th>\n      <td>Hallelujah, I Love Her So</td>\n      <td>NaN</td>\n    </tr>\n    <tr>\n      <th>102</th>\n      <td>I Got a Woman</td>\n      <td>NaN</td>\n    </tr>\n    <tr>\n      <th>118</th>\n      <td>I'll Get You</td>\n      <td>NaN</td>\n    </tr>\n    <tr>\n      <th>133</th>\n      <td>In Spite of All the Danger</td>\n      <td>NaN</td>\n    </tr>\n    <tr>\n      <th>143</th>\n      <td>Leave My Kitten Alone</td>\n      <td>NaN</td>\n    </tr>\n    <tr>\n      <th>144</th>\n      <td>Lend Me Your Comb</td>\n      <td>NaN</td>\n    </tr>\n    <tr>\n      <th>146</th>\n      <td>Like Dreamers Do</td>\n      <td>NaN</td>\n    </tr>\n    <tr>\n      <th>151</th>\n      <td>Los Paranoias - Studio Jam</td>\n      <td>NaN</td>\n    </tr>\n    <tr>\n      <th>168</th>\n      <td>Moonlight Bay</td>\n      <td>NaN</td>\n    </tr>\n    <tr>\n      <th>193</th>\n      <td>Real Love</td>\n      <td>NaN</td>\n    </tr>\n    <tr>\n      <th>203</th>\n      <td>Searchin'</td>\n      <td>NaN</td>\n    </tr>\n    <tr>\n      <th>218</th>\n      <td>Sour Milk Sea - Esher Demo</td>\n      <td>NaN</td>\n    </tr>\n    <tr>\n      <th>230</th>\n      <td>That'll Be the Day</td>\n      <td>NaN</td>\n    </tr>\n    <tr>\n      <th>231</th>\n      <td>That's All Right (Mama)</td>\n      <td>NaN</td>\n    </tr>\n    <tr>\n      <th>232</th>\n      <td>The Ballad of John and Yoko</td>\n      <td>NaN</td>\n    </tr>\n    <tr>\n      <th>233</th>\n      <td>The Continuing Story of Bungalow Bill</td>\n      <td>NaN</td>\n    </tr>\n    <tr>\n      <th>237</th>\n      <td>The Honeymoon Song</td>\n      <td>NaN</td>\n    </tr>\n    <tr>\n      <th>241</th>\n      <td>The Sheik of Araby</td>\n      <td>NaN</td>\n    </tr>\n    <tr>\n      <th>247</th>\n      <td>Three Cool Cats</td>\n      <td>NaN</td>\n    </tr>\n    <tr>\n      <th>274</th>\n      <td>You Know What to Do</td>\n      <td>NaN</td>\n    </tr>\n    <tr>\n      <th>278</th>\n      <td>You'll Be Mine</td>\n      <td>NaN</td>\n    </tr>\n  </tbody>\n</table>\n</div>"
     },
     "metadata": {},
     "output_type": "display_data"
    }
   ],
   "source": [
    "i = songs.loc[songs.Styles.isnull()].index\n",
    "display(i)\n",
    "display(songs.loc[i, ['Title', 'Styles']])"
   ],
   "metadata": {
    "collapsed": false,
    "ExecuteTime": {
     "end_time": "2023-09-14T15:36:11.324057700Z",
     "start_time": "2023-09-14T15:36:11.296315300Z"
    }
   },
   "id": "fc29a633f55d3b6c"
  },
  {
   "cell_type": "code",
   "execution_count": 109,
   "outputs": [],
   "source": [
    "styles = ['Rock & Roll',\n",
    "          'British Blues, Early R&B, Instrumental Rock',\n",
    "          'Early Pop/Rock',\n",
    "          'Bolero, Western European Traditions, Western Swing',\n",
    "          'Contemporary Pop/Rock, Early Pop/Rock, Singer/Songwriter, Folk-Rock, Psychedelic/Garage',\n",
    "          'Early R&B, Urban Blues, Piano Blues, Rock & Roll',\n",
    "          'Early R&B, Urban Blues, Club/Dance, Jazz Blues',\n",
    "          'British Invasion, Contemporary Pop/Rock, Early Pop/Rock, Merseybeat, Rock & Roll',\n",
    "          'Early Pop/Rock, Early R&B, Contemporary Pop/Rock, Merseybeat, Adult Contemporary, Britpop',\n",
    "          'Early Pop/Rock, Early R&B, Rock & Roll',\n",
    "          'Contemporary Pop/Rock',\n",
    "          'British Invasion, Early Pop/Rock, Merseybeat, Contemporary Pop/Rock, Rock & Roll',\n",
    "          'British Psychedelia, Contemporary Pop/Rock, Early Pop/Rock, Psychedelic/Garage',\n",
    "          'Lullabies, Contemporary Pop/Rock, Early Pop/Rock, Baroque Pop',\n",
    "          'Adult Contemporary, Contemporary Pop/Rock, Early Pop/Rock',\n",
    "          'British Invasion, Merseybeat, Early Pop/Rock, Rock & Roll, Contemporary Pop/Rock',\n",
    "          'British Psychedelia, Contemporary Pop/Rock, Early Pop/Rock, Psychedelic/Garage, Hard Rock, Prog-Rock',\n",
    "          'Rock & Roll, Rockabilly, Early Pop/Rock',\n",
    "          'Rock & Roll, Electric Delta Blues, Rockabilly, Early Pop/Rock, Electric Blues, Regional Blues',\n",
    "          'Rock & Roll, Album Rock, Contemporary Pop/Rock, Early Pop/Rock, Singer/Songwriter, Folk-Rock',\n",
    "          'British Psychedelia, Early Pop/Rock, Contemporary Pop/Rock, Psychedelic/Garage, Folk-Rock',\n",
    "          'British Invasion, Merseybeat, Contemporary Pop/Rock, Early Pop/Rock',\n",
    "          'British Invasion, Early Pop/Rock, Contemporary Pop/Rock, Rock & Roll, Rockabilly',\n",
    "          'British Invasion, Merseybeat, Early Pop/Rock, Contemporary Pop/Rock, Rock & Roll',\n",
    "          'British Invasion, Early Pop/Rock, Merseybeat, Contemporary Pop/Rock, Rock & Roll',\n",
    "          'British Invasion, Early Pop/Rock, Merseybeat, Contemporary Pop/Rock, Rock & Roll',\n",
    "          ]"
   ],
   "metadata": {
    "collapsed": false,
    "ExecuteTime": {
     "end_time": "2023-09-14T15:36:15.327627200Z",
     "start_time": "2023-09-14T15:36:15.310500800Z"
    }
   },
   "id": "5cddae93ea6fcb22"
  },
  {
   "cell_type": "code",
   "execution_count": 110,
   "outputs": [],
   "source": [
    "songs.loc[i, 'Styles'] = styles"
   ],
   "metadata": {
    "collapsed": false,
    "ExecuteTime": {
     "end_time": "2023-09-14T15:36:21.034960800Z",
     "start_time": "2023-09-14T15:36:21.025746600Z"
    }
   },
   "id": "16bbcf2cc54fbf0c"
  },
  {
   "cell_type": "code",
   "execution_count": 111,
   "outputs": [
    {
     "data": {
      "text/plain": "                                                 Title  \\\n0    (You're So Square) Baby I Don't Care - Studio Jam   \n1                                      12-bar Original   \n25                                   Beautiful Dreamer   \n28                                        Besame Mucho   \n33                      Can You Take Me Back? - Take 1   \n82                           Hallelujah, I Love Her So   \n102                                      I Got a Woman   \n118                                       I'll Get You   \n133                         In Spite of All the Danger   \n143                              Leave My Kitten Alone   \n144                                  Lend Me Your Comb   \n146                                   Like Dreamers Do   \n151                         Los Paranoias - Studio Jam   \n168                                      Moonlight Bay   \n193                                          Real Love   \n203                                          Searchin'   \n218                         Sour Milk Sea - Esher Demo   \n230                                 That'll Be the Day   \n231                            That's All Right (Mama)   \n232                        The Ballad of John and Yoko   \n233              The Continuing Story of Bungalow Bill   \n237                                 The Honeymoon Song   \n241                                 The Sheik of Araby   \n247                                    Three Cool Cats   \n274                                You Know What to Do   \n278                                     You'll Be Mine   \n\n                                                Styles  \n0                                          Rock & Roll  \n1          British Blues, Early R&B, Instrumental Rock  \n25                                      Early Pop/Rock  \n28   Bolero, Western European Traditions, Western S...  \n33   Contemporary Pop/Rock, Early Pop/Rock, Singer/...  \n82    Early R&B, Urban Blues, Piano Blues, Rock & Roll  \n102     Early R&B, Urban Blues, Club/Dance, Jazz Blues  \n118  British Invasion, Contemporary Pop/Rock, Early...  \n133  Early Pop/Rock, Early R&B, Contemporary Pop/Ro...  \n143             Early Pop/Rock, Early R&B, Rock & Roll  \n144                              Contemporary Pop/Rock  \n146  British Invasion, Early Pop/Rock, Merseybeat, ...  \n151  British Psychedelia, Contemporary Pop/Rock, Ea...  \n168  Lullabies, Contemporary Pop/Rock, Early Pop/Ro...  \n193  Adult Contemporary, Contemporary Pop/Rock, Ear...  \n203  British Invasion, Merseybeat, Early Pop/Rock, ...  \n218  British Psychedelia, Contemporary Pop/Rock, Ea...  \n230            Rock & Roll, Rockabilly, Early Pop/Rock  \n231  Rock & Roll, Electric Delta Blues, Rockabilly,...  \n232  Rock & Roll, Album Rock, Contemporary Pop/Rock...  \n233  British Psychedelia, Early Pop/Rock, Contempor...  \n237  British Invasion, Merseybeat, Contemporary Pop...  \n241  British Invasion, Early Pop/Rock, Contemporary...  \n247  British Invasion, Merseybeat, Early Pop/Rock, ...  \n274  British Invasion, Early Pop/Rock, Merseybeat, ...  \n278  British Invasion, Early Pop/Rock, Merseybeat, ...  ",
      "text/html": "<div>\n<style scoped>\n    .dataframe tbody tr th:only-of-type {\n        vertical-align: middle;\n    }\n\n    .dataframe tbody tr th {\n        vertical-align: top;\n    }\n\n    .dataframe thead th {\n        text-align: right;\n    }\n</style>\n<table border=\"1\" class=\"dataframe\">\n  <thead>\n    <tr style=\"text-align: right;\">\n      <th></th>\n      <th>Title</th>\n      <th>Styles</th>\n    </tr>\n  </thead>\n  <tbody>\n    <tr>\n      <th>0</th>\n      <td>(You're So Square) Baby I Don't Care - Studio Jam</td>\n      <td>Rock &amp; Roll</td>\n    </tr>\n    <tr>\n      <th>1</th>\n      <td>12-bar Original</td>\n      <td>British Blues, Early R&amp;B, Instrumental Rock</td>\n    </tr>\n    <tr>\n      <th>25</th>\n      <td>Beautiful Dreamer</td>\n      <td>Early Pop/Rock</td>\n    </tr>\n    <tr>\n      <th>28</th>\n      <td>Besame Mucho</td>\n      <td>Bolero, Western European Traditions, Western S...</td>\n    </tr>\n    <tr>\n      <th>33</th>\n      <td>Can You Take Me Back? - Take 1</td>\n      <td>Contemporary Pop/Rock, Early Pop/Rock, Singer/...</td>\n    </tr>\n    <tr>\n      <th>82</th>\n      <td>Hallelujah, I Love Her So</td>\n      <td>Early R&amp;B, Urban Blues, Piano Blues, Rock &amp; Roll</td>\n    </tr>\n    <tr>\n      <th>102</th>\n      <td>I Got a Woman</td>\n      <td>Early R&amp;B, Urban Blues, Club/Dance, Jazz Blues</td>\n    </tr>\n    <tr>\n      <th>118</th>\n      <td>I'll Get You</td>\n      <td>British Invasion, Contemporary Pop/Rock, Early...</td>\n    </tr>\n    <tr>\n      <th>133</th>\n      <td>In Spite of All the Danger</td>\n      <td>Early Pop/Rock, Early R&amp;B, Contemporary Pop/Ro...</td>\n    </tr>\n    <tr>\n      <th>143</th>\n      <td>Leave My Kitten Alone</td>\n      <td>Early Pop/Rock, Early R&amp;B, Rock &amp; Roll</td>\n    </tr>\n    <tr>\n      <th>144</th>\n      <td>Lend Me Your Comb</td>\n      <td>Contemporary Pop/Rock</td>\n    </tr>\n    <tr>\n      <th>146</th>\n      <td>Like Dreamers Do</td>\n      <td>British Invasion, Early Pop/Rock, Merseybeat, ...</td>\n    </tr>\n    <tr>\n      <th>151</th>\n      <td>Los Paranoias - Studio Jam</td>\n      <td>British Psychedelia, Contemporary Pop/Rock, Ea...</td>\n    </tr>\n    <tr>\n      <th>168</th>\n      <td>Moonlight Bay</td>\n      <td>Lullabies, Contemporary Pop/Rock, Early Pop/Ro...</td>\n    </tr>\n    <tr>\n      <th>193</th>\n      <td>Real Love</td>\n      <td>Adult Contemporary, Contemporary Pop/Rock, Ear...</td>\n    </tr>\n    <tr>\n      <th>203</th>\n      <td>Searchin'</td>\n      <td>British Invasion, Merseybeat, Early Pop/Rock, ...</td>\n    </tr>\n    <tr>\n      <th>218</th>\n      <td>Sour Milk Sea - Esher Demo</td>\n      <td>British Psychedelia, Contemporary Pop/Rock, Ea...</td>\n    </tr>\n    <tr>\n      <th>230</th>\n      <td>That'll Be the Day</td>\n      <td>Rock &amp; Roll, Rockabilly, Early Pop/Rock</td>\n    </tr>\n    <tr>\n      <th>231</th>\n      <td>That's All Right (Mama)</td>\n      <td>Rock &amp; Roll, Electric Delta Blues, Rockabilly,...</td>\n    </tr>\n    <tr>\n      <th>232</th>\n      <td>The Ballad of John and Yoko</td>\n      <td>Rock &amp; Roll, Album Rock, Contemporary Pop/Rock...</td>\n    </tr>\n    <tr>\n      <th>233</th>\n      <td>The Continuing Story of Bungalow Bill</td>\n      <td>British Psychedelia, Early Pop/Rock, Contempor...</td>\n    </tr>\n    <tr>\n      <th>237</th>\n      <td>The Honeymoon Song</td>\n      <td>British Invasion, Merseybeat, Contemporary Pop...</td>\n    </tr>\n    <tr>\n      <th>241</th>\n      <td>The Sheik of Araby</td>\n      <td>British Invasion, Early Pop/Rock, Contemporary...</td>\n    </tr>\n    <tr>\n      <th>247</th>\n      <td>Three Cool Cats</td>\n      <td>British Invasion, Merseybeat, Early Pop/Rock, ...</td>\n    </tr>\n    <tr>\n      <th>274</th>\n      <td>You Know What to Do</td>\n      <td>British Invasion, Early Pop/Rock, Merseybeat, ...</td>\n    </tr>\n    <tr>\n      <th>278</th>\n      <td>You'll Be Mine</td>\n      <td>British Invasion, Early Pop/Rock, Merseybeat, ...</td>\n    </tr>\n  </tbody>\n</table>\n</div>"
     },
     "execution_count": 111,
     "metadata": {},
     "output_type": "execute_result"
    }
   ],
   "source": [
    "songs.loc[i, ['Title', 'Styles']]"
   ],
   "metadata": {
    "collapsed": false,
    "ExecuteTime": {
     "end_time": "2023-09-14T15:36:54.609602100Z",
     "start_time": "2023-09-14T15:36:54.597075500Z"
    }
   },
   "id": "d8e0260d8ede0b06"
  },
  {
   "cell_type": "markdown",
   "source": [
    "Save the new version of the dataset, *The Beatles songs dataset, 284x45, v4.csv*."
   ],
   "metadata": {
    "collapsed": false
   },
   "id": "c75081ecf132d4b1"
  },
  {
   "cell_type": "code",
   "execution_count": 112,
   "outputs": [],
   "source": [
    "songs.to_csv('../data/The Beatles songs dataset, 284x45, v4.csv', index=False)"
   ],
   "metadata": {
    "collapsed": false,
    "ExecuteTime": {
     "end_time": "2023-09-14T15:37:27.662820900Z",
     "start_time": "2023-09-14T15:37:27.637607500Z"
    }
   },
   "id": "e6db041d9060e789"
  },
  {
   "cell_type": "markdown",
   "source": [
    "##### *Moods*"
   ],
   "metadata": {
    "collapsed": false
   },
   "id": "a0bd9f61df508efb"
  },
  {
   "cell_type": "code",
   "execution_count": 113,
   "outputs": [],
   "source": [
    "songs = pd.read_csv('../data/The Beatles songs dataset, 284x45, v4.csv')"
   ],
   "metadata": {
    "collapsed": false,
    "ExecuteTime": {
     "end_time": "2023-09-14T15:38:37.962153500Z",
     "start_time": "2023-09-14T15:38:37.912408700Z"
    }
   },
   "id": "90aa8281ee9ca691"
  },
  {
   "cell_type": "markdown",
   "source": [
    "How many songs miss the value for *Moods*?"
   ],
   "metadata": {
    "collapsed": false
   },
   "id": "381c611daf7ef2ae"
  },
  {
   "cell_type": "code",
   "execution_count": 114,
   "outputs": [
    {
     "data": {
      "text/plain": "URI                                      0\nTitle                                    0\nYear                                     0\nAlbum                                    0\nPopularity                               0\nDuration                                 0\nKey                                      0\nMode                                     0\nTempo                                    0\nTime_signature                           0\nValence                                  0\nDanceability                             0\nEnergy                                   0\nLoudness                                 0\nAcousticness                             0\nInstrumentalness                         0\nLiveness                                 0\nSpeechiness                              0\nAlbum debut                              0\nOther releases                          71\nSingle A side                          194\nSingle B side                          194\nSingle certification                   234\nGenre                                    0\nStyles                                   0\nThemes                                  99\nMoods                                   23\nSongwriter(s)                            0\nLead vocal(s)                           10\nCover                                  218\nCovered by                             102\nChart position UK (Wikipedia)          239\nChart position US (Wikipedia)          217\nHighest position (The Guardian)        253\nWeeks on chart in UK (The Guardian)    253\nWeeks at No1 in UK (The Guardian)      268\nHighest position (Billboard)           235\nWeeks at No1 (Billboard)               269\nTop 50 (Billboard)                     235\nTop 50 (Ultimate classic rock)         235\nTop 50 (Rolling Stone)                 235\nTop 50 (NME)                           235\nTop 50 (Top50songs.org)                234\nTop 50 (USA today, 2017)               234\nTop 50 (Vulture, by Bill Wyman)        242\ndtype: int64"
     },
     "metadata": {},
     "output_type": "display_data"
    },
    {
     "data": {
      "text/plain": "23"
     },
     "metadata": {},
     "output_type": "display_data"
    }
   ],
   "source": [
    "display(songs.isnull().sum())\n",
    "display(songs.Moods.isnull().sum())"
   ],
   "metadata": {
    "collapsed": false,
    "ExecuteTime": {
     "end_time": "2023-09-14T15:38:54.480158500Z",
     "start_time": "2023-09-14T15:38:54.459868700Z"
    }
   },
   "id": "d8e43050cc4a0720"
  },
  {
   "cell_type": "markdown",
   "source": [
    "What are these songs?"
   ],
   "metadata": {
    "collapsed": false
   },
   "id": "856992a048426393"
  },
  {
   "cell_type": "code",
   "execution_count": 115,
   "outputs": [
    {
     "data": {
      "text/plain": "                                      URI  \\\n0    spotify:track:2FDEHIMkjxFLzj688M2I3h   \n25   spotify:track:6N6He3Wk0q2O0f2LRLrbil   \n28   spotify:track:2Qgak11t9BJHwkicG0WJQE   \n33   spotify:track:5D6TY2nkWmC0fijXKuYQrm   \n82   spotify:track:5aOteYP6rA7vvBA7TG4Zpx   \n102  spotify:track:53PHRtl7ZP8gkiWiX4rm15   \n118  spotify:track:4VMOdHVfB57lNhSDadhOBc   \n125  spotify:track:6MVohEoExQiPfsoTeWh5NA   \n133  spotify:track:7zvMaTcCspbRMahT4DcjQG   \n143  spotify:track:4iR7Jx9E4zY0Q7AwMyFpZZ   \n144  spotify:track:4J3FSYFhUGp0mkaH7m2YnN   \n149  spotify:track:7ds98B8y5BQltzC60Gdkri   \n151  spotify:track:2yRHcIxk1tQp2Yb4CiCnxT   \n168  spotify:track:2nBKT7OYXtN4XwT8ajCrfc   \n218  spotify:track:3LhwP2LcoiaIxMxRnU6zez   \n230  spotify:track:5AxDzt8VmHreQaDatK6TD4   \n231  spotify:track:6zsbf8RSb8YODtTclmMgAb   \n233  spotify:track:5Z3Rd1fMcaty8g5Pn7yhBQ   \n237  spotify:track:4nN3sSVDpCqf3TW4tpDBAS   \n246  spotify:track:0oQshbv1BFLZ61b1tQ4Eqg   \n254  spotify:track:0CaBBQsaAiRHhiLmzi7ZRp   \n274  spotify:track:1n8oABN9yti0owTEKcms0q   \n278  spotify:track:175jiRVJ6N6ayJQ1FXim56   \n\n                                                 Title  Year  \\\n0    (You're So Square) Baby I Don't Care - Studio Jam  1968   \n25                                   Beautiful Dreamer  1963   \n28                                        Besame Mucho  1969   \n33                      Can You Take Me Back? - Take 1  1968   \n82                           Hallelujah, I Love Her So  1960   \n102                                      I Got a Woman  1963   \n118                                       I'll Get You  1963   \n125                              I'm Talking About You  1963   \n133                         In Spite of All the Danger  1958   \n143                              Leave My Kitten Alone  1964   \n144                                  Lend Me Your Comb  1963   \n149                                    Long Tall Sally  1964   \n151                         Los Paranoias - Studio Jam  1968   \n168                                      Moonlight Bay  1963   \n218                         Sour Milk Sea - Esher Demo  1968   \n230                                 That'll Be the Day  1958   \n231                            That's All Right (Mama)  1963   \n233              The Continuing Story of Bungalow Bill  1968   \n237                                 The Honeymoon Song  1963   \n246                                           This Boy  1963   \n254                                          Two of Us  1969   \n274                                You Know What to Do  1964   \n278                                     You'll Be Mine  1960   \n\n                                       Album  Popularity  Duration  Key  Mode  \\\n0                                The Beatles          29        43    9     1   \n25         On Air – Live at the BBC Volume 2          25       106    2     1   \n28                               Anthology 1          45       157   11     0   \n33                               The Beatles          30       142    5     1   \n82                               Anthology 1          30        73    5     1   \n102                          Live at the BBC          31       168    4     1   \n118  Past Masters (Vols. 1 & 2 / Remastered)          42       124    9     1   \n125         On Air - Live At The BBC (Vol.2)          27       112    4     1   \n133                              Anthology 1          43       164    4     1   \n143                              Anthology 1          31       176    5     1   \n144                              Anthology 1          28       110    4     1   \n149  Past Masters (Vols. 1 & 2 / Remastered)          44       130    0     1   \n151                              The Beatles          27       238    0     1   \n168                              Anthology 1          25        50    9     0   \n218                              The Beatles          31       224    7     1   \n230                              Anthology 1          36       128    9     1   \n231                          Live at the BBC          29       176    9     1   \n233                              The Beatles          54       198    0     1   \n237                          Live at the BBC          30       100    4     1   \n246  Past Masters (Vols. 1 & 2 / Remastered)          56       133    2     1   \n254                                Let It Be          61       213    7     1   \n274                              Anthology 1          28       119    9     1   \n278                              Anthology 1          28        99    5     1   \n\n       Tempo  Time_signature  ...  Weeks at No1 in UK (The Guardian)  \\\n0    112.173               4  ...                                NaN   \n25   169.334               4  ...                                NaN   \n28    76.146               4  ...                                NaN   \n33    79.355               4  ...                                NaN   \n82   131.028               4  ...                                NaN   \n102  103.446               4  ...                                NaN   \n118  125.700               4  ...                                NaN   \n125  143.730               4  ...                                NaN   \n133   87.147               4  ...                                NaN   \n143  100.129               4  ...                                NaN   \n144   81.909               4  ...                                NaN   \n149  172.467               4  ...                                NaN   \n151  163.524               4  ...                                NaN   \n168  112.227               3  ...                                NaN   \n218  127.317               4  ...                                NaN   \n230  134.468               4  ...                                NaN   \n231  104.729               4  ...                                NaN   \n233  114.816               4  ...                                NaN   \n237  134.904               4  ...                                NaN   \n246  110.173               3  ...                                NaN   \n254  109.114               4  ...                                NaN   \n274   82.770               4  ...                                NaN   \n278   89.585               3  ...                                NaN   \n\n     Highest position (Billboard)  Weeks at No1 (Billboard)  \\\n0                             NaN                       NaN   \n25                            NaN                       NaN   \n28                            NaN                       NaN   \n33                            NaN                       NaN   \n82                            NaN                       NaN   \n102                           NaN                       NaN   \n118                           NaN                       NaN   \n125                           NaN                       NaN   \n133                           NaN                       NaN   \n143                           NaN                       NaN   \n144                           NaN                       NaN   \n149                           NaN                       NaN   \n151                           NaN                       NaN   \n168                           NaN                       NaN   \n218                           NaN                       NaN   \n230                           NaN                       NaN   \n231                           NaN                       NaN   \n233                           NaN                       NaN   \n237                           NaN                       NaN   \n246                           NaN                       NaN   \n254                           NaN                       NaN   \n274                           NaN                       NaN   \n278                           NaN                       NaN   \n\n     Top 50 (Billboard)  Top 50 (Ultimate classic rock)  \\\n0                   NaN                             NaN   \n25                  NaN                             NaN   \n28                  NaN                             NaN   \n33                  NaN                             NaN   \n82                  NaN                             NaN   \n102                 NaN                             NaN   \n118                 NaN                             NaN   \n125                 NaN                             NaN   \n133                 NaN                             NaN   \n143                 NaN                             NaN   \n144                 NaN                             NaN   \n149                 NaN                             NaN   \n151                 NaN                             NaN   \n168                 NaN                             NaN   \n218                 NaN                             NaN   \n230                 NaN                             NaN   \n231                 NaN                             NaN   \n233                 NaN                             NaN   \n237                 NaN                             NaN   \n246                 NaN                            38.0   \n254                 NaN                             NaN   \n274                 NaN                             NaN   \n278                 NaN                             NaN   \n\n     Top 50 (Rolling Stone)  Top 50 (NME)  Top 50 (Top50songs.org)  \\\n0                       NaN           NaN                      NaN   \n25                      NaN           NaN                      NaN   \n28                      NaN           NaN                      NaN   \n33                      NaN           NaN                      NaN   \n82                      NaN           NaN                      NaN   \n102                     NaN           NaN                      NaN   \n118                     NaN           NaN                      NaN   \n125                     NaN           NaN                      NaN   \n133                     NaN           NaN                      NaN   \n143                     NaN           NaN                      NaN   \n144                     NaN           NaN                      NaN   \n149                     NaN           NaN                      NaN   \n151                     NaN           NaN                      NaN   \n168                     NaN           NaN                      NaN   \n218                     NaN           NaN                      NaN   \n230                     NaN           NaN                      NaN   \n231                     NaN           NaN                      NaN   \n233                     NaN           NaN                      NaN   \n237                     NaN           NaN                      NaN   \n246                     NaN           NaN                      NaN   \n254                     NaN          42.0                      NaN   \n274                     NaN           NaN                      NaN   \n278                     NaN           NaN                      NaN   \n\n    Top 50 (USA today, 2017)  Top 50 (Vulture, by Bill Wyman)  \n0                        NaN                              NaN  \n25                       NaN                              NaN  \n28                       NaN                              NaN  \n33                       NaN                              NaN  \n82                       NaN                              NaN  \n102                      NaN                              NaN  \n118                      NaN                              NaN  \n125                      NaN                              NaN  \n133                      NaN                              NaN  \n143                      NaN                              NaN  \n144                      NaN                              NaN  \n149                      NaN                              NaN  \n151                      NaN                              NaN  \n168                      NaN                              NaN  \n218                      NaN                              NaN  \n230                      NaN                              NaN  \n231                      NaN                              NaN  \n233                      NaN                              NaN  \n237                      NaN                              NaN  \n246                      NaN                              NaN  \n254                      NaN                              NaN  \n274                      NaN                              NaN  \n278                      NaN                              NaN  \n\n[23 rows x 45 columns]",
      "text/html": "<div>\n<style scoped>\n    .dataframe tbody tr th:only-of-type {\n        vertical-align: middle;\n    }\n\n    .dataframe tbody tr th {\n        vertical-align: top;\n    }\n\n    .dataframe thead th {\n        text-align: right;\n    }\n</style>\n<table border=\"1\" class=\"dataframe\">\n  <thead>\n    <tr style=\"text-align: right;\">\n      <th></th>\n      <th>URI</th>\n      <th>Title</th>\n      <th>Year</th>\n      <th>Album</th>\n      <th>Popularity</th>\n      <th>Duration</th>\n      <th>Key</th>\n      <th>Mode</th>\n      <th>Tempo</th>\n      <th>Time_signature</th>\n      <th>...</th>\n      <th>Weeks at No1 in UK (The Guardian)</th>\n      <th>Highest position (Billboard)</th>\n      <th>Weeks at No1 (Billboard)</th>\n      <th>Top 50 (Billboard)</th>\n      <th>Top 50 (Ultimate classic rock)</th>\n      <th>Top 50 (Rolling Stone)</th>\n      <th>Top 50 (NME)</th>\n      <th>Top 50 (Top50songs.org)</th>\n      <th>Top 50 (USA today, 2017)</th>\n      <th>Top 50 (Vulture, by Bill Wyman)</th>\n    </tr>\n  </thead>\n  <tbody>\n    <tr>\n      <th>0</th>\n      <td>spotify:track:2FDEHIMkjxFLzj688M2I3h</td>\n      <td>(You're So Square) Baby I Don't Care - Studio Jam</td>\n      <td>1968</td>\n      <td>The Beatles</td>\n      <td>29</td>\n      <td>43</td>\n      <td>9</td>\n      <td>1</td>\n      <td>112.173</td>\n      <td>4</td>\n      <td>...</td>\n      <td>NaN</td>\n      <td>NaN</td>\n      <td>NaN</td>\n      <td>NaN</td>\n      <td>NaN</td>\n      <td>NaN</td>\n      <td>NaN</td>\n      <td>NaN</td>\n      <td>NaN</td>\n      <td>NaN</td>\n    </tr>\n    <tr>\n      <th>25</th>\n      <td>spotify:track:6N6He3Wk0q2O0f2LRLrbil</td>\n      <td>Beautiful Dreamer</td>\n      <td>1963</td>\n      <td>On Air – Live at the BBC Volume 2</td>\n      <td>25</td>\n      <td>106</td>\n      <td>2</td>\n      <td>1</td>\n      <td>169.334</td>\n      <td>4</td>\n      <td>...</td>\n      <td>NaN</td>\n      <td>NaN</td>\n      <td>NaN</td>\n      <td>NaN</td>\n      <td>NaN</td>\n      <td>NaN</td>\n      <td>NaN</td>\n      <td>NaN</td>\n      <td>NaN</td>\n      <td>NaN</td>\n    </tr>\n    <tr>\n      <th>28</th>\n      <td>spotify:track:2Qgak11t9BJHwkicG0WJQE</td>\n      <td>Besame Mucho</td>\n      <td>1969</td>\n      <td>Anthology 1</td>\n      <td>45</td>\n      <td>157</td>\n      <td>11</td>\n      <td>0</td>\n      <td>76.146</td>\n      <td>4</td>\n      <td>...</td>\n      <td>NaN</td>\n      <td>NaN</td>\n      <td>NaN</td>\n      <td>NaN</td>\n      <td>NaN</td>\n      <td>NaN</td>\n      <td>NaN</td>\n      <td>NaN</td>\n      <td>NaN</td>\n      <td>NaN</td>\n    </tr>\n    <tr>\n      <th>33</th>\n      <td>spotify:track:5D6TY2nkWmC0fijXKuYQrm</td>\n      <td>Can You Take Me Back? - Take 1</td>\n      <td>1968</td>\n      <td>The Beatles</td>\n      <td>30</td>\n      <td>142</td>\n      <td>5</td>\n      <td>1</td>\n      <td>79.355</td>\n      <td>4</td>\n      <td>...</td>\n      <td>NaN</td>\n      <td>NaN</td>\n      <td>NaN</td>\n      <td>NaN</td>\n      <td>NaN</td>\n      <td>NaN</td>\n      <td>NaN</td>\n      <td>NaN</td>\n      <td>NaN</td>\n      <td>NaN</td>\n    </tr>\n    <tr>\n      <th>82</th>\n      <td>spotify:track:5aOteYP6rA7vvBA7TG4Zpx</td>\n      <td>Hallelujah, I Love Her So</td>\n      <td>1960</td>\n      <td>Anthology 1</td>\n      <td>30</td>\n      <td>73</td>\n      <td>5</td>\n      <td>1</td>\n      <td>131.028</td>\n      <td>4</td>\n      <td>...</td>\n      <td>NaN</td>\n      <td>NaN</td>\n      <td>NaN</td>\n      <td>NaN</td>\n      <td>NaN</td>\n      <td>NaN</td>\n      <td>NaN</td>\n      <td>NaN</td>\n      <td>NaN</td>\n      <td>NaN</td>\n    </tr>\n    <tr>\n      <th>102</th>\n      <td>spotify:track:53PHRtl7ZP8gkiWiX4rm15</td>\n      <td>I Got a Woman</td>\n      <td>1963</td>\n      <td>Live at the BBC</td>\n      <td>31</td>\n      <td>168</td>\n      <td>4</td>\n      <td>1</td>\n      <td>103.446</td>\n      <td>4</td>\n      <td>...</td>\n      <td>NaN</td>\n      <td>NaN</td>\n      <td>NaN</td>\n      <td>NaN</td>\n      <td>NaN</td>\n      <td>NaN</td>\n      <td>NaN</td>\n      <td>NaN</td>\n      <td>NaN</td>\n      <td>NaN</td>\n    </tr>\n    <tr>\n      <th>118</th>\n      <td>spotify:track:4VMOdHVfB57lNhSDadhOBc</td>\n      <td>I'll Get You</td>\n      <td>1963</td>\n      <td>Past Masters (Vols. 1 &amp; 2 / Remastered)</td>\n      <td>42</td>\n      <td>124</td>\n      <td>9</td>\n      <td>1</td>\n      <td>125.700</td>\n      <td>4</td>\n      <td>...</td>\n      <td>NaN</td>\n      <td>NaN</td>\n      <td>NaN</td>\n      <td>NaN</td>\n      <td>NaN</td>\n      <td>NaN</td>\n      <td>NaN</td>\n      <td>NaN</td>\n      <td>NaN</td>\n      <td>NaN</td>\n    </tr>\n    <tr>\n      <th>125</th>\n      <td>spotify:track:6MVohEoExQiPfsoTeWh5NA</td>\n      <td>I'm Talking About You</td>\n      <td>1963</td>\n      <td>On Air - Live At The BBC (Vol.2)</td>\n      <td>27</td>\n      <td>112</td>\n      <td>4</td>\n      <td>1</td>\n      <td>143.730</td>\n      <td>4</td>\n      <td>...</td>\n      <td>NaN</td>\n      <td>NaN</td>\n      <td>NaN</td>\n      <td>NaN</td>\n      <td>NaN</td>\n      <td>NaN</td>\n      <td>NaN</td>\n      <td>NaN</td>\n      <td>NaN</td>\n      <td>NaN</td>\n    </tr>\n    <tr>\n      <th>133</th>\n      <td>spotify:track:7zvMaTcCspbRMahT4DcjQG</td>\n      <td>In Spite of All the Danger</td>\n      <td>1958</td>\n      <td>Anthology 1</td>\n      <td>43</td>\n      <td>164</td>\n      <td>4</td>\n      <td>1</td>\n      <td>87.147</td>\n      <td>4</td>\n      <td>...</td>\n      <td>NaN</td>\n      <td>NaN</td>\n      <td>NaN</td>\n      <td>NaN</td>\n      <td>NaN</td>\n      <td>NaN</td>\n      <td>NaN</td>\n      <td>NaN</td>\n      <td>NaN</td>\n      <td>NaN</td>\n    </tr>\n    <tr>\n      <th>143</th>\n      <td>spotify:track:4iR7Jx9E4zY0Q7AwMyFpZZ</td>\n      <td>Leave My Kitten Alone</td>\n      <td>1964</td>\n      <td>Anthology 1</td>\n      <td>31</td>\n      <td>176</td>\n      <td>5</td>\n      <td>1</td>\n      <td>100.129</td>\n      <td>4</td>\n      <td>...</td>\n      <td>NaN</td>\n      <td>NaN</td>\n      <td>NaN</td>\n      <td>NaN</td>\n      <td>NaN</td>\n      <td>NaN</td>\n      <td>NaN</td>\n      <td>NaN</td>\n      <td>NaN</td>\n      <td>NaN</td>\n    </tr>\n    <tr>\n      <th>144</th>\n      <td>spotify:track:4J3FSYFhUGp0mkaH7m2YnN</td>\n      <td>Lend Me Your Comb</td>\n      <td>1963</td>\n      <td>Anthology 1</td>\n      <td>28</td>\n      <td>110</td>\n      <td>4</td>\n      <td>1</td>\n      <td>81.909</td>\n      <td>4</td>\n      <td>...</td>\n      <td>NaN</td>\n      <td>NaN</td>\n      <td>NaN</td>\n      <td>NaN</td>\n      <td>NaN</td>\n      <td>NaN</td>\n      <td>NaN</td>\n      <td>NaN</td>\n      <td>NaN</td>\n      <td>NaN</td>\n    </tr>\n    <tr>\n      <th>149</th>\n      <td>spotify:track:7ds98B8y5BQltzC60Gdkri</td>\n      <td>Long Tall Sally</td>\n      <td>1964</td>\n      <td>Past Masters (Vols. 1 &amp; 2 / Remastered)</td>\n      <td>44</td>\n      <td>130</td>\n      <td>0</td>\n      <td>1</td>\n      <td>172.467</td>\n      <td>4</td>\n      <td>...</td>\n      <td>NaN</td>\n      <td>NaN</td>\n      <td>NaN</td>\n      <td>NaN</td>\n      <td>NaN</td>\n      <td>NaN</td>\n      <td>NaN</td>\n      <td>NaN</td>\n      <td>NaN</td>\n      <td>NaN</td>\n    </tr>\n    <tr>\n      <th>151</th>\n      <td>spotify:track:2yRHcIxk1tQp2Yb4CiCnxT</td>\n      <td>Los Paranoias - Studio Jam</td>\n      <td>1968</td>\n      <td>The Beatles</td>\n      <td>27</td>\n      <td>238</td>\n      <td>0</td>\n      <td>1</td>\n      <td>163.524</td>\n      <td>4</td>\n      <td>...</td>\n      <td>NaN</td>\n      <td>NaN</td>\n      <td>NaN</td>\n      <td>NaN</td>\n      <td>NaN</td>\n      <td>NaN</td>\n      <td>NaN</td>\n      <td>NaN</td>\n      <td>NaN</td>\n      <td>NaN</td>\n    </tr>\n    <tr>\n      <th>168</th>\n      <td>spotify:track:2nBKT7OYXtN4XwT8ajCrfc</td>\n      <td>Moonlight Bay</td>\n      <td>1963</td>\n      <td>Anthology 1</td>\n      <td>25</td>\n      <td>50</td>\n      <td>9</td>\n      <td>0</td>\n      <td>112.227</td>\n      <td>3</td>\n      <td>...</td>\n      <td>NaN</td>\n      <td>NaN</td>\n      <td>NaN</td>\n      <td>NaN</td>\n      <td>NaN</td>\n      <td>NaN</td>\n      <td>NaN</td>\n      <td>NaN</td>\n      <td>NaN</td>\n      <td>NaN</td>\n    </tr>\n    <tr>\n      <th>218</th>\n      <td>spotify:track:3LhwP2LcoiaIxMxRnU6zez</td>\n      <td>Sour Milk Sea - Esher Demo</td>\n      <td>1968</td>\n      <td>The Beatles</td>\n      <td>31</td>\n      <td>224</td>\n      <td>7</td>\n      <td>1</td>\n      <td>127.317</td>\n      <td>4</td>\n      <td>...</td>\n      <td>NaN</td>\n      <td>NaN</td>\n      <td>NaN</td>\n      <td>NaN</td>\n      <td>NaN</td>\n      <td>NaN</td>\n      <td>NaN</td>\n      <td>NaN</td>\n      <td>NaN</td>\n      <td>NaN</td>\n    </tr>\n    <tr>\n      <th>230</th>\n      <td>spotify:track:5AxDzt8VmHreQaDatK6TD4</td>\n      <td>That'll Be the Day</td>\n      <td>1958</td>\n      <td>Anthology 1</td>\n      <td>36</td>\n      <td>128</td>\n      <td>9</td>\n      <td>1</td>\n      <td>134.468</td>\n      <td>4</td>\n      <td>...</td>\n      <td>NaN</td>\n      <td>NaN</td>\n      <td>NaN</td>\n      <td>NaN</td>\n      <td>NaN</td>\n      <td>NaN</td>\n      <td>NaN</td>\n      <td>NaN</td>\n      <td>NaN</td>\n      <td>NaN</td>\n    </tr>\n    <tr>\n      <th>231</th>\n      <td>spotify:track:6zsbf8RSb8YODtTclmMgAb</td>\n      <td>That's All Right (Mama)</td>\n      <td>1963</td>\n      <td>Live at the BBC</td>\n      <td>29</td>\n      <td>176</td>\n      <td>9</td>\n      <td>1</td>\n      <td>104.729</td>\n      <td>4</td>\n      <td>...</td>\n      <td>NaN</td>\n      <td>NaN</td>\n      <td>NaN</td>\n      <td>NaN</td>\n      <td>NaN</td>\n      <td>NaN</td>\n      <td>NaN</td>\n      <td>NaN</td>\n      <td>NaN</td>\n      <td>NaN</td>\n    </tr>\n    <tr>\n      <th>233</th>\n      <td>spotify:track:5Z3Rd1fMcaty8g5Pn7yhBQ</td>\n      <td>The Continuing Story of Bungalow Bill</td>\n      <td>1968</td>\n      <td>The Beatles</td>\n      <td>54</td>\n      <td>198</td>\n      <td>0</td>\n      <td>1</td>\n      <td>114.816</td>\n      <td>4</td>\n      <td>...</td>\n      <td>NaN</td>\n      <td>NaN</td>\n      <td>NaN</td>\n      <td>NaN</td>\n      <td>NaN</td>\n      <td>NaN</td>\n      <td>NaN</td>\n      <td>NaN</td>\n      <td>NaN</td>\n      <td>NaN</td>\n    </tr>\n    <tr>\n      <th>237</th>\n      <td>spotify:track:4nN3sSVDpCqf3TW4tpDBAS</td>\n      <td>The Honeymoon Song</td>\n      <td>1963</td>\n      <td>Live at the BBC</td>\n      <td>30</td>\n      <td>100</td>\n      <td>4</td>\n      <td>1</td>\n      <td>134.904</td>\n      <td>4</td>\n      <td>...</td>\n      <td>NaN</td>\n      <td>NaN</td>\n      <td>NaN</td>\n      <td>NaN</td>\n      <td>NaN</td>\n      <td>NaN</td>\n      <td>NaN</td>\n      <td>NaN</td>\n      <td>NaN</td>\n      <td>NaN</td>\n    </tr>\n    <tr>\n      <th>246</th>\n      <td>spotify:track:0oQshbv1BFLZ61b1tQ4Eqg</td>\n      <td>This Boy</td>\n      <td>1963</td>\n      <td>Past Masters (Vols. 1 &amp; 2 / Remastered)</td>\n      <td>56</td>\n      <td>133</td>\n      <td>2</td>\n      <td>1</td>\n      <td>110.173</td>\n      <td>3</td>\n      <td>...</td>\n      <td>NaN</td>\n      <td>NaN</td>\n      <td>NaN</td>\n      <td>NaN</td>\n      <td>38.0</td>\n      <td>NaN</td>\n      <td>NaN</td>\n      <td>NaN</td>\n      <td>NaN</td>\n      <td>NaN</td>\n    </tr>\n    <tr>\n      <th>254</th>\n      <td>spotify:track:0CaBBQsaAiRHhiLmzi7ZRp</td>\n      <td>Two of Us</td>\n      <td>1969</td>\n      <td>Let It Be</td>\n      <td>61</td>\n      <td>213</td>\n      <td>7</td>\n      <td>1</td>\n      <td>109.114</td>\n      <td>4</td>\n      <td>...</td>\n      <td>NaN</td>\n      <td>NaN</td>\n      <td>NaN</td>\n      <td>NaN</td>\n      <td>NaN</td>\n      <td>NaN</td>\n      <td>42.0</td>\n      <td>NaN</td>\n      <td>NaN</td>\n      <td>NaN</td>\n    </tr>\n    <tr>\n      <th>274</th>\n      <td>spotify:track:1n8oABN9yti0owTEKcms0q</td>\n      <td>You Know What to Do</td>\n      <td>1964</td>\n      <td>Anthology 1</td>\n      <td>28</td>\n      <td>119</td>\n      <td>9</td>\n      <td>1</td>\n      <td>82.770</td>\n      <td>4</td>\n      <td>...</td>\n      <td>NaN</td>\n      <td>NaN</td>\n      <td>NaN</td>\n      <td>NaN</td>\n      <td>NaN</td>\n      <td>NaN</td>\n      <td>NaN</td>\n      <td>NaN</td>\n      <td>NaN</td>\n      <td>NaN</td>\n    </tr>\n    <tr>\n      <th>278</th>\n      <td>spotify:track:175jiRVJ6N6ayJQ1FXim56</td>\n      <td>You'll Be Mine</td>\n      <td>1960</td>\n      <td>Anthology 1</td>\n      <td>28</td>\n      <td>99</td>\n      <td>5</td>\n      <td>1</td>\n      <td>89.585</td>\n      <td>3</td>\n      <td>...</td>\n      <td>NaN</td>\n      <td>NaN</td>\n      <td>NaN</td>\n      <td>NaN</td>\n      <td>NaN</td>\n      <td>NaN</td>\n      <td>NaN</td>\n      <td>NaN</td>\n      <td>NaN</td>\n      <td>NaN</td>\n    </tr>\n  </tbody>\n</table>\n<p>23 rows × 45 columns</p>\n</div>"
     },
     "metadata": {},
     "output_type": "display_data"
    }
   ],
   "source": [
    "display(songs.loc[songs.Moods.isnull()])"
   ],
   "metadata": {
    "collapsed": false,
    "ExecuteTime": {
     "end_time": "2023-09-14T15:39:28.208969100Z",
     "start_time": "2023-09-14T15:39:28.179054500Z"
    }
   },
   "id": "bbeae552065a8913"
  },
  {
   "cell_type": "markdown",
   "source": [
    "Replace the missing values for *Styles* manually, based on data from [AllMusic](https://www.allmusic.com/) and VD's personal experience."
   ],
   "metadata": {
    "collapsed": false
   },
   "id": "c824eec1d347ef51"
  },
  {
   "cell_type": "code",
   "execution_count": 120,
   "outputs": [
    {
     "data": {
      "text/plain": "Int64Index([  0,  25,  28,  33,  82, 102, 118, 125, 133, 143, 144, 149, 151,\n            168, 218, 230, 231, 233, 237, 246, 254, 274, 278],\n           dtype='int64')"
     },
     "metadata": {},
     "output_type": "display_data"
    },
    {
     "data": {
      "text/plain": "                                                 Title Moods\n0    (You're So Square) Baby I Don't Care - Studio Jam   NaN\n25                                   Beautiful Dreamer   NaN\n28                                        Besame Mucho   NaN\n33                      Can You Take Me Back? - Take 1   NaN\n82                           Hallelujah, I Love Her So   NaN\n102                                      I Got a Woman   NaN\n118                                       I'll Get You   NaN\n125                              I'm Talking About You   NaN\n133                         In Spite of All the Danger   NaN\n143                              Leave My Kitten Alone   NaN\n144                                  Lend Me Your Comb   NaN\n149                                    Long Tall Sally   NaN\n151                         Los Paranoias - Studio Jam   NaN\n168                                      Moonlight Bay   NaN\n218                         Sour Milk Sea - Esher Demo   NaN\n230                                 That'll Be the Day   NaN\n231                            That's All Right (Mama)   NaN\n233              The Continuing Story of Bungalow Bill   NaN\n237                                 The Honeymoon Song   NaN\n246                                           This Boy   NaN\n254                                          Two of Us   NaN\n274                                You Know What to Do   NaN\n278                                     You'll Be Mine   NaN",
      "text/html": "<div>\n<style scoped>\n    .dataframe tbody tr th:only-of-type {\n        vertical-align: middle;\n    }\n\n    .dataframe tbody tr th {\n        vertical-align: top;\n    }\n\n    .dataframe thead th {\n        text-align: right;\n    }\n</style>\n<table border=\"1\" class=\"dataframe\">\n  <thead>\n    <tr style=\"text-align: right;\">\n      <th></th>\n      <th>Title</th>\n      <th>Moods</th>\n    </tr>\n  </thead>\n  <tbody>\n    <tr>\n      <th>0</th>\n      <td>(You're So Square) Baby I Don't Care - Studio Jam</td>\n      <td>NaN</td>\n    </tr>\n    <tr>\n      <th>25</th>\n      <td>Beautiful Dreamer</td>\n      <td>NaN</td>\n    </tr>\n    <tr>\n      <th>28</th>\n      <td>Besame Mucho</td>\n      <td>NaN</td>\n    </tr>\n    <tr>\n      <th>33</th>\n      <td>Can You Take Me Back? - Take 1</td>\n      <td>NaN</td>\n    </tr>\n    <tr>\n      <th>82</th>\n      <td>Hallelujah, I Love Her So</td>\n      <td>NaN</td>\n    </tr>\n    <tr>\n      <th>102</th>\n      <td>I Got a Woman</td>\n      <td>NaN</td>\n    </tr>\n    <tr>\n      <th>118</th>\n      <td>I'll Get You</td>\n      <td>NaN</td>\n    </tr>\n    <tr>\n      <th>125</th>\n      <td>I'm Talking About You</td>\n      <td>NaN</td>\n    </tr>\n    <tr>\n      <th>133</th>\n      <td>In Spite of All the Danger</td>\n      <td>NaN</td>\n    </tr>\n    <tr>\n      <th>143</th>\n      <td>Leave My Kitten Alone</td>\n      <td>NaN</td>\n    </tr>\n    <tr>\n      <th>144</th>\n      <td>Lend Me Your Comb</td>\n      <td>NaN</td>\n    </tr>\n    <tr>\n      <th>149</th>\n      <td>Long Tall Sally</td>\n      <td>NaN</td>\n    </tr>\n    <tr>\n      <th>151</th>\n      <td>Los Paranoias - Studio Jam</td>\n      <td>NaN</td>\n    </tr>\n    <tr>\n      <th>168</th>\n      <td>Moonlight Bay</td>\n      <td>NaN</td>\n    </tr>\n    <tr>\n      <th>218</th>\n      <td>Sour Milk Sea - Esher Demo</td>\n      <td>NaN</td>\n    </tr>\n    <tr>\n      <th>230</th>\n      <td>That'll Be the Day</td>\n      <td>NaN</td>\n    </tr>\n    <tr>\n      <th>231</th>\n      <td>That's All Right (Mama)</td>\n      <td>NaN</td>\n    </tr>\n    <tr>\n      <th>233</th>\n      <td>The Continuing Story of Bungalow Bill</td>\n      <td>NaN</td>\n    </tr>\n    <tr>\n      <th>237</th>\n      <td>The Honeymoon Song</td>\n      <td>NaN</td>\n    </tr>\n    <tr>\n      <th>246</th>\n      <td>This Boy</td>\n      <td>NaN</td>\n    </tr>\n    <tr>\n      <th>254</th>\n      <td>Two of Us</td>\n      <td>NaN</td>\n    </tr>\n    <tr>\n      <th>274</th>\n      <td>You Know What to Do</td>\n      <td>NaN</td>\n    </tr>\n    <tr>\n      <th>278</th>\n      <td>You'll Be Mine</td>\n      <td>NaN</td>\n    </tr>\n  </tbody>\n</table>\n</div>"
     },
     "metadata": {},
     "output_type": "display_data"
    }
   ],
   "source": [
    "i = songs.loc[songs.Moods.isnull()].index\n",
    "display(i)\n",
    "display(songs.loc[i, ['Title', 'Moods']])"
   ],
   "metadata": {
    "collapsed": false,
    "ExecuteTime": {
     "end_time": "2023-09-14T17:40:43.922712Z",
     "start_time": "2023-09-14T17:40:43.902742300Z"
    }
   },
   "id": "3d70e725105ec129"
  },
  {
   "cell_type": "code",
   "execution_count": 119,
   "outputs": [],
   "source": [
    "moods = ['Energetic Exciting Exuberant Raucous Rollicking Rousing Rowdy Brash Fiery Giddy Intense Reckless Swaggering Rambunctious Urgent Freewheeling Manic',\n",
    "         'Energetic Joyous Rowdy Fiery Fun Rousing Cheerful Exuberant Rambunctious Rollicking Playful Freewheeling',\n",
    "         'Earnest Precious Refined Sentimental Sweet Warm Amiable/Good-Natured Romantic Self-Conscious Yearning Restrained Whimsical',\n",
    "         'Freewheeling Humorous Irreverent Playful Quirky Rollicking Silly Unsettling Eerie Trippy Atmospheric Dreamy Enigmatic',\n",
    "         'Amiable/Good-Natured Innocent Swaggering Bright Freewheeling Summery Whimsical Celebratory Fun Light Lively Bravado Confident Passionate Sparkling Energetic Rollicking',\n",
    "         'Bright Amiable/Good-Natured Cheerful Earnest Sweet Warm Innocent Romantic Sentimental Whimsical',\n",
    "         'Bright Earnest Amiable/Good-Natured Playful Warm Cheerful Fun Happy',\n",
    "         'Acerbic Rollicking Rousing Menacing Swaggering Angry Energetic Raucous Agreeable Bright Carefree Cheerful Lively Optimistic Positive Striding Strong',\n",
    "         'Atmospheric Passionate Yearning Plaintive Innocent Searching Confident Eccentric Bittersweet',\n",
    "         'Aggressive',\n",
    "         'Rousing Yearning',\n",
    "         'Bright Energetic Exciting Exuberant Giddy Raucous Rollicking Rousing',\n",
    "         'Menacing Humorous Irreverent Playful Quirky Rollicking Silly Unsettling Eerie Trippy',\n",
    "         'Amiable/Good-Natured Carefree Cheerful Fun Giddy Humorous Playful Rousing Silly Whimsical Quirky Freewheeling',\n",
    "         'Bright Earnest Amiable/Good-Natured Rousing Freewheeling Urgent Swaggering Whimsical Gritty Yearning Earthy Sparkling',\n",
    "         'Energetic Exciting Joyous Swaggering Sweet Amiable/Good-Natured Celebratory Fun',\n",
    "         'Boisterous Bravado Confident Earthy Energetic Exciting Lively Plaintive',\n",
    "         'Freewheeling Humorous Irreverent Playful Quirky Rollicking Rousing Silly',\n",
    "         'Innocent Romantic Sentimental Wistful Amiable/Good-Natured Delicate Freewheeling Light',\n",
    "         'Bittersweet Poignant Reflective Soothing Wistful Yearning Sentimental Passionate',\n",
    "         'Amiable/Good-Natured Bright Carefree Intimate Light Playful Poignant Sentimental',\n",
    "         'Bright Effervescent Energetic Exciting Exuberant Fun Giddy Gleeful Happy Rollicking Rousing Warm Carefree Cheerful Playful Joyous Sweet Urgent',\n",
    "         'Bright Earnest Amiable/Good-Natured Warm',\n",
    "         ]"
   ],
   "metadata": {
    "collapsed": false,
    "ExecuteTime": {
     "end_time": "2023-09-14T17:40:32.888430100Z",
     "start_time": "2023-09-14T17:40:32.865952200Z"
    }
   },
   "id": "3ba006c21e3c9b17"
  },
  {
   "cell_type": "code",
   "execution_count": 121,
   "outputs": [],
   "source": [
    "songs.loc[i, 'Moods'] = moods"
   ],
   "metadata": {
    "collapsed": false,
    "ExecuteTime": {
     "end_time": "2023-09-14T17:40:51.380012700Z",
     "start_time": "2023-09-14T17:40:51.375339600Z"
    }
   },
   "id": "b7dc039934346763"
  },
  {
   "cell_type": "code",
   "execution_count": 122,
   "outputs": [
    {
     "data": {
      "text/plain": "                                                 Title  \\\n0    (You're So Square) Baby I Don't Care - Studio Jam   \n25                                   Beautiful Dreamer   \n28                                        Besame Mucho   \n33                      Can You Take Me Back? - Take 1   \n82                           Hallelujah, I Love Her So   \n102                                      I Got a Woman   \n118                                       I'll Get You   \n125                              I'm Talking About You   \n133                         In Spite of All the Danger   \n143                              Leave My Kitten Alone   \n144                                  Lend Me Your Comb   \n149                                    Long Tall Sally   \n151                         Los Paranoias - Studio Jam   \n168                                      Moonlight Bay   \n218                         Sour Milk Sea - Esher Demo   \n230                                 That'll Be the Day   \n231                            That's All Right (Mama)   \n233              The Continuing Story of Bungalow Bill   \n237                                 The Honeymoon Song   \n246                                           This Boy   \n254                                          Two of Us   \n274                                You Know What to Do   \n278                                     You'll Be Mine   \n\n                                                 Moods  \n0    Energetic Exciting Exuberant Raucous Rollickin...  \n25   Energetic Joyous Rowdy Fiery Fun Rousing Cheer...  \n28   Earnest Precious Refined Sentimental Sweet War...  \n33   Freewheeling Humorous Irreverent Playful Quirk...  \n82   Amiable/Good-Natured Innocent Swaggering Brigh...  \n102  Bright Amiable/Good-Natured Cheerful Earnest S...  \n118  Bright Earnest Amiable/Good-Natured Playful Wa...  \n125  Acerbic Rollicking Rousing Menacing Swaggering...  \n133  Atmospheric Passionate Yearning Plaintive Inno...  \n143                                         Aggressive  \n144                                   Rousing Yearning  \n149  Bright Energetic Exciting Exuberant Giddy Rauc...  \n151  Menacing Humorous Irreverent Playful Quirky Ro...  \n168  Amiable/Good-Natured Carefree Cheerful Fun Gid...  \n218  Bright Earnest Amiable/Good-Natured Rousing Fr...  \n230  Energetic Exciting Joyous Swaggering Sweet Ami...  \n231  Boisterous Bravado Confident Earthy Energetic ...  \n233  Freewheeling Humorous Irreverent Playful Quirk...  \n237  Innocent Romantic Sentimental Wistful Amiable/...  \n246  Bittersweet Poignant Reflective Soothing Wistf...  \n254  Amiable/Good-Natured Bright Carefree Intimate ...  \n274  Bright Effervescent Energetic Exciting Exubera...  \n278           Bright Earnest Amiable/Good-Natured Warm  ",
      "text/html": "<div>\n<style scoped>\n    .dataframe tbody tr th:only-of-type {\n        vertical-align: middle;\n    }\n\n    .dataframe tbody tr th {\n        vertical-align: top;\n    }\n\n    .dataframe thead th {\n        text-align: right;\n    }\n</style>\n<table border=\"1\" class=\"dataframe\">\n  <thead>\n    <tr style=\"text-align: right;\">\n      <th></th>\n      <th>Title</th>\n      <th>Moods</th>\n    </tr>\n  </thead>\n  <tbody>\n    <tr>\n      <th>0</th>\n      <td>(You're So Square) Baby I Don't Care - Studio Jam</td>\n      <td>Energetic Exciting Exuberant Raucous Rollickin...</td>\n    </tr>\n    <tr>\n      <th>25</th>\n      <td>Beautiful Dreamer</td>\n      <td>Energetic Joyous Rowdy Fiery Fun Rousing Cheer...</td>\n    </tr>\n    <tr>\n      <th>28</th>\n      <td>Besame Mucho</td>\n      <td>Earnest Precious Refined Sentimental Sweet War...</td>\n    </tr>\n    <tr>\n      <th>33</th>\n      <td>Can You Take Me Back? - Take 1</td>\n      <td>Freewheeling Humorous Irreverent Playful Quirk...</td>\n    </tr>\n    <tr>\n      <th>82</th>\n      <td>Hallelujah, I Love Her So</td>\n      <td>Amiable/Good-Natured Innocent Swaggering Brigh...</td>\n    </tr>\n    <tr>\n      <th>102</th>\n      <td>I Got a Woman</td>\n      <td>Bright Amiable/Good-Natured Cheerful Earnest S...</td>\n    </tr>\n    <tr>\n      <th>118</th>\n      <td>I'll Get You</td>\n      <td>Bright Earnest Amiable/Good-Natured Playful Wa...</td>\n    </tr>\n    <tr>\n      <th>125</th>\n      <td>I'm Talking About You</td>\n      <td>Acerbic Rollicking Rousing Menacing Swaggering...</td>\n    </tr>\n    <tr>\n      <th>133</th>\n      <td>In Spite of All the Danger</td>\n      <td>Atmospheric Passionate Yearning Plaintive Inno...</td>\n    </tr>\n    <tr>\n      <th>143</th>\n      <td>Leave My Kitten Alone</td>\n      <td>Aggressive</td>\n    </tr>\n    <tr>\n      <th>144</th>\n      <td>Lend Me Your Comb</td>\n      <td>Rousing Yearning</td>\n    </tr>\n    <tr>\n      <th>149</th>\n      <td>Long Tall Sally</td>\n      <td>Bright Energetic Exciting Exuberant Giddy Rauc...</td>\n    </tr>\n    <tr>\n      <th>151</th>\n      <td>Los Paranoias - Studio Jam</td>\n      <td>Menacing Humorous Irreverent Playful Quirky Ro...</td>\n    </tr>\n    <tr>\n      <th>168</th>\n      <td>Moonlight Bay</td>\n      <td>Amiable/Good-Natured Carefree Cheerful Fun Gid...</td>\n    </tr>\n    <tr>\n      <th>218</th>\n      <td>Sour Milk Sea - Esher Demo</td>\n      <td>Bright Earnest Amiable/Good-Natured Rousing Fr...</td>\n    </tr>\n    <tr>\n      <th>230</th>\n      <td>That'll Be the Day</td>\n      <td>Energetic Exciting Joyous Swaggering Sweet Ami...</td>\n    </tr>\n    <tr>\n      <th>231</th>\n      <td>That's All Right (Mama)</td>\n      <td>Boisterous Bravado Confident Earthy Energetic ...</td>\n    </tr>\n    <tr>\n      <th>233</th>\n      <td>The Continuing Story of Bungalow Bill</td>\n      <td>Freewheeling Humorous Irreverent Playful Quirk...</td>\n    </tr>\n    <tr>\n      <th>237</th>\n      <td>The Honeymoon Song</td>\n      <td>Innocent Romantic Sentimental Wistful Amiable/...</td>\n    </tr>\n    <tr>\n      <th>246</th>\n      <td>This Boy</td>\n      <td>Bittersweet Poignant Reflective Soothing Wistf...</td>\n    </tr>\n    <tr>\n      <th>254</th>\n      <td>Two of Us</td>\n      <td>Amiable/Good-Natured Bright Carefree Intimate ...</td>\n    </tr>\n    <tr>\n      <th>274</th>\n      <td>You Know What to Do</td>\n      <td>Bright Effervescent Energetic Exciting Exubera...</td>\n    </tr>\n    <tr>\n      <th>278</th>\n      <td>You'll Be Mine</td>\n      <td>Bright Earnest Amiable/Good-Natured Warm</td>\n    </tr>\n  </tbody>\n</table>\n</div>"
     },
     "execution_count": 122,
     "metadata": {},
     "output_type": "execute_result"
    }
   ],
   "source": [
    "songs.loc[i, ['Title', 'Moods']]"
   ],
   "metadata": {
    "collapsed": false,
    "ExecuteTime": {
     "end_time": "2023-09-14T17:40:53.974559300Z",
     "start_time": "2023-09-14T17:40:53.966074200Z"
    }
   },
   "id": "6abab2e68e2996"
  },
  {
   "cell_type": "markdown",
   "source": [
    "Save the new version of the dataset, *The Beatles songs dataset, 284x45, v5.csv*."
   ],
   "metadata": {
    "collapsed": false
   },
   "id": "c7adcdba9e8272d2"
  },
  {
   "cell_type": "code",
   "execution_count": 123,
   "outputs": [],
   "source": [
    "songs.to_csv('../data/The Beatles songs dataset, 284x45, v5.csv', index=False)"
   ],
   "metadata": {
    "collapsed": false,
    "ExecuteTime": {
     "end_time": "2023-09-14T17:41:09.156373900Z",
     "start_time": "2023-09-14T17:41:09.109068400Z"
    }
   },
   "id": "9e0e43b3dd0e3d5c"
  },
  {
   "cell_type": "markdown",
   "source": [
    "##### *Themes*"
   ],
   "metadata": {
    "collapsed": false
   },
   "id": "80b38d4755459bf1"
  },
  {
   "cell_type": "markdown",
   "source": [
    "After filling the missing values, make sure to generalize the themes into [categories](https://en.wikipedia.org/wiki/Category:Songs_by_theme)."
   ],
   "metadata": {
    "collapsed": false
   },
   "id": "e7e1ade52936a15f"
  },
  {
   "cell_type": "code",
   "execution_count": 2,
   "outputs": [],
   "source": [
    "songs = pd.read_csv('../data/The Beatles songs dataset, 284x45, v5.csv')"
   ],
   "metadata": {
    "collapsed": false,
    "ExecuteTime": {
     "end_time": "2023-09-15T16:01:12.280107100Z",
     "start_time": "2023-09-15T16:01:12.263996300Z"
    }
   },
   "id": "e0784233a9ef12fc"
  },
  {
   "cell_type": "markdown",
   "source": [
    "How many songs miss the value for *Themes*?"
   ],
   "metadata": {
    "collapsed": false
   },
   "id": "f53706fdbb58a07d"
  },
  {
   "cell_type": "code",
   "execution_count": 3,
   "outputs": [
    {
     "data": {
      "text/plain": "URI                                      0\nTitle                                    0\nYear                                     0\nAlbum                                    0\nPopularity                               0\nDuration                                 0\nKey                                      0\nMode                                     0\nTempo                                    0\nTime_signature                           0\nValence                                  0\nDanceability                             0\nEnergy                                   0\nLoudness                                 0\nAcousticness                             0\nInstrumentalness                         0\nLiveness                                 0\nSpeechiness                              0\nAlbum debut                              0\nOther releases                          71\nSingle A side                          194\nSingle B side                          194\nSingle certification                   234\nGenre                                    0\nStyles                                   0\nThemes                                  99\nMoods                                    0\nSongwriter(s)                            0\nLead vocal(s)                           10\nCover                                  218\nCovered by                             102\nChart position UK (Wikipedia)          239\nChart position US (Wikipedia)          217\nHighest position (The Guardian)        253\nWeeks on chart in UK (The Guardian)    253\nWeeks at No1 in UK (The Guardian)      268\nHighest position (Billboard)           235\nWeeks at No1 (Billboard)               269\nTop 50 (Billboard)                     235\nTop 50 (Ultimate classic rock)         235\nTop 50 (Rolling Stone)                 235\nTop 50 (NME)                           235\nTop 50 (Top50songs.org)                234\nTop 50 (USA today, 2017)               234\nTop 50 (Vulture, by Bill Wyman)        242\ndtype: int64"
     },
     "metadata": {},
     "output_type": "display_data"
    },
    {
     "data": {
      "text/plain": "99"
     },
     "metadata": {},
     "output_type": "display_data"
    }
   ],
   "source": [
    "display(songs.isnull().sum())\n",
    "display(songs.Themes.isnull().sum())"
   ],
   "metadata": {
    "collapsed": false,
    "ExecuteTime": {
     "end_time": "2023-09-15T16:01:15.330436Z",
     "start_time": "2023-09-15T16:01:15.301478700Z"
    }
   },
   "id": "db1a6fa62843ed3b"
  },
  {
   "cell_type": "markdown",
   "source": [
    "What are these songs?"
   ],
   "metadata": {
    "collapsed": false
   },
   "id": "678959e7de4f1e5d"
  },
  {
   "cell_type": "code",
   "execution_count": 4,
   "outputs": [
    {
     "data": {
      "text/plain": "                                      URI  \\\n0    spotify:track:2FDEHIMkjxFLzj688M2I3h   \n1    spotify:track:2HvTGx5fzFGpHSyRNvXd9T   \n2    spotify:track:0hKRSZhUGEhKU6aNSPBACZ   \n9    spotify:track:5tztLBvTlNC15Np2tnQ5Ll   \n15   spotify:track:4KRgqwb4kvBuTz1utbYxfb   \n..                                    ...   \n264  spotify:track:6j67aNAPeQ31uw4qw4rpLa   \n274  spotify:track:1n8oABN9yti0owTEKcms0q   \n278  spotify:track:175jiRVJ6N6ayJQ1FXim56   \n279  spotify:track:70HNt0eoBVqr4ss68U8x3B   \n283  spotify:track:1dxbAIfCASqv6jix2R1Taj   \n\n                                                 Title  Year  \\\n0    (You're So Square) Baby I Don't Care - Studio Jam  1968   \n1                                      12-bar Original  1965   \n2                                    A Day in the Life  1967   \n9                                   All I've Got to Do  1963   \n15                              And Your Bird Can Sing  1966   \n..                                                 ...   ...   \n264                                     Wild Honey Pie  1968   \n274                                You Know What to Do  1964   \n278                                     You'll Be Mine  1960   \n279                     You're Going to Lose That Girl  1965   \n283                            Your Mother Should Know  1967   \n\n                                     Album  Popularity  Duration  Key  Mode  \\\n0                              The Beatles          29        43    9     1   \n1                              Anthology 2          31       175    9     1   \n2    Sgt. Pepper's Lonely Hearts Club Band          65       335    4     0   \n9                         With the Beatles          55       124    1     0   \n15                                Revolver          58       121    4     1   \n..                                     ...         ...       ...  ...   ...   \n264                            The Beatles          52        52    2     1   \n274                            Anthology 1          28       119    9     1   \n278                            Anthology 1          28        99    5     1   \n279                                  Help!          57       140    4     1   \n283                   Magical Mystery Tour          58       149    0     1   \n\n       Tempo  Time_signature  ...  Weeks at No1 in UK (The Guardian)  \\\n0    112.173               4  ...                                NaN   \n1    122.678               4  ...                                NaN   \n2    163.219               4  ...                                NaN   \n9    119.403               4  ...                                NaN   \n15   132.590               4  ...                                NaN   \n..       ...             ...  ...                                ...   \n264   89.900               4  ...                                NaN   \n274   82.770               4  ...                                NaN   \n278   89.585               3  ...                                NaN   \n279  131.975               4  ...                                NaN   \n283  117.613               4  ...                                NaN   \n\n     Highest position (Billboard)  Weeks at No1 (Billboard)  \\\n0                             NaN                       NaN   \n1                             NaN                       NaN   \n2                             NaN                       NaN   \n9                             NaN                       NaN   \n15                            NaN                       NaN   \n..                            ...                       ...   \n264                           NaN                       NaN   \n274                           NaN                       NaN   \n278                           NaN                       NaN   \n279                           NaN                       NaN   \n283                           NaN                       NaN   \n\n     Top 50 (Billboard)  Top 50 (Ultimate classic rock)  \\\n0                   NaN                             NaN   \n1                   NaN                             NaN   \n2                   NaN                             1.0   \n9                   NaN                             NaN   \n15                  NaN                             NaN   \n..                  ...                             ...   \n264                 NaN                             NaN   \n274                 NaN                             NaN   \n278                 NaN                             NaN   \n279                 NaN                             NaN   \n283                 NaN                             NaN   \n\n     Top 50 (Rolling Stone)  Top 50 (NME)  Top 50 (Top50songs.org)  \\\n0                       NaN           NaN                      NaN   \n1                       NaN           NaN                      NaN   \n2                       1.0           2.0                     18.0   \n9                       NaN           NaN                      NaN   \n15                      NaN          30.0                      NaN   \n..                      ...           ...                      ...   \n264                     NaN           NaN                      NaN   \n274                     NaN           NaN                      NaN   \n278                     NaN           NaN                      NaN   \n279                    27.0           NaN                      NaN   \n283                     NaN           NaN                      NaN   \n\n    Top 50 (USA today, 2017)  Top 50 (Vulture, by Bill Wyman)  \n0                        NaN                              NaN  \n1                        NaN                              NaN  \n2                        1.0                              1.0  \n9                        NaN                              NaN  \n15                       NaN                             33.0  \n..                       ...                              ...  \n264                      NaN                              NaN  \n274                      NaN                              NaN  \n278                      NaN                              NaN  \n279                      NaN                              NaN  \n283                      NaN                              NaN  \n\n[99 rows x 45 columns]",
      "text/html": "<div>\n<style scoped>\n    .dataframe tbody tr th:only-of-type {\n        vertical-align: middle;\n    }\n\n    .dataframe tbody tr th {\n        vertical-align: top;\n    }\n\n    .dataframe thead th {\n        text-align: right;\n    }\n</style>\n<table border=\"1\" class=\"dataframe\">\n  <thead>\n    <tr style=\"text-align: right;\">\n      <th></th>\n      <th>URI</th>\n      <th>Title</th>\n      <th>Year</th>\n      <th>Album</th>\n      <th>Popularity</th>\n      <th>Duration</th>\n      <th>Key</th>\n      <th>Mode</th>\n      <th>Tempo</th>\n      <th>Time_signature</th>\n      <th>...</th>\n      <th>Weeks at No1 in UK (The Guardian)</th>\n      <th>Highest position (Billboard)</th>\n      <th>Weeks at No1 (Billboard)</th>\n      <th>Top 50 (Billboard)</th>\n      <th>Top 50 (Ultimate classic rock)</th>\n      <th>Top 50 (Rolling Stone)</th>\n      <th>Top 50 (NME)</th>\n      <th>Top 50 (Top50songs.org)</th>\n      <th>Top 50 (USA today, 2017)</th>\n      <th>Top 50 (Vulture, by Bill Wyman)</th>\n    </tr>\n  </thead>\n  <tbody>\n    <tr>\n      <th>0</th>\n      <td>spotify:track:2FDEHIMkjxFLzj688M2I3h</td>\n      <td>(You're So Square) Baby I Don't Care - Studio Jam</td>\n      <td>1968</td>\n      <td>The Beatles</td>\n      <td>29</td>\n      <td>43</td>\n      <td>9</td>\n      <td>1</td>\n      <td>112.173</td>\n      <td>4</td>\n      <td>...</td>\n      <td>NaN</td>\n      <td>NaN</td>\n      <td>NaN</td>\n      <td>NaN</td>\n      <td>NaN</td>\n      <td>NaN</td>\n      <td>NaN</td>\n      <td>NaN</td>\n      <td>NaN</td>\n      <td>NaN</td>\n    </tr>\n    <tr>\n      <th>1</th>\n      <td>spotify:track:2HvTGx5fzFGpHSyRNvXd9T</td>\n      <td>12-bar Original</td>\n      <td>1965</td>\n      <td>Anthology 2</td>\n      <td>31</td>\n      <td>175</td>\n      <td>9</td>\n      <td>1</td>\n      <td>122.678</td>\n      <td>4</td>\n      <td>...</td>\n      <td>NaN</td>\n      <td>NaN</td>\n      <td>NaN</td>\n      <td>NaN</td>\n      <td>NaN</td>\n      <td>NaN</td>\n      <td>NaN</td>\n      <td>NaN</td>\n      <td>NaN</td>\n      <td>NaN</td>\n    </tr>\n    <tr>\n      <th>2</th>\n      <td>spotify:track:0hKRSZhUGEhKU6aNSPBACZ</td>\n      <td>A Day in the Life</td>\n      <td>1967</td>\n      <td>Sgt. Pepper's Lonely Hearts Club Band</td>\n      <td>65</td>\n      <td>335</td>\n      <td>4</td>\n      <td>0</td>\n      <td>163.219</td>\n      <td>4</td>\n      <td>...</td>\n      <td>NaN</td>\n      <td>NaN</td>\n      <td>NaN</td>\n      <td>NaN</td>\n      <td>1.0</td>\n      <td>1.0</td>\n      <td>2.0</td>\n      <td>18.0</td>\n      <td>1.0</td>\n      <td>1.0</td>\n    </tr>\n    <tr>\n      <th>9</th>\n      <td>spotify:track:5tztLBvTlNC15Np2tnQ5Ll</td>\n      <td>All I've Got to Do</td>\n      <td>1963</td>\n      <td>With the Beatles</td>\n      <td>55</td>\n      <td>124</td>\n      <td>1</td>\n      <td>0</td>\n      <td>119.403</td>\n      <td>4</td>\n      <td>...</td>\n      <td>NaN</td>\n      <td>NaN</td>\n      <td>NaN</td>\n      <td>NaN</td>\n      <td>NaN</td>\n      <td>NaN</td>\n      <td>NaN</td>\n      <td>NaN</td>\n      <td>NaN</td>\n      <td>NaN</td>\n    </tr>\n    <tr>\n      <th>15</th>\n      <td>spotify:track:4KRgqwb4kvBuTz1utbYxfb</td>\n      <td>And Your Bird Can Sing</td>\n      <td>1966</td>\n      <td>Revolver</td>\n      <td>58</td>\n      <td>121</td>\n      <td>4</td>\n      <td>1</td>\n      <td>132.590</td>\n      <td>4</td>\n      <td>...</td>\n      <td>NaN</td>\n      <td>NaN</td>\n      <td>NaN</td>\n      <td>NaN</td>\n      <td>NaN</td>\n      <td>NaN</td>\n      <td>30.0</td>\n      <td>NaN</td>\n      <td>NaN</td>\n      <td>33.0</td>\n    </tr>\n    <tr>\n      <th>...</th>\n      <td>...</td>\n      <td>...</td>\n      <td>...</td>\n      <td>...</td>\n      <td>...</td>\n      <td>...</td>\n      <td>...</td>\n      <td>...</td>\n      <td>...</td>\n      <td>...</td>\n      <td>...</td>\n      <td>...</td>\n      <td>...</td>\n      <td>...</td>\n      <td>...</td>\n      <td>...</td>\n      <td>...</td>\n      <td>...</td>\n      <td>...</td>\n      <td>...</td>\n      <td>...</td>\n    </tr>\n    <tr>\n      <th>264</th>\n      <td>spotify:track:6j67aNAPeQ31uw4qw4rpLa</td>\n      <td>Wild Honey Pie</td>\n      <td>1968</td>\n      <td>The Beatles</td>\n      <td>52</td>\n      <td>52</td>\n      <td>2</td>\n      <td>1</td>\n      <td>89.900</td>\n      <td>4</td>\n      <td>...</td>\n      <td>NaN</td>\n      <td>NaN</td>\n      <td>NaN</td>\n      <td>NaN</td>\n      <td>NaN</td>\n      <td>NaN</td>\n      <td>NaN</td>\n      <td>NaN</td>\n      <td>NaN</td>\n      <td>NaN</td>\n    </tr>\n    <tr>\n      <th>274</th>\n      <td>spotify:track:1n8oABN9yti0owTEKcms0q</td>\n      <td>You Know What to Do</td>\n      <td>1964</td>\n      <td>Anthology 1</td>\n      <td>28</td>\n      <td>119</td>\n      <td>9</td>\n      <td>1</td>\n      <td>82.770</td>\n      <td>4</td>\n      <td>...</td>\n      <td>NaN</td>\n      <td>NaN</td>\n      <td>NaN</td>\n      <td>NaN</td>\n      <td>NaN</td>\n      <td>NaN</td>\n      <td>NaN</td>\n      <td>NaN</td>\n      <td>NaN</td>\n      <td>NaN</td>\n    </tr>\n    <tr>\n      <th>278</th>\n      <td>spotify:track:175jiRVJ6N6ayJQ1FXim56</td>\n      <td>You'll Be Mine</td>\n      <td>1960</td>\n      <td>Anthology 1</td>\n      <td>28</td>\n      <td>99</td>\n      <td>5</td>\n      <td>1</td>\n      <td>89.585</td>\n      <td>3</td>\n      <td>...</td>\n      <td>NaN</td>\n      <td>NaN</td>\n      <td>NaN</td>\n      <td>NaN</td>\n      <td>NaN</td>\n      <td>NaN</td>\n      <td>NaN</td>\n      <td>NaN</td>\n      <td>NaN</td>\n      <td>NaN</td>\n    </tr>\n    <tr>\n      <th>279</th>\n      <td>spotify:track:70HNt0eoBVqr4ss68U8x3B</td>\n      <td>You're Going to Lose That Girl</td>\n      <td>1965</td>\n      <td>Help!</td>\n      <td>57</td>\n      <td>140</td>\n      <td>4</td>\n      <td>1</td>\n      <td>131.975</td>\n      <td>4</td>\n      <td>...</td>\n      <td>NaN</td>\n      <td>NaN</td>\n      <td>NaN</td>\n      <td>NaN</td>\n      <td>NaN</td>\n      <td>27.0</td>\n      <td>NaN</td>\n      <td>NaN</td>\n      <td>NaN</td>\n      <td>NaN</td>\n    </tr>\n    <tr>\n      <th>283</th>\n      <td>spotify:track:1dxbAIfCASqv6jix2R1Taj</td>\n      <td>Your Mother Should Know</td>\n      <td>1967</td>\n      <td>Magical Mystery Tour</td>\n      <td>58</td>\n      <td>149</td>\n      <td>0</td>\n      <td>1</td>\n      <td>117.613</td>\n      <td>4</td>\n      <td>...</td>\n      <td>NaN</td>\n      <td>NaN</td>\n      <td>NaN</td>\n      <td>NaN</td>\n      <td>NaN</td>\n      <td>NaN</td>\n      <td>NaN</td>\n      <td>NaN</td>\n      <td>NaN</td>\n      <td>NaN</td>\n    </tr>\n  </tbody>\n</table>\n<p>99 rows × 45 columns</p>\n</div>"
     },
     "metadata": {},
     "output_type": "display_data"
    }
   ],
   "source": [
    "display(songs.loc[songs.Themes.isnull()])"
   ],
   "metadata": {
    "collapsed": false,
    "ExecuteTime": {
     "end_time": "2023-09-15T16:01:20.327605500Z",
     "start_time": "2023-09-15T16:01:20.300772100Z"
    }
   },
   "id": "2a93f5738a0c4a8c"
  },
  {
   "cell_type": "markdown",
   "source": [
    "Replace the missing values for *Themes* manually, based on data from [AllMusic](https://www.allmusic.com/), [SongMeanings](https://songmeanings.com/) and VD's personal experience."
   ],
   "metadata": {
    "collapsed": false
   },
   "id": "c53db609bda0271b"
  },
  {
   "cell_type": "code",
   "execution_count": 11,
   "outputs": [
    {
     "data": {
      "text/plain": "Int64Index([  0,   1,   2,   9,  15,  22,  25,  26,  27,  28,  31,  33,  36,\n             37,  40,  42,  44,  49,  57,  59,  63,  65,  66,  69,  76,  80,\n             81,  82,  83,  85,  87,  88,  93,  94,  95,  96,  97, 102, 110,\n            112, 117, 118, 119, 125, 130, 133, 134, 143, 144, 146, 147, 149,\n            151, 153, 158, 162, 163, 167, 168, 170, 175, 178, 180, 181, 183,\n            186, 188, 189, 190, 191, 196, 199, 202, 203, 205, 206, 207, 209,\n            213, 218, 221, 224, 230, 231, 232, 233, 234, 237, 243, 247, 253,\n            255, 257, 263, 264, 274, 278, 279, 283],\n           dtype='int64')"
     },
     "metadata": {},
     "output_type": "display_data"
    },
    {
     "data": {
      "text/plain": "                                                Title Themes\n0   (You're So Square) Baby I Don't Care - Studio Jam    NaN\n1                                     12-bar Original    NaN\n2                                   A Day in the Life    NaN\n9                                  All I've Got to Do    NaN\n15                             And Your Bird Can Sing    NaN\n22                            Baby, You're a Rich Man    NaN\n25                                  Beautiful Dreamer    NaN\n26                                            Because    NaN\n27                 Being for the Benefit of Mr. Kite!    NaN\n28                                       Besame Mucho    NaN",
      "text/html": "<div>\n<style scoped>\n    .dataframe tbody tr th:only-of-type {\n        vertical-align: middle;\n    }\n\n    .dataframe tbody tr th {\n        vertical-align: top;\n    }\n\n    .dataframe thead th {\n        text-align: right;\n    }\n</style>\n<table border=\"1\" class=\"dataframe\">\n  <thead>\n    <tr style=\"text-align: right;\">\n      <th></th>\n      <th>Title</th>\n      <th>Themes</th>\n    </tr>\n  </thead>\n  <tbody>\n    <tr>\n      <th>0</th>\n      <td>(You're So Square) Baby I Don't Care - Studio Jam</td>\n      <td>NaN</td>\n    </tr>\n    <tr>\n      <th>1</th>\n      <td>12-bar Original</td>\n      <td>NaN</td>\n    </tr>\n    <tr>\n      <th>2</th>\n      <td>A Day in the Life</td>\n      <td>NaN</td>\n    </tr>\n    <tr>\n      <th>9</th>\n      <td>All I've Got to Do</td>\n      <td>NaN</td>\n    </tr>\n    <tr>\n      <th>15</th>\n      <td>And Your Bird Can Sing</td>\n      <td>NaN</td>\n    </tr>\n    <tr>\n      <th>22</th>\n      <td>Baby, You're a Rich Man</td>\n      <td>NaN</td>\n    </tr>\n    <tr>\n      <th>25</th>\n      <td>Beautiful Dreamer</td>\n      <td>NaN</td>\n    </tr>\n    <tr>\n      <th>26</th>\n      <td>Because</td>\n      <td>NaN</td>\n    </tr>\n    <tr>\n      <th>27</th>\n      <td>Being for the Benefit of Mr. Kite!</td>\n      <td>NaN</td>\n    </tr>\n    <tr>\n      <th>28</th>\n      <td>Besame Mucho</td>\n      <td>NaN</td>\n    </tr>\n  </tbody>\n</table>\n</div>"
     },
     "metadata": {},
     "output_type": "display_data"
    }
   ],
   "source": [
    "i = songs.loc[songs.Themes.isnull()].index\n",
    "display(i)\n",
    "display(songs.loc[i, ['Title', 'Themes']][0:10])"
   ],
   "metadata": {
    "collapsed": false,
    "ExecuteTime": {
     "end_time": "2023-09-15T20:14:20.153970300Z",
     "start_time": "2023-09-15T20:14:20.128646800Z"
    }
   },
   "id": "243161a00bbee118"
  },
  {
   "cell_type": "code",
   "execution_count": 119,
   "outputs": [],
   "source": [
    "themes = ['Cool & Cocky, Affection/Fondness, New Love, Playful, Hanging Out',\n",
    "         '(instrumental)',\n",
    "         'Politics/Society, Imagination, Reflection, Revolution',\n",
    "         'Affection/Fondness, In Love, New Love',\n",
    "         'In Love',\n",
    "         'Politics/Society',\n",
    "         'Feeling Blue, Heartache, Introspection, Comfort, In Love, Stay in Bed, Sunday Afternoon, Sweet Dreams',\n",
    "         'In Love, Loss/Grief',\n",
    "         'Circus, Politics/Society, Mocking',\n",
    "         'Romantic Evening, Seduction, Sex, Dinner Ambiance, Relaxation, Affection/Fondness, Late Night',\n",
    "         'Imagination, Introspection, Reflection, Solitude',\n",
    "         'Introspection, Reflection, Solitude, Feeling Blue',\n",
    "         'Introspection, Reflection, Solitude, Feeling Blue',\n",
    "         '(instrumental)',\n",
    "         'Introspection, Reflection, Solitude',\n",
    "         'Introspection, Reflection',\n",
    "         'Children, Family Gatherings, Imagination',\n",
    "         'Affection/Fondness, In Love',\n",
    "         'In Love',\n",
    "         'In Love, Cars, Motivation, Playful',\n",
    "         'Cool & Cocky, Guys Night Out, Sex',\n",
    "         'Introspection, Awareness, Rainy Day, Reflection',\n",
    "         '(instrumental)',\n",
    "         'Introspection, Reflection, Solitude',\n",
    "         'Affection/Fondness, Lullaby, Family Gatherings',\n",
    "         'In Love, Home, Introspection',\n",
    "         'In Love',\n",
    "         'Affection/Fondness, In Love',\n",
    "         'In Love, Sex, Introspection',\n",
    "         'In Love, Relationships, Miscommunication',\n",
    "         'In Love, Sex',\n",
    "         'In Love',\n",
    "         'Affection/Fondness, In Love',\n",
    "         'Cool & Cocky, Freedom, Guys Night Out, Jealousy',\n",
    "         'Yearning, Affection/Fondness, In Love, Jealousy',\n",
    "         'Affection/Fondness, In Love',\n",
    "         'Imagination, Late Night, Reflection',\n",
    "         'Affection/Fondness, Day Driving, Hanging Out',\n",
    "         'Affection/Fondness, Sex, Despair',\n",
    "         'Affection/Fondness, In Love, Relationships, Miscommunication',\n",
    "         'Breakup, Relationships, Reflection',\n",
    "         'Affection/Fondness, In Love',\n",
    "         'Feeling Blue, Relationships',\n",
    "         'Affection/Fondness',\n",
    "         'In Love',\n",
    "         'In Love',\n",
    "         'Affection/Fondness, In Love, Feeling Blue',\n",
    "         'Fight, Protection',\n",
    "         'Affection/Fondness, Sex',\n",
    "         'Affection/Fondness, Imagination',\n",
    "         'Affection/Fondness, In Love',\n",
    "         'Cool & Cocky, Guys Night Out',\n",
    "         'Cool & Cocky, Guys Night Out',\n",
    "         'In Love, Sex, Introspection, Reflection',\n",
    "         'Imagination, Reflection',\n",
    "         'In Love, School, Fight, Oppression',\n",
    "         'Politics/Society',\n",
    "         'Politics/Society, Money',\n",
    "         'Cool & Cocky',\n",
    "         'In Love',\n",
    "         '',\n",
    "         '',\n",
    "         '',\n",
    "         '',\n",
    "         '',\n",
    "         '',\n",
    "         '',\n",
    "         '',\n",
    "         '',\n",
    "         '',\n",
    "         '',\n",
    "         '',\n",
    "         '',\n",
    "         '',\n",
    "         '',\n",
    "         '',\n",
    "         '',\n",
    "         '',\n",
    "         '',\n",
    "         '',\n",
    "         '',\n",
    "         '',\n",
    "         '',\n",
    "         '',\n",
    "         '',\n",
    "         '',\n",
    "         '',\n",
    "         '',\n",
    "         '',\n",
    "         '',\n",
    "         '',\n",
    "         '',\n",
    "         '',\n",
    "         '',\n",
    "         '',\n",
    "         '',\n",
    "         '',\n",
    "         '',\n",
    "         '',\n",
    "         ]"
   ],
   "metadata": {
    "collapsed": false
   },
   "id": "489b8753b252426f"
  },
  {
   "cell_type": "code",
   "execution_count": 121,
   "outputs": [],
   "source": [
    "songs.loc[i, 'Themes'] = themes"
   ],
   "metadata": {
    "collapsed": false
   },
   "id": "84ce898902dcd73d"
  },
  {
   "cell_type": "code",
   "execution_count": 122,
   "outputs": [
    {
     "data": {
      "text/plain": "                                                 Title  \\\n0    (You're So Square) Baby I Don't Care - Studio Jam   \n25                                   Beautiful Dreamer   \n28                                        Besame Mucho   \n33                      Can You Take Me Back? - Take 1   \n82                           Hallelujah, I Love Her So   \n102                                      I Got a Woman   \n118                                       I'll Get You   \n125                              I'm Talking About You   \n133                         In Spite of All the Danger   \n143                              Leave My Kitten Alone   \n144                                  Lend Me Your Comb   \n149                                    Long Tall Sally   \n151                         Los Paranoias - Studio Jam   \n168                                      Moonlight Bay   \n218                         Sour Milk Sea - Esher Demo   \n230                                 That'll Be the Day   \n231                            That's All Right (Mama)   \n233              The Continuing Story of Bungalow Bill   \n237                                 The Honeymoon Song   \n246                                           This Boy   \n254                                          Two of Us   \n274                                You Know What to Do   \n278                                     You'll Be Mine   \n\n                                                 Moods  \n0    Energetic Exciting Exuberant Raucous Rollickin...  \n25   Energetic Joyous Rowdy Fiery Fun Rousing Cheer...  \n28   Earnest Precious Refined Sentimental Sweet War...  \n33   Freewheeling Humorous Irreverent Playful Quirk...  \n82   Amiable/Good-Natured Innocent Swaggering Brigh...  \n102  Bright Amiable/Good-Natured Cheerful Earnest S...  \n118  Bright Earnest Amiable/Good-Natured Playful Wa...  \n125  Acerbic Rollicking Rousing Menacing Swaggering...  \n133  Atmospheric Passionate Yearning Plaintive Inno...  \n143                                         Aggressive  \n144                                   Rousing Yearning  \n149  Bright Energetic Exciting Exuberant Giddy Rauc...  \n151  Menacing Humorous Irreverent Playful Quirky Ro...  \n168  Amiable/Good-Natured Carefree Cheerful Fun Gid...  \n218  Bright Earnest Amiable/Good-Natured Rousing Fr...  \n230  Energetic Exciting Joyous Swaggering Sweet Ami...  \n231  Boisterous Bravado Confident Earthy Energetic ...  \n233  Freewheeling Humorous Irreverent Playful Quirk...  \n237  Innocent Romantic Sentimental Wistful Amiable/...  \n246  Bittersweet Poignant Reflective Soothing Wistf...  \n254  Amiable/Good-Natured Bright Carefree Intimate ...  \n274  Bright Effervescent Energetic Exciting Exubera...  \n278           Bright Earnest Amiable/Good-Natured Warm  ",
      "text/html": "<div>\n<style scoped>\n    .dataframe tbody tr th:only-of-type {\n        vertical-align: middle;\n    }\n\n    .dataframe tbody tr th {\n        vertical-align: top;\n    }\n\n    .dataframe thead th {\n        text-align: right;\n    }\n</style>\n<table border=\"1\" class=\"dataframe\">\n  <thead>\n    <tr style=\"text-align: right;\">\n      <th></th>\n      <th>Title</th>\n      <th>Moods</th>\n    </tr>\n  </thead>\n  <tbody>\n    <tr>\n      <th>0</th>\n      <td>(You're So Square) Baby I Don't Care - Studio Jam</td>\n      <td>Energetic Exciting Exuberant Raucous Rollickin...</td>\n    </tr>\n    <tr>\n      <th>25</th>\n      <td>Beautiful Dreamer</td>\n      <td>Energetic Joyous Rowdy Fiery Fun Rousing Cheer...</td>\n    </tr>\n    <tr>\n      <th>28</th>\n      <td>Besame Mucho</td>\n      <td>Earnest Precious Refined Sentimental Sweet War...</td>\n    </tr>\n    <tr>\n      <th>33</th>\n      <td>Can You Take Me Back? - Take 1</td>\n      <td>Freewheeling Humorous Irreverent Playful Quirk...</td>\n    </tr>\n    <tr>\n      <th>82</th>\n      <td>Hallelujah, I Love Her So</td>\n      <td>Amiable/Good-Natured Innocent Swaggering Brigh...</td>\n    </tr>\n    <tr>\n      <th>102</th>\n      <td>I Got a Woman</td>\n      <td>Bright Amiable/Good-Natured Cheerful Earnest S...</td>\n    </tr>\n    <tr>\n      <th>118</th>\n      <td>I'll Get You</td>\n      <td>Bright Earnest Amiable/Good-Natured Playful Wa...</td>\n    </tr>\n    <tr>\n      <th>125</th>\n      <td>I'm Talking About You</td>\n      <td>Acerbic Rollicking Rousing Menacing Swaggering...</td>\n    </tr>\n    <tr>\n      <th>133</th>\n      <td>In Spite of All the Danger</td>\n      <td>Atmospheric Passionate Yearning Plaintive Inno...</td>\n    </tr>\n    <tr>\n      <th>143</th>\n      <td>Leave My Kitten Alone</td>\n      <td>Aggressive</td>\n    </tr>\n    <tr>\n      <th>144</th>\n      <td>Lend Me Your Comb</td>\n      <td>Rousing Yearning</td>\n    </tr>\n    <tr>\n      <th>149</th>\n      <td>Long Tall Sally</td>\n      <td>Bright Energetic Exciting Exuberant Giddy Rauc...</td>\n    </tr>\n    <tr>\n      <th>151</th>\n      <td>Los Paranoias - Studio Jam</td>\n      <td>Menacing Humorous Irreverent Playful Quirky Ro...</td>\n    </tr>\n    <tr>\n      <th>168</th>\n      <td>Moonlight Bay</td>\n      <td>Amiable/Good-Natured Carefree Cheerful Fun Gid...</td>\n    </tr>\n    <tr>\n      <th>218</th>\n      <td>Sour Milk Sea - Esher Demo</td>\n      <td>Bright Earnest Amiable/Good-Natured Rousing Fr...</td>\n    </tr>\n    <tr>\n      <th>230</th>\n      <td>That'll Be the Day</td>\n      <td>Energetic Exciting Joyous Swaggering Sweet Ami...</td>\n    </tr>\n    <tr>\n      <th>231</th>\n      <td>That's All Right (Mama)</td>\n      <td>Boisterous Bravado Confident Earthy Energetic ...</td>\n    </tr>\n    <tr>\n      <th>233</th>\n      <td>The Continuing Story of Bungalow Bill</td>\n      <td>Freewheeling Humorous Irreverent Playful Quirk...</td>\n    </tr>\n    <tr>\n      <th>237</th>\n      <td>The Honeymoon Song</td>\n      <td>Innocent Romantic Sentimental Wistful Amiable/...</td>\n    </tr>\n    <tr>\n      <th>246</th>\n      <td>This Boy</td>\n      <td>Bittersweet Poignant Reflective Soothing Wistf...</td>\n    </tr>\n    <tr>\n      <th>254</th>\n      <td>Two of Us</td>\n      <td>Amiable/Good-Natured Bright Carefree Intimate ...</td>\n    </tr>\n    <tr>\n      <th>274</th>\n      <td>You Know What to Do</td>\n      <td>Bright Effervescent Energetic Exciting Exubera...</td>\n    </tr>\n    <tr>\n      <th>278</th>\n      <td>You'll Be Mine</td>\n      <td>Bright Earnest Amiable/Good-Natured Warm</td>\n    </tr>\n  </tbody>\n</table>\n</div>"
     },
     "execution_count": 122,
     "metadata": {},
     "output_type": "execute_result"
    }
   ],
   "source": [
    "songs.loc[i, ['Title', 'Themes']]"
   ],
   "metadata": {
    "collapsed": false
   },
   "id": "a4e90df4f1e93aba"
  },
  {
   "cell_type": "markdown",
   "source": [
    "Save the new version of the dataset, *The Beatles songs dataset, 284x45, v6.csv*."
   ],
   "metadata": {
    "collapsed": false
   },
   "id": "11cb2bc2b6dd7021"
  },
  {
   "cell_type": "code",
   "execution_count": 123,
   "outputs": [],
   "source": [
    "songs.to_csv('../data/The Beatles songs dataset, 284x45, v6.csv', index=False)"
   ],
   "metadata": {
    "collapsed": false
   },
   "id": "6884d9159f625fca"
  },
  {
   "cell_type": "markdown",
   "source": [
    "Make sure to generalize the themes into [categories](https://en.wikipedia.org/wiki/Category:Songs_by_theme)."
   ],
   "metadata": {
    "collapsed": false
   },
   "id": "83ea88b51f8df25f"
  }
 ],
 "metadata": {
  "kernelspec": {
   "display_name": "Python 3",
   "language": "python",
   "name": "python3"
  },
  "language_info": {
   "codemirror_mode": {
    "name": "ipython",
    "version": 2
   },
   "file_extension": ".py",
   "mimetype": "text/x-python",
   "name": "python",
   "nbconvert_exporter": "python",
   "pygments_lexer": "ipython2",
   "version": "2.7.6"
  }
 },
 "nbformat": 4,
 "nbformat_minor": 5
}
