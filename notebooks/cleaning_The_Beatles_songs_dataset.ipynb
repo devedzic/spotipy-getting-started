{
 "cells": [
  {
   "cell_type": "markdown",
   "source": [
    "# Cleaning The Beatles songs dataset\n",
    "Starting point: The Beatles songs dataset created in the end of the *crafting_The_Beatles_songs_dataset.ipynb*."
   ],
   "metadata": {
    "collapsed": false
   },
   "id": "9142d79c3b738a3e"
  },
  {
   "cell_type": "markdown",
   "source": [
    "## Import statements"
   ],
   "metadata": {
    "collapsed": false
   },
   "id": "25c61323ba8c5efd"
  },
  {
   "cell_type": "code",
   "execution_count": 1,
   "outputs": [],
   "source": [
    "import pandas as pd"
   ],
   "metadata": {
    "collapsed": false,
    "ExecuteTime": {
     "end_time": "2023-09-15T16:00:35.569930400Z",
     "start_time": "2023-09-15T16:00:33.641456400Z"
    }
   },
   "id": "ad07df19e919bb90"
  },
  {
   "cell_type": "markdown",
   "source": [
    "## Read the dataset\n",
    "Use The Beatles songs dataset created in the end of the *crafting_The_Beatles_songs_dataset.ipynb*, `The Beatles songs dataset, 285x45, v0.csv`."
   ],
   "metadata": {
    "collapsed": false
   },
   "id": "3076f26a157ca78c"
  },
  {
   "cell_type": "code",
   "execution_count": 3,
   "outputs": [],
   "source": [
    "songs = pd.read_csv('../data/The Beatles songs dataset, 285x45, v0.csv')"
   ],
   "metadata": {
    "collapsed": false,
    "ExecuteTime": {
     "end_time": "2023-09-13T15:44:11.096243300Z",
     "start_time": "2023-09-13T15:44:11.080477600Z"
    }
   },
   "id": "285179a3aa0a8430"
  },
  {
   "cell_type": "markdown",
   "source": [
    "## Remove *NaN* and other missing values from the dataset"
   ],
   "metadata": {
    "collapsed": false
   },
   "id": "8c050f2ca0fa7ab1"
  },
  {
   "cell_type": "markdown",
   "source": [
    "### Check the dataset for *NaN* values"
   ],
   "metadata": {
    "collapsed": false
   },
   "id": "7f7b80527a6f99bb"
  },
  {
   "cell_type": "code",
   "execution_count": 5,
   "outputs": [
    {
     "data": {
      "text/plain": "URI                                      0\nTitle                                    0\nYear                                     8\nAlbum                                    1\nPopularity                               0\nDuration                                 0\nKey                                      0\nMode                                     0\nTempo                                    0\nTime_signature                           0\nValence                                  0\nDanceability                             0\nEnergy                                   0\nLoudness                                 0\nAcousticness                             0\nInstrumentalness                         0\nLiveness                                 0\nSpeechiness                              0\nAlbum debut                             10\nOther releases                          72\nSingle A side                          195\nSingle B side                          195\nSingle certification                   235\nGenre                                    7\nStyles                                  28\nThemes                                 101\nMoods                                   25\nSongwriter(s)                            7\nLead vocal(s)                           12\nCover                                  219\nCovered by                             103\nChart position UK (Wikipedia)          240\nChart position US (Wikipedia)          218\nHighest position (The Guardian)        254\nWeeks on chart in UK (The Guardian)    254\nWeeks at No1 in UK (The Guardian)      269\nHighest position (Billboard)           236\nWeeks at No1 (Billboard)               270\nTop 50 (Billboard)                     236\nTop 50 (Ultimate classic rock)         236\nTop 50 (Rolling Stone)                 236\nTop 50 (NME)                           236\nTop 50 (Top50songs.org)                235\nTop 50 (USA today, 2017)               235\nTop 50 (Vulture, by Bill Wyman)        243\ndtype: int64"
     },
     "metadata": {},
     "output_type": "display_data"
    }
   ],
   "source": [
    "display(songs.isnull().sum())"
   ],
   "metadata": {
    "collapsed": false,
    "ExecuteTime": {
     "end_time": "2023-09-13T15:52:13.423831100Z",
     "start_time": "2023-09-13T15:52:13.416350Z"
    }
   },
   "id": "77a5b37b778b2d0d"
  },
  {
   "cell_type": "markdown",
   "source": [
    "Obviously, the audio features from Spotify are all there. \n",
    "The missing values for `Album`, `Year`, `Album debut`, `Genre` and `Songwriter(s)` are very few and are best inspected and eliminated manually. In the case of `Album` and `Album debut`, the values from the two columns are compared for validation purposes and the more likely value from the two columns is used (the other one is discarded as erroneous).\n",
    "The missing values for `Styles`, `Moods`, `Themes` and `Lead vocal(s)` are also inspected manually and are filled in based on VD's experience and on consulting additional Websites on the Internet, notably [AllMusic](https://www.allmusic.com/).\n",
    "As for `Other releases`, the missing values are filled with 0s. In some cases, this choice is questionable, since some songs have been released on, say, *Anthology* series only, and they represent early versions of the songs subsequently released on The Beatles members' solo albums after the breakup (e.g., *All Things Must Pass*). The criterion for filling the missing value with 0 was that there were no other releases of the same song by all four Beatles.\n",
    "All missing values for `Cover` are set to 'N' and then double-checked manually, and all missing values for `Covered by` are set to 0 (also double-checked manually).\n",
    "All missing values in columns `Chart position UK (Wikipedia)` : `Top 50 (Vulture, by Bill Wyman)` are set to 0."
   ],
   "metadata": {
    "collapsed": false
   },
   "id": "31a865d94e2e2fb9"
  },
  {
   "cell_type": "markdown",
   "source": [
    "### *Album*, *Year*, *Album debut*, *Genre* and *Songwriter(s)*"
   ],
   "metadata": {
    "collapsed": false
   },
   "id": "2441a09481a16172"
  },
  {
   "cell_type": "markdown",
   "source": [
    "##### *Album*"
   ],
   "metadata": {
    "collapsed": false
   },
   "id": "6790d0b4937dc5cf"
  },
  {
   "cell_type": "code",
   "execution_count": 9,
   "outputs": [
    {
     "data": {
      "text/plain": "1"
     },
     "execution_count": 9,
     "metadata": {},
     "output_type": "execute_result"
    }
   ],
   "source": [
    "condition = songs.Album.isnull()\n",
    "songs.Album.isnull().sum()"
   ],
   "metadata": {
    "collapsed": false,
    "ExecuteTime": {
     "end_time": "2023-09-13T18:29:23.973208700Z",
     "start_time": "2023-09-13T18:29:23.967682400Z"
    }
   },
   "id": "70b2992e9b80a1b3"
  },
  {
   "cell_type": "markdown",
   "source": [
    "Careful manual inspection has shown that both *Album* and *Album debut* are missing for the corresponding song - *Sour Milk Sea, Esher Demo* - as well as that another song - *Child of Nature* - has not been included in *The Beatles songs dataset, 285x45, v0.csv* dataset. Thus another auxiliary dataframe has been created in the *tracks.ipynb* notebook in the end, with songs from the *Esher Demos* playlist only (`THE_ESHER_DEMOS_PLAYLIST = 'https://open.spotify.com/playlist/1ACQGYUwU0mkFoIu9ac4Tu?si=bc8505d1cd064300'`), and the data from that dataframe have been manually added to *The Beatles songs dataset, 285x45, v0.csv* dataset to make it more complete. The resulting dataframe has been manually saved as *The Beatles songs dataset, 286x45, v0.csv* dataset."
   ],
   "metadata": {
    "collapsed": false
   },
   "id": "f684114a8b3b12da"
  },
  {
   "cell_type": "code",
   "execution_count": 11,
   "outputs": [
    {
     "data": {
      "text/plain": "0"
     },
     "execution_count": 11,
     "metadata": {},
     "output_type": "execute_result"
    }
   ],
   "source": [
    "songs = pd.read_csv('../data/The Beatles songs dataset, 286x45, v0.csv')\n",
    "songs.Album.isnull().sum()"
   ],
   "metadata": {
    "collapsed": false,
    "ExecuteTime": {
     "end_time": "2023-09-13T19:24:55.665841800Z",
     "start_time": "2023-09-13T19:24:55.654842200Z"
    }
   },
   "id": "b6fb246b9cdceb31"
  },
  {
   "cell_type": "markdown",
   "source": [
    "##### *Year*"
   ],
   "metadata": {
    "collapsed": false
   },
   "id": "e6e215596ca3f568"
  },
  {
   "cell_type": "markdown",
   "source": [
    "How many songs miss the value for *Year*?"
   ],
   "metadata": {
    "collapsed": false
   },
   "id": "a4b79129f3ce54c5"
  },
  {
   "cell_type": "code",
   "execution_count": 12,
   "outputs": [
    {
     "data": {
      "text/plain": "7"
     },
     "execution_count": 12,
     "metadata": {},
     "output_type": "execute_result"
    }
   ],
   "source": [
    "songs.Year.isnull().sum()"
   ],
   "metadata": {
    "collapsed": false,
    "ExecuteTime": {
     "end_time": "2023-09-13T19:45:59.566656300Z",
     "start_time": "2023-09-13T19:45:59.561109900Z"
    }
   },
   "id": "db8a550f67a1d54b"
  },
  {
   "cell_type": "markdown",
   "source": [
    "What are these songs?"
   ],
   "metadata": {
    "collapsed": false
   },
   "id": "55fd939029136480"
  },
  {
   "cell_type": "code",
   "execution_count": 13,
   "outputs": [
    {
     "data": {
      "text/plain": "                                      URI  \\\n0    spotify:track:2FDEHIMkjxFLzj688M2I3h   \n2    spotify:track:34dsKRJHIadrrNdCDtMwGn   \n8    spotify:track:00fyPXxe2SCBHnFwEO9Eh1   \n30   spotify:track:2Qgak11t9BJHwkicG0WJQE   \n35   spotify:track:5D6TY2nkWmC0fijXKuYQrm   \n98   spotify:track:0cyR03TLxoLceHKWs7UDDM   \n238  spotify:track:1j8M18rzGenrxvrbHNp8Aj   \n\n                                                 Title Year            Album  \\\n0    (You're So Square) Baby I Don't Care - Studio Jam  NaN      The Beatles   \n2                    A Beginning - Anthology 3 Version  NaN      Anthology 3   \n8    Across the Universe - Take 2 / Anthology 2 Ver...  NaN      Anthology 2   \n30                                        Besame Mucho  NaN      Anthology 1   \n35                      Can You Take Me Back? - Take 1  NaN      The Beatles   \n98                                   How Do You Do It?  NaN      Anthology 1   \n238  The Hippy Hippy Shake - Live at the Bbc for \"p...  NaN  Live At The BBC   \n\n     Popularity  Duration  Key  Mode    Tempo  Time_signature  ...  \\\n0            29        43    9     1  112.173               4  ...   \n2            29        50    0     1   90.588               3  ...   \n8            35       212    2     1   79.377               4  ...   \n30           45       157   11     0   76.146               4  ...   \n35           30       142    5     1   79.355               4  ...   \n98           34       117    7     1  136.596               4  ...   \n238          29       110    2     1  133.737               4  ...   \n\n     Weeks at No1 in UK (The Guardian)  Highest position (Billboard)  \\\n0                                  NaN                           NaN   \n2                                  NaN                           NaN   \n8                                  NaN                           NaN   \n30                                 NaN                           NaN   \n35                                 NaN                           NaN   \n98                                 NaN                           NaN   \n238                                NaN                           NaN   \n\n     Weeks at No1 (Billboard)  Top 50 (Billboard)  \\\n0                         NaN                 NaN   \n2                         NaN                 NaN   \n8                         NaN                 NaN   \n30                        NaN                 NaN   \n35                        NaN                 NaN   \n98                        NaN                 NaN   \n238                       NaN                 NaN   \n\n     Top 50 (Ultimate classic rock)  Top 50 (Rolling Stone)  Top 50 (NME)  \\\n0                               NaN                     NaN           NaN   \n2                               NaN                     NaN           NaN   \n8                               NaN                     NaN           NaN   \n30                              NaN                     NaN           NaN   \n35                              NaN                     NaN           NaN   \n98                              NaN                     NaN           NaN   \n238                             NaN                     NaN           NaN   \n\n     Top 50 (Top50songs.org) Top 50 (USA today, 2017)  \\\n0                        NaN                      NaN   \n2                        NaN                      NaN   \n8                        NaN                      NaN   \n30                       NaN                      NaN   \n35                       NaN                      NaN   \n98                       NaN                      NaN   \n238                      NaN                      NaN   \n\n     Top 50 (Vulture, by Bill Wyman)  \n0                                NaN  \n2                                NaN  \n8                                NaN  \n30                               NaN  \n35                               NaN  \n98                               NaN  \n238                              NaN  \n\n[7 rows x 45 columns]",
      "text/html": "<div>\n<style scoped>\n    .dataframe tbody tr th:only-of-type {\n        vertical-align: middle;\n    }\n\n    .dataframe tbody tr th {\n        vertical-align: top;\n    }\n\n    .dataframe thead th {\n        text-align: right;\n    }\n</style>\n<table border=\"1\" class=\"dataframe\">\n  <thead>\n    <tr style=\"text-align: right;\">\n      <th></th>\n      <th>URI</th>\n      <th>Title</th>\n      <th>Year</th>\n      <th>Album</th>\n      <th>Popularity</th>\n      <th>Duration</th>\n      <th>Key</th>\n      <th>Mode</th>\n      <th>Tempo</th>\n      <th>Time_signature</th>\n      <th>...</th>\n      <th>Weeks at No1 in UK (The Guardian)</th>\n      <th>Highest position (Billboard)</th>\n      <th>Weeks at No1 (Billboard)</th>\n      <th>Top 50 (Billboard)</th>\n      <th>Top 50 (Ultimate classic rock)</th>\n      <th>Top 50 (Rolling Stone)</th>\n      <th>Top 50 (NME)</th>\n      <th>Top 50 (Top50songs.org)</th>\n      <th>Top 50 (USA today, 2017)</th>\n      <th>Top 50 (Vulture, by Bill Wyman)</th>\n    </tr>\n  </thead>\n  <tbody>\n    <tr>\n      <th>0</th>\n      <td>spotify:track:2FDEHIMkjxFLzj688M2I3h</td>\n      <td>(You're So Square) Baby I Don't Care - Studio Jam</td>\n      <td>NaN</td>\n      <td>The Beatles</td>\n      <td>29</td>\n      <td>43</td>\n      <td>9</td>\n      <td>1</td>\n      <td>112.173</td>\n      <td>4</td>\n      <td>...</td>\n      <td>NaN</td>\n      <td>NaN</td>\n      <td>NaN</td>\n      <td>NaN</td>\n      <td>NaN</td>\n      <td>NaN</td>\n      <td>NaN</td>\n      <td>NaN</td>\n      <td>NaN</td>\n      <td>NaN</td>\n    </tr>\n    <tr>\n      <th>2</th>\n      <td>spotify:track:34dsKRJHIadrrNdCDtMwGn</td>\n      <td>A Beginning - Anthology 3 Version</td>\n      <td>NaN</td>\n      <td>Anthology 3</td>\n      <td>29</td>\n      <td>50</td>\n      <td>0</td>\n      <td>1</td>\n      <td>90.588</td>\n      <td>3</td>\n      <td>...</td>\n      <td>NaN</td>\n      <td>NaN</td>\n      <td>NaN</td>\n      <td>NaN</td>\n      <td>NaN</td>\n      <td>NaN</td>\n      <td>NaN</td>\n      <td>NaN</td>\n      <td>NaN</td>\n      <td>NaN</td>\n    </tr>\n    <tr>\n      <th>8</th>\n      <td>spotify:track:00fyPXxe2SCBHnFwEO9Eh1</td>\n      <td>Across the Universe - Take 2 / Anthology 2 Ver...</td>\n      <td>NaN</td>\n      <td>Anthology 2</td>\n      <td>35</td>\n      <td>212</td>\n      <td>2</td>\n      <td>1</td>\n      <td>79.377</td>\n      <td>4</td>\n      <td>...</td>\n      <td>NaN</td>\n      <td>NaN</td>\n      <td>NaN</td>\n      <td>NaN</td>\n      <td>NaN</td>\n      <td>NaN</td>\n      <td>NaN</td>\n      <td>NaN</td>\n      <td>NaN</td>\n      <td>NaN</td>\n    </tr>\n    <tr>\n      <th>30</th>\n      <td>spotify:track:2Qgak11t9BJHwkicG0WJQE</td>\n      <td>Besame Mucho</td>\n      <td>NaN</td>\n      <td>Anthology 1</td>\n      <td>45</td>\n      <td>157</td>\n      <td>11</td>\n      <td>0</td>\n      <td>76.146</td>\n      <td>4</td>\n      <td>...</td>\n      <td>NaN</td>\n      <td>NaN</td>\n      <td>NaN</td>\n      <td>NaN</td>\n      <td>NaN</td>\n      <td>NaN</td>\n      <td>NaN</td>\n      <td>NaN</td>\n      <td>NaN</td>\n      <td>NaN</td>\n    </tr>\n    <tr>\n      <th>35</th>\n      <td>spotify:track:5D6TY2nkWmC0fijXKuYQrm</td>\n      <td>Can You Take Me Back? - Take 1</td>\n      <td>NaN</td>\n      <td>The Beatles</td>\n      <td>30</td>\n      <td>142</td>\n      <td>5</td>\n      <td>1</td>\n      <td>79.355</td>\n      <td>4</td>\n      <td>...</td>\n      <td>NaN</td>\n      <td>NaN</td>\n      <td>NaN</td>\n      <td>NaN</td>\n      <td>NaN</td>\n      <td>NaN</td>\n      <td>NaN</td>\n      <td>NaN</td>\n      <td>NaN</td>\n      <td>NaN</td>\n    </tr>\n    <tr>\n      <th>98</th>\n      <td>spotify:track:0cyR03TLxoLceHKWs7UDDM</td>\n      <td>How Do You Do It?</td>\n      <td>NaN</td>\n      <td>Anthology 1</td>\n      <td>34</td>\n      <td>117</td>\n      <td>7</td>\n      <td>1</td>\n      <td>136.596</td>\n      <td>4</td>\n      <td>...</td>\n      <td>NaN</td>\n      <td>NaN</td>\n      <td>NaN</td>\n      <td>NaN</td>\n      <td>NaN</td>\n      <td>NaN</td>\n      <td>NaN</td>\n      <td>NaN</td>\n      <td>NaN</td>\n      <td>NaN</td>\n    </tr>\n    <tr>\n      <th>238</th>\n      <td>spotify:track:1j8M18rzGenrxvrbHNp8Aj</td>\n      <td>The Hippy Hippy Shake - Live at the Bbc for \"p...</td>\n      <td>NaN</td>\n      <td>Live At The BBC</td>\n      <td>29</td>\n      <td>110</td>\n      <td>2</td>\n      <td>1</td>\n      <td>133.737</td>\n      <td>4</td>\n      <td>...</td>\n      <td>NaN</td>\n      <td>NaN</td>\n      <td>NaN</td>\n      <td>NaN</td>\n      <td>NaN</td>\n      <td>NaN</td>\n      <td>NaN</td>\n      <td>NaN</td>\n      <td>NaN</td>\n      <td>NaN</td>\n    </tr>\n  </tbody>\n</table>\n<p>7 rows × 45 columns</p>\n</div>"
     },
     "metadata": {},
     "output_type": "display_data"
    }
   ],
   "source": [
    "condition = songs.Year.isnull()\n",
    "display(songs.loc[condition])"
   ],
   "metadata": {
    "collapsed": false,
    "ExecuteTime": {
     "end_time": "2023-09-13T19:46:47.726698800Z",
     "start_time": "2023-09-13T19:46:47.703734100Z"
    }
   },
   "id": "a6adedea7cf44a86"
  },
  {
   "cell_type": "markdown",
   "source": [
    "These missing values have been set manually as follows:\n",
    "* (You're So Square) Baby I Don't Care - 1968, since it's part of the Esher Demos\n",
    "* A Beginning - Anthology 3 Version - omitted completely from the dataset, it's too short and not really a Beatles song\n",
    "* Across the Universe - Take 2 / Anthology 2 Version - eliminated, only the version from the *Let It Be* album kept in the dataset\n",
    "* Besame Mucho - 1969 (The Beatles recorded this song during the Let It Be sessions)\n",
    "* Can You Take Me Back? - Take 1 - 1968, since it's part of the Esher Demos\n",
    "* How Do You Do It? - 1962 (ref. The Beatles Bible)\n",
    "* The Hippy Hippy Shake - Live at the BBC for ... - 1963\n",
    "\n",
    "The resulting dataframe has been manually saved as *The Beatles songs dataset, 284x45, v0.csv* dataset."
   ],
   "metadata": {
    "collapsed": false
   },
   "id": "ab50e3636952ca59"
  },
  {
   "cell_type": "code",
   "execution_count": 14,
   "outputs": [
    {
     "data": {
      "text/plain": "0"
     },
     "execution_count": 14,
     "metadata": {},
     "output_type": "execute_result"
    }
   ],
   "source": [
    "songs = pd.read_csv('../data/The Beatles songs dataset, 284x45, v0.csv')\n",
    "songs.Year.isnull().sum()"
   ],
   "metadata": {
    "collapsed": false,
    "ExecuteTime": {
     "end_time": "2023-09-13T20:12:44.616163100Z",
     "start_time": "2023-09-13T20:12:44.601832600Z"
    }
   },
   "id": "a5646e44c3df1068"
  },
  {
   "cell_type": "markdown",
   "source": [
    "##### *Album debut*"
   ],
   "metadata": {
    "collapsed": false
   },
   "id": "1ca9f8f37bc12f6f"
  },
  {
   "cell_type": "code",
   "execution_count": 67,
   "outputs": [
    {
     "data": {
      "text/plain": "(284, 45)"
     },
     "execution_count": 67,
     "metadata": {},
     "output_type": "execute_result"
    }
   ],
   "source": [
    "songs = pd.read_csv('../data/The Beatles songs dataset, 284x45, v0.csv')\n",
    "songs.shape"
   ],
   "metadata": {
    "collapsed": false,
    "ExecuteTime": {
     "end_time": "2023-09-14T07:35:24.682666Z",
     "start_time": "2023-09-14T07:35:24.670300500Z"
    }
   },
   "id": "b472e62753ffdd1e"
  },
  {
   "cell_type": "markdown",
   "source": [
    "How many songs miss the value for *Year*?"
   ],
   "metadata": {
    "collapsed": false
   },
   "id": "420255aa3aeef536"
  },
  {
   "cell_type": "code",
   "execution_count": 68,
   "outputs": [
    {
     "data": {
      "text/plain": "9"
     },
     "execution_count": 68,
     "metadata": {},
     "output_type": "execute_result"
    }
   ],
   "source": [
    "songs['Album debut'].isnull().sum()"
   ],
   "metadata": {
    "collapsed": false,
    "ExecuteTime": {
     "end_time": "2023-09-14T07:35:31.611880800Z",
     "start_time": "2023-09-14T07:35:31.604299700Z"
    }
   },
   "id": "fdd8f78b4009b195"
  },
  {
   "cell_type": "markdown",
   "source": [
    "What are these songs?"
   ],
   "metadata": {
    "collapsed": false
   },
   "id": "2c009822aa239aa5"
  },
  {
   "cell_type": "code",
   "execution_count": 69,
   "outputs": [
    {
     "data": {
      "text/plain": "                                      URI  \\\n0    spotify:track:2FDEHIMkjxFLzj688M2I3h   \n28   spotify:track:2Qgak11t9BJHwkicG0WJQE   \n33   spotify:track:5D6TY2nkWmC0fijXKuYQrm   \n39   spotify:track:1MQhdLXEHmUWLF0bu7uVff   \n40   spotify:track:49GqhxyTdBXAn4cB8EAbTo   \n80   spotify:track:2cQGln8y7OgSOLxSHkgehd   \n82   spotify:track:5aOteYP6rA7vvBA7TG4Zpx   \n151  spotify:track:2yRHcIxk1tQp2Yb4CiCnxT   \n218  spotify:track:3LhwP2LcoiaIxMxRnU6zez   \n\n                                                 Title  Year  \\\n0    (You're So Square) Baby I Don't Care - Studio Jam  1968   \n28                                        Besame Mucho  1969   \n33                      Can You Take Me Back? - Take 1  1968   \n39                        Child Of Nature - Esher Demo  1968   \n40                                Circles - Esher Demo  1968   \n80                                             Goodbye  1969   \n82                           Hallelujah, I Love Her So  1960   \n151                         Los Paranoias - Studio Jam  1968   \n218                         Sour Milk Sea - Esher Demo  1968   \n\n                                 Album  Popularity  Duration  Key  Mode  \\\n0                          The Beatles          29        43    9     1   \n28                         Anthology 1          45       157   11     0   \n33                         The Beatles          30       142    5     1   \n39                         The Beatles          37       158    6     1   \n40                         The Beatles          30       137    8     1   \n80   Abbey Road (Super Deluxe Edition)          45       144   11     1   \n82                         Anthology 1          30        73    5     1   \n151                        The Beatles          27       238    0     1   \n218                        The Beatles          31       224    7     1   \n\n       Tempo  Time_signature  ...  Weeks at No1 in UK (The Guardian)  \\\n0    112.173               4  ...                                NaN   \n28    76.146               4  ...                                NaN   \n33    79.355               4  ...                                NaN   \n39    72.062               3  ...                                NaN   \n40   101.504               3  ...                                NaN   \n80   126.695               3  ...                                NaN   \n82   131.028               4  ...                                NaN   \n151  163.524               4  ...                                NaN   \n218  127.317               4  ...                                NaN   \n\n     Highest position (Billboard)  Weeks at No1 (Billboard)  \\\n0                             NaN                       NaN   \n28                            NaN                       NaN   \n33                            NaN                       NaN   \n39                            NaN                       NaN   \n40                            NaN                       NaN   \n80                            NaN                       NaN   \n82                            NaN                       NaN   \n151                           NaN                       NaN   \n218                           NaN                       NaN   \n\n     Top 50 (Billboard)  Top 50 (Ultimate classic rock)  \\\n0                   NaN                             NaN   \n28                  NaN                             NaN   \n33                  NaN                             NaN   \n39                  NaN                             NaN   \n40                  NaN                             NaN   \n80                  NaN                             NaN   \n82                  NaN                             NaN   \n151                 NaN                             NaN   \n218                 NaN                             NaN   \n\n     Top 50 (Rolling Stone)  Top 50 (NME)  Top 50 (Top50songs.org)  \\\n0                       NaN           NaN                      NaN   \n28                      NaN           NaN                      NaN   \n33                      NaN           NaN                      NaN   \n39                      NaN           NaN                      NaN   \n40                      NaN           NaN                      NaN   \n80                      NaN           NaN                      NaN   \n82                      NaN           NaN                      NaN   \n151                     NaN           NaN                      NaN   \n218                     NaN           NaN                      NaN   \n\n    Top 50 (USA today, 2017)  Top 50 (Vulture, by Bill Wyman)  \n0                        NaN                              NaN  \n28                       NaN                              NaN  \n33                       NaN                              NaN  \n39                       NaN                              NaN  \n40                       NaN                              NaN  \n80                       NaN                              NaN  \n82                       NaN                              NaN  \n151                      NaN                              NaN  \n218                      NaN                              NaN  \n\n[9 rows x 45 columns]",
      "text/html": "<div>\n<style scoped>\n    .dataframe tbody tr th:only-of-type {\n        vertical-align: middle;\n    }\n\n    .dataframe tbody tr th {\n        vertical-align: top;\n    }\n\n    .dataframe thead th {\n        text-align: right;\n    }\n</style>\n<table border=\"1\" class=\"dataframe\">\n  <thead>\n    <tr style=\"text-align: right;\">\n      <th></th>\n      <th>URI</th>\n      <th>Title</th>\n      <th>Year</th>\n      <th>Album</th>\n      <th>Popularity</th>\n      <th>Duration</th>\n      <th>Key</th>\n      <th>Mode</th>\n      <th>Tempo</th>\n      <th>Time_signature</th>\n      <th>...</th>\n      <th>Weeks at No1 in UK (The Guardian)</th>\n      <th>Highest position (Billboard)</th>\n      <th>Weeks at No1 (Billboard)</th>\n      <th>Top 50 (Billboard)</th>\n      <th>Top 50 (Ultimate classic rock)</th>\n      <th>Top 50 (Rolling Stone)</th>\n      <th>Top 50 (NME)</th>\n      <th>Top 50 (Top50songs.org)</th>\n      <th>Top 50 (USA today, 2017)</th>\n      <th>Top 50 (Vulture, by Bill Wyman)</th>\n    </tr>\n  </thead>\n  <tbody>\n    <tr>\n      <th>0</th>\n      <td>spotify:track:2FDEHIMkjxFLzj688M2I3h</td>\n      <td>(You're So Square) Baby I Don't Care - Studio Jam</td>\n      <td>1968</td>\n      <td>The Beatles</td>\n      <td>29</td>\n      <td>43</td>\n      <td>9</td>\n      <td>1</td>\n      <td>112.173</td>\n      <td>4</td>\n      <td>...</td>\n      <td>NaN</td>\n      <td>NaN</td>\n      <td>NaN</td>\n      <td>NaN</td>\n      <td>NaN</td>\n      <td>NaN</td>\n      <td>NaN</td>\n      <td>NaN</td>\n      <td>NaN</td>\n      <td>NaN</td>\n    </tr>\n    <tr>\n      <th>28</th>\n      <td>spotify:track:2Qgak11t9BJHwkicG0WJQE</td>\n      <td>Besame Mucho</td>\n      <td>1969</td>\n      <td>Anthology 1</td>\n      <td>45</td>\n      <td>157</td>\n      <td>11</td>\n      <td>0</td>\n      <td>76.146</td>\n      <td>4</td>\n      <td>...</td>\n      <td>NaN</td>\n      <td>NaN</td>\n      <td>NaN</td>\n      <td>NaN</td>\n      <td>NaN</td>\n      <td>NaN</td>\n      <td>NaN</td>\n      <td>NaN</td>\n      <td>NaN</td>\n      <td>NaN</td>\n    </tr>\n    <tr>\n      <th>33</th>\n      <td>spotify:track:5D6TY2nkWmC0fijXKuYQrm</td>\n      <td>Can You Take Me Back? - Take 1</td>\n      <td>1968</td>\n      <td>The Beatles</td>\n      <td>30</td>\n      <td>142</td>\n      <td>5</td>\n      <td>1</td>\n      <td>79.355</td>\n      <td>4</td>\n      <td>...</td>\n      <td>NaN</td>\n      <td>NaN</td>\n      <td>NaN</td>\n      <td>NaN</td>\n      <td>NaN</td>\n      <td>NaN</td>\n      <td>NaN</td>\n      <td>NaN</td>\n      <td>NaN</td>\n      <td>NaN</td>\n    </tr>\n    <tr>\n      <th>39</th>\n      <td>spotify:track:1MQhdLXEHmUWLF0bu7uVff</td>\n      <td>Child Of Nature - Esher Demo</td>\n      <td>1968</td>\n      <td>The Beatles</td>\n      <td>37</td>\n      <td>158</td>\n      <td>6</td>\n      <td>1</td>\n      <td>72.062</td>\n      <td>3</td>\n      <td>...</td>\n      <td>NaN</td>\n      <td>NaN</td>\n      <td>NaN</td>\n      <td>NaN</td>\n      <td>NaN</td>\n      <td>NaN</td>\n      <td>NaN</td>\n      <td>NaN</td>\n      <td>NaN</td>\n      <td>NaN</td>\n    </tr>\n    <tr>\n      <th>40</th>\n      <td>spotify:track:49GqhxyTdBXAn4cB8EAbTo</td>\n      <td>Circles - Esher Demo</td>\n      <td>1968</td>\n      <td>The Beatles</td>\n      <td>30</td>\n      <td>137</td>\n      <td>8</td>\n      <td>1</td>\n      <td>101.504</td>\n      <td>3</td>\n      <td>...</td>\n      <td>NaN</td>\n      <td>NaN</td>\n      <td>NaN</td>\n      <td>NaN</td>\n      <td>NaN</td>\n      <td>NaN</td>\n      <td>NaN</td>\n      <td>NaN</td>\n      <td>NaN</td>\n      <td>NaN</td>\n    </tr>\n    <tr>\n      <th>80</th>\n      <td>spotify:track:2cQGln8y7OgSOLxSHkgehd</td>\n      <td>Goodbye</td>\n      <td>1969</td>\n      <td>Abbey Road (Super Deluxe Edition)</td>\n      <td>45</td>\n      <td>144</td>\n      <td>11</td>\n      <td>1</td>\n      <td>126.695</td>\n      <td>3</td>\n      <td>...</td>\n      <td>NaN</td>\n      <td>NaN</td>\n      <td>NaN</td>\n      <td>NaN</td>\n      <td>NaN</td>\n      <td>NaN</td>\n      <td>NaN</td>\n      <td>NaN</td>\n      <td>NaN</td>\n      <td>NaN</td>\n    </tr>\n    <tr>\n      <th>82</th>\n      <td>spotify:track:5aOteYP6rA7vvBA7TG4Zpx</td>\n      <td>Hallelujah, I Love Her So</td>\n      <td>1960</td>\n      <td>Anthology 1</td>\n      <td>30</td>\n      <td>73</td>\n      <td>5</td>\n      <td>1</td>\n      <td>131.028</td>\n      <td>4</td>\n      <td>...</td>\n      <td>NaN</td>\n      <td>NaN</td>\n      <td>NaN</td>\n      <td>NaN</td>\n      <td>NaN</td>\n      <td>NaN</td>\n      <td>NaN</td>\n      <td>NaN</td>\n      <td>NaN</td>\n      <td>NaN</td>\n    </tr>\n    <tr>\n      <th>151</th>\n      <td>spotify:track:2yRHcIxk1tQp2Yb4CiCnxT</td>\n      <td>Los Paranoias - Studio Jam</td>\n      <td>1968</td>\n      <td>The Beatles</td>\n      <td>27</td>\n      <td>238</td>\n      <td>0</td>\n      <td>1</td>\n      <td>163.524</td>\n      <td>4</td>\n      <td>...</td>\n      <td>NaN</td>\n      <td>NaN</td>\n      <td>NaN</td>\n      <td>NaN</td>\n      <td>NaN</td>\n      <td>NaN</td>\n      <td>NaN</td>\n      <td>NaN</td>\n      <td>NaN</td>\n      <td>NaN</td>\n    </tr>\n    <tr>\n      <th>218</th>\n      <td>spotify:track:3LhwP2LcoiaIxMxRnU6zez</td>\n      <td>Sour Milk Sea - Esher Demo</td>\n      <td>1968</td>\n      <td>The Beatles</td>\n      <td>31</td>\n      <td>224</td>\n      <td>7</td>\n      <td>1</td>\n      <td>127.317</td>\n      <td>4</td>\n      <td>...</td>\n      <td>NaN</td>\n      <td>NaN</td>\n      <td>NaN</td>\n      <td>NaN</td>\n      <td>NaN</td>\n      <td>NaN</td>\n      <td>NaN</td>\n      <td>NaN</td>\n      <td>NaN</td>\n      <td>NaN</td>\n    </tr>\n  </tbody>\n</table>\n<p>9 rows × 45 columns</p>\n</div>"
     },
     "metadata": {},
     "output_type": "display_data"
    }
   ],
   "source": [
    "condition = songs['Album debut'].isnull()\n",
    "display(songs.loc[condition])"
   ],
   "metadata": {
    "collapsed": false,
    "ExecuteTime": {
     "end_time": "2023-09-14T07:35:35.409344200Z",
     "start_time": "2023-09-14T07:35:35.380442800Z"
    }
   },
   "id": "87dd945099e42977"
  },
  {
   "cell_type": "code",
   "execution_count": 70,
   "outputs": [
    {
     "data": {
      "text/plain": "Int64Index([0, 28, 33, 39, 40, 80, 82, 151, 218], dtype='int64')"
     },
     "execution_count": 70,
     "metadata": {},
     "output_type": "execute_result"
    }
   ],
   "source": [
    "i = songs.loc[condition].index\n",
    "i"
   ],
   "metadata": {
    "collapsed": false,
    "ExecuteTime": {
     "end_time": "2023-09-14T07:35:38.811629600Z",
     "start_time": "2023-09-14T07:35:38.805364300Z"
    }
   },
   "id": "b844cf9f8de21d15"
  },
  {
   "cell_type": "markdown",
   "source": [
    "Replace the missing *Album debut* values with the corresponding *Album* values."
   ],
   "metadata": {
    "collapsed": false
   },
   "id": "23062c0e6776cb6"
  },
  {
   "cell_type": "code",
   "execution_count": 71,
   "outputs": [
    {
     "data": {
      "text/plain": "0                            The Beatles\n28                           Anthology 1\n33                           The Beatles\n39                           The Beatles\n40                           The Beatles\n80     Abbey Road (Super Deluxe Edition)\n82                           Anthology 1\n151                          The Beatles\n218                          The Beatles\nName: Album debut, dtype: object"
     },
     "execution_count": 71,
     "metadata": {},
     "output_type": "execute_result"
    }
   ],
   "source": [
    "album = songs.loc[condition].Album\n",
    "songs.loc[condition, 'Album debut'] = album\n",
    "songs.loc[condition, 'Album debut']"
   ],
   "metadata": {
    "collapsed": false,
    "ExecuteTime": {
     "end_time": "2023-09-14T07:35:41.864558300Z",
     "start_time": "2023-09-14T07:35:41.851301400Z"
    }
   },
   "id": "a2146a65c324da66"
  },
  {
   "cell_type": "code",
   "execution_count": 72,
   "outputs": [
    {
     "data": {
      "text/plain": "(284, 45)"
     },
     "metadata": {},
     "output_type": "display_data"
    },
    {
     "data": {
      "text/plain": "0"
     },
     "execution_count": 72,
     "metadata": {},
     "output_type": "execute_result"
    }
   ],
   "source": [
    "display(songs.shape)\n",
    "songs['Album debut'].isnull().sum()"
   ],
   "metadata": {
    "collapsed": false,
    "ExecuteTime": {
     "end_time": "2023-09-14T07:35:48.637982200Z",
     "start_time": "2023-09-14T07:35:48.630027400Z"
    }
   },
   "id": "bde17f33d911775e"
  },
  {
   "cell_type": "markdown",
   "source": [
    "Save the resulting dataframe as *The Beatles songs dataset, 284x45, v1.csv*."
   ],
   "metadata": {
    "collapsed": false
   },
   "id": "b4639aa404ecfb4f"
  },
  {
   "cell_type": "code",
   "execution_count": 73,
   "outputs": [],
   "source": [
    "songs.to_csv('../data/The Beatles songs dataset, 284x45, v1.csv', index=False)"
   ],
   "metadata": {
    "collapsed": false,
    "ExecuteTime": {
     "end_time": "2023-09-14T07:35:53.192214500Z",
     "start_time": "2023-09-14T07:35:53.171912300Z"
    }
   },
   "id": "f5412cddba7c3327"
  },
  {
   "cell_type": "markdown",
   "source": [
    "##### *Genre*"
   ],
   "metadata": {
    "collapsed": false
   },
   "id": "a117c5a0e91d1c21"
  },
  {
   "cell_type": "code",
   "execution_count": 84,
   "outputs": [],
   "source": [
    "songs = pd.read_csv('../data/The Beatles songs dataset, 284x45, v1.csv')"
   ],
   "metadata": {
    "collapsed": false,
    "ExecuteTime": {
     "end_time": "2023-09-14T10:58:48.572012300Z",
     "start_time": "2023-09-14T10:58:48.556852400Z"
    }
   },
   "id": "45723ec8d994c763"
  },
  {
   "cell_type": "markdown",
   "source": [
    "How many songs miss the value for *Genre*?"
   ],
   "metadata": {
    "collapsed": false
   },
   "id": "8991df9967bb5c73"
  },
  {
   "cell_type": "code",
   "execution_count": 85,
   "outputs": [
    {
     "data": {
      "text/plain": "URI                                      0\nTitle                                    0\nYear                                     0\nAlbum                                    0\nPopularity                               0\nDuration                                 0\nKey                                      0\nMode                                     0\nTempo                                    0\nTime_signature                           0\nValence                                  0\nDanceability                             0\nEnergy                                   0\nLoudness                                 0\nAcousticness                             0\nInstrumentalness                         0\nLiveness                                 0\nSpeechiness                              0\nAlbum debut                              0\nOther releases                          71\nSingle A side                          194\nSingle B side                          194\nSingle certification                   234\nGenre                                    5\nStyles                                  26\nThemes                                  99\nMoods                                   23\nSongwriter(s)                            5\nLead vocal(s)                           10\nCover                                  218\nCovered by                             102\nChart position UK (Wikipedia)          239\nChart position US (Wikipedia)          217\nHighest position (The Guardian)        253\nWeeks on chart in UK (The Guardian)    253\nWeeks at No1 in UK (The Guardian)      268\nHighest position (Billboard)           235\nWeeks at No1 (Billboard)               269\nTop 50 (Billboard)                     235\nTop 50 (Ultimate classic rock)         235\nTop 50 (Rolling Stone)                 235\nTop 50 (NME)                           235\nTop 50 (Top50songs.org)                234\nTop 50 (USA today, 2017)               234\nTop 50 (Vulture, by Bill Wyman)        242\ndtype: int64"
     },
     "metadata": {},
     "output_type": "display_data"
    },
    {
     "data": {
      "text/plain": "5"
     },
     "metadata": {},
     "output_type": "display_data"
    }
   ],
   "source": [
    "display(songs.isnull().sum())\n",
    "display(songs.Genre.isnull().sum())"
   ],
   "metadata": {
    "collapsed": false,
    "ExecuteTime": {
     "end_time": "2023-09-14T10:58:54.127114Z",
     "start_time": "2023-09-14T10:58:54.119756600Z"
    }
   },
   "id": "9e0c7821edff68a1"
  },
  {
   "cell_type": "markdown",
   "source": [
    "What are these songs?"
   ],
   "metadata": {
    "collapsed": false
   },
   "id": "3987785cc3f022a4"
  },
  {
   "cell_type": "code",
   "execution_count": 86,
   "outputs": [
    {
     "data": {
      "text/plain": "                                      URI  \\\n0    spotify:track:2FDEHIMkjxFLzj688M2I3h   \n28   spotify:track:2Qgak11t9BJHwkicG0WJQE   \n33   spotify:track:5D6TY2nkWmC0fijXKuYQrm   \n82   spotify:track:5aOteYP6rA7vvBA7TG4Zpx   \n151  spotify:track:2yRHcIxk1tQp2Yb4CiCnxT   \n\n                                                 Title  Year        Album  \\\n0    (You're So Square) Baby I Don't Care - Studio Jam  1968  The Beatles   \n28                                        Besame Mucho  1969  Anthology 1   \n33                      Can You Take Me Back? - Take 1  1968  The Beatles   \n82                           Hallelujah, I Love Her So  1960  Anthology 1   \n151                         Los Paranoias - Studio Jam  1968  The Beatles   \n\n     Popularity  Duration  Key  Mode    Tempo  Time_signature  ...  \\\n0            29        43    9     1  112.173               4  ...   \n28           45       157   11     0   76.146               4  ...   \n33           30       142    5     1   79.355               4  ...   \n82           30        73    5     1  131.028               4  ...   \n151          27       238    0     1  163.524               4  ...   \n\n     Weeks at No1 in UK (The Guardian)  Highest position (Billboard)  \\\n0                                  NaN                           NaN   \n28                                 NaN                           NaN   \n33                                 NaN                           NaN   \n82                                 NaN                           NaN   \n151                                NaN                           NaN   \n\n     Weeks at No1 (Billboard)  Top 50 (Billboard)  \\\n0                         NaN                 NaN   \n28                        NaN                 NaN   \n33                        NaN                 NaN   \n82                        NaN                 NaN   \n151                       NaN                 NaN   \n\n     Top 50 (Ultimate classic rock)  Top 50 (Rolling Stone)  Top 50 (NME)  \\\n0                               NaN                     NaN           NaN   \n28                              NaN                     NaN           NaN   \n33                              NaN                     NaN           NaN   \n82                              NaN                     NaN           NaN   \n151                             NaN                     NaN           NaN   \n\n     Top 50 (Top50songs.org) Top 50 (USA today, 2017)  \\\n0                        NaN                      NaN   \n28                       NaN                      NaN   \n33                       NaN                      NaN   \n82                       NaN                      NaN   \n151                      NaN                      NaN   \n\n     Top 50 (Vulture, by Bill Wyman)  \n0                                NaN  \n28                               NaN  \n33                               NaN  \n82                               NaN  \n151                              NaN  \n\n[5 rows x 45 columns]",
      "text/html": "<div>\n<style scoped>\n    .dataframe tbody tr th:only-of-type {\n        vertical-align: middle;\n    }\n\n    .dataframe tbody tr th {\n        vertical-align: top;\n    }\n\n    .dataframe thead th {\n        text-align: right;\n    }\n</style>\n<table border=\"1\" class=\"dataframe\">\n  <thead>\n    <tr style=\"text-align: right;\">\n      <th></th>\n      <th>URI</th>\n      <th>Title</th>\n      <th>Year</th>\n      <th>Album</th>\n      <th>Popularity</th>\n      <th>Duration</th>\n      <th>Key</th>\n      <th>Mode</th>\n      <th>Tempo</th>\n      <th>Time_signature</th>\n      <th>...</th>\n      <th>Weeks at No1 in UK (The Guardian)</th>\n      <th>Highest position (Billboard)</th>\n      <th>Weeks at No1 (Billboard)</th>\n      <th>Top 50 (Billboard)</th>\n      <th>Top 50 (Ultimate classic rock)</th>\n      <th>Top 50 (Rolling Stone)</th>\n      <th>Top 50 (NME)</th>\n      <th>Top 50 (Top50songs.org)</th>\n      <th>Top 50 (USA today, 2017)</th>\n      <th>Top 50 (Vulture, by Bill Wyman)</th>\n    </tr>\n  </thead>\n  <tbody>\n    <tr>\n      <th>0</th>\n      <td>spotify:track:2FDEHIMkjxFLzj688M2I3h</td>\n      <td>(You're So Square) Baby I Don't Care - Studio Jam</td>\n      <td>1968</td>\n      <td>The Beatles</td>\n      <td>29</td>\n      <td>43</td>\n      <td>9</td>\n      <td>1</td>\n      <td>112.173</td>\n      <td>4</td>\n      <td>...</td>\n      <td>NaN</td>\n      <td>NaN</td>\n      <td>NaN</td>\n      <td>NaN</td>\n      <td>NaN</td>\n      <td>NaN</td>\n      <td>NaN</td>\n      <td>NaN</td>\n      <td>NaN</td>\n      <td>NaN</td>\n    </tr>\n    <tr>\n      <th>28</th>\n      <td>spotify:track:2Qgak11t9BJHwkicG0WJQE</td>\n      <td>Besame Mucho</td>\n      <td>1969</td>\n      <td>Anthology 1</td>\n      <td>45</td>\n      <td>157</td>\n      <td>11</td>\n      <td>0</td>\n      <td>76.146</td>\n      <td>4</td>\n      <td>...</td>\n      <td>NaN</td>\n      <td>NaN</td>\n      <td>NaN</td>\n      <td>NaN</td>\n      <td>NaN</td>\n      <td>NaN</td>\n      <td>NaN</td>\n      <td>NaN</td>\n      <td>NaN</td>\n      <td>NaN</td>\n    </tr>\n    <tr>\n      <th>33</th>\n      <td>spotify:track:5D6TY2nkWmC0fijXKuYQrm</td>\n      <td>Can You Take Me Back? - Take 1</td>\n      <td>1968</td>\n      <td>The Beatles</td>\n      <td>30</td>\n      <td>142</td>\n      <td>5</td>\n      <td>1</td>\n      <td>79.355</td>\n      <td>4</td>\n      <td>...</td>\n      <td>NaN</td>\n      <td>NaN</td>\n      <td>NaN</td>\n      <td>NaN</td>\n      <td>NaN</td>\n      <td>NaN</td>\n      <td>NaN</td>\n      <td>NaN</td>\n      <td>NaN</td>\n      <td>NaN</td>\n    </tr>\n    <tr>\n      <th>82</th>\n      <td>spotify:track:5aOteYP6rA7vvBA7TG4Zpx</td>\n      <td>Hallelujah, I Love Her So</td>\n      <td>1960</td>\n      <td>Anthology 1</td>\n      <td>30</td>\n      <td>73</td>\n      <td>5</td>\n      <td>1</td>\n      <td>131.028</td>\n      <td>4</td>\n      <td>...</td>\n      <td>NaN</td>\n      <td>NaN</td>\n      <td>NaN</td>\n      <td>NaN</td>\n      <td>NaN</td>\n      <td>NaN</td>\n      <td>NaN</td>\n      <td>NaN</td>\n      <td>NaN</td>\n      <td>NaN</td>\n    </tr>\n    <tr>\n      <th>151</th>\n      <td>spotify:track:2yRHcIxk1tQp2Yb4CiCnxT</td>\n      <td>Los Paranoias - Studio Jam</td>\n      <td>1968</td>\n      <td>The Beatles</td>\n      <td>27</td>\n      <td>238</td>\n      <td>0</td>\n      <td>1</td>\n      <td>163.524</td>\n      <td>4</td>\n      <td>...</td>\n      <td>NaN</td>\n      <td>NaN</td>\n      <td>NaN</td>\n      <td>NaN</td>\n      <td>NaN</td>\n      <td>NaN</td>\n      <td>NaN</td>\n      <td>NaN</td>\n      <td>NaN</td>\n      <td>NaN</td>\n    </tr>\n  </tbody>\n</table>\n<p>5 rows × 45 columns</p>\n</div>"
     },
     "metadata": {},
     "output_type": "display_data"
    }
   ],
   "source": [
    "display(songs.loc[songs.Genre.isnull()])"
   ],
   "metadata": {
    "collapsed": false,
    "ExecuteTime": {
     "end_time": "2023-09-14T10:59:01.073562Z",
     "start_time": "2023-09-14T10:59:01.058247400Z"
    }
   },
   "id": "bfa2a6e75b556ffa"
  },
  {
   "cell_type": "markdown",
   "source": [
    "Replace the missing values for *Genre* manually, based on data from [AllMusic](https://www.allmusic.com/) and VD's personal experience."
   ],
   "metadata": {
    "collapsed": false
   },
   "id": "2a79887be888a8f0"
  },
  {
   "cell_type": "code",
   "execution_count": 87,
   "outputs": [],
   "source": [
    "pd.Series(songs.columns)\n",
    "songs.iloc[0, 23] = 'Pop/Rock'                                                                      # (You're So Square) Baby I Don't Care)\n",
    "songs.iloc[28, 23] = 'R&B'                                                                          # Besame Mucho\n",
    "songs.iloc[33, 23] = 'Folk Pop, Experimental Rock, Psychodelic Rock, Baroque Pop'                   # Can You Take Me Back? - Take 1\n",
    "songs.iloc[82, 23] = 'Blues, R&B, Pop/Rock'                                                         # Hallelujah, I Love Her So\n",
    "songs.iloc[151, 23] = 'Avant-Garde, Musique Concrete, Experimental, Sound Collage, Pop/Rock'        # Los Paranoias - Studio Jam\n",
    "# songs.loc[0, ['Title', 'Genre']]\n",
    "# songs.iloc[0, 23]"
   ],
   "metadata": {
    "collapsed": false,
    "ExecuteTime": {
     "end_time": "2023-09-14T10:59:05.359368700Z",
     "start_time": "2023-09-14T10:59:05.335028600Z"
    }
   },
   "id": "99cbcc7df4071d36"
  },
  {
   "cell_type": "code",
   "execution_count": 88,
   "outputs": [
    {
     "data": {
      "text/plain": "                                                 Title  \\\n0    (You're So Square) Baby I Don't Care - Studio Jam   \n28                                        Besame Mucho   \n33                      Can You Take Me Back? - Take 1   \n82                           Hallelujah, I Love Her So   \n151                         Los Paranoias - Studio Jam   \n\n                                                 Genre  \n0                                             Pop/Rock  \n28                                                 R&B  \n33   Folk Pop, Experimental Rock, Psychodelic Rock,...  \n82                                Blues, R&B, Pop/Rock  \n151  Avant-Garde, Musique Concrete, Experimental, S...  ",
      "text/html": "<div>\n<style scoped>\n    .dataframe tbody tr th:only-of-type {\n        vertical-align: middle;\n    }\n\n    .dataframe tbody tr th {\n        vertical-align: top;\n    }\n\n    .dataframe thead th {\n        text-align: right;\n    }\n</style>\n<table border=\"1\" class=\"dataframe\">\n  <thead>\n    <tr style=\"text-align: right;\">\n      <th></th>\n      <th>Title</th>\n      <th>Genre</th>\n    </tr>\n  </thead>\n  <tbody>\n    <tr>\n      <th>0</th>\n      <td>(You're So Square) Baby I Don't Care - Studio Jam</td>\n      <td>Pop/Rock</td>\n    </tr>\n    <tr>\n      <th>28</th>\n      <td>Besame Mucho</td>\n      <td>R&amp;B</td>\n    </tr>\n    <tr>\n      <th>33</th>\n      <td>Can You Take Me Back? - Take 1</td>\n      <td>Folk Pop, Experimental Rock, Psychodelic Rock,...</td>\n    </tr>\n    <tr>\n      <th>82</th>\n      <td>Hallelujah, I Love Her So</td>\n      <td>Blues, R&amp;B, Pop/Rock</td>\n    </tr>\n    <tr>\n      <th>151</th>\n      <td>Los Paranoias - Studio Jam</td>\n      <td>Avant-Garde, Musique Concrete, Experimental, S...</td>\n    </tr>\n  </tbody>\n</table>\n</div>"
     },
     "execution_count": 88,
     "metadata": {},
     "output_type": "execute_result"
    }
   ],
   "source": [
    "songs.loc[[0, 28, 33, 82, 151], ['Title', 'Genre']]"
   ],
   "metadata": {
    "collapsed": false,
    "ExecuteTime": {
     "end_time": "2023-09-14T11:00:11.745975400Z",
     "start_time": "2023-09-14T11:00:11.736260500Z"
    }
   },
   "id": "eb3ec7c1c0ad0397"
  },
  {
   "cell_type": "markdown",
   "source": [
    "Save the new version of the dataset, *The Beatles songs dataset, 284x45, v2.csv*."
   ],
   "metadata": {
    "collapsed": false
   },
   "id": "1ccda4819a0085de"
  },
  {
   "cell_type": "code",
   "execution_count": 89,
   "outputs": [],
   "source": [
    "songs.to_csv('../data/The Beatles songs dataset, 284x45, v2.csv', index=False)"
   ],
   "metadata": {
    "collapsed": false,
    "ExecuteTime": {
     "end_time": "2023-09-14T11:01:59.577632600Z",
     "start_time": "2023-09-14T11:01:59.544818600Z"
    }
   },
   "id": "a20bfa21921461f5"
  },
  {
   "cell_type": "markdown",
   "source": [
    "##### *Songwriter(s)*"
   ],
   "metadata": {
    "collapsed": false
   },
   "id": "7a448bfc1af19d3b"
  },
  {
   "cell_type": "code",
   "execution_count": 90,
   "outputs": [],
   "source": [
    "songs = pd.read_csv('../data/The Beatles songs dataset, 284x45, v2.csv')"
   ],
   "metadata": {
    "collapsed": false,
    "ExecuteTime": {
     "end_time": "2023-09-14T11:03:55.983735400Z",
     "start_time": "2023-09-14T11:03:55.975015600Z"
    }
   },
   "id": "6a1c04c1f4c209"
  },
  {
   "cell_type": "markdown",
   "source": [
    "How many songs miss the value for *Songwriter(s)*?"
   ],
   "metadata": {
    "collapsed": false
   },
   "id": "fbc526d570491c1f"
  },
  {
   "cell_type": "code",
   "execution_count": 91,
   "outputs": [
    {
     "data": {
      "text/plain": "URI                                      0\nTitle                                    0\nYear                                     0\nAlbum                                    0\nPopularity                               0\nDuration                                 0\nKey                                      0\nMode                                     0\nTempo                                    0\nTime_signature                           0\nValence                                  0\nDanceability                             0\nEnergy                                   0\nLoudness                                 0\nAcousticness                             0\nInstrumentalness                         0\nLiveness                                 0\nSpeechiness                              0\nAlbum debut                              0\nOther releases                          71\nSingle A side                          194\nSingle B side                          194\nSingle certification                   234\nGenre                                    0\nStyles                                  26\nThemes                                  99\nMoods                                   23\nSongwriter(s)                            5\nLead vocal(s)                           10\nCover                                  218\nCovered by                             102\nChart position UK (Wikipedia)          239\nChart position US (Wikipedia)          217\nHighest position (The Guardian)        253\nWeeks on chart in UK (The Guardian)    253\nWeeks at No1 in UK (The Guardian)      268\nHighest position (Billboard)           235\nWeeks at No1 (Billboard)               269\nTop 50 (Billboard)                     235\nTop 50 (Ultimate classic rock)         235\nTop 50 (Rolling Stone)                 235\nTop 50 (NME)                           235\nTop 50 (Top50songs.org)                234\nTop 50 (USA today, 2017)               234\nTop 50 (Vulture, by Bill Wyman)        242\ndtype: int64"
     },
     "metadata": {},
     "output_type": "display_data"
    },
    {
     "data": {
      "text/plain": "5"
     },
     "metadata": {},
     "output_type": "display_data"
    }
   ],
   "source": [
    "display(songs.isnull().sum())\n",
    "display(songs['Songwriter(s)'].isnull().sum())"
   ],
   "metadata": {
    "collapsed": false,
    "ExecuteTime": {
     "end_time": "2023-09-14T11:04:21.537102400Z",
     "start_time": "2023-09-14T11:04:21.519719700Z"
    }
   },
   "id": "fbf45625037b470b"
  },
  {
   "cell_type": "markdown",
   "source": [
    "What are these songs?"
   ],
   "metadata": {
    "collapsed": false
   },
   "id": "9967aad7064ad93b"
  },
  {
   "cell_type": "code",
   "execution_count": 92,
   "outputs": [
    {
     "data": {
      "text/plain": "                                      URI  \\\n0    spotify:track:2FDEHIMkjxFLzj688M2I3h   \n28   spotify:track:2Qgak11t9BJHwkicG0WJQE   \n33   spotify:track:5D6TY2nkWmC0fijXKuYQrm   \n82   spotify:track:5aOteYP6rA7vvBA7TG4Zpx   \n151  spotify:track:2yRHcIxk1tQp2Yb4CiCnxT   \n\n                                                 Title  Year        Album  \\\n0    (You're So Square) Baby I Don't Care - Studio Jam  1968  The Beatles   \n28                                        Besame Mucho  1969  Anthology 1   \n33                      Can You Take Me Back? - Take 1  1968  The Beatles   \n82                           Hallelujah, I Love Her So  1960  Anthology 1   \n151                         Los Paranoias - Studio Jam  1968  The Beatles   \n\n     Popularity  Duration  Key  Mode    Tempo  Time_signature  ...  \\\n0            29        43    9     1  112.173               4  ...   \n28           45       157   11     0   76.146               4  ...   \n33           30       142    5     1   79.355               4  ...   \n82           30        73    5     1  131.028               4  ...   \n151          27       238    0     1  163.524               4  ...   \n\n     Weeks at No1 in UK (The Guardian)  Highest position (Billboard)  \\\n0                                  NaN                           NaN   \n28                                 NaN                           NaN   \n33                                 NaN                           NaN   \n82                                 NaN                           NaN   \n151                                NaN                           NaN   \n\n     Weeks at No1 (Billboard)  Top 50 (Billboard)  \\\n0                         NaN                 NaN   \n28                        NaN                 NaN   \n33                        NaN                 NaN   \n82                        NaN                 NaN   \n151                       NaN                 NaN   \n\n     Top 50 (Ultimate classic rock)  Top 50 (Rolling Stone)  Top 50 (NME)  \\\n0                               NaN                     NaN           NaN   \n28                              NaN                     NaN           NaN   \n33                              NaN                     NaN           NaN   \n82                              NaN                     NaN           NaN   \n151                             NaN                     NaN           NaN   \n\n     Top 50 (Top50songs.org) Top 50 (USA today, 2017)  \\\n0                        NaN                      NaN   \n28                       NaN                      NaN   \n33                       NaN                      NaN   \n82                       NaN                      NaN   \n151                      NaN                      NaN   \n\n     Top 50 (Vulture, by Bill Wyman)  \n0                                NaN  \n28                               NaN  \n33                               NaN  \n82                               NaN  \n151                              NaN  \n\n[5 rows x 45 columns]",
      "text/html": "<div>\n<style scoped>\n    .dataframe tbody tr th:only-of-type {\n        vertical-align: middle;\n    }\n\n    .dataframe tbody tr th {\n        vertical-align: top;\n    }\n\n    .dataframe thead th {\n        text-align: right;\n    }\n</style>\n<table border=\"1\" class=\"dataframe\">\n  <thead>\n    <tr style=\"text-align: right;\">\n      <th></th>\n      <th>URI</th>\n      <th>Title</th>\n      <th>Year</th>\n      <th>Album</th>\n      <th>Popularity</th>\n      <th>Duration</th>\n      <th>Key</th>\n      <th>Mode</th>\n      <th>Tempo</th>\n      <th>Time_signature</th>\n      <th>...</th>\n      <th>Weeks at No1 in UK (The Guardian)</th>\n      <th>Highest position (Billboard)</th>\n      <th>Weeks at No1 (Billboard)</th>\n      <th>Top 50 (Billboard)</th>\n      <th>Top 50 (Ultimate classic rock)</th>\n      <th>Top 50 (Rolling Stone)</th>\n      <th>Top 50 (NME)</th>\n      <th>Top 50 (Top50songs.org)</th>\n      <th>Top 50 (USA today, 2017)</th>\n      <th>Top 50 (Vulture, by Bill Wyman)</th>\n    </tr>\n  </thead>\n  <tbody>\n    <tr>\n      <th>0</th>\n      <td>spotify:track:2FDEHIMkjxFLzj688M2I3h</td>\n      <td>(You're So Square) Baby I Don't Care - Studio Jam</td>\n      <td>1968</td>\n      <td>The Beatles</td>\n      <td>29</td>\n      <td>43</td>\n      <td>9</td>\n      <td>1</td>\n      <td>112.173</td>\n      <td>4</td>\n      <td>...</td>\n      <td>NaN</td>\n      <td>NaN</td>\n      <td>NaN</td>\n      <td>NaN</td>\n      <td>NaN</td>\n      <td>NaN</td>\n      <td>NaN</td>\n      <td>NaN</td>\n      <td>NaN</td>\n      <td>NaN</td>\n    </tr>\n    <tr>\n      <th>28</th>\n      <td>spotify:track:2Qgak11t9BJHwkicG0WJQE</td>\n      <td>Besame Mucho</td>\n      <td>1969</td>\n      <td>Anthology 1</td>\n      <td>45</td>\n      <td>157</td>\n      <td>11</td>\n      <td>0</td>\n      <td>76.146</td>\n      <td>4</td>\n      <td>...</td>\n      <td>NaN</td>\n      <td>NaN</td>\n      <td>NaN</td>\n      <td>NaN</td>\n      <td>NaN</td>\n      <td>NaN</td>\n      <td>NaN</td>\n      <td>NaN</td>\n      <td>NaN</td>\n      <td>NaN</td>\n    </tr>\n    <tr>\n      <th>33</th>\n      <td>spotify:track:5D6TY2nkWmC0fijXKuYQrm</td>\n      <td>Can You Take Me Back? - Take 1</td>\n      <td>1968</td>\n      <td>The Beatles</td>\n      <td>30</td>\n      <td>142</td>\n      <td>5</td>\n      <td>1</td>\n      <td>79.355</td>\n      <td>4</td>\n      <td>...</td>\n      <td>NaN</td>\n      <td>NaN</td>\n      <td>NaN</td>\n      <td>NaN</td>\n      <td>NaN</td>\n      <td>NaN</td>\n      <td>NaN</td>\n      <td>NaN</td>\n      <td>NaN</td>\n      <td>NaN</td>\n    </tr>\n    <tr>\n      <th>82</th>\n      <td>spotify:track:5aOteYP6rA7vvBA7TG4Zpx</td>\n      <td>Hallelujah, I Love Her So</td>\n      <td>1960</td>\n      <td>Anthology 1</td>\n      <td>30</td>\n      <td>73</td>\n      <td>5</td>\n      <td>1</td>\n      <td>131.028</td>\n      <td>4</td>\n      <td>...</td>\n      <td>NaN</td>\n      <td>NaN</td>\n      <td>NaN</td>\n      <td>NaN</td>\n      <td>NaN</td>\n      <td>NaN</td>\n      <td>NaN</td>\n      <td>NaN</td>\n      <td>NaN</td>\n      <td>NaN</td>\n    </tr>\n    <tr>\n      <th>151</th>\n      <td>spotify:track:2yRHcIxk1tQp2Yb4CiCnxT</td>\n      <td>Los Paranoias - Studio Jam</td>\n      <td>1968</td>\n      <td>The Beatles</td>\n      <td>27</td>\n      <td>238</td>\n      <td>0</td>\n      <td>1</td>\n      <td>163.524</td>\n      <td>4</td>\n      <td>...</td>\n      <td>NaN</td>\n      <td>NaN</td>\n      <td>NaN</td>\n      <td>NaN</td>\n      <td>NaN</td>\n      <td>NaN</td>\n      <td>NaN</td>\n      <td>NaN</td>\n      <td>NaN</td>\n      <td>NaN</td>\n    </tr>\n  </tbody>\n</table>\n<p>5 rows × 45 columns</p>\n</div>"
     },
     "metadata": {},
     "output_type": "display_data"
    }
   ],
   "source": [
    "display(songs.loc[songs['Songwriter(s)'].isnull()])"
   ],
   "metadata": {
    "collapsed": false,
    "ExecuteTime": {
     "end_time": "2023-09-14T11:05:56.896924100Z",
     "start_time": "2023-09-14T11:05:56.878963700Z"
    }
   },
   "id": "5bf2471058e9d23b"
  },
  {
   "cell_type": "markdown",
   "source": [
    "Replace the missing values for *Songwriter(s)* manually, based on data from [AllMusic](https://www.allmusic.com/) and VD's personal experience."
   ],
   "metadata": {
    "collapsed": false
   },
   "id": "7fa1c4b613b75e9e"
  },
  {
   "cell_type": "code",
   "execution_count": 94,
   "outputs": [],
   "source": [
    "pd.Series(songs.columns)\n",
    "songs.iloc[0, 27] = 'Lieber, Stoller'                                                               # (You're So Square) Baby I Don't Care)\n",
    "songs.iloc[28, 27] = 'Skylar, Velazquez'                                                            # Besame Mucho\n",
    "songs.iloc[33, 27] = 'McCartney'                                                                    # Can You Take Me Back? - Take 1\n",
    "songs.iloc[82, 27] = 'Ray Charles'                                                                  # Hallelujah, I Love Her So\n",
    "songs.iloc[151, 27] = 'McCartney, with Lennon'                                                      # Los Paranoias - Studio Jam\n",
    "# songs.loc[0, ['Title', 'Genre']]\n",
    "# songs.iloc[0, 23]"
   ],
   "metadata": {
    "collapsed": false,
    "ExecuteTime": {
     "end_time": "2023-09-14T11:21:44.284303200Z",
     "start_time": "2023-09-14T11:21:44.272895900Z"
    }
   },
   "id": "88e7ed9194044559"
  },
  {
   "cell_type": "code",
   "execution_count": 95,
   "outputs": [
    {
     "data": {
      "text/plain": "                                                 Title           Songwriter(s)\n0    (You're So Square) Baby I Don't Care - Studio Jam         Lieber, Stoller\n28                                        Besame Mucho       Skylar, Velazquez\n33                      Can You Take Me Back? - Take 1               McCartney\n82                           Hallelujah, I Love Her So             Ray Charles\n151                         Los Paranoias - Studio Jam  McCartney, with Lennon",
      "text/html": "<div>\n<style scoped>\n    .dataframe tbody tr th:only-of-type {\n        vertical-align: middle;\n    }\n\n    .dataframe tbody tr th {\n        vertical-align: top;\n    }\n\n    .dataframe thead th {\n        text-align: right;\n    }\n</style>\n<table border=\"1\" class=\"dataframe\">\n  <thead>\n    <tr style=\"text-align: right;\">\n      <th></th>\n      <th>Title</th>\n      <th>Songwriter(s)</th>\n    </tr>\n  </thead>\n  <tbody>\n    <tr>\n      <th>0</th>\n      <td>(You're So Square) Baby I Don't Care - Studio Jam</td>\n      <td>Lieber, Stoller</td>\n    </tr>\n    <tr>\n      <th>28</th>\n      <td>Besame Mucho</td>\n      <td>Skylar, Velazquez</td>\n    </tr>\n    <tr>\n      <th>33</th>\n      <td>Can You Take Me Back? - Take 1</td>\n      <td>McCartney</td>\n    </tr>\n    <tr>\n      <th>82</th>\n      <td>Hallelujah, I Love Her So</td>\n      <td>Ray Charles</td>\n    </tr>\n    <tr>\n      <th>151</th>\n      <td>Los Paranoias - Studio Jam</td>\n      <td>McCartney, with Lennon</td>\n    </tr>\n  </tbody>\n</table>\n</div>"
     },
     "execution_count": 95,
     "metadata": {},
     "output_type": "execute_result"
    }
   ],
   "source": [
    "songs.loc[[0, 28, 33, 82, 151], ['Title', 'Songwriter(s)']]"
   ],
   "metadata": {
    "collapsed": false,
    "ExecuteTime": {
     "end_time": "2023-09-14T11:21:46.765958900Z",
     "start_time": "2023-09-14T11:21:46.734782Z"
    }
   },
   "id": "1186b4a547e3a661"
  },
  {
   "cell_type": "markdown",
   "source": [
    "Save the new version of the dataset, *The Beatles songs dataset, 284x45, v3.csv*."
   ],
   "metadata": {
    "collapsed": false
   },
   "id": "b7f75ca8551d2ea9"
  },
  {
   "cell_type": "code",
   "execution_count": 96,
   "outputs": [],
   "source": [
    "songs.to_csv('../data/The Beatles songs dataset, 284x45, v3.csv', index=False)"
   ],
   "metadata": {
    "collapsed": false,
    "ExecuteTime": {
     "end_time": "2023-09-14T11:22:41.291729200Z",
     "start_time": "2023-09-14T11:22:41.184228300Z"
    }
   },
   "id": "d31bb7fbebcdb614"
  },
  {
   "cell_type": "markdown",
   "source": [
    "### *Styles*, *Moods*, *Themes* and *Lead vocal(s)*\n",
    "For these features, imputation does not make much sense - it's a small dataset, and each song is individual and unique to this end, that's why manual filling of `NaN` values is preferred."
   ],
   "metadata": {
    "collapsed": false
   },
   "id": "59b528444898ec6d"
  },
  {
   "cell_type": "markdown",
   "source": [
    "##### *Styles*"
   ],
   "metadata": {
    "collapsed": false
   },
   "id": "3325f76d67bddda9"
  },
  {
   "cell_type": "code",
   "execution_count": 105,
   "outputs": [],
   "source": [
    "songs = pd.read_csv('../data/The Beatles songs dataset, 284x45, v3.csv')"
   ],
   "metadata": {
    "collapsed": false,
    "ExecuteTime": {
     "end_time": "2023-09-14T15:36:00.501750400Z",
     "start_time": "2023-09-14T15:36:00.484698600Z"
    }
   },
   "id": "f961c49aba3c3e2"
  },
  {
   "cell_type": "markdown",
   "source": [
    "How many songs miss the value for *Styles*?"
   ],
   "metadata": {
    "collapsed": false
   },
   "id": "9068e9fe9f89f0d6"
  },
  {
   "cell_type": "code",
   "execution_count": 106,
   "outputs": [
    {
     "data": {
      "text/plain": "URI                                      0\nTitle                                    0\nYear                                     0\nAlbum                                    0\nPopularity                               0\nDuration                                 0\nKey                                      0\nMode                                     0\nTempo                                    0\nTime_signature                           0\nValence                                  0\nDanceability                             0\nEnergy                                   0\nLoudness                                 0\nAcousticness                             0\nInstrumentalness                         0\nLiveness                                 0\nSpeechiness                              0\nAlbum debut                              0\nOther releases                          71\nSingle A side                          194\nSingle B side                          194\nSingle certification                   234\nGenre                                    0\nStyles                                  26\nThemes                                  99\nMoods                                   23\nSongwriter(s)                            0\nLead vocal(s)                           10\nCover                                  218\nCovered by                             102\nChart position UK (Wikipedia)          239\nChart position US (Wikipedia)          217\nHighest position (The Guardian)        253\nWeeks on chart in UK (The Guardian)    253\nWeeks at No1 in UK (The Guardian)      268\nHighest position (Billboard)           235\nWeeks at No1 (Billboard)               269\nTop 50 (Billboard)                     235\nTop 50 (Ultimate classic rock)         235\nTop 50 (Rolling Stone)                 235\nTop 50 (NME)                           235\nTop 50 (Top50songs.org)                234\nTop 50 (USA today, 2017)               234\nTop 50 (Vulture, by Bill Wyman)        242\ndtype: int64"
     },
     "metadata": {},
     "output_type": "display_data"
    },
    {
     "data": {
      "text/plain": "26"
     },
     "metadata": {},
     "output_type": "display_data"
    }
   ],
   "source": [
    "display(songs.isnull().sum())\n",
    "display(songs.Styles.isnull().sum())"
   ],
   "metadata": {
    "collapsed": false,
    "ExecuteTime": {
     "end_time": "2023-09-14T15:36:03.661031800Z",
     "start_time": "2023-09-14T15:36:03.638153800Z"
    }
   },
   "id": "61020d06cd513d58"
  },
  {
   "cell_type": "markdown",
   "source": [
    "What are these songs?"
   ],
   "metadata": {
    "collapsed": false
   },
   "id": "dbfcf382e4a4a9dd"
  },
  {
   "cell_type": "code",
   "execution_count": 107,
   "outputs": [
    {
     "data": {
      "text/plain": "                                      URI  \\\n0    spotify:track:2FDEHIMkjxFLzj688M2I3h   \n1    spotify:track:2HvTGx5fzFGpHSyRNvXd9T   \n25   spotify:track:6N6He3Wk0q2O0f2LRLrbil   \n28   spotify:track:2Qgak11t9BJHwkicG0WJQE   \n33   spotify:track:5D6TY2nkWmC0fijXKuYQrm   \n82   spotify:track:5aOteYP6rA7vvBA7TG4Zpx   \n102  spotify:track:53PHRtl7ZP8gkiWiX4rm15   \n118  spotify:track:4VMOdHVfB57lNhSDadhOBc   \n133  spotify:track:7zvMaTcCspbRMahT4DcjQG   \n143  spotify:track:4iR7Jx9E4zY0Q7AwMyFpZZ   \n144  spotify:track:4J3FSYFhUGp0mkaH7m2YnN   \n146  spotify:track:3eSgAvKnHbQNLdkVY7eagU   \n151  spotify:track:2yRHcIxk1tQp2Yb4CiCnxT   \n168  spotify:track:2nBKT7OYXtN4XwT8ajCrfc   \n193  spotify:track:5frMgt4jqRGJk3yMKfqOyl   \n203  spotify:track:1I6ayuCPZQ5SHuiEqnyLSB   \n218  spotify:track:3LhwP2LcoiaIxMxRnU6zez   \n230  spotify:track:5AxDzt8VmHreQaDatK6TD4   \n231  spotify:track:6zsbf8RSb8YODtTclmMgAb   \n232  spotify:track:6r7JAngkBzKGDKRUzLgY2U   \n233  spotify:track:5Z3Rd1fMcaty8g5Pn7yhBQ   \n237  spotify:track:4nN3sSVDpCqf3TW4tpDBAS   \n241  spotify:track:5ZZWchqd0TY6QwVgKROk50   \n247  spotify:track:6xAiyH80RTPPMBZwvWpTEN   \n274  spotify:track:1n8oABN9yti0owTEKcms0q   \n278  spotify:track:175jiRVJ6N6ayJQ1FXim56   \n\n                                                 Title       Year  \\\n0    (You're So Square) Baby I Don't Care - Studio Jam       1968   \n1                                      12-bar Original       1965   \n25                                   Beautiful Dreamer       1963   \n28                                        Besame Mucho       1969   \n33                      Can You Take Me Back? - Take 1       1968   \n82                           Hallelujah, I Love Her So       1960   \n102                                      I Got a Woman       1963   \n118                                       I'll Get You       1963   \n133                         In Spite of All the Danger       1958   \n143                              Leave My Kitten Alone       1964   \n144                                  Lend Me Your Comb       1963   \n146                                   Like Dreamers Do       1962   \n151                         Los Paranoias - Studio Jam       1968   \n168                                      Moonlight Bay       1963   \n193                                          Real Love  1980/1995   \n203                                          Searchin'       1962   \n218                         Sour Milk Sea - Esher Demo       1968   \n230                                 That'll Be the Day       1958   \n231                            That's All Right (Mama)       1963   \n232                        The Ballad of John and Yoko       1969   \n233              The Continuing Story of Bungalow Bill       1968   \n237                                 The Honeymoon Song       1963   \n241                                 The Sheik of Araby       1962   \n247                                    Three Cool Cats       1962   \n274                                You Know What to Do       1964   \n278                                     You'll Be Mine       1960   \n\n                                       Album  Popularity  Duration  Key  Mode  \\\n0                                The Beatles          29        43    9     1   \n1                                Anthology 2          31       175    9     1   \n25         On Air – Live at the BBC Volume 2          25       106    2     1   \n28                               Anthology 1          45       157   11     0   \n33                               The Beatles          30       142    5     1   \n82                               Anthology 1          30        73    5     1   \n102                          Live at the BBC          31       168    4     1   \n118  Past Masters (Vols. 1 & 2 / Remastered)          42       124    9     1   \n133                              Anthology 1          43       164    4     1   \n143                              Anthology 1          31       176    5     1   \n144                              Anthology 1          28       110    4     1   \n146                              Anthology 1          38       155    9     1   \n151                              The Beatles          27       238    0     1   \n168                              Anthology 1          25        50    9     0   \n193                              Anthology 2          53       236    8     1   \n203                              Anthology 1          30       180    7     1   \n218                              The Beatles          31       224    7     1   \n230                              Anthology 1          36       128    9     1   \n231                          Live at the BBC          29       176    9     1   \n232  Past Masters (Vols. 1 & 2 / Remastered)          40       179    4     1   \n233                              The Beatles          54       198    0     1   \n237                          Live at the BBC          30       100    4     1   \n241                              Anthology 1          32       103    0     1   \n247                              Anthology 1          33       145    4     1   \n274                              Anthology 1          28       119    9     1   \n278                              Anthology 1          28        99    5     1   \n\n       Tempo  Time_signature  ...  Weeks at No1 in UK (The Guardian)  \\\n0    112.173               4  ...                                NaN   \n1    122.678               4  ...                                NaN   \n25   169.334               4  ...                                NaN   \n28    76.146               4  ...                                NaN   \n33    79.355               4  ...                                NaN   \n82   131.028               4  ...                                NaN   \n102  103.446               4  ...                                NaN   \n118  125.700               4  ...                                NaN   \n133   87.147               4  ...                                NaN   \n143  100.129               4  ...                                NaN   \n144   81.909               4  ...                                NaN   \n146  156.529               4  ...                                NaN   \n151  163.524               4  ...                                NaN   \n168  112.227               3  ...                                NaN   \n193  175.726               4  ...                                NaN   \n203  150.239               4  ...                                NaN   \n218  127.317               4  ...                                NaN   \n230  134.468               4  ...                                NaN   \n231  104.729               4  ...                                NaN   \n232  135.183               4  ...                                3.0   \n233  114.816               4  ...                                NaN   \n237  134.904               4  ...                                NaN   \n241   93.986               4  ...                                NaN   \n247  140.961               4  ...                                NaN   \n274   82.770               4  ...                                NaN   \n278   89.585               3  ...                                NaN   \n\n     Highest position (Billboard)  Weeks at No1 (Billboard)  \\\n0                             NaN                       NaN   \n1                             NaN                       NaN   \n25                            NaN                       NaN   \n28                            NaN                       NaN   \n33                            NaN                       NaN   \n82                            NaN                       NaN   \n102                           NaN                       NaN   \n118                           NaN                       NaN   \n133                           NaN                       NaN   \n143                           NaN                       NaN   \n144                           NaN                       NaN   \n146                           NaN                       NaN   \n151                           NaN                       NaN   \n168                           NaN                       NaN   \n193                          11.0                       NaN   \n203                           NaN                       NaN   \n218                           NaN                       NaN   \n230                           NaN                       NaN   \n231                           NaN                       NaN   \n232                           8.0                       NaN   \n233                           NaN                       NaN   \n237                           NaN                       NaN   \n241                           NaN                       NaN   \n247                           NaN                       NaN   \n274                           NaN                       NaN   \n278                           NaN                       NaN   \n\n     Top 50 (Billboard)  Top 50 (Ultimate classic rock)  \\\n0                   NaN                             NaN   \n1                   NaN                             NaN   \n25                  NaN                             NaN   \n28                  NaN                             NaN   \n33                  NaN                             NaN   \n82                  NaN                             NaN   \n102                 NaN                             NaN   \n118                 NaN                             NaN   \n133                 NaN                             NaN   \n143                 NaN                             NaN   \n144                 NaN                             NaN   \n146                 NaN                             NaN   \n151                 NaN                             NaN   \n168                 NaN                             NaN   \n193                47.0                             NaN   \n203                 NaN                             NaN   \n218                 NaN                             NaN   \n230                 NaN                             NaN   \n231                 NaN                             NaN   \n232                28.0                            49.0   \n233                 NaN                             NaN   \n237                 NaN                             NaN   \n241                 NaN                             NaN   \n247                 NaN                             NaN   \n274                 NaN                             NaN   \n278                 NaN                             NaN   \n\n     Top 50 (Rolling Stone)  Top 50 (NME)  Top 50 (Top50songs.org)  \\\n0                       NaN           NaN                      NaN   \n1                       NaN           NaN                      NaN   \n25                      NaN           NaN                      NaN   \n28                      NaN           NaN                      NaN   \n33                      NaN           NaN                      NaN   \n82                      NaN           NaN                      NaN   \n102                     NaN           NaN                      NaN   \n118                     NaN           NaN                      NaN   \n133                     NaN           NaN                      NaN   \n143                     NaN           NaN                      NaN   \n144                     NaN           NaN                      NaN   \n146                     NaN           NaN                      NaN   \n151                     NaN           NaN                      NaN   \n168                     NaN           NaN                      NaN   \n193                     NaN           NaN                      NaN   \n203                     NaN           NaN                      NaN   \n218                     NaN           NaN                      NaN   \n230                     NaN           NaN                      NaN   \n231                     NaN           NaN                      NaN   \n232                    48.0           NaN                      NaN   \n233                     NaN           NaN                      NaN   \n237                     NaN           NaN                      NaN   \n241                     NaN           NaN                      NaN   \n247                     NaN           NaN                      NaN   \n274                     NaN           NaN                      NaN   \n278                     NaN           NaN                      NaN   \n\n    Top 50 (USA today, 2017)  Top 50 (Vulture, by Bill Wyman)  \n0                        NaN                              NaN  \n1                        NaN                              NaN  \n25                       NaN                              NaN  \n28                       NaN                              NaN  \n33                       NaN                              NaN  \n82                       NaN                              NaN  \n102                      NaN                              NaN  \n118                      NaN                              NaN  \n133                      NaN                              NaN  \n143                      NaN                              NaN  \n144                      NaN                              NaN  \n146                      NaN                              NaN  \n151                      NaN                              NaN  \n168                      NaN                              NaN  \n193                      NaN                              NaN  \n203                      NaN                              NaN  \n218                      NaN                              NaN  \n230                      NaN                              NaN  \n231                      NaN                              NaN  \n232                      NaN                              NaN  \n233                      NaN                              NaN  \n237                      NaN                              NaN  \n241                      NaN                              NaN  \n247                      NaN                              NaN  \n274                      NaN                              NaN  \n278                      NaN                              NaN  \n\n[26 rows x 45 columns]",
      "text/html": "<div>\n<style scoped>\n    .dataframe tbody tr th:only-of-type {\n        vertical-align: middle;\n    }\n\n    .dataframe tbody tr th {\n        vertical-align: top;\n    }\n\n    .dataframe thead th {\n        text-align: right;\n    }\n</style>\n<table border=\"1\" class=\"dataframe\">\n  <thead>\n    <tr style=\"text-align: right;\">\n      <th></th>\n      <th>URI</th>\n      <th>Title</th>\n      <th>Year</th>\n      <th>Album</th>\n      <th>Popularity</th>\n      <th>Duration</th>\n      <th>Key</th>\n      <th>Mode</th>\n      <th>Tempo</th>\n      <th>Time_signature</th>\n      <th>...</th>\n      <th>Weeks at No1 in UK (The Guardian)</th>\n      <th>Highest position (Billboard)</th>\n      <th>Weeks at No1 (Billboard)</th>\n      <th>Top 50 (Billboard)</th>\n      <th>Top 50 (Ultimate classic rock)</th>\n      <th>Top 50 (Rolling Stone)</th>\n      <th>Top 50 (NME)</th>\n      <th>Top 50 (Top50songs.org)</th>\n      <th>Top 50 (USA today, 2017)</th>\n      <th>Top 50 (Vulture, by Bill Wyman)</th>\n    </tr>\n  </thead>\n  <tbody>\n    <tr>\n      <th>0</th>\n      <td>spotify:track:2FDEHIMkjxFLzj688M2I3h</td>\n      <td>(You're So Square) Baby I Don't Care - Studio Jam</td>\n      <td>1968</td>\n      <td>The Beatles</td>\n      <td>29</td>\n      <td>43</td>\n      <td>9</td>\n      <td>1</td>\n      <td>112.173</td>\n      <td>4</td>\n      <td>...</td>\n      <td>NaN</td>\n      <td>NaN</td>\n      <td>NaN</td>\n      <td>NaN</td>\n      <td>NaN</td>\n      <td>NaN</td>\n      <td>NaN</td>\n      <td>NaN</td>\n      <td>NaN</td>\n      <td>NaN</td>\n    </tr>\n    <tr>\n      <th>1</th>\n      <td>spotify:track:2HvTGx5fzFGpHSyRNvXd9T</td>\n      <td>12-bar Original</td>\n      <td>1965</td>\n      <td>Anthology 2</td>\n      <td>31</td>\n      <td>175</td>\n      <td>9</td>\n      <td>1</td>\n      <td>122.678</td>\n      <td>4</td>\n      <td>...</td>\n      <td>NaN</td>\n      <td>NaN</td>\n      <td>NaN</td>\n      <td>NaN</td>\n      <td>NaN</td>\n      <td>NaN</td>\n      <td>NaN</td>\n      <td>NaN</td>\n      <td>NaN</td>\n      <td>NaN</td>\n    </tr>\n    <tr>\n      <th>25</th>\n      <td>spotify:track:6N6He3Wk0q2O0f2LRLrbil</td>\n      <td>Beautiful Dreamer</td>\n      <td>1963</td>\n      <td>On Air – Live at the BBC Volume 2</td>\n      <td>25</td>\n      <td>106</td>\n      <td>2</td>\n      <td>1</td>\n      <td>169.334</td>\n      <td>4</td>\n      <td>...</td>\n      <td>NaN</td>\n      <td>NaN</td>\n      <td>NaN</td>\n      <td>NaN</td>\n      <td>NaN</td>\n      <td>NaN</td>\n      <td>NaN</td>\n      <td>NaN</td>\n      <td>NaN</td>\n      <td>NaN</td>\n    </tr>\n    <tr>\n      <th>28</th>\n      <td>spotify:track:2Qgak11t9BJHwkicG0WJQE</td>\n      <td>Besame Mucho</td>\n      <td>1969</td>\n      <td>Anthology 1</td>\n      <td>45</td>\n      <td>157</td>\n      <td>11</td>\n      <td>0</td>\n      <td>76.146</td>\n      <td>4</td>\n      <td>...</td>\n      <td>NaN</td>\n      <td>NaN</td>\n      <td>NaN</td>\n      <td>NaN</td>\n      <td>NaN</td>\n      <td>NaN</td>\n      <td>NaN</td>\n      <td>NaN</td>\n      <td>NaN</td>\n      <td>NaN</td>\n    </tr>\n    <tr>\n      <th>33</th>\n      <td>spotify:track:5D6TY2nkWmC0fijXKuYQrm</td>\n      <td>Can You Take Me Back? - Take 1</td>\n      <td>1968</td>\n      <td>The Beatles</td>\n      <td>30</td>\n      <td>142</td>\n      <td>5</td>\n      <td>1</td>\n      <td>79.355</td>\n      <td>4</td>\n      <td>...</td>\n      <td>NaN</td>\n      <td>NaN</td>\n      <td>NaN</td>\n      <td>NaN</td>\n      <td>NaN</td>\n      <td>NaN</td>\n      <td>NaN</td>\n      <td>NaN</td>\n      <td>NaN</td>\n      <td>NaN</td>\n    </tr>\n    <tr>\n      <th>82</th>\n      <td>spotify:track:5aOteYP6rA7vvBA7TG4Zpx</td>\n      <td>Hallelujah, I Love Her So</td>\n      <td>1960</td>\n      <td>Anthology 1</td>\n      <td>30</td>\n      <td>73</td>\n      <td>5</td>\n      <td>1</td>\n      <td>131.028</td>\n      <td>4</td>\n      <td>...</td>\n      <td>NaN</td>\n      <td>NaN</td>\n      <td>NaN</td>\n      <td>NaN</td>\n      <td>NaN</td>\n      <td>NaN</td>\n      <td>NaN</td>\n      <td>NaN</td>\n      <td>NaN</td>\n      <td>NaN</td>\n    </tr>\n    <tr>\n      <th>102</th>\n      <td>spotify:track:53PHRtl7ZP8gkiWiX4rm15</td>\n      <td>I Got a Woman</td>\n      <td>1963</td>\n      <td>Live at the BBC</td>\n      <td>31</td>\n      <td>168</td>\n      <td>4</td>\n      <td>1</td>\n      <td>103.446</td>\n      <td>4</td>\n      <td>...</td>\n      <td>NaN</td>\n      <td>NaN</td>\n      <td>NaN</td>\n      <td>NaN</td>\n      <td>NaN</td>\n      <td>NaN</td>\n      <td>NaN</td>\n      <td>NaN</td>\n      <td>NaN</td>\n      <td>NaN</td>\n    </tr>\n    <tr>\n      <th>118</th>\n      <td>spotify:track:4VMOdHVfB57lNhSDadhOBc</td>\n      <td>I'll Get You</td>\n      <td>1963</td>\n      <td>Past Masters (Vols. 1 &amp; 2 / Remastered)</td>\n      <td>42</td>\n      <td>124</td>\n      <td>9</td>\n      <td>1</td>\n      <td>125.700</td>\n      <td>4</td>\n      <td>...</td>\n      <td>NaN</td>\n      <td>NaN</td>\n      <td>NaN</td>\n      <td>NaN</td>\n      <td>NaN</td>\n      <td>NaN</td>\n      <td>NaN</td>\n      <td>NaN</td>\n      <td>NaN</td>\n      <td>NaN</td>\n    </tr>\n    <tr>\n      <th>133</th>\n      <td>spotify:track:7zvMaTcCspbRMahT4DcjQG</td>\n      <td>In Spite of All the Danger</td>\n      <td>1958</td>\n      <td>Anthology 1</td>\n      <td>43</td>\n      <td>164</td>\n      <td>4</td>\n      <td>1</td>\n      <td>87.147</td>\n      <td>4</td>\n      <td>...</td>\n      <td>NaN</td>\n      <td>NaN</td>\n      <td>NaN</td>\n      <td>NaN</td>\n      <td>NaN</td>\n      <td>NaN</td>\n      <td>NaN</td>\n      <td>NaN</td>\n      <td>NaN</td>\n      <td>NaN</td>\n    </tr>\n    <tr>\n      <th>143</th>\n      <td>spotify:track:4iR7Jx9E4zY0Q7AwMyFpZZ</td>\n      <td>Leave My Kitten Alone</td>\n      <td>1964</td>\n      <td>Anthology 1</td>\n      <td>31</td>\n      <td>176</td>\n      <td>5</td>\n      <td>1</td>\n      <td>100.129</td>\n      <td>4</td>\n      <td>...</td>\n      <td>NaN</td>\n      <td>NaN</td>\n      <td>NaN</td>\n      <td>NaN</td>\n      <td>NaN</td>\n      <td>NaN</td>\n      <td>NaN</td>\n      <td>NaN</td>\n      <td>NaN</td>\n      <td>NaN</td>\n    </tr>\n    <tr>\n      <th>144</th>\n      <td>spotify:track:4J3FSYFhUGp0mkaH7m2YnN</td>\n      <td>Lend Me Your Comb</td>\n      <td>1963</td>\n      <td>Anthology 1</td>\n      <td>28</td>\n      <td>110</td>\n      <td>4</td>\n      <td>1</td>\n      <td>81.909</td>\n      <td>4</td>\n      <td>...</td>\n      <td>NaN</td>\n      <td>NaN</td>\n      <td>NaN</td>\n      <td>NaN</td>\n      <td>NaN</td>\n      <td>NaN</td>\n      <td>NaN</td>\n      <td>NaN</td>\n      <td>NaN</td>\n      <td>NaN</td>\n    </tr>\n    <tr>\n      <th>146</th>\n      <td>spotify:track:3eSgAvKnHbQNLdkVY7eagU</td>\n      <td>Like Dreamers Do</td>\n      <td>1962</td>\n      <td>Anthology 1</td>\n      <td>38</td>\n      <td>155</td>\n      <td>9</td>\n      <td>1</td>\n      <td>156.529</td>\n      <td>4</td>\n      <td>...</td>\n      <td>NaN</td>\n      <td>NaN</td>\n      <td>NaN</td>\n      <td>NaN</td>\n      <td>NaN</td>\n      <td>NaN</td>\n      <td>NaN</td>\n      <td>NaN</td>\n      <td>NaN</td>\n      <td>NaN</td>\n    </tr>\n    <tr>\n      <th>151</th>\n      <td>spotify:track:2yRHcIxk1tQp2Yb4CiCnxT</td>\n      <td>Los Paranoias - Studio Jam</td>\n      <td>1968</td>\n      <td>The Beatles</td>\n      <td>27</td>\n      <td>238</td>\n      <td>0</td>\n      <td>1</td>\n      <td>163.524</td>\n      <td>4</td>\n      <td>...</td>\n      <td>NaN</td>\n      <td>NaN</td>\n      <td>NaN</td>\n      <td>NaN</td>\n      <td>NaN</td>\n      <td>NaN</td>\n      <td>NaN</td>\n      <td>NaN</td>\n      <td>NaN</td>\n      <td>NaN</td>\n    </tr>\n    <tr>\n      <th>168</th>\n      <td>spotify:track:2nBKT7OYXtN4XwT8ajCrfc</td>\n      <td>Moonlight Bay</td>\n      <td>1963</td>\n      <td>Anthology 1</td>\n      <td>25</td>\n      <td>50</td>\n      <td>9</td>\n      <td>0</td>\n      <td>112.227</td>\n      <td>3</td>\n      <td>...</td>\n      <td>NaN</td>\n      <td>NaN</td>\n      <td>NaN</td>\n      <td>NaN</td>\n      <td>NaN</td>\n      <td>NaN</td>\n      <td>NaN</td>\n      <td>NaN</td>\n      <td>NaN</td>\n      <td>NaN</td>\n    </tr>\n    <tr>\n      <th>193</th>\n      <td>spotify:track:5frMgt4jqRGJk3yMKfqOyl</td>\n      <td>Real Love</td>\n      <td>1980/1995</td>\n      <td>Anthology 2</td>\n      <td>53</td>\n      <td>236</td>\n      <td>8</td>\n      <td>1</td>\n      <td>175.726</td>\n      <td>4</td>\n      <td>...</td>\n      <td>NaN</td>\n      <td>11.0</td>\n      <td>NaN</td>\n      <td>47.0</td>\n      <td>NaN</td>\n      <td>NaN</td>\n      <td>NaN</td>\n      <td>NaN</td>\n      <td>NaN</td>\n      <td>NaN</td>\n    </tr>\n    <tr>\n      <th>203</th>\n      <td>spotify:track:1I6ayuCPZQ5SHuiEqnyLSB</td>\n      <td>Searchin'</td>\n      <td>1962</td>\n      <td>Anthology 1</td>\n      <td>30</td>\n      <td>180</td>\n      <td>7</td>\n      <td>1</td>\n      <td>150.239</td>\n      <td>4</td>\n      <td>...</td>\n      <td>NaN</td>\n      <td>NaN</td>\n      <td>NaN</td>\n      <td>NaN</td>\n      <td>NaN</td>\n      <td>NaN</td>\n      <td>NaN</td>\n      <td>NaN</td>\n      <td>NaN</td>\n      <td>NaN</td>\n    </tr>\n    <tr>\n      <th>218</th>\n      <td>spotify:track:3LhwP2LcoiaIxMxRnU6zez</td>\n      <td>Sour Milk Sea - Esher Demo</td>\n      <td>1968</td>\n      <td>The Beatles</td>\n      <td>31</td>\n      <td>224</td>\n      <td>7</td>\n      <td>1</td>\n      <td>127.317</td>\n      <td>4</td>\n      <td>...</td>\n      <td>NaN</td>\n      <td>NaN</td>\n      <td>NaN</td>\n      <td>NaN</td>\n      <td>NaN</td>\n      <td>NaN</td>\n      <td>NaN</td>\n      <td>NaN</td>\n      <td>NaN</td>\n      <td>NaN</td>\n    </tr>\n    <tr>\n      <th>230</th>\n      <td>spotify:track:5AxDzt8VmHreQaDatK6TD4</td>\n      <td>That'll Be the Day</td>\n      <td>1958</td>\n      <td>Anthology 1</td>\n      <td>36</td>\n      <td>128</td>\n      <td>9</td>\n      <td>1</td>\n      <td>134.468</td>\n      <td>4</td>\n      <td>...</td>\n      <td>NaN</td>\n      <td>NaN</td>\n      <td>NaN</td>\n      <td>NaN</td>\n      <td>NaN</td>\n      <td>NaN</td>\n      <td>NaN</td>\n      <td>NaN</td>\n      <td>NaN</td>\n      <td>NaN</td>\n    </tr>\n    <tr>\n      <th>231</th>\n      <td>spotify:track:6zsbf8RSb8YODtTclmMgAb</td>\n      <td>That's All Right (Mama)</td>\n      <td>1963</td>\n      <td>Live at the BBC</td>\n      <td>29</td>\n      <td>176</td>\n      <td>9</td>\n      <td>1</td>\n      <td>104.729</td>\n      <td>4</td>\n      <td>...</td>\n      <td>NaN</td>\n      <td>NaN</td>\n      <td>NaN</td>\n      <td>NaN</td>\n      <td>NaN</td>\n      <td>NaN</td>\n      <td>NaN</td>\n      <td>NaN</td>\n      <td>NaN</td>\n      <td>NaN</td>\n    </tr>\n    <tr>\n      <th>232</th>\n      <td>spotify:track:6r7JAngkBzKGDKRUzLgY2U</td>\n      <td>The Ballad of John and Yoko</td>\n      <td>1969</td>\n      <td>Past Masters (Vols. 1 &amp; 2 / Remastered)</td>\n      <td>40</td>\n      <td>179</td>\n      <td>4</td>\n      <td>1</td>\n      <td>135.183</td>\n      <td>4</td>\n      <td>...</td>\n      <td>3.0</td>\n      <td>8.0</td>\n      <td>NaN</td>\n      <td>28.0</td>\n      <td>49.0</td>\n      <td>48.0</td>\n      <td>NaN</td>\n      <td>NaN</td>\n      <td>NaN</td>\n      <td>NaN</td>\n    </tr>\n    <tr>\n      <th>233</th>\n      <td>spotify:track:5Z3Rd1fMcaty8g5Pn7yhBQ</td>\n      <td>The Continuing Story of Bungalow Bill</td>\n      <td>1968</td>\n      <td>The Beatles</td>\n      <td>54</td>\n      <td>198</td>\n      <td>0</td>\n      <td>1</td>\n      <td>114.816</td>\n      <td>4</td>\n      <td>...</td>\n      <td>NaN</td>\n      <td>NaN</td>\n      <td>NaN</td>\n      <td>NaN</td>\n      <td>NaN</td>\n      <td>NaN</td>\n      <td>NaN</td>\n      <td>NaN</td>\n      <td>NaN</td>\n      <td>NaN</td>\n    </tr>\n    <tr>\n      <th>237</th>\n      <td>spotify:track:4nN3sSVDpCqf3TW4tpDBAS</td>\n      <td>The Honeymoon Song</td>\n      <td>1963</td>\n      <td>Live at the BBC</td>\n      <td>30</td>\n      <td>100</td>\n      <td>4</td>\n      <td>1</td>\n      <td>134.904</td>\n      <td>4</td>\n      <td>...</td>\n      <td>NaN</td>\n      <td>NaN</td>\n      <td>NaN</td>\n      <td>NaN</td>\n      <td>NaN</td>\n      <td>NaN</td>\n      <td>NaN</td>\n      <td>NaN</td>\n      <td>NaN</td>\n      <td>NaN</td>\n    </tr>\n    <tr>\n      <th>241</th>\n      <td>spotify:track:5ZZWchqd0TY6QwVgKROk50</td>\n      <td>The Sheik of Araby</td>\n      <td>1962</td>\n      <td>Anthology 1</td>\n      <td>32</td>\n      <td>103</td>\n      <td>0</td>\n      <td>1</td>\n      <td>93.986</td>\n      <td>4</td>\n      <td>...</td>\n      <td>NaN</td>\n      <td>NaN</td>\n      <td>NaN</td>\n      <td>NaN</td>\n      <td>NaN</td>\n      <td>NaN</td>\n      <td>NaN</td>\n      <td>NaN</td>\n      <td>NaN</td>\n      <td>NaN</td>\n    </tr>\n    <tr>\n      <th>247</th>\n      <td>spotify:track:6xAiyH80RTPPMBZwvWpTEN</td>\n      <td>Three Cool Cats</td>\n      <td>1962</td>\n      <td>Anthology 1</td>\n      <td>33</td>\n      <td>145</td>\n      <td>4</td>\n      <td>1</td>\n      <td>140.961</td>\n      <td>4</td>\n      <td>...</td>\n      <td>NaN</td>\n      <td>NaN</td>\n      <td>NaN</td>\n      <td>NaN</td>\n      <td>NaN</td>\n      <td>NaN</td>\n      <td>NaN</td>\n      <td>NaN</td>\n      <td>NaN</td>\n      <td>NaN</td>\n    </tr>\n    <tr>\n      <th>274</th>\n      <td>spotify:track:1n8oABN9yti0owTEKcms0q</td>\n      <td>You Know What to Do</td>\n      <td>1964</td>\n      <td>Anthology 1</td>\n      <td>28</td>\n      <td>119</td>\n      <td>9</td>\n      <td>1</td>\n      <td>82.770</td>\n      <td>4</td>\n      <td>...</td>\n      <td>NaN</td>\n      <td>NaN</td>\n      <td>NaN</td>\n      <td>NaN</td>\n      <td>NaN</td>\n      <td>NaN</td>\n      <td>NaN</td>\n      <td>NaN</td>\n      <td>NaN</td>\n      <td>NaN</td>\n    </tr>\n    <tr>\n      <th>278</th>\n      <td>spotify:track:175jiRVJ6N6ayJQ1FXim56</td>\n      <td>You'll Be Mine</td>\n      <td>1960</td>\n      <td>Anthology 1</td>\n      <td>28</td>\n      <td>99</td>\n      <td>5</td>\n      <td>1</td>\n      <td>89.585</td>\n      <td>3</td>\n      <td>...</td>\n      <td>NaN</td>\n      <td>NaN</td>\n      <td>NaN</td>\n      <td>NaN</td>\n      <td>NaN</td>\n      <td>NaN</td>\n      <td>NaN</td>\n      <td>NaN</td>\n      <td>NaN</td>\n      <td>NaN</td>\n    </tr>\n  </tbody>\n</table>\n<p>26 rows × 45 columns</p>\n</div>"
     },
     "metadata": {},
     "output_type": "display_data"
    }
   ],
   "source": [
    "display(songs.loc[songs.Styles.isnull()])"
   ],
   "metadata": {
    "collapsed": false,
    "ExecuteTime": {
     "end_time": "2023-09-14T15:36:07.038477800Z",
     "start_time": "2023-09-14T15:36:07.014522800Z"
    }
   },
   "id": "97dc8c6eb9248d72"
  },
  {
   "cell_type": "markdown",
   "source": [
    "Replace the missing values for *Styles* manually, based on data from [AllMusic](https://www.allmusic.com/) and VD's personal experience."
   ],
   "metadata": {
    "collapsed": false
   },
   "id": "209b9f8bb3d5dfa7"
  },
  {
   "cell_type": "code",
   "execution_count": 108,
   "outputs": [
    {
     "data": {
      "text/plain": "Int64Index([  0,   1,  25,  28,  33,  82, 102, 118, 133, 143, 144, 146, 151,\n            168, 193, 203, 218, 230, 231, 232, 233, 237, 241, 247, 274, 278],\n           dtype='int64')"
     },
     "metadata": {},
     "output_type": "display_data"
    },
    {
     "data": {
      "text/plain": "                                                 Title Styles\n0    (You're So Square) Baby I Don't Care - Studio Jam    NaN\n1                                      12-bar Original    NaN\n25                                   Beautiful Dreamer    NaN\n28                                        Besame Mucho    NaN\n33                      Can You Take Me Back? - Take 1    NaN\n82                           Hallelujah, I Love Her So    NaN\n102                                      I Got a Woman    NaN\n118                                       I'll Get You    NaN\n133                         In Spite of All the Danger    NaN\n143                              Leave My Kitten Alone    NaN\n144                                  Lend Me Your Comb    NaN\n146                                   Like Dreamers Do    NaN\n151                         Los Paranoias - Studio Jam    NaN\n168                                      Moonlight Bay    NaN\n193                                          Real Love    NaN\n203                                          Searchin'    NaN\n218                         Sour Milk Sea - Esher Demo    NaN\n230                                 That'll Be the Day    NaN\n231                            That's All Right (Mama)    NaN\n232                        The Ballad of John and Yoko    NaN\n233              The Continuing Story of Bungalow Bill    NaN\n237                                 The Honeymoon Song    NaN\n241                                 The Sheik of Araby    NaN\n247                                    Three Cool Cats    NaN\n274                                You Know What to Do    NaN\n278                                     You'll Be Mine    NaN",
      "text/html": "<div>\n<style scoped>\n    .dataframe tbody tr th:only-of-type {\n        vertical-align: middle;\n    }\n\n    .dataframe tbody tr th {\n        vertical-align: top;\n    }\n\n    .dataframe thead th {\n        text-align: right;\n    }\n</style>\n<table border=\"1\" class=\"dataframe\">\n  <thead>\n    <tr style=\"text-align: right;\">\n      <th></th>\n      <th>Title</th>\n      <th>Styles</th>\n    </tr>\n  </thead>\n  <tbody>\n    <tr>\n      <th>0</th>\n      <td>(You're So Square) Baby I Don't Care - Studio Jam</td>\n      <td>NaN</td>\n    </tr>\n    <tr>\n      <th>1</th>\n      <td>12-bar Original</td>\n      <td>NaN</td>\n    </tr>\n    <tr>\n      <th>25</th>\n      <td>Beautiful Dreamer</td>\n      <td>NaN</td>\n    </tr>\n    <tr>\n      <th>28</th>\n      <td>Besame Mucho</td>\n      <td>NaN</td>\n    </tr>\n    <tr>\n      <th>33</th>\n      <td>Can You Take Me Back? - Take 1</td>\n      <td>NaN</td>\n    </tr>\n    <tr>\n      <th>82</th>\n      <td>Hallelujah, I Love Her So</td>\n      <td>NaN</td>\n    </tr>\n    <tr>\n      <th>102</th>\n      <td>I Got a Woman</td>\n      <td>NaN</td>\n    </tr>\n    <tr>\n      <th>118</th>\n      <td>I'll Get You</td>\n      <td>NaN</td>\n    </tr>\n    <tr>\n      <th>133</th>\n      <td>In Spite of All the Danger</td>\n      <td>NaN</td>\n    </tr>\n    <tr>\n      <th>143</th>\n      <td>Leave My Kitten Alone</td>\n      <td>NaN</td>\n    </tr>\n    <tr>\n      <th>144</th>\n      <td>Lend Me Your Comb</td>\n      <td>NaN</td>\n    </tr>\n    <tr>\n      <th>146</th>\n      <td>Like Dreamers Do</td>\n      <td>NaN</td>\n    </tr>\n    <tr>\n      <th>151</th>\n      <td>Los Paranoias - Studio Jam</td>\n      <td>NaN</td>\n    </tr>\n    <tr>\n      <th>168</th>\n      <td>Moonlight Bay</td>\n      <td>NaN</td>\n    </tr>\n    <tr>\n      <th>193</th>\n      <td>Real Love</td>\n      <td>NaN</td>\n    </tr>\n    <tr>\n      <th>203</th>\n      <td>Searchin'</td>\n      <td>NaN</td>\n    </tr>\n    <tr>\n      <th>218</th>\n      <td>Sour Milk Sea - Esher Demo</td>\n      <td>NaN</td>\n    </tr>\n    <tr>\n      <th>230</th>\n      <td>That'll Be the Day</td>\n      <td>NaN</td>\n    </tr>\n    <tr>\n      <th>231</th>\n      <td>That's All Right (Mama)</td>\n      <td>NaN</td>\n    </tr>\n    <tr>\n      <th>232</th>\n      <td>The Ballad of John and Yoko</td>\n      <td>NaN</td>\n    </tr>\n    <tr>\n      <th>233</th>\n      <td>The Continuing Story of Bungalow Bill</td>\n      <td>NaN</td>\n    </tr>\n    <tr>\n      <th>237</th>\n      <td>The Honeymoon Song</td>\n      <td>NaN</td>\n    </tr>\n    <tr>\n      <th>241</th>\n      <td>The Sheik of Araby</td>\n      <td>NaN</td>\n    </tr>\n    <tr>\n      <th>247</th>\n      <td>Three Cool Cats</td>\n      <td>NaN</td>\n    </tr>\n    <tr>\n      <th>274</th>\n      <td>You Know What to Do</td>\n      <td>NaN</td>\n    </tr>\n    <tr>\n      <th>278</th>\n      <td>You'll Be Mine</td>\n      <td>NaN</td>\n    </tr>\n  </tbody>\n</table>\n</div>"
     },
     "metadata": {},
     "output_type": "display_data"
    }
   ],
   "source": [
    "i = songs.loc[songs.Styles.isnull()].index\n",
    "display(i)\n",
    "display(songs.loc[i, ['Title', 'Styles']])"
   ],
   "metadata": {
    "collapsed": false,
    "ExecuteTime": {
     "end_time": "2023-09-14T15:36:11.324057700Z",
     "start_time": "2023-09-14T15:36:11.296315300Z"
    }
   },
   "id": "fc29a633f55d3b6c"
  },
  {
   "cell_type": "code",
   "execution_count": 109,
   "outputs": [],
   "source": [
    "styles = ['Rock & Roll',\n",
    "          'British Blues, Early R&B, Instrumental Rock',\n",
    "          'Early Pop/Rock',\n",
    "          'Bolero, Western European Traditions, Western Swing',\n",
    "          'Contemporary Pop/Rock, Early Pop/Rock, Singer/Songwriter, Folk-Rock, Psychedelic/Garage',\n",
    "          'Early R&B, Urban Blues, Piano Blues, Rock & Roll',\n",
    "          'Early R&B, Urban Blues, Club/Dance, Jazz Blues',\n",
    "          'British Invasion, Contemporary Pop/Rock, Early Pop/Rock, Merseybeat, Rock & Roll',\n",
    "          'Early Pop/Rock, Early R&B, Contemporary Pop/Rock, Merseybeat, Adult Contemporary, Britpop',\n",
    "          'Early Pop/Rock, Early R&B, Rock & Roll',\n",
    "          'Contemporary Pop/Rock',\n",
    "          'British Invasion, Early Pop/Rock, Merseybeat, Contemporary Pop/Rock, Rock & Roll',\n",
    "          'British Psychedelia, Contemporary Pop/Rock, Early Pop/Rock, Psychedelic/Garage',\n",
    "          'Lullabies, Contemporary Pop/Rock, Early Pop/Rock, Baroque Pop',\n",
    "          'Adult Contemporary, Contemporary Pop/Rock, Early Pop/Rock',\n",
    "          'British Invasion, Merseybeat, Early Pop/Rock, Rock & Roll, Contemporary Pop/Rock',\n",
    "          'British Psychedelia, Contemporary Pop/Rock, Early Pop/Rock, Psychedelic/Garage, Hard Rock, Prog-Rock',\n",
    "          'Rock & Roll, Rockabilly, Early Pop/Rock',\n",
    "          'Rock & Roll, Electric Delta Blues, Rockabilly, Early Pop/Rock, Electric Blues, Regional Blues',\n",
    "          'Rock & Roll, Album Rock, Contemporary Pop/Rock, Early Pop/Rock, Singer/Songwriter, Folk-Rock',\n",
    "          'British Psychedelia, Early Pop/Rock, Contemporary Pop/Rock, Psychedelic/Garage, Folk-Rock',\n",
    "          'British Invasion, Merseybeat, Contemporary Pop/Rock, Early Pop/Rock',\n",
    "          'British Invasion, Early Pop/Rock, Contemporary Pop/Rock, Rock & Roll, Rockabilly',\n",
    "          'British Invasion, Merseybeat, Early Pop/Rock, Contemporary Pop/Rock, Rock & Roll',\n",
    "          'British Invasion, Early Pop/Rock, Merseybeat, Contemporary Pop/Rock, Rock & Roll',\n",
    "          'British Invasion, Early Pop/Rock, Merseybeat, Contemporary Pop/Rock, Rock & Roll',\n",
    "          ]"
   ],
   "metadata": {
    "collapsed": false,
    "ExecuteTime": {
     "end_time": "2023-09-14T15:36:15.327627200Z",
     "start_time": "2023-09-14T15:36:15.310500800Z"
    }
   },
   "id": "5cddae93ea6fcb22"
  },
  {
   "cell_type": "code",
   "execution_count": 110,
   "outputs": [],
   "source": [
    "songs.loc[i, 'Styles'] = styles"
   ],
   "metadata": {
    "collapsed": false,
    "ExecuteTime": {
     "end_time": "2023-09-14T15:36:21.034960800Z",
     "start_time": "2023-09-14T15:36:21.025746600Z"
    }
   },
   "id": "16bbcf2cc54fbf0c"
  },
  {
   "cell_type": "code",
   "execution_count": 111,
   "outputs": [
    {
     "data": {
      "text/plain": "                                                 Title  \\\n0    (You're So Square) Baby I Don't Care - Studio Jam   \n1                                      12-bar Original   \n25                                   Beautiful Dreamer   \n28                                        Besame Mucho   \n33                      Can You Take Me Back? - Take 1   \n82                           Hallelujah, I Love Her So   \n102                                      I Got a Woman   \n118                                       I'll Get You   \n133                         In Spite of All the Danger   \n143                              Leave My Kitten Alone   \n144                                  Lend Me Your Comb   \n146                                   Like Dreamers Do   \n151                         Los Paranoias - Studio Jam   \n168                                      Moonlight Bay   \n193                                          Real Love   \n203                                          Searchin'   \n218                         Sour Milk Sea - Esher Demo   \n230                                 That'll Be the Day   \n231                            That's All Right (Mama)   \n232                        The Ballad of John and Yoko   \n233              The Continuing Story of Bungalow Bill   \n237                                 The Honeymoon Song   \n241                                 The Sheik of Araby   \n247                                    Three Cool Cats   \n274                                You Know What to Do   \n278                                     You'll Be Mine   \n\n                                                Styles  \n0                                          Rock & Roll  \n1          British Blues, Early R&B, Instrumental Rock  \n25                                      Early Pop/Rock  \n28   Bolero, Western European Traditions, Western S...  \n33   Contemporary Pop/Rock, Early Pop/Rock, Singer/...  \n82    Early R&B, Urban Blues, Piano Blues, Rock & Roll  \n102     Early R&B, Urban Blues, Club/Dance, Jazz Blues  \n118  British Invasion, Contemporary Pop/Rock, Early...  \n133  Early Pop/Rock, Early R&B, Contemporary Pop/Ro...  \n143             Early Pop/Rock, Early R&B, Rock & Roll  \n144                              Contemporary Pop/Rock  \n146  British Invasion, Early Pop/Rock, Merseybeat, ...  \n151  British Psychedelia, Contemporary Pop/Rock, Ea...  \n168  Lullabies, Contemporary Pop/Rock, Early Pop/Ro...  \n193  Adult Contemporary, Contemporary Pop/Rock, Ear...  \n203  British Invasion, Merseybeat, Early Pop/Rock, ...  \n218  British Psychedelia, Contemporary Pop/Rock, Ea...  \n230            Rock & Roll, Rockabilly, Early Pop/Rock  \n231  Rock & Roll, Electric Delta Blues, Rockabilly,...  \n232  Rock & Roll, Album Rock, Contemporary Pop/Rock...  \n233  British Psychedelia, Early Pop/Rock, Contempor...  \n237  British Invasion, Merseybeat, Contemporary Pop...  \n241  British Invasion, Early Pop/Rock, Contemporary...  \n247  British Invasion, Merseybeat, Early Pop/Rock, ...  \n274  British Invasion, Early Pop/Rock, Merseybeat, ...  \n278  British Invasion, Early Pop/Rock, Merseybeat, ...  ",
      "text/html": "<div>\n<style scoped>\n    .dataframe tbody tr th:only-of-type {\n        vertical-align: middle;\n    }\n\n    .dataframe tbody tr th {\n        vertical-align: top;\n    }\n\n    .dataframe thead th {\n        text-align: right;\n    }\n</style>\n<table border=\"1\" class=\"dataframe\">\n  <thead>\n    <tr style=\"text-align: right;\">\n      <th></th>\n      <th>Title</th>\n      <th>Styles</th>\n    </tr>\n  </thead>\n  <tbody>\n    <tr>\n      <th>0</th>\n      <td>(You're So Square) Baby I Don't Care - Studio Jam</td>\n      <td>Rock &amp; Roll</td>\n    </tr>\n    <tr>\n      <th>1</th>\n      <td>12-bar Original</td>\n      <td>British Blues, Early R&amp;B, Instrumental Rock</td>\n    </tr>\n    <tr>\n      <th>25</th>\n      <td>Beautiful Dreamer</td>\n      <td>Early Pop/Rock</td>\n    </tr>\n    <tr>\n      <th>28</th>\n      <td>Besame Mucho</td>\n      <td>Bolero, Western European Traditions, Western S...</td>\n    </tr>\n    <tr>\n      <th>33</th>\n      <td>Can You Take Me Back? - Take 1</td>\n      <td>Contemporary Pop/Rock, Early Pop/Rock, Singer/...</td>\n    </tr>\n    <tr>\n      <th>82</th>\n      <td>Hallelujah, I Love Her So</td>\n      <td>Early R&amp;B, Urban Blues, Piano Blues, Rock &amp; Roll</td>\n    </tr>\n    <tr>\n      <th>102</th>\n      <td>I Got a Woman</td>\n      <td>Early R&amp;B, Urban Blues, Club/Dance, Jazz Blues</td>\n    </tr>\n    <tr>\n      <th>118</th>\n      <td>I'll Get You</td>\n      <td>British Invasion, Contemporary Pop/Rock, Early...</td>\n    </tr>\n    <tr>\n      <th>133</th>\n      <td>In Spite of All the Danger</td>\n      <td>Early Pop/Rock, Early R&amp;B, Contemporary Pop/Ro...</td>\n    </tr>\n    <tr>\n      <th>143</th>\n      <td>Leave My Kitten Alone</td>\n      <td>Early Pop/Rock, Early R&amp;B, Rock &amp; Roll</td>\n    </tr>\n    <tr>\n      <th>144</th>\n      <td>Lend Me Your Comb</td>\n      <td>Contemporary Pop/Rock</td>\n    </tr>\n    <tr>\n      <th>146</th>\n      <td>Like Dreamers Do</td>\n      <td>British Invasion, Early Pop/Rock, Merseybeat, ...</td>\n    </tr>\n    <tr>\n      <th>151</th>\n      <td>Los Paranoias - Studio Jam</td>\n      <td>British Psychedelia, Contemporary Pop/Rock, Ea...</td>\n    </tr>\n    <tr>\n      <th>168</th>\n      <td>Moonlight Bay</td>\n      <td>Lullabies, Contemporary Pop/Rock, Early Pop/Ro...</td>\n    </tr>\n    <tr>\n      <th>193</th>\n      <td>Real Love</td>\n      <td>Adult Contemporary, Contemporary Pop/Rock, Ear...</td>\n    </tr>\n    <tr>\n      <th>203</th>\n      <td>Searchin'</td>\n      <td>British Invasion, Merseybeat, Early Pop/Rock, ...</td>\n    </tr>\n    <tr>\n      <th>218</th>\n      <td>Sour Milk Sea - Esher Demo</td>\n      <td>British Psychedelia, Contemporary Pop/Rock, Ea...</td>\n    </tr>\n    <tr>\n      <th>230</th>\n      <td>That'll Be the Day</td>\n      <td>Rock &amp; Roll, Rockabilly, Early Pop/Rock</td>\n    </tr>\n    <tr>\n      <th>231</th>\n      <td>That's All Right (Mama)</td>\n      <td>Rock &amp; Roll, Electric Delta Blues, Rockabilly,...</td>\n    </tr>\n    <tr>\n      <th>232</th>\n      <td>The Ballad of John and Yoko</td>\n      <td>Rock &amp; Roll, Album Rock, Contemporary Pop/Rock...</td>\n    </tr>\n    <tr>\n      <th>233</th>\n      <td>The Continuing Story of Bungalow Bill</td>\n      <td>British Psychedelia, Early Pop/Rock, Contempor...</td>\n    </tr>\n    <tr>\n      <th>237</th>\n      <td>The Honeymoon Song</td>\n      <td>British Invasion, Merseybeat, Contemporary Pop...</td>\n    </tr>\n    <tr>\n      <th>241</th>\n      <td>The Sheik of Araby</td>\n      <td>British Invasion, Early Pop/Rock, Contemporary...</td>\n    </tr>\n    <tr>\n      <th>247</th>\n      <td>Three Cool Cats</td>\n      <td>British Invasion, Merseybeat, Early Pop/Rock, ...</td>\n    </tr>\n    <tr>\n      <th>274</th>\n      <td>You Know What to Do</td>\n      <td>British Invasion, Early Pop/Rock, Merseybeat, ...</td>\n    </tr>\n    <tr>\n      <th>278</th>\n      <td>You'll Be Mine</td>\n      <td>British Invasion, Early Pop/Rock, Merseybeat, ...</td>\n    </tr>\n  </tbody>\n</table>\n</div>"
     },
     "execution_count": 111,
     "metadata": {},
     "output_type": "execute_result"
    }
   ],
   "source": [
    "songs.loc[i, ['Title', 'Styles']]"
   ],
   "metadata": {
    "collapsed": false,
    "ExecuteTime": {
     "end_time": "2023-09-14T15:36:54.609602100Z",
     "start_time": "2023-09-14T15:36:54.597075500Z"
    }
   },
   "id": "d8e0260d8ede0b06"
  },
  {
   "cell_type": "markdown",
   "source": [
    "Save the new version of the dataset, *The Beatles songs dataset, 284x45, v4.csv*."
   ],
   "metadata": {
    "collapsed": false
   },
   "id": "c75081ecf132d4b1"
  },
  {
   "cell_type": "code",
   "execution_count": 112,
   "outputs": [],
   "source": [
    "songs.to_csv('../data/The Beatles songs dataset, 284x45, v4.csv', index=False)"
   ],
   "metadata": {
    "collapsed": false,
    "ExecuteTime": {
     "end_time": "2023-09-14T15:37:27.662820900Z",
     "start_time": "2023-09-14T15:37:27.637607500Z"
    }
   },
   "id": "e6db041d9060e789"
  },
  {
   "cell_type": "markdown",
   "source": [
    "##### *Moods*"
   ],
   "metadata": {
    "collapsed": false
   },
   "id": "a0bd9f61df508efb"
  },
  {
   "cell_type": "code",
   "execution_count": 113,
   "outputs": [],
   "source": [
    "songs = pd.read_csv('../data/The Beatles songs dataset, 284x45, v4.csv')"
   ],
   "metadata": {
    "collapsed": false,
    "ExecuteTime": {
     "end_time": "2023-09-14T15:38:37.962153500Z",
     "start_time": "2023-09-14T15:38:37.912408700Z"
    }
   },
   "id": "90aa8281ee9ca691"
  },
  {
   "cell_type": "markdown",
   "source": [
    "How many songs miss the value for *Moods*?"
   ],
   "metadata": {
    "collapsed": false
   },
   "id": "381c611daf7ef2ae"
  },
  {
   "cell_type": "code",
   "execution_count": 114,
   "outputs": [
    {
     "data": {
      "text/plain": "URI                                      0\nTitle                                    0\nYear                                     0\nAlbum                                    0\nPopularity                               0\nDuration                                 0\nKey                                      0\nMode                                     0\nTempo                                    0\nTime_signature                           0\nValence                                  0\nDanceability                             0\nEnergy                                   0\nLoudness                                 0\nAcousticness                             0\nInstrumentalness                         0\nLiveness                                 0\nSpeechiness                              0\nAlbum debut                              0\nOther releases                          71\nSingle A side                          194\nSingle B side                          194\nSingle certification                   234\nGenre                                    0\nStyles                                   0\nThemes                                  99\nMoods                                   23\nSongwriter(s)                            0\nLead vocal(s)                           10\nCover                                  218\nCovered by                             102\nChart position UK (Wikipedia)          239\nChart position US (Wikipedia)          217\nHighest position (The Guardian)        253\nWeeks on chart in UK (The Guardian)    253\nWeeks at No1 in UK (The Guardian)      268\nHighest position (Billboard)           235\nWeeks at No1 (Billboard)               269\nTop 50 (Billboard)                     235\nTop 50 (Ultimate classic rock)         235\nTop 50 (Rolling Stone)                 235\nTop 50 (NME)                           235\nTop 50 (Top50songs.org)                234\nTop 50 (USA today, 2017)               234\nTop 50 (Vulture, by Bill Wyman)        242\ndtype: int64"
     },
     "metadata": {},
     "output_type": "display_data"
    },
    {
     "data": {
      "text/plain": "23"
     },
     "metadata": {},
     "output_type": "display_data"
    }
   ],
   "source": [
    "display(songs.isnull().sum())\n",
    "display(songs.Moods.isnull().sum())"
   ],
   "metadata": {
    "collapsed": false,
    "ExecuteTime": {
     "end_time": "2023-09-14T15:38:54.480158500Z",
     "start_time": "2023-09-14T15:38:54.459868700Z"
    }
   },
   "id": "d8e43050cc4a0720"
  },
  {
   "cell_type": "markdown",
   "source": [
    "What are these songs?"
   ],
   "metadata": {
    "collapsed": false
   },
   "id": "856992a048426393"
  },
  {
   "cell_type": "code",
   "execution_count": 115,
   "outputs": [
    {
     "data": {
      "text/plain": "                                      URI  \\\n0    spotify:track:2FDEHIMkjxFLzj688M2I3h   \n25   spotify:track:6N6He3Wk0q2O0f2LRLrbil   \n28   spotify:track:2Qgak11t9BJHwkicG0WJQE   \n33   spotify:track:5D6TY2nkWmC0fijXKuYQrm   \n82   spotify:track:5aOteYP6rA7vvBA7TG4Zpx   \n102  spotify:track:53PHRtl7ZP8gkiWiX4rm15   \n118  spotify:track:4VMOdHVfB57lNhSDadhOBc   \n125  spotify:track:6MVohEoExQiPfsoTeWh5NA   \n133  spotify:track:7zvMaTcCspbRMahT4DcjQG   \n143  spotify:track:4iR7Jx9E4zY0Q7AwMyFpZZ   \n144  spotify:track:4J3FSYFhUGp0mkaH7m2YnN   \n149  spotify:track:7ds98B8y5BQltzC60Gdkri   \n151  spotify:track:2yRHcIxk1tQp2Yb4CiCnxT   \n168  spotify:track:2nBKT7OYXtN4XwT8ajCrfc   \n218  spotify:track:3LhwP2LcoiaIxMxRnU6zez   \n230  spotify:track:5AxDzt8VmHreQaDatK6TD4   \n231  spotify:track:6zsbf8RSb8YODtTclmMgAb   \n233  spotify:track:5Z3Rd1fMcaty8g5Pn7yhBQ   \n237  spotify:track:4nN3sSVDpCqf3TW4tpDBAS   \n246  spotify:track:0oQshbv1BFLZ61b1tQ4Eqg   \n254  spotify:track:0CaBBQsaAiRHhiLmzi7ZRp   \n274  spotify:track:1n8oABN9yti0owTEKcms0q   \n278  spotify:track:175jiRVJ6N6ayJQ1FXim56   \n\n                                                 Title  Year  \\\n0    (You're So Square) Baby I Don't Care - Studio Jam  1968   \n25                                   Beautiful Dreamer  1963   \n28                                        Besame Mucho  1969   \n33                      Can You Take Me Back? - Take 1  1968   \n82                           Hallelujah, I Love Her So  1960   \n102                                      I Got a Woman  1963   \n118                                       I'll Get You  1963   \n125                              I'm Talking About You  1963   \n133                         In Spite of All the Danger  1958   \n143                              Leave My Kitten Alone  1964   \n144                                  Lend Me Your Comb  1963   \n149                                    Long Tall Sally  1964   \n151                         Los Paranoias - Studio Jam  1968   \n168                                      Moonlight Bay  1963   \n218                         Sour Milk Sea - Esher Demo  1968   \n230                                 That'll Be the Day  1958   \n231                            That's All Right (Mama)  1963   \n233              The Continuing Story of Bungalow Bill  1968   \n237                                 The Honeymoon Song  1963   \n246                                           This Boy  1963   \n254                                          Two of Us  1969   \n274                                You Know What to Do  1964   \n278                                     You'll Be Mine  1960   \n\n                                       Album  Popularity  Duration  Key  Mode  \\\n0                                The Beatles          29        43    9     1   \n25         On Air – Live at the BBC Volume 2          25       106    2     1   \n28                               Anthology 1          45       157   11     0   \n33                               The Beatles          30       142    5     1   \n82                               Anthology 1          30        73    5     1   \n102                          Live at the BBC          31       168    4     1   \n118  Past Masters (Vols. 1 & 2 / Remastered)          42       124    9     1   \n125         On Air - Live At The BBC (Vol.2)          27       112    4     1   \n133                              Anthology 1          43       164    4     1   \n143                              Anthology 1          31       176    5     1   \n144                              Anthology 1          28       110    4     1   \n149  Past Masters (Vols. 1 & 2 / Remastered)          44       130    0     1   \n151                              The Beatles          27       238    0     1   \n168                              Anthology 1          25        50    9     0   \n218                              The Beatles          31       224    7     1   \n230                              Anthology 1          36       128    9     1   \n231                          Live at the BBC          29       176    9     1   \n233                              The Beatles          54       198    0     1   \n237                          Live at the BBC          30       100    4     1   \n246  Past Masters (Vols. 1 & 2 / Remastered)          56       133    2     1   \n254                                Let It Be          61       213    7     1   \n274                              Anthology 1          28       119    9     1   \n278                              Anthology 1          28        99    5     1   \n\n       Tempo  Time_signature  ...  Weeks at No1 in UK (The Guardian)  \\\n0    112.173               4  ...                                NaN   \n25   169.334               4  ...                                NaN   \n28    76.146               4  ...                                NaN   \n33    79.355               4  ...                                NaN   \n82   131.028               4  ...                                NaN   \n102  103.446               4  ...                                NaN   \n118  125.700               4  ...                                NaN   \n125  143.730               4  ...                                NaN   \n133   87.147               4  ...                                NaN   \n143  100.129               4  ...                                NaN   \n144   81.909               4  ...                                NaN   \n149  172.467               4  ...                                NaN   \n151  163.524               4  ...                                NaN   \n168  112.227               3  ...                                NaN   \n218  127.317               4  ...                                NaN   \n230  134.468               4  ...                                NaN   \n231  104.729               4  ...                                NaN   \n233  114.816               4  ...                                NaN   \n237  134.904               4  ...                                NaN   \n246  110.173               3  ...                                NaN   \n254  109.114               4  ...                                NaN   \n274   82.770               4  ...                                NaN   \n278   89.585               3  ...                                NaN   \n\n     Highest position (Billboard)  Weeks at No1 (Billboard)  \\\n0                             NaN                       NaN   \n25                            NaN                       NaN   \n28                            NaN                       NaN   \n33                            NaN                       NaN   \n82                            NaN                       NaN   \n102                           NaN                       NaN   \n118                           NaN                       NaN   \n125                           NaN                       NaN   \n133                           NaN                       NaN   \n143                           NaN                       NaN   \n144                           NaN                       NaN   \n149                           NaN                       NaN   \n151                           NaN                       NaN   \n168                           NaN                       NaN   \n218                           NaN                       NaN   \n230                           NaN                       NaN   \n231                           NaN                       NaN   \n233                           NaN                       NaN   \n237                           NaN                       NaN   \n246                           NaN                       NaN   \n254                           NaN                       NaN   \n274                           NaN                       NaN   \n278                           NaN                       NaN   \n\n     Top 50 (Billboard)  Top 50 (Ultimate classic rock)  \\\n0                   NaN                             NaN   \n25                  NaN                             NaN   \n28                  NaN                             NaN   \n33                  NaN                             NaN   \n82                  NaN                             NaN   \n102                 NaN                             NaN   \n118                 NaN                             NaN   \n125                 NaN                             NaN   \n133                 NaN                             NaN   \n143                 NaN                             NaN   \n144                 NaN                             NaN   \n149                 NaN                             NaN   \n151                 NaN                             NaN   \n168                 NaN                             NaN   \n218                 NaN                             NaN   \n230                 NaN                             NaN   \n231                 NaN                             NaN   \n233                 NaN                             NaN   \n237                 NaN                             NaN   \n246                 NaN                            38.0   \n254                 NaN                             NaN   \n274                 NaN                             NaN   \n278                 NaN                             NaN   \n\n     Top 50 (Rolling Stone)  Top 50 (NME)  Top 50 (Top50songs.org)  \\\n0                       NaN           NaN                      NaN   \n25                      NaN           NaN                      NaN   \n28                      NaN           NaN                      NaN   \n33                      NaN           NaN                      NaN   \n82                      NaN           NaN                      NaN   \n102                     NaN           NaN                      NaN   \n118                     NaN           NaN                      NaN   \n125                     NaN           NaN                      NaN   \n133                     NaN           NaN                      NaN   \n143                     NaN           NaN                      NaN   \n144                     NaN           NaN                      NaN   \n149                     NaN           NaN                      NaN   \n151                     NaN           NaN                      NaN   \n168                     NaN           NaN                      NaN   \n218                     NaN           NaN                      NaN   \n230                     NaN           NaN                      NaN   \n231                     NaN           NaN                      NaN   \n233                     NaN           NaN                      NaN   \n237                     NaN           NaN                      NaN   \n246                     NaN           NaN                      NaN   \n254                     NaN          42.0                      NaN   \n274                     NaN           NaN                      NaN   \n278                     NaN           NaN                      NaN   \n\n    Top 50 (USA today, 2017)  Top 50 (Vulture, by Bill Wyman)  \n0                        NaN                              NaN  \n25                       NaN                              NaN  \n28                       NaN                              NaN  \n33                       NaN                              NaN  \n82                       NaN                              NaN  \n102                      NaN                              NaN  \n118                      NaN                              NaN  \n125                      NaN                              NaN  \n133                      NaN                              NaN  \n143                      NaN                              NaN  \n144                      NaN                              NaN  \n149                      NaN                              NaN  \n151                      NaN                              NaN  \n168                      NaN                              NaN  \n218                      NaN                              NaN  \n230                      NaN                              NaN  \n231                      NaN                              NaN  \n233                      NaN                              NaN  \n237                      NaN                              NaN  \n246                      NaN                              NaN  \n254                      NaN                              NaN  \n274                      NaN                              NaN  \n278                      NaN                              NaN  \n\n[23 rows x 45 columns]",
      "text/html": "<div>\n<style scoped>\n    .dataframe tbody tr th:only-of-type {\n        vertical-align: middle;\n    }\n\n    .dataframe tbody tr th {\n        vertical-align: top;\n    }\n\n    .dataframe thead th {\n        text-align: right;\n    }\n</style>\n<table border=\"1\" class=\"dataframe\">\n  <thead>\n    <tr style=\"text-align: right;\">\n      <th></th>\n      <th>URI</th>\n      <th>Title</th>\n      <th>Year</th>\n      <th>Album</th>\n      <th>Popularity</th>\n      <th>Duration</th>\n      <th>Key</th>\n      <th>Mode</th>\n      <th>Tempo</th>\n      <th>Time_signature</th>\n      <th>...</th>\n      <th>Weeks at No1 in UK (The Guardian)</th>\n      <th>Highest position (Billboard)</th>\n      <th>Weeks at No1 (Billboard)</th>\n      <th>Top 50 (Billboard)</th>\n      <th>Top 50 (Ultimate classic rock)</th>\n      <th>Top 50 (Rolling Stone)</th>\n      <th>Top 50 (NME)</th>\n      <th>Top 50 (Top50songs.org)</th>\n      <th>Top 50 (USA today, 2017)</th>\n      <th>Top 50 (Vulture, by Bill Wyman)</th>\n    </tr>\n  </thead>\n  <tbody>\n    <tr>\n      <th>0</th>\n      <td>spotify:track:2FDEHIMkjxFLzj688M2I3h</td>\n      <td>(You're So Square) Baby I Don't Care - Studio Jam</td>\n      <td>1968</td>\n      <td>The Beatles</td>\n      <td>29</td>\n      <td>43</td>\n      <td>9</td>\n      <td>1</td>\n      <td>112.173</td>\n      <td>4</td>\n      <td>...</td>\n      <td>NaN</td>\n      <td>NaN</td>\n      <td>NaN</td>\n      <td>NaN</td>\n      <td>NaN</td>\n      <td>NaN</td>\n      <td>NaN</td>\n      <td>NaN</td>\n      <td>NaN</td>\n      <td>NaN</td>\n    </tr>\n    <tr>\n      <th>25</th>\n      <td>spotify:track:6N6He3Wk0q2O0f2LRLrbil</td>\n      <td>Beautiful Dreamer</td>\n      <td>1963</td>\n      <td>On Air – Live at the BBC Volume 2</td>\n      <td>25</td>\n      <td>106</td>\n      <td>2</td>\n      <td>1</td>\n      <td>169.334</td>\n      <td>4</td>\n      <td>...</td>\n      <td>NaN</td>\n      <td>NaN</td>\n      <td>NaN</td>\n      <td>NaN</td>\n      <td>NaN</td>\n      <td>NaN</td>\n      <td>NaN</td>\n      <td>NaN</td>\n      <td>NaN</td>\n      <td>NaN</td>\n    </tr>\n    <tr>\n      <th>28</th>\n      <td>spotify:track:2Qgak11t9BJHwkicG0WJQE</td>\n      <td>Besame Mucho</td>\n      <td>1969</td>\n      <td>Anthology 1</td>\n      <td>45</td>\n      <td>157</td>\n      <td>11</td>\n      <td>0</td>\n      <td>76.146</td>\n      <td>4</td>\n      <td>...</td>\n      <td>NaN</td>\n      <td>NaN</td>\n      <td>NaN</td>\n      <td>NaN</td>\n      <td>NaN</td>\n      <td>NaN</td>\n      <td>NaN</td>\n      <td>NaN</td>\n      <td>NaN</td>\n      <td>NaN</td>\n    </tr>\n    <tr>\n      <th>33</th>\n      <td>spotify:track:5D6TY2nkWmC0fijXKuYQrm</td>\n      <td>Can You Take Me Back? - Take 1</td>\n      <td>1968</td>\n      <td>The Beatles</td>\n      <td>30</td>\n      <td>142</td>\n      <td>5</td>\n      <td>1</td>\n      <td>79.355</td>\n      <td>4</td>\n      <td>...</td>\n      <td>NaN</td>\n      <td>NaN</td>\n      <td>NaN</td>\n      <td>NaN</td>\n      <td>NaN</td>\n      <td>NaN</td>\n      <td>NaN</td>\n      <td>NaN</td>\n      <td>NaN</td>\n      <td>NaN</td>\n    </tr>\n    <tr>\n      <th>82</th>\n      <td>spotify:track:5aOteYP6rA7vvBA7TG4Zpx</td>\n      <td>Hallelujah, I Love Her So</td>\n      <td>1960</td>\n      <td>Anthology 1</td>\n      <td>30</td>\n      <td>73</td>\n      <td>5</td>\n      <td>1</td>\n      <td>131.028</td>\n      <td>4</td>\n      <td>...</td>\n      <td>NaN</td>\n      <td>NaN</td>\n      <td>NaN</td>\n      <td>NaN</td>\n      <td>NaN</td>\n      <td>NaN</td>\n      <td>NaN</td>\n      <td>NaN</td>\n      <td>NaN</td>\n      <td>NaN</td>\n    </tr>\n    <tr>\n      <th>102</th>\n      <td>spotify:track:53PHRtl7ZP8gkiWiX4rm15</td>\n      <td>I Got a Woman</td>\n      <td>1963</td>\n      <td>Live at the BBC</td>\n      <td>31</td>\n      <td>168</td>\n      <td>4</td>\n      <td>1</td>\n      <td>103.446</td>\n      <td>4</td>\n      <td>...</td>\n      <td>NaN</td>\n      <td>NaN</td>\n      <td>NaN</td>\n      <td>NaN</td>\n      <td>NaN</td>\n      <td>NaN</td>\n      <td>NaN</td>\n      <td>NaN</td>\n      <td>NaN</td>\n      <td>NaN</td>\n    </tr>\n    <tr>\n      <th>118</th>\n      <td>spotify:track:4VMOdHVfB57lNhSDadhOBc</td>\n      <td>I'll Get You</td>\n      <td>1963</td>\n      <td>Past Masters (Vols. 1 &amp; 2 / Remastered)</td>\n      <td>42</td>\n      <td>124</td>\n      <td>9</td>\n      <td>1</td>\n      <td>125.700</td>\n      <td>4</td>\n      <td>...</td>\n      <td>NaN</td>\n      <td>NaN</td>\n      <td>NaN</td>\n      <td>NaN</td>\n      <td>NaN</td>\n      <td>NaN</td>\n      <td>NaN</td>\n      <td>NaN</td>\n      <td>NaN</td>\n      <td>NaN</td>\n    </tr>\n    <tr>\n      <th>125</th>\n      <td>spotify:track:6MVohEoExQiPfsoTeWh5NA</td>\n      <td>I'm Talking About You</td>\n      <td>1963</td>\n      <td>On Air - Live At The BBC (Vol.2)</td>\n      <td>27</td>\n      <td>112</td>\n      <td>4</td>\n      <td>1</td>\n      <td>143.730</td>\n      <td>4</td>\n      <td>...</td>\n      <td>NaN</td>\n      <td>NaN</td>\n      <td>NaN</td>\n      <td>NaN</td>\n      <td>NaN</td>\n      <td>NaN</td>\n      <td>NaN</td>\n      <td>NaN</td>\n      <td>NaN</td>\n      <td>NaN</td>\n    </tr>\n    <tr>\n      <th>133</th>\n      <td>spotify:track:7zvMaTcCspbRMahT4DcjQG</td>\n      <td>In Spite of All the Danger</td>\n      <td>1958</td>\n      <td>Anthology 1</td>\n      <td>43</td>\n      <td>164</td>\n      <td>4</td>\n      <td>1</td>\n      <td>87.147</td>\n      <td>4</td>\n      <td>...</td>\n      <td>NaN</td>\n      <td>NaN</td>\n      <td>NaN</td>\n      <td>NaN</td>\n      <td>NaN</td>\n      <td>NaN</td>\n      <td>NaN</td>\n      <td>NaN</td>\n      <td>NaN</td>\n      <td>NaN</td>\n    </tr>\n    <tr>\n      <th>143</th>\n      <td>spotify:track:4iR7Jx9E4zY0Q7AwMyFpZZ</td>\n      <td>Leave My Kitten Alone</td>\n      <td>1964</td>\n      <td>Anthology 1</td>\n      <td>31</td>\n      <td>176</td>\n      <td>5</td>\n      <td>1</td>\n      <td>100.129</td>\n      <td>4</td>\n      <td>...</td>\n      <td>NaN</td>\n      <td>NaN</td>\n      <td>NaN</td>\n      <td>NaN</td>\n      <td>NaN</td>\n      <td>NaN</td>\n      <td>NaN</td>\n      <td>NaN</td>\n      <td>NaN</td>\n      <td>NaN</td>\n    </tr>\n    <tr>\n      <th>144</th>\n      <td>spotify:track:4J3FSYFhUGp0mkaH7m2YnN</td>\n      <td>Lend Me Your Comb</td>\n      <td>1963</td>\n      <td>Anthology 1</td>\n      <td>28</td>\n      <td>110</td>\n      <td>4</td>\n      <td>1</td>\n      <td>81.909</td>\n      <td>4</td>\n      <td>...</td>\n      <td>NaN</td>\n      <td>NaN</td>\n      <td>NaN</td>\n      <td>NaN</td>\n      <td>NaN</td>\n      <td>NaN</td>\n      <td>NaN</td>\n      <td>NaN</td>\n      <td>NaN</td>\n      <td>NaN</td>\n    </tr>\n    <tr>\n      <th>149</th>\n      <td>spotify:track:7ds98B8y5BQltzC60Gdkri</td>\n      <td>Long Tall Sally</td>\n      <td>1964</td>\n      <td>Past Masters (Vols. 1 &amp; 2 / Remastered)</td>\n      <td>44</td>\n      <td>130</td>\n      <td>0</td>\n      <td>1</td>\n      <td>172.467</td>\n      <td>4</td>\n      <td>...</td>\n      <td>NaN</td>\n      <td>NaN</td>\n      <td>NaN</td>\n      <td>NaN</td>\n      <td>NaN</td>\n      <td>NaN</td>\n      <td>NaN</td>\n      <td>NaN</td>\n      <td>NaN</td>\n      <td>NaN</td>\n    </tr>\n    <tr>\n      <th>151</th>\n      <td>spotify:track:2yRHcIxk1tQp2Yb4CiCnxT</td>\n      <td>Los Paranoias - Studio Jam</td>\n      <td>1968</td>\n      <td>The Beatles</td>\n      <td>27</td>\n      <td>238</td>\n      <td>0</td>\n      <td>1</td>\n      <td>163.524</td>\n      <td>4</td>\n      <td>...</td>\n      <td>NaN</td>\n      <td>NaN</td>\n      <td>NaN</td>\n      <td>NaN</td>\n      <td>NaN</td>\n      <td>NaN</td>\n      <td>NaN</td>\n      <td>NaN</td>\n      <td>NaN</td>\n      <td>NaN</td>\n    </tr>\n    <tr>\n      <th>168</th>\n      <td>spotify:track:2nBKT7OYXtN4XwT8ajCrfc</td>\n      <td>Moonlight Bay</td>\n      <td>1963</td>\n      <td>Anthology 1</td>\n      <td>25</td>\n      <td>50</td>\n      <td>9</td>\n      <td>0</td>\n      <td>112.227</td>\n      <td>3</td>\n      <td>...</td>\n      <td>NaN</td>\n      <td>NaN</td>\n      <td>NaN</td>\n      <td>NaN</td>\n      <td>NaN</td>\n      <td>NaN</td>\n      <td>NaN</td>\n      <td>NaN</td>\n      <td>NaN</td>\n      <td>NaN</td>\n    </tr>\n    <tr>\n      <th>218</th>\n      <td>spotify:track:3LhwP2LcoiaIxMxRnU6zez</td>\n      <td>Sour Milk Sea - Esher Demo</td>\n      <td>1968</td>\n      <td>The Beatles</td>\n      <td>31</td>\n      <td>224</td>\n      <td>7</td>\n      <td>1</td>\n      <td>127.317</td>\n      <td>4</td>\n      <td>...</td>\n      <td>NaN</td>\n      <td>NaN</td>\n      <td>NaN</td>\n      <td>NaN</td>\n      <td>NaN</td>\n      <td>NaN</td>\n      <td>NaN</td>\n      <td>NaN</td>\n      <td>NaN</td>\n      <td>NaN</td>\n    </tr>\n    <tr>\n      <th>230</th>\n      <td>spotify:track:5AxDzt8VmHreQaDatK6TD4</td>\n      <td>That'll Be the Day</td>\n      <td>1958</td>\n      <td>Anthology 1</td>\n      <td>36</td>\n      <td>128</td>\n      <td>9</td>\n      <td>1</td>\n      <td>134.468</td>\n      <td>4</td>\n      <td>...</td>\n      <td>NaN</td>\n      <td>NaN</td>\n      <td>NaN</td>\n      <td>NaN</td>\n      <td>NaN</td>\n      <td>NaN</td>\n      <td>NaN</td>\n      <td>NaN</td>\n      <td>NaN</td>\n      <td>NaN</td>\n    </tr>\n    <tr>\n      <th>231</th>\n      <td>spotify:track:6zsbf8RSb8YODtTclmMgAb</td>\n      <td>That's All Right (Mama)</td>\n      <td>1963</td>\n      <td>Live at the BBC</td>\n      <td>29</td>\n      <td>176</td>\n      <td>9</td>\n      <td>1</td>\n      <td>104.729</td>\n      <td>4</td>\n      <td>...</td>\n      <td>NaN</td>\n      <td>NaN</td>\n      <td>NaN</td>\n      <td>NaN</td>\n      <td>NaN</td>\n      <td>NaN</td>\n      <td>NaN</td>\n      <td>NaN</td>\n      <td>NaN</td>\n      <td>NaN</td>\n    </tr>\n    <tr>\n      <th>233</th>\n      <td>spotify:track:5Z3Rd1fMcaty8g5Pn7yhBQ</td>\n      <td>The Continuing Story of Bungalow Bill</td>\n      <td>1968</td>\n      <td>The Beatles</td>\n      <td>54</td>\n      <td>198</td>\n      <td>0</td>\n      <td>1</td>\n      <td>114.816</td>\n      <td>4</td>\n      <td>...</td>\n      <td>NaN</td>\n      <td>NaN</td>\n      <td>NaN</td>\n      <td>NaN</td>\n      <td>NaN</td>\n      <td>NaN</td>\n      <td>NaN</td>\n      <td>NaN</td>\n      <td>NaN</td>\n      <td>NaN</td>\n    </tr>\n    <tr>\n      <th>237</th>\n      <td>spotify:track:4nN3sSVDpCqf3TW4tpDBAS</td>\n      <td>The Honeymoon Song</td>\n      <td>1963</td>\n      <td>Live at the BBC</td>\n      <td>30</td>\n      <td>100</td>\n      <td>4</td>\n      <td>1</td>\n      <td>134.904</td>\n      <td>4</td>\n      <td>...</td>\n      <td>NaN</td>\n      <td>NaN</td>\n      <td>NaN</td>\n      <td>NaN</td>\n      <td>NaN</td>\n      <td>NaN</td>\n      <td>NaN</td>\n      <td>NaN</td>\n      <td>NaN</td>\n      <td>NaN</td>\n    </tr>\n    <tr>\n      <th>246</th>\n      <td>spotify:track:0oQshbv1BFLZ61b1tQ4Eqg</td>\n      <td>This Boy</td>\n      <td>1963</td>\n      <td>Past Masters (Vols. 1 &amp; 2 / Remastered)</td>\n      <td>56</td>\n      <td>133</td>\n      <td>2</td>\n      <td>1</td>\n      <td>110.173</td>\n      <td>3</td>\n      <td>...</td>\n      <td>NaN</td>\n      <td>NaN</td>\n      <td>NaN</td>\n      <td>NaN</td>\n      <td>38.0</td>\n      <td>NaN</td>\n      <td>NaN</td>\n      <td>NaN</td>\n      <td>NaN</td>\n      <td>NaN</td>\n    </tr>\n    <tr>\n      <th>254</th>\n      <td>spotify:track:0CaBBQsaAiRHhiLmzi7ZRp</td>\n      <td>Two of Us</td>\n      <td>1969</td>\n      <td>Let It Be</td>\n      <td>61</td>\n      <td>213</td>\n      <td>7</td>\n      <td>1</td>\n      <td>109.114</td>\n      <td>4</td>\n      <td>...</td>\n      <td>NaN</td>\n      <td>NaN</td>\n      <td>NaN</td>\n      <td>NaN</td>\n      <td>NaN</td>\n      <td>NaN</td>\n      <td>42.0</td>\n      <td>NaN</td>\n      <td>NaN</td>\n      <td>NaN</td>\n    </tr>\n    <tr>\n      <th>274</th>\n      <td>spotify:track:1n8oABN9yti0owTEKcms0q</td>\n      <td>You Know What to Do</td>\n      <td>1964</td>\n      <td>Anthology 1</td>\n      <td>28</td>\n      <td>119</td>\n      <td>9</td>\n      <td>1</td>\n      <td>82.770</td>\n      <td>4</td>\n      <td>...</td>\n      <td>NaN</td>\n      <td>NaN</td>\n      <td>NaN</td>\n      <td>NaN</td>\n      <td>NaN</td>\n      <td>NaN</td>\n      <td>NaN</td>\n      <td>NaN</td>\n      <td>NaN</td>\n      <td>NaN</td>\n    </tr>\n    <tr>\n      <th>278</th>\n      <td>spotify:track:175jiRVJ6N6ayJQ1FXim56</td>\n      <td>You'll Be Mine</td>\n      <td>1960</td>\n      <td>Anthology 1</td>\n      <td>28</td>\n      <td>99</td>\n      <td>5</td>\n      <td>1</td>\n      <td>89.585</td>\n      <td>3</td>\n      <td>...</td>\n      <td>NaN</td>\n      <td>NaN</td>\n      <td>NaN</td>\n      <td>NaN</td>\n      <td>NaN</td>\n      <td>NaN</td>\n      <td>NaN</td>\n      <td>NaN</td>\n      <td>NaN</td>\n      <td>NaN</td>\n    </tr>\n  </tbody>\n</table>\n<p>23 rows × 45 columns</p>\n</div>"
     },
     "metadata": {},
     "output_type": "display_data"
    }
   ],
   "source": [
    "display(songs.loc[songs.Moods.isnull()])"
   ],
   "metadata": {
    "collapsed": false,
    "ExecuteTime": {
     "end_time": "2023-09-14T15:39:28.208969100Z",
     "start_time": "2023-09-14T15:39:28.179054500Z"
    }
   },
   "id": "bbeae552065a8913"
  },
  {
   "cell_type": "markdown",
   "source": [
    "Replace the missing values for *Styles* manually, based on data from [AllMusic](https://www.allmusic.com/) and VD's personal experience."
   ],
   "metadata": {
    "collapsed": false
   },
   "id": "c824eec1d347ef51"
  },
  {
   "cell_type": "code",
   "execution_count": 120,
   "outputs": [
    {
     "data": {
      "text/plain": "Int64Index([  0,  25,  28,  33,  82, 102, 118, 125, 133, 143, 144, 149, 151,\n            168, 218, 230, 231, 233, 237, 246, 254, 274, 278],\n           dtype='int64')"
     },
     "metadata": {},
     "output_type": "display_data"
    },
    {
     "data": {
      "text/plain": "                                                 Title Moods\n0    (You're So Square) Baby I Don't Care - Studio Jam   NaN\n25                                   Beautiful Dreamer   NaN\n28                                        Besame Mucho   NaN\n33                      Can You Take Me Back? - Take 1   NaN\n82                           Hallelujah, I Love Her So   NaN\n102                                      I Got a Woman   NaN\n118                                       I'll Get You   NaN\n125                              I'm Talking About You   NaN\n133                         In Spite of All the Danger   NaN\n143                              Leave My Kitten Alone   NaN\n144                                  Lend Me Your Comb   NaN\n149                                    Long Tall Sally   NaN\n151                         Los Paranoias - Studio Jam   NaN\n168                                      Moonlight Bay   NaN\n218                         Sour Milk Sea - Esher Demo   NaN\n230                                 That'll Be the Day   NaN\n231                            That's All Right (Mama)   NaN\n233              The Continuing Story of Bungalow Bill   NaN\n237                                 The Honeymoon Song   NaN\n246                                           This Boy   NaN\n254                                          Two of Us   NaN\n274                                You Know What to Do   NaN\n278                                     You'll Be Mine   NaN",
      "text/html": "<div>\n<style scoped>\n    .dataframe tbody tr th:only-of-type {\n        vertical-align: middle;\n    }\n\n    .dataframe tbody tr th {\n        vertical-align: top;\n    }\n\n    .dataframe thead th {\n        text-align: right;\n    }\n</style>\n<table border=\"1\" class=\"dataframe\">\n  <thead>\n    <tr style=\"text-align: right;\">\n      <th></th>\n      <th>Title</th>\n      <th>Moods</th>\n    </tr>\n  </thead>\n  <tbody>\n    <tr>\n      <th>0</th>\n      <td>(You're So Square) Baby I Don't Care - Studio Jam</td>\n      <td>NaN</td>\n    </tr>\n    <tr>\n      <th>25</th>\n      <td>Beautiful Dreamer</td>\n      <td>NaN</td>\n    </tr>\n    <tr>\n      <th>28</th>\n      <td>Besame Mucho</td>\n      <td>NaN</td>\n    </tr>\n    <tr>\n      <th>33</th>\n      <td>Can You Take Me Back? - Take 1</td>\n      <td>NaN</td>\n    </tr>\n    <tr>\n      <th>82</th>\n      <td>Hallelujah, I Love Her So</td>\n      <td>NaN</td>\n    </tr>\n    <tr>\n      <th>102</th>\n      <td>I Got a Woman</td>\n      <td>NaN</td>\n    </tr>\n    <tr>\n      <th>118</th>\n      <td>I'll Get You</td>\n      <td>NaN</td>\n    </tr>\n    <tr>\n      <th>125</th>\n      <td>I'm Talking About You</td>\n      <td>NaN</td>\n    </tr>\n    <tr>\n      <th>133</th>\n      <td>In Spite of All the Danger</td>\n      <td>NaN</td>\n    </tr>\n    <tr>\n      <th>143</th>\n      <td>Leave My Kitten Alone</td>\n      <td>NaN</td>\n    </tr>\n    <tr>\n      <th>144</th>\n      <td>Lend Me Your Comb</td>\n      <td>NaN</td>\n    </tr>\n    <tr>\n      <th>149</th>\n      <td>Long Tall Sally</td>\n      <td>NaN</td>\n    </tr>\n    <tr>\n      <th>151</th>\n      <td>Los Paranoias - Studio Jam</td>\n      <td>NaN</td>\n    </tr>\n    <tr>\n      <th>168</th>\n      <td>Moonlight Bay</td>\n      <td>NaN</td>\n    </tr>\n    <tr>\n      <th>218</th>\n      <td>Sour Milk Sea - Esher Demo</td>\n      <td>NaN</td>\n    </tr>\n    <tr>\n      <th>230</th>\n      <td>That'll Be the Day</td>\n      <td>NaN</td>\n    </tr>\n    <tr>\n      <th>231</th>\n      <td>That's All Right (Mama)</td>\n      <td>NaN</td>\n    </tr>\n    <tr>\n      <th>233</th>\n      <td>The Continuing Story of Bungalow Bill</td>\n      <td>NaN</td>\n    </tr>\n    <tr>\n      <th>237</th>\n      <td>The Honeymoon Song</td>\n      <td>NaN</td>\n    </tr>\n    <tr>\n      <th>246</th>\n      <td>This Boy</td>\n      <td>NaN</td>\n    </tr>\n    <tr>\n      <th>254</th>\n      <td>Two of Us</td>\n      <td>NaN</td>\n    </tr>\n    <tr>\n      <th>274</th>\n      <td>You Know What to Do</td>\n      <td>NaN</td>\n    </tr>\n    <tr>\n      <th>278</th>\n      <td>You'll Be Mine</td>\n      <td>NaN</td>\n    </tr>\n  </tbody>\n</table>\n</div>"
     },
     "metadata": {},
     "output_type": "display_data"
    }
   ],
   "source": [
    "i = songs.loc[songs.Moods.isnull()].index\n",
    "display(i)\n",
    "display(songs.loc[i, ['Title', 'Moods']])"
   ],
   "metadata": {
    "collapsed": false,
    "ExecuteTime": {
     "end_time": "2023-09-14T17:40:43.922712Z",
     "start_time": "2023-09-14T17:40:43.902742300Z"
    }
   },
   "id": "3d70e725105ec129"
  },
  {
   "cell_type": "code",
   "execution_count": 119,
   "outputs": [],
   "source": [
    "moods = ['Energetic Exciting Exuberant Raucous Rollicking Rousing Rowdy Brash Fiery Giddy Intense Reckless Swaggering Rambunctious Urgent Freewheeling Manic',\n",
    "         'Energetic Joyous Rowdy Fiery Fun Rousing Cheerful Exuberant Rambunctious Rollicking Playful Freewheeling',\n",
    "         'Earnest Precious Refined Sentimental Sweet Warm Amiable/Good-Natured Romantic Self-Conscious Yearning Restrained Whimsical',\n",
    "         'Freewheeling Humorous Irreverent Playful Quirky Rollicking Silly Unsettling Eerie Trippy Atmospheric Dreamy Enigmatic',\n",
    "         'Amiable/Good-Natured Innocent Swaggering Bright Freewheeling Summery Whimsical Celebratory Fun Light Lively Bravado Confident Passionate Sparkling Energetic Rollicking',\n",
    "         'Bright Amiable/Good-Natured Cheerful Earnest Sweet Warm Innocent Romantic Sentimental Whimsical',\n",
    "         'Bright Earnest Amiable/Good-Natured Playful Warm Cheerful Fun Happy',\n",
    "         'Acerbic Rollicking Rousing Menacing Swaggering Angry Energetic Raucous Agreeable Bright Carefree Cheerful Lively Optimistic Positive Striding Strong',\n",
    "         'Atmospheric Passionate Yearning Plaintive Innocent Searching Confident Eccentric Bittersweet',\n",
    "         'Aggressive',\n",
    "         'Rousing Yearning',\n",
    "         'Bright Energetic Exciting Exuberant Giddy Raucous Rollicking Rousing',\n",
    "         'Menacing Humorous Irreverent Playful Quirky Rollicking Silly Unsettling Eerie Trippy',\n",
    "         'Amiable/Good-Natured Carefree Cheerful Fun Giddy Humorous Playful Rousing Silly Whimsical Quirky Freewheeling',\n",
    "         'Bright Earnest Amiable/Good-Natured Rousing Freewheeling Urgent Swaggering Whimsical Gritty Yearning Earthy Sparkling',\n",
    "         'Energetic Exciting Joyous Swaggering Sweet Amiable/Good-Natured Celebratory Fun',\n",
    "         'Boisterous Bravado Confident Earthy Energetic Exciting Lively Plaintive',\n",
    "         'Freewheeling Humorous Irreverent Playful Quirky Rollicking Rousing Silly',\n",
    "         'Innocent Romantic Sentimental Wistful Amiable/Good-Natured Delicate Freewheeling Light',\n",
    "         'Bittersweet Poignant Reflective Soothing Wistful Yearning Sentimental Passionate',\n",
    "         'Amiable/Good-Natured Bright Carefree Intimate Light Playful Poignant Sentimental',\n",
    "         'Bright Effervescent Energetic Exciting Exuberant Fun Giddy Gleeful Happy Rollicking Rousing Warm Carefree Cheerful Playful Joyous Sweet Urgent',\n",
    "         'Bright Earnest Amiable/Good-Natured Warm',\n",
    "         ]"
   ],
   "metadata": {
    "collapsed": false,
    "ExecuteTime": {
     "end_time": "2023-09-14T17:40:32.888430100Z",
     "start_time": "2023-09-14T17:40:32.865952200Z"
    }
   },
   "id": "3ba006c21e3c9b17"
  },
  {
   "cell_type": "code",
   "execution_count": 121,
   "outputs": [],
   "source": [
    "songs.loc[i, 'Moods'] = moods"
   ],
   "metadata": {
    "collapsed": false,
    "ExecuteTime": {
     "end_time": "2023-09-14T17:40:51.380012700Z",
     "start_time": "2023-09-14T17:40:51.375339600Z"
    }
   },
   "id": "b7dc039934346763"
  },
  {
   "cell_type": "code",
   "execution_count": 122,
   "outputs": [
    {
     "data": {
      "text/plain": "                                                 Title  \\\n0    (You're So Square) Baby I Don't Care - Studio Jam   \n25                                   Beautiful Dreamer   \n28                                        Besame Mucho   \n33                      Can You Take Me Back? - Take 1   \n82                           Hallelujah, I Love Her So   \n102                                      I Got a Woman   \n118                                       I'll Get You   \n125                              I'm Talking About You   \n133                         In Spite of All the Danger   \n143                              Leave My Kitten Alone   \n144                                  Lend Me Your Comb   \n149                                    Long Tall Sally   \n151                         Los Paranoias - Studio Jam   \n168                                      Moonlight Bay   \n218                         Sour Milk Sea - Esher Demo   \n230                                 That'll Be the Day   \n231                            That's All Right (Mama)   \n233              The Continuing Story of Bungalow Bill   \n237                                 The Honeymoon Song   \n246                                           This Boy   \n254                                          Two of Us   \n274                                You Know What to Do   \n278                                     You'll Be Mine   \n\n                                                 Moods  \n0    Energetic Exciting Exuberant Raucous Rollickin...  \n25   Energetic Joyous Rowdy Fiery Fun Rousing Cheer...  \n28   Earnest Precious Refined Sentimental Sweet War...  \n33   Freewheeling Humorous Irreverent Playful Quirk...  \n82   Amiable/Good-Natured Innocent Swaggering Brigh...  \n102  Bright Amiable/Good-Natured Cheerful Earnest S...  \n118  Bright Earnest Amiable/Good-Natured Playful Wa...  \n125  Acerbic Rollicking Rousing Menacing Swaggering...  \n133  Atmospheric Passionate Yearning Plaintive Inno...  \n143                                         Aggressive  \n144                                   Rousing Yearning  \n149  Bright Energetic Exciting Exuberant Giddy Rauc...  \n151  Menacing Humorous Irreverent Playful Quirky Ro...  \n168  Amiable/Good-Natured Carefree Cheerful Fun Gid...  \n218  Bright Earnest Amiable/Good-Natured Rousing Fr...  \n230  Energetic Exciting Joyous Swaggering Sweet Ami...  \n231  Boisterous Bravado Confident Earthy Energetic ...  \n233  Freewheeling Humorous Irreverent Playful Quirk...  \n237  Innocent Romantic Sentimental Wistful Amiable/...  \n246  Bittersweet Poignant Reflective Soothing Wistf...  \n254  Amiable/Good-Natured Bright Carefree Intimate ...  \n274  Bright Effervescent Energetic Exciting Exubera...  \n278           Bright Earnest Amiable/Good-Natured Warm  ",
      "text/html": "<div>\n<style scoped>\n    .dataframe tbody tr th:only-of-type {\n        vertical-align: middle;\n    }\n\n    .dataframe tbody tr th {\n        vertical-align: top;\n    }\n\n    .dataframe thead th {\n        text-align: right;\n    }\n</style>\n<table border=\"1\" class=\"dataframe\">\n  <thead>\n    <tr style=\"text-align: right;\">\n      <th></th>\n      <th>Title</th>\n      <th>Moods</th>\n    </tr>\n  </thead>\n  <tbody>\n    <tr>\n      <th>0</th>\n      <td>(You're So Square) Baby I Don't Care - Studio Jam</td>\n      <td>Energetic Exciting Exuberant Raucous Rollickin...</td>\n    </tr>\n    <tr>\n      <th>25</th>\n      <td>Beautiful Dreamer</td>\n      <td>Energetic Joyous Rowdy Fiery Fun Rousing Cheer...</td>\n    </tr>\n    <tr>\n      <th>28</th>\n      <td>Besame Mucho</td>\n      <td>Earnest Precious Refined Sentimental Sweet War...</td>\n    </tr>\n    <tr>\n      <th>33</th>\n      <td>Can You Take Me Back? - Take 1</td>\n      <td>Freewheeling Humorous Irreverent Playful Quirk...</td>\n    </tr>\n    <tr>\n      <th>82</th>\n      <td>Hallelujah, I Love Her So</td>\n      <td>Amiable/Good-Natured Innocent Swaggering Brigh...</td>\n    </tr>\n    <tr>\n      <th>102</th>\n      <td>I Got a Woman</td>\n      <td>Bright Amiable/Good-Natured Cheerful Earnest S...</td>\n    </tr>\n    <tr>\n      <th>118</th>\n      <td>I'll Get You</td>\n      <td>Bright Earnest Amiable/Good-Natured Playful Wa...</td>\n    </tr>\n    <tr>\n      <th>125</th>\n      <td>I'm Talking About You</td>\n      <td>Acerbic Rollicking Rousing Menacing Swaggering...</td>\n    </tr>\n    <tr>\n      <th>133</th>\n      <td>In Spite of All the Danger</td>\n      <td>Atmospheric Passionate Yearning Plaintive Inno...</td>\n    </tr>\n    <tr>\n      <th>143</th>\n      <td>Leave My Kitten Alone</td>\n      <td>Aggressive</td>\n    </tr>\n    <tr>\n      <th>144</th>\n      <td>Lend Me Your Comb</td>\n      <td>Rousing Yearning</td>\n    </tr>\n    <tr>\n      <th>149</th>\n      <td>Long Tall Sally</td>\n      <td>Bright Energetic Exciting Exuberant Giddy Rauc...</td>\n    </tr>\n    <tr>\n      <th>151</th>\n      <td>Los Paranoias - Studio Jam</td>\n      <td>Menacing Humorous Irreverent Playful Quirky Ro...</td>\n    </tr>\n    <tr>\n      <th>168</th>\n      <td>Moonlight Bay</td>\n      <td>Amiable/Good-Natured Carefree Cheerful Fun Gid...</td>\n    </tr>\n    <tr>\n      <th>218</th>\n      <td>Sour Milk Sea - Esher Demo</td>\n      <td>Bright Earnest Amiable/Good-Natured Rousing Fr...</td>\n    </tr>\n    <tr>\n      <th>230</th>\n      <td>That'll Be the Day</td>\n      <td>Energetic Exciting Joyous Swaggering Sweet Ami...</td>\n    </tr>\n    <tr>\n      <th>231</th>\n      <td>That's All Right (Mama)</td>\n      <td>Boisterous Bravado Confident Earthy Energetic ...</td>\n    </tr>\n    <tr>\n      <th>233</th>\n      <td>The Continuing Story of Bungalow Bill</td>\n      <td>Freewheeling Humorous Irreverent Playful Quirk...</td>\n    </tr>\n    <tr>\n      <th>237</th>\n      <td>The Honeymoon Song</td>\n      <td>Innocent Romantic Sentimental Wistful Amiable/...</td>\n    </tr>\n    <tr>\n      <th>246</th>\n      <td>This Boy</td>\n      <td>Bittersweet Poignant Reflective Soothing Wistf...</td>\n    </tr>\n    <tr>\n      <th>254</th>\n      <td>Two of Us</td>\n      <td>Amiable/Good-Natured Bright Carefree Intimate ...</td>\n    </tr>\n    <tr>\n      <th>274</th>\n      <td>You Know What to Do</td>\n      <td>Bright Effervescent Energetic Exciting Exubera...</td>\n    </tr>\n    <tr>\n      <th>278</th>\n      <td>You'll Be Mine</td>\n      <td>Bright Earnest Amiable/Good-Natured Warm</td>\n    </tr>\n  </tbody>\n</table>\n</div>"
     },
     "execution_count": 122,
     "metadata": {},
     "output_type": "execute_result"
    }
   ],
   "source": [
    "songs.loc[i, ['Title', 'Moods']]"
   ],
   "metadata": {
    "collapsed": false,
    "ExecuteTime": {
     "end_time": "2023-09-14T17:40:53.974559300Z",
     "start_time": "2023-09-14T17:40:53.966074200Z"
    }
   },
   "id": "6abab2e68e2996"
  },
  {
   "cell_type": "markdown",
   "source": [
    "Save the new version of the dataset, *The Beatles songs dataset, 284x45, v5.csv*."
   ],
   "metadata": {
    "collapsed": false
   },
   "id": "c7adcdba9e8272d2"
  },
  {
   "cell_type": "code",
   "execution_count": 123,
   "outputs": [],
   "source": [
    "songs.to_csv('../data/The Beatles songs dataset, 284x45, v5.csv', index=False)"
   ],
   "metadata": {
    "collapsed": false,
    "ExecuteTime": {
     "end_time": "2023-09-14T17:41:09.156373900Z",
     "start_time": "2023-09-14T17:41:09.109068400Z"
    }
   },
   "id": "9e0e43b3dd0e3d5c"
  },
  {
   "cell_type": "markdown",
   "source": [
    "##### *Themes*"
   ],
   "metadata": {
    "collapsed": false
   },
   "id": "80b38d4755459bf1"
  },
  {
   "cell_type": "markdown",
   "source": [
    "In general, everything about themes is very subjective. [AllMusic](https://allmusic.com) often lacks themes for songs. If the song is a cover, sometimes themes are listed for the original version of the song. Likewise, in some cases the themes listed there feel downright wrong. Careful checking of the song lyrics and other sources on the Internet has helped figure out what the theme(s) of the song is (are), but again - that's rather subjective. In addition, in such cases the themes used on [AllMusic](https://allmusic.com) for *other* songs have been used for consistency, rather than the first word that came to mind after reading the song lyrics (e.g., the theme *Dreaming* has been used to fill the missing value for the theme of *Sun King*).\n",
    " \n",
    "After filling the missing values, make sure to generalize the themes into [categories](https://en.wikipedia.org/wiki/Category:Songs_by_theme), to possibly bring some structure and order."
   ],
   "metadata": {
    "collapsed": false
   },
   "id": "e7e1ade52936a15f"
  },
  {
   "cell_type": "code",
   "execution_count": 2,
   "outputs": [],
   "source": [
    "songs = pd.read_csv('../data/The Beatles songs dataset, 284x45, v5.csv')"
   ],
   "metadata": {
    "collapsed": false,
    "ExecuteTime": {
     "end_time": "2023-09-15T16:01:12.280107100Z",
     "start_time": "2023-09-15T16:01:12.263996300Z"
    }
   },
   "id": "e0784233a9ef12fc"
  },
  {
   "cell_type": "markdown",
   "source": [
    "How many songs miss the value for *Themes*?"
   ],
   "metadata": {
    "collapsed": false
   },
   "id": "f53706fdbb58a07d"
  },
  {
   "cell_type": "code",
   "execution_count": 3,
   "outputs": [
    {
     "data": {
      "text/plain": "URI                                      0\nTitle                                    0\nYear                                     0\nAlbum                                    0\nPopularity                               0\nDuration                                 0\nKey                                      0\nMode                                     0\nTempo                                    0\nTime_signature                           0\nValence                                  0\nDanceability                             0\nEnergy                                   0\nLoudness                                 0\nAcousticness                             0\nInstrumentalness                         0\nLiveness                                 0\nSpeechiness                              0\nAlbum debut                              0\nOther releases                          71\nSingle A side                          194\nSingle B side                          194\nSingle certification                   234\nGenre                                    0\nStyles                                   0\nThemes                                  99\nMoods                                    0\nSongwriter(s)                            0\nLead vocal(s)                           10\nCover                                  218\nCovered by                             102\nChart position UK (Wikipedia)          239\nChart position US (Wikipedia)          217\nHighest position (The Guardian)        253\nWeeks on chart in UK (The Guardian)    253\nWeeks at No1 in UK (The Guardian)      268\nHighest position (Billboard)           235\nWeeks at No1 (Billboard)               269\nTop 50 (Billboard)                     235\nTop 50 (Ultimate classic rock)         235\nTop 50 (Rolling Stone)                 235\nTop 50 (NME)                           235\nTop 50 (Top50songs.org)                234\nTop 50 (USA today, 2017)               234\nTop 50 (Vulture, by Bill Wyman)        242\ndtype: int64"
     },
     "metadata": {},
     "output_type": "display_data"
    },
    {
     "data": {
      "text/plain": "99"
     },
     "metadata": {},
     "output_type": "display_data"
    }
   ],
   "source": [
    "display(songs.isnull().sum())\n",
    "display(songs.Themes.isnull().sum())"
   ],
   "metadata": {
    "collapsed": false,
    "ExecuteTime": {
     "end_time": "2023-09-15T16:01:15.330436Z",
     "start_time": "2023-09-15T16:01:15.301478700Z"
    }
   },
   "id": "db1a6fa62843ed3b"
  },
  {
   "cell_type": "markdown",
   "source": [
    "What are these songs?"
   ],
   "metadata": {
    "collapsed": false
   },
   "id": "678959e7de4f1e5d"
  },
  {
   "cell_type": "code",
   "execution_count": 4,
   "outputs": [
    {
     "data": {
      "text/plain": "                                      URI  \\\n0    spotify:track:2FDEHIMkjxFLzj688M2I3h   \n1    spotify:track:2HvTGx5fzFGpHSyRNvXd9T   \n2    spotify:track:0hKRSZhUGEhKU6aNSPBACZ   \n9    spotify:track:5tztLBvTlNC15Np2tnQ5Ll   \n15   spotify:track:4KRgqwb4kvBuTz1utbYxfb   \n..                                    ...   \n264  spotify:track:6j67aNAPeQ31uw4qw4rpLa   \n274  spotify:track:1n8oABN9yti0owTEKcms0q   \n278  spotify:track:175jiRVJ6N6ayJQ1FXim56   \n279  spotify:track:70HNt0eoBVqr4ss68U8x3B   \n283  spotify:track:1dxbAIfCASqv6jix2R1Taj   \n\n                                                 Title  Year  \\\n0    (You're So Square) Baby I Don't Care - Studio Jam  1968   \n1                                      12-bar Original  1965   \n2                                    A Day in the Life  1967   \n9                                   All I've Got to Do  1963   \n15                              And Your Bird Can Sing  1966   \n..                                                 ...   ...   \n264                                     Wild Honey Pie  1968   \n274                                You Know What to Do  1964   \n278                                     You'll Be Mine  1960   \n279                     You're Going to Lose That Girl  1965   \n283                            Your Mother Should Know  1967   \n\n                                     Album  Popularity  Duration  Key  Mode  \\\n0                              The Beatles          29        43    9     1   \n1                              Anthology 2          31       175    9     1   \n2    Sgt. Pepper's Lonely Hearts Club Band          65       335    4     0   \n9                         With the Beatles          55       124    1     0   \n15                                Revolver          58       121    4     1   \n..                                     ...         ...       ...  ...   ...   \n264                            The Beatles          52        52    2     1   \n274                            Anthology 1          28       119    9     1   \n278                            Anthology 1          28        99    5     1   \n279                                  Help!          57       140    4     1   \n283                   Magical Mystery Tour          58       149    0     1   \n\n       Tempo  Time_signature  ...  Weeks at No1 in UK (The Guardian)  \\\n0    112.173               4  ...                                NaN   \n1    122.678               4  ...                                NaN   \n2    163.219               4  ...                                NaN   \n9    119.403               4  ...                                NaN   \n15   132.590               4  ...                                NaN   \n..       ...             ...  ...                                ...   \n264   89.900               4  ...                                NaN   \n274   82.770               4  ...                                NaN   \n278   89.585               3  ...                                NaN   \n279  131.975               4  ...                                NaN   \n283  117.613               4  ...                                NaN   \n\n     Highest position (Billboard)  Weeks at No1 (Billboard)  \\\n0                             NaN                       NaN   \n1                             NaN                       NaN   \n2                             NaN                       NaN   \n9                             NaN                       NaN   \n15                            NaN                       NaN   \n..                            ...                       ...   \n264                           NaN                       NaN   \n274                           NaN                       NaN   \n278                           NaN                       NaN   \n279                           NaN                       NaN   \n283                           NaN                       NaN   \n\n     Top 50 (Billboard)  Top 50 (Ultimate classic rock)  \\\n0                   NaN                             NaN   \n1                   NaN                             NaN   \n2                   NaN                             1.0   \n9                   NaN                             NaN   \n15                  NaN                             NaN   \n..                  ...                             ...   \n264                 NaN                             NaN   \n274                 NaN                             NaN   \n278                 NaN                             NaN   \n279                 NaN                             NaN   \n283                 NaN                             NaN   \n\n     Top 50 (Rolling Stone)  Top 50 (NME)  Top 50 (Top50songs.org)  \\\n0                       NaN           NaN                      NaN   \n1                       NaN           NaN                      NaN   \n2                       1.0           2.0                     18.0   \n9                       NaN           NaN                      NaN   \n15                      NaN          30.0                      NaN   \n..                      ...           ...                      ...   \n264                     NaN           NaN                      NaN   \n274                     NaN           NaN                      NaN   \n278                     NaN           NaN                      NaN   \n279                    27.0           NaN                      NaN   \n283                     NaN           NaN                      NaN   \n\n    Top 50 (USA today, 2017)  Top 50 (Vulture, by Bill Wyman)  \n0                        NaN                              NaN  \n1                        NaN                              NaN  \n2                        1.0                              1.0  \n9                        NaN                              NaN  \n15                       NaN                             33.0  \n..                       ...                              ...  \n264                      NaN                              NaN  \n274                      NaN                              NaN  \n278                      NaN                              NaN  \n279                      NaN                              NaN  \n283                      NaN                              NaN  \n\n[99 rows x 45 columns]",
      "text/html": "<div>\n<style scoped>\n    .dataframe tbody tr th:only-of-type {\n        vertical-align: middle;\n    }\n\n    .dataframe tbody tr th {\n        vertical-align: top;\n    }\n\n    .dataframe thead th {\n        text-align: right;\n    }\n</style>\n<table border=\"1\" class=\"dataframe\">\n  <thead>\n    <tr style=\"text-align: right;\">\n      <th></th>\n      <th>URI</th>\n      <th>Title</th>\n      <th>Year</th>\n      <th>Album</th>\n      <th>Popularity</th>\n      <th>Duration</th>\n      <th>Key</th>\n      <th>Mode</th>\n      <th>Tempo</th>\n      <th>Time_signature</th>\n      <th>...</th>\n      <th>Weeks at No1 in UK (The Guardian)</th>\n      <th>Highest position (Billboard)</th>\n      <th>Weeks at No1 (Billboard)</th>\n      <th>Top 50 (Billboard)</th>\n      <th>Top 50 (Ultimate classic rock)</th>\n      <th>Top 50 (Rolling Stone)</th>\n      <th>Top 50 (NME)</th>\n      <th>Top 50 (Top50songs.org)</th>\n      <th>Top 50 (USA today, 2017)</th>\n      <th>Top 50 (Vulture, by Bill Wyman)</th>\n    </tr>\n  </thead>\n  <tbody>\n    <tr>\n      <th>0</th>\n      <td>spotify:track:2FDEHIMkjxFLzj688M2I3h</td>\n      <td>(You're So Square) Baby I Don't Care - Studio Jam</td>\n      <td>1968</td>\n      <td>The Beatles</td>\n      <td>29</td>\n      <td>43</td>\n      <td>9</td>\n      <td>1</td>\n      <td>112.173</td>\n      <td>4</td>\n      <td>...</td>\n      <td>NaN</td>\n      <td>NaN</td>\n      <td>NaN</td>\n      <td>NaN</td>\n      <td>NaN</td>\n      <td>NaN</td>\n      <td>NaN</td>\n      <td>NaN</td>\n      <td>NaN</td>\n      <td>NaN</td>\n    </tr>\n    <tr>\n      <th>1</th>\n      <td>spotify:track:2HvTGx5fzFGpHSyRNvXd9T</td>\n      <td>12-bar Original</td>\n      <td>1965</td>\n      <td>Anthology 2</td>\n      <td>31</td>\n      <td>175</td>\n      <td>9</td>\n      <td>1</td>\n      <td>122.678</td>\n      <td>4</td>\n      <td>...</td>\n      <td>NaN</td>\n      <td>NaN</td>\n      <td>NaN</td>\n      <td>NaN</td>\n      <td>NaN</td>\n      <td>NaN</td>\n      <td>NaN</td>\n      <td>NaN</td>\n      <td>NaN</td>\n      <td>NaN</td>\n    </tr>\n    <tr>\n      <th>2</th>\n      <td>spotify:track:0hKRSZhUGEhKU6aNSPBACZ</td>\n      <td>A Day in the Life</td>\n      <td>1967</td>\n      <td>Sgt. Pepper's Lonely Hearts Club Band</td>\n      <td>65</td>\n      <td>335</td>\n      <td>4</td>\n      <td>0</td>\n      <td>163.219</td>\n      <td>4</td>\n      <td>...</td>\n      <td>NaN</td>\n      <td>NaN</td>\n      <td>NaN</td>\n      <td>NaN</td>\n      <td>1.0</td>\n      <td>1.0</td>\n      <td>2.0</td>\n      <td>18.0</td>\n      <td>1.0</td>\n      <td>1.0</td>\n    </tr>\n    <tr>\n      <th>9</th>\n      <td>spotify:track:5tztLBvTlNC15Np2tnQ5Ll</td>\n      <td>All I've Got to Do</td>\n      <td>1963</td>\n      <td>With the Beatles</td>\n      <td>55</td>\n      <td>124</td>\n      <td>1</td>\n      <td>0</td>\n      <td>119.403</td>\n      <td>4</td>\n      <td>...</td>\n      <td>NaN</td>\n      <td>NaN</td>\n      <td>NaN</td>\n      <td>NaN</td>\n      <td>NaN</td>\n      <td>NaN</td>\n      <td>NaN</td>\n      <td>NaN</td>\n      <td>NaN</td>\n      <td>NaN</td>\n    </tr>\n    <tr>\n      <th>15</th>\n      <td>spotify:track:4KRgqwb4kvBuTz1utbYxfb</td>\n      <td>And Your Bird Can Sing</td>\n      <td>1966</td>\n      <td>Revolver</td>\n      <td>58</td>\n      <td>121</td>\n      <td>4</td>\n      <td>1</td>\n      <td>132.590</td>\n      <td>4</td>\n      <td>...</td>\n      <td>NaN</td>\n      <td>NaN</td>\n      <td>NaN</td>\n      <td>NaN</td>\n      <td>NaN</td>\n      <td>NaN</td>\n      <td>30.0</td>\n      <td>NaN</td>\n      <td>NaN</td>\n      <td>33.0</td>\n    </tr>\n    <tr>\n      <th>...</th>\n      <td>...</td>\n      <td>...</td>\n      <td>...</td>\n      <td>...</td>\n      <td>...</td>\n      <td>...</td>\n      <td>...</td>\n      <td>...</td>\n      <td>...</td>\n      <td>...</td>\n      <td>...</td>\n      <td>...</td>\n      <td>...</td>\n      <td>...</td>\n      <td>...</td>\n      <td>...</td>\n      <td>...</td>\n      <td>...</td>\n      <td>...</td>\n      <td>...</td>\n      <td>...</td>\n    </tr>\n    <tr>\n      <th>264</th>\n      <td>spotify:track:6j67aNAPeQ31uw4qw4rpLa</td>\n      <td>Wild Honey Pie</td>\n      <td>1968</td>\n      <td>The Beatles</td>\n      <td>52</td>\n      <td>52</td>\n      <td>2</td>\n      <td>1</td>\n      <td>89.900</td>\n      <td>4</td>\n      <td>...</td>\n      <td>NaN</td>\n      <td>NaN</td>\n      <td>NaN</td>\n      <td>NaN</td>\n      <td>NaN</td>\n      <td>NaN</td>\n      <td>NaN</td>\n      <td>NaN</td>\n      <td>NaN</td>\n      <td>NaN</td>\n    </tr>\n    <tr>\n      <th>274</th>\n      <td>spotify:track:1n8oABN9yti0owTEKcms0q</td>\n      <td>You Know What to Do</td>\n      <td>1964</td>\n      <td>Anthology 1</td>\n      <td>28</td>\n      <td>119</td>\n      <td>9</td>\n      <td>1</td>\n      <td>82.770</td>\n      <td>4</td>\n      <td>...</td>\n      <td>NaN</td>\n      <td>NaN</td>\n      <td>NaN</td>\n      <td>NaN</td>\n      <td>NaN</td>\n      <td>NaN</td>\n      <td>NaN</td>\n      <td>NaN</td>\n      <td>NaN</td>\n      <td>NaN</td>\n    </tr>\n    <tr>\n      <th>278</th>\n      <td>spotify:track:175jiRVJ6N6ayJQ1FXim56</td>\n      <td>You'll Be Mine</td>\n      <td>1960</td>\n      <td>Anthology 1</td>\n      <td>28</td>\n      <td>99</td>\n      <td>5</td>\n      <td>1</td>\n      <td>89.585</td>\n      <td>3</td>\n      <td>...</td>\n      <td>NaN</td>\n      <td>NaN</td>\n      <td>NaN</td>\n      <td>NaN</td>\n      <td>NaN</td>\n      <td>NaN</td>\n      <td>NaN</td>\n      <td>NaN</td>\n      <td>NaN</td>\n      <td>NaN</td>\n    </tr>\n    <tr>\n      <th>279</th>\n      <td>spotify:track:70HNt0eoBVqr4ss68U8x3B</td>\n      <td>You're Going to Lose That Girl</td>\n      <td>1965</td>\n      <td>Help!</td>\n      <td>57</td>\n      <td>140</td>\n      <td>4</td>\n      <td>1</td>\n      <td>131.975</td>\n      <td>4</td>\n      <td>...</td>\n      <td>NaN</td>\n      <td>NaN</td>\n      <td>NaN</td>\n      <td>NaN</td>\n      <td>NaN</td>\n      <td>27.0</td>\n      <td>NaN</td>\n      <td>NaN</td>\n      <td>NaN</td>\n      <td>NaN</td>\n    </tr>\n    <tr>\n      <th>283</th>\n      <td>spotify:track:1dxbAIfCASqv6jix2R1Taj</td>\n      <td>Your Mother Should Know</td>\n      <td>1967</td>\n      <td>Magical Mystery Tour</td>\n      <td>58</td>\n      <td>149</td>\n      <td>0</td>\n      <td>1</td>\n      <td>117.613</td>\n      <td>4</td>\n      <td>...</td>\n      <td>NaN</td>\n      <td>NaN</td>\n      <td>NaN</td>\n      <td>NaN</td>\n      <td>NaN</td>\n      <td>NaN</td>\n      <td>NaN</td>\n      <td>NaN</td>\n      <td>NaN</td>\n      <td>NaN</td>\n    </tr>\n  </tbody>\n</table>\n<p>99 rows × 45 columns</p>\n</div>"
     },
     "metadata": {},
     "output_type": "display_data"
    }
   ],
   "source": [
    "display(songs.loc[songs.Themes.isnull()])"
   ],
   "metadata": {
    "collapsed": false,
    "ExecuteTime": {
     "end_time": "2023-09-15T16:01:20.327605500Z",
     "start_time": "2023-09-15T16:01:20.300772100Z"
    }
   },
   "id": "2a93f5738a0c4a8c"
  },
  {
   "cell_type": "markdown",
   "source": [
    "Replace the missing values for *Themes* manually, based on data from [AllMusic](https://www.allmusic.com/), [SongMeanings](https://songmeanings.com/) and VD's personal experience."
   ],
   "metadata": {
    "collapsed": false
   },
   "id": "c53db609bda0271b"
  },
  {
   "cell_type": "code",
   "execution_count": 19,
   "outputs": [
    {
     "data": {
      "text/plain": "Int64Index([  0,   1,   2,   9,  15,  22,  25,  26,  27,  28,  31,  33,  36,\n             37,  40,  42,  44,  49,  57,  59,  63,  65,  66,  69,  76,  80,\n             81,  82,  83,  85,  87,  88,  93,  94,  95,  96,  97, 102, 110,\n            112, 117, 118, 119, 125, 130, 133, 134, 143, 144, 146, 147, 149,\n            151, 153, 158, 162, 163, 167, 168, 170, 175, 178, 180, 181, 183,\n            186, 188, 189, 190, 191, 196, 199, 202, 203, 205, 206, 207, 209,\n            213, 218, 221, 224, 230, 231, 232, 233, 234, 237, 243, 247, 253,\n            255, 257, 263, 264, 274, 278, 279, 283],\n           dtype='int64')"
     },
     "metadata": {},
     "output_type": "display_data"
    },
    {
     "data": {
      "text/plain": "                               Title Themes\n253                  Twist and Shout    NaN\n255                             Wait    NaN\n257                     What Goes on    NaN\n263  Why Don't We Do It in the Road?    NaN\n264                   Wild Honey Pie    NaN\n274              You Know What to Do    NaN\n278                   You'll Be Mine    NaN\n279   You're Going to Lose That Girl    NaN\n283          Your Mother Should Know    NaN",
      "text/html": "<div>\n<style scoped>\n    .dataframe tbody tr th:only-of-type {\n        vertical-align: middle;\n    }\n\n    .dataframe tbody tr th {\n        vertical-align: top;\n    }\n\n    .dataframe thead th {\n        text-align: right;\n    }\n</style>\n<table border=\"1\" class=\"dataframe\">\n  <thead>\n    <tr style=\"text-align: right;\">\n      <th></th>\n      <th>Title</th>\n      <th>Themes</th>\n    </tr>\n  </thead>\n  <tbody>\n    <tr>\n      <th>253</th>\n      <td>Twist and Shout</td>\n      <td>NaN</td>\n    </tr>\n    <tr>\n      <th>255</th>\n      <td>Wait</td>\n      <td>NaN</td>\n    </tr>\n    <tr>\n      <th>257</th>\n      <td>What Goes on</td>\n      <td>NaN</td>\n    </tr>\n    <tr>\n      <th>263</th>\n      <td>Why Don't We Do It in the Road?</td>\n      <td>NaN</td>\n    </tr>\n    <tr>\n      <th>264</th>\n      <td>Wild Honey Pie</td>\n      <td>NaN</td>\n    </tr>\n    <tr>\n      <th>274</th>\n      <td>You Know What to Do</td>\n      <td>NaN</td>\n    </tr>\n    <tr>\n      <th>278</th>\n      <td>You'll Be Mine</td>\n      <td>NaN</td>\n    </tr>\n    <tr>\n      <th>279</th>\n      <td>You're Going to Lose That Girl</td>\n      <td>NaN</td>\n    </tr>\n    <tr>\n      <th>283</th>\n      <td>Your Mother Should Know</td>\n      <td>NaN</td>\n    </tr>\n  </tbody>\n</table>\n</div>"
     },
     "metadata": {},
     "output_type": "display_data"
    }
   ],
   "source": [
    "i = songs.loc[songs.Themes.isnull()].index\n",
    "display(i)\n",
    "display(songs.loc[i, ['Title', 'Themes']][90:99])"
   ],
   "metadata": {
    "collapsed": false,
    "ExecuteTime": {
     "end_time": "2023-09-16T11:45:43.899581100Z",
     "start_time": "2023-09-16T11:45:43.861459Z"
    }
   },
   "id": "243161a00bbee118"
  },
  {
   "cell_type": "code",
   "execution_count": 21,
   "outputs": [],
   "source": [
    "themes = ['Cool & Cocky, Affection/Fondness, New Love, Playful, Hanging Out',\n",
    "         '(instrumental)',\n",
    "         'Politics/Society, Imagination, Reflection, Revolution',\n",
    "         'Affection/Fondness, In Love, New Love',\n",
    "         'In Love',\n",
    "         'Politics/Society',\n",
    "         'Feeling Blue, Heartache, Introspection, Comfort, In Love, Stay in Bed, Sunday Afternoon, Sweet Dreams',\n",
    "         'In Love, Loss/Grief',\n",
    "         'Circus, Politics/Society, Mocking',\n",
    "         'Romantic Evening, Seduction, Sex, Dinner Ambiance, Relaxation, Affection/Fondness, Late Night',\n",
    "         'Imagination, Introspection, Reflection, Solitude',\n",
    "         'Introspection, Reflection, Solitude, Feeling Blue',\n",
    "         'Introspection, Reflection, Solitude, Feeling Blue',\n",
    "         '(instrumental)',\n",
    "         'Introspection, Reflection, Solitude',\n",
    "         'Introspection, Reflection',\n",
    "         'Children, Family Gatherings, Imagination',\n",
    "         'Affection/Fondness, In Love',\n",
    "         'In Love',\n",
    "         'In Love, Cars, Motivation, Playful',\n",
    "         'Cool & Cocky, Guys Night Out, Sex',\n",
    "         'Introspection, Awareness, Rainy Day, Reflection',\n",
    "         '(instrumental)',\n",
    "         'Introspection, Reflection, Solitude',\n",
    "         'Affection/Fondness, Lullaby, Family Gatherings',\n",
    "         'In Love, Home, Introspection',\n",
    "         'In Love',\n",
    "         'Affection/Fondness, In Love',\n",
    "         'In Love, Sex, Introspection',\n",
    "         'In Love, Relationships, Miscommunication',\n",
    "         'In Love, Sex',\n",
    "         'In Love',\n",
    "         'Affection/Fondness, In Love',\n",
    "         'Cool & Cocky, Freedom, Guys Night Out, Jealousy',\n",
    "         'Yearning, Affection/Fondness, In Love, Jealousy',\n",
    "         'Affection/Fondness, In Love',\n",
    "         'Imagination, Late Night, Reflection',\n",
    "         'Affection/Fondness, Day Driving, Hanging Out',\n",
    "         'Affection/Fondness, Sex, Despair',\n",
    "         'Affection/Fondness, In Love, Relationships, Miscommunication',\n",
    "         'Breakup, Relationships, Reflection',\n",
    "         'Affection/Fondness, In Love',\n",
    "         'Feeling Blue, Relationships',\n",
    "         'Affection/Fondness',\n",
    "         'In Love',\n",
    "         'In Love',\n",
    "         'Affection/Fondness, In Love, Feeling Blue',\n",
    "         'Fight, Protection',\n",
    "         'Affection/Fondness, Sex',\n",
    "         'Affection/Fondness, Imagination',\n",
    "         'Affection/Fondness, In Love',\n",
    "         'Cool & Cocky, Guys Night Out',\n",
    "         'Cool & Cocky, Guys Night Out',\n",
    "         'In Love, Sex, Introspection, Reflection',\n",
    "         'Imagination, Reflection',\n",
    "         'In Love, School, Fight, Oppression',\n",
    "         'Politics/Society',\n",
    "         'Politics/Society, Money',\n",
    "         'Cool & Cocky',\n",
    "         'In Love',\n",
    "         'Breakup',\n",
    "         'Relationships, Family, Everyday Life, Politics/Society',\n",
    "         'Feeling Blue, In Love, Loss/Grief',\n",
    "         'In Love',\n",
    "         'Politics/Society',\n",
    "         'Politics/Society',\n",
    "         'Politics/Society',\n",
    "         'Feeling Blue, Heartache',\n",
    "         'In Love, Cool & Cocky, Sex',\n",
    "         'Politics/Society, Partying',\n",
    "         'Politics/Society, Introspection',\n",
    "         'Fight, Jealousy',\n",
    "         'Indulgence',\n",
    "         'Affection/Fondness, In Love',\n",
    "         'Reminiscing',\n",
    "         'Reminiscing',\n",
    "         'Reminiscing',\n",
    "         'Dreaming',\n",
    "         'Guys Night Out, Jealousy, Late Night',\n",
    "         'Introspection',\n",
    "         'Dreaming',\n",
    "         'Politics/Society',\n",
    "         'Cool & Cocky, Day Driving, Guys Night Out, Hanging Out, Partying, Summer, TGIF ',\n",
    "         'Celebration, In Love, Affirmation',\n",
    "         'Politics/Society, Reminiscence',\n",
    "         'Politics/Society',\n",
    "         'Dreaming, Reflection',\n",
    "         'In Love',\n",
    "         'In Love, Feeling Blue',\n",
    "         'Cool & Cocky, Affection/Fondness',\n",
    "         'Celebration, Cool & Cocky, Partying, Reunion, TGIF, Affirmation, At the Beach, Exercise/Workout',\n",
    "         'In Love, Healing/Comfort, Reunion',\n",
    "         'Heartbreak, Jealousy, In Love, Loss/Grief',\n",
    "         'Mischief, Playful, Sex',\n",
    "         'Imagination, Maverick, Playful',\n",
    "         'Affection/Fondness, In Love',\n",
    "         'In Love',\n",
    "         'Affection/Fondness, Relationships',\n",
    "         'Reminiscing',\n",
    "         ]"
   ],
   "metadata": {
    "collapsed": false,
    "ExecuteTime": {
     "end_time": "2023-09-16T12:01:12.484223900Z",
     "start_time": "2023-09-16T12:01:12.465684Z"
    }
   },
   "id": "489b8753b252426f"
  },
  {
   "cell_type": "code",
   "execution_count": 22,
   "outputs": [],
   "source": [
    "songs.loc[i, 'Themes'] = themes"
   ],
   "metadata": {
    "collapsed": false,
    "ExecuteTime": {
     "end_time": "2023-09-16T12:01:15.581380300Z",
     "start_time": "2023-09-16T12:01:15.574515900Z"
    }
   },
   "id": "84ce898902dcd73d"
  },
  {
   "cell_type": "code",
   "execution_count": 23,
   "outputs": [
    {
     "data": {
      "text/plain": "                                                 Title  \\\n0    (You're So Square) Baby I Don't Care - Studio Jam   \n1                                      12-bar Original   \n2                                    A Day in the Life   \n9                                   All I've Got to Do   \n15                              And Your Bird Can Sing   \n..                                                 ...   \n264                                     Wild Honey Pie   \n274                                You Know What to Do   \n278                                     You'll Be Mine   \n279                     You're Going to Lose That Girl   \n283                            Your Mother Should Know   \n\n                                                Themes  \n0    Cool & Cocky, Affection/Fondness, New Love, Pl...  \n1                                       (instrumental)  \n2    Politics/Society, Imagination, Reflection, Rev...  \n9                Affection/Fondness, In Love, New Love  \n15                                             In Love  \n..                                                 ...  \n264                     Imagination, Maverick, Playful  \n274                        Affection/Fondness, In Love  \n278                                            In Love  \n279                  Affection/Fondness, Relationships  \n283                                        Reminiscing  \n\n[99 rows x 2 columns]",
      "text/html": "<div>\n<style scoped>\n    .dataframe tbody tr th:only-of-type {\n        vertical-align: middle;\n    }\n\n    .dataframe tbody tr th {\n        vertical-align: top;\n    }\n\n    .dataframe thead th {\n        text-align: right;\n    }\n</style>\n<table border=\"1\" class=\"dataframe\">\n  <thead>\n    <tr style=\"text-align: right;\">\n      <th></th>\n      <th>Title</th>\n      <th>Themes</th>\n    </tr>\n  </thead>\n  <tbody>\n    <tr>\n      <th>0</th>\n      <td>(You're So Square) Baby I Don't Care - Studio Jam</td>\n      <td>Cool &amp; Cocky, Affection/Fondness, New Love, Pl...</td>\n    </tr>\n    <tr>\n      <th>1</th>\n      <td>12-bar Original</td>\n      <td>(instrumental)</td>\n    </tr>\n    <tr>\n      <th>2</th>\n      <td>A Day in the Life</td>\n      <td>Politics/Society, Imagination, Reflection, Rev...</td>\n    </tr>\n    <tr>\n      <th>9</th>\n      <td>All I've Got to Do</td>\n      <td>Affection/Fondness, In Love, New Love</td>\n    </tr>\n    <tr>\n      <th>15</th>\n      <td>And Your Bird Can Sing</td>\n      <td>In Love</td>\n    </tr>\n    <tr>\n      <th>...</th>\n      <td>...</td>\n      <td>...</td>\n    </tr>\n    <tr>\n      <th>264</th>\n      <td>Wild Honey Pie</td>\n      <td>Imagination, Maverick, Playful</td>\n    </tr>\n    <tr>\n      <th>274</th>\n      <td>You Know What to Do</td>\n      <td>Affection/Fondness, In Love</td>\n    </tr>\n    <tr>\n      <th>278</th>\n      <td>You'll Be Mine</td>\n      <td>In Love</td>\n    </tr>\n    <tr>\n      <th>279</th>\n      <td>You're Going to Lose That Girl</td>\n      <td>Affection/Fondness, Relationships</td>\n    </tr>\n    <tr>\n      <th>283</th>\n      <td>Your Mother Should Know</td>\n      <td>Reminiscing</td>\n    </tr>\n  </tbody>\n</table>\n<p>99 rows × 2 columns</p>\n</div>"
     },
     "execution_count": 23,
     "metadata": {},
     "output_type": "execute_result"
    }
   ],
   "source": [
    "songs.loc[i, ['Title', 'Themes']]"
   ],
   "metadata": {
    "collapsed": false,
    "ExecuteTime": {
     "end_time": "2023-09-16T12:01:18.595410300Z",
     "start_time": "2023-09-16T12:01:18.570368200Z"
    }
   },
   "id": "a4e90df4f1e93aba"
  },
  {
   "cell_type": "code",
   "execution_count": 24,
   "outputs": [
    {
     "data": {
      "text/plain": "0"
     },
     "execution_count": 24,
     "metadata": {},
     "output_type": "execute_result"
    }
   ],
   "source": [
    "songs.Themes.isnull().sum()"
   ],
   "metadata": {
    "collapsed": false,
    "ExecuteTime": {
     "end_time": "2023-09-16T12:02:12.531880400Z",
     "start_time": "2023-09-16T12:02:12.485968800Z"
    }
   },
   "id": "8dd2f6c9a1a6af8a"
  },
  {
   "cell_type": "markdown",
   "source": [
    "Save the new version of the dataset, *The Beatles songs dataset, 284x45, v6.csv*."
   ],
   "metadata": {
    "collapsed": false
   },
   "id": "11cb2bc2b6dd7021"
  },
  {
   "cell_type": "code",
   "execution_count": 25,
   "outputs": [],
   "source": [
    "songs.to_csv('../data/The Beatles songs dataset, 284x45, v6.csv', index=False)"
   ],
   "metadata": {
    "collapsed": false,
    "ExecuteTime": {
     "end_time": "2023-09-16T12:02:38.766518700Z",
     "start_time": "2023-09-16T12:02:38.725335400Z"
    }
   },
   "id": "6884d9159f625fca"
  },
  {
   "cell_type": "markdown",
   "source": [
    "##### *Lead vocal(s)*"
   ],
   "metadata": {
    "collapsed": false
   },
   "id": "4e482972f1d88ab6"
  },
  {
   "cell_type": "code",
   "execution_count": 26,
   "outputs": [],
   "source": [
    "songs = pd.read_csv('../data/The Beatles songs dataset, 284x45, v6.csv')"
   ],
   "metadata": {
    "collapsed": false,
    "ExecuteTime": {
     "end_time": "2023-09-16T12:08:00.756503700Z",
     "start_time": "2023-09-16T12:08:00.739709700Z"
    }
   },
   "id": "94f6d0b8d2d4cbf0"
  },
  {
   "cell_type": "markdown",
   "source": [
    "How many songs miss the value for *Lead vocal(s)*?"
   ],
   "metadata": {
    "collapsed": false
   },
   "id": "7ba99659adb3518c"
  },
  {
   "cell_type": "code",
   "execution_count": 27,
   "outputs": [
    {
     "data": {
      "text/plain": "URI                                      0\nTitle                                    0\nYear                                     0\nAlbum                                    0\nPopularity                               0\nDuration                                 0\nKey                                      0\nMode                                     0\nTempo                                    0\nTime_signature                           0\nValence                                  0\nDanceability                             0\nEnergy                                   0\nLoudness                                 0\nAcousticness                             0\nInstrumentalness                         0\nLiveness                                 0\nSpeechiness                              0\nAlbum debut                              0\nOther releases                          71\nSingle A side                          194\nSingle B side                          194\nSingle certification                   234\nGenre                                    0\nStyles                                   0\nThemes                                   0\nMoods                                    0\nSongwriter(s)                            0\nLead vocal(s)                           10\nCover                                  218\nCovered by                             102\nChart position UK (Wikipedia)          239\nChart position US (Wikipedia)          217\nHighest position (The Guardian)        253\nWeeks on chart in UK (The Guardian)    253\nWeeks at No1 in UK (The Guardian)      268\nHighest position (Billboard)           235\nWeeks at No1 (Billboard)               269\nTop 50 (Billboard)                     235\nTop 50 (Ultimate classic rock)         235\nTop 50 (Rolling Stone)                 235\nTop 50 (NME)                           235\nTop 50 (Top50songs.org)                234\nTop 50 (USA today, 2017)               234\nTop 50 (Vulture, by Bill Wyman)        242\ndtype: int64"
     },
     "metadata": {},
     "output_type": "display_data"
    },
    {
     "data": {
      "text/plain": "10"
     },
     "metadata": {},
     "output_type": "display_data"
    }
   ],
   "source": [
    "display(songs.isnull().sum())\n",
    "display(songs['Lead vocal(s)'].isnull().sum())"
   ],
   "metadata": {
    "collapsed": false,
    "ExecuteTime": {
     "end_time": "2023-09-16T12:08:44.906468700Z",
     "start_time": "2023-09-16T12:08:44.863792700Z"
    }
   },
   "id": "cdb01648d5a7531"
  },
  {
   "cell_type": "markdown",
   "source": [
    "What are these songs?"
   ],
   "metadata": {
    "collapsed": false
   },
   "id": "fd9b675932252c69"
  },
  {
   "cell_type": "code",
   "execution_count": 28,
   "outputs": [
    {
     "data": {
      "text/plain": "                                      URI  \\\n0    spotify:track:2FDEHIMkjxFLzj688M2I3h   \n1    spotify:track:2HvTGx5fzFGpHSyRNvXd9T   \n28   spotify:track:2Qgak11t9BJHwkicG0WJQE   \n33   spotify:track:5D6TY2nkWmC0fijXKuYQrm   \n37   spotify:track:2VXAlfWBNhdiMEVUTGzGOb   \n45   spotify:track:2XWLSham4kXI9ZSo75E4Rj   \n66   spotify:track:1itLKsCWHtLnxALkgBk1Fa   \n82   spotify:track:5aOteYP6rA7vvBA7TG4Zpx   \n151  spotify:track:2yRHcIxk1tQp2Yb4CiCnxT   \n196  spotify:track:5dZ8PeKKZJLIQAWNTdp8WX   \n\n                                                 Title  Year  \\\n0    (You're So Square) Baby I Don't Care - Studio Jam  1968   \n1                                      12-bar Original  1965   \n28                                        Besame Mucho  1969   \n33                      Can You Take Me Back? - Take 1  1968   \n37                                             Cayenne  1960   \n45                                    Cry for a Shadow  1961   \n66                                              Flying  1967   \n82                           Hallelujah, I Love Her So  1960   \n151                         Los Paranoias - Studio Jam  1968   \n196                                       Revolution 9  1968   \n\n                    Album  Popularity  Duration  Key  Mode    Tempo  \\\n0             The Beatles          29        43    9     1  112.173   \n1             Anthology 2          31       175    9     1  122.678   \n28            Anthology 1          45       157   11     0   76.146   \n33            The Beatles          30       142    5     1   79.355   \n37            Anthology 1          31        74    3     0  143.696   \n45            Anthology 1          34       142    0     1  143.809   \n66   Magical Mystery Tour          53       137    0     1   92.929   \n82            Anthology 1          30        73    5     1  131.028   \n151           The Beatles          27       238    0     1  163.524   \n196           The Beatles          47       502    2     0   91.158   \n\n     Time_signature  ...  Weeks at No1 in UK (The Guardian)  \\\n0                 4  ...                                NaN   \n1                 4  ...                                NaN   \n28                4  ...                                NaN   \n33                4  ...                                NaN   \n37                4  ...                                NaN   \n45                4  ...                                NaN   \n66                4  ...                                NaN   \n82                4  ...                                NaN   \n151               4  ...                                NaN   \n196               4  ...                                NaN   \n\n     Highest position (Billboard)  Weeks at No1 (Billboard)  \\\n0                             NaN                       NaN   \n1                             NaN                       NaN   \n28                            NaN                       NaN   \n33                            NaN                       NaN   \n37                            NaN                       NaN   \n45                            NaN                       NaN   \n66                            NaN                       NaN   \n82                            NaN                       NaN   \n151                           NaN                       NaN   \n196                           NaN                       NaN   \n\n     Top 50 (Billboard)  Top 50 (Ultimate classic rock)  \\\n0                   NaN                             NaN   \n1                   NaN                             NaN   \n28                  NaN                             NaN   \n33                  NaN                             NaN   \n37                  NaN                             NaN   \n45                  NaN                             NaN   \n66                  NaN                             NaN   \n82                  NaN                             NaN   \n151                 NaN                             NaN   \n196                 NaN                             NaN   \n\n     Top 50 (Rolling Stone)  Top 50 (NME)  Top 50 (Top50songs.org)  \\\n0                       NaN           NaN                      NaN   \n1                       NaN           NaN                      NaN   \n28                      NaN           NaN                      NaN   \n33                      NaN           NaN                      NaN   \n37                      NaN           NaN                      NaN   \n45                      NaN           NaN                      NaN   \n66                      NaN           NaN                      NaN   \n82                      NaN           NaN                      NaN   \n151                     NaN           NaN                      NaN   \n196                     NaN           NaN                      NaN   \n\n    Top 50 (USA today, 2017)  Top 50 (Vulture, by Bill Wyman)  \n0                        NaN                              NaN  \n1                        NaN                              NaN  \n28                       NaN                              NaN  \n33                       NaN                              NaN  \n37                       NaN                              NaN  \n45                       NaN                              NaN  \n66                       NaN                              NaN  \n82                       NaN                              NaN  \n151                      NaN                              NaN  \n196                      NaN                              NaN  \n\n[10 rows x 45 columns]",
      "text/html": "<div>\n<style scoped>\n    .dataframe tbody tr th:only-of-type {\n        vertical-align: middle;\n    }\n\n    .dataframe tbody tr th {\n        vertical-align: top;\n    }\n\n    .dataframe thead th {\n        text-align: right;\n    }\n</style>\n<table border=\"1\" class=\"dataframe\">\n  <thead>\n    <tr style=\"text-align: right;\">\n      <th></th>\n      <th>URI</th>\n      <th>Title</th>\n      <th>Year</th>\n      <th>Album</th>\n      <th>Popularity</th>\n      <th>Duration</th>\n      <th>Key</th>\n      <th>Mode</th>\n      <th>Tempo</th>\n      <th>Time_signature</th>\n      <th>...</th>\n      <th>Weeks at No1 in UK (The Guardian)</th>\n      <th>Highest position (Billboard)</th>\n      <th>Weeks at No1 (Billboard)</th>\n      <th>Top 50 (Billboard)</th>\n      <th>Top 50 (Ultimate classic rock)</th>\n      <th>Top 50 (Rolling Stone)</th>\n      <th>Top 50 (NME)</th>\n      <th>Top 50 (Top50songs.org)</th>\n      <th>Top 50 (USA today, 2017)</th>\n      <th>Top 50 (Vulture, by Bill Wyman)</th>\n    </tr>\n  </thead>\n  <tbody>\n    <tr>\n      <th>0</th>\n      <td>spotify:track:2FDEHIMkjxFLzj688M2I3h</td>\n      <td>(You're So Square) Baby I Don't Care - Studio Jam</td>\n      <td>1968</td>\n      <td>The Beatles</td>\n      <td>29</td>\n      <td>43</td>\n      <td>9</td>\n      <td>1</td>\n      <td>112.173</td>\n      <td>4</td>\n      <td>...</td>\n      <td>NaN</td>\n      <td>NaN</td>\n      <td>NaN</td>\n      <td>NaN</td>\n      <td>NaN</td>\n      <td>NaN</td>\n      <td>NaN</td>\n      <td>NaN</td>\n      <td>NaN</td>\n      <td>NaN</td>\n    </tr>\n    <tr>\n      <th>1</th>\n      <td>spotify:track:2HvTGx5fzFGpHSyRNvXd9T</td>\n      <td>12-bar Original</td>\n      <td>1965</td>\n      <td>Anthology 2</td>\n      <td>31</td>\n      <td>175</td>\n      <td>9</td>\n      <td>1</td>\n      <td>122.678</td>\n      <td>4</td>\n      <td>...</td>\n      <td>NaN</td>\n      <td>NaN</td>\n      <td>NaN</td>\n      <td>NaN</td>\n      <td>NaN</td>\n      <td>NaN</td>\n      <td>NaN</td>\n      <td>NaN</td>\n      <td>NaN</td>\n      <td>NaN</td>\n    </tr>\n    <tr>\n      <th>28</th>\n      <td>spotify:track:2Qgak11t9BJHwkicG0WJQE</td>\n      <td>Besame Mucho</td>\n      <td>1969</td>\n      <td>Anthology 1</td>\n      <td>45</td>\n      <td>157</td>\n      <td>11</td>\n      <td>0</td>\n      <td>76.146</td>\n      <td>4</td>\n      <td>...</td>\n      <td>NaN</td>\n      <td>NaN</td>\n      <td>NaN</td>\n      <td>NaN</td>\n      <td>NaN</td>\n      <td>NaN</td>\n      <td>NaN</td>\n      <td>NaN</td>\n      <td>NaN</td>\n      <td>NaN</td>\n    </tr>\n    <tr>\n      <th>33</th>\n      <td>spotify:track:5D6TY2nkWmC0fijXKuYQrm</td>\n      <td>Can You Take Me Back? - Take 1</td>\n      <td>1968</td>\n      <td>The Beatles</td>\n      <td>30</td>\n      <td>142</td>\n      <td>5</td>\n      <td>1</td>\n      <td>79.355</td>\n      <td>4</td>\n      <td>...</td>\n      <td>NaN</td>\n      <td>NaN</td>\n      <td>NaN</td>\n      <td>NaN</td>\n      <td>NaN</td>\n      <td>NaN</td>\n      <td>NaN</td>\n      <td>NaN</td>\n      <td>NaN</td>\n      <td>NaN</td>\n    </tr>\n    <tr>\n      <th>37</th>\n      <td>spotify:track:2VXAlfWBNhdiMEVUTGzGOb</td>\n      <td>Cayenne</td>\n      <td>1960</td>\n      <td>Anthology 1</td>\n      <td>31</td>\n      <td>74</td>\n      <td>3</td>\n      <td>0</td>\n      <td>143.696</td>\n      <td>4</td>\n      <td>...</td>\n      <td>NaN</td>\n      <td>NaN</td>\n      <td>NaN</td>\n      <td>NaN</td>\n      <td>NaN</td>\n      <td>NaN</td>\n      <td>NaN</td>\n      <td>NaN</td>\n      <td>NaN</td>\n      <td>NaN</td>\n    </tr>\n    <tr>\n      <th>45</th>\n      <td>spotify:track:2XWLSham4kXI9ZSo75E4Rj</td>\n      <td>Cry for a Shadow</td>\n      <td>1961</td>\n      <td>Anthology 1</td>\n      <td>34</td>\n      <td>142</td>\n      <td>0</td>\n      <td>1</td>\n      <td>143.809</td>\n      <td>4</td>\n      <td>...</td>\n      <td>NaN</td>\n      <td>NaN</td>\n      <td>NaN</td>\n      <td>NaN</td>\n      <td>NaN</td>\n      <td>NaN</td>\n      <td>NaN</td>\n      <td>NaN</td>\n      <td>NaN</td>\n      <td>NaN</td>\n    </tr>\n    <tr>\n      <th>66</th>\n      <td>spotify:track:1itLKsCWHtLnxALkgBk1Fa</td>\n      <td>Flying</td>\n      <td>1967</td>\n      <td>Magical Mystery Tour</td>\n      <td>53</td>\n      <td>137</td>\n      <td>0</td>\n      <td>1</td>\n      <td>92.929</td>\n      <td>4</td>\n      <td>...</td>\n      <td>NaN</td>\n      <td>NaN</td>\n      <td>NaN</td>\n      <td>NaN</td>\n      <td>NaN</td>\n      <td>NaN</td>\n      <td>NaN</td>\n      <td>NaN</td>\n      <td>NaN</td>\n      <td>NaN</td>\n    </tr>\n    <tr>\n      <th>82</th>\n      <td>spotify:track:5aOteYP6rA7vvBA7TG4Zpx</td>\n      <td>Hallelujah, I Love Her So</td>\n      <td>1960</td>\n      <td>Anthology 1</td>\n      <td>30</td>\n      <td>73</td>\n      <td>5</td>\n      <td>1</td>\n      <td>131.028</td>\n      <td>4</td>\n      <td>...</td>\n      <td>NaN</td>\n      <td>NaN</td>\n      <td>NaN</td>\n      <td>NaN</td>\n      <td>NaN</td>\n      <td>NaN</td>\n      <td>NaN</td>\n      <td>NaN</td>\n      <td>NaN</td>\n      <td>NaN</td>\n    </tr>\n    <tr>\n      <th>151</th>\n      <td>spotify:track:2yRHcIxk1tQp2Yb4CiCnxT</td>\n      <td>Los Paranoias - Studio Jam</td>\n      <td>1968</td>\n      <td>The Beatles</td>\n      <td>27</td>\n      <td>238</td>\n      <td>0</td>\n      <td>1</td>\n      <td>163.524</td>\n      <td>4</td>\n      <td>...</td>\n      <td>NaN</td>\n      <td>NaN</td>\n      <td>NaN</td>\n      <td>NaN</td>\n      <td>NaN</td>\n      <td>NaN</td>\n      <td>NaN</td>\n      <td>NaN</td>\n      <td>NaN</td>\n      <td>NaN</td>\n    </tr>\n    <tr>\n      <th>196</th>\n      <td>spotify:track:5dZ8PeKKZJLIQAWNTdp8WX</td>\n      <td>Revolution 9</td>\n      <td>1968</td>\n      <td>The Beatles</td>\n      <td>47</td>\n      <td>502</td>\n      <td>2</td>\n      <td>0</td>\n      <td>91.158</td>\n      <td>4</td>\n      <td>...</td>\n      <td>NaN</td>\n      <td>NaN</td>\n      <td>NaN</td>\n      <td>NaN</td>\n      <td>NaN</td>\n      <td>NaN</td>\n      <td>NaN</td>\n      <td>NaN</td>\n      <td>NaN</td>\n      <td>NaN</td>\n    </tr>\n  </tbody>\n</table>\n<p>10 rows × 45 columns</p>\n</div>"
     },
     "metadata": {},
     "output_type": "display_data"
    }
   ],
   "source": [
    "display(songs.loc[songs['Lead vocal(s)'].isnull()])"
   ],
   "metadata": {
    "collapsed": false,
    "ExecuteTime": {
     "end_time": "2023-09-16T12:10:11.914253700Z",
     "start_time": "2023-09-16T12:10:11.867931800Z"
    }
   },
   "id": "a0a295cb5fa571ef"
  },
  {
   "cell_type": "markdown",
   "source": [
    "Replace the missing values for *Lead vocal(s)* manually, based on VD's personal experience and Internet resources."
   ],
   "metadata": {
    "collapsed": false
   },
   "id": "f61fc6d1441f8f37"
  },
  {
   "cell_type": "code",
   "execution_count": 29,
   "outputs": [
    {
     "data": {
      "text/plain": "Int64Index([0, 1, 28, 33, 37, 45, 66, 82, 151, 196], dtype='int64')"
     },
     "metadata": {},
     "output_type": "display_data"
    },
    {
     "data": {
      "text/plain": "                                                 Title Lead vocal(s)\n0    (You're So Square) Baby I Don't Care - Studio Jam           NaN\n1                                      12-bar Original           NaN\n28                                        Besame Mucho           NaN\n33                      Can You Take Me Back? - Take 1           NaN\n37                                             Cayenne           NaN\n45                                    Cry for a Shadow           NaN\n66                                              Flying           NaN\n82                           Hallelujah, I Love Her So           NaN\n151                         Los Paranoias - Studio Jam           NaN\n196                                       Revolution 9           NaN",
      "text/html": "<div>\n<style scoped>\n    .dataframe tbody tr th:only-of-type {\n        vertical-align: middle;\n    }\n\n    .dataframe tbody tr th {\n        vertical-align: top;\n    }\n\n    .dataframe thead th {\n        text-align: right;\n    }\n</style>\n<table border=\"1\" class=\"dataframe\">\n  <thead>\n    <tr style=\"text-align: right;\">\n      <th></th>\n      <th>Title</th>\n      <th>Lead vocal(s)</th>\n    </tr>\n  </thead>\n  <tbody>\n    <tr>\n      <th>0</th>\n      <td>(You're So Square) Baby I Don't Care - Studio Jam</td>\n      <td>NaN</td>\n    </tr>\n    <tr>\n      <th>1</th>\n      <td>12-bar Original</td>\n      <td>NaN</td>\n    </tr>\n    <tr>\n      <th>28</th>\n      <td>Besame Mucho</td>\n      <td>NaN</td>\n    </tr>\n    <tr>\n      <th>33</th>\n      <td>Can You Take Me Back? - Take 1</td>\n      <td>NaN</td>\n    </tr>\n    <tr>\n      <th>37</th>\n      <td>Cayenne</td>\n      <td>NaN</td>\n    </tr>\n    <tr>\n      <th>45</th>\n      <td>Cry for a Shadow</td>\n      <td>NaN</td>\n    </tr>\n    <tr>\n      <th>66</th>\n      <td>Flying</td>\n      <td>NaN</td>\n    </tr>\n    <tr>\n      <th>82</th>\n      <td>Hallelujah, I Love Her So</td>\n      <td>NaN</td>\n    </tr>\n    <tr>\n      <th>151</th>\n      <td>Los Paranoias - Studio Jam</td>\n      <td>NaN</td>\n    </tr>\n    <tr>\n      <th>196</th>\n      <td>Revolution 9</td>\n      <td>NaN</td>\n    </tr>\n  </tbody>\n</table>\n</div>"
     },
     "metadata": {},
     "output_type": "display_data"
    }
   ],
   "source": [
    "i = songs.loc[songs['Lead vocal(s)'].isnull()].index\n",
    "display(i)\n",
    "display(songs.loc[i, ['Title', 'Lead vocal(s)']])"
   ],
   "metadata": {
    "collapsed": false,
    "ExecuteTime": {
     "end_time": "2023-09-16T12:12:31.513118200Z",
     "start_time": "2023-09-16T12:12:31.465312700Z"
    }
   },
   "id": "d11a93fc62abab56"
  },
  {
   "cell_type": "code",
   "execution_count": 31,
   "outputs": [
    {
     "data": {
      "text/plain": "[\"(You're So Square) Baby I Don't Care - Studio Jam\",\n '12-bar Original',\n 'Besame Mucho',\n 'Can You Take Me Back? - Take 1',\n 'Cayenne',\n 'Cry for a Shadow',\n 'Flying',\n 'Hallelujah, I Love Her So',\n 'Los Paranoias - Studio Jam',\n 'Revolution 9']"
     },
     "metadata": {},
     "output_type": "display_data"
    }
   ],
   "source": [
    "display(songs.loc[i].Title.to_list())"
   ],
   "metadata": {
    "collapsed": false,
    "ExecuteTime": {
     "end_time": "2023-09-16T12:15:55.995492400Z",
     "start_time": "2023-09-16T12:15:55.970451700Z"
    }
   },
   "id": "e033a5549d2fc290"
  },
  {
   "cell_type": "code",
   "execution_count": 32,
   "outputs": [],
   "source": [
    "lead_vocals = ['McCartney',                                                     # (You're So Square) Baby I Don't Care - Studio Jam\n",
    "               '(instrumental)',                                                # 12-bar Original\n",
    "               'McCartney',                                                     # Besame Mucho\n",
    "               'McCartney',                                                     # Can You Take Me Back? - Take 1\n",
    "               '(instrumental)',                                                # Cayenne\n",
    "               '(instrumental)',                                                # Cry for a Shadow\n",
    "               '(instrumental)',                                                # Flying\n",
    "               'McCartney',                                                     # Hallelujah, I Love Her So\n",
    "               'McCartney',                                                     # Los Paranoias - Studio Jam\n",
    "               '(sound collage)',                                               # Revolution 9\n",
    "               ]"
   ],
   "metadata": {
    "collapsed": false,
    "ExecuteTime": {
     "end_time": "2023-09-16T12:38:37.131301900Z",
     "start_time": "2023-09-16T12:38:37.084471900Z"
    }
   },
   "id": "3f5bd0ea2e7f69f3"
  },
  {
   "cell_type": "code",
   "execution_count": 33,
   "outputs": [],
   "source": [
    "songs.loc[i, 'Lead vocal(s)'] = lead_vocals"
   ],
   "metadata": {
    "collapsed": false,
    "ExecuteTime": {
     "end_time": "2023-09-16T12:39:05.832193100Z",
     "start_time": "2023-09-16T12:39:05.783793700Z"
    }
   },
   "id": "3eca8f167cf27412"
  },
  {
   "cell_type": "code",
   "execution_count": 34,
   "outputs": [
    {
     "data": {
      "text/plain": "                                                 Title    Lead vocal(s)\n0    (You're So Square) Baby I Don't Care - Studio Jam        McCartney\n1                                      12-bar Original   (instrumental)\n28                                        Besame Mucho        McCartney\n33                      Can You Take Me Back? - Take 1        McCartney\n37                                             Cayenne   (instrumental)\n45                                    Cry for a Shadow   (instrumental)\n66                                              Flying   (instrumental)\n82                           Hallelujah, I Love Her So        McCartney\n151                         Los Paranoias - Studio Jam        McCartney\n196                                       Revolution 9  (sound collage)",
      "text/html": "<div>\n<style scoped>\n    .dataframe tbody tr th:only-of-type {\n        vertical-align: middle;\n    }\n\n    .dataframe tbody tr th {\n        vertical-align: top;\n    }\n\n    .dataframe thead th {\n        text-align: right;\n    }\n</style>\n<table border=\"1\" class=\"dataframe\">\n  <thead>\n    <tr style=\"text-align: right;\">\n      <th></th>\n      <th>Title</th>\n      <th>Lead vocal(s)</th>\n    </tr>\n  </thead>\n  <tbody>\n    <tr>\n      <th>0</th>\n      <td>(You're So Square) Baby I Don't Care - Studio Jam</td>\n      <td>McCartney</td>\n    </tr>\n    <tr>\n      <th>1</th>\n      <td>12-bar Original</td>\n      <td>(instrumental)</td>\n    </tr>\n    <tr>\n      <th>28</th>\n      <td>Besame Mucho</td>\n      <td>McCartney</td>\n    </tr>\n    <tr>\n      <th>33</th>\n      <td>Can You Take Me Back? - Take 1</td>\n      <td>McCartney</td>\n    </tr>\n    <tr>\n      <th>37</th>\n      <td>Cayenne</td>\n      <td>(instrumental)</td>\n    </tr>\n    <tr>\n      <th>45</th>\n      <td>Cry for a Shadow</td>\n      <td>(instrumental)</td>\n    </tr>\n    <tr>\n      <th>66</th>\n      <td>Flying</td>\n      <td>(instrumental)</td>\n    </tr>\n    <tr>\n      <th>82</th>\n      <td>Hallelujah, I Love Her So</td>\n      <td>McCartney</td>\n    </tr>\n    <tr>\n      <th>151</th>\n      <td>Los Paranoias - Studio Jam</td>\n      <td>McCartney</td>\n    </tr>\n    <tr>\n      <th>196</th>\n      <td>Revolution 9</td>\n      <td>(sound collage)</td>\n    </tr>\n  </tbody>\n</table>\n</div>"
     },
     "execution_count": 34,
     "metadata": {},
     "output_type": "execute_result"
    }
   ],
   "source": [
    "songs.loc[i, ['Title', 'Lead vocal(s)']]"
   ],
   "metadata": {
    "collapsed": false,
    "ExecuteTime": {
     "end_time": "2023-09-16T12:41:02.175616900Z",
     "start_time": "2023-09-16T12:41:02.130269300Z"
    }
   },
   "id": "f3bffa0d541cffb0"
  },
  {
   "cell_type": "markdown",
   "source": [
    "Save the new version of the dataset, *The Beatles songs dataset, 284x45, v7.csv*."
   ],
   "metadata": {
    "collapsed": false
   },
   "id": "64a5b3b80d2d4d60"
  },
  {
   "cell_type": "code",
   "execution_count": 35,
   "outputs": [],
   "source": [
    "songs.to_csv('../data/The Beatles songs dataset, 284x45, v7.csv', index=False)"
   ],
   "metadata": {
    "collapsed": false,
    "ExecuteTime": {
     "end_time": "2023-09-16T12:43:16.771414700Z",
     "start_time": "2023-09-16T12:43:16.756421400Z"
    }
   },
   "id": "e2450b94a72a5873"
  },
  {
   "cell_type": "markdown",
   "source": [
    "### *Other releases*, *Cover* and *Covered by*"
   ],
   "metadata": {
    "collapsed": false
   },
   "id": "8dab2d74e1761fcb"
  },
  {
   "cell_type": "markdown",
   "source": [
    "##### *Other releases*"
   ],
   "metadata": {
    "collapsed": false
   },
   "id": "eddf7c529b50c782"
  },
  {
   "cell_type": "code",
   "execution_count": 36,
   "outputs": [],
   "source": [
    "songs = pd.read_csv('../data/The Beatles songs dataset, 284x45, v7.csv')"
   ],
   "metadata": {
    "collapsed": false,
    "ExecuteTime": {
     "end_time": "2023-09-16T12:46:03.912047900Z",
     "start_time": "2023-09-16T12:46:03.882613600Z"
    }
   },
   "id": "38f99f9abc92343"
  },
  {
   "cell_type": "markdown",
   "source": [
    "How many songs miss the value for *Other releases*?"
   ],
   "metadata": {
    "collapsed": false
   },
   "id": "8d84e5dd96895d6c"
  },
  {
   "cell_type": "code",
   "execution_count": 37,
   "outputs": [
    {
     "data": {
      "text/plain": "URI                                      0\nTitle                                    0\nYear                                     0\nAlbum                                    0\nPopularity                               0\nDuration                                 0\nKey                                      0\nMode                                     0\nTempo                                    0\nTime_signature                           0\nValence                                  0\nDanceability                             0\nEnergy                                   0\nLoudness                                 0\nAcousticness                             0\nInstrumentalness                         0\nLiveness                                 0\nSpeechiness                              0\nAlbum debut                              0\nOther releases                          71\nSingle A side                          194\nSingle B side                          194\nSingle certification                   234\nGenre                                    0\nStyles                                   0\nThemes                                   0\nMoods                                    0\nSongwriter(s)                            0\nLead vocal(s)                            0\nCover                                  218\nCovered by                             102\nChart position UK (Wikipedia)          239\nChart position US (Wikipedia)          217\nHighest position (The Guardian)        253\nWeeks on chart in UK (The Guardian)    253\nWeeks at No1 in UK (The Guardian)      268\nHighest position (Billboard)           235\nWeeks at No1 (Billboard)               269\nTop 50 (Billboard)                     235\nTop 50 (Ultimate classic rock)         235\nTop 50 (Rolling Stone)                 235\nTop 50 (NME)                           235\nTop 50 (Top50songs.org)                234\nTop 50 (USA today, 2017)               234\nTop 50 (Vulture, by Bill Wyman)        242\ndtype: int64"
     },
     "metadata": {},
     "output_type": "display_data"
    },
    {
     "data": {
      "text/plain": "71"
     },
     "metadata": {},
     "output_type": "display_data"
    }
   ],
   "source": [
    "display(songs.isnull().sum())\n",
    "display(songs['Other releases'].isnull().sum())"
   ],
   "metadata": {
    "collapsed": false,
    "ExecuteTime": {
     "end_time": "2023-09-16T12:46:42.532017900Z",
     "start_time": "2023-09-16T12:46:42.523207300Z"
    }
   },
   "id": "b9ee56501cefc5a0"
  },
  {
   "cell_type": "markdown",
   "source": [
    "What are these songs?"
   ],
   "metadata": {
    "collapsed": false
   },
   "id": "e53a0f64369746d7"
  },
  {
   "cell_type": "code",
   "execution_count": 38,
   "outputs": [
    {
     "data": {
      "text/plain": "                                      URI  \\\n0    spotify:track:2FDEHIMkjxFLzj688M2I3h   \n1    spotify:track:2HvTGx5fzFGpHSyRNvXd9T   \n4    spotify:track:5RuE7nwp4TWsRvLXG7Yjy1   \n11   spotify:track:25RYJGPnetSkV8le7TeJnR   \n24   spotify:track:7iTjGs5z7opNGCXyurs0Q7   \n..                                    ...   \n252  spotify:track:2NZ2FttCOXIGSLP7F9EvGW   \n259  spotify:track:1iJVygVSbCRrJimE79PeDz   \n274  spotify:track:1n8oABN9yti0owTEKcms0q   \n278  spotify:track:175jiRVJ6N6ayJQ1FXim56   \n282  spotify:track:3FuRBetiFz4ijeLdGCxQ5Y   \n\n                                                 Title  Year  \\\n0    (You're So Square) Baby I Don't Care - Studio Jam  1968   \n1                                      12-bar Original  1965   \n4                           A Shot of Rhythm and Blues  1963   \n11                                All Things Must Pass  1969   \n24                                             Bad Boy  1965   \n..                                                 ...   ...   \n252                           Too Much Monkey Business  1963   \n259                           What's the New Mary Jane  1968   \n274                                You Know What to Do  1964   \n278                                     You'll Be Mine  1960   \n282                                        Young Blood  1963   \n\n                                       Album  Popularity  Duration  Key  Mode  \\\n0                                The Beatles          29        43    9     1   \n1                                Anthology 2          31       175    9     1   \n4                            Live at the BBC          35       136    2     1   \n11                               Anthology 3          35       185    9     1   \n24   Past Masters (Vols. 1 & 2 / Remastered)          40       141    0     1   \n..                                       ...         ...       ...  ...   ...   \n252                          Live at the BBC          30       128    1     0   \n259                              Anthology 3          28       372    2     1   \n274                              Anthology 1          28       119    9     1   \n278                              Anthology 1          28        99    5     1   \n282                          Live at the BBC          29       116    2     1   \n\n       Tempo  Time_signature  ...  Weeks at No1 in UK (The Guardian)  \\\n0    112.173               4  ...                                NaN   \n1    122.678               4  ...                                NaN   \n4    128.919               4  ...                                NaN   \n11    93.232               3  ...                                NaN   \n24   134.640               4  ...                                NaN   \n..       ...             ...  ...                                ...   \n252   90.715               4  ...                                NaN   \n259   83.861               4  ...                                NaN   \n274   82.770               4  ...                                NaN   \n278   89.585               3  ...                                NaN   \n282   68.111               4  ...                                NaN   \n\n     Highest position (Billboard)  Weeks at No1 (Billboard)  \\\n0                             NaN                       NaN   \n1                             NaN                       NaN   \n4                             NaN                       NaN   \n11                            NaN                       NaN   \n24                            NaN                       NaN   \n..                            ...                       ...   \n252                           NaN                       NaN   \n259                           NaN                       NaN   \n274                           NaN                       NaN   \n278                           NaN                       NaN   \n282                           NaN                       NaN   \n\n     Top 50 (Billboard)  Top 50 (Ultimate classic rock)  \\\n0                   NaN                             NaN   \n1                   NaN                             NaN   \n4                   NaN                             NaN   \n11                  NaN                             NaN   \n24                  NaN                             NaN   \n..                  ...                             ...   \n252                 NaN                             NaN   \n259                 NaN                             NaN   \n274                 NaN                             NaN   \n278                 NaN                             NaN   \n282                 NaN                             NaN   \n\n     Top 50 (Rolling Stone)  Top 50 (NME)  Top 50 (Top50songs.org)  \\\n0                       NaN           NaN                      NaN   \n1                       NaN           NaN                      NaN   \n4                       NaN           NaN                      NaN   \n11                      NaN           NaN                      NaN   \n24                      NaN           NaN                      NaN   \n..                      ...           ...                      ...   \n252                     NaN           NaN                      NaN   \n259                     NaN           NaN                      NaN   \n274                     NaN           NaN                      NaN   \n278                     NaN           NaN                      NaN   \n282                     NaN           NaN                      NaN   \n\n    Top 50 (USA today, 2017)  Top 50 (Vulture, by Bill Wyman)  \n0                        NaN                              NaN  \n1                        NaN                              NaN  \n4                        NaN                              NaN  \n11                       NaN                              NaN  \n24                       NaN                              NaN  \n..                       ...                              ...  \n252                      NaN                              NaN  \n259                      NaN                              NaN  \n274                      NaN                              NaN  \n278                      NaN                              NaN  \n282                      NaN                              NaN  \n\n[71 rows x 45 columns]",
      "text/html": "<div>\n<style scoped>\n    .dataframe tbody tr th:only-of-type {\n        vertical-align: middle;\n    }\n\n    .dataframe tbody tr th {\n        vertical-align: top;\n    }\n\n    .dataframe thead th {\n        text-align: right;\n    }\n</style>\n<table border=\"1\" class=\"dataframe\">\n  <thead>\n    <tr style=\"text-align: right;\">\n      <th></th>\n      <th>URI</th>\n      <th>Title</th>\n      <th>Year</th>\n      <th>Album</th>\n      <th>Popularity</th>\n      <th>Duration</th>\n      <th>Key</th>\n      <th>Mode</th>\n      <th>Tempo</th>\n      <th>Time_signature</th>\n      <th>...</th>\n      <th>Weeks at No1 in UK (The Guardian)</th>\n      <th>Highest position (Billboard)</th>\n      <th>Weeks at No1 (Billboard)</th>\n      <th>Top 50 (Billboard)</th>\n      <th>Top 50 (Ultimate classic rock)</th>\n      <th>Top 50 (Rolling Stone)</th>\n      <th>Top 50 (NME)</th>\n      <th>Top 50 (Top50songs.org)</th>\n      <th>Top 50 (USA today, 2017)</th>\n      <th>Top 50 (Vulture, by Bill Wyman)</th>\n    </tr>\n  </thead>\n  <tbody>\n    <tr>\n      <th>0</th>\n      <td>spotify:track:2FDEHIMkjxFLzj688M2I3h</td>\n      <td>(You're So Square) Baby I Don't Care - Studio Jam</td>\n      <td>1968</td>\n      <td>The Beatles</td>\n      <td>29</td>\n      <td>43</td>\n      <td>9</td>\n      <td>1</td>\n      <td>112.173</td>\n      <td>4</td>\n      <td>...</td>\n      <td>NaN</td>\n      <td>NaN</td>\n      <td>NaN</td>\n      <td>NaN</td>\n      <td>NaN</td>\n      <td>NaN</td>\n      <td>NaN</td>\n      <td>NaN</td>\n      <td>NaN</td>\n      <td>NaN</td>\n    </tr>\n    <tr>\n      <th>1</th>\n      <td>spotify:track:2HvTGx5fzFGpHSyRNvXd9T</td>\n      <td>12-bar Original</td>\n      <td>1965</td>\n      <td>Anthology 2</td>\n      <td>31</td>\n      <td>175</td>\n      <td>9</td>\n      <td>1</td>\n      <td>122.678</td>\n      <td>4</td>\n      <td>...</td>\n      <td>NaN</td>\n      <td>NaN</td>\n      <td>NaN</td>\n      <td>NaN</td>\n      <td>NaN</td>\n      <td>NaN</td>\n      <td>NaN</td>\n      <td>NaN</td>\n      <td>NaN</td>\n      <td>NaN</td>\n    </tr>\n    <tr>\n      <th>4</th>\n      <td>spotify:track:5RuE7nwp4TWsRvLXG7Yjy1</td>\n      <td>A Shot of Rhythm and Blues</td>\n      <td>1963</td>\n      <td>Live at the BBC</td>\n      <td>35</td>\n      <td>136</td>\n      <td>2</td>\n      <td>1</td>\n      <td>128.919</td>\n      <td>4</td>\n      <td>...</td>\n      <td>NaN</td>\n      <td>NaN</td>\n      <td>NaN</td>\n      <td>NaN</td>\n      <td>NaN</td>\n      <td>NaN</td>\n      <td>NaN</td>\n      <td>NaN</td>\n      <td>NaN</td>\n      <td>NaN</td>\n    </tr>\n    <tr>\n      <th>11</th>\n      <td>spotify:track:25RYJGPnetSkV8le7TeJnR</td>\n      <td>All Things Must Pass</td>\n      <td>1969</td>\n      <td>Anthology 3</td>\n      <td>35</td>\n      <td>185</td>\n      <td>9</td>\n      <td>1</td>\n      <td>93.232</td>\n      <td>3</td>\n      <td>...</td>\n      <td>NaN</td>\n      <td>NaN</td>\n      <td>NaN</td>\n      <td>NaN</td>\n      <td>NaN</td>\n      <td>NaN</td>\n      <td>NaN</td>\n      <td>NaN</td>\n      <td>NaN</td>\n      <td>NaN</td>\n    </tr>\n    <tr>\n      <th>24</th>\n      <td>spotify:track:7iTjGs5z7opNGCXyurs0Q7</td>\n      <td>Bad Boy</td>\n      <td>1965</td>\n      <td>Past Masters (Vols. 1 &amp; 2 / Remastered)</td>\n      <td>40</td>\n      <td>141</td>\n      <td>0</td>\n      <td>1</td>\n      <td>134.640</td>\n      <td>4</td>\n      <td>...</td>\n      <td>NaN</td>\n      <td>NaN</td>\n      <td>NaN</td>\n      <td>NaN</td>\n      <td>NaN</td>\n      <td>NaN</td>\n      <td>NaN</td>\n      <td>NaN</td>\n      <td>NaN</td>\n      <td>NaN</td>\n    </tr>\n    <tr>\n      <th>...</th>\n      <td>...</td>\n      <td>...</td>\n      <td>...</td>\n      <td>...</td>\n      <td>...</td>\n      <td>...</td>\n      <td>...</td>\n      <td>...</td>\n      <td>...</td>\n      <td>...</td>\n      <td>...</td>\n      <td>...</td>\n      <td>...</td>\n      <td>...</td>\n      <td>...</td>\n      <td>...</td>\n      <td>...</td>\n      <td>...</td>\n      <td>...</td>\n      <td>...</td>\n      <td>...</td>\n    </tr>\n    <tr>\n      <th>252</th>\n      <td>spotify:track:2NZ2FttCOXIGSLP7F9EvGW</td>\n      <td>Too Much Monkey Business</td>\n      <td>1963</td>\n      <td>Live at the BBC</td>\n      <td>30</td>\n      <td>128</td>\n      <td>1</td>\n      <td>0</td>\n      <td>90.715</td>\n      <td>4</td>\n      <td>...</td>\n      <td>NaN</td>\n      <td>NaN</td>\n      <td>NaN</td>\n      <td>NaN</td>\n      <td>NaN</td>\n      <td>NaN</td>\n      <td>NaN</td>\n      <td>NaN</td>\n      <td>NaN</td>\n      <td>NaN</td>\n    </tr>\n    <tr>\n      <th>259</th>\n      <td>spotify:track:1iJVygVSbCRrJimE79PeDz</td>\n      <td>What's the New Mary Jane</td>\n      <td>1968</td>\n      <td>Anthology 3</td>\n      <td>28</td>\n      <td>372</td>\n      <td>2</td>\n      <td>1</td>\n      <td>83.861</td>\n      <td>4</td>\n      <td>...</td>\n      <td>NaN</td>\n      <td>NaN</td>\n      <td>NaN</td>\n      <td>NaN</td>\n      <td>NaN</td>\n      <td>NaN</td>\n      <td>NaN</td>\n      <td>NaN</td>\n      <td>NaN</td>\n      <td>NaN</td>\n    </tr>\n    <tr>\n      <th>274</th>\n      <td>spotify:track:1n8oABN9yti0owTEKcms0q</td>\n      <td>You Know What to Do</td>\n      <td>1964</td>\n      <td>Anthology 1</td>\n      <td>28</td>\n      <td>119</td>\n      <td>9</td>\n      <td>1</td>\n      <td>82.770</td>\n      <td>4</td>\n      <td>...</td>\n      <td>NaN</td>\n      <td>NaN</td>\n      <td>NaN</td>\n      <td>NaN</td>\n      <td>NaN</td>\n      <td>NaN</td>\n      <td>NaN</td>\n      <td>NaN</td>\n      <td>NaN</td>\n      <td>NaN</td>\n    </tr>\n    <tr>\n      <th>278</th>\n      <td>spotify:track:175jiRVJ6N6ayJQ1FXim56</td>\n      <td>You'll Be Mine</td>\n      <td>1960</td>\n      <td>Anthology 1</td>\n      <td>28</td>\n      <td>99</td>\n      <td>5</td>\n      <td>1</td>\n      <td>89.585</td>\n      <td>3</td>\n      <td>...</td>\n      <td>NaN</td>\n      <td>NaN</td>\n      <td>NaN</td>\n      <td>NaN</td>\n      <td>NaN</td>\n      <td>NaN</td>\n      <td>NaN</td>\n      <td>NaN</td>\n      <td>NaN</td>\n      <td>NaN</td>\n    </tr>\n    <tr>\n      <th>282</th>\n      <td>spotify:track:3FuRBetiFz4ijeLdGCxQ5Y</td>\n      <td>Young Blood</td>\n      <td>1963</td>\n      <td>Live at the BBC</td>\n      <td>29</td>\n      <td>116</td>\n      <td>2</td>\n      <td>1</td>\n      <td>68.111</td>\n      <td>4</td>\n      <td>...</td>\n      <td>NaN</td>\n      <td>NaN</td>\n      <td>NaN</td>\n      <td>NaN</td>\n      <td>NaN</td>\n      <td>NaN</td>\n      <td>NaN</td>\n      <td>NaN</td>\n      <td>NaN</td>\n      <td>NaN</td>\n    </tr>\n  </tbody>\n</table>\n<p>71 rows × 45 columns</p>\n</div>"
     },
     "metadata": {},
     "output_type": "display_data"
    }
   ],
   "source": [
    "display(songs.loc[songs['Other releases'].isnull()])"
   ],
   "metadata": {
    "collapsed": false,
    "ExecuteTime": {
     "end_time": "2023-09-16T12:48:12.120009600Z",
     "start_time": "2023-09-16T12:48:12.071727300Z"
    }
   },
   "id": "287db12e39c25f14"
  },
  {
   "cell_type": "markdown",
   "source": [
    "Replace the missing values for `Other releases` with 0s. In some cases, this choice is questionable, since some songs have been released on, say, *Anthology* series only, and they represent early versions of the songs subsequently released on The Beatles members' solo albums after the breakup (e.g., *All Things Must Pass*). The criterion for filling the missing value with 0 was that there were no other releases of the same song by all four Beatles."
   ],
   "metadata": {
    "collapsed": false
   },
   "id": "5b34f301dd8a3892"
  },
  {
   "cell_type": "code",
   "execution_count": 39,
   "outputs": [
    {
     "data": {
      "text/plain": "Int64Index([  0,   1,   4,  11,  24,  25,  28,  33,  35,  37,  39,  40,  41,\n             43,  45,  46,  56,  69,  74,  80,  82,  84,  96, 101, 102, 103,\n            104, 115, 120, 125, 131, 133, 137, 139, 141, 143, 144, 146, 148,\n            151, 155, 159, 164, 168, 174, 176, 184, 197, 203, 212, 214, 215,\n            216, 218, 219, 222, 223, 225, 229, 230, 231, 236, 237, 241, 247,\n            250, 252, 259, 274, 278, 282],\n           dtype='int64')"
     },
     "metadata": {},
     "output_type": "display_data"
    },
    {
     "data": {
      "text/plain": "                                                 Title  Other releases\n0    (You're So Square) Baby I Don't Care - Studio Jam             NaN\n1                                      12-bar Original             NaN\n4                           A Shot of Rhythm and Blues             NaN\n11                                All Things Must Pass             NaN\n24                                             Bad Boy             NaN\n..                                                 ...             ...\n252                           Too Much Monkey Business             NaN\n259                           What's the New Mary Jane             NaN\n274                                You Know What to Do             NaN\n278                                     You'll Be Mine             NaN\n282                                        Young Blood             NaN\n\n[71 rows x 2 columns]",
      "text/html": "<div>\n<style scoped>\n    .dataframe tbody tr th:only-of-type {\n        vertical-align: middle;\n    }\n\n    .dataframe tbody tr th {\n        vertical-align: top;\n    }\n\n    .dataframe thead th {\n        text-align: right;\n    }\n</style>\n<table border=\"1\" class=\"dataframe\">\n  <thead>\n    <tr style=\"text-align: right;\">\n      <th></th>\n      <th>Title</th>\n      <th>Other releases</th>\n    </tr>\n  </thead>\n  <tbody>\n    <tr>\n      <th>0</th>\n      <td>(You're So Square) Baby I Don't Care - Studio Jam</td>\n      <td>NaN</td>\n    </tr>\n    <tr>\n      <th>1</th>\n      <td>12-bar Original</td>\n      <td>NaN</td>\n    </tr>\n    <tr>\n      <th>4</th>\n      <td>A Shot of Rhythm and Blues</td>\n      <td>NaN</td>\n    </tr>\n    <tr>\n      <th>11</th>\n      <td>All Things Must Pass</td>\n      <td>NaN</td>\n    </tr>\n    <tr>\n      <th>24</th>\n      <td>Bad Boy</td>\n      <td>NaN</td>\n    </tr>\n    <tr>\n      <th>...</th>\n      <td>...</td>\n      <td>...</td>\n    </tr>\n    <tr>\n      <th>252</th>\n      <td>Too Much Monkey Business</td>\n      <td>NaN</td>\n    </tr>\n    <tr>\n      <th>259</th>\n      <td>What's the New Mary Jane</td>\n      <td>NaN</td>\n    </tr>\n    <tr>\n      <th>274</th>\n      <td>You Know What to Do</td>\n      <td>NaN</td>\n    </tr>\n    <tr>\n      <th>278</th>\n      <td>You'll Be Mine</td>\n      <td>NaN</td>\n    </tr>\n    <tr>\n      <th>282</th>\n      <td>Young Blood</td>\n      <td>NaN</td>\n    </tr>\n  </tbody>\n</table>\n<p>71 rows × 2 columns</p>\n</div>"
     },
     "metadata": {},
     "output_type": "display_data"
    }
   ],
   "source": [
    "i = songs.loc[songs['Other releases'].isnull()].index\n",
    "display(i)\n",
    "display(songs.loc[i, ['Title', 'Other releases']])"
   ],
   "metadata": {
    "collapsed": false,
    "ExecuteTime": {
     "end_time": "2023-09-16T12:50:53.576854600Z",
     "start_time": "2023-09-16T12:50:53.530197800Z"
    }
   },
   "id": "a86947fb99ddadd4"
  },
  {
   "cell_type": "code",
   "execution_count": 40,
   "outputs": [],
   "source": [
    "songs.loc[i, 'Other releases'] = 0"
   ],
   "metadata": {
    "collapsed": false,
    "ExecuteTime": {
     "end_time": "2023-09-16T12:52:05.575942100Z",
     "start_time": "2023-09-16T12:52:05.534808300Z"
    }
   },
   "id": "978357b9a2350c"
  },
  {
   "cell_type": "code",
   "execution_count": 42,
   "outputs": [
    {
     "data": {
      "text/plain": "0"
     },
     "execution_count": 42,
     "metadata": {},
     "output_type": "execute_result"
    }
   ],
   "source": [
    "display(songs.loc[i, ['Title', 'Other releases']])\n",
    "display(songs['Other releases'].isnull().sum())"
   ],
   "metadata": {
    "collapsed": false,
    "ExecuteTime": {
     "end_time": "2023-09-16T12:55:25.954247600Z",
     "start_time": "2023-09-16T12:55:25.915730Z"
    }
   },
   "id": "e8d0c11b711ec281"
  },
  {
   "cell_type": "markdown",
   "source": [
    "Save the new version of the dataset, *The Beatles songs dataset, 284x45, v8.csv*."
   ],
   "metadata": {
    "collapsed": false
   },
   "id": "d24626971315681c"
  },
  {
   "cell_type": "code",
   "execution_count": 123,
   "outputs": [],
   "source": [
    "songs.to_csv('../data/The Beatles songs dataset, 284x45, v8.csv', index=False)"
   ],
   "metadata": {
    "collapsed": false
   },
   "id": "196d6423f5be6cf2"
  },
  {
   "cell_type": "markdown",
   "source": [
    "##### *Cover*\n",
    "All missing values for `Cover` are set to 'N' and then double-checked manually, and all missing values for `Covered by` are set to 0 (also double-checked manually)."
   ],
   "metadata": {
    "collapsed": false
   },
   "id": "f7c787bc1e08a142"
  },
  {
   "cell_type": "code",
   "execution_count": 53,
   "outputs": [],
   "source": [
    "songs = pd.read_csv('../data/The Beatles songs dataset, 284x45, v8.csv')"
   ],
   "metadata": {
    "collapsed": false,
    "ExecuteTime": {
     "end_time": "2023-09-16T13:08:49.435818800Z",
     "start_time": "2023-09-16T13:08:49.427085600Z"
    }
   },
   "id": "8c6cf3e69d9e2d20"
  },
  {
   "cell_type": "markdown",
   "source": [
    "How many songs miss the value for *Cover*?"
   ],
   "metadata": {
    "collapsed": false
   },
   "id": "d1853fe04a579d0c"
  },
  {
   "cell_type": "code",
   "execution_count": 54,
   "outputs": [
    {
     "data": {
      "text/plain": "URI                                      0\nTitle                                    0\nYear                                     0\nAlbum                                    0\nPopularity                               0\nDuration                                 0\nKey                                      0\nMode                                     0\nTempo                                    0\nTime_signature                           0\nValence                                  0\nDanceability                             0\nEnergy                                   0\nLoudness                                 0\nAcousticness                             0\nInstrumentalness                         0\nLiveness                                 0\nSpeechiness                              0\nAlbum debut                              0\nOther releases                           0\nSingle A side                          194\nSingle B side                          194\nSingle certification                   234\nGenre                                    0\nStyles                                   0\nThemes                                   0\nMoods                                    0\nSongwriter(s)                            0\nLead vocal(s)                            0\nCover                                  218\nCovered by                             102\nChart position UK (Wikipedia)          239\nChart position US (Wikipedia)          217\nHighest position (The Guardian)        253\nWeeks on chart in UK (The Guardian)    253\nWeeks at No1 in UK (The Guardian)      268\nHighest position (Billboard)           235\nWeeks at No1 (Billboard)               269\nTop 50 (Billboard)                     235\nTop 50 (Ultimate classic rock)         235\nTop 50 (Rolling Stone)                 235\nTop 50 (NME)                           235\nTop 50 (Top50songs.org)                234\nTop 50 (USA today, 2017)               234\nTop 50 (Vulture, by Bill Wyman)        242\ndtype: int64"
     },
     "metadata": {},
     "output_type": "display_data"
    },
    {
     "data": {
      "text/plain": "218"
     },
     "metadata": {},
     "output_type": "display_data"
    }
   ],
   "source": [
    "display(songs.isnull().sum())\n",
    "display(songs.Cover.isnull().sum())"
   ],
   "metadata": {
    "collapsed": false,
    "ExecuteTime": {
     "end_time": "2023-09-16T13:08:53.150665600Z",
     "start_time": "2023-09-16T13:08:53.127874800Z"
    }
   },
   "id": "60870d2df05cfc5f"
  },
  {
   "cell_type": "markdown",
   "source": [
    "What are these songs?"
   ],
   "metadata": {
    "collapsed": false
   },
   "id": "6a8adc3294f55da4"
  },
  {
   "cell_type": "code",
   "execution_count": 55,
   "outputs": [
    {
     "data": {
      "text/plain": "                                                 Title Cover\n0    (You're So Square) Baby I Don't Care - Studio Jam   NaN\n1                                      12-bar Original   NaN\n2                                    A Day in the Life   NaN\n3                                   A Hard Day's Night   NaN\n6                                  Across the Universe   NaN\n..                                                 ...   ...\n277                                   You Won't See Me   NaN\n278                                     You'll Be Mine   NaN\n279                     You're Going to Lose That Girl   NaN\n280                  You've Got to Hide Your Love Away   NaN\n283                            Your Mother Should Know   NaN\n\n[218 rows x 2 columns]",
      "text/html": "<div>\n<style scoped>\n    .dataframe tbody tr th:only-of-type {\n        vertical-align: middle;\n    }\n\n    .dataframe tbody tr th {\n        vertical-align: top;\n    }\n\n    .dataframe thead th {\n        text-align: right;\n    }\n</style>\n<table border=\"1\" class=\"dataframe\">\n  <thead>\n    <tr style=\"text-align: right;\">\n      <th></th>\n      <th>Title</th>\n      <th>Cover</th>\n    </tr>\n  </thead>\n  <tbody>\n    <tr>\n      <th>0</th>\n      <td>(You're So Square) Baby I Don't Care - Studio Jam</td>\n      <td>NaN</td>\n    </tr>\n    <tr>\n      <th>1</th>\n      <td>12-bar Original</td>\n      <td>NaN</td>\n    </tr>\n    <tr>\n      <th>2</th>\n      <td>A Day in the Life</td>\n      <td>NaN</td>\n    </tr>\n    <tr>\n      <th>3</th>\n      <td>A Hard Day's Night</td>\n      <td>NaN</td>\n    </tr>\n    <tr>\n      <th>6</th>\n      <td>Across the Universe</td>\n      <td>NaN</td>\n    </tr>\n    <tr>\n      <th>...</th>\n      <td>...</td>\n      <td>...</td>\n    </tr>\n    <tr>\n      <th>277</th>\n      <td>You Won't See Me</td>\n      <td>NaN</td>\n    </tr>\n    <tr>\n      <th>278</th>\n      <td>You'll Be Mine</td>\n      <td>NaN</td>\n    </tr>\n    <tr>\n      <th>279</th>\n      <td>You're Going to Lose That Girl</td>\n      <td>NaN</td>\n    </tr>\n    <tr>\n      <th>280</th>\n      <td>You've Got to Hide Your Love Away</td>\n      <td>NaN</td>\n    </tr>\n    <tr>\n      <th>283</th>\n      <td>Your Mother Should Know</td>\n      <td>NaN</td>\n    </tr>\n  </tbody>\n</table>\n<p>218 rows × 2 columns</p>\n</div>"
     },
     "metadata": {},
     "output_type": "display_data"
    }
   ],
   "source": [
    "display(songs.loc[songs['Cover'].isnull(), ['Title', 'Cover']])"
   ],
   "metadata": {
    "collapsed": false,
    "ExecuteTime": {
     "end_time": "2023-09-16T13:08:57.227679800Z",
     "start_time": "2023-09-16T13:08:57.199248600Z"
    }
   },
   "id": "4d5e0f09cecd8344"
  },
  {
   "cell_type": "code",
   "execution_count": 61,
   "outputs": [],
   "source": [
    "row_indexer = songs['Cover'].isnull()\n",
    "column_indexer = songs.columns.to_list().index('Cover')\n",
    "songs.iloc[row_indexer, column_indexer] = 'N'"
   ],
   "metadata": {
    "collapsed": false,
    "ExecuteTime": {
     "end_time": "2023-09-16T13:16:22.005923100Z",
     "start_time": "2023-09-16T13:16:21.966188Z"
    }
   },
   "id": "9a8b7aea6a6b9e67"
  },
  {
   "cell_type": "code",
   "execution_count": 62,
   "outputs": [
    {
     "data": {
      "text/plain": "                                                 Title Cover\n0    (You're So Square) Baby I Don't Care - Studio Jam     N\n1                                      12-bar Original     N\n2                                    A Day in the Life     N\n3                                   A Hard Day's Night     N\n6                                  Across the Universe     N\n..                                                 ...   ...\n277                                   You Won't See Me     N\n278                                     You'll Be Mine     N\n279                     You're Going to Lose That Girl     N\n280                  You've Got to Hide Your Love Away     N\n283                            Your Mother Should Know     N\n\n[218 rows x 2 columns]",
      "text/html": "<div>\n<style scoped>\n    .dataframe tbody tr th:only-of-type {\n        vertical-align: middle;\n    }\n\n    .dataframe tbody tr th {\n        vertical-align: top;\n    }\n\n    .dataframe thead th {\n        text-align: right;\n    }\n</style>\n<table border=\"1\" class=\"dataframe\">\n  <thead>\n    <tr style=\"text-align: right;\">\n      <th></th>\n      <th>Title</th>\n      <th>Cover</th>\n    </tr>\n  </thead>\n  <tbody>\n    <tr>\n      <th>0</th>\n      <td>(You're So Square) Baby I Don't Care - Studio Jam</td>\n      <td>N</td>\n    </tr>\n    <tr>\n      <th>1</th>\n      <td>12-bar Original</td>\n      <td>N</td>\n    </tr>\n    <tr>\n      <th>2</th>\n      <td>A Day in the Life</td>\n      <td>N</td>\n    </tr>\n    <tr>\n      <th>3</th>\n      <td>A Hard Day's Night</td>\n      <td>N</td>\n    </tr>\n    <tr>\n      <th>6</th>\n      <td>Across the Universe</td>\n      <td>N</td>\n    </tr>\n    <tr>\n      <th>...</th>\n      <td>...</td>\n      <td>...</td>\n    </tr>\n    <tr>\n      <th>277</th>\n      <td>You Won't See Me</td>\n      <td>N</td>\n    </tr>\n    <tr>\n      <th>278</th>\n      <td>You'll Be Mine</td>\n      <td>N</td>\n    </tr>\n    <tr>\n      <th>279</th>\n      <td>You're Going to Lose That Girl</td>\n      <td>N</td>\n    </tr>\n    <tr>\n      <th>280</th>\n      <td>You've Got to Hide Your Love Away</td>\n      <td>N</td>\n    </tr>\n    <tr>\n      <th>283</th>\n      <td>Your Mother Should Know</td>\n      <td>N</td>\n    </tr>\n  </tbody>\n</table>\n<p>218 rows × 2 columns</p>\n</div>"
     },
     "metadata": {},
     "output_type": "display_data"
    }
   ],
   "source": [
    "display(songs.loc[songs['Cover'] == 'N', ['Title', 'Cover']])"
   ],
   "metadata": {
    "collapsed": false,
    "ExecuteTime": {
     "end_time": "2023-09-16T13:16:56.481140700Z",
     "start_time": "2023-09-16T13:16:56.440977900Z"
    }
   },
   "id": "ed72df377d77ced6"
  },
  {
   "cell_type": "markdown",
   "source": [
    "Save the new version of the dataset, *The Beatles songs dataset, 284x45, v9.csv*."
   ],
   "metadata": {
    "collapsed": false
   },
   "id": "5c9fb4ee19bd729d"
  },
  {
   "cell_type": "code",
   "execution_count": 63,
   "outputs": [],
   "source": [
    "songs.to_csv('../data/The Beatles songs dataset, 284x45, v9.csv', index=False)"
   ],
   "metadata": {
    "collapsed": false,
    "ExecuteTime": {
     "end_time": "2023-09-16T13:19:45.963071400Z",
     "start_time": "2023-09-16T13:19:45.935111300Z"
    }
   },
   "id": "f168b782b9c195e2"
  },
  {
   "cell_type": "markdown",
   "source": [
    "After double-checking manually, the *Cover* value for some songs are set back to 'Y'."
   ],
   "metadata": {
    "collapsed": false
   },
   "id": "9ed889e9d3d8c464"
  },
  {
   "cell_type": "code",
   "execution_count": 64,
   "outputs": [],
   "source": [
    "row_indexer = [0, 28, 82, 159, 168, ]\n",
    "column_indexer = songs.columns.to_list().index('Cover')\n",
    "songs.iloc[row_indexer, column_indexer] = 'Y'"
   ],
   "metadata": {
    "collapsed": false,
    "ExecuteTime": {
     "end_time": "2023-09-16T13:31:43.869099100Z",
     "start_time": "2023-09-16T13:31:43.827049200Z"
    }
   },
   "id": "6e08b467bc9c0e9a"
  },
  {
   "cell_type": "code",
   "execution_count": 66,
   "outputs": [],
   "source": [
    "songs.to_csv('../data/The Beatles songs dataset, 284x45, v9.csv', index=False)"
   ],
   "metadata": {
    "collapsed": false,
    "ExecuteTime": {
     "end_time": "2023-09-16T13:32:14.064093200Z",
     "start_time": "2023-09-16T13:32:14.037142200Z"
    }
   },
   "id": "406bfa9614672f41"
  },
  {
   "cell_type": "markdown",
   "source": [
    "All missing values for `Covered by` are set to 0 (also double-checked manually).\n",
    "All missing values in columns `Chart position UK (Wikipedia)` : `Top 50 (Vulture, by Bill Wyman)` are set to 0."
   ],
   "metadata": {
    "collapsed": false
   },
   "id": "d5497125289cb64c"
  },
  {
   "cell_type": "markdown",
   "source": [
    "##### *Covered by*\n",
    "All missing values for `Covered by` are set to 0 (and also double-checked manually). This includes also special cases when a song performed by The Beatles was a cover itself (e.g., *Anna*) - only the covers of *original* Beatles songs are taken into account in *Covered by*."
   ],
   "metadata": {
    "collapsed": false
   },
   "id": "1cd7f3deb443961"
  },
  {
   "cell_type": "code",
   "execution_count": 67,
   "outputs": [],
   "source": [
    "songs = pd.read_csv('../data/The Beatles songs dataset, 284x45, v9.csv')"
   ],
   "metadata": {
    "collapsed": false,
    "ExecuteTime": {
     "end_time": "2023-09-16T13:39:51.357519400Z",
     "start_time": "2023-09-16T13:39:51.348463600Z"
    }
   },
   "id": "55036a9d74a99d17"
  },
  {
   "cell_type": "markdown",
   "source": [
    "How many songs miss the value for *Covered by*?"
   ],
   "metadata": {
    "collapsed": false
   },
   "id": "dd5a041638b94dbc"
  },
  {
   "cell_type": "code",
   "execution_count": 68,
   "outputs": [
    {
     "data": {
      "text/plain": "URI                                      0\nTitle                                    0\nYear                                     0\nAlbum                                    0\nPopularity                               0\nDuration                                 0\nKey                                      0\nMode                                     0\nTempo                                    0\nTime_signature                           0\nValence                                  0\nDanceability                             0\nEnergy                                   0\nLoudness                                 0\nAcousticness                             0\nInstrumentalness                         0\nLiveness                                 0\nSpeechiness                              0\nAlbum debut                              0\nOther releases                           0\nSingle A side                          194\nSingle B side                          194\nSingle certification                   234\nGenre                                    0\nStyles                                   0\nThemes                                   0\nMoods                                    0\nSongwriter(s)                            0\nLead vocal(s)                            0\nCover                                    0\nCovered by                             102\nChart position UK (Wikipedia)          239\nChart position US (Wikipedia)          217\nHighest position (The Guardian)        253\nWeeks on chart in UK (The Guardian)    253\nWeeks at No1 in UK (The Guardian)      268\nHighest position (Billboard)           235\nWeeks at No1 (Billboard)               269\nTop 50 (Billboard)                     235\nTop 50 (Ultimate classic rock)         235\nTop 50 (Rolling Stone)                 235\nTop 50 (NME)                           235\nTop 50 (Top50songs.org)                234\nTop 50 (USA today, 2017)               234\nTop 50 (Vulture, by Bill Wyman)        242\ndtype: int64"
     },
     "metadata": {},
     "output_type": "display_data"
    },
    {
     "data": {
      "text/plain": "102"
     },
     "metadata": {},
     "output_type": "display_data"
    }
   ],
   "source": [
    "display(songs.isnull().sum())\n",
    "display(songs['Covered by'].isnull().sum())"
   ],
   "metadata": {
    "collapsed": false,
    "ExecuteTime": {
     "end_time": "2023-09-16T13:39:53.997463400Z",
     "start_time": "2023-09-16T13:39:53.974482600Z"
    }
   },
   "id": "e2f87daf757c6403"
  },
  {
   "cell_type": "markdown",
   "source": [
    "What are these songs?"
   ],
   "metadata": {
    "collapsed": false
   },
   "id": "684a231ab6075caa"
  },
  {
   "cell_type": "code",
   "execution_count": 69,
   "outputs": [
    {
     "data": {
      "text/plain": "                                                 Title  Covered by\n0    (You're So Square) Baby I Don't Care - Studio Jam         NaN\n1                                      12-bar Original         NaN\n4                           A Shot of Rhythm and Blues         NaN\n5                                     A Taste of Honey         NaN\n7                                        Act Naturally         NaN\n..                                                 ...         ...\n274                                You Know What to Do         NaN\n275                               You Like Me Too Much         NaN\n278                                     You'll Be Mine         NaN\n281                     You've Really Got a Hold on Me         NaN\n282                                        Young Blood         NaN\n\n[102 rows x 2 columns]",
      "text/html": "<div>\n<style scoped>\n    .dataframe tbody tr th:only-of-type {\n        vertical-align: middle;\n    }\n\n    .dataframe tbody tr th {\n        vertical-align: top;\n    }\n\n    .dataframe thead th {\n        text-align: right;\n    }\n</style>\n<table border=\"1\" class=\"dataframe\">\n  <thead>\n    <tr style=\"text-align: right;\">\n      <th></th>\n      <th>Title</th>\n      <th>Covered by</th>\n    </tr>\n  </thead>\n  <tbody>\n    <tr>\n      <th>0</th>\n      <td>(You're So Square) Baby I Don't Care - Studio Jam</td>\n      <td>NaN</td>\n    </tr>\n    <tr>\n      <th>1</th>\n      <td>12-bar Original</td>\n      <td>NaN</td>\n    </tr>\n    <tr>\n      <th>4</th>\n      <td>A Shot of Rhythm and Blues</td>\n      <td>NaN</td>\n    </tr>\n    <tr>\n      <th>5</th>\n      <td>A Taste of Honey</td>\n      <td>NaN</td>\n    </tr>\n    <tr>\n      <th>7</th>\n      <td>Act Naturally</td>\n      <td>NaN</td>\n    </tr>\n    <tr>\n      <th>...</th>\n      <td>...</td>\n      <td>...</td>\n    </tr>\n    <tr>\n      <th>274</th>\n      <td>You Know What to Do</td>\n      <td>NaN</td>\n    </tr>\n    <tr>\n      <th>275</th>\n      <td>You Like Me Too Much</td>\n      <td>NaN</td>\n    </tr>\n    <tr>\n      <th>278</th>\n      <td>You'll Be Mine</td>\n      <td>NaN</td>\n    </tr>\n    <tr>\n      <th>281</th>\n      <td>You've Really Got a Hold on Me</td>\n      <td>NaN</td>\n    </tr>\n    <tr>\n      <th>282</th>\n      <td>Young Blood</td>\n      <td>NaN</td>\n    </tr>\n  </tbody>\n</table>\n<p>102 rows × 2 columns</p>\n</div>"
     },
     "metadata": {},
     "output_type": "display_data"
    }
   ],
   "source": [
    "display(songs.loc[songs['Covered by'].isnull(), ['Title', 'Covered by']])"
   ],
   "metadata": {
    "collapsed": false,
    "ExecuteTime": {
     "end_time": "2023-09-16T13:40:24.254116400Z",
     "start_time": "2023-09-16T13:40:24.217949600Z"
    }
   },
   "id": "c3353c1f6cff280e"
  },
  {
   "cell_type": "code",
   "execution_count": 70,
   "outputs": [],
   "source": [
    "row_indexer = songs['Covered by'].isnull()\n",
    "column_indexer = songs.columns.to_list().index('Covered by')\n",
    "songs.iloc[row_indexer, column_indexer] = 0"
   ],
   "metadata": {
    "collapsed": false,
    "ExecuteTime": {
     "end_time": "2023-09-16T13:45:21.458394500Z",
     "start_time": "2023-09-16T13:45:21.424640600Z"
    }
   },
   "id": "c3710dfb5314a139"
  },
  {
   "cell_type": "code",
   "execution_count": 71,
   "outputs": [
    {
     "data": {
      "text/plain": "                                                 Title  Covered by\n0    (You're So Square) Baby I Don't Care - Studio Jam         0.0\n1                                      12-bar Original         0.0\n4                           A Shot of Rhythm and Blues         0.0\n5                                     A Taste of Honey         0.0\n7                                        Act Naturally         0.0\n..                                                 ...         ...\n274                                You Know What to Do         0.0\n275                               You Like Me Too Much         0.0\n278                                     You'll Be Mine         0.0\n281                     You've Really Got a Hold on Me         0.0\n282                                        Young Blood         0.0\n\n[102 rows x 2 columns]",
      "text/html": "<div>\n<style scoped>\n    .dataframe tbody tr th:only-of-type {\n        vertical-align: middle;\n    }\n\n    .dataframe tbody tr th {\n        vertical-align: top;\n    }\n\n    .dataframe thead th {\n        text-align: right;\n    }\n</style>\n<table border=\"1\" class=\"dataframe\">\n  <thead>\n    <tr style=\"text-align: right;\">\n      <th></th>\n      <th>Title</th>\n      <th>Covered by</th>\n    </tr>\n  </thead>\n  <tbody>\n    <tr>\n      <th>0</th>\n      <td>(You're So Square) Baby I Don't Care - Studio Jam</td>\n      <td>0.0</td>\n    </tr>\n    <tr>\n      <th>1</th>\n      <td>12-bar Original</td>\n      <td>0.0</td>\n    </tr>\n    <tr>\n      <th>4</th>\n      <td>A Shot of Rhythm and Blues</td>\n      <td>0.0</td>\n    </tr>\n    <tr>\n      <th>5</th>\n      <td>A Taste of Honey</td>\n      <td>0.0</td>\n    </tr>\n    <tr>\n      <th>7</th>\n      <td>Act Naturally</td>\n      <td>0.0</td>\n    </tr>\n    <tr>\n      <th>...</th>\n      <td>...</td>\n      <td>...</td>\n    </tr>\n    <tr>\n      <th>274</th>\n      <td>You Know What to Do</td>\n      <td>0.0</td>\n    </tr>\n    <tr>\n      <th>275</th>\n      <td>You Like Me Too Much</td>\n      <td>0.0</td>\n    </tr>\n    <tr>\n      <th>278</th>\n      <td>You'll Be Mine</td>\n      <td>0.0</td>\n    </tr>\n    <tr>\n      <th>281</th>\n      <td>You've Really Got a Hold on Me</td>\n      <td>0.0</td>\n    </tr>\n    <tr>\n      <th>282</th>\n      <td>Young Blood</td>\n      <td>0.0</td>\n    </tr>\n  </tbody>\n</table>\n<p>102 rows × 2 columns</p>\n</div>"
     },
     "metadata": {},
     "output_type": "display_data"
    }
   ],
   "source": [
    "display(songs.loc[songs['Covered by'] == 0, ['Title', 'Covered by']])"
   ],
   "metadata": {
    "collapsed": false,
    "ExecuteTime": {
     "end_time": "2023-09-16T13:45:24.345837100Z",
     "start_time": "2023-09-16T13:45:24.312624200Z"
    }
   },
   "id": "53e95c1f97dd7911"
  },
  {
   "cell_type": "markdown",
   "source": [
    "Save the new version of the dataset, *The Beatles songs dataset, 284x45, v10.csv*."
   ],
   "metadata": {
    "collapsed": false
   },
   "id": "b45161c38bb641c5"
  },
  {
   "cell_type": "code",
   "execution_count": 72,
   "outputs": [],
   "source": [
    "songs.to_csv('../data/The Beatles songs dataset, 284x45, v10.csv', index=False)"
   ],
   "metadata": {
    "collapsed": false,
    "ExecuteTime": {
     "end_time": "2023-09-16T13:46:04.851669400Z",
     "start_time": "2023-09-16T13:46:04.816753900Z"
    }
   },
   "id": "b1084c0b565fbdae"
  },
  {
   "cell_type": "markdown",
   "source": [
    "After double-checking manually, the *Covered by* value for all songs has been found to be correct."
   ],
   "metadata": {
    "collapsed": false
   },
   "id": "b100cc480b3707db"
  },
  {
   "cell_type": "markdown",
   "source": [
    "### *Chart position UK (Wikipedia)* to *Top 50 (Vulture, by Bill Wyman)*\n",
    "All missing values in columns `Chart position UK (Wikipedia)` to `Top 50 (Vulture, by Bill Wyman)` are set to 0."
   ],
   "metadata": {
    "collapsed": false
   },
   "id": "31793107d9f9d854"
  },
  {
   "cell_type": "code",
   "execution_count": 90,
   "outputs": [],
   "source": [
    "songs = pd.read_csv('../data/The Beatles songs dataset, 284x45, v10.csv')"
   ],
   "metadata": {
    "collapsed": false,
    "ExecuteTime": {
     "end_time": "2023-09-16T14:41:24.888398800Z",
     "start_time": "2023-09-16T14:41:24.855736800Z"
    }
   },
   "id": "cf059665f92b62d2"
  },
  {
   "cell_type": "code",
   "execution_count": 91,
   "outputs": [],
   "source": [
    "# display(songs['Chart position UK (Wikipedia)'].isnull().sum())\n",
    "row_indexer = songs['Chart position UK (Wikipedia)'].isnull()\n",
    "column_indexer = songs.columns.to_list().index('Chart position UK (Wikipedia)')\n",
    "songs.iloc[row_indexer, column_indexer] = 0\n",
    "# display(songs['Chart position UK (Wikipedia)'].isnull().sum())\n",
    "\n",
    "# display(songs['Chart position US (Wikipedia)'].isnull().sum())\n",
    "row_indexer = songs['Chart position US (Wikipedia)'].isnull()\n",
    "column_indexer = songs.columns.to_list().index('Chart position US (Wikipedia)')\n",
    "songs.iloc[row_indexer, column_indexer] = 0\n",
    "# display(songs['Chart position US (Wikipedia)'].isnull().sum())\n",
    "\n",
    "# display(songs['Highest position (The Guardian)'].isnull().sum())\n",
    "row_indexer = songs['Highest position (The Guardian)'].isnull()\n",
    "column_indexer = songs.columns.to_list().index('Highest position (The Guardian)')\n",
    "songs.iloc[row_indexer, column_indexer] = 0\n",
    "# display(songs['Highest position (The Guardian)'].isnull().sum())\n",
    "\n",
    "# display(songs['Weeks on chart in UK (The Guardian)'].isnull().sum())\n",
    "row_indexer = songs['Weeks on chart in UK (The Guardian)'].isnull()\n",
    "column_indexer = songs.columns.to_list().index('Weeks on chart in UK (The Guardian)')\n",
    "songs.iloc[row_indexer, column_indexer] = 0\n",
    "# display(songs['Weeks on chart in UK (The Guardian)'].isnull().sum())\n",
    "\n",
    "# display(songs['Weeks at No1 in UK (The Guardian)'].isnull().sum())\n",
    "row_indexer = songs['Weeks at No1 in UK (The Guardian)'].isnull()\n",
    "column_indexer = songs.columns.to_list().index('Weeks at No1 in UK (The Guardian)')\n",
    "songs.iloc[row_indexer, column_indexer] = 0\n",
    "# display(songs['Weeks at No1 in UK (The Guardian)'].isnull().sum())\n",
    "\n",
    "# display(songs['Highest position (Billboard)'].isnull().sum())\n",
    "row_indexer = songs['Highest position (Billboard)'].isnull()\n",
    "column_indexer = songs.columns.to_list().index('Highest position (Billboard)')\n",
    "songs.iloc[row_indexer, column_indexer] = 0\n",
    "# display(songs['Highest position (Billboard)'].isnull().sum())\n",
    "\n",
    "# display(songs['Weeks at No1 (Billboard)'].isnull().sum())\n",
    "row_indexer = songs['Weeks at No1 (Billboard)'].isnull()\n",
    "column_indexer = songs.columns.to_list().index('Weeks at No1 (Billboard)')\n",
    "songs.iloc[row_indexer, column_indexer] = 0\n",
    "# display(songs['Weeks at No1 (Billboard)'].isnull().sum())\n",
    "\n",
    "# display(songs['Top 50 (Billboard)'].isnull().sum())\n",
    "row_indexer = songs['Top 50 (Billboard)'].isnull()\n",
    "column_indexer = songs.columns.to_list().index('Top 50 (Billboard)')\n",
    "songs.iloc[row_indexer, column_indexer] = 0\n",
    "# display(songs['Top 50 (Billboard)'].isnull().sum())\n",
    "\n",
    "# display(songs['Top 50 (Ultimate classic rock)'].isnull().sum())\n",
    "row_indexer = songs['Top 50 (Ultimate classic rock)'].isnull()\n",
    "column_indexer = songs.columns.to_list().index('Top 50 (Ultimate classic rock)')\n",
    "songs.iloc[row_indexer, column_indexer] = 0\n",
    "# display(songs['Top 50 (Ultimate classic rock)'].isnull().sum())\n",
    "\n",
    "# display(songs['Top 50 (Rolling Stone)'].isnull().sum())\n",
    "row_indexer = songs['Top 50 (Rolling Stone)'].isnull()\n",
    "column_indexer = songs.columns.to_list().index('Top 50 (Rolling Stone)')\n",
    "songs.iloc[row_indexer, column_indexer] = 0\n",
    "# display(songs['Top 50 (Rolling Stone)'].isnull().sum())\n",
    "\n",
    "# display(songs['Top 50 (NME)'].isnull().sum())\n",
    "row_indexer = songs['Top 50 (NME)'].isnull()\n",
    "column_indexer = songs.columns.to_list().index('Top 50 (NME)')\n",
    "songs.iloc[row_indexer, column_indexer] = 0\n",
    "# display(songs['Top 50 (NME)'].isnull().sum())\n",
    "\n",
    "# display(songs['Top 50 (Top50songs.org)'].isnull().sum())\n",
    "row_indexer = songs['Top 50 (Top50songs.org)'].isnull()\n",
    "column_indexer = songs.columns.to_list().index('Top 50 (Top50songs.org)')\n",
    "songs.iloc[row_indexer, column_indexer] = 0\n",
    "# display(songs['Top 50 (Top50songs.org)'].isnull().sum())\n",
    "\n",
    "# display(songs['Top 50 (USA today, 2017)'].isnull().sum())\n",
    "row_indexer = songs['Top 50 (USA today, 2017)'].isnull()\n",
    "column_indexer = songs.columns.to_list().index('Top 50 (USA today, 2017)')\n",
    "songs.iloc[row_indexer, column_indexer] = 0\n",
    "# display(songs['Top 50 (USA today, 2017)'].isnull().sum())\n",
    "\n",
    "# display(songs['Top 50 (Vulture, by Bill Wyman)'].isnull().sum())\n",
    "row_indexer = songs['Top 50 (Vulture, by Bill Wyman)'].isnull()\n",
    "column_indexer = songs.columns.to_list().index('Top 50 (Vulture, by Bill Wyman)')\n",
    "songs.iloc[row_indexer, column_indexer] = 0\n",
    "# display(songs['Top 50 (Vulture, by Bill Wyman)'].isnull().sum())\n"
   ],
   "metadata": {
    "collapsed": false,
    "ExecuteTime": {
     "end_time": "2023-09-16T14:41:28.217498400Z",
     "start_time": "2023-09-16T14:41:28.199643400Z"
    }
   },
   "id": "3d2923669ff0ce88"
  },
  {
   "cell_type": "code",
   "execution_count": 93,
   "outputs": [
    {
     "data": {
      "text/plain": "URI                                      0\nTitle                                    0\nYear                                     0\nAlbum                                    0\nPopularity                               0\nDuration                                 0\nKey                                      0\nMode                                     0\nTempo                                    0\nTime_signature                           0\nValence                                  0\nDanceability                             0\nEnergy                                   0\nLoudness                                 0\nAcousticness                             0\nInstrumentalness                         0\nLiveness                                 0\nSpeechiness                              0\nAlbum debut                              0\nOther releases                           0\nSingle A side                          194\nSingle B side                          194\nSingle certification                   234\nGenre                                    0\nStyles                                   0\nThemes                                   0\nMoods                                    0\nSongwriter(s)                            0\nLead vocal(s)                            0\nCover                                    0\nCovered by                               0\nChart position UK (Wikipedia)            0\nChart position US (Wikipedia)            0\nHighest position (The Guardian)          0\nWeeks on chart in UK (The Guardian)      0\nWeeks at No1 in UK (The Guardian)        0\nHighest position (Billboard)             0\nWeeks at No1 (Billboard)                 0\nTop 50 (Billboard)                       0\nTop 50 (Ultimate classic rock)           0\nTop 50 (Rolling Stone)                   0\nTop 50 (NME)                             0\nTop 50 (Top50songs.org)                  0\nTop 50 (USA today, 2017)                 0\nTop 50 (Vulture, by Bill Wyman)          0\ndtype: int64"
     },
     "execution_count": 93,
     "metadata": {},
     "output_type": "execute_result"
    }
   ],
   "source": [
    "songs.isnull().sum()"
   ],
   "metadata": {
    "collapsed": false,
    "ExecuteTime": {
     "end_time": "2023-09-16T14:42:11.612099500Z",
     "start_time": "2023-09-16T14:42:11.570265400Z"
    }
   },
   "id": "da599c6aaead74e6"
  },
  {
   "cell_type": "markdown",
   "source": [
    "Save the new version of the dataset, *The Beatles songs dataset, 284x45, v11.csv*."
   ],
   "metadata": {
    "collapsed": false
   },
   "id": "c8ee1f2222240ff3"
  },
  {
   "cell_type": "code",
   "execution_count": 94,
   "outputs": [],
   "source": [
    "songs.to_csv('../data/The Beatles songs dataset, 284x45, v11.csv', index=False)"
   ],
   "metadata": {
    "collapsed": false,
    "ExecuteTime": {
     "end_time": "2023-09-16T14:44:30.380471100Z",
     "start_time": "2023-09-16T14:44:30.334697500Z"
    }
   },
   "id": "b7c598dbca89b136"
  },
  {
   "cell_type": "markdown",
   "source": [
    "### *Single A side*, *Single B side* and *Single certification*\n",
    "All missing values in columns *Single A side*, *Single B side* and *Single certification* are set to 'N'."
   ],
   "metadata": {
    "collapsed": false
   },
   "id": "2f82368e08336fb3"
  },
  {
   "cell_type": "code",
   "execution_count": 95,
   "outputs": [],
   "source": [
    "songs = pd.read_csv('../data/The Beatles songs dataset, 284x45, v11.csv')"
   ],
   "metadata": {
    "collapsed": false,
    "ExecuteTime": {
     "end_time": "2023-09-16T15:06:34.921254600Z",
     "start_time": "2023-09-16T15:06:34.905837800Z"
    }
   },
   "id": "948510cfe5050eee"
  },
  {
   "cell_type": "code",
   "execution_count": 98,
   "outputs": [
    {
     "data": {
      "text/plain": "234"
     },
     "metadata": {},
     "output_type": "display_data"
    },
    {
     "data": {
      "text/plain": "0"
     },
     "metadata": {},
     "output_type": "display_data"
    }
   ],
   "source": [
    "# display(songs['Single A side'].isnull().sum())\n",
    "row_indexer = songs['Single A side'].isnull()\n",
    "column_indexer = songs.columns.to_list().index('Single A side')\n",
    "songs.iloc[row_indexer, column_indexer] = 'N'\n",
    "# display(songs['Single A side'].isnull().sum())\n",
    "\n",
    "# display(songs['Single B side'].isnull().sum())\n",
    "row_indexer = songs['Single B side'].isnull()\n",
    "column_indexer = songs.columns.to_list().index('Single B side')\n",
    "songs.iloc[row_indexer, column_indexer] = 'N'\n",
    "# display(songs['Single B side'].isnull().sum())\n",
    "\n",
    "# display(songs['Single certification'].isnull().sum())\n",
    "row_indexer = songs['Single certification'].isnull()\n",
    "column_indexer = songs.columns.to_list().index('Single certification')\n",
    "songs.iloc[row_indexer, column_indexer] = 'N'\n",
    "# display(songs['Single certification'].isnull().sum())"
   ],
   "metadata": {
    "collapsed": false,
    "ExecuteTime": {
     "end_time": "2023-09-16T15:10:56.187734400Z",
     "start_time": "2023-09-16T15:10:56.151975500Z"
    }
   },
   "id": "29920c3cd184f46d"
  },
  {
   "cell_type": "code",
   "execution_count": 100,
   "outputs": [
    {
     "data": {
      "text/plain": "URI                                    0\nTitle                                  0\nYear                                   0\nAlbum                                  0\nPopularity                             0\nDuration                               0\nKey                                    0\nMode                                   0\nTempo                                  0\nTime_signature                         0\nValence                                0\nDanceability                           0\nEnergy                                 0\nLoudness                               0\nAcousticness                           0\nInstrumentalness                       0\nLiveness                               0\nSpeechiness                            0\nAlbum debut                            0\nOther releases                         0\nSingle A side                          0\nSingle B side                          0\nSingle certification                   0\nGenre                                  0\nStyles                                 0\nThemes                                 0\nMoods                                  0\nSongwriter(s)                          0\nLead vocal(s)                          0\nCover                                  0\nCovered by                             0\nChart position UK (Wikipedia)          0\nChart position US (Wikipedia)          0\nHighest position (The Guardian)        0\nWeeks on chart in UK (The Guardian)    0\nWeeks at No1 in UK (The Guardian)      0\nHighest position (Billboard)           0\nWeeks at No1 (Billboard)               0\nTop 50 (Billboard)                     0\nTop 50 (Ultimate classic rock)         0\nTop 50 (Rolling Stone)                 0\nTop 50 (NME)                           0\nTop 50 (Top50songs.org)                0\nTop 50 (USA today, 2017)               0\nTop 50 (Vulture, by Bill Wyman)        0\ndtype: int64"
     },
     "metadata": {},
     "output_type": "display_data"
    }
   ],
   "source": [
    "display(songs.isnull().sum())"
   ],
   "metadata": {
    "collapsed": false,
    "ExecuteTime": {
     "end_time": "2023-09-16T15:14:03.457460900Z",
     "start_time": "2023-09-16T15:14:03.421567Z"
    }
   },
   "id": "9682f6cba512e22a"
  },
  {
   "cell_type": "markdown",
   "source": [
    "All clean :)"
   ],
   "metadata": {
    "collapsed": false
   },
   "id": "341bb2619bcdeddc"
  },
  {
   "cell_type": "markdown",
   "source": [
    "Save the new version of the dataset, *The Beatles songs dataset, 284x45, v12.csv*."
   ],
   "metadata": {
    "collapsed": false
   },
   "id": "b5e567a54fcf681d"
  },
  {
   "cell_type": "code",
   "execution_count": 99,
   "outputs": [],
   "source": [
    "songs.to_csv('../data/The Beatles songs dataset, 284x45, v12.csv', index=False)"
   ],
   "metadata": {
    "collapsed": false,
    "ExecuteTime": {
     "end_time": "2023-09-16T15:11:29.247975300Z",
     "start_time": "2023-09-16T15:11:29.168168Z"
    }
   },
   "id": "3acb835b4760aef5"
  },
  {
   "cell_type": "markdown",
   "source": [
    "### Convert charts data to have larger numbers representing higher positions on charts\n",
    "For example, No.1 on Top 50 charts should be assigned the value 50, No.2 on Top 50 charts should be assigned the value 49, and so on. This is important in building models with these data - more attention is paid to larger numbers.\n",
    "If the original value is 0 (the corresponding song did not reach Top 50), it is set to -1."
   ],
   "metadata": {
    "collapsed": false
   },
   "id": "744f17df9c1ada73"
  },
  {
   "cell_type": "code",
   "execution_count": 187,
   "outputs": [],
   "source": [
    "songs = pd.read_csv('../data/The Beatles songs dataset, 284x45, v12.csv')"
   ],
   "metadata": {
    "collapsed": false,
    "ExecuteTime": {
     "end_time": "2023-09-16T17:57:33.878896600Z",
     "start_time": "2023-09-16T17:57:33.854167600Z"
    }
   },
   "id": "ba6808da76fd2b8b"
  },
  {
   "cell_type": "code",
   "execution_count": 175,
   "outputs": [],
   "source": [
    "def convert_chart_position(df: pd.DataFrame, column: str) -> pd.DataFrame:\n",
    "    df.loc[df[column] == 0, column] = -1\n",
    "    df.loc[df[column] != -1, column] = 51 - df[column]\n",
    "    return df"
   ],
   "metadata": {
    "collapsed": false,
    "ExecuteTime": {
     "end_time": "2023-09-16T17:42:55.968799700Z",
     "start_time": "2023-09-16T17:42:55.929333Z"
    }
   },
   "id": "40e238f0eb371d76"
  },
  {
   "cell_type": "code",
   "execution_count": 188,
   "outputs": [
    {
     "data": {
      "text/plain": "                                      URI  \\\n0    spotify:track:2FDEHIMkjxFLzj688M2I3h   \n1    spotify:track:2HvTGx5fzFGpHSyRNvXd9T   \n2    spotify:track:0hKRSZhUGEhKU6aNSPBACZ   \n3    spotify:track:5J2CHimS7dWYMImCHkEFaJ   \n4    spotify:track:5RuE7nwp4TWsRvLXG7Yjy1   \n..                                    ...   \n279  spotify:track:70HNt0eoBVqr4ss68U8x3B   \n280  spotify:track:4F1AgKpuFRMLEgtPETVwZk   \n281  spotify:track:7rgUYidQh5tH0YlXCoKaYJ   \n282  spotify:track:3FuRBetiFz4ijeLdGCxQ5Y   \n283  spotify:track:1dxbAIfCASqv6jix2R1Taj   \n\n                                                 Title  Year  \\\n0    (You're So Square) Baby I Don't Care - Studio Jam  1968   \n1                                      12-bar Original  1965   \n2                                    A Day in the Life  1967   \n3                                   A Hard Day's Night  1964   \n4                           A Shot of Rhythm and Blues  1963   \n..                                                 ...   ...   \n279                     You're Going to Lose That Girl  1965   \n280                  You've Got to Hide Your Love Away  1965   \n281                     You've Really Got a Hold on Me  1963   \n282                                        Young Blood  1963   \n283                            Your Mother Should Know  1967   \n\n                                     Album  Popularity  Duration  Key  Mode  \\\n0                              The Beatles          29        43    9     1   \n1                              Anthology 2          31       175    9     1   \n2    Sgt. Pepper's Lonely Hearts Club Band          65       335    4     0   \n3                       A Hard Day's Night          71       152    0     1   \n4                          Live at the BBC          35       136    2     1   \n..                                     ...         ...       ...  ...   ...   \n279                                  Help!          57       140    4     1   \n280                                  Help!          73       131    7     1   \n281                       With the Beatles          54       182    9     1   \n282                        Live at the BBC          29       116    2     1   \n283                   Magical Mystery Tour          58       149    0     1   \n\n       Tempo  Time_signature  ...  Weeks at No1 in UK (The Guardian)  \\\n0    112.173               4  ...                                0.0   \n1    122.678               4  ...                                0.0   \n2    163.219               4  ...                                0.0   \n3    138.514               4  ...                                3.0   \n4    128.919               4  ...                                0.0   \n..       ...             ...  ...                                ...   \n279  131.975               4  ...                                0.0   \n280  184.267               3  ...                                0.0   \n281   77.643               4  ...                                0.0   \n282   68.111               4  ...                                0.0   \n283  117.613               4  ...                                0.0   \n\n     Highest position (Billboard)  Weeks at No1 (Billboard)  \\\n0                             0.0                       0.0   \n1                             0.0                       0.0   \n2                             0.0                       0.0   \n3                             1.0                       2.0   \n4                             0.0                       0.0   \n..                            ...                       ...   \n279                           0.0                       0.0   \n280                           0.0                       0.0   \n281                           0.0                       0.0   \n282                           0.0                       0.0   \n283                           0.0                       0.0   \n\n     Top 50 (Billboard)  Top 50 (Ultimate classic rock)  \\\n0                  -1.0                            -1.0   \n1                  -1.0                            -1.0   \n2                  -1.0                            50.0   \n3                  43.0                            33.0   \n4                  -1.0                            -1.0   \n..                  ...                             ...   \n279                -1.0                            -1.0   \n280                -1.0                             9.0   \n281                -1.0                            -1.0   \n282                -1.0                            -1.0   \n283                -1.0                            -1.0   \n\n     Top 50 (Rolling Stone)  Top 50 (NME)  Top 50 (Top50songs.org)  \\\n0                      -1.0          -1.0                     -1.0   \n1                      -1.0          -1.0                     -1.0   \n2                      50.0          49.0                     33.0   \n3                      40.0          32.0                     32.0   \n4                      -1.0          -1.0                     -1.0   \n..                      ...           ...                      ...   \n279                    24.0          -1.0                     -1.0   \n280                    20.0           2.0                     -1.0   \n281                    -1.0          -1.0                     -1.0   \n282                    -1.0          -1.0                     -1.0   \n283                    -1.0          -1.0                     -1.0   \n\n    Top 50 (USA today, 2017)  Top 50 (Vulture, by Bill Wyman)  \n0                       -1.0                             -1.0  \n1                       -1.0                             -1.0  \n2                       50.0                             50.0  \n3                       36.0                             10.0  \n4                       -1.0                             -1.0  \n..                       ...                              ...  \n279                     -1.0                             -1.0  \n280                     14.0                              5.0  \n281                     -1.0                             -1.0  \n282                     -1.0                             -1.0  \n283                     -1.0                             -1.0  \n\n[284 rows x 45 columns]",
      "text/html": "<div>\n<style scoped>\n    .dataframe tbody tr th:only-of-type {\n        vertical-align: middle;\n    }\n\n    .dataframe tbody tr th {\n        vertical-align: top;\n    }\n\n    .dataframe thead th {\n        text-align: right;\n    }\n</style>\n<table border=\"1\" class=\"dataframe\">\n  <thead>\n    <tr style=\"text-align: right;\">\n      <th></th>\n      <th>URI</th>\n      <th>Title</th>\n      <th>Year</th>\n      <th>Album</th>\n      <th>Popularity</th>\n      <th>Duration</th>\n      <th>Key</th>\n      <th>Mode</th>\n      <th>Tempo</th>\n      <th>Time_signature</th>\n      <th>...</th>\n      <th>Weeks at No1 in UK (The Guardian)</th>\n      <th>Highest position (Billboard)</th>\n      <th>Weeks at No1 (Billboard)</th>\n      <th>Top 50 (Billboard)</th>\n      <th>Top 50 (Ultimate classic rock)</th>\n      <th>Top 50 (Rolling Stone)</th>\n      <th>Top 50 (NME)</th>\n      <th>Top 50 (Top50songs.org)</th>\n      <th>Top 50 (USA today, 2017)</th>\n      <th>Top 50 (Vulture, by Bill Wyman)</th>\n    </tr>\n  </thead>\n  <tbody>\n    <tr>\n      <th>0</th>\n      <td>spotify:track:2FDEHIMkjxFLzj688M2I3h</td>\n      <td>(You're So Square) Baby I Don't Care - Studio Jam</td>\n      <td>1968</td>\n      <td>The Beatles</td>\n      <td>29</td>\n      <td>43</td>\n      <td>9</td>\n      <td>1</td>\n      <td>112.173</td>\n      <td>4</td>\n      <td>...</td>\n      <td>0.0</td>\n      <td>0.0</td>\n      <td>0.0</td>\n      <td>-1.0</td>\n      <td>-1.0</td>\n      <td>-1.0</td>\n      <td>-1.0</td>\n      <td>-1.0</td>\n      <td>-1.0</td>\n      <td>-1.0</td>\n    </tr>\n    <tr>\n      <th>1</th>\n      <td>spotify:track:2HvTGx5fzFGpHSyRNvXd9T</td>\n      <td>12-bar Original</td>\n      <td>1965</td>\n      <td>Anthology 2</td>\n      <td>31</td>\n      <td>175</td>\n      <td>9</td>\n      <td>1</td>\n      <td>122.678</td>\n      <td>4</td>\n      <td>...</td>\n      <td>0.0</td>\n      <td>0.0</td>\n      <td>0.0</td>\n      <td>-1.0</td>\n      <td>-1.0</td>\n      <td>-1.0</td>\n      <td>-1.0</td>\n      <td>-1.0</td>\n      <td>-1.0</td>\n      <td>-1.0</td>\n    </tr>\n    <tr>\n      <th>2</th>\n      <td>spotify:track:0hKRSZhUGEhKU6aNSPBACZ</td>\n      <td>A Day in the Life</td>\n      <td>1967</td>\n      <td>Sgt. Pepper's Lonely Hearts Club Band</td>\n      <td>65</td>\n      <td>335</td>\n      <td>4</td>\n      <td>0</td>\n      <td>163.219</td>\n      <td>4</td>\n      <td>...</td>\n      <td>0.0</td>\n      <td>0.0</td>\n      <td>0.0</td>\n      <td>-1.0</td>\n      <td>50.0</td>\n      <td>50.0</td>\n      <td>49.0</td>\n      <td>33.0</td>\n      <td>50.0</td>\n      <td>50.0</td>\n    </tr>\n    <tr>\n      <th>3</th>\n      <td>spotify:track:5J2CHimS7dWYMImCHkEFaJ</td>\n      <td>A Hard Day's Night</td>\n      <td>1964</td>\n      <td>A Hard Day's Night</td>\n      <td>71</td>\n      <td>152</td>\n      <td>0</td>\n      <td>1</td>\n      <td>138.514</td>\n      <td>4</td>\n      <td>...</td>\n      <td>3.0</td>\n      <td>1.0</td>\n      <td>2.0</td>\n      <td>43.0</td>\n      <td>33.0</td>\n      <td>40.0</td>\n      <td>32.0</td>\n      <td>32.0</td>\n      <td>36.0</td>\n      <td>10.0</td>\n    </tr>\n    <tr>\n      <th>4</th>\n      <td>spotify:track:5RuE7nwp4TWsRvLXG7Yjy1</td>\n      <td>A Shot of Rhythm and Blues</td>\n      <td>1963</td>\n      <td>Live at the BBC</td>\n      <td>35</td>\n      <td>136</td>\n      <td>2</td>\n      <td>1</td>\n      <td>128.919</td>\n      <td>4</td>\n      <td>...</td>\n      <td>0.0</td>\n      <td>0.0</td>\n      <td>0.0</td>\n      <td>-1.0</td>\n      <td>-1.0</td>\n      <td>-1.0</td>\n      <td>-1.0</td>\n      <td>-1.0</td>\n      <td>-1.0</td>\n      <td>-1.0</td>\n    </tr>\n    <tr>\n      <th>...</th>\n      <td>...</td>\n      <td>...</td>\n      <td>...</td>\n      <td>...</td>\n      <td>...</td>\n      <td>...</td>\n      <td>...</td>\n      <td>...</td>\n      <td>...</td>\n      <td>...</td>\n      <td>...</td>\n      <td>...</td>\n      <td>...</td>\n      <td>...</td>\n      <td>...</td>\n      <td>...</td>\n      <td>...</td>\n      <td>...</td>\n      <td>...</td>\n      <td>...</td>\n      <td>...</td>\n    </tr>\n    <tr>\n      <th>279</th>\n      <td>spotify:track:70HNt0eoBVqr4ss68U8x3B</td>\n      <td>You're Going to Lose That Girl</td>\n      <td>1965</td>\n      <td>Help!</td>\n      <td>57</td>\n      <td>140</td>\n      <td>4</td>\n      <td>1</td>\n      <td>131.975</td>\n      <td>4</td>\n      <td>...</td>\n      <td>0.0</td>\n      <td>0.0</td>\n      <td>0.0</td>\n      <td>-1.0</td>\n      <td>-1.0</td>\n      <td>24.0</td>\n      <td>-1.0</td>\n      <td>-1.0</td>\n      <td>-1.0</td>\n      <td>-1.0</td>\n    </tr>\n    <tr>\n      <th>280</th>\n      <td>spotify:track:4F1AgKpuFRMLEgtPETVwZk</td>\n      <td>You've Got to Hide Your Love Away</td>\n      <td>1965</td>\n      <td>Help!</td>\n      <td>73</td>\n      <td>131</td>\n      <td>7</td>\n      <td>1</td>\n      <td>184.267</td>\n      <td>3</td>\n      <td>...</td>\n      <td>0.0</td>\n      <td>0.0</td>\n      <td>0.0</td>\n      <td>-1.0</td>\n      <td>9.0</td>\n      <td>20.0</td>\n      <td>2.0</td>\n      <td>-1.0</td>\n      <td>14.0</td>\n      <td>5.0</td>\n    </tr>\n    <tr>\n      <th>281</th>\n      <td>spotify:track:7rgUYidQh5tH0YlXCoKaYJ</td>\n      <td>You've Really Got a Hold on Me</td>\n      <td>1963</td>\n      <td>With the Beatles</td>\n      <td>54</td>\n      <td>182</td>\n      <td>9</td>\n      <td>1</td>\n      <td>77.643</td>\n      <td>4</td>\n      <td>...</td>\n      <td>0.0</td>\n      <td>0.0</td>\n      <td>0.0</td>\n      <td>-1.0</td>\n      <td>-1.0</td>\n      <td>-1.0</td>\n      <td>-1.0</td>\n      <td>-1.0</td>\n      <td>-1.0</td>\n      <td>-1.0</td>\n    </tr>\n    <tr>\n      <th>282</th>\n      <td>spotify:track:3FuRBetiFz4ijeLdGCxQ5Y</td>\n      <td>Young Blood</td>\n      <td>1963</td>\n      <td>Live at the BBC</td>\n      <td>29</td>\n      <td>116</td>\n      <td>2</td>\n      <td>1</td>\n      <td>68.111</td>\n      <td>4</td>\n      <td>...</td>\n      <td>0.0</td>\n      <td>0.0</td>\n      <td>0.0</td>\n      <td>-1.0</td>\n      <td>-1.0</td>\n      <td>-1.0</td>\n      <td>-1.0</td>\n      <td>-1.0</td>\n      <td>-1.0</td>\n      <td>-1.0</td>\n    </tr>\n    <tr>\n      <th>283</th>\n      <td>spotify:track:1dxbAIfCASqv6jix2R1Taj</td>\n      <td>Your Mother Should Know</td>\n      <td>1967</td>\n      <td>Magical Mystery Tour</td>\n      <td>58</td>\n      <td>149</td>\n      <td>0</td>\n      <td>1</td>\n      <td>117.613</td>\n      <td>4</td>\n      <td>...</td>\n      <td>0.0</td>\n      <td>0.0</td>\n      <td>0.0</td>\n      <td>-1.0</td>\n      <td>-1.0</td>\n      <td>-1.0</td>\n      <td>-1.0</td>\n      <td>-1.0</td>\n      <td>-1.0</td>\n      <td>-1.0</td>\n    </tr>\n  </tbody>\n</table>\n<p>284 rows × 45 columns</p>\n</div>"
     },
     "execution_count": 188,
     "metadata": {},
     "output_type": "execute_result"
    }
   ],
   "source": [
    "convert_chart_position(songs, 'Top 50 (Billboard)')\n",
    "convert_chart_position(songs, 'Top 50 (Ultimate classic rock)')\n",
    "convert_chart_position(songs, 'Top 50 (Rolling Stone)')\n",
    "convert_chart_position(songs, 'Top 50 (NME)')\n",
    "convert_chart_position(songs, 'Top 50 (Top50songs.org)')\n",
    "convert_chart_position(songs, 'Top 50 (USA today, 2017)')\n",
    "convert_chart_position(songs, 'Top 50 (Vulture, by Bill Wyman)')"
   ],
   "metadata": {
    "collapsed": false,
    "ExecuteTime": {
     "end_time": "2023-09-16T17:57:40.417204700Z",
     "start_time": "2023-09-16T17:57:40.347139900Z"
    }
   },
   "id": "e326f73baed4e1ef"
  },
  {
   "cell_type": "markdown",
   "source": [
    "Save the new version of the dataset, *The Beatles songs dataset, 284x45, v13.csv*."
   ],
   "metadata": {
    "collapsed": false
   },
   "id": "1044c2830ccd426e"
  },
  {
   "cell_type": "code",
   "execution_count": 189,
   "outputs": [],
   "source": [
    "songs.to_csv('../data/The Beatles songs dataset, 284x45, v13.csv', index=False)"
   ],
   "metadata": {
    "collapsed": false,
    "ExecuteTime": {
     "end_time": "2023-09-16T17:57:53.863094500Z",
     "start_time": "2023-09-16T17:57:53.837157400Z"
    }
   },
   "id": "d8384fe3213320a0"
  },
  {
   "cell_type": "code",
   "execution_count": 169,
   "outputs": [],
   "source": [
    "# songs.loc[songs['Top 50 (Billboard)'] == 0, 'Top 50 (Billboard)'] = -1\n",
    "# songs.loc[songs['Top 50 (Billboard)'] != -1, 'Top 50 (Billboard)'] = 51 - songs['Top 50 (Billboard)']\n",
    "# # songs.loc[92, ['Top 50 (Billboard)', 'Title']]\n",
    "# \n",
    "# songs.loc[songs['Top 50 (Ultimate classic rock)'] == 0, 'Top 50 (Ultimate classic rock)'] = -1\n",
    "# songs.loc[songs['Top 50 (Ultimate classic rock)'] != -1, 'Top 50 (Ultimate classic rock)'] = 51 - songs['Top 50 (Ultimate classic rock)']\n",
    "# \n",
    "# songs.loc[songs['Top 50 (Rolling Stone)'] == 0, 'Top 50 (Rolling Stone)'] = -1\n",
    "# songs.loc[songs['Top 50 (Rolling Stone)'] != -1, 'Top 50 (Rolling Stone)'] = 51 - songs['Top 50 (Rolling Stone)']\n",
    "# \n",
    "# songs.loc[songs['Top 50 (NME)'] == 0, 'Top 50 (NME)'] = -1\n",
    "# songs.loc[songs['Top 50 (NME)'] != -1, 'Top 50 (NME)'] = 51 - songs['Top 50 (NME)']\n",
    "# \n",
    "# songs.loc[songs['Top 50 (Top50songs.org)'] == 0, 'Top 50 (Top50songs.org)'] = -1\n",
    "# songs.loc[songs['Top 50 (Top50songs.org)'] != -1, 'Top 50 (Top50songs.org)'] = 51 - songs['Top 50 (Top50songs.org)']\n",
    "# \n",
    "# songs.loc[songs['Top 50 (USA today, 2017)'] == 0, 'Top 50 (USA today, 2017)'] = -1\n",
    "# songs.loc[songs['Top 50 (USA today, 2017)'] != -1, 'Top 50 (USA today, 2017)'] = 51 - songs['Top 50 (USA today, 2017)']\n",
    "# \n",
    "# songs.loc[songs['Top 50 (Vulture, by Bill Wyman)'] == 0, 'Top 50 (Vulture, by Bill Wyman)'] = -1\n",
    "# songs.loc[songs['Top 50 (Vulture, by Bill Wyman)'] != -1, 'Top 50 (Vulture, by Bill Wyman)'] = 51 - songs['Top 50 (Vulture, by Bill Wyman)']\n"
   ],
   "metadata": {
    "collapsed": false
   },
   "id": "ef9832d6a773fcd6"
  },
  {
   "cell_type": "code",
   "execution_count": 164,
   "outputs": [],
   "source": [
    "# songs = pd.read_csv('../data/The Beatles songs dataset, 284x45, v12.csv')"
   ],
   "metadata": {
    "collapsed": false
   },
   "id": "bd95b10f390a67d0"
  },
  {
   "cell_type": "code",
   "execution_count": 183,
   "outputs": [],
   "source": [
    "# songs[['Top 50 (Billboard)', 'Top 50 (Ultimate classic rock)', 'Top 50 (Rolling Stone)', 'Top 50 (NME)', 'Top 50 (Top50songs.org)', \n",
    "#        'Top 50 (USA today, 2017)', 'Top 50 (Vulture, by Bill Wyman)']] = \\\n",
    "#     songs[['Top 50 (Billboard)', 'Top 50 (Ultimate classic rock)', 'Top 50 (Rolling Stone)', 'Top 50 (NME)', 'Top 50 (Top50songs.org)', \n",
    "#            'Top 50 (USA today, 2017)', 'Top 50 (Vulture, by Bill Wyman)']].apply(lambda x: -1 if x == 0 else 51 - x)"
   ],
   "metadata": {
    "collapsed": false,
    "ExecuteTime": {
     "end_time": "2023-09-16T17:55:34.843501200Z",
     "start_time": "2023-09-16T17:55:34.804283800Z"
    }
   },
   "id": "7d0c36f2cc19068d"
  },
  {
   "cell_type": "code",
   "execution_count": 184,
   "outputs": [],
   "source": [
    "# songs[['Top 50 (Billboard)']] = \\\n",
    "#     songs[['Top 50 (Billboard)']].apply(lambda x: -1 if x == 0 else 51 - x)"
   ],
   "metadata": {
    "collapsed": false,
    "ExecuteTime": {
     "end_time": "2023-09-16T17:55:37.366023300Z",
     "start_time": "2023-09-16T17:55:37.343231400Z"
    }
   },
   "id": "de65749258706d11"
  },
  {
   "cell_type": "code",
   "execution_count": 185,
   "outputs": [],
   "source": [
    "# display(songs['Top 50 (Billboard)'].sample(50))"
   ],
   "metadata": {
    "collapsed": false,
    "ExecuteTime": {
     "end_time": "2023-09-16T17:55:40.364082800Z",
     "start_time": "2023-09-16T17:55:40.341143500Z"
    }
   },
   "id": "d208da3a2078bca6"
  },
  {
   "cell_type": "markdown",
   "source": [
    "Check if all Top 50 values are in the range of [-1, 50]."
   ],
   "metadata": {
    "collapsed": false
   },
   "id": "4d35181d4831d339"
  },
  {
   "cell_type": "code",
   "execution_count": 186,
   "outputs": [],
   "source": [
    "# songs.describe()"
   ],
   "metadata": {
    "collapsed": false,
    "ExecuteTime": {
     "end_time": "2023-09-16T17:56:04.403011Z",
     "start_time": "2023-09-16T17:56:04.346010900Z"
    }
   },
   "id": "4fcbb416e0430516"
  },
  {
   "cell_type": "markdown",
   "source": [
    "Save the new version of the dataset, *The Beatles songs dataset, 284x45, v14.csv*."
   ],
   "metadata": {
    "collapsed": false
   },
   "id": "986a0586d68426c2"
  },
  {
   "cell_type": "code",
   "execution_count": 182,
   "outputs": [],
   "source": [
    "# songs.to_csv('../data/The Beatles songs dataset, 284x45, v14.csv', index=False)"
   ],
   "metadata": {
    "collapsed": false
   },
   "id": "cd8c91c63021c309"
  },
  {
   "cell_type": "markdown",
   "source": [
    "### Convert all numerical columns that are essentially integer columns to integers\n",
    "These include *Other releases*, "
   ],
   "metadata": {
    "collapsed": false
   },
   "id": "a1544431dddcf67b"
  }
 ],
 "metadata": {
  "kernelspec": {
   "display_name": "Python 3",
   "language": "python",
   "name": "python3"
  },
  "language_info": {
   "codemirror_mode": {
    "name": "ipython",
    "version": 2
   },
   "file_extension": ".py",
   "mimetype": "text/x-python",
   "name": "python",
   "nbconvert_exporter": "python",
   "pygments_lexer": "ipython2",
   "version": "2.7.6"
  }
 },
 "nbformat": 4,
 "nbformat_minor": 5
}
