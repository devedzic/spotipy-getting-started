{
 "cells": [
  {
   "cell_type": "markdown",
   "source": [
    "# Crafting The Beatles songs dataset\n",
    "Starting points: The Beatles songs dataset from before and the additional datasets that can be scraped from Spotify."
   ],
   "metadata": {
    "collapsed": false
   }
  },
  {
   "cell_type": "markdown",
   "source": [
    "## Import statements"
   ],
   "metadata": {
    "collapsed": false
   }
  },
  {
   "cell_type": "code",
   "execution_count": 1,
   "outputs": [],
   "source": [
    "# Enable import from my_spotify.py. Based on https://stackoverflow.com/a/35273613/1899061.\n",
    "# Putting my_spotify.py in the root directory (without this cell) used to work, but then suddenly stopped working.\n",
    "import os\n",
    "import sys\n",
    "\n",
    "import numpy as np\n",
    "\n",
    "my_spotify_module_path = os.path.abspath(os.path.join('..'))\n",
    "if my_spotify_module_path not in sys.path:\n",
    "    sys.path.append(my_spotify_module_path)"
   ],
   "metadata": {
    "collapsed": false,
    "ExecuteTime": {
     "end_time": "2023-07-16T16:41:08.109235100Z",
     "start_time": "2023-07-16T16:41:08.100387200Z"
    }
   }
  },
  {
   "cell_type": "code",
   "execution_count": 15,
   "outputs": [],
   "source": [
    "from my_spotify.my_spotify import get_spotify_object, get_all_tracks_from_playlist, get_playlist_tracks_df\n",
    "import pandas as pd"
   ],
   "metadata": {
    "collapsed": false,
    "ExecuteTime": {
     "end_time": "2023-07-17T16:06:31.911705800Z",
     "start_time": "2023-07-17T16:06:31.908728Z"
    }
   }
  },
  {
   "cell_type": "markdown",
   "source": [
    "## Modify album titles in The Beatles songs dataset\n",
    "The initial version of The Beatles songs dataset, `The Beatles songs dataset, 310x30, v0.csv`, as well as its shorter variations like `The Beatles songs dataset, 310x9, v0.csv` and `The Beatles songs dataset, 310x10, v0.csv`, include many album titles like 'UK: Please Please Me US: The Early Beatles'. These should be modified to reflect the original UK album titles only. In this example, the album title should be only 'Please Please Me'."
   ],
   "metadata": {
    "collapsed": false
   }
  },
  {
   "cell_type": "markdown",
   "source": [
    "### Read The Beatles songs dataset"
   ],
   "metadata": {
    "collapsed": false
   }
  },
  {
   "cell_type": "code",
   "execution_count": 3,
   "outputs": [
    {
     "data": {
      "text/plain": "                                Title  Year  \\\n165                     Looking Glass  1962   \n229                     She's a Woman  1964   \n97                        Hey Bulldog  1968   \n250                    Thank You Girl  1963   \n194                Ob-La-Di, Ob-La-Da  1968   \n286      While My Guitar Gently Weeps  1968   \n59                  Don't Let Me Down  1969   \n19                      Baby It's You  1963   \n131  I'm Happy Just to Dance with You  1964   \n45                      Come Together  1969   \n\n                                    Album debut  Duration  Other releases  \\\n165                                         NaN       NaN             NaN   \n229                UK: Rarities US: Beatles '65     183.0            28.0   \n97                             Yellow Submarine     194.0            12.0   \n250   UK: Rarities US: The Beatles Second Album     121.0            21.0   \n194                                 The Beatles     187.0            16.0   \n286                                 The Beatles     286.0            18.0   \n59                   UK: 1967-1970 US: Hey Jude     215.0            17.0   \n19   UK: Please Please Me US: The Early Beatles     162.0            17.0   \n131    UK: A Hard Day's Night US: Something New     118.0             5.0   \n45                                   Abbey Road     258.0            17.0   \n\n                                     Single A side  \\\n165                                            NaN   \n229                                    I Feel Fine   \n97                                All Together Now   \n250  From Me to You; Do You Want to Know a Secret?   \n194         Ob-La-Di, Ob-La-Da; Ob-La-Di, Ob-La-Da   \n286                             Ob-La-Di, Ob-La-Da   \n59                                        Get Back   \n19                                             NaN   \n131                               I'll Cry Instead   \n45                                       Something   \n\n                           Single B side Single certification  \\\n165                                  NaN                  NaN   \n229                        She's a Woman            RIAA Gold   \n97                           Hey Bulldog                  NaN   \n250       Thank You Girl; Thank You Girl                  NaN   \n194  While My Guitar Gently Weeps; Julia                  NaN   \n286         While My Guitar Gently Weeps                  NaN   \n59                     Don't Let Me Down      RIAA 2xPlatinum   \n19                                   NaN                  NaN   \n131     I'm Happy Just to Dance with You                  NaN   \n45                         Come Together      RIAA 2xPlatinum   \n\n                                            Genre  \\\n165                                      Pop/Rock   \n229                  Rock and Roll, R&B, Pop/Rock   \n97          Psychedelic Rock, Hard Rock, Pop/Rock   \n250                          Merseybeat, Pop/Rock   \n194                                 Ska, Pop/Rock   \n286  Rock, Psychedelic Rock, Blues Rock, Pop/Rock   \n59                           Blues Rock, Pop/Rock   \n19                                       Pop/Rock   \n131                                Rock, Pop/Rock   \n45                           Blues Rock, Pop/Rock   \n\n                                                Styles  ...  \\\n165                                                NaN  ...   \n229  British Invasion, Contemporary Pop/Rock, Early...  ...   \n97   Contemporary Pop/Rock, Hard Rock, Psychedelic/...  ...   \n250  British Invasion, Contemporary Pop/Rock, Early...  ...   \n194  Contemporary Pop/Rock, Early Pop/Rock, Rock & ...  ...   \n286  British Psychedelia, Contemporary Pop/Rock, Ea...  ...   \n59   Contemporary Pop/Rock, Early Pop/Rock, Rock & ...  ...   \n19   British Invasion, Early Pop/Rock, Merseybeat, ...  ...   \n131  British Invasion, Contemporary Pop/Rock, Early...  ...   \n45   Album Rock, Contemporary Pop/Rock, Early Pop/R...  ...   \n\n    Weeks at No1 in UK (The Guardian) Highest position (Billboard)  \\\n165                               NaN                          NaN   \n229                               NaN                          4.0   \n97                                NaN                          NaN   \n250                               NaN                         35.0   \n194                               NaN                          NaN   \n286                               NaN                          NaN   \n59                                NaN                          NaN   \n19                                NaN                          NaN   \n131                               NaN                          NaN   \n45                                NaN                          1.0   \n\n    Weeks at No1 (Billboard) Top 50 (Billboard)  \\\n165                      NaN                NaN   \n229                      NaN               31.0   \n97                       NaN                NaN   \n250                      NaN               46.0   \n194                      NaN                NaN   \n286                      NaN                NaN   \n59                       NaN                NaN   \n19                       NaN                NaN   \n131                      NaN                NaN   \n45                       NaN                6.0   \n\n    Top 50 (Ultimate classic rock)  Top 50 (Rolling Stone)  Top 50 (NME)  \\\n165                            NaN                     NaN           NaN   \n229                            NaN                     NaN           NaN   \n97                             NaN                     NaN          11.0   \n250                            NaN                     NaN           NaN   \n194                            NaN                     NaN           NaN   \n286                            4.0                    10.0           8.0   \n59                             NaN                    46.0           NaN   \n19                             NaN                     NaN           NaN   \n131                            NaN                     NaN           NaN   \n45                            20.0                     9.0          20.0   \n\n     Top 50 (Top50songs.org)  Top 50 (USA today, 2017)  \\\n165                      NaN                       NaN   \n229                      NaN                       NaN   \n97                       NaN                       NaN   \n250                      NaN                       NaN   \n194                     35.0                       NaN   \n286                     12.0                      13.0   \n59                       NaN                       NaN   \n19                       NaN                       NaN   \n131                      NaN                       NaN   \n45                       1.0                      47.0   \n\n     Top 50 (Vulture, by Bill Wyman)  \n165                              NaN  \n229                              NaN  \n97                               NaN  \n250                              NaN  \n194                              NaN  \n286                             32.0  \n59                               NaN  \n19                               NaN  \n131                              NaN  \n45                              44.0  \n\n[10 rows x 30 columns]",
      "text/html": "<div>\n<style scoped>\n    .dataframe tbody tr th:only-of-type {\n        vertical-align: middle;\n    }\n\n    .dataframe tbody tr th {\n        vertical-align: top;\n    }\n\n    .dataframe thead th {\n        text-align: right;\n    }\n</style>\n<table border=\"1\" class=\"dataframe\">\n  <thead>\n    <tr style=\"text-align: right;\">\n      <th></th>\n      <th>Title</th>\n      <th>Year</th>\n      <th>Album debut</th>\n      <th>Duration</th>\n      <th>Other releases</th>\n      <th>Single A side</th>\n      <th>Single B side</th>\n      <th>Single certification</th>\n      <th>Genre</th>\n      <th>Styles</th>\n      <th>...</th>\n      <th>Weeks at No1 in UK (The Guardian)</th>\n      <th>Highest position (Billboard)</th>\n      <th>Weeks at No1 (Billboard)</th>\n      <th>Top 50 (Billboard)</th>\n      <th>Top 50 (Ultimate classic rock)</th>\n      <th>Top 50 (Rolling Stone)</th>\n      <th>Top 50 (NME)</th>\n      <th>Top 50 (Top50songs.org)</th>\n      <th>Top 50 (USA today, 2017)</th>\n      <th>Top 50 (Vulture, by Bill Wyman)</th>\n    </tr>\n  </thead>\n  <tbody>\n    <tr>\n      <th>165</th>\n      <td>Looking Glass</td>\n      <td>1962</td>\n      <td>NaN</td>\n      <td>NaN</td>\n      <td>NaN</td>\n      <td>NaN</td>\n      <td>NaN</td>\n      <td>NaN</td>\n      <td>Pop/Rock</td>\n      <td>NaN</td>\n      <td>...</td>\n      <td>NaN</td>\n      <td>NaN</td>\n      <td>NaN</td>\n      <td>NaN</td>\n      <td>NaN</td>\n      <td>NaN</td>\n      <td>NaN</td>\n      <td>NaN</td>\n      <td>NaN</td>\n      <td>NaN</td>\n    </tr>\n    <tr>\n      <th>229</th>\n      <td>She's a Woman</td>\n      <td>1964</td>\n      <td>UK: Rarities US: Beatles '65</td>\n      <td>183.0</td>\n      <td>28.0</td>\n      <td>I Feel Fine</td>\n      <td>She's a Woman</td>\n      <td>RIAA Gold</td>\n      <td>Rock and Roll, R&amp;B, Pop/Rock</td>\n      <td>British Invasion, Contemporary Pop/Rock, Early...</td>\n      <td>...</td>\n      <td>NaN</td>\n      <td>4.0</td>\n      <td>NaN</td>\n      <td>31.0</td>\n      <td>NaN</td>\n      <td>NaN</td>\n      <td>NaN</td>\n      <td>NaN</td>\n      <td>NaN</td>\n      <td>NaN</td>\n    </tr>\n    <tr>\n      <th>97</th>\n      <td>Hey Bulldog</td>\n      <td>1968</td>\n      <td>Yellow Submarine</td>\n      <td>194.0</td>\n      <td>12.0</td>\n      <td>All Together Now</td>\n      <td>Hey Bulldog</td>\n      <td>NaN</td>\n      <td>Psychedelic Rock, Hard Rock, Pop/Rock</td>\n      <td>Contemporary Pop/Rock, Hard Rock, Psychedelic/...</td>\n      <td>...</td>\n      <td>NaN</td>\n      <td>NaN</td>\n      <td>NaN</td>\n      <td>NaN</td>\n      <td>NaN</td>\n      <td>NaN</td>\n      <td>11.0</td>\n      <td>NaN</td>\n      <td>NaN</td>\n      <td>NaN</td>\n    </tr>\n    <tr>\n      <th>250</th>\n      <td>Thank You Girl</td>\n      <td>1963</td>\n      <td>UK: Rarities US: The Beatles Second Album</td>\n      <td>121.0</td>\n      <td>21.0</td>\n      <td>From Me to You; Do You Want to Know a Secret?</td>\n      <td>Thank You Girl; Thank You Girl</td>\n      <td>NaN</td>\n      <td>Merseybeat, Pop/Rock</td>\n      <td>British Invasion, Contemporary Pop/Rock, Early...</td>\n      <td>...</td>\n      <td>NaN</td>\n      <td>35.0</td>\n      <td>NaN</td>\n      <td>46.0</td>\n      <td>NaN</td>\n      <td>NaN</td>\n      <td>NaN</td>\n      <td>NaN</td>\n      <td>NaN</td>\n      <td>NaN</td>\n    </tr>\n    <tr>\n      <th>194</th>\n      <td>Ob-La-Di, Ob-La-Da</td>\n      <td>1968</td>\n      <td>The Beatles</td>\n      <td>187.0</td>\n      <td>16.0</td>\n      <td>Ob-La-Di, Ob-La-Da; Ob-La-Di, Ob-La-Da</td>\n      <td>While My Guitar Gently Weeps; Julia</td>\n      <td>NaN</td>\n      <td>Ska, Pop/Rock</td>\n      <td>Contemporary Pop/Rock, Early Pop/Rock, Rock &amp; ...</td>\n      <td>...</td>\n      <td>NaN</td>\n      <td>NaN</td>\n      <td>NaN</td>\n      <td>NaN</td>\n      <td>NaN</td>\n      <td>NaN</td>\n      <td>NaN</td>\n      <td>35.0</td>\n      <td>NaN</td>\n      <td>NaN</td>\n    </tr>\n    <tr>\n      <th>286</th>\n      <td>While My Guitar Gently Weeps</td>\n      <td>1968</td>\n      <td>The Beatles</td>\n      <td>286.0</td>\n      <td>18.0</td>\n      <td>Ob-La-Di, Ob-La-Da</td>\n      <td>While My Guitar Gently Weeps</td>\n      <td>NaN</td>\n      <td>Rock, Psychedelic Rock, Blues Rock, Pop/Rock</td>\n      <td>British Psychedelia, Contemporary Pop/Rock, Ea...</td>\n      <td>...</td>\n      <td>NaN</td>\n      <td>NaN</td>\n      <td>NaN</td>\n      <td>NaN</td>\n      <td>4.0</td>\n      <td>10.0</td>\n      <td>8.0</td>\n      <td>12.0</td>\n      <td>13.0</td>\n      <td>32.0</td>\n    </tr>\n    <tr>\n      <th>59</th>\n      <td>Don't Let Me Down</td>\n      <td>1969</td>\n      <td>UK: 1967-1970 US: Hey Jude</td>\n      <td>215.0</td>\n      <td>17.0</td>\n      <td>Get Back</td>\n      <td>Don't Let Me Down</td>\n      <td>RIAA 2xPlatinum</td>\n      <td>Blues Rock, Pop/Rock</td>\n      <td>Contemporary Pop/Rock, Early Pop/Rock, Rock &amp; ...</td>\n      <td>...</td>\n      <td>NaN</td>\n      <td>NaN</td>\n      <td>NaN</td>\n      <td>NaN</td>\n      <td>NaN</td>\n      <td>46.0</td>\n      <td>NaN</td>\n      <td>NaN</td>\n      <td>NaN</td>\n      <td>NaN</td>\n    </tr>\n    <tr>\n      <th>19</th>\n      <td>Baby It's You</td>\n      <td>1963</td>\n      <td>UK: Please Please Me US: The Early Beatles</td>\n      <td>162.0</td>\n      <td>17.0</td>\n      <td>NaN</td>\n      <td>NaN</td>\n      <td>NaN</td>\n      <td>Pop/Rock</td>\n      <td>British Invasion, Early Pop/Rock, Merseybeat, ...</td>\n      <td>...</td>\n      <td>NaN</td>\n      <td>NaN</td>\n      <td>NaN</td>\n      <td>NaN</td>\n      <td>NaN</td>\n      <td>NaN</td>\n      <td>NaN</td>\n      <td>NaN</td>\n      <td>NaN</td>\n      <td>NaN</td>\n    </tr>\n    <tr>\n      <th>131</th>\n      <td>I'm Happy Just to Dance with You</td>\n      <td>1964</td>\n      <td>UK: A Hard Day's Night US: Something New</td>\n      <td>118.0</td>\n      <td>5.0</td>\n      <td>I'll Cry Instead</td>\n      <td>I'm Happy Just to Dance with You</td>\n      <td>NaN</td>\n      <td>Rock, Pop/Rock</td>\n      <td>British Invasion, Contemporary Pop/Rock, Early...</td>\n      <td>...</td>\n      <td>NaN</td>\n      <td>NaN</td>\n      <td>NaN</td>\n      <td>NaN</td>\n      <td>NaN</td>\n      <td>NaN</td>\n      <td>NaN</td>\n      <td>NaN</td>\n      <td>NaN</td>\n      <td>NaN</td>\n    </tr>\n    <tr>\n      <th>45</th>\n      <td>Come Together</td>\n      <td>1969</td>\n      <td>Abbey Road</td>\n      <td>258.0</td>\n      <td>17.0</td>\n      <td>Something</td>\n      <td>Come Together</td>\n      <td>RIAA 2xPlatinum</td>\n      <td>Blues Rock, Pop/Rock</td>\n      <td>Album Rock, Contemporary Pop/Rock, Early Pop/R...</td>\n      <td>...</td>\n      <td>NaN</td>\n      <td>1.0</td>\n      <td>NaN</td>\n      <td>6.0</td>\n      <td>20.0</td>\n      <td>9.0</td>\n      <td>20.0</td>\n      <td>1.0</td>\n      <td>47.0</td>\n      <td>44.0</td>\n    </tr>\n  </tbody>\n</table>\n<p>10 rows × 30 columns</p>\n</div>"
     },
     "metadata": {},
     "output_type": "display_data"
    }
   ],
   "source": [
    "# Get the songs as a pd.DataFrame object from '../data/The Beatles songs dataset, 310x30, v0.csv'\n",
    "songs = pd.read_csv('../data/The Beatles songs dataset, 310x30, v0.csv')\n",
    "display(songs.sample(10))"
   ],
   "metadata": {
    "collapsed": false,
    "ExecuteTime": {
     "end_time": "2023-07-16T16:41:39.813287800Z",
     "start_time": "2023-07-16T16:41:39.766064300Z"
    }
   }
  },
  {
   "cell_type": "markdown",
   "source": [
    "### Find all album titles"
   ],
   "metadata": {
    "collapsed": false
   }
  },
  {
   "cell_type": "code",
   "execution_count": 4,
   "outputs": [
    {
     "data": {
      "text/plain": "54"
     },
     "metadata": {},
     "output_type": "display_data"
    },
    {
     "data": {
      "text/plain": "array(['Anthology 2', \"Sgt. Pepper's Lonely Hearts Club Band\",\n       \"UK: A Hard Day's Night US: 1962-1966\", 'Live at the BBC',\n       'UK: Please Please Me US: The Early Beatles', 'Let It Be',\n       'UK: Help! US: Yesterday and Today', 'Anthology 1',\n       'UK: With the Beatles US: Meet The Beatles!', 'Anthology 3',\n       'Yellow Submarine', 'Magical Mystery Tour',\n       \"UK: A Hard Day's Night US: Something New\",\n       'UK: Revolver US: Yesterday and Today', 'Help!',\n       \"UK: Beatles for Sale US: Beatles '65\", 'The Beatles',\n       'UK: A Collection of Beatles Oldies US: Beatles VI',\n       'The Beatles Bootleg Recordings 1963',\n       'On Air – Live at the BBC Volume 2',\n       'Let It Be... Naked - Fly on the Wall bonus disc', 'Abbey Road',\n       \"UK: A Hard Day's Night US: Hey Jude\", nan,\n       \"The Beatles' Christmas Album\",\n       'UK: A Collection of Beatles Oldies US: Yesterday and Today',\n       'UK: With the Beatles US: The Beatles Second Album',\n       'UK: Help! US: Beatles VI', 'UK: 1967-1970 US: Hey Jude',\n       'UK: Rubber Soul US: Yesterday and Today',\n       'UK: Beatles for Sale US: Beatles VI', 'Revolver',\n       'UK: A Collection of Beatles Oldies US: 1962-1966', 'Rubber Soul',\n       'UK: Past Masters Volume 1 US: The Beatles Second Album',\n       \"UK: A Collection of Beatles Oldies US: Beatles '65\",\n       'UK: Please Please Me US: Meet The Beatles!',\n       'UK: A Collection of Beatles Oldies US: Meet The Beatles!',\n       \"UK: A Hard Day's Night US: Beatles '65\", \"Rock 'n' Roll Music\",\n       'Live! at the Star-Club in Hamburg, Germany; 1962',\n       'UK: Help! US: Rubber Soul', 'UK: Rarities US: Something New',\n       \"UK: Rock 'n' Roll Music US: The Beatles Second Album\",\n       \"UK: Rock 'n' Roll Music US: Something New\",\n       'UK: Please Please Me US: Rarities',\n       'UK: A Collection of Beatles Oldies US: Hey Jude',\n       'UK: Rarities US: Hey Jude',\n       'UK: A Collection of Beatles Oldies US: The Beatles Second Album',\n       \"UK: Rarities US: Beatles '65\", 'UK: Rarities US: Rarities',\n       'UK: Rarities US: The Beatles Second Album',\n       'UK: Rarities US: Meet The Beatles!',\n       'UK: Rarities US: Beatles VI',\n       \"UK: A Hard Day's Night US: The Beatles Second Album\"],\n      dtype=object)"
     },
     "metadata": {},
     "output_type": "display_data"
    }
   ],
   "source": [
    "display(songs['Album debut'].nunique())\n",
    "display(songs['Album debut'].unique())\n",
    "# display(songs['Album.debut'].nunique())\n",
    "# display(songs['Album.debut'].unique())"
   ],
   "metadata": {
    "collapsed": false,
    "ExecuteTime": {
     "end_time": "2023-07-16T16:43:15.011349300Z",
     "start_time": "2023-07-16T16:43:15.004055300Z"
    }
   }
  },
  {
   "cell_type": "markdown",
   "source": [
    "### Copy the *Album.debut* column to a new column, *Album*, in order to keep the original values in *Album.debut*"
   ],
   "metadata": {
    "collapsed": false
   }
  },
  {
   "cell_type": "code",
   "execution_count": 5,
   "outputs": [],
   "source": [
    "songs['Album'] = songs['Album debut']"
   ],
   "metadata": {
    "collapsed": false,
    "ExecuteTime": {
     "end_time": "2023-07-16T16:43:32.625963300Z",
     "start_time": "2023-07-16T16:43:32.619932300Z"
    }
   }
  },
  {
   "cell_type": "markdown",
   "source": [
    "### Put the *Album* and *Album.debut* columns next to each other"
   ],
   "metadata": {
    "collapsed": false
   }
  },
  {
   "cell_type": "code",
   "execution_count": 7,
   "outputs": [
    {
     "data": {
      "text/plain": "['Title',\n 'Year',\n 'Album debut',\n 'Duration',\n 'Other releases',\n 'Single A side',\n 'Single B side',\n 'Single certification',\n 'Genre',\n 'Styles',\n 'Themes',\n 'Moods',\n 'Songwriter(s)',\n 'Lead vocal(s)',\n 'Cover',\n 'Covered by',\n 'Chart position UK (Wikipedia)',\n 'Chart position US (Wikipedia)',\n 'Highest position (The Guardian)',\n 'Weeks on chart in UK (The Guardian)',\n 'Weeks at No1 in UK (The Guardian)',\n 'Highest position (Billboard)',\n 'Weeks at No1 (Billboard)',\n 'Top 50 (Billboard)',\n 'Top 50 (Ultimate classic rock)',\n 'Top 50 (Rolling Stone)',\n 'Top 50 (NME)',\n 'Top 50 (Top50songs.org)',\n 'Top 50 (USA today, 2017)',\n 'Top 50 (Vulture, by Bill Wyman)',\n 'Album']"
     },
     "metadata": {},
     "output_type": "display_data"
    },
    {
     "data": {
      "text/plain": "['Title',\n 'Year',\n 'Album',\n 'Album debut',\n 'Duration',\n 'Other releases',\n 'Single A side',\n 'Single B side',\n 'Single certification',\n 'Genre',\n 'Styles',\n 'Themes',\n 'Moods',\n 'Songwriter(s)',\n 'Lead vocal(s)',\n 'Cover',\n 'Covered by',\n 'Chart position UK (Wikipedia)',\n 'Chart position US (Wikipedia)',\n 'Highest position (The Guardian)',\n 'Weeks on chart in UK (The Guardian)',\n 'Weeks at No1 in UK (The Guardian)',\n 'Highest position (Billboard)',\n 'Weeks at No1 (Billboard)',\n 'Top 50 (Billboard)',\n 'Top 50 (Ultimate classic rock)',\n 'Top 50 (Rolling Stone)',\n 'Top 50 (NME)',\n 'Top 50 (Top50songs.org)',\n 'Top 50 (USA today, 2017)',\n 'Top 50 (Vulture, by Bill Wyman)']"
     },
     "metadata": {},
     "output_type": "display_data"
    }
   ],
   "source": [
    "c = songs.columns.tolist()\n",
    "display(c)\n",
    "c = ['Title',\n",
    "     'Year',\n",
    "     'Album',\n",
    "     'Album debut',\n",
    "     'Duration',\n",
    "     'Other releases',\n",
    "     'Single A side',\n",
    "     'Single B side',\n",
    "     'Single certification',\n",
    "     'Genre',\n",
    "     'Styles',\n",
    "     'Themes',\n",
    "     'Moods',\n",
    "     'Songwriter(s)',\n",
    "     'Lead vocal(s)',\n",
    "     'Cover',\n",
    "     'Covered by',\n",
    "     'Chart position UK (Wikipedia)',\n",
    "     'Chart position US (Wikipedia)',\n",
    "     'Highest position (The Guardian)',\n",
    "     'Weeks on chart in UK (The Guardian)',\n",
    "     'Weeks at No1 in UK (The Guardian)',\n",
    "     'Highest position (Billboard)',\n",
    "     'Weeks at No1 (Billboard)',\n",
    "     'Top 50 (Billboard)',\n",
    "     'Top 50 (Ultimate classic rock)',\n",
    "     'Top 50 (Rolling Stone)',\n",
    "     'Top 50 (NME)',\n",
    "     'Top 50 (Top50songs.org)',\n",
    "     'Top 50 (USA today, 2017)',\n",
    "     'Top 50 (Vulture, by Bill Wyman)',\n",
    "     ]\n",
    "# c = ['Title',\n",
    "#      'Year',\n",
    "#      'Album',\n",
    "#      'Album.debut',\n",
    "#      'Duration',\n",
    "#      'Other.releases',\n",
    "#      'Genre',\n",
    "#      'Songwriter',\n",
    "#      'Lead.vocal',\n",
    "#      'Top.50.Billboard',\n",
    "#      'Top50'\n",
    "#      ]\n",
    "display(c)"
   ],
   "metadata": {
    "collapsed": false,
    "ExecuteTime": {
     "end_time": "2023-07-16T16:44:24.186187600Z",
     "start_time": "2023-07-16T16:44:24.177404200Z"
    }
   }
  },
  {
   "cell_type": "code",
   "execution_count": 8,
   "outputs": [
    {
     "data": {
      "text/plain": "                         Title  Year                       Album  \\\n213                 Revolution  1968  UK: 1967-1970 US: Hey Jude   \n162  Lonesome Tears in My Eyes  1963             Live at the BBC   \n71                  For No One  1966                    Revolver   \n158          Lend Me Your Comb  1963                 Anthology 1   \n53                      Dig It  1969                   Let It Be   \n219              Savoy Truffle  1968                 The Beatles   \n275   Too Much Monkey Business  1963             Live at the BBC   \n200       Only a Northern Song  1967            Yellow Submarine   \n232             Sie Liebt Dich  1964   UK: Rarities US: Rarities   \n251           That Means a Lot  1965                 Anthology 2   \n\n                    Album debut  Duration  Other releases  \\\n213  UK: 1967-1970 US: Hey Jude     201.0            23.0   \n162             Live at the BBC     156.0             NaN   \n71                     Revolver     121.0             9.0   \n158                 Anthology 1     107.0             NaN   \n53                    Let It Be      51.0            10.0   \n219                 The Beatles     174.0             7.0   \n275             Live at the BBC     176.0             NaN   \n200            Yellow Submarine     207.0             9.0   \n232   UK: Rarities US: Rarities     139.0             9.0   \n251                 Anthology 2     146.0             NaN   \n\n                               Single A side                 Single B side  \\\n213                                 Hey Jude                    Revolution   \n162                                      NaN                           NaN   \n71                                       NaN                           NaN   \n158                                      NaN                           NaN   \n53                                       NaN                           NaN   \n219                                      NaN                           NaN   \n275                                      NaN                           NaN   \n200                                      NaN                           NaN   \n232  Komm Gib Mir Deine Hand; Sie Liebt Dich  Sie Liebt Dich; I'll Get You   \n251                                      NaN                           NaN   \n\n    Single certification                                  Genre  ...  \\\n213      RIAA 4xPlatinum                    Hard rock, Pop/Rock  ...   \n162                  NaN                               Pop/Rock  ...   \n71                   NaN                  Baroque Pop, Pop/Rock  ...   \n158                  NaN                               Pop/Rock  ...   \n53                   NaN                         Rock, Pop/Rock  ...   \n219                  NaN  Soul, Blues Rock, Hard Rock, Pop/Rock  ...   \n275                  NaN           Rock and Roll, R&B, Pop/Rock  ...   \n200                  NaN             Psychedelic Rock, Pop/Rock  ...   \n232                  NaN                Rock and Roll, Pop/Rock  ...   \n251                  NaN                         Rock, Pop/Rock  ...   \n\n    Weeks at No1 in UK (The Guardian) Highest position (Billboard)  \\\n213                               NaN                         12.0   \n162                               NaN                          NaN   \n71                                NaN                          NaN   \n158                               NaN                          NaN   \n53                                NaN                          NaN   \n219                               NaN                          NaN   \n275                               NaN                          NaN   \n200                               NaN                          NaN   \n232                               NaN                          NaN   \n251                               NaN                          NaN   \n\n    Weeks at No1 (Billboard) Top 50 (Billboard)  \\\n213                      NaN               32.0   \n162                      NaN                NaN   \n71                       NaN                NaN   \n158                      NaN                NaN   \n53                       NaN                NaN   \n219                      NaN                NaN   \n275                      NaN                NaN   \n200                      NaN                NaN   \n232                      NaN                NaN   \n251                      NaN                NaN   \n\n    Top 50 (Ultimate classic rock) Top 50 (Rolling Stone)  Top 50 (NME)  \\\n213                           34.0                   13.0          21.0   \n162                            NaN                    NaN           NaN   \n71                             NaN                   40.0          18.0   \n158                            NaN                    NaN           NaN   \n53                             NaN                    NaN           NaN   \n219                            NaN                    NaN           NaN   \n275                            NaN                    NaN           NaN   \n200                            NaN                    NaN           NaN   \n232                            NaN                    NaN           NaN   \n251                            NaN                    NaN           NaN   \n\n     Top 50 (Top50songs.org)  Top 50 (USA today, 2017)  \\\n213                      NaN                       5.0   \n162                      NaN                       NaN   \n71                       NaN                      24.0   \n158                      NaN                       NaN   \n53                       NaN                       NaN   \n219                      NaN                       NaN   \n275                      NaN                       NaN   \n200                      NaN                       NaN   \n232                      NaN                       NaN   \n251                      NaN                       NaN   \n\n     Top 50 (Vulture, by Bill Wyman)  \n213                              NaN  \n162                              NaN  \n71                              34.0  \n158                              NaN  \n53                               NaN  \n219                              NaN  \n275                              NaN  \n200                              NaN  \n232                              NaN  \n251                              NaN  \n\n[10 rows x 31 columns]",
      "text/html": "<div>\n<style scoped>\n    .dataframe tbody tr th:only-of-type {\n        vertical-align: middle;\n    }\n\n    .dataframe tbody tr th {\n        vertical-align: top;\n    }\n\n    .dataframe thead th {\n        text-align: right;\n    }\n</style>\n<table border=\"1\" class=\"dataframe\">\n  <thead>\n    <tr style=\"text-align: right;\">\n      <th></th>\n      <th>Title</th>\n      <th>Year</th>\n      <th>Album</th>\n      <th>Album debut</th>\n      <th>Duration</th>\n      <th>Other releases</th>\n      <th>Single A side</th>\n      <th>Single B side</th>\n      <th>Single certification</th>\n      <th>Genre</th>\n      <th>...</th>\n      <th>Weeks at No1 in UK (The Guardian)</th>\n      <th>Highest position (Billboard)</th>\n      <th>Weeks at No1 (Billboard)</th>\n      <th>Top 50 (Billboard)</th>\n      <th>Top 50 (Ultimate classic rock)</th>\n      <th>Top 50 (Rolling Stone)</th>\n      <th>Top 50 (NME)</th>\n      <th>Top 50 (Top50songs.org)</th>\n      <th>Top 50 (USA today, 2017)</th>\n      <th>Top 50 (Vulture, by Bill Wyman)</th>\n    </tr>\n  </thead>\n  <tbody>\n    <tr>\n      <th>213</th>\n      <td>Revolution</td>\n      <td>1968</td>\n      <td>UK: 1967-1970 US: Hey Jude</td>\n      <td>UK: 1967-1970 US: Hey Jude</td>\n      <td>201.0</td>\n      <td>23.0</td>\n      <td>Hey Jude</td>\n      <td>Revolution</td>\n      <td>RIAA 4xPlatinum</td>\n      <td>Hard rock, Pop/Rock</td>\n      <td>...</td>\n      <td>NaN</td>\n      <td>12.0</td>\n      <td>NaN</td>\n      <td>32.0</td>\n      <td>34.0</td>\n      <td>13.0</td>\n      <td>21.0</td>\n      <td>NaN</td>\n      <td>5.0</td>\n      <td>NaN</td>\n    </tr>\n    <tr>\n      <th>162</th>\n      <td>Lonesome Tears in My Eyes</td>\n      <td>1963</td>\n      <td>Live at the BBC</td>\n      <td>Live at the BBC</td>\n      <td>156.0</td>\n      <td>NaN</td>\n      <td>NaN</td>\n      <td>NaN</td>\n      <td>NaN</td>\n      <td>Pop/Rock</td>\n      <td>...</td>\n      <td>NaN</td>\n      <td>NaN</td>\n      <td>NaN</td>\n      <td>NaN</td>\n      <td>NaN</td>\n      <td>NaN</td>\n      <td>NaN</td>\n      <td>NaN</td>\n      <td>NaN</td>\n      <td>NaN</td>\n    </tr>\n    <tr>\n      <th>71</th>\n      <td>For No One</td>\n      <td>1966</td>\n      <td>Revolver</td>\n      <td>Revolver</td>\n      <td>121.0</td>\n      <td>9.0</td>\n      <td>NaN</td>\n      <td>NaN</td>\n      <td>NaN</td>\n      <td>Baroque Pop, Pop/Rock</td>\n      <td>...</td>\n      <td>NaN</td>\n      <td>NaN</td>\n      <td>NaN</td>\n      <td>NaN</td>\n      <td>NaN</td>\n      <td>40.0</td>\n      <td>18.0</td>\n      <td>NaN</td>\n      <td>24.0</td>\n      <td>34.0</td>\n    </tr>\n    <tr>\n      <th>158</th>\n      <td>Lend Me Your Comb</td>\n      <td>1963</td>\n      <td>Anthology 1</td>\n      <td>Anthology 1</td>\n      <td>107.0</td>\n      <td>NaN</td>\n      <td>NaN</td>\n      <td>NaN</td>\n      <td>NaN</td>\n      <td>Pop/Rock</td>\n      <td>...</td>\n      <td>NaN</td>\n      <td>NaN</td>\n      <td>NaN</td>\n      <td>NaN</td>\n      <td>NaN</td>\n      <td>NaN</td>\n      <td>NaN</td>\n      <td>NaN</td>\n      <td>NaN</td>\n      <td>NaN</td>\n    </tr>\n    <tr>\n      <th>53</th>\n      <td>Dig It</td>\n      <td>1969</td>\n      <td>Let It Be</td>\n      <td>Let It Be</td>\n      <td>51.0</td>\n      <td>10.0</td>\n      <td>NaN</td>\n      <td>NaN</td>\n      <td>NaN</td>\n      <td>Rock, Pop/Rock</td>\n      <td>...</td>\n      <td>NaN</td>\n      <td>NaN</td>\n      <td>NaN</td>\n      <td>NaN</td>\n      <td>NaN</td>\n      <td>NaN</td>\n      <td>NaN</td>\n      <td>NaN</td>\n      <td>NaN</td>\n      <td>NaN</td>\n    </tr>\n    <tr>\n      <th>219</th>\n      <td>Savoy Truffle</td>\n      <td>1968</td>\n      <td>The Beatles</td>\n      <td>The Beatles</td>\n      <td>174.0</td>\n      <td>7.0</td>\n      <td>NaN</td>\n      <td>NaN</td>\n      <td>NaN</td>\n      <td>Soul, Blues Rock, Hard Rock, Pop/Rock</td>\n      <td>...</td>\n      <td>NaN</td>\n      <td>NaN</td>\n      <td>NaN</td>\n      <td>NaN</td>\n      <td>NaN</td>\n      <td>NaN</td>\n      <td>NaN</td>\n      <td>NaN</td>\n      <td>NaN</td>\n      <td>NaN</td>\n    </tr>\n    <tr>\n      <th>275</th>\n      <td>Too Much Monkey Business</td>\n      <td>1963</td>\n      <td>Live at the BBC</td>\n      <td>Live at the BBC</td>\n      <td>176.0</td>\n      <td>NaN</td>\n      <td>NaN</td>\n      <td>NaN</td>\n      <td>NaN</td>\n      <td>Rock and Roll, R&amp;B, Pop/Rock</td>\n      <td>...</td>\n      <td>NaN</td>\n      <td>NaN</td>\n      <td>NaN</td>\n      <td>NaN</td>\n      <td>NaN</td>\n      <td>NaN</td>\n      <td>NaN</td>\n      <td>NaN</td>\n      <td>NaN</td>\n      <td>NaN</td>\n    </tr>\n    <tr>\n      <th>200</th>\n      <td>Only a Northern Song</td>\n      <td>1967</td>\n      <td>Yellow Submarine</td>\n      <td>Yellow Submarine</td>\n      <td>207.0</td>\n      <td>9.0</td>\n      <td>NaN</td>\n      <td>NaN</td>\n      <td>NaN</td>\n      <td>Psychedelic Rock, Pop/Rock</td>\n      <td>...</td>\n      <td>NaN</td>\n      <td>NaN</td>\n      <td>NaN</td>\n      <td>NaN</td>\n      <td>NaN</td>\n      <td>NaN</td>\n      <td>NaN</td>\n      <td>NaN</td>\n      <td>NaN</td>\n      <td>NaN</td>\n    </tr>\n    <tr>\n      <th>232</th>\n      <td>Sie Liebt Dich</td>\n      <td>1964</td>\n      <td>UK: Rarities US: Rarities</td>\n      <td>UK: Rarities US: Rarities</td>\n      <td>139.0</td>\n      <td>9.0</td>\n      <td>Komm Gib Mir Deine Hand; Sie Liebt Dich</td>\n      <td>Sie Liebt Dich; I'll Get You</td>\n      <td>NaN</td>\n      <td>Rock and Roll, Pop/Rock</td>\n      <td>...</td>\n      <td>NaN</td>\n      <td>NaN</td>\n      <td>NaN</td>\n      <td>NaN</td>\n      <td>NaN</td>\n      <td>NaN</td>\n      <td>NaN</td>\n      <td>NaN</td>\n      <td>NaN</td>\n      <td>NaN</td>\n    </tr>\n    <tr>\n      <th>251</th>\n      <td>That Means a Lot</td>\n      <td>1965</td>\n      <td>Anthology 2</td>\n      <td>Anthology 2</td>\n      <td>146.0</td>\n      <td>NaN</td>\n      <td>NaN</td>\n      <td>NaN</td>\n      <td>NaN</td>\n      <td>Rock, Pop/Rock</td>\n      <td>...</td>\n      <td>NaN</td>\n      <td>NaN</td>\n      <td>NaN</td>\n      <td>NaN</td>\n      <td>NaN</td>\n      <td>NaN</td>\n      <td>NaN</td>\n      <td>NaN</td>\n      <td>NaN</td>\n      <td>NaN</td>\n    </tr>\n  </tbody>\n</table>\n<p>10 rows × 31 columns</p>\n</div>"
     },
     "metadata": {},
     "output_type": "display_data"
    }
   ],
   "source": [
    "songs = songs[c]\n",
    "display(songs.sample(10))"
   ],
   "metadata": {
    "collapsed": false,
    "ExecuteTime": {
     "end_time": "2023-07-16T16:44:55.291060200Z",
     "start_time": "2023-07-16T16:44:55.266523900Z"
    }
   }
  },
  {
   "cell_type": "markdown",
   "source": [
    "### Replace the album titles in the *Album* column with original UK titles only"
   ],
   "metadata": {
    "collapsed": false
   }
  },
  {
   "cell_type": "code",
   "execution_count": 9,
   "outputs": [],
   "source": [
    "songs['Album'].replace(\"UK: A Hard Day's Night US: 1962-1966\", \"A Hard Day's Night\", inplace=True)\n",
    "songs['Album'].replace('UK: Please Please Me US: The Early Beatles', 'Please Please Me', inplace=True)\n",
    "songs['Album'].replace('UK: Help! US: Yesterday and Today', 'Help!', inplace=True)\n",
    "songs['Album'].replace(\"UK: A Hard Day's Night US: Something New\", \"A Hard Day's Night\", inplace=True)\n",
    "songs['Album'].replace('UK: With the Beatles US: Meet The Beatles!', 'With the Beatles', inplace=True)\n",
    "songs['Album'].replace('UK: Revolver US: Yesterday and Today', 'Revolver', inplace=True)\n",
    "songs['Album'].replace(\"UK: Beatles for Sale US: Beatles '65\", \"Beatles for Sale\", inplace=True)\n",
    "songs['Album'].replace('UK: A Collection of Beatles Oldies US: Beatles VI', 'A Collection of Beatles Oldies', inplace=True)\n",
    "songs['Album'].replace(\"UK: A Hard Day's Night US: Hey Jude\", \"A Hard Day's Night\", inplace=True)\n",
    "songs['Album'].replace(\"UK: A Hard Day's Night US: Hey Jude\", \"A Hard Day's Night\", inplace=True)\n",
    "songs['Album'].replace('UK: A Collection of Beatles Oldies US: Yesterday and Today', 'A Collection of Beatles Oldies', inplace=True)\n",
    "songs['Album'].replace('UK: With the Beatles US: The Beatles Second Album', 'With the Beatles', inplace=True)\n",
    "songs['Album'].replace('UK: Help! US: Beatles VI', 'Help!', inplace=True)\n",
    "songs['Album'].replace('UK: 1967-1970 US: Hey Jude', '1967-1970', inplace=True)\n",
    "songs['Album'].replace('UK: Rubber Soul US: Yesterday and Today', 'Rubber Soul', inplace=True)\n",
    "songs['Album'].replace('UK: Beatles for Sale US: Beatles VI', 'Beatles for Sale', inplace=True)\n",
    "songs['Album'].replace('UK: A Collection of Beatles Oldies US: 1962-1966', 'A Collection of Beatles Oldies', inplace=True)\n",
    "songs['Album'].replace('Past Masters Volume 1', 'Past Masters Volume 1', inplace=True)\n",
    "songs['Album'].replace(\"UK: A Collection of Beatles Oldies US: Beatles '65\", \"A Collection of Beatles Oldies\", inplace=True)\n",
    "songs['Album'].replace('UK: Please Please Me US: Meet The Beatles!', 'Please Please Me', inplace=True)\n",
    "songs['Album'].replace('UK: A Collection of Beatles Oldies US: Meet The Beatles!', 'A Collection of Beatles Oldies', inplace=True)\n",
    "songs['Album'].replace(\"UK: A Hard Day's Night US: Beatles '65\", \"A Hard Day's Night\", inplace=True)\n",
    "songs['Album'].replace('UK: Help! US: Rubber Soul', 'Help!', inplace=True)\n",
    "songs['Album'].replace('UK: Rarities US: Something New', 'Rarities', inplace=True)\n",
    "songs['Album'].replace(\"UK: Rock 'n' Roll Music US: The Beatles Second Album\", \"Rock 'n' Roll Music\", inplace=True)\n",
    "songs['Album'].replace(\"UK: Rock 'n' Roll Music US: Something New\", \"Rock 'n' Roll Music\", inplace=True)\n",
    "songs['Album'].replace('UK: Please Please Me US: Rarities', 'Please Please Me', inplace=True)\n",
    "songs['Album'].replace('UK: A Collection of Beatles Oldies US: Hey Jude', 'A Collection of Beatles Oldies', inplace=True)\n",
    "songs['Album'].replace('UK: Rarities US: Hey Jude', 'Rarities', inplace=True)\n",
    "songs['Album'].replace('UK: A Collection of Beatles Oldies US: The Beatles Second Album', 'A Collection of Beatles Oldies', inplace=True)\n",
    "songs['Album'].replace(\"UK: Rarities US: Beatles '65\", \"Rarities\", inplace=True)\n",
    "songs['Album'].replace('UK: Rarities US: The Beatles Second Album', 'Rarities', inplace=True)\n",
    "songs['Album'].replace('UK: Rarities US: Meet The Beatles!', 'Rarities', inplace=True)\n",
    "songs['Album'].replace('UK: Rarities US: Beatles VI', 'Rarities', inplace=True)\n",
    "songs['Album'].replace(\"UK: A Hard Day's Night US: The Beatles Second Album\", \"A Hard Day's Night\", inplace=True)\n",
    "songs['Album'].replace('UK: Past Masters Volume 1 US: The Beatles Second Album', 'Past Masters Volume 1', inplace=True)\n",
    "songs['Album'].replace('UK: Rarities US: Rarities', 'Rarities', inplace=True)"
   ],
   "metadata": {
    "collapsed": false,
    "ExecuteTime": {
     "end_time": "2023-07-16T16:47:32.913542400Z",
     "start_time": "2023-07-16T16:47:32.891512800Z"
    }
   }
  },
  {
   "cell_type": "code",
   "execution_count": 10,
   "outputs": [
    {
     "data": {
      "text/plain": "27"
     },
     "metadata": {},
     "output_type": "display_data"
    },
    {
     "data": {
      "text/plain": "array(['Anthology 2', \"Sgt. Pepper's Lonely Hearts Club Band\",\n       \"A Hard Day's Night\", 'Live at the BBC', 'Please Please Me',\n       'Let It Be', 'Help!', 'Anthology 1', 'With the Beatles',\n       'Anthology 3', 'Yellow Submarine', 'Magical Mystery Tour',\n       'Revolver', 'Beatles for Sale', 'The Beatles',\n       'A Collection of Beatles Oldies',\n       'The Beatles Bootleg Recordings 1963',\n       'On Air – Live at the BBC Volume 2',\n       'Let It Be... Naked - Fly on the Wall bonus disc', 'Abbey Road',\n       nan, \"The Beatles' Christmas Album\", '1967-1970', 'Rubber Soul',\n       'Past Masters Volume 1', \"Rock 'n' Roll Music\",\n       'Live! at the Star-Club in Hamburg, Germany; 1962', 'Rarities'],\n      dtype=object)"
     },
     "metadata": {},
     "output_type": "display_data"
    }
   ],
   "source": [
    "display(songs['Album'].nunique())\n",
    "display(songs['Album'].unique())"
   ],
   "metadata": {
    "collapsed": false,
    "ExecuteTime": {
     "end_time": "2023-07-16T16:47:42.061599700Z",
     "start_time": "2023-07-16T16:47:42.044213700Z"
    }
   }
  },
  {
   "cell_type": "markdown",
   "source": [
    "### Display the resulting dataframe"
   ],
   "metadata": {
    "collapsed": false
   }
  },
  {
   "cell_type": "code",
   "execution_count": 11,
   "outputs": [
    {
     "data": {
      "text/plain": "                       Title  Year                                  Album  \\\n263       The Sheik of Araby  1962                            Anthology 1   \n203         Paperback Writer  1966         A Collection of Beatles Oldies   \n63             Eleanor Rigby  1966                               Revolver   \n212             Revolution 9  1968                            The Beatles   \n291   Within You Without You  1967  Sgt. Pepper's Lonely Hearts Club Band   \n253  That's All Right (Mama)  1963                        Live at the BBC   \n82         Good Day Sunshine  1966                               Revolver   \n168              Love You To  1966                               Revolver   \n250           Thank You Girl  1963                               Rarities   \n134        I'm Only Sleeping  1966                               Revolver   \n\n                                         Album debut  Duration  \\\n263                                      Anthology 1       NaN   \n203  UK: A Collection of Beatles Oldies US: Hey Jude     138.0   \n63                                          Revolver     128.0   \n212                                      The Beatles     502.0   \n291            Sgt. Pepper's Lonely Hearts Club Band     305.0   \n253                                  Live at the BBC     176.0   \n82                                          Revolver     129.0   \n168                                         Revolver     181.0   \n250        UK: Rarities US: The Beatles Second Album     121.0   \n134             UK: Revolver US: Yesterday and Today     182.0   \n\n     Other releases                                  Single A side  \\\n263             NaN                                            NaN   \n203            27.0                               Paperback Writer   \n63             16.0                               Yellow Submarine   \n212             7.0                                            NaN   \n291             7.0                                            NaN   \n253             NaN                                            NaN   \n82              7.0                                            NaN   \n168             8.0                                            NaN   \n250            21.0  From Me to You; Do You Want to Know a Secret?   \n134            10.0                                            NaN   \n\n                      Single B side Single certification  \\\n263                             NaN                  NaN   \n203                            Rain            RIAA Gold   \n63                    Eleanor Rigby            RIAA Gold   \n212                             NaN                  NaN   \n291                             NaN                  NaN   \n253                             NaN                  NaN   \n82                              NaN                  NaN   \n168                             NaN                  NaN   \n250  Thank You Girl; Thank You Girl                  NaN   \n134                             NaN                  NaN   \n\n                                                 Genre  ...  \\\n263                                     Jazz, Pop/Rock  ...   \n203   Hard Rock, Power Pop, Psychedelic Rock, Pop/Rock  ...   \n63                     Baroque Pop, Art Rock, Pop/Rock  ...   \n212  Avant-Garde, Musique Concrete, Experimental, S...  ...   \n291              Indian Classical, Raga Rock, Pop/Rock  ...   \n253                               Rockabilly, Pop/Rock  ...   \n82                  Sunshine Pop, Music Hall, Pop/Rock  ...   \n168                            Indian Music, Raga Rock  ...   \n250                               Merseybeat, Pop/Rock  ...   \n134       Psychedelic Rock, Psychedelic Folk, Pop/Rock  ...   \n\n    Weeks at No1 in UK (The Guardian) Highest position (Billboard)  \\\n263                               NaN                          NaN   \n203                               2.0                          1.0   \n63                                NaN                         11.0   \n212                               NaN                          NaN   \n291                               NaN                          NaN   \n253                               NaN                          NaN   \n82                                NaN                          NaN   \n168                               NaN                          NaN   \n250                               NaN                         35.0   \n134                               NaN                          NaN   \n\n    Weeks at No1 (Billboard) Top 50 (Billboard)  \\\n263                      NaN                NaN   \n203                      2.0               19.0   \n63                       NaN               38.0   \n212                      NaN                NaN   \n291                      NaN                NaN   \n253                      NaN                NaN   \n82                       NaN                NaN   \n168                      NaN                NaN   \n250                      NaN               46.0   \n134                      NaN                NaN   \n\n    Top 50 (Ultimate classic rock) Top 50 (Rolling Stone)  Top 50 (NME)  \\\n263                            NaN                    NaN           NaN   \n203                           33.0                   35.0          17.0   \n63                            16.0                   22.0          27.0   \n212                            NaN                    NaN           NaN   \n291                            NaN                    NaN           NaN   \n253                            NaN                    NaN           NaN   \n82                             NaN                    NaN           NaN   \n168                            NaN                    NaN           NaN   \n250                            NaN                    NaN           NaN   \n134                            NaN                    NaN           NaN   \n\n     Top 50 (Top50songs.org)  Top 50 (USA today, 2017)  \\\n263                      NaN                       NaN   \n203                      NaN                      42.0   \n63                       9.0                      12.0   \n212                      NaN                       NaN   \n291                      NaN                       NaN   \n253                      NaN                       NaN   \n82                       NaN                       NaN   \n168                      NaN                       NaN   \n250                      NaN                       NaN   \n134                      NaN                      48.0   \n\n     Top 50 (Vulture, by Bill Wyman)  \n263                              NaN  \n203                             40.0  \n63                               9.0  \n212                              NaN  \n291                              NaN  \n253                              NaN  \n82                               NaN  \n168                              NaN  \n250                              NaN  \n134                              NaN  \n\n[10 rows x 31 columns]",
      "text/html": "<div>\n<style scoped>\n    .dataframe tbody tr th:only-of-type {\n        vertical-align: middle;\n    }\n\n    .dataframe tbody tr th {\n        vertical-align: top;\n    }\n\n    .dataframe thead th {\n        text-align: right;\n    }\n</style>\n<table border=\"1\" class=\"dataframe\">\n  <thead>\n    <tr style=\"text-align: right;\">\n      <th></th>\n      <th>Title</th>\n      <th>Year</th>\n      <th>Album</th>\n      <th>Album debut</th>\n      <th>Duration</th>\n      <th>Other releases</th>\n      <th>Single A side</th>\n      <th>Single B side</th>\n      <th>Single certification</th>\n      <th>Genre</th>\n      <th>...</th>\n      <th>Weeks at No1 in UK (The Guardian)</th>\n      <th>Highest position (Billboard)</th>\n      <th>Weeks at No1 (Billboard)</th>\n      <th>Top 50 (Billboard)</th>\n      <th>Top 50 (Ultimate classic rock)</th>\n      <th>Top 50 (Rolling Stone)</th>\n      <th>Top 50 (NME)</th>\n      <th>Top 50 (Top50songs.org)</th>\n      <th>Top 50 (USA today, 2017)</th>\n      <th>Top 50 (Vulture, by Bill Wyman)</th>\n    </tr>\n  </thead>\n  <tbody>\n    <tr>\n      <th>263</th>\n      <td>The Sheik of Araby</td>\n      <td>1962</td>\n      <td>Anthology 1</td>\n      <td>Anthology 1</td>\n      <td>NaN</td>\n      <td>NaN</td>\n      <td>NaN</td>\n      <td>NaN</td>\n      <td>NaN</td>\n      <td>Jazz, Pop/Rock</td>\n      <td>...</td>\n      <td>NaN</td>\n      <td>NaN</td>\n      <td>NaN</td>\n      <td>NaN</td>\n      <td>NaN</td>\n      <td>NaN</td>\n      <td>NaN</td>\n      <td>NaN</td>\n      <td>NaN</td>\n      <td>NaN</td>\n    </tr>\n    <tr>\n      <th>203</th>\n      <td>Paperback Writer</td>\n      <td>1966</td>\n      <td>A Collection of Beatles Oldies</td>\n      <td>UK: A Collection of Beatles Oldies US: Hey Jude</td>\n      <td>138.0</td>\n      <td>27.0</td>\n      <td>Paperback Writer</td>\n      <td>Rain</td>\n      <td>RIAA Gold</td>\n      <td>Hard Rock, Power Pop, Psychedelic Rock, Pop/Rock</td>\n      <td>...</td>\n      <td>2.0</td>\n      <td>1.0</td>\n      <td>2.0</td>\n      <td>19.0</td>\n      <td>33.0</td>\n      <td>35.0</td>\n      <td>17.0</td>\n      <td>NaN</td>\n      <td>42.0</td>\n      <td>40.0</td>\n    </tr>\n    <tr>\n      <th>63</th>\n      <td>Eleanor Rigby</td>\n      <td>1966</td>\n      <td>Revolver</td>\n      <td>Revolver</td>\n      <td>128.0</td>\n      <td>16.0</td>\n      <td>Yellow Submarine</td>\n      <td>Eleanor Rigby</td>\n      <td>RIAA Gold</td>\n      <td>Baroque Pop, Art Rock, Pop/Rock</td>\n      <td>...</td>\n      <td>NaN</td>\n      <td>11.0</td>\n      <td>NaN</td>\n      <td>38.0</td>\n      <td>16.0</td>\n      <td>22.0</td>\n      <td>27.0</td>\n      <td>9.0</td>\n      <td>12.0</td>\n      <td>9.0</td>\n    </tr>\n    <tr>\n      <th>212</th>\n      <td>Revolution 9</td>\n      <td>1968</td>\n      <td>The Beatles</td>\n      <td>The Beatles</td>\n      <td>502.0</td>\n      <td>7.0</td>\n      <td>NaN</td>\n      <td>NaN</td>\n      <td>NaN</td>\n      <td>Avant-Garde, Musique Concrete, Experimental, S...</td>\n      <td>...</td>\n      <td>NaN</td>\n      <td>NaN</td>\n      <td>NaN</td>\n      <td>NaN</td>\n      <td>NaN</td>\n      <td>NaN</td>\n      <td>NaN</td>\n      <td>NaN</td>\n      <td>NaN</td>\n      <td>NaN</td>\n    </tr>\n    <tr>\n      <th>291</th>\n      <td>Within You Without You</td>\n      <td>1967</td>\n      <td>Sgt. Pepper's Lonely Hearts Club Band</td>\n      <td>Sgt. Pepper's Lonely Hearts Club Band</td>\n      <td>305.0</td>\n      <td>7.0</td>\n      <td>NaN</td>\n      <td>NaN</td>\n      <td>NaN</td>\n      <td>Indian Classical, Raga Rock, Pop/Rock</td>\n      <td>...</td>\n      <td>NaN</td>\n      <td>NaN</td>\n      <td>NaN</td>\n      <td>NaN</td>\n      <td>NaN</td>\n      <td>NaN</td>\n      <td>NaN</td>\n      <td>NaN</td>\n      <td>NaN</td>\n      <td>NaN</td>\n    </tr>\n    <tr>\n      <th>253</th>\n      <td>That's All Right (Mama)</td>\n      <td>1963</td>\n      <td>Live at the BBC</td>\n      <td>Live at the BBC</td>\n      <td>176.0</td>\n      <td>NaN</td>\n      <td>NaN</td>\n      <td>NaN</td>\n      <td>NaN</td>\n      <td>Rockabilly, Pop/Rock</td>\n      <td>...</td>\n      <td>NaN</td>\n      <td>NaN</td>\n      <td>NaN</td>\n      <td>NaN</td>\n      <td>NaN</td>\n      <td>NaN</td>\n      <td>NaN</td>\n      <td>NaN</td>\n      <td>NaN</td>\n      <td>NaN</td>\n    </tr>\n    <tr>\n      <th>82</th>\n      <td>Good Day Sunshine</td>\n      <td>1966</td>\n      <td>Revolver</td>\n      <td>Revolver</td>\n      <td>129.0</td>\n      <td>7.0</td>\n      <td>NaN</td>\n      <td>NaN</td>\n      <td>NaN</td>\n      <td>Sunshine Pop, Music Hall, Pop/Rock</td>\n      <td>...</td>\n      <td>NaN</td>\n      <td>NaN</td>\n      <td>NaN</td>\n      <td>NaN</td>\n      <td>NaN</td>\n      <td>NaN</td>\n      <td>NaN</td>\n      <td>NaN</td>\n      <td>NaN</td>\n      <td>NaN</td>\n    </tr>\n    <tr>\n      <th>168</th>\n      <td>Love You To</td>\n      <td>1966</td>\n      <td>Revolver</td>\n      <td>Revolver</td>\n      <td>181.0</td>\n      <td>8.0</td>\n      <td>NaN</td>\n      <td>NaN</td>\n      <td>NaN</td>\n      <td>Indian Music, Raga Rock</td>\n      <td>...</td>\n      <td>NaN</td>\n      <td>NaN</td>\n      <td>NaN</td>\n      <td>NaN</td>\n      <td>NaN</td>\n      <td>NaN</td>\n      <td>NaN</td>\n      <td>NaN</td>\n      <td>NaN</td>\n      <td>NaN</td>\n    </tr>\n    <tr>\n      <th>250</th>\n      <td>Thank You Girl</td>\n      <td>1963</td>\n      <td>Rarities</td>\n      <td>UK: Rarities US: The Beatles Second Album</td>\n      <td>121.0</td>\n      <td>21.0</td>\n      <td>From Me to You; Do You Want to Know a Secret?</td>\n      <td>Thank You Girl; Thank You Girl</td>\n      <td>NaN</td>\n      <td>Merseybeat, Pop/Rock</td>\n      <td>...</td>\n      <td>NaN</td>\n      <td>35.0</td>\n      <td>NaN</td>\n      <td>46.0</td>\n      <td>NaN</td>\n      <td>NaN</td>\n      <td>NaN</td>\n      <td>NaN</td>\n      <td>NaN</td>\n      <td>NaN</td>\n    </tr>\n    <tr>\n      <th>134</th>\n      <td>I'm Only Sleeping</td>\n      <td>1966</td>\n      <td>Revolver</td>\n      <td>UK: Revolver US: Yesterday and Today</td>\n      <td>182.0</td>\n      <td>10.0</td>\n      <td>NaN</td>\n      <td>NaN</td>\n      <td>NaN</td>\n      <td>Psychedelic Rock, Psychedelic Folk, Pop/Rock</td>\n      <td>...</td>\n      <td>NaN</td>\n      <td>NaN</td>\n      <td>NaN</td>\n      <td>NaN</td>\n      <td>NaN</td>\n      <td>NaN</td>\n      <td>NaN</td>\n      <td>NaN</td>\n      <td>48.0</td>\n      <td>NaN</td>\n    </tr>\n  </tbody>\n</table>\n<p>10 rows × 31 columns</p>\n</div>"
     },
     "metadata": {},
     "output_type": "display_data"
    }
   ],
   "source": [
    "display(songs.sample(10))"
   ],
   "metadata": {
    "collapsed": false,
    "ExecuteTime": {
     "end_time": "2023-07-16T16:49:21.686301100Z",
     "start_time": "2023-07-16T16:49:21.667077700Z"
    }
   }
  },
  {
   "cell_type": "markdown",
   "source": [
    "### Save the resulting dataframe as *'../data/The Beatles songs dataset, 310x31, v0 (Album).csv'*"
   ],
   "metadata": {
    "collapsed": false
   }
  },
  {
   "cell_type": "code",
   "execution_count": 12,
   "outputs": [],
   "source": [
    "songs.to_csv('../data/The Beatles songs dataset, 310x31 (Album), v0.csv', index=False)"
   ],
   "metadata": {
    "collapsed": false,
    "ExecuteTime": {
     "end_time": "2023-07-16T16:49:51.058070400Z",
     "start_time": "2023-07-16T16:49:51.026588600Z"
    }
   }
  },
  {
   "cell_type": "markdown",
   "source": [
    "Repeat the same process for all the other starting datasets."
   ],
   "metadata": {
    "collapsed": false
   }
  },
  {
   "cell_type": "markdown",
   "source": [
    "## Get The Beatles rarities\n",
    "VD compiled on Spotify all tracks that do not appear on official albums and were not released as singles. These tracks appeared on *Anthology 1, 2 & 3*, *Live at BBC*, *On Air - Live at the BBC (Vol.2)*, *The Beatles - Esher Demos*, and on remastered, super de lux re-editions of official albums. The tracks in this compilation do not include studio chats, interviews, and similar tracks included in the *Anthology 1, 2 & 3* releases."
   ],
   "metadata": {
    "collapsed": false
   }
  },
  {
   "cell_type": "markdown",
   "source": [
    "### Get the tracks"
   ],
   "metadata": {
    "collapsed": false
   }
  },
  {
   "cell_type": "code",
   "execution_count": 13,
   "outputs": [],
   "source": [
    "THE_BEATLES_RARITIES_PLAYLIST = 'https://open.spotify.com/playlist/2WFONxa1Xy9Ungw7F1OZPc?si=f3bc1f6d1e374322'     # 223 songs"
   ],
   "metadata": {
    "collapsed": false,
    "ExecuteTime": {
     "end_time": "2023-07-17T16:06:12.436308800Z",
     "start_time": "2023-07-17T16:06:12.407612300Z"
    }
   }
  },
  {
   "cell_type": "code",
   "execution_count": 16,
   "outputs": [
    {
     "data": {
      "text/plain": "                                      URI  \\\n0    spotify:track:49GqhxyTdBXAn4cB8EAbTo   \n1    spotify:track:2cQGln8y7OgSOLxSHkgehd   \n2    spotify:track:367pXH5eEqHPYvbee1VxrC   \n3    spotify:track:3LhwP2LcoiaIxMxRnU6zez   \n4    spotify:track:5D6TY2nkWmC0fijXKuYQrm   \n..                                    ...   \n218  spotify:track:3szBij9Q2RnaJ6EPGzy7CF   \n219  spotify:track:1LSOsTXh8o9iW6b4OAFudh   \n220  spotify:track:7dIPpPDof51ZxfGbbOV8ZK   \n221  spotify:track:6ov15QioxNtZxPW7nlC7uC   \n222  spotify:track:5yAbOoR9GOsSHywhsP3wrJ   \n\n                                                 Title  \\\n0                                 Circles - Esher Demo   \n1                                  Goodbye - Home Demo   \n2                                    Junk - Esher Demo   \n3                           Sour Milk Sea - Esher Demo   \n4                       Can You Take Me Back? - Take 1   \n..                                                 ...   \n218  You Can't Do That - Live At The BBC For \"Top G...   \n219  Honey Don't - Live At The BBC For \"Top Gear\" /...   \n220  I'll Follow The Sun - Live At The BBC For \"Top...   \n221  Kansas City / Hey-Hey-Hey-Hey! - Live At The B...   \n222  I Feel Fine (Studio Out-take) - Live At The BB...   \n\n                                 Album  Popularity  Duration  Key  Mode  \\\n0                          The Beatles          30       137    8     1   \n1    Abbey Road (Super Deluxe Edition)          45       144   11     1   \n2                          The Beatles          34       157    8     1   \n3                          The Beatles          31       224    7     1   \n4                          The Beatles          30       142    5     1   \n..                                 ...         ...       ...  ...   ...   \n218   On Air - Live At The BBC (Vol.2)          22       152    0     1   \n219   On Air - Live At The BBC (Vol.2)          22       144    9     1   \n220   On Air - Live At The BBC (Vol.2)          27       111    0     1   \n221   On Air - Live At The BBC (Vol.2)          22       163    0     1   \n222   On Air - Live At The BBC (Vol.2)          22       209    2     1   \n\n       Tempo  Time_signature  Valence  Danceability  Energy  Loudness  \\\n0    101.504               3    0.121         0.267   0.132   -11.610   \n1    126.695               3    0.563         0.556   0.174   -15.047   \n2    137.685               4    0.263         0.370   0.171   -14.625   \n3    127.317               4    0.402         0.662   0.392    -9.967   \n4     79.355               4    0.746         0.728   0.276   -13.381   \n..       ...             ...      ...           ...     ...       ...   \n218  128.312               4    0.658         0.668   0.449   -13.986   \n219  163.987               4    0.636         0.546   0.487   -12.855   \n220  127.694               4    0.855         0.768   0.370   -14.013   \n221  131.163               4    0.846         0.673   0.818    -8.848   \n222   90.588               4    0.504         0.599   0.492   -12.775   \n\n     Acousticness  Instrumentalness  Liveness  Speechiness  \n0         0.35100          0.000015    0.1000       0.0378  \n1         0.91800          0.000681    0.1140       0.0462  \n2         0.90000          0.353000    0.1050       0.0289  \n3         0.86000          0.000008    0.3780       0.0509  \n4         0.68200          0.000000    0.1540       0.0539  \n..            ...               ...       ...          ...  \n218       0.00236          0.000002    0.3300       0.0408  \n219       0.20700          0.000031    0.1970       0.0403  \n220       0.35900          0.000193    0.1800       0.0314  \n221       0.55100          0.000065    0.6540       0.0415  \n222       0.32200          0.000024    0.0923       0.0695  \n\n[223 rows x 17 columns]",
      "text/html": "<div>\n<style scoped>\n    .dataframe tbody tr th:only-of-type {\n        vertical-align: middle;\n    }\n\n    .dataframe tbody tr th {\n        vertical-align: top;\n    }\n\n    .dataframe thead th {\n        text-align: right;\n    }\n</style>\n<table border=\"1\" class=\"dataframe\">\n  <thead>\n    <tr style=\"text-align: right;\">\n      <th></th>\n      <th>URI</th>\n      <th>Title</th>\n      <th>Album</th>\n      <th>Popularity</th>\n      <th>Duration</th>\n      <th>Key</th>\n      <th>Mode</th>\n      <th>Tempo</th>\n      <th>Time_signature</th>\n      <th>Valence</th>\n      <th>Danceability</th>\n      <th>Energy</th>\n      <th>Loudness</th>\n      <th>Acousticness</th>\n      <th>Instrumentalness</th>\n      <th>Liveness</th>\n      <th>Speechiness</th>\n    </tr>\n  </thead>\n  <tbody>\n    <tr>\n      <th>0</th>\n      <td>spotify:track:49GqhxyTdBXAn4cB8EAbTo</td>\n      <td>Circles - Esher Demo</td>\n      <td>The Beatles</td>\n      <td>30</td>\n      <td>137</td>\n      <td>8</td>\n      <td>1</td>\n      <td>101.504</td>\n      <td>3</td>\n      <td>0.121</td>\n      <td>0.267</td>\n      <td>0.132</td>\n      <td>-11.610</td>\n      <td>0.35100</td>\n      <td>0.000015</td>\n      <td>0.1000</td>\n      <td>0.0378</td>\n    </tr>\n    <tr>\n      <th>1</th>\n      <td>spotify:track:2cQGln8y7OgSOLxSHkgehd</td>\n      <td>Goodbye - Home Demo</td>\n      <td>Abbey Road (Super Deluxe Edition)</td>\n      <td>45</td>\n      <td>144</td>\n      <td>11</td>\n      <td>1</td>\n      <td>126.695</td>\n      <td>3</td>\n      <td>0.563</td>\n      <td>0.556</td>\n      <td>0.174</td>\n      <td>-15.047</td>\n      <td>0.91800</td>\n      <td>0.000681</td>\n      <td>0.1140</td>\n      <td>0.0462</td>\n    </tr>\n    <tr>\n      <th>2</th>\n      <td>spotify:track:367pXH5eEqHPYvbee1VxrC</td>\n      <td>Junk - Esher Demo</td>\n      <td>The Beatles</td>\n      <td>34</td>\n      <td>157</td>\n      <td>8</td>\n      <td>1</td>\n      <td>137.685</td>\n      <td>4</td>\n      <td>0.263</td>\n      <td>0.370</td>\n      <td>0.171</td>\n      <td>-14.625</td>\n      <td>0.90000</td>\n      <td>0.353000</td>\n      <td>0.1050</td>\n      <td>0.0289</td>\n    </tr>\n    <tr>\n      <th>3</th>\n      <td>spotify:track:3LhwP2LcoiaIxMxRnU6zez</td>\n      <td>Sour Milk Sea - Esher Demo</td>\n      <td>The Beatles</td>\n      <td>31</td>\n      <td>224</td>\n      <td>7</td>\n      <td>1</td>\n      <td>127.317</td>\n      <td>4</td>\n      <td>0.402</td>\n      <td>0.662</td>\n      <td>0.392</td>\n      <td>-9.967</td>\n      <td>0.86000</td>\n      <td>0.000008</td>\n      <td>0.3780</td>\n      <td>0.0509</td>\n    </tr>\n    <tr>\n      <th>4</th>\n      <td>spotify:track:5D6TY2nkWmC0fijXKuYQrm</td>\n      <td>Can You Take Me Back? - Take 1</td>\n      <td>The Beatles</td>\n      <td>30</td>\n      <td>142</td>\n      <td>5</td>\n      <td>1</td>\n      <td>79.355</td>\n      <td>4</td>\n      <td>0.746</td>\n      <td>0.728</td>\n      <td>0.276</td>\n      <td>-13.381</td>\n      <td>0.68200</td>\n      <td>0.000000</td>\n      <td>0.1540</td>\n      <td>0.0539</td>\n    </tr>\n    <tr>\n      <th>...</th>\n      <td>...</td>\n      <td>...</td>\n      <td>...</td>\n      <td>...</td>\n      <td>...</td>\n      <td>...</td>\n      <td>...</td>\n      <td>...</td>\n      <td>...</td>\n      <td>...</td>\n      <td>...</td>\n      <td>...</td>\n      <td>...</td>\n      <td>...</td>\n      <td>...</td>\n      <td>...</td>\n      <td>...</td>\n    </tr>\n    <tr>\n      <th>218</th>\n      <td>spotify:track:3szBij9Q2RnaJ6EPGzy7CF</td>\n      <td>You Can't Do That - Live At The BBC For \"Top G...</td>\n      <td>On Air - Live At The BBC (Vol.2)</td>\n      <td>22</td>\n      <td>152</td>\n      <td>0</td>\n      <td>1</td>\n      <td>128.312</td>\n      <td>4</td>\n      <td>0.658</td>\n      <td>0.668</td>\n      <td>0.449</td>\n      <td>-13.986</td>\n      <td>0.00236</td>\n      <td>0.000002</td>\n      <td>0.3300</td>\n      <td>0.0408</td>\n    </tr>\n    <tr>\n      <th>219</th>\n      <td>spotify:track:1LSOsTXh8o9iW6b4OAFudh</td>\n      <td>Honey Don't - Live At The BBC For \"Top Gear\" /...</td>\n      <td>On Air - Live At The BBC (Vol.2)</td>\n      <td>22</td>\n      <td>144</td>\n      <td>9</td>\n      <td>1</td>\n      <td>163.987</td>\n      <td>4</td>\n      <td>0.636</td>\n      <td>0.546</td>\n      <td>0.487</td>\n      <td>-12.855</td>\n      <td>0.20700</td>\n      <td>0.000031</td>\n      <td>0.1970</td>\n      <td>0.0403</td>\n    </tr>\n    <tr>\n      <th>220</th>\n      <td>spotify:track:7dIPpPDof51ZxfGbbOV8ZK</td>\n      <td>I'll Follow The Sun - Live At The BBC For \"Top...</td>\n      <td>On Air - Live At The BBC (Vol.2)</td>\n      <td>27</td>\n      <td>111</td>\n      <td>0</td>\n      <td>1</td>\n      <td>127.694</td>\n      <td>4</td>\n      <td>0.855</td>\n      <td>0.768</td>\n      <td>0.370</td>\n      <td>-14.013</td>\n      <td>0.35900</td>\n      <td>0.000193</td>\n      <td>0.1800</td>\n      <td>0.0314</td>\n    </tr>\n    <tr>\n      <th>221</th>\n      <td>spotify:track:6ov15QioxNtZxPW7nlC7uC</td>\n      <td>Kansas City / Hey-Hey-Hey-Hey! - Live At The B...</td>\n      <td>On Air - Live At The BBC (Vol.2)</td>\n      <td>22</td>\n      <td>163</td>\n      <td>0</td>\n      <td>1</td>\n      <td>131.163</td>\n      <td>4</td>\n      <td>0.846</td>\n      <td>0.673</td>\n      <td>0.818</td>\n      <td>-8.848</td>\n      <td>0.55100</td>\n      <td>0.000065</td>\n      <td>0.6540</td>\n      <td>0.0415</td>\n    </tr>\n    <tr>\n      <th>222</th>\n      <td>spotify:track:5yAbOoR9GOsSHywhsP3wrJ</td>\n      <td>I Feel Fine (Studio Out-take) - Live At The BB...</td>\n      <td>On Air - Live At The BBC (Vol.2)</td>\n      <td>22</td>\n      <td>209</td>\n      <td>2</td>\n      <td>1</td>\n      <td>90.588</td>\n      <td>4</td>\n      <td>0.504</td>\n      <td>0.599</td>\n      <td>0.492</td>\n      <td>-12.775</td>\n      <td>0.32200</td>\n      <td>0.000024</td>\n      <td>0.0923</td>\n      <td>0.0695</td>\n    </tr>\n  </tbody>\n</table>\n<p>223 rows × 17 columns</p>\n</div>"
     },
     "metadata": {},
     "output_type": "display_data"
    }
   ],
   "source": [
    "tracks_df = get_playlist_tracks_df(THE_BEATLES_RARITIES_PLAYLIST, 'env/.env')\n",
    "display(tracks_df)"
   ],
   "metadata": {
    "collapsed": false,
    "ExecuteTime": {
     "end_time": "2023-07-17T16:06:40.621558900Z",
     "start_time": "2023-07-17T16:06:38.252024300Z"
    }
   }
  },
  {
   "cell_type": "markdown",
   "source": [
    "### Save the resulting dataframe as *'../data/The Beatles rarities, Spotify 1.csv'*"
   ],
   "metadata": {
    "collapsed": false
   }
  },
  {
   "cell_type": "code",
   "execution_count": 23,
   "outputs": [
    {
     "name": "stdout",
     "output_type": "stream",
     "text": [
      "M:\\Vladan\\Courses\\P3\\Python\\Python projects\\Jupyter projects\\spotipy-getting-started\\data\n"
     ]
    }
   ],
   "source": [
    "from pathlib import Path\n",
    "data_dir = Path().cwd().parent / 'data'\n",
    "data_dir.mkdir(parents=True, exist_ok=True)\n",
    "# print(data_dir)\n",
    "tracks_df.to_csv(data_dir / 'The Beatles rarities, Spotify 1.csv', index=False)"
   ],
   "metadata": {
    "collapsed": false,
    "ExecuteTime": {
     "end_time": "2023-07-17T16:36:38.121319100Z",
     "start_time": "2023-07-17T16:36:38.114948600Z"
    }
   }
  },
  {
   "cell_type": "markdown",
   "source": [
    "## Join *'The Beatles songs dataset, 310x31 (Album), v0.csv'* and *The Beatles songs dataset, Spotify 1.csv*\n",
    "The idea is to get *'The Beatles songs dataset, 310x31 (Album), v0.csv'* expanded by the Spotify audio features from *The Beatles songs dataset, Spotify 1.csv*. Merging is done on the *Title* feature only. The *URI* feature from *The Beatles songs dataset, Spotify 1.csv* is kept as an 'ID' feature of the songs. The *Album* feature is kept from both dataframes for future comparisons."
   ],
   "metadata": {
    "collapsed": false
   }
  },
  {
   "cell_type": "markdown",
   "source": [
    "### Read *'The Beatles songs dataset, 310x31, v0 (Album).csv'* (the *songs* dataframe) and <br> *The Beatles songs dataset, Spotify 1.csv* (the *audio_features* dataframe)"
   ],
   "metadata": {
    "collapsed": false
   }
  },
  {
   "cell_type": "code",
   "execution_count": 46,
   "outputs": [
    {
     "data": {
      "text/plain": "(310, 31)"
     },
     "metadata": {},
     "output_type": "display_data"
    },
    {
     "data": {
      "text/plain": "(215, 17)"
     },
     "metadata": {},
     "output_type": "display_data"
    },
    {
     "data": {
      "text/plain": "['URI',\n 'Title',\n 'Album',\n 'Popularity',\n 'Duration',\n 'Key',\n 'Mode',\n 'Tempo',\n 'Time_signature',\n 'Valence',\n 'Danceability',\n 'Energy',\n 'Loudness',\n 'Acousticness',\n 'Instrumentalness',\n 'Liveness',\n 'Speechiness']"
     },
     "execution_count": 46,
     "metadata": {},
     "output_type": "execute_result"
    }
   ],
   "source": [
    "songs = pd.read_csv('../data/The Beatles songs dataset, 310x31 (Album), v0.csv')\n",
    "audio_features = pd.read_csv('../data/The Beatles songs dataset, Spotify 1.csv')\n",
    "# columns = audio_features.columns\n",
    "display(songs.shape)\n",
    "display(audio_features.shape)\n",
    "columns = audio_features.columns.to_list()\n",
    "columns"
   ],
   "metadata": {
    "collapsed": false,
    "ExecuteTime": {
     "end_time": "2023-07-18T12:58:23.795965Z",
     "start_time": "2023-07-18T12:58:23.781425800Z"
    }
   }
  },
  {
   "cell_type": "markdown",
   "source": [
    "### Titlecase the *Title* column\n",
    "There is a problem with *str.title()*, since it capitalizes parts of words after apostrophes (e.g., the result of `str.title('You're)` is `You'Re`). See the explanation [here](https://docs.python.org/3/library/stdtypes.html#str.title). Also, *str.title()* capitalizes the words like 'of', 'to', 'a', 'the', etc. The *titlecase* function is intended to fix that."
   ],
   "metadata": {
    "collapsed": false
   }
  },
  {
   "cell_type": "markdown",
   "source": [
    "#### The *titlecase* function"
   ],
   "metadata": {
    "collapsed": false
   }
  },
  {
   "cell_type": "code",
   "execution_count": 73,
   "outputs": [],
   "source": [
    "def titlecase(title: str) -> str:\n",
    "    from string import capwords\n",
    "    to_lowercase_map = {'A': 'a',                                       # do not capitalize 'small words'\n",
    "                        'An': 'an',\n",
    "                        'The': 'the',\n",
    "                        'Of': 'of',\n",
    "                        'And': 'and',\n",
    "                        'In': 'in',\n",
    "                        'To': 'to',\n",
    "                        'At': 'at',\n",
    "                        'For': 'for',\n",
    "                        'On': 'on',\n",
    "                        'With': 'with',\n",
    "                        }\n",
    "\n",
    "    t = title.replace('/', ' / ')                                       # some titles have alternatives, delimited by '/' in the title string\n",
    "    t = capwords(t)                                                     # fixes the problem with apostrophes\n",
    "\n",
    "    words = t.split()                                                   # split the title string in words\n",
    "    for i in range(1, len(words)):\n",
    "        if words[i] in to_lowercase_map.keys():                         # take care of keeping 'small words' all lowercase\n",
    "            words[i] = to_lowercase_map[words[i]]\n",
    "        if words[i].startswith('('):                                    # take care of parenthesized title extensions, e.g. Money (That's What I Want)\n",
    "            words[i] = '(' + words[i].split('(')[1].capitalize()\n",
    "    t = ' '.join(words)\n",
    "    return t"
   ],
   "metadata": {
    "collapsed": false,
    "ExecuteTime": {
     "end_time": "2023-07-18T15:01:56.867193200Z",
     "start_time": "2023-07-18T15:01:56.847891300Z"
    }
   }
  },
  {
   "cell_type": "code",
   "execution_count": 75,
   "outputs": [
    {
     "data": {
      "text/plain": "\"You've Got to / Hide Your Love Away; You're Gonna Loose That Girl; I'm a Looser\""
     },
     "metadata": {},
     "output_type": "display_data"
    },
    {
     "data": {
      "text/plain": "['12-bar Original',\n 'A Day in the Life',\n \"A Hard Day's Night\",\n 'A Shot of Rhythm and Blues',\n 'A Taste of Honey',\n 'Across the Universe',\n 'Act Naturally',\n \"Ain't She Sweet\",\n \"All I've Got to Do\",\n 'All My Loving',\n 'All Things Must Pass',\n 'All Together Now',\n 'All You Need Is Love',\n 'And I Love Her',\n 'And Your Bird Can Sing',\n 'Anna (Go to Him)',\n 'Another Girl',\n 'Any Time at All',\n 'Ask Me Why',\n \"Baby It's You\",\n \"Baby's in Black\",\n \"Baby, You're a Rich Man\",\n 'Back in the U.s.s.r.',\n 'Bad Boy',\n 'Bad to Me',\n 'Beautiful Dreamer',\n 'Because I Know You Love Me So',\n 'Because',\n 'Being for the Benefit of Mr. Kite!',\n 'Birthday',\n 'Blackbird',\n 'Blue Jay Way',\n 'Boys',\n 'Bésame Mucho',\n \"Can't Buy Me Love\",\n 'Carol',\n 'Carry That Weight',\n 'Catswalk',\n 'Cayenne',\n 'Chains',\n 'Child of Nature',\n 'Christmas Time (Is Here Again)',\n 'Circles',\n 'Clarabella',\n 'Come and Get It',\n 'Come Together',\n 'Cry Baby Cry',\n 'Cry for a Shadow',\n 'Crying, Waiting, Hoping',\n 'Day Tripper',\n 'Dear Prudence',\n 'Devil in Her Heart',\n 'Dig a Pony',\n 'Dig It',\n 'Dizzy, Miss Lizzy',\n 'Do You Want to Know a Secret?',\n 'Doctor Robert',\n \"Don't Bother Me\",\n \"Don't Ever Change\",\n \"Don't Let Me Down\",\n \"Don't Pass Me By\",\n 'Drive My Car',\n 'Eight Days a Week',\n 'Eleanor Rigby',\n 'Etcetera',\n 'Every Little Thing',\n \"Everybody's Got Something to Hide Except Me and My Monkey\",\n \"Everybody's Trying to Be My Baby\",\n 'Fancy My Chances with You',\n 'Fixing a Hole',\n 'Flying',\n 'For No One',\n 'For You Blue',\n 'Free As a Bird',\n 'From Me to You',\n 'From Us to You',\n 'Get Back',\n 'Getting Better',\n 'Girl',\n 'Glad All Over',\n 'Glass Onion',\n 'Golden Slumbers',\n 'Good Day Sunshine',\n 'Good Morning, Good Morning',\n 'Good Night',\n 'Goodbye',\n 'Got to Get You Into My Life',\n 'Hallelujah, I Love Her So',\n 'Happiness Is a Warm Gun',\n 'Heather',\n 'Hello Little Girl',\n 'Hello, Goodbye',\n 'Help!',\n 'Helter Skelter',\n 'Her Majesty',\n 'Here Comes the Sun',\n 'Here, There and Everywhere',\n 'Hey Bulldog',\n 'Hey Jude',\n 'Hippy Hippy Shake',\n 'Hold Me Tight',\n \"Honey Don't\",\n 'Honey Pie',\n 'How Do You Do It?',\n 'I Am the Walrus',\n 'I Call Your Name',\n \"I Don't Want to Spoil the Party\",\n 'I Feel Fine',\n 'I Forgot to Remember to Forget',\n 'I Got a Woman',\n 'I Got to Find My Baby',\n \"I Just Don't Understand\",\n 'I Lost My Little Girl',\n 'I Me Mine',\n 'I Need You',\n 'I Saw Her Standing There',\n 'I Should Have Known Better',\n 'I Wanna Be Your Man',\n 'I Want to Hold Your Hand',\n 'I Want to Tell You',\n \"I Want You (She's So Heavy)\",\n 'I Will',\n \"I'll Be Back\",\n \"I'll Be on My Way\",\n \"I'll Cry Instead\",\n \"I'll Follow the Sun\",\n \"I'll Get You\",\n \"I'll Keep You Satisfied\",\n \"I'm a Loser\",\n \"I'm Down\",\n \"I'm Gonna Sit Right Down and Cry (Over You)\",\n \"I'm Happy Just to Dance with You\",\n \"I'm in Love\",\n \"I'm Looking Through You\",\n \"I'm Only Sleeping\",\n \"I'm So Tired\",\n \"I'm Talking About You\",\n \"I'm Talking About You\",\n \"I've Got a Feeling\",\n \"I've Just Seen a Face\",\n 'If I Fell',\n 'If I Needed Someone',\n \"If You've Got Trouble\",\n 'In My Life',\n 'In Spite of All the Danger',\n \"It Won't Be Long\",\n \"It's All Too Much\",\n \"It's Only Love\",\n 'Jazz Piano Song',\n \"Jessie's Dream\",\n 'Johnny B. Goode',\n 'Julia',\n 'Junk',\n 'Kansas City / Hey, Hey, Hey, Hey',\n 'Keep Your Hands Off My Baby',\n 'Komm Gib Mir Deine Hand',\n 'Lady Madonna',\n 'Leave My Kitten Alone',\n 'Lend Me Your Comb',\n 'Let It Be',\n 'Like Dreamers Do',\n 'Little Child',\n 'Lonesome Tears in My Eyes',\n 'Long Tall Sally',\n 'Long, Long, Long',\n 'Looking Glass',\n 'Love Me Do',\n 'Love of the Loved',\n 'Love You to',\n 'Lovely Rita',\n 'Lucille',\n 'Lucy in the Sky with Diamonds',\n 'Madman',\n 'Maggie Mae',\n 'Magical Mystery Tour',\n 'Mailman, Bring Me No More Blues',\n 'Martha My Dear',\n 'Matchbox',\n \"Maxwell's Silver Hammer\",\n 'Mean Mr. Mustard',\n 'Memphis, Tennessee',\n 'Michelle',\n 'Misery',\n \"Money (That's What I Want)\",\n 'Moonlight Bay',\n \"Mother Nature's Son\",\n 'Mr. Moonlight',\n 'My Bonnie',\n 'No Reply',\n 'Norwegian Wood (This Bird Has Flown)',\n 'Not a Second Time',\n 'Not Guilty',\n \"Nothin' Shakin' (But the Leaves on the Trees)\",\n 'Nowhere Man',\n 'Ob-la-di, Ob-la-da',\n \"Octopus's Garden\",\n 'Oh! Darling',\n 'Old Brown Shoe',\n 'One After 909',\n 'One and One Is Two',\n 'Only a Northern Song',\n 'Ooh! My Soul',\n 'P.s. I Love You',\n 'Paperback Writer',\n 'Penny Lane',\n 'Piggies',\n 'Please Mr. Postman',\n 'Please Please Me',\n 'Polythene Pam',\n 'Rain',\n 'Real Love',\n 'Revolution 1',\n 'Revolution 9',\n 'Revolution',\n 'Rip It Up / Shake, Rattle, and Roll / Blue Suede Shoes',\n 'Rock and Roll Music',\n 'Rocky Raccoon',\n 'Roll Over Beethoven',\n 'Run for Your Life',\n 'Savoy Truffle',\n \"Searchin'\",\n 'September in the Rain',\n 'Sexy Sadie',\n \"Sgt. Pepper's Lonely Hearts Club Band (Reprise)\",\n \"Sgt. Pepper's Lonely Hearts Club Band\",\n \"Shakin' in the Sixties\",\n 'She Came in Through the Bathroom Window',\n 'She Loves You',\n 'She Said She Said',\n \"She's a Woman\",\n \"She's Leaving Home\",\n 'Shout',\n 'Sie Liebt Dich',\n 'Slow Down',\n 'So How Come (No One Loves Me)',\n 'Soldier of Love (Lay Down Your Arms)',\n 'Some Other Guy',\n 'Something',\n 'Sour Milk Sea',\n 'Step Inside Love / Los Paranoias',\n 'Strawberry Fields Forever',\n 'Sun King',\n 'Sure to Fall (In Love with You)',\n 'Sweet Little Sixteen',\n 'Take Good Care of My Baby',\n 'Taking a Trip to Carolina',\n 'Taxman',\n 'Teddy Boy',\n 'Tell Me What You See',\n 'Tell Me Why',\n 'Thank You Girl',\n 'That Means a Lot',\n \"That'll Be the Day\",\n \"That's All Right (Mama)\",\n 'The Ballad of John and Yoko',\n 'The Continuing Story of Bungalow Bill',\n 'The End',\n 'The Fool on the Hill',\n 'The Honeymoon Song',\n 'The Inner Light',\n 'The Long and Winding Road',\n 'The Night Before',\n 'The Saints',\n 'The Sheik of Araby',\n 'The Word',\n \"There's a Place\",\n 'Things We Said Today',\n 'Think for Yourself',\n 'This Boy',\n 'Three Cool Cats',\n 'Ticket to Ride',\n 'Till There Was You',\n 'Tip of My Tongue',\n 'To Know Her Is to Love Her',\n 'Tomorrow Never Knows',\n 'Too Much Monkey Business',\n 'Twist and Shout',\n 'Two of Us',\n 'Wait',\n 'Watching Rainbows',\n 'We Can Work It Out',\n 'What Goes on',\n \"What You're Doing\",\n \"What's the New Mary Jane\",\n 'When I Get Home',\n \"When I'm Sixty-four\",\n 'While My Guitar Gently Weeps',\n \"Why Don't We Do It in the Road?\",\n 'Wild Honey Pie',\n \"Winston's Walk\",\n 'With a Little Help From My Friends',\n 'Within You Without You',\n 'Woman',\n 'Words of Love',\n 'Yellow Submarine',\n 'Yer Blues',\n 'Yes It Is',\n 'Yesterday',\n \"You Can't Do That\",\n 'You Know My Name (Look Up the Number)',\n 'You Know What to Do',\n 'You Like Me Too Much',\n 'You Never Give Me Your Money',\n \"You Won't See Me\",\n \"You'll Be Mine\",\n \"You're Going to Lose That Girl\",\n \"You've Got to Hide Your Love Away\",\n \"You've Really Got a Hold on Me\",\n 'Young Blood',\n 'Your Mother Should Know']"
     },
     "metadata": {},
     "output_type": "display_data"
    }
   ],
   "source": [
    "# Test titlecase()\n",
    "display(titlecase(\"You've got to/hide your love away; You're gonna loose that girl; I'm a looser\"))\n",
    "display([titlecase(t) for t in songs.Title.to_list()])"
   ],
   "metadata": {
    "collapsed": false,
    "ExecuteTime": {
     "end_time": "2023-07-18T15:02:04.327979800Z",
     "start_time": "2023-07-18T15:02:04.319978400Z"
    }
   }
  },
  {
   "cell_type": "markdown",
   "source": [
    "#### Titlecase the *Title* column in the relevant dataframes"
   ],
   "metadata": {
    "collapsed": false
   }
  },
  {
   "cell_type": "code",
   "execution_count": 78,
   "outputs": [],
   "source": [
    "songs['Title'] = pd.Series([titlecase(t) for t in songs.Title.to_list()])\n",
    "audio_features['Title'] = pd.Series([titlecase(t) for t in audio_features.Title.to_list()])"
   ],
   "metadata": {
    "collapsed": false,
    "ExecuteTime": {
     "end_time": "2023-07-18T15:30:17.446844800Z",
     "start_time": "2023-07-18T15:30:17.423479700Z"
    }
   }
  },
  {
   "cell_type": "code",
   "execution_count": 79,
   "outputs": [
    {
     "data": {
      "text/plain": "0                    I Saw Her Standing There\n1                                      Misery\n2                            Anna (Go to Him)\n3                                      Chains\n4                             Twist and Shout\n                        ...                  \n210                                      Rain\n211                              Lady Madonna\n212                           The Inner Light\n213    Kansas City / Hey-hey-hey-hey - Medley\n214                                Revolution\nName: Title, Length: 215, dtype: object"
     },
     "execution_count": 79,
     "metadata": {},
     "output_type": "execute_result"
    }
   ],
   "source": [
    "display(songs.Title)\n",
    "display(audio_features.Title)"
   ],
   "metadata": {
    "collapsed": false,
    "ExecuteTime": {
     "end_time": "2023-07-18T15:30:20.275347600Z",
     "start_time": "2023-07-18T15:30:20.256993300Z"
    }
   }
  },
  {
   "cell_type": "markdown",
   "source": [
    "### Run the outer join on the *Title* column of *songs* and *audio_features*"
   ],
   "metadata": {
    "collapsed": false
   }
  },
  {
   "cell_type": "code",
   "execution_count": 80,
   "outputs": [
    {
     "data": {
      "text/plain": "                                                 Title  Year  \\\n0                                      12-bar Original  1965   \n1                                    A Day in the Life  1967   \n2                                   A Hard Day's Night  1964   \n3                           A Shot of Rhythm and Blues  1963   \n4                                     A Taste of Honey  1963   \n..                                                 ...   ...   \n320                    Real Love - Anthology 2 Version   NaN   \n321                  Don't Let Me Down - Naked Version   NaN   \n322  Norwegian Wood (This Bird Has Flown) - Take 1 ...   NaN   \n323                Across the Universe - Naked Version   NaN   \n324             Kansas City / Hey-hey-hey-hey - Medley   NaN   \n\n                               Album_songs  \\\n0                              Anthology 2   \n1    Sgt. Pepper's Lonely Hearts Club Band   \n2                       A Hard Day's Night   \n3                          Live at the BBC   \n4                         Please Please Me   \n..                                     ...   \n320                                    NaN   \n321                                    NaN   \n322                                    NaN   \n323                                    NaN   \n324                                    NaN   \n\n                                    Album debut  Duration_songs  \\\n0                                   Anthology 2           174.0   \n1         Sgt. Pepper's Lonely Hearts Club Band           335.0   \n2          UK: A Hard Day's Night US: 1962-1966           152.0   \n3                               Live at the BBC           104.0   \n4    UK: Please Please Me US: The Early Beatles           163.0   \n..                                          ...             ...   \n320                                         NaN             NaN   \n321                                         NaN             NaN   \n322                                         NaN             NaN   \n323                                         NaN             NaN   \n324                                         NaN             NaN   \n\n     Other releases                                      Single A side  \\\n0               NaN                                                NaN   \n1              12.0  Sgt. Pepper's Lonely Hearts Club Band / With a...   \n2              35.0             A Hard Day's Night; A Hard Day's Night   \n3               NaN                                                NaN   \n4              29.0                                                NaN   \n..              ...                                                ...   \n320             NaN                                                NaN   \n321             NaN                                                NaN   \n322             NaN                                                NaN   \n323             NaN                                                NaN   \n324             NaN                                                NaN   \n\n                                        Single B side Single certification  \\\n0                                                 NaN                  NaN   \n1                                   A Day in the Life                  NaN   \n2    Things We Said Today; I Should Have Known Better            RIAA Gold   \n3                                                 NaN                  NaN   \n4                                                 NaN                  NaN   \n..                                                ...                  ...   \n320                                               NaN                  NaN   \n321                                               NaN                  NaN   \n322                                               NaN                  NaN   \n323                                               NaN                  NaN   \n324                                               NaN                  NaN   \n\n                                    Genre  ...    Tempo Time_signature  \\\n0                                   Blues  ...      NaN            NaN   \n1    Psychedelic Rock, Art Rock, Pop/Rock  ...  163.219            4.0   \n2              Rock, Electronic, Pop/Rock  ...  138.514            4.0   \n3                           R&B, Pop/Rock  ...      NaN            NaN   \n4            Pop/Rock, Jazz, Stage&Screen  ...  101.408            3.0   \n..                                    ...  ...      ...            ...   \n320                                   NaN  ...  175.726            4.0   \n321                                   NaN  ...  163.630            4.0   \n322                                   NaN  ...  175.023            3.0   \n323                                   NaN  ...  159.441            4.0   \n324                                   NaN  ...  131.360            4.0   \n\n    Valence Danceability Energy Loudness  Acousticness  Instrumentalness  \\\n0       NaN          NaN    NaN      NaN           NaN               NaN   \n1     0.175        0.364  0.457  -14.162        0.2900          0.000106   \n2     0.797        0.590  0.805   -6.481        0.1370          0.000000   \n3       NaN          NaN    NaN      NaN           NaN               NaN   \n4     0.412        0.420  0.372  -11.416        0.6980          0.000000   \n..      ...          ...    ...      ...           ...               ...   \n320   0.405        0.375  0.694   -7.334        0.0458          0.019000   \n321   0.783        0.486  0.489   -8.626        0.1470          0.000009   \n322   0.469        0.401  0.524   -7.299        0.1130          0.000000   \n323   0.794        0.359  0.461  -10.683        0.5090          0.000000   \n324   0.924        0.588  0.724   -6.630        0.6140          0.000089   \n\n     Liveness  Speechiness  \n0         NaN          NaN  \n1      0.9220       0.0675  \n2      0.0996       0.0371  \n3         NaN          NaN  \n4      0.1040       0.0327  \n..        ...          ...  \n320    0.2570       0.0310  \n321    0.1350       0.0365  \n322    0.0295       0.0345  \n323    0.2240       0.0283  \n324    0.8770       0.0335  \n\n[325 rows x 47 columns]",
      "text/html": "<div>\n<style scoped>\n    .dataframe tbody tr th:only-of-type {\n        vertical-align: middle;\n    }\n\n    .dataframe tbody tr th {\n        vertical-align: top;\n    }\n\n    .dataframe thead th {\n        text-align: right;\n    }\n</style>\n<table border=\"1\" class=\"dataframe\">\n  <thead>\n    <tr style=\"text-align: right;\">\n      <th></th>\n      <th>Title</th>\n      <th>Year</th>\n      <th>Album_songs</th>\n      <th>Album debut</th>\n      <th>Duration_songs</th>\n      <th>Other releases</th>\n      <th>Single A side</th>\n      <th>Single B side</th>\n      <th>Single certification</th>\n      <th>Genre</th>\n      <th>...</th>\n      <th>Tempo</th>\n      <th>Time_signature</th>\n      <th>Valence</th>\n      <th>Danceability</th>\n      <th>Energy</th>\n      <th>Loudness</th>\n      <th>Acousticness</th>\n      <th>Instrumentalness</th>\n      <th>Liveness</th>\n      <th>Speechiness</th>\n    </tr>\n  </thead>\n  <tbody>\n    <tr>\n      <th>0</th>\n      <td>12-bar Original</td>\n      <td>1965</td>\n      <td>Anthology 2</td>\n      <td>Anthology 2</td>\n      <td>174.0</td>\n      <td>NaN</td>\n      <td>NaN</td>\n      <td>NaN</td>\n      <td>NaN</td>\n      <td>Blues</td>\n      <td>...</td>\n      <td>NaN</td>\n      <td>NaN</td>\n      <td>NaN</td>\n      <td>NaN</td>\n      <td>NaN</td>\n      <td>NaN</td>\n      <td>NaN</td>\n      <td>NaN</td>\n      <td>NaN</td>\n      <td>NaN</td>\n    </tr>\n    <tr>\n      <th>1</th>\n      <td>A Day in the Life</td>\n      <td>1967</td>\n      <td>Sgt. Pepper's Lonely Hearts Club Band</td>\n      <td>Sgt. Pepper's Lonely Hearts Club Band</td>\n      <td>335.0</td>\n      <td>12.0</td>\n      <td>Sgt. Pepper's Lonely Hearts Club Band / With a...</td>\n      <td>A Day in the Life</td>\n      <td>NaN</td>\n      <td>Psychedelic Rock, Art Rock, Pop/Rock</td>\n      <td>...</td>\n      <td>163.219</td>\n      <td>4.0</td>\n      <td>0.175</td>\n      <td>0.364</td>\n      <td>0.457</td>\n      <td>-14.162</td>\n      <td>0.2900</td>\n      <td>0.000106</td>\n      <td>0.9220</td>\n      <td>0.0675</td>\n    </tr>\n    <tr>\n      <th>2</th>\n      <td>A Hard Day's Night</td>\n      <td>1964</td>\n      <td>A Hard Day's Night</td>\n      <td>UK: A Hard Day's Night US: 1962-1966</td>\n      <td>152.0</td>\n      <td>35.0</td>\n      <td>A Hard Day's Night; A Hard Day's Night</td>\n      <td>Things We Said Today; I Should Have Known Better</td>\n      <td>RIAA Gold</td>\n      <td>Rock, Electronic, Pop/Rock</td>\n      <td>...</td>\n      <td>138.514</td>\n      <td>4.0</td>\n      <td>0.797</td>\n      <td>0.590</td>\n      <td>0.805</td>\n      <td>-6.481</td>\n      <td>0.1370</td>\n      <td>0.000000</td>\n      <td>0.0996</td>\n      <td>0.0371</td>\n    </tr>\n    <tr>\n      <th>3</th>\n      <td>A Shot of Rhythm and Blues</td>\n      <td>1963</td>\n      <td>Live at the BBC</td>\n      <td>Live at the BBC</td>\n      <td>104.0</td>\n      <td>NaN</td>\n      <td>NaN</td>\n      <td>NaN</td>\n      <td>NaN</td>\n      <td>R&amp;B, Pop/Rock</td>\n      <td>...</td>\n      <td>NaN</td>\n      <td>NaN</td>\n      <td>NaN</td>\n      <td>NaN</td>\n      <td>NaN</td>\n      <td>NaN</td>\n      <td>NaN</td>\n      <td>NaN</td>\n      <td>NaN</td>\n      <td>NaN</td>\n    </tr>\n    <tr>\n      <th>4</th>\n      <td>A Taste of Honey</td>\n      <td>1963</td>\n      <td>Please Please Me</td>\n      <td>UK: Please Please Me US: The Early Beatles</td>\n      <td>163.0</td>\n      <td>29.0</td>\n      <td>NaN</td>\n      <td>NaN</td>\n      <td>NaN</td>\n      <td>Pop/Rock, Jazz, Stage&amp;Screen</td>\n      <td>...</td>\n      <td>101.408</td>\n      <td>3.0</td>\n      <td>0.412</td>\n      <td>0.420</td>\n      <td>0.372</td>\n      <td>-11.416</td>\n      <td>0.6980</td>\n      <td>0.000000</td>\n      <td>0.1040</td>\n      <td>0.0327</td>\n    </tr>\n    <tr>\n      <th>...</th>\n      <td>...</td>\n      <td>...</td>\n      <td>...</td>\n      <td>...</td>\n      <td>...</td>\n      <td>...</td>\n      <td>...</td>\n      <td>...</td>\n      <td>...</td>\n      <td>...</td>\n      <td>...</td>\n      <td>...</td>\n      <td>...</td>\n      <td>...</td>\n      <td>...</td>\n      <td>...</td>\n      <td>...</td>\n      <td>...</td>\n      <td>...</td>\n      <td>...</td>\n      <td>...</td>\n    </tr>\n    <tr>\n      <th>320</th>\n      <td>Real Love - Anthology 2 Version</td>\n      <td>NaN</td>\n      <td>NaN</td>\n      <td>NaN</td>\n      <td>NaN</td>\n      <td>NaN</td>\n      <td>NaN</td>\n      <td>NaN</td>\n      <td>NaN</td>\n      <td>NaN</td>\n      <td>...</td>\n      <td>175.726</td>\n      <td>4.0</td>\n      <td>0.405</td>\n      <td>0.375</td>\n      <td>0.694</td>\n      <td>-7.334</td>\n      <td>0.0458</td>\n      <td>0.019000</td>\n      <td>0.2570</td>\n      <td>0.0310</td>\n    </tr>\n    <tr>\n      <th>321</th>\n      <td>Don't Let Me Down - Naked Version</td>\n      <td>NaN</td>\n      <td>NaN</td>\n      <td>NaN</td>\n      <td>NaN</td>\n      <td>NaN</td>\n      <td>NaN</td>\n      <td>NaN</td>\n      <td>NaN</td>\n      <td>NaN</td>\n      <td>...</td>\n      <td>163.630</td>\n      <td>4.0</td>\n      <td>0.783</td>\n      <td>0.486</td>\n      <td>0.489</td>\n      <td>-8.626</td>\n      <td>0.1470</td>\n      <td>0.000009</td>\n      <td>0.1350</td>\n      <td>0.0365</td>\n    </tr>\n    <tr>\n      <th>322</th>\n      <td>Norwegian Wood (This Bird Has Flown) - Take 1 ...</td>\n      <td>NaN</td>\n      <td>NaN</td>\n      <td>NaN</td>\n      <td>NaN</td>\n      <td>NaN</td>\n      <td>NaN</td>\n      <td>NaN</td>\n      <td>NaN</td>\n      <td>NaN</td>\n      <td>...</td>\n      <td>175.023</td>\n      <td>3.0</td>\n      <td>0.469</td>\n      <td>0.401</td>\n      <td>0.524</td>\n      <td>-7.299</td>\n      <td>0.1130</td>\n      <td>0.000000</td>\n      <td>0.0295</td>\n      <td>0.0345</td>\n    </tr>\n    <tr>\n      <th>323</th>\n      <td>Across the Universe - Naked Version</td>\n      <td>NaN</td>\n      <td>NaN</td>\n      <td>NaN</td>\n      <td>NaN</td>\n      <td>NaN</td>\n      <td>NaN</td>\n      <td>NaN</td>\n      <td>NaN</td>\n      <td>NaN</td>\n      <td>...</td>\n      <td>159.441</td>\n      <td>4.0</td>\n      <td>0.794</td>\n      <td>0.359</td>\n      <td>0.461</td>\n      <td>-10.683</td>\n      <td>0.5090</td>\n      <td>0.000000</td>\n      <td>0.2240</td>\n      <td>0.0283</td>\n    </tr>\n    <tr>\n      <th>324</th>\n      <td>Kansas City / Hey-hey-hey-hey - Medley</td>\n      <td>NaN</td>\n      <td>NaN</td>\n      <td>NaN</td>\n      <td>NaN</td>\n      <td>NaN</td>\n      <td>NaN</td>\n      <td>NaN</td>\n      <td>NaN</td>\n      <td>NaN</td>\n      <td>...</td>\n      <td>131.360</td>\n      <td>4.0</td>\n      <td>0.924</td>\n      <td>0.588</td>\n      <td>0.724</td>\n      <td>-6.630</td>\n      <td>0.6140</td>\n      <td>0.000089</td>\n      <td>0.8770</td>\n      <td>0.0335</td>\n    </tr>\n  </tbody>\n</table>\n<p>325 rows × 47 columns</p>\n</div>"
     },
     "execution_count": 80,
     "metadata": {},
     "output_type": "execute_result"
    }
   ],
   "source": [
    "outer = pd.merge(songs, audio_features, left_on='Title', right_on='Title', how='outer', suffixes=('_songs','_audio_features'))\n",
    "# outer = pd.merge(songs, audio_features, left_on=['Title', 'Album'], right_on=['Title', 'Album'], how='outer', suffixes=('_songs','_audio_features'))\n",
    "# outer = pd.merge(songs, audio_features[columns], left_on='Title', right_on='Title', how='left')\n",
    "outer"
   ],
   "metadata": {
    "collapsed": false,
    "ExecuteTime": {
     "end_time": "2023-07-18T15:32:34.241984100Z",
     "start_time": "2023-07-18T15:32:34.216613Z"
    }
   }
  },
  {
   "cell_type": "code",
   "execution_count": 81,
   "outputs": [],
   "source": [
    "outer.to_csv(data_dir / 'The Beatles outer 325 x 47, 1.csv', index=False)"
   ],
   "metadata": {
    "collapsed": false,
    "ExecuteTime": {
     "end_time": "2023-07-18T15:35:09.089847200Z",
     "start_time": "2023-07-18T15:35:09.042637200Z"
    }
   }
  },
  {
   "cell_type": "markdown",
   "source": [
    "### Remove duplicates\n",
    "The dataset resulting from the outer join, *The Beatles outer 325 x 47, 1.csv*, was manually updated to remove the duplicates. The resulting dataset, *The Beatles outer 310 x 47, 1.csv*, does not contain duplicate songs, although it does contain columns with similar contents (*Album_songs*, *Album_audio features*, and *Album debut*). The criterion for eliminating the duplicates was \"Keep official versions only\" (i.e., not live, bootleg, demo, and similar versions).\n"
   ],
   "metadata": {
    "collapsed": false
   }
  },
  {
   "cell_type": "markdown",
   "source": [
    "### Rearrange columns\n",
    "The columns of *The Beatles outer 310 x 47, 1.csv* with similar contents (*Album_songs* and *Album_audio features*, as well as *Duration_songs* and *Duration_audio_features*) are moved next to each other for manual comparison. The *Album debut* column is put elsewhere in the dataset for possible other uses. The *URI* column has been moved to the leftmost position, since it is a kind of songs' *ID*, and all Spotify audio features columns have been moved to the left. The resulting dataframe is saved as *The Beatles outer 310 x 47, 2.csv*."
   ],
   "metadata": {
    "collapsed": false
   }
  },
  {
   "cell_type": "code",
   "execution_count": 99,
   "outputs": [
    {
     "data": {
      "text/plain": "['URI',\n 'Title',\n 'Year',\n 'Album_songs',\n 'Album_audio_features',\n 'Popularity',\n 'Duration_songs',\n 'Duration_audio_features',\n 'Key',\n 'Mode',\n 'Tempo',\n 'Time_signature',\n 'Valence',\n 'Danceability',\n 'Energy',\n 'Loudness',\n 'Acousticness',\n 'Instrumentalness',\n 'Liveness',\n 'Speechiness',\n 'Album debut',\n 'Other releases',\n 'Single A side',\n 'Single B side',\n 'Single certification',\n 'Genre',\n 'Styles',\n 'Themes',\n 'Moods',\n 'Songwriter(s)',\n 'Lead vocal(s)',\n 'Cover',\n 'Covered by',\n 'Chart position UK (Wikipedia)',\n 'Chart position US (Wikipedia)',\n 'Highest position (The Guardian)',\n 'Weeks on chart in UK (The Guardian)',\n 'Weeks at No1 in UK (The Guardian)',\n 'Highest position (Billboard)',\n 'Weeks at No1 (Billboard)',\n 'Top 50 (Billboard)',\n 'Top 50 (Ultimate classic rock)',\n 'Top 50 (Rolling Stone)',\n 'Top 50 (NME)',\n 'Top 50 (Top50songs.org)',\n 'Top 50 (USA today, 2017)',\n 'Top 50 (Vulture, by Bill Wyman)']"
     },
     "metadata": {},
     "output_type": "display_data"
    }
   ],
   "source": [
    "songs = pd.read_csv('../data/The Beatles outer 310 x 47, 1.csv')\n",
    "columns = ['URI',\n",
    "           'Title',\n",
    "           'Year',\n",
    "           'Album_songs',\n",
    "           'Album_audio_features',\n",
    "           'Popularity',\n",
    "           'Duration_songs',\n",
    "           'Duration_audio_features',\n",
    "           'Key',\n",
    "           'Mode',\n",
    "           'Tempo',\n",
    "           'Time_signature',\n",
    "           'Valence',\n",
    "           'Danceability',\n",
    "           'Energy',\n",
    "           'Loudness',\n",
    "           'Acousticness',\n",
    "           'Instrumentalness',\n",
    "           'Liveness',\n",
    "           'Speechiness',\n",
    "           'Album debut',\n",
    "           'Other releases',\n",
    "           'Single A side',\n",
    "           'Single B side',\n",
    "           'Single certification',\n",
    "           'Genre',\n",
    "           'Styles',\n",
    "           'Themes',\n",
    "           'Moods',\n",
    "           'Songwriter(s)',\n",
    "           'Lead vocal(s)',\n",
    "           'Cover',\n",
    "           'Covered by',\n",
    "           'Chart position UK (Wikipedia)',\n",
    "           'Chart position US (Wikipedia)',\n",
    "           'Highest position (The Guardian)',\n",
    "           'Weeks on chart in UK (The Guardian)',\n",
    "           'Weeks at No1 in UK (The Guardian)',\n",
    "           'Highest position (Billboard)',\n",
    "           'Weeks at No1 (Billboard)',\n",
    "           'Top 50 (Billboard)',\n",
    "           'Top 50 (Ultimate classic rock)',\n",
    "           'Top 50 (Rolling Stone)',\n",
    "           'Top 50 (NME)',\n",
    "           'Top 50 (Top50songs.org)',\n",
    "           'Top 50 (USA today, 2017)',\n",
    "           'Top 50 (Vulture, by Bill Wyman)',\n",
    "          ]\n",
    "songs = songs[columns]\n",
    "columns = songs.columns.to_list()\n",
    "display(columns)\n",
    "songs.to_csv('../data/The Beatles outer 310 x 47, 2.csv', index=False)"
   ],
   "metadata": {
    "collapsed": false,
    "ExecuteTime": {
     "end_time": "2023-07-18T18:55:29.638683900Z",
     "start_time": "2023-07-18T18:55:29.617052800Z"
    }
   }
  },
  {
   "cell_type": "markdown",
   "source": [
    "### Merge columns with similar content manually\n",
    "The columns of *The Beatles outer 310 x 47, 2.csv* with similar contents (*Album_songs* and *Album_audio features*, as well as *Duration_songs* and *Duration_audio_features*) are merged manually after manual comparison. In most of the ambiguous cases, *Past Masters (Vols. 1 & 2 / Remastered)* has replaced *1967-1970*, *A Collection of Beatles Oldies*, *Past Masters Vol. 1*,  *Past Masters Vol. 2*,  *Rock 'n' Roll Music*, and *Rarities*. *Rarities* has been keptonly for *Komm Gib Mir Deine Hand* and *Sie Liebt Dich*, because apparently these two exist only on *Rarities*.\n",
    "The *Album debut* column is put elsewhere in the dataset for possible other uses.\n",
    "As for the *Duration*, in most of the cases the difference between *Duration_songs* and *Duration_audio_features* was neglectable, so the *Duration_songs* has been kept - it was collected from other, pre-Spotify sources, and has been taken as a reference. In some cases, the *Duration_songs* value was missing and was replaced with the corresponding *Duration_audio_features* value.\n",
    "The resulting dataframe is saved as *The Beatles outer 310 x 47, 3.csv*.\n",
    "Eventually, the *Album_songs* has been manually renamed to *Album* and *Duration_songs* to *Duration*. The *Album_audio features* and *Duration_audio_features* have then been dropped manually. The resulting dataframe is saved as *The Beatles outer 310 x 45, 1.csv*."
   ],
   "metadata": {
    "collapsed": false
   }
  },
  {
   "cell_type": "markdown",
   "source": [
    "## Join *'The Beatles outer 310 x 45, 1.csv'* and *The Beatles rarities, Spotify 1.csv*\n",
    "The idea is to get *'The Beatles outer 310 x 45, 1.csv'* expanded by the Spotify audio features from *The Beatles rarities, Spotify 1.csv*, and simultaneously possibly fill in for some missing values for some of the songs (rarities) already included in *'The Beatles outer 310 x 45, 1.csv'*. Merging is done on the *Title* feature only. The *URI* feature from *The Beatles rarities dataset, Spotify 1.csv* is kept as an 'ID' feature of the rare songs. The *Album* features are kept from both dataframes for future comparisons."
   ],
   "metadata": {
    "collapsed": false
   }
  },
  {
   "cell_type": "markdown",
   "source": [
    "### Read *'The Beatles outer 310 x 47, 1.csv'* (the *songs* dataframe) and <br> *The Beatles rarities, Spotify 1.csv* (the *rarities* dataframe)"
   ],
   "metadata": {
    "collapsed": false
   }
  },
  {
   "cell_type": "code",
   "execution_count": 100,
   "outputs": [
    {
     "data": {
      "text/plain": "(310, 45)"
     },
     "metadata": {},
     "output_type": "display_data"
    },
    {
     "data": {
      "text/plain": "(223, 17)"
     },
     "metadata": {},
     "output_type": "display_data"
    },
    {
     "data": {
      "text/plain": "['URI',\n 'Title',\n 'Album',\n 'Popularity',\n 'Duration',\n 'Key',\n 'Mode',\n 'Tempo',\n 'Time_signature',\n 'Valence',\n 'Danceability',\n 'Energy',\n 'Loudness',\n 'Acousticness',\n 'Instrumentalness',\n 'Liveness',\n 'Speechiness']"
     },
     "execution_count": 100,
     "metadata": {},
     "output_type": "execute_result"
    }
   ],
   "source": [
    "songs = pd.read_csv('../data/The Beatles outer 310 x 45, 1.csv')\n",
    "rarities = pd.read_csv('../data/The Beatles rarities, Spotify 1.csv')\n",
    "# columns = audio_features.columns\n",
    "display(songs.shape)\n",
    "display(rarities.shape)\n",
    "columns = rarities.columns.to_list()\n",
    "columns"
   ],
   "metadata": {
    "collapsed": false,
    "ExecuteTime": {
     "end_time": "2023-07-18T19:18:36.018132500Z",
     "start_time": "2023-07-18T19:18:36.003767800Z"
    }
   }
  },
  {
   "cell_type": "markdown",
   "source": [
    "#### Titlecase the *Title* column in the *rarities* dataframe\n",
    "The *Title* column in the *songs* dataframe is already titlecased from the previous titlecasing process."
   ],
   "metadata": {
    "collapsed": false
   }
  },
  {
   "cell_type": "code",
   "execution_count": 101,
   "outputs": [
    {
     "data": {
      "text/plain": "0                                   Circles - Esher Demo\n1                                    Goodbye - Home Demo\n2                                      Junk - Esher Demo\n3                             Sour Milk Sea - Esher Demo\n4                         Can You Take Me Back? - Take 1\n                             ...                        \n218    You Can't Do That - Live at the Bbc for \"top G...\n219    Honey Don't - Live at the Bbc for \"top Gear\" /...\n220    I'll Follow the Sun - Live at the Bbc for \"top...\n221    Kansas City / Hey-hey-hey-hey! - Live at the B...\n222    I Feel Fine (Studio Out-take) - Live at the Bb...\nName: Title, Length: 223, dtype: object"
     },
     "metadata": {},
     "output_type": "display_data"
    }
   ],
   "source": [
    "rarities['Title'] = pd.Series([titlecase(t) for t in rarities.Title.to_list()])\n",
    "display(rarities.Title)"
   ],
   "metadata": {
    "collapsed": false,
    "ExecuteTime": {
     "end_time": "2023-07-18T19:18:59.323347700Z",
     "start_time": "2023-07-18T19:18:59.316968300Z"
    }
   }
  },
  {
   "cell_type": "markdown",
   "source": [
    "### Run the outer join on most of the Spotify audio features columns of *songs* and *rarities*\n",
    "Essentially, these columns are the ones from *rarities.columns*. The resulting dataframe is stored in the *The Beatles outer 533 x 45, 1.csv* file."
   ],
   "metadata": {
    "collapsed": false
   }
  },
  {
   "cell_type": "code",
   "execution_count": 106,
   "outputs": [
    {
     "data": {
      "text/plain": "['URI',\n 'Title',\n 'Album',\n 'Popularity',\n 'Duration',\n 'Key',\n 'Mode',\n 'Tempo',\n 'Time_signature',\n 'Valence',\n 'Danceability',\n 'Energy',\n 'Loudness',\n 'Acousticness',\n 'Instrumentalness',\n 'Liveness',\n 'Speechiness']"
     },
     "execution_count": 106,
     "metadata": {},
     "output_type": "execute_result"
    }
   ],
   "source": [
    "columns = rarities.columns.to_list()\n",
    "columns"
   ],
   "metadata": {
    "collapsed": false,
    "ExecuteTime": {
     "end_time": "2023-07-18T22:20:57.579789900Z",
     "start_time": "2023-07-18T22:20:57.561545300Z"
    }
   }
  },
  {
   "cell_type": "code",
   "execution_count": 107,
   "outputs": [
    {
     "data": {
      "text/plain": "                                      URI  \\\n0                                     NaN   \n1    spotify:track:0hKRSZhUGEhKU6aNSPBACZ   \n2    spotify:track:5J2CHimS7dWYMImCHkEFaJ   \n3                                     NaN   \n4    spotify:track:7fh53ta3vAOGJMQ4i5tCHe   \n..                                    ...   \n528  spotify:track:3szBij9Q2RnaJ6EPGzy7CF   \n529  spotify:track:1LSOsTXh8o9iW6b4OAFudh   \n530  spotify:track:7dIPpPDof51ZxfGbbOV8ZK   \n531  spotify:track:6ov15QioxNtZxPW7nlC7uC   \n532  spotify:track:5yAbOoR9GOsSHywhsP3wrJ   \n\n                                                 Title  Year  \\\n0                                      12-bar Original  1965   \n1                                    A Day in the Life  1967   \n2                                   A Hard Day's Night  1964   \n3                           A Shot of Rhythm and Blues  1963   \n4                                     A Taste of Honey  1963   \n..                                                 ...   ...   \n528  You Can't Do That - Live at the Bbc for \"top G...   NaN   \n529  Honey Don't - Live at the Bbc for \"top Gear\" /...   NaN   \n530  I'll Follow the Sun - Live at the Bbc for \"top...   NaN   \n531  Kansas City / Hey-hey-hey-hey! - Live at the B...   NaN   \n532  I Feel Fine (Studio Out-take) - Live at the Bb...   NaN   \n\n                                     Album  Popularity  Duration  Key  Mode  \\\n0                              Anthology 2         NaN     174.0  NaN   NaN   \n1    Sgt. Pepper's Lonely Hearts Club Band        65.0     335.0  4.0   0.0   \n2                       A Hard Day's Night        71.0     152.0  0.0   1.0   \n3                          Live at the BBC         NaN     104.0  NaN   NaN   \n4                         Please Please Me        51.0     163.0  1.0   0.0   \n..                                     ...         ...       ...  ...   ...   \n528       On Air - Live At The BBC (Vol.2)        22.0     152.0  0.0   1.0   \n529       On Air - Live At The BBC (Vol.2)        22.0     144.0  9.0   1.0   \n530       On Air - Live At The BBC (Vol.2)        27.0     111.0  0.0   1.0   \n531       On Air - Live At The BBC (Vol.2)        22.0     163.0  0.0   1.0   \n532       On Air - Live At The BBC (Vol.2)        22.0     209.0  2.0   1.0   \n\n       Tempo  Time_signature  ...  Weeks at No1 in UK (The Guardian)  \\\n0        NaN             NaN  ...                                NaN   \n1    163.219             4.0  ...                                NaN   \n2    138.514             4.0  ...                                3.0   \n3        NaN             NaN  ...                                NaN   \n4    101.408             3.0  ...                                NaN   \n..       ...             ...  ...                                ...   \n528  128.312             4.0  ...                                NaN   \n529  163.987             4.0  ...                                NaN   \n530  127.694             4.0  ...                                NaN   \n531  131.163             4.0  ...                                NaN   \n532   90.588             4.0  ...                                NaN   \n\n     Highest position (Billboard)  Weeks at No1 (Billboard)  \\\n0                             NaN                       NaN   \n1                             NaN                       NaN   \n2                             1.0                       2.0   \n3                             NaN                       NaN   \n4                             NaN                       NaN   \n..                            ...                       ...   \n528                           NaN                       NaN   \n529                           NaN                       NaN   \n530                           NaN                       NaN   \n531                           NaN                       NaN   \n532                           NaN                       NaN   \n\n     Top 50 (Billboard)  Top 50 (Ultimate classic rock)  \\\n0                   NaN                             NaN   \n1                   NaN                             1.0   \n2                   8.0                            18.0   \n3                   NaN                             NaN   \n4                   NaN                             NaN   \n..                  ...                             ...   \n528                 NaN                             NaN   \n529                 NaN                             NaN   \n530                 NaN                             NaN   \n531                 NaN                             NaN   \n532                 NaN                             NaN   \n\n     Top 50 (Rolling Stone)  Top 50 (NME)  Top 50 (Top50songs.org)  \\\n0                       NaN           NaN                      NaN   \n1                       1.0           2.0                     18.0   \n2                      11.0          19.0                     19.0   \n3                       NaN           NaN                      NaN   \n4                       NaN           NaN                      NaN   \n..                      ...           ...                      ...   \n528                     NaN           NaN                      NaN   \n529                     NaN           NaN                      NaN   \n530                     NaN           NaN                      NaN   \n531                     NaN           NaN                      NaN   \n532                     NaN           NaN                      NaN   \n\n    Top 50 (USA today, 2017)  Top 50 (Vulture, by Bill Wyman)  \n0                        NaN                              NaN  \n1                        1.0                              1.0  \n2                       15.0                             41.0  \n3                        NaN                              NaN  \n4                        NaN                              NaN  \n..                       ...                              ...  \n528                      NaN                              NaN  \n529                      NaN                              NaN  \n530                      NaN                              NaN  \n531                      NaN                              NaN  \n532                      NaN                              NaN  \n\n[533 rows x 45 columns]",
      "text/html": "<div>\n<style scoped>\n    .dataframe tbody tr th:only-of-type {\n        vertical-align: middle;\n    }\n\n    .dataframe tbody tr th {\n        vertical-align: top;\n    }\n\n    .dataframe thead th {\n        text-align: right;\n    }\n</style>\n<table border=\"1\" class=\"dataframe\">\n  <thead>\n    <tr style=\"text-align: right;\">\n      <th></th>\n      <th>URI</th>\n      <th>Title</th>\n      <th>Year</th>\n      <th>Album</th>\n      <th>Popularity</th>\n      <th>Duration</th>\n      <th>Key</th>\n      <th>Mode</th>\n      <th>Tempo</th>\n      <th>Time_signature</th>\n      <th>...</th>\n      <th>Weeks at No1 in UK (The Guardian)</th>\n      <th>Highest position (Billboard)</th>\n      <th>Weeks at No1 (Billboard)</th>\n      <th>Top 50 (Billboard)</th>\n      <th>Top 50 (Ultimate classic rock)</th>\n      <th>Top 50 (Rolling Stone)</th>\n      <th>Top 50 (NME)</th>\n      <th>Top 50 (Top50songs.org)</th>\n      <th>Top 50 (USA today, 2017)</th>\n      <th>Top 50 (Vulture, by Bill Wyman)</th>\n    </tr>\n  </thead>\n  <tbody>\n    <tr>\n      <th>0</th>\n      <td>NaN</td>\n      <td>12-bar Original</td>\n      <td>1965</td>\n      <td>Anthology 2</td>\n      <td>NaN</td>\n      <td>174.0</td>\n      <td>NaN</td>\n      <td>NaN</td>\n      <td>NaN</td>\n      <td>NaN</td>\n      <td>...</td>\n      <td>NaN</td>\n      <td>NaN</td>\n      <td>NaN</td>\n      <td>NaN</td>\n      <td>NaN</td>\n      <td>NaN</td>\n      <td>NaN</td>\n      <td>NaN</td>\n      <td>NaN</td>\n      <td>NaN</td>\n    </tr>\n    <tr>\n      <th>1</th>\n      <td>spotify:track:0hKRSZhUGEhKU6aNSPBACZ</td>\n      <td>A Day in the Life</td>\n      <td>1967</td>\n      <td>Sgt. Pepper's Lonely Hearts Club Band</td>\n      <td>65.0</td>\n      <td>335.0</td>\n      <td>4.0</td>\n      <td>0.0</td>\n      <td>163.219</td>\n      <td>4.0</td>\n      <td>...</td>\n      <td>NaN</td>\n      <td>NaN</td>\n      <td>NaN</td>\n      <td>NaN</td>\n      <td>1.0</td>\n      <td>1.0</td>\n      <td>2.0</td>\n      <td>18.0</td>\n      <td>1.0</td>\n      <td>1.0</td>\n    </tr>\n    <tr>\n      <th>2</th>\n      <td>spotify:track:5J2CHimS7dWYMImCHkEFaJ</td>\n      <td>A Hard Day's Night</td>\n      <td>1964</td>\n      <td>A Hard Day's Night</td>\n      <td>71.0</td>\n      <td>152.0</td>\n      <td>0.0</td>\n      <td>1.0</td>\n      <td>138.514</td>\n      <td>4.0</td>\n      <td>...</td>\n      <td>3.0</td>\n      <td>1.0</td>\n      <td>2.0</td>\n      <td>8.0</td>\n      <td>18.0</td>\n      <td>11.0</td>\n      <td>19.0</td>\n      <td>19.0</td>\n      <td>15.0</td>\n      <td>41.0</td>\n    </tr>\n    <tr>\n      <th>3</th>\n      <td>NaN</td>\n      <td>A Shot of Rhythm and Blues</td>\n      <td>1963</td>\n      <td>Live at the BBC</td>\n      <td>NaN</td>\n      <td>104.0</td>\n      <td>NaN</td>\n      <td>NaN</td>\n      <td>NaN</td>\n      <td>NaN</td>\n      <td>...</td>\n      <td>NaN</td>\n      <td>NaN</td>\n      <td>NaN</td>\n      <td>NaN</td>\n      <td>NaN</td>\n      <td>NaN</td>\n      <td>NaN</td>\n      <td>NaN</td>\n      <td>NaN</td>\n      <td>NaN</td>\n    </tr>\n    <tr>\n      <th>4</th>\n      <td>spotify:track:7fh53ta3vAOGJMQ4i5tCHe</td>\n      <td>A Taste of Honey</td>\n      <td>1963</td>\n      <td>Please Please Me</td>\n      <td>51.0</td>\n      <td>163.0</td>\n      <td>1.0</td>\n      <td>0.0</td>\n      <td>101.408</td>\n      <td>3.0</td>\n      <td>...</td>\n      <td>NaN</td>\n      <td>NaN</td>\n      <td>NaN</td>\n      <td>NaN</td>\n      <td>NaN</td>\n      <td>NaN</td>\n      <td>NaN</td>\n      <td>NaN</td>\n      <td>NaN</td>\n      <td>NaN</td>\n    </tr>\n    <tr>\n      <th>...</th>\n      <td>...</td>\n      <td>...</td>\n      <td>...</td>\n      <td>...</td>\n      <td>...</td>\n      <td>...</td>\n      <td>...</td>\n      <td>...</td>\n      <td>...</td>\n      <td>...</td>\n      <td>...</td>\n      <td>...</td>\n      <td>...</td>\n      <td>...</td>\n      <td>...</td>\n      <td>...</td>\n      <td>...</td>\n      <td>...</td>\n      <td>...</td>\n      <td>...</td>\n      <td>...</td>\n    </tr>\n    <tr>\n      <th>528</th>\n      <td>spotify:track:3szBij9Q2RnaJ6EPGzy7CF</td>\n      <td>You Can't Do That - Live at the Bbc for \"top G...</td>\n      <td>NaN</td>\n      <td>On Air - Live At The BBC (Vol.2)</td>\n      <td>22.0</td>\n      <td>152.0</td>\n      <td>0.0</td>\n      <td>1.0</td>\n      <td>128.312</td>\n      <td>4.0</td>\n      <td>...</td>\n      <td>NaN</td>\n      <td>NaN</td>\n      <td>NaN</td>\n      <td>NaN</td>\n      <td>NaN</td>\n      <td>NaN</td>\n      <td>NaN</td>\n      <td>NaN</td>\n      <td>NaN</td>\n      <td>NaN</td>\n    </tr>\n    <tr>\n      <th>529</th>\n      <td>spotify:track:1LSOsTXh8o9iW6b4OAFudh</td>\n      <td>Honey Don't - Live at the Bbc for \"top Gear\" /...</td>\n      <td>NaN</td>\n      <td>On Air - Live At The BBC (Vol.2)</td>\n      <td>22.0</td>\n      <td>144.0</td>\n      <td>9.0</td>\n      <td>1.0</td>\n      <td>163.987</td>\n      <td>4.0</td>\n      <td>...</td>\n      <td>NaN</td>\n      <td>NaN</td>\n      <td>NaN</td>\n      <td>NaN</td>\n      <td>NaN</td>\n      <td>NaN</td>\n      <td>NaN</td>\n      <td>NaN</td>\n      <td>NaN</td>\n      <td>NaN</td>\n    </tr>\n    <tr>\n      <th>530</th>\n      <td>spotify:track:7dIPpPDof51ZxfGbbOV8ZK</td>\n      <td>I'll Follow the Sun - Live at the Bbc for \"top...</td>\n      <td>NaN</td>\n      <td>On Air - Live At The BBC (Vol.2)</td>\n      <td>27.0</td>\n      <td>111.0</td>\n      <td>0.0</td>\n      <td>1.0</td>\n      <td>127.694</td>\n      <td>4.0</td>\n      <td>...</td>\n      <td>NaN</td>\n      <td>NaN</td>\n      <td>NaN</td>\n      <td>NaN</td>\n      <td>NaN</td>\n      <td>NaN</td>\n      <td>NaN</td>\n      <td>NaN</td>\n      <td>NaN</td>\n      <td>NaN</td>\n    </tr>\n    <tr>\n      <th>531</th>\n      <td>spotify:track:6ov15QioxNtZxPW7nlC7uC</td>\n      <td>Kansas City / Hey-hey-hey-hey! - Live at the B...</td>\n      <td>NaN</td>\n      <td>On Air - Live At The BBC (Vol.2)</td>\n      <td>22.0</td>\n      <td>163.0</td>\n      <td>0.0</td>\n      <td>1.0</td>\n      <td>131.163</td>\n      <td>4.0</td>\n      <td>...</td>\n      <td>NaN</td>\n      <td>NaN</td>\n      <td>NaN</td>\n      <td>NaN</td>\n      <td>NaN</td>\n      <td>NaN</td>\n      <td>NaN</td>\n      <td>NaN</td>\n      <td>NaN</td>\n      <td>NaN</td>\n    </tr>\n    <tr>\n      <th>532</th>\n      <td>spotify:track:5yAbOoR9GOsSHywhsP3wrJ</td>\n      <td>I Feel Fine (Studio Out-take) - Live at the Bb...</td>\n      <td>NaN</td>\n      <td>On Air - Live At The BBC (Vol.2)</td>\n      <td>22.0</td>\n      <td>209.0</td>\n      <td>2.0</td>\n      <td>1.0</td>\n      <td>90.588</td>\n      <td>4.0</td>\n      <td>...</td>\n      <td>NaN</td>\n      <td>NaN</td>\n      <td>NaN</td>\n      <td>NaN</td>\n      <td>NaN</td>\n      <td>NaN</td>\n      <td>NaN</td>\n      <td>NaN</td>\n      <td>NaN</td>\n      <td>NaN</td>\n    </tr>\n  </tbody>\n</table>\n<p>533 rows × 45 columns</p>\n</div>"
     },
     "execution_count": 107,
     "metadata": {},
     "output_type": "execute_result"
    }
   ],
   "source": [
    "# outer = pd.merge(songs, rarities, left_on='Title', right_on='Title', how='outer', suffixes=('_songs','_rarities'))\n",
    "outer = pd.merge(songs, rarities, on=columns, how='outer', suffixes=('_songs','_rarities'))\n",
    "outer"
   ],
   "metadata": {
    "collapsed": false,
    "ExecuteTime": {
     "end_time": "2023-07-18T22:21:35.261633300Z",
     "start_time": "2023-07-18T22:21:35.223089900Z"
    }
   }
  },
  {
   "cell_type": "code",
   "execution_count": 108,
   "outputs": [],
   "source": [
    "outer.to_csv(data_dir / 'The Beatles outer 533 x 45, 1.csv', index=False)"
   ],
   "metadata": {
    "collapsed": false,
    "ExecuteTime": {
     "end_time": "2023-07-18T22:22:23.606438700Z",
     "start_time": "2023-07-18T22:22:23.577871800Z"
    }
   }
  },
  {
   "cell_type": "markdown",
   "source": [
    "### Sort the resulting *outer* dataframe\n",
    "Store the sorted version in the *The Beatles outer 533 x 45, 2.csv* file."
   ],
   "metadata": {
    "collapsed": false
   }
  },
  {
   "cell_type": "code",
   "execution_count": 110,
   "outputs": [
    {
     "data": {
      "text/plain": "                                      URI  \\\n317  spotify:track:2FDEHIMkjxFLzj688M2I3h   \n426  spotify:track:2HvTGx5fzFGpHSyRNvXd9T   \n0                                     NaN   \n455  spotify:track:34dsKRJHIadrrNdCDtMwGn   \n1    spotify:track:0hKRSZhUGEhKU6aNSPBACZ   \n..                                    ...   \n307  spotify:track:7rgUYidQh5tH0YlXCoKaYJ   \n308                                   NaN   \n360  spotify:track:3FuRBetiFz4ijeLdGCxQ5Y   \n309  spotify:track:1dxbAIfCASqv6jix2R1Taj   \n450  spotify:track:1UJNoWFbeImmzoRPuizKsx   \n\n                                                 Title  Year  \\\n317  (you're So Square) Baby I Don’t Care - Studio Jam   NaN   \n426              12 Bar Original - Anthology 2 Version   NaN   \n0                                      12-bar Original  1965   \n455                  A Beginning - Anthology 3 Version   NaN   \n1                                    A Day in the Life  1967   \n..                                                 ...   ...   \n307                     You've Really Got a Hold on Me  1963   \n308                                        Young Blood  1963   \n360  Young Blood - Live at the Bbc for \"pop Go the ...   NaN   \n309                            Your Mother Should Know  1967   \n450  Your Mother Should Know - Take 27 / Anthology ...   NaN   \n\n                                     Album  Popularity  Duration  Key  Mode  \\\n317                            The Beatles        29.0      43.0  9.0   1.0   \n426                            Anthology 2        31.0     175.0  9.0   1.0   \n0                              Anthology 2         NaN     174.0  NaN   NaN   \n455                            Anthology 3        29.0      50.0  0.0   1.0   \n1    Sgt. Pepper's Lonely Hearts Club Band        65.0     335.0  4.0   0.0   \n..                                     ...         ...       ...  ...   ...   \n307                       With the Beatles        54.0     182.0  9.0   1.0   \n308                        Live at the BBC         NaN     116.0  NaN   NaN   \n360                        Live At The BBC        29.0     116.0  2.0   1.0   \n309                   Magical Mystery Tour        58.0     149.0  0.0   1.0   \n450                            Anthology 2        29.0     182.0  7.0   1.0   \n\n       Tempo  Time_signature  ...  Weeks at No1 in UK (The Guardian)  \\\n317  112.173             4.0  ...                                NaN   \n426  122.678             4.0  ...                                NaN   \n0        NaN             NaN  ...                                NaN   \n455   90.588             3.0  ...                                NaN   \n1    163.219             4.0  ...                                NaN   \n..       ...             ...  ...                                ...   \n307   77.643             4.0  ...                                NaN   \n308      NaN             NaN  ...                                NaN   \n360   68.111             4.0  ...                                NaN   \n309  117.613             4.0  ...                                NaN   \n450  123.287             4.0  ...                                NaN   \n\n     Highest position (Billboard)  Weeks at No1 (Billboard)  \\\n317                           NaN                       NaN   \n426                           NaN                       NaN   \n0                             NaN                       NaN   \n455                           NaN                       NaN   \n1                             NaN                       NaN   \n..                            ...                       ...   \n307                           NaN                       NaN   \n308                           NaN                       NaN   \n360                           NaN                       NaN   \n309                           NaN                       NaN   \n450                           NaN                       NaN   \n\n     Top 50 (Billboard)  Top 50 (Ultimate classic rock)  \\\n317                 NaN                             NaN   \n426                 NaN                             NaN   \n0                   NaN                             NaN   \n455                 NaN                             NaN   \n1                   NaN                             1.0   \n..                  ...                             ...   \n307                 NaN                             NaN   \n308                 NaN                             NaN   \n360                 NaN                             NaN   \n309                 NaN                             NaN   \n450                 NaN                             NaN   \n\n     Top 50 (Rolling Stone)  Top 50 (NME)  Top 50 (Top50songs.org)  \\\n317                     NaN           NaN                      NaN   \n426                     NaN           NaN                      NaN   \n0                       NaN           NaN                      NaN   \n455                     NaN           NaN                      NaN   \n1                       1.0           2.0                     18.0   \n..                      ...           ...                      ...   \n307                     NaN           NaN                      NaN   \n308                     NaN           NaN                      NaN   \n360                     NaN           NaN                      NaN   \n309                     NaN           NaN                      NaN   \n450                     NaN           NaN                      NaN   \n\n    Top 50 (USA today, 2017)  Top 50 (Vulture, by Bill Wyman)  \n317                      NaN                              NaN  \n426                      NaN                              NaN  \n0                        NaN                              NaN  \n455                      NaN                              NaN  \n1                        1.0                              1.0  \n..                       ...                              ...  \n307                      NaN                              NaN  \n308                      NaN                              NaN  \n360                      NaN                              NaN  \n309                      NaN                              NaN  \n450                      NaN                              NaN  \n\n[533 rows x 45 columns]",
      "text/html": "<div>\n<style scoped>\n    .dataframe tbody tr th:only-of-type {\n        vertical-align: middle;\n    }\n\n    .dataframe tbody tr th {\n        vertical-align: top;\n    }\n\n    .dataframe thead th {\n        text-align: right;\n    }\n</style>\n<table border=\"1\" class=\"dataframe\">\n  <thead>\n    <tr style=\"text-align: right;\">\n      <th></th>\n      <th>URI</th>\n      <th>Title</th>\n      <th>Year</th>\n      <th>Album</th>\n      <th>Popularity</th>\n      <th>Duration</th>\n      <th>Key</th>\n      <th>Mode</th>\n      <th>Tempo</th>\n      <th>Time_signature</th>\n      <th>...</th>\n      <th>Weeks at No1 in UK (The Guardian)</th>\n      <th>Highest position (Billboard)</th>\n      <th>Weeks at No1 (Billboard)</th>\n      <th>Top 50 (Billboard)</th>\n      <th>Top 50 (Ultimate classic rock)</th>\n      <th>Top 50 (Rolling Stone)</th>\n      <th>Top 50 (NME)</th>\n      <th>Top 50 (Top50songs.org)</th>\n      <th>Top 50 (USA today, 2017)</th>\n      <th>Top 50 (Vulture, by Bill Wyman)</th>\n    </tr>\n  </thead>\n  <tbody>\n    <tr>\n      <th>317</th>\n      <td>spotify:track:2FDEHIMkjxFLzj688M2I3h</td>\n      <td>(you're So Square) Baby I Don’t Care - Studio Jam</td>\n      <td>NaN</td>\n      <td>The Beatles</td>\n      <td>29.0</td>\n      <td>43.0</td>\n      <td>9.0</td>\n      <td>1.0</td>\n      <td>112.173</td>\n      <td>4.0</td>\n      <td>...</td>\n      <td>NaN</td>\n      <td>NaN</td>\n      <td>NaN</td>\n      <td>NaN</td>\n      <td>NaN</td>\n      <td>NaN</td>\n      <td>NaN</td>\n      <td>NaN</td>\n      <td>NaN</td>\n      <td>NaN</td>\n    </tr>\n    <tr>\n      <th>426</th>\n      <td>spotify:track:2HvTGx5fzFGpHSyRNvXd9T</td>\n      <td>12 Bar Original - Anthology 2 Version</td>\n      <td>NaN</td>\n      <td>Anthology 2</td>\n      <td>31.0</td>\n      <td>175.0</td>\n      <td>9.0</td>\n      <td>1.0</td>\n      <td>122.678</td>\n      <td>4.0</td>\n      <td>...</td>\n      <td>NaN</td>\n      <td>NaN</td>\n      <td>NaN</td>\n      <td>NaN</td>\n      <td>NaN</td>\n      <td>NaN</td>\n      <td>NaN</td>\n      <td>NaN</td>\n      <td>NaN</td>\n      <td>NaN</td>\n    </tr>\n    <tr>\n      <th>0</th>\n      <td>NaN</td>\n      <td>12-bar Original</td>\n      <td>1965</td>\n      <td>Anthology 2</td>\n      <td>NaN</td>\n      <td>174.0</td>\n      <td>NaN</td>\n      <td>NaN</td>\n      <td>NaN</td>\n      <td>NaN</td>\n      <td>...</td>\n      <td>NaN</td>\n      <td>NaN</td>\n      <td>NaN</td>\n      <td>NaN</td>\n      <td>NaN</td>\n      <td>NaN</td>\n      <td>NaN</td>\n      <td>NaN</td>\n      <td>NaN</td>\n      <td>NaN</td>\n    </tr>\n    <tr>\n      <th>455</th>\n      <td>spotify:track:34dsKRJHIadrrNdCDtMwGn</td>\n      <td>A Beginning - Anthology 3 Version</td>\n      <td>NaN</td>\n      <td>Anthology 3</td>\n      <td>29.0</td>\n      <td>50.0</td>\n      <td>0.0</td>\n      <td>1.0</td>\n      <td>90.588</td>\n      <td>3.0</td>\n      <td>...</td>\n      <td>NaN</td>\n      <td>NaN</td>\n      <td>NaN</td>\n      <td>NaN</td>\n      <td>NaN</td>\n      <td>NaN</td>\n      <td>NaN</td>\n      <td>NaN</td>\n      <td>NaN</td>\n      <td>NaN</td>\n    </tr>\n    <tr>\n      <th>1</th>\n      <td>spotify:track:0hKRSZhUGEhKU6aNSPBACZ</td>\n      <td>A Day in the Life</td>\n      <td>1967</td>\n      <td>Sgt. Pepper's Lonely Hearts Club Band</td>\n      <td>65.0</td>\n      <td>335.0</td>\n      <td>4.0</td>\n      <td>0.0</td>\n      <td>163.219</td>\n      <td>4.0</td>\n      <td>...</td>\n      <td>NaN</td>\n      <td>NaN</td>\n      <td>NaN</td>\n      <td>NaN</td>\n      <td>1.0</td>\n      <td>1.0</td>\n      <td>2.0</td>\n      <td>18.0</td>\n      <td>1.0</td>\n      <td>1.0</td>\n    </tr>\n    <tr>\n      <th>...</th>\n      <td>...</td>\n      <td>...</td>\n      <td>...</td>\n      <td>...</td>\n      <td>...</td>\n      <td>...</td>\n      <td>...</td>\n      <td>...</td>\n      <td>...</td>\n      <td>...</td>\n      <td>...</td>\n      <td>...</td>\n      <td>...</td>\n      <td>...</td>\n      <td>...</td>\n      <td>...</td>\n      <td>...</td>\n      <td>...</td>\n      <td>...</td>\n      <td>...</td>\n      <td>...</td>\n    </tr>\n    <tr>\n      <th>307</th>\n      <td>spotify:track:7rgUYidQh5tH0YlXCoKaYJ</td>\n      <td>You've Really Got a Hold on Me</td>\n      <td>1963</td>\n      <td>With the Beatles</td>\n      <td>54.0</td>\n      <td>182.0</td>\n      <td>9.0</td>\n      <td>1.0</td>\n      <td>77.643</td>\n      <td>4.0</td>\n      <td>...</td>\n      <td>NaN</td>\n      <td>NaN</td>\n      <td>NaN</td>\n      <td>NaN</td>\n      <td>NaN</td>\n      <td>NaN</td>\n      <td>NaN</td>\n      <td>NaN</td>\n      <td>NaN</td>\n      <td>NaN</td>\n    </tr>\n    <tr>\n      <th>308</th>\n      <td>NaN</td>\n      <td>Young Blood</td>\n      <td>1963</td>\n      <td>Live at the BBC</td>\n      <td>NaN</td>\n      <td>116.0</td>\n      <td>NaN</td>\n      <td>NaN</td>\n      <td>NaN</td>\n      <td>NaN</td>\n      <td>...</td>\n      <td>NaN</td>\n      <td>NaN</td>\n      <td>NaN</td>\n      <td>NaN</td>\n      <td>NaN</td>\n      <td>NaN</td>\n      <td>NaN</td>\n      <td>NaN</td>\n      <td>NaN</td>\n      <td>NaN</td>\n    </tr>\n    <tr>\n      <th>360</th>\n      <td>spotify:track:3FuRBetiFz4ijeLdGCxQ5Y</td>\n      <td>Young Blood - Live at the Bbc for \"pop Go the ...</td>\n      <td>NaN</td>\n      <td>Live At The BBC</td>\n      <td>29.0</td>\n      <td>116.0</td>\n      <td>2.0</td>\n      <td>1.0</td>\n      <td>68.111</td>\n      <td>4.0</td>\n      <td>...</td>\n      <td>NaN</td>\n      <td>NaN</td>\n      <td>NaN</td>\n      <td>NaN</td>\n      <td>NaN</td>\n      <td>NaN</td>\n      <td>NaN</td>\n      <td>NaN</td>\n      <td>NaN</td>\n      <td>NaN</td>\n    </tr>\n    <tr>\n      <th>309</th>\n      <td>spotify:track:1dxbAIfCASqv6jix2R1Taj</td>\n      <td>Your Mother Should Know</td>\n      <td>1967</td>\n      <td>Magical Mystery Tour</td>\n      <td>58.0</td>\n      <td>149.0</td>\n      <td>0.0</td>\n      <td>1.0</td>\n      <td>117.613</td>\n      <td>4.0</td>\n      <td>...</td>\n      <td>NaN</td>\n      <td>NaN</td>\n      <td>NaN</td>\n      <td>NaN</td>\n      <td>NaN</td>\n      <td>NaN</td>\n      <td>NaN</td>\n      <td>NaN</td>\n      <td>NaN</td>\n      <td>NaN</td>\n    </tr>\n    <tr>\n      <th>450</th>\n      <td>spotify:track:1UJNoWFbeImmzoRPuizKsx</td>\n      <td>Your Mother Should Know - Take 27 / Anthology ...</td>\n      <td>NaN</td>\n      <td>Anthology 2</td>\n      <td>29.0</td>\n      <td>182.0</td>\n      <td>7.0</td>\n      <td>1.0</td>\n      <td>123.287</td>\n      <td>4.0</td>\n      <td>...</td>\n      <td>NaN</td>\n      <td>NaN</td>\n      <td>NaN</td>\n      <td>NaN</td>\n      <td>NaN</td>\n      <td>NaN</td>\n      <td>NaN</td>\n      <td>NaN</td>\n      <td>NaN</td>\n      <td>NaN</td>\n    </tr>\n  </tbody>\n</table>\n<p>533 rows × 45 columns</p>\n</div>"
     },
     "execution_count": 110,
     "metadata": {},
     "output_type": "execute_result"
    }
   ],
   "source": [
    "outer.sort_values(by=['Title'], inplace=True)\n",
    "outer"
   ],
   "metadata": {
    "collapsed": false,
    "ExecuteTime": {
     "end_time": "2023-07-18T22:39:07.812020300Z",
     "start_time": "2023-07-18T22:39:07.790868300Z"
    }
   }
  },
  {
   "cell_type": "code",
   "execution_count": 111,
   "outputs": [],
   "source": [
    "outer.to_csv(data_dir / 'The Beatles outer 533 x 45, 2.csv', index=False)"
   ],
   "metadata": {
    "collapsed": false,
    "ExecuteTime": {
     "end_time": "2023-07-18T22:41:56.174012300Z",
     "start_time": "2023-07-18T22:41:56.134447700Z"
    }
   }
  },
  {
   "cell_type": "markdown",
   "source": [
    "### Remove duplicates\n",
    "The dataset resulting from the outer join, *The Beatles outer 533 x 45, 2.csv*, was manually updated to remove the duplicates. Whenever possible, official versions of songs and their short titles have been kept (rather than the versions and the titles from *rarities*). Where in doubt, versions with the higher *Popularity* audio feature have been kept. *From Us to You* from *Live at BBC* has been eliminated completely because it's just another version of *From Me to You*. Minor adaptations in the titles (such as occasional elimination of diacritics and typos) have also been conducted.\n",
    "\n",
    "The resulting dataset, *The Beatles outer 313 x 45, 1.csv*, does not contain duplicate songs, although it does contain two columns with similar contents (*Album* and *Album debut*). The criterion for eliminating the duplicates was to keep official versions only whenever possible (i.e., not live, bootleg, demo, and similar versions).\n",
    "\n",
    "However, there is no Spotify URI for 28 songs in the *The Beatles outer 313 x 45, 1.csv* dataset. They are identified in the following cells, and the resulting dataframe is saved as *The Beatles songs with no Spotify URIs, 1.csv*"
   ],
   "metadata": {
    "collapsed": false
   }
  },
  {
   "cell_type": "code",
   "execution_count": 112,
   "outputs": [
    {
     "data": {
      "text/plain": "                                      URI  \\\n0    spotify:track:2FDEHIMkjxFLzj688M2I3h   \n1    spotify:track:2HvTGx5fzFGpHSyRNvXd9T   \n2    spotify:track:34dsKRJHIadrrNdCDtMwGn   \n3    spotify:track:0hKRSZhUGEhKU6aNSPBACZ   \n4    spotify:track:5J2CHimS7dWYMImCHkEFaJ   \n..                                    ...   \n308  spotify:track:70HNt0eoBVqr4ss68U8x3B   \n309  spotify:track:4F1AgKpuFRMLEgtPETVwZk   \n310  spotify:track:7rgUYidQh5tH0YlXCoKaYJ   \n311  spotify:track:3FuRBetiFz4ijeLdGCxQ5Y   \n312  spotify:track:1dxbAIfCASqv6jix2R1Taj   \n\n                                                 Title  Year  \\\n0    (You're So Square) Baby I Don't Care - Studio Jam   NaN   \n1                                      12-bar Original  1965   \n2                    A Beginning - Anthology 3 Version   NaN   \n3                                    A Day in the Life  1967   \n4                                   A Hard Day's Night  1964   \n..                                                 ...   ...   \n308                     You're Going to Lose That Girl  1965   \n309                  You've Got to Hide Your Love Away  1965   \n310                     You've Really Got a Hold on Me  1963   \n311                                        Young Blood  1963   \n312                            Your Mother Should Know  1967   \n\n                                     Album  Popularity  Duration  Key  Mode  \\\n0                              The Beatles        29.0      43.0  9.0   1.0   \n1                              Anthology 2        31.0     175.0  9.0   1.0   \n2                              Anthology 3        29.0      50.0  0.0   1.0   \n3    Sgt. Pepper's Lonely Hearts Club Band        65.0     335.0  4.0   0.0   \n4                       A Hard Day's Night        71.0     152.0  0.0   1.0   \n..                                     ...         ...       ...  ...   ...   \n308                                  Help!        57.0     140.0  4.0   1.0   \n309                                  Help!        73.0     131.0  7.0   1.0   \n310                       With the Beatles        54.0     182.0  9.0   1.0   \n311                        Live at the BBC        29.0     116.0  2.0   1.0   \n312                   Magical Mystery Tour        58.0     149.0  0.0   1.0   \n\n       Tempo  Time_signature  ...  Weeks at No1 in UK (The Guardian)  \\\n0    112.173             4.0  ...                                NaN   \n1    122.678             4.0  ...                                NaN   \n2     90.588             3.0  ...                                NaN   \n3    163.219             4.0  ...                                NaN   \n4    138.514             4.0  ...                                3.0   \n..       ...             ...  ...                                ...   \n308  131.975             4.0  ...                                NaN   \n309  184.267             3.0  ...                                NaN   \n310   77.643             4.0  ...                                NaN   \n311   68.111             4.0  ...                                NaN   \n312  117.613             4.0  ...                                NaN   \n\n     Highest position (Billboard)  Weeks at No1 (Billboard)  \\\n0                             NaN                       NaN   \n1                             NaN                       NaN   \n2                             NaN                       NaN   \n3                             NaN                       NaN   \n4                             1.0                       2.0   \n..                            ...                       ...   \n308                           NaN                       NaN   \n309                           NaN                       NaN   \n310                           NaN                       NaN   \n311                           NaN                       NaN   \n312                           NaN                       NaN   \n\n     Top 50 (Billboard)  Top 50 (Ultimate classic rock)  \\\n0                   NaN                             NaN   \n1                   NaN                             NaN   \n2                   NaN                             NaN   \n3                   NaN                             1.0   \n4                   8.0                            18.0   \n..                  ...                             ...   \n308                 NaN                             NaN   \n309                 NaN                            42.0   \n310                 NaN                             NaN   \n311                 NaN                             NaN   \n312                 NaN                             NaN   \n\n     Top 50 (Rolling Stone)  Top 50 (NME)  Top 50 (Top50songs.org)  \\\n0                       NaN           NaN                      NaN   \n1                       NaN           NaN                      NaN   \n2                       NaN           NaN                      NaN   \n3                       1.0           2.0                     18.0   \n4                      11.0          19.0                     19.0   \n..                      ...           ...                      ...   \n308                    27.0           NaN                      NaN   \n309                    31.0          49.0                      NaN   \n310                     NaN           NaN                      NaN   \n311                     NaN           NaN                      NaN   \n312                     NaN           NaN                      NaN   \n\n    Top 50 (USA today, 2017)  Top 50 (Vulture, by Bill Wyman)  \n0                        NaN                              NaN  \n1                        NaN                              NaN  \n2                        NaN                              NaN  \n3                        1.0                              1.0  \n4                       15.0                             41.0  \n..                       ...                              ...  \n308                      NaN                              NaN  \n309                     37.0                             46.0  \n310                      NaN                              NaN  \n311                      NaN                              NaN  \n312                      NaN                              NaN  \n\n[313 rows x 45 columns]",
      "text/html": "<div>\n<style scoped>\n    .dataframe tbody tr th:only-of-type {\n        vertical-align: middle;\n    }\n\n    .dataframe tbody tr th {\n        vertical-align: top;\n    }\n\n    .dataframe thead th {\n        text-align: right;\n    }\n</style>\n<table border=\"1\" class=\"dataframe\">\n  <thead>\n    <tr style=\"text-align: right;\">\n      <th></th>\n      <th>URI</th>\n      <th>Title</th>\n      <th>Year</th>\n      <th>Album</th>\n      <th>Popularity</th>\n      <th>Duration</th>\n      <th>Key</th>\n      <th>Mode</th>\n      <th>Tempo</th>\n      <th>Time_signature</th>\n      <th>...</th>\n      <th>Weeks at No1 in UK (The Guardian)</th>\n      <th>Highest position (Billboard)</th>\n      <th>Weeks at No1 (Billboard)</th>\n      <th>Top 50 (Billboard)</th>\n      <th>Top 50 (Ultimate classic rock)</th>\n      <th>Top 50 (Rolling Stone)</th>\n      <th>Top 50 (NME)</th>\n      <th>Top 50 (Top50songs.org)</th>\n      <th>Top 50 (USA today, 2017)</th>\n      <th>Top 50 (Vulture, by Bill Wyman)</th>\n    </tr>\n  </thead>\n  <tbody>\n    <tr>\n      <th>0</th>\n      <td>spotify:track:2FDEHIMkjxFLzj688M2I3h</td>\n      <td>(You're So Square) Baby I Don't Care - Studio Jam</td>\n      <td>NaN</td>\n      <td>The Beatles</td>\n      <td>29.0</td>\n      <td>43.0</td>\n      <td>9.0</td>\n      <td>1.0</td>\n      <td>112.173</td>\n      <td>4.0</td>\n      <td>...</td>\n      <td>NaN</td>\n      <td>NaN</td>\n      <td>NaN</td>\n      <td>NaN</td>\n      <td>NaN</td>\n      <td>NaN</td>\n      <td>NaN</td>\n      <td>NaN</td>\n      <td>NaN</td>\n      <td>NaN</td>\n    </tr>\n    <tr>\n      <th>1</th>\n      <td>spotify:track:2HvTGx5fzFGpHSyRNvXd9T</td>\n      <td>12-bar Original</td>\n      <td>1965</td>\n      <td>Anthology 2</td>\n      <td>31.0</td>\n      <td>175.0</td>\n      <td>9.0</td>\n      <td>1.0</td>\n      <td>122.678</td>\n      <td>4.0</td>\n      <td>...</td>\n      <td>NaN</td>\n      <td>NaN</td>\n      <td>NaN</td>\n      <td>NaN</td>\n      <td>NaN</td>\n      <td>NaN</td>\n      <td>NaN</td>\n      <td>NaN</td>\n      <td>NaN</td>\n      <td>NaN</td>\n    </tr>\n    <tr>\n      <th>2</th>\n      <td>spotify:track:34dsKRJHIadrrNdCDtMwGn</td>\n      <td>A Beginning - Anthology 3 Version</td>\n      <td>NaN</td>\n      <td>Anthology 3</td>\n      <td>29.0</td>\n      <td>50.0</td>\n      <td>0.0</td>\n      <td>1.0</td>\n      <td>90.588</td>\n      <td>3.0</td>\n      <td>...</td>\n      <td>NaN</td>\n      <td>NaN</td>\n      <td>NaN</td>\n      <td>NaN</td>\n      <td>NaN</td>\n      <td>NaN</td>\n      <td>NaN</td>\n      <td>NaN</td>\n      <td>NaN</td>\n      <td>NaN</td>\n    </tr>\n    <tr>\n      <th>3</th>\n      <td>spotify:track:0hKRSZhUGEhKU6aNSPBACZ</td>\n      <td>A Day in the Life</td>\n      <td>1967</td>\n      <td>Sgt. Pepper's Lonely Hearts Club Band</td>\n      <td>65.0</td>\n      <td>335.0</td>\n      <td>4.0</td>\n      <td>0.0</td>\n      <td>163.219</td>\n      <td>4.0</td>\n      <td>...</td>\n      <td>NaN</td>\n      <td>NaN</td>\n      <td>NaN</td>\n      <td>NaN</td>\n      <td>1.0</td>\n      <td>1.0</td>\n      <td>2.0</td>\n      <td>18.0</td>\n      <td>1.0</td>\n      <td>1.0</td>\n    </tr>\n    <tr>\n      <th>4</th>\n      <td>spotify:track:5J2CHimS7dWYMImCHkEFaJ</td>\n      <td>A Hard Day's Night</td>\n      <td>1964</td>\n      <td>A Hard Day's Night</td>\n      <td>71.0</td>\n      <td>152.0</td>\n      <td>0.0</td>\n      <td>1.0</td>\n      <td>138.514</td>\n      <td>4.0</td>\n      <td>...</td>\n      <td>3.0</td>\n      <td>1.0</td>\n      <td>2.0</td>\n      <td>8.0</td>\n      <td>18.0</td>\n      <td>11.0</td>\n      <td>19.0</td>\n      <td>19.0</td>\n      <td>15.0</td>\n      <td>41.0</td>\n    </tr>\n    <tr>\n      <th>...</th>\n      <td>...</td>\n      <td>...</td>\n      <td>...</td>\n      <td>...</td>\n      <td>...</td>\n      <td>...</td>\n      <td>...</td>\n      <td>...</td>\n      <td>...</td>\n      <td>...</td>\n      <td>...</td>\n      <td>...</td>\n      <td>...</td>\n      <td>...</td>\n      <td>...</td>\n      <td>...</td>\n      <td>...</td>\n      <td>...</td>\n      <td>...</td>\n      <td>...</td>\n      <td>...</td>\n    </tr>\n    <tr>\n      <th>308</th>\n      <td>spotify:track:70HNt0eoBVqr4ss68U8x3B</td>\n      <td>You're Going to Lose That Girl</td>\n      <td>1965</td>\n      <td>Help!</td>\n      <td>57.0</td>\n      <td>140.0</td>\n      <td>4.0</td>\n      <td>1.0</td>\n      <td>131.975</td>\n      <td>4.0</td>\n      <td>...</td>\n      <td>NaN</td>\n      <td>NaN</td>\n      <td>NaN</td>\n      <td>NaN</td>\n      <td>NaN</td>\n      <td>27.0</td>\n      <td>NaN</td>\n      <td>NaN</td>\n      <td>NaN</td>\n      <td>NaN</td>\n    </tr>\n    <tr>\n      <th>309</th>\n      <td>spotify:track:4F1AgKpuFRMLEgtPETVwZk</td>\n      <td>You've Got to Hide Your Love Away</td>\n      <td>1965</td>\n      <td>Help!</td>\n      <td>73.0</td>\n      <td>131.0</td>\n      <td>7.0</td>\n      <td>1.0</td>\n      <td>184.267</td>\n      <td>3.0</td>\n      <td>...</td>\n      <td>NaN</td>\n      <td>NaN</td>\n      <td>NaN</td>\n      <td>NaN</td>\n      <td>42.0</td>\n      <td>31.0</td>\n      <td>49.0</td>\n      <td>NaN</td>\n      <td>37.0</td>\n      <td>46.0</td>\n    </tr>\n    <tr>\n      <th>310</th>\n      <td>spotify:track:7rgUYidQh5tH0YlXCoKaYJ</td>\n      <td>You've Really Got a Hold on Me</td>\n      <td>1963</td>\n      <td>With the Beatles</td>\n      <td>54.0</td>\n      <td>182.0</td>\n      <td>9.0</td>\n      <td>1.0</td>\n      <td>77.643</td>\n      <td>4.0</td>\n      <td>...</td>\n      <td>NaN</td>\n      <td>NaN</td>\n      <td>NaN</td>\n      <td>NaN</td>\n      <td>NaN</td>\n      <td>NaN</td>\n      <td>NaN</td>\n      <td>NaN</td>\n      <td>NaN</td>\n      <td>NaN</td>\n    </tr>\n    <tr>\n      <th>311</th>\n      <td>spotify:track:3FuRBetiFz4ijeLdGCxQ5Y</td>\n      <td>Young Blood</td>\n      <td>1963</td>\n      <td>Live at the BBC</td>\n      <td>29.0</td>\n      <td>116.0</td>\n      <td>2.0</td>\n      <td>1.0</td>\n      <td>68.111</td>\n      <td>4.0</td>\n      <td>...</td>\n      <td>NaN</td>\n      <td>NaN</td>\n      <td>NaN</td>\n      <td>NaN</td>\n      <td>NaN</td>\n      <td>NaN</td>\n      <td>NaN</td>\n      <td>NaN</td>\n      <td>NaN</td>\n      <td>NaN</td>\n    </tr>\n    <tr>\n      <th>312</th>\n      <td>spotify:track:1dxbAIfCASqv6jix2R1Taj</td>\n      <td>Your Mother Should Know</td>\n      <td>1967</td>\n      <td>Magical Mystery Tour</td>\n      <td>58.0</td>\n      <td>149.0</td>\n      <td>0.0</td>\n      <td>1.0</td>\n      <td>117.613</td>\n      <td>4.0</td>\n      <td>...</td>\n      <td>NaN</td>\n      <td>NaN</td>\n      <td>NaN</td>\n      <td>NaN</td>\n      <td>NaN</td>\n      <td>NaN</td>\n      <td>NaN</td>\n      <td>NaN</td>\n      <td>NaN</td>\n      <td>NaN</td>\n    </tr>\n  </tbody>\n</table>\n<p>313 rows × 45 columns</p>\n</div>"
     },
     "execution_count": 112,
     "metadata": {},
     "output_type": "execute_result"
    }
   ],
   "source": [
    "songs = pd.read_csv('../data/The Beatles outer 313 x 45, 1.csv')\n",
    "songs"
   ],
   "metadata": {
    "collapsed": false,
    "ExecuteTime": {
     "end_time": "2023-07-19T16:32:26.234822600Z",
     "start_time": "2023-07-19T16:32:26.198321700Z"
    }
   }
  },
  {
   "cell_type": "markdown",
   "source": [
    "Get the songs with no Spotify URI."
   ],
   "metadata": {
    "collapsed": false
   }
  },
  {
   "cell_type": "code",
   "execution_count": 119,
   "outputs": [
    {
     "data": {
      "text/plain": "28"
     },
     "metadata": {},
     "output_type": "display_data"
    },
    {
     "data": {
      "text/plain": "0      False\n1      False\n2      False\n3      False\n4      False\n       ...  \n308    False\n309    False\n310    False\n311    False\n312    False\nName: URI, Length: 313, dtype: bool"
     },
     "metadata": {},
     "output_type": "display_data"
    },
    {
     "data": {
      "text/plain": "     URI                           Title  Year  \\\n27   NaN                       Bad to Me  1963   \n30   NaN   Because I Know You Love Me So  1969   \n41   NaN                        Catswalk  1962   \n44   NaN                 Child of Nature  1968   \n45   NaN  Christmas Time (Is Here Again)  1967   \n68   NaN                        Etcetera  1968   \n72   NaN       Fancy My Chances with You  196?   \n92   NaN                         Heather  1968   \n114  NaN           I Lost My Little Girl  1962   \n129  NaN         I'll Keep You Satisfied  1963   \n138  NaN                     I'm in Love  1963   \n149  NaN                 Jazz Piano Song  1969   \n150  NaN                  Jessie's Dream  1967   \n156  NaN         Komm Gib Mir Deine Hand  1964   \n166  NaN                   Looking Glass  1962   \n170  NaN               Love of the Loved  1962   \n174  NaN                          Madman  1969   \n201  NaN              One and One Is Two  1964   \n223  NaN           September in the Rain  1962   \n227  NaN          Shakin' in the Sixties  1969   \n234  NaN                  Sie Liebt Dich  1964   \n246  NaN       Take Good Care of My Baby  1962   \n247  NaN       Taking a Trip to Carolina  1969   \n265  NaN                      The Saints  1962   \n275  NaN                Tip of My Tongue  1962   \n282  NaN               Watching Rainbows  1969   \n292  NaN                  Winston's Walk  1960   \n295  NaN                           Woman  1965   \n\n                                               Album  Popularity  Duration  \\\n27               The Beatles Bootleg Recordings 1963         NaN     142.0   \n30   Let It Be... Naked - Fly on the Wall bonus disc         NaN       NaN   \n41                                               NaN         NaN       NaN   \n44   Let It Be... Naked - Fly on the Wall bonus disc         NaN     254.0   \n45                      The Beatles' Christmas Album         NaN     183.0   \n68                                               NaN         NaN       NaN   \n72   Let It Be... Naked - Fly on the Wall bonus disc         NaN       NaN   \n92                                               NaN         NaN     130.0   \n114                                              NaN         NaN     105.0   \n129                                              NaN         NaN       NaN   \n138              The Beatles Bootleg Recordings 1963         NaN      92.0   \n149                                              NaN         NaN       NaN   \n150                                              NaN         NaN       NaN   \n156                                         Rarities         NaN     146.0   \n166                                              NaN         NaN       NaN   \n170                                              NaN         NaN     122.0   \n174                                              NaN         NaN     197.0   \n201                                              NaN         NaN       NaN   \n223                                              NaN         NaN       NaN   \n227                                              NaN         NaN       NaN   \n234                                         Rarities         NaN     139.0   \n246                                              NaN         NaN       NaN   \n247  Let It Be... Naked - Fly on the Wall bonus disc         NaN       NaN   \n265                                              NaN         NaN       NaN   \n275                                              NaN         NaN       NaN   \n282                                              NaN         NaN     248.0   \n292                                              NaN         NaN       NaN   \n295                                              NaN         NaN     145.0   \n\n     Key  Mode  Tempo  Time_signature  ...  Weeks at No1 in UK (The Guardian)  \\\n27   NaN   NaN    NaN             NaN  ...                                NaN   \n30   NaN   NaN    NaN             NaN  ...                                NaN   \n41   NaN   NaN    NaN             NaN  ...                                NaN   \n44   NaN   NaN    NaN             NaN  ...                                NaN   \n45   NaN   NaN    NaN             NaN  ...                                NaN   \n68   NaN   NaN    NaN             NaN  ...                                NaN   \n72   NaN   NaN    NaN             NaN  ...                                NaN   \n92   NaN   NaN    NaN             NaN  ...                                NaN   \n114  NaN   NaN    NaN             NaN  ...                                NaN   \n129  NaN   NaN    NaN             NaN  ...                                NaN   \n138  NaN   NaN    NaN             NaN  ...                                NaN   \n149  NaN   NaN    NaN             NaN  ...                                NaN   \n150  NaN   NaN    NaN             NaN  ...                                NaN   \n156  NaN   NaN    NaN             NaN  ...                                NaN   \n166  NaN   NaN    NaN             NaN  ...                                NaN   \n170  NaN   NaN    NaN             NaN  ...                                NaN   \n174  NaN   NaN    NaN             NaN  ...                                NaN   \n201  NaN   NaN    NaN             NaN  ...                                NaN   \n223  NaN   NaN    NaN             NaN  ...                                NaN   \n227  NaN   NaN    NaN             NaN  ...                                NaN   \n234  NaN   NaN    NaN             NaN  ...                                NaN   \n246  NaN   NaN    NaN             NaN  ...                                NaN   \n247  NaN   NaN    NaN             NaN  ...                                NaN   \n265  NaN   NaN    NaN             NaN  ...                                NaN   \n275  NaN   NaN    NaN             NaN  ...                                NaN   \n282  NaN   NaN    NaN             NaN  ...                                NaN   \n292  NaN   NaN    NaN             NaN  ...                                NaN   \n295  NaN   NaN    NaN             NaN  ...                                NaN   \n\n     Highest position (Billboard)  Weeks at No1 (Billboard)  \\\n27                            NaN                       NaN   \n30                            NaN                       NaN   \n41                            NaN                       NaN   \n44                            NaN                       NaN   \n45                            NaN                       NaN   \n68                            NaN                       NaN   \n72                            NaN                       NaN   \n92                            NaN                       NaN   \n114                           NaN                       NaN   \n129                           NaN                       NaN   \n138                           NaN                       NaN   \n149                           NaN                       NaN   \n150                           NaN                       NaN   \n156                           NaN                       NaN   \n166                           NaN                       NaN   \n170                           NaN                       NaN   \n174                           NaN                       NaN   \n201                           NaN                       NaN   \n223                           NaN                       NaN   \n227                           NaN                       NaN   \n234                           NaN                       NaN   \n246                           NaN                       NaN   \n247                           NaN                       NaN   \n265                           NaN                       NaN   \n275                           NaN                       NaN   \n282                           NaN                       NaN   \n292                           NaN                       NaN   \n295                           NaN                       NaN   \n\n     Top 50 (Billboard)  Top 50 (Ultimate classic rock)  \\\n27                  NaN                             NaN   \n30                  NaN                             NaN   \n41                  NaN                             NaN   \n44                  NaN                             NaN   \n45                  NaN                             NaN   \n68                  NaN                             NaN   \n72                  NaN                             NaN   \n92                  NaN                             NaN   \n114                 NaN                             NaN   \n129                 NaN                             NaN   \n138                 NaN                             NaN   \n149                 NaN                             NaN   \n150                 NaN                             NaN   \n156                 NaN                             NaN   \n166                 NaN                             NaN   \n170                 NaN                             NaN   \n174                 NaN                             NaN   \n201                 NaN                             NaN   \n223                 NaN                             NaN   \n227                 NaN                             NaN   \n234                 NaN                             NaN   \n246                 NaN                             NaN   \n247                 NaN                             NaN   \n265                 NaN                             NaN   \n275                 NaN                             NaN   \n282                 NaN                             NaN   \n292                 NaN                             NaN   \n295                 NaN                             NaN   \n\n     Top 50 (Rolling Stone)  Top 50 (NME)  Top 50 (Top50songs.org)  \\\n27                      NaN           NaN                      NaN   \n30                      NaN           NaN                      NaN   \n41                      NaN           NaN                      NaN   \n44                      NaN           NaN                      NaN   \n45                      NaN           NaN                      NaN   \n68                      NaN           NaN                      NaN   \n72                      NaN           NaN                      NaN   \n92                      NaN           NaN                      NaN   \n114                     NaN           NaN                      NaN   \n129                     NaN           NaN                      NaN   \n138                     NaN           NaN                      NaN   \n149                     NaN           NaN                      NaN   \n150                     NaN           NaN                      NaN   \n156                     NaN           NaN                      NaN   \n166                     NaN           NaN                      NaN   \n170                     NaN           NaN                      NaN   \n174                     NaN           NaN                      NaN   \n201                     NaN           NaN                      NaN   \n223                     NaN           NaN                      NaN   \n227                     NaN           NaN                      NaN   \n234                     NaN           NaN                      NaN   \n246                     NaN           NaN                      NaN   \n247                     NaN           NaN                      NaN   \n265                     NaN           NaN                      NaN   \n275                     NaN           NaN                      NaN   \n282                     NaN           NaN                      NaN   \n292                     NaN           NaN                      NaN   \n295                     NaN           NaN                      NaN   \n\n    Top 50 (USA today, 2017)  Top 50 (Vulture, by Bill Wyman)  \n27                       NaN                              NaN  \n30                       NaN                              NaN  \n41                       NaN                              NaN  \n44                       NaN                              NaN  \n45                       NaN                              NaN  \n68                       NaN                              NaN  \n72                       NaN                              NaN  \n92                       NaN                              NaN  \n114                      NaN                              NaN  \n129                      NaN                              NaN  \n138                      NaN                              NaN  \n149                      NaN                              NaN  \n150                      NaN                              NaN  \n156                      NaN                              NaN  \n166                      NaN                              NaN  \n170                      NaN                              NaN  \n174                      NaN                              NaN  \n201                      NaN                              NaN  \n223                      NaN                              NaN  \n227                      NaN                              NaN  \n234                      NaN                              NaN  \n246                      NaN                              NaN  \n247                      NaN                              NaN  \n265                      NaN                              NaN  \n275                      NaN                              NaN  \n282                      NaN                              NaN  \n292                      NaN                              NaN  \n295                      NaN                              NaN  \n\n[28 rows x 45 columns]",
      "text/html": "<div>\n<style scoped>\n    .dataframe tbody tr th:only-of-type {\n        vertical-align: middle;\n    }\n\n    .dataframe tbody tr th {\n        vertical-align: top;\n    }\n\n    .dataframe thead th {\n        text-align: right;\n    }\n</style>\n<table border=\"1\" class=\"dataframe\">\n  <thead>\n    <tr style=\"text-align: right;\">\n      <th></th>\n      <th>URI</th>\n      <th>Title</th>\n      <th>Year</th>\n      <th>Album</th>\n      <th>Popularity</th>\n      <th>Duration</th>\n      <th>Key</th>\n      <th>Mode</th>\n      <th>Tempo</th>\n      <th>Time_signature</th>\n      <th>...</th>\n      <th>Weeks at No1 in UK (The Guardian)</th>\n      <th>Highest position (Billboard)</th>\n      <th>Weeks at No1 (Billboard)</th>\n      <th>Top 50 (Billboard)</th>\n      <th>Top 50 (Ultimate classic rock)</th>\n      <th>Top 50 (Rolling Stone)</th>\n      <th>Top 50 (NME)</th>\n      <th>Top 50 (Top50songs.org)</th>\n      <th>Top 50 (USA today, 2017)</th>\n      <th>Top 50 (Vulture, by Bill Wyman)</th>\n    </tr>\n  </thead>\n  <tbody>\n    <tr>\n      <th>27</th>\n      <td>NaN</td>\n      <td>Bad to Me</td>\n      <td>1963</td>\n      <td>The Beatles Bootleg Recordings 1963</td>\n      <td>NaN</td>\n      <td>142.0</td>\n      <td>NaN</td>\n      <td>NaN</td>\n      <td>NaN</td>\n      <td>NaN</td>\n      <td>...</td>\n      <td>NaN</td>\n      <td>NaN</td>\n      <td>NaN</td>\n      <td>NaN</td>\n      <td>NaN</td>\n      <td>NaN</td>\n      <td>NaN</td>\n      <td>NaN</td>\n      <td>NaN</td>\n      <td>NaN</td>\n    </tr>\n    <tr>\n      <th>30</th>\n      <td>NaN</td>\n      <td>Because I Know You Love Me So</td>\n      <td>1969</td>\n      <td>Let It Be... Naked - Fly on the Wall bonus disc</td>\n      <td>NaN</td>\n      <td>NaN</td>\n      <td>NaN</td>\n      <td>NaN</td>\n      <td>NaN</td>\n      <td>NaN</td>\n      <td>...</td>\n      <td>NaN</td>\n      <td>NaN</td>\n      <td>NaN</td>\n      <td>NaN</td>\n      <td>NaN</td>\n      <td>NaN</td>\n      <td>NaN</td>\n      <td>NaN</td>\n      <td>NaN</td>\n      <td>NaN</td>\n    </tr>\n    <tr>\n      <th>41</th>\n      <td>NaN</td>\n      <td>Catswalk</td>\n      <td>1962</td>\n      <td>NaN</td>\n      <td>NaN</td>\n      <td>NaN</td>\n      <td>NaN</td>\n      <td>NaN</td>\n      <td>NaN</td>\n      <td>NaN</td>\n      <td>...</td>\n      <td>NaN</td>\n      <td>NaN</td>\n      <td>NaN</td>\n      <td>NaN</td>\n      <td>NaN</td>\n      <td>NaN</td>\n      <td>NaN</td>\n      <td>NaN</td>\n      <td>NaN</td>\n      <td>NaN</td>\n    </tr>\n    <tr>\n      <th>44</th>\n      <td>NaN</td>\n      <td>Child of Nature</td>\n      <td>1968</td>\n      <td>Let It Be... Naked - Fly on the Wall bonus disc</td>\n      <td>NaN</td>\n      <td>254.0</td>\n      <td>NaN</td>\n      <td>NaN</td>\n      <td>NaN</td>\n      <td>NaN</td>\n      <td>...</td>\n      <td>NaN</td>\n      <td>NaN</td>\n      <td>NaN</td>\n      <td>NaN</td>\n      <td>NaN</td>\n      <td>NaN</td>\n      <td>NaN</td>\n      <td>NaN</td>\n      <td>NaN</td>\n      <td>NaN</td>\n    </tr>\n    <tr>\n      <th>45</th>\n      <td>NaN</td>\n      <td>Christmas Time (Is Here Again)</td>\n      <td>1967</td>\n      <td>The Beatles' Christmas Album</td>\n      <td>NaN</td>\n      <td>183.0</td>\n      <td>NaN</td>\n      <td>NaN</td>\n      <td>NaN</td>\n      <td>NaN</td>\n      <td>...</td>\n      <td>NaN</td>\n      <td>NaN</td>\n      <td>NaN</td>\n      <td>NaN</td>\n      <td>NaN</td>\n      <td>NaN</td>\n      <td>NaN</td>\n      <td>NaN</td>\n      <td>NaN</td>\n      <td>NaN</td>\n    </tr>\n    <tr>\n      <th>68</th>\n      <td>NaN</td>\n      <td>Etcetera</td>\n      <td>1968</td>\n      <td>NaN</td>\n      <td>NaN</td>\n      <td>NaN</td>\n      <td>NaN</td>\n      <td>NaN</td>\n      <td>NaN</td>\n      <td>NaN</td>\n      <td>...</td>\n      <td>NaN</td>\n      <td>NaN</td>\n      <td>NaN</td>\n      <td>NaN</td>\n      <td>NaN</td>\n      <td>NaN</td>\n      <td>NaN</td>\n      <td>NaN</td>\n      <td>NaN</td>\n      <td>NaN</td>\n    </tr>\n    <tr>\n      <th>72</th>\n      <td>NaN</td>\n      <td>Fancy My Chances with You</td>\n      <td>196?</td>\n      <td>Let It Be... Naked - Fly on the Wall bonus disc</td>\n      <td>NaN</td>\n      <td>NaN</td>\n      <td>NaN</td>\n      <td>NaN</td>\n      <td>NaN</td>\n      <td>NaN</td>\n      <td>...</td>\n      <td>NaN</td>\n      <td>NaN</td>\n      <td>NaN</td>\n      <td>NaN</td>\n      <td>NaN</td>\n      <td>NaN</td>\n      <td>NaN</td>\n      <td>NaN</td>\n      <td>NaN</td>\n      <td>NaN</td>\n    </tr>\n    <tr>\n      <th>92</th>\n      <td>NaN</td>\n      <td>Heather</td>\n      <td>1968</td>\n      <td>NaN</td>\n      <td>NaN</td>\n      <td>130.0</td>\n      <td>NaN</td>\n      <td>NaN</td>\n      <td>NaN</td>\n      <td>NaN</td>\n      <td>...</td>\n      <td>NaN</td>\n      <td>NaN</td>\n      <td>NaN</td>\n      <td>NaN</td>\n      <td>NaN</td>\n      <td>NaN</td>\n      <td>NaN</td>\n      <td>NaN</td>\n      <td>NaN</td>\n      <td>NaN</td>\n    </tr>\n    <tr>\n      <th>114</th>\n      <td>NaN</td>\n      <td>I Lost My Little Girl</td>\n      <td>1962</td>\n      <td>NaN</td>\n      <td>NaN</td>\n      <td>105.0</td>\n      <td>NaN</td>\n      <td>NaN</td>\n      <td>NaN</td>\n      <td>NaN</td>\n      <td>...</td>\n      <td>NaN</td>\n      <td>NaN</td>\n      <td>NaN</td>\n      <td>NaN</td>\n      <td>NaN</td>\n      <td>NaN</td>\n      <td>NaN</td>\n      <td>NaN</td>\n      <td>NaN</td>\n      <td>NaN</td>\n    </tr>\n    <tr>\n      <th>129</th>\n      <td>NaN</td>\n      <td>I'll Keep You Satisfied</td>\n      <td>1963</td>\n      <td>NaN</td>\n      <td>NaN</td>\n      <td>NaN</td>\n      <td>NaN</td>\n      <td>NaN</td>\n      <td>NaN</td>\n      <td>NaN</td>\n      <td>...</td>\n      <td>NaN</td>\n      <td>NaN</td>\n      <td>NaN</td>\n      <td>NaN</td>\n      <td>NaN</td>\n      <td>NaN</td>\n      <td>NaN</td>\n      <td>NaN</td>\n      <td>NaN</td>\n      <td>NaN</td>\n    </tr>\n    <tr>\n      <th>138</th>\n      <td>NaN</td>\n      <td>I'm in Love</td>\n      <td>1963</td>\n      <td>The Beatles Bootleg Recordings 1963</td>\n      <td>NaN</td>\n      <td>92.0</td>\n      <td>NaN</td>\n      <td>NaN</td>\n      <td>NaN</td>\n      <td>NaN</td>\n      <td>...</td>\n      <td>NaN</td>\n      <td>NaN</td>\n      <td>NaN</td>\n      <td>NaN</td>\n      <td>NaN</td>\n      <td>NaN</td>\n      <td>NaN</td>\n      <td>NaN</td>\n      <td>NaN</td>\n      <td>NaN</td>\n    </tr>\n    <tr>\n      <th>149</th>\n      <td>NaN</td>\n      <td>Jazz Piano Song</td>\n      <td>1969</td>\n      <td>NaN</td>\n      <td>NaN</td>\n      <td>NaN</td>\n      <td>NaN</td>\n      <td>NaN</td>\n      <td>NaN</td>\n      <td>NaN</td>\n      <td>...</td>\n      <td>NaN</td>\n      <td>NaN</td>\n      <td>NaN</td>\n      <td>NaN</td>\n      <td>NaN</td>\n      <td>NaN</td>\n      <td>NaN</td>\n      <td>NaN</td>\n      <td>NaN</td>\n      <td>NaN</td>\n    </tr>\n    <tr>\n      <th>150</th>\n      <td>NaN</td>\n      <td>Jessie's Dream</td>\n      <td>1967</td>\n      <td>NaN</td>\n      <td>NaN</td>\n      <td>NaN</td>\n      <td>NaN</td>\n      <td>NaN</td>\n      <td>NaN</td>\n      <td>NaN</td>\n      <td>...</td>\n      <td>NaN</td>\n      <td>NaN</td>\n      <td>NaN</td>\n      <td>NaN</td>\n      <td>NaN</td>\n      <td>NaN</td>\n      <td>NaN</td>\n      <td>NaN</td>\n      <td>NaN</td>\n      <td>NaN</td>\n    </tr>\n    <tr>\n      <th>156</th>\n      <td>NaN</td>\n      <td>Komm Gib Mir Deine Hand</td>\n      <td>1964</td>\n      <td>Rarities</td>\n      <td>NaN</td>\n      <td>146.0</td>\n      <td>NaN</td>\n      <td>NaN</td>\n      <td>NaN</td>\n      <td>NaN</td>\n      <td>...</td>\n      <td>NaN</td>\n      <td>NaN</td>\n      <td>NaN</td>\n      <td>NaN</td>\n      <td>NaN</td>\n      <td>NaN</td>\n      <td>NaN</td>\n      <td>NaN</td>\n      <td>NaN</td>\n      <td>NaN</td>\n    </tr>\n    <tr>\n      <th>166</th>\n      <td>NaN</td>\n      <td>Looking Glass</td>\n      <td>1962</td>\n      <td>NaN</td>\n      <td>NaN</td>\n      <td>NaN</td>\n      <td>NaN</td>\n      <td>NaN</td>\n      <td>NaN</td>\n      <td>NaN</td>\n      <td>...</td>\n      <td>NaN</td>\n      <td>NaN</td>\n      <td>NaN</td>\n      <td>NaN</td>\n      <td>NaN</td>\n      <td>NaN</td>\n      <td>NaN</td>\n      <td>NaN</td>\n      <td>NaN</td>\n      <td>NaN</td>\n    </tr>\n    <tr>\n      <th>170</th>\n      <td>NaN</td>\n      <td>Love of the Loved</td>\n      <td>1962</td>\n      <td>NaN</td>\n      <td>NaN</td>\n      <td>122.0</td>\n      <td>NaN</td>\n      <td>NaN</td>\n      <td>NaN</td>\n      <td>NaN</td>\n      <td>...</td>\n      <td>NaN</td>\n      <td>NaN</td>\n      <td>NaN</td>\n      <td>NaN</td>\n      <td>NaN</td>\n      <td>NaN</td>\n      <td>NaN</td>\n      <td>NaN</td>\n      <td>NaN</td>\n      <td>NaN</td>\n    </tr>\n    <tr>\n      <th>174</th>\n      <td>NaN</td>\n      <td>Madman</td>\n      <td>1969</td>\n      <td>NaN</td>\n      <td>NaN</td>\n      <td>197.0</td>\n      <td>NaN</td>\n      <td>NaN</td>\n      <td>NaN</td>\n      <td>NaN</td>\n      <td>...</td>\n      <td>NaN</td>\n      <td>NaN</td>\n      <td>NaN</td>\n      <td>NaN</td>\n      <td>NaN</td>\n      <td>NaN</td>\n      <td>NaN</td>\n      <td>NaN</td>\n      <td>NaN</td>\n      <td>NaN</td>\n    </tr>\n    <tr>\n      <th>201</th>\n      <td>NaN</td>\n      <td>One and One Is Two</td>\n      <td>1964</td>\n      <td>NaN</td>\n      <td>NaN</td>\n      <td>NaN</td>\n      <td>NaN</td>\n      <td>NaN</td>\n      <td>NaN</td>\n      <td>NaN</td>\n      <td>...</td>\n      <td>NaN</td>\n      <td>NaN</td>\n      <td>NaN</td>\n      <td>NaN</td>\n      <td>NaN</td>\n      <td>NaN</td>\n      <td>NaN</td>\n      <td>NaN</td>\n      <td>NaN</td>\n      <td>NaN</td>\n    </tr>\n    <tr>\n      <th>223</th>\n      <td>NaN</td>\n      <td>September in the Rain</td>\n      <td>1962</td>\n      <td>NaN</td>\n      <td>NaN</td>\n      <td>NaN</td>\n      <td>NaN</td>\n      <td>NaN</td>\n      <td>NaN</td>\n      <td>NaN</td>\n      <td>...</td>\n      <td>NaN</td>\n      <td>NaN</td>\n      <td>NaN</td>\n      <td>NaN</td>\n      <td>NaN</td>\n      <td>NaN</td>\n      <td>NaN</td>\n      <td>NaN</td>\n      <td>NaN</td>\n      <td>NaN</td>\n    </tr>\n    <tr>\n      <th>227</th>\n      <td>NaN</td>\n      <td>Shakin' in the Sixties</td>\n      <td>1969</td>\n      <td>NaN</td>\n      <td>NaN</td>\n      <td>NaN</td>\n      <td>NaN</td>\n      <td>NaN</td>\n      <td>NaN</td>\n      <td>NaN</td>\n      <td>...</td>\n      <td>NaN</td>\n      <td>NaN</td>\n      <td>NaN</td>\n      <td>NaN</td>\n      <td>NaN</td>\n      <td>NaN</td>\n      <td>NaN</td>\n      <td>NaN</td>\n      <td>NaN</td>\n      <td>NaN</td>\n    </tr>\n    <tr>\n      <th>234</th>\n      <td>NaN</td>\n      <td>Sie Liebt Dich</td>\n      <td>1964</td>\n      <td>Rarities</td>\n      <td>NaN</td>\n      <td>139.0</td>\n      <td>NaN</td>\n      <td>NaN</td>\n      <td>NaN</td>\n      <td>NaN</td>\n      <td>...</td>\n      <td>NaN</td>\n      <td>NaN</td>\n      <td>NaN</td>\n      <td>NaN</td>\n      <td>NaN</td>\n      <td>NaN</td>\n      <td>NaN</td>\n      <td>NaN</td>\n      <td>NaN</td>\n      <td>NaN</td>\n    </tr>\n    <tr>\n      <th>246</th>\n      <td>NaN</td>\n      <td>Take Good Care of My Baby</td>\n      <td>1962</td>\n      <td>NaN</td>\n      <td>NaN</td>\n      <td>NaN</td>\n      <td>NaN</td>\n      <td>NaN</td>\n      <td>NaN</td>\n      <td>NaN</td>\n      <td>...</td>\n      <td>NaN</td>\n      <td>NaN</td>\n      <td>NaN</td>\n      <td>NaN</td>\n      <td>NaN</td>\n      <td>NaN</td>\n      <td>NaN</td>\n      <td>NaN</td>\n      <td>NaN</td>\n      <td>NaN</td>\n    </tr>\n    <tr>\n      <th>247</th>\n      <td>NaN</td>\n      <td>Taking a Trip to Carolina</td>\n      <td>1969</td>\n      <td>Let It Be... Naked - Fly on the Wall bonus disc</td>\n      <td>NaN</td>\n      <td>NaN</td>\n      <td>NaN</td>\n      <td>NaN</td>\n      <td>NaN</td>\n      <td>NaN</td>\n      <td>...</td>\n      <td>NaN</td>\n      <td>NaN</td>\n      <td>NaN</td>\n      <td>NaN</td>\n      <td>NaN</td>\n      <td>NaN</td>\n      <td>NaN</td>\n      <td>NaN</td>\n      <td>NaN</td>\n      <td>NaN</td>\n    </tr>\n    <tr>\n      <th>265</th>\n      <td>NaN</td>\n      <td>The Saints</td>\n      <td>1962</td>\n      <td>NaN</td>\n      <td>NaN</td>\n      <td>NaN</td>\n      <td>NaN</td>\n      <td>NaN</td>\n      <td>NaN</td>\n      <td>NaN</td>\n      <td>...</td>\n      <td>NaN</td>\n      <td>NaN</td>\n      <td>NaN</td>\n      <td>NaN</td>\n      <td>NaN</td>\n      <td>NaN</td>\n      <td>NaN</td>\n      <td>NaN</td>\n      <td>NaN</td>\n      <td>NaN</td>\n    </tr>\n    <tr>\n      <th>275</th>\n      <td>NaN</td>\n      <td>Tip of My Tongue</td>\n      <td>1962</td>\n      <td>NaN</td>\n      <td>NaN</td>\n      <td>NaN</td>\n      <td>NaN</td>\n      <td>NaN</td>\n      <td>NaN</td>\n      <td>NaN</td>\n      <td>...</td>\n      <td>NaN</td>\n      <td>NaN</td>\n      <td>NaN</td>\n      <td>NaN</td>\n      <td>NaN</td>\n      <td>NaN</td>\n      <td>NaN</td>\n      <td>NaN</td>\n      <td>NaN</td>\n      <td>NaN</td>\n    </tr>\n    <tr>\n      <th>282</th>\n      <td>NaN</td>\n      <td>Watching Rainbows</td>\n      <td>1969</td>\n      <td>NaN</td>\n      <td>NaN</td>\n      <td>248.0</td>\n      <td>NaN</td>\n      <td>NaN</td>\n      <td>NaN</td>\n      <td>NaN</td>\n      <td>...</td>\n      <td>NaN</td>\n      <td>NaN</td>\n      <td>NaN</td>\n      <td>NaN</td>\n      <td>NaN</td>\n      <td>NaN</td>\n      <td>NaN</td>\n      <td>NaN</td>\n      <td>NaN</td>\n      <td>NaN</td>\n    </tr>\n    <tr>\n      <th>292</th>\n      <td>NaN</td>\n      <td>Winston's Walk</td>\n      <td>1960</td>\n      <td>NaN</td>\n      <td>NaN</td>\n      <td>NaN</td>\n      <td>NaN</td>\n      <td>NaN</td>\n      <td>NaN</td>\n      <td>NaN</td>\n      <td>...</td>\n      <td>NaN</td>\n      <td>NaN</td>\n      <td>NaN</td>\n      <td>NaN</td>\n      <td>NaN</td>\n      <td>NaN</td>\n      <td>NaN</td>\n      <td>NaN</td>\n      <td>NaN</td>\n      <td>NaN</td>\n    </tr>\n    <tr>\n      <th>295</th>\n      <td>NaN</td>\n      <td>Woman</td>\n      <td>1965</td>\n      <td>NaN</td>\n      <td>NaN</td>\n      <td>145.0</td>\n      <td>NaN</td>\n      <td>NaN</td>\n      <td>NaN</td>\n      <td>NaN</td>\n      <td>...</td>\n      <td>NaN</td>\n      <td>NaN</td>\n      <td>NaN</td>\n      <td>NaN</td>\n      <td>NaN</td>\n      <td>NaN</td>\n      <td>NaN</td>\n      <td>NaN</td>\n      <td>NaN</td>\n      <td>NaN</td>\n    </tr>\n  </tbody>\n</table>\n<p>28 rows × 45 columns</p>\n</div>"
     },
     "execution_count": 119,
     "metadata": {},
     "output_type": "execute_result"
    }
   ],
   "source": [
    "import numpy as np\n",
    "display(songs.URI.isnull().sum())           # how many missing values for URI?\n",
    "i = songs.URI.isnull()                      # get the indices of these missing values\n",
    "display(i)\n",
    "songs_with_no_Spotify_URI = songs.loc[i]    # get the songs with missing URI values\n",
    "songs_with_no_Spotify_URI"
   ],
   "metadata": {
    "collapsed": false,
    "ExecuteTime": {
     "end_time": "2023-07-19T16:48:31.458897700Z",
     "start_time": "2023-07-19T16:48:31.436186100Z"
    }
   }
  },
  {
   "cell_type": "code",
   "execution_count": 121,
   "outputs": [],
   "source": [
    "outer.to_csv(data_dir / 'The Beatles songs with no Spotify URIs, 1.csv', index=False)"
   ],
   "metadata": {
    "collapsed": false,
    "ExecuteTime": {
     "end_time": "2023-07-19T17:23:09.968312600Z",
     "start_time": "2023-07-19T17:23:09.907367600Z"
    }
   }
  }
 ],
 "metadata": {
  "kernelspec": {
   "display_name": "Python 3",
   "language": "python",
   "name": "python3"
  },
  "language_info": {
   "codemirror_mode": {
    "name": "ipython",
    "version": 2
   },
   "file_extension": ".py",
   "mimetype": "text/x-python",
   "name": "python",
   "nbconvert_exporter": "python",
   "pygments_lexer": "ipython2",
   "version": "2.7.6"
  }
 },
 "nbformat": 4,
 "nbformat_minor": 0
}
