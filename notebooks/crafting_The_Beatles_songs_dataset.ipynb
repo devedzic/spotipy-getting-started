{
 "cells": [
  {
   "cell_type": "markdown",
   "source": [
    "# Crafting The Beatles songs dataset\n",
    "Starting points: The Beatles songs dataset from before and the additional datasets that can be scraped from Spotify."
   ],
   "metadata": {
    "collapsed": false
   }
  },
  {
   "cell_type": "markdown",
   "source": [
    "## Import statements"
   ],
   "metadata": {
    "collapsed": false
   }
  },
  {
   "cell_type": "code",
   "execution_count": 66,
   "outputs": [],
   "source": [
    "from my_spotify import get_spotify_object, get_all_tracks_from_playlist\n",
    "import pandas as pd"
   ],
   "metadata": {
    "collapsed": false
   }
  },
  {
   "cell_type": "markdown",
   "source": [
    "## Modify album titles in The Beatles songs dataset\n",
    "The initial version of The Beatles songs dataset, `The Beatles songs dataset, 310x30, v0.csv`, as well as its shorter variations like `The Beatles songs dataset, 310x9, v0.csv` and `The Beatles songs dataset, 310x10, v0.csv`, include many album titles like 'UK: Please Please Me US: The Early Beatles'. These should be modified to reflect the original UK album titles only. In this example, the album title should be only 'Please Please Me'."
   ],
   "metadata": {
    "collapsed": false
   }
  },
  {
   "cell_type": "markdown",
   "source": [
    "### Read The Beatles songs dataset"
   ],
   "metadata": {
    "collapsed": false
   }
  },
  {
   "cell_type": "code",
   "execution_count": 145,
   "outputs": [
    {
     "data": {
      "text/plain": "                              Title  Year  \\\n251                That Means a Lot  1965   \n88          Happiness Is a Warm Gun  1968   \n149                  Jessie's Dream  1967   \n98                         Hey Jude  1968   \n153  Kansas City/Hey, Hey, Hey, Hey  1964   \n129                        I'm Down  1965   \n232                  Sie Liebt Dich  1964   \n104                 I Am the Walrus  1967   \n182                          Misery  1963   \n303                You Won't See Me  1965   \n\n                             Album debut  Duration  Other releases  \\\n251                          Anthology 2     146.0             NaN   \n88                           The Beatles     163.0             7.0   \n149                                  NaN       NaN             NaN   \n98            UK: 1967-1970 US: Hey Jude     431.0            28.0   \n153  UK: Beatles for Sale US: Beatles VI     163.0             8.0   \n129                  Rock 'n' Roll Music     153.0            20.0   \n232            UK: Rarities US: Rarities     139.0             9.0   \n104                 Magical Mystery Tour     273.0            20.0   \n182    UK: Please Please Me US: Rarities     107.0            23.0   \n303                          Rubber Soul     202.0            11.0   \n\n                               Single A side                   Single B side  \\\n251                                      NaN                             NaN   \n88                                       NaN                             NaN   \n149                                      NaN                             NaN   \n98                                  Hey Jude                      Revolution   \n153                                     Boys  Kansas City/Hey, Hey, Hey, Hey   \n129                                    Help!                        I'm Down   \n232  Komm Gib Mir Deine Hand; Sie Liebt Dich    Sie Liebt Dich; I'll Get You   \n104                           Hello, Goodbye                 I Am the Walrus   \n182              Misery; Roll Over Beethoven              Ask Me Why; Misery   \n303                                      NaN                             NaN   \n\n    Single certification                                              Genre  \\\n251                  NaN                                     Rock, Pop/Rock   \n88                   NaN                                           Pop/Rock   \n149                  NaN                                                NaN   \n98       RIAA 4xPlatinum                                     Rock, Pop/Rock   \n153                  NaN                       R&B, Rock and Roll, Pop/Rock   \n129            RIAA Gold                            Rock and Roll, Pop/Rock   \n232                  NaN                            Rock and Roll, Pop/Rock   \n104            RIAA Gold  Psychedelic Rock, Acid Rock, Experimental Rock...   \n182                  NaN                                           Pop/Rock   \n303                  NaN                                           Pop/Rock   \n\n                                                Styles  ...  \\\n251  British Invasion, Contemporary Pop/Rock, Early...  ...   \n88   British Psychedelia, Contemporary Pop/Rock, Ea...  ...   \n149                                                NaN  ...   \n98               Contemporary Pop/Rock, Early Pop/Rock  ...   \n153  British Invasion, Merseybeat, Contemporary Pop...  ...   \n129  British Invasion, Contemporary Pop/Rock, Early...  ...   \n232  Alternative/Indie Rock, Britpop, Contemporary ...  ...   \n104  British Psychedelia, Contemporary Pop/Rock, Ea...  ...   \n182  British Invasion, Early Pop/Rock, Merseybeat, ...  ...   \n303  British Invasion, Contemporary Pop/Rock, Early...  ...   \n\n    Weeks at No1 in UK (The Guardian) Highest position (Billboard)  \\\n251                               NaN                          NaN   \n88                                NaN                          NaN   \n149                               NaN                          NaN   \n98                                2.0                          1.0   \n153                               NaN                          NaN   \n129                               NaN                          NaN   \n232                               NaN                          NaN   \n104                               NaN                          NaN   \n182                               NaN                          NaN   \n303                               NaN                          NaN   \n\n    Weeks at No1 (Billboard) Top 50 (Billboard)  \\\n251                      NaN                NaN   \n88                       NaN                NaN   \n149                      NaN                NaN   \n98                       9.0                1.0   \n153                      NaN                NaN   \n129                      NaN                NaN   \n232                      NaN                NaN   \n104                      NaN                NaN   \n182                      NaN                NaN   \n303                      NaN                NaN   \n\n    Top 50 (Ultimate classic rock)  Top 50 (Rolling Stone)  Top 50 (NME)  \\\n251                            NaN                     NaN           NaN   \n88                             NaN                    24.0           NaN   \n149                            NaN                     NaN           NaN   \n98                            11.0                     7.0          10.0   \n153                            NaN                     NaN           NaN   \n129                            NaN                     NaN           NaN   \n232                            NaN                     NaN           NaN   \n104                           27.0                    33.0           9.0   \n182                            NaN                     NaN           NaN   \n303                            NaN                     NaN           NaN   \n\n     Top 50 (Top50songs.org)  Top 50 (USA today, 2017)  \\\n251                      NaN                       NaN   \n88                      50.0                      41.0   \n149                      NaN                       NaN   \n98                       6.0                       4.0   \n153                      NaN                       NaN   \n129                      NaN                       NaN   \n232                      NaN                       NaN   \n104                     29.0                       NaN   \n182                      NaN                       NaN   \n303                      NaN                       NaN   \n\n     Top 50 (Vulture, by Bill Wyman)  \n251                              NaN  \n88                               NaN  \n149                              NaN  \n98                              20.0  \n153                              NaN  \n129                              NaN  \n232                              NaN  \n104                             35.0  \n182                              NaN  \n303                              NaN  \n\n[10 rows x 30 columns]",
      "text/html": "<div>\n<style scoped>\n    .dataframe tbody tr th:only-of-type {\n        vertical-align: middle;\n    }\n\n    .dataframe tbody tr th {\n        vertical-align: top;\n    }\n\n    .dataframe thead th {\n        text-align: right;\n    }\n</style>\n<table border=\"1\" class=\"dataframe\">\n  <thead>\n    <tr style=\"text-align: right;\">\n      <th></th>\n      <th>Title</th>\n      <th>Year</th>\n      <th>Album debut</th>\n      <th>Duration</th>\n      <th>Other releases</th>\n      <th>Single A side</th>\n      <th>Single B side</th>\n      <th>Single certification</th>\n      <th>Genre</th>\n      <th>Styles</th>\n      <th>...</th>\n      <th>Weeks at No1 in UK (The Guardian)</th>\n      <th>Highest position (Billboard)</th>\n      <th>Weeks at No1 (Billboard)</th>\n      <th>Top 50 (Billboard)</th>\n      <th>Top 50 (Ultimate classic rock)</th>\n      <th>Top 50 (Rolling Stone)</th>\n      <th>Top 50 (NME)</th>\n      <th>Top 50 (Top50songs.org)</th>\n      <th>Top 50 (USA today, 2017)</th>\n      <th>Top 50 (Vulture, by Bill Wyman)</th>\n    </tr>\n  </thead>\n  <tbody>\n    <tr>\n      <th>251</th>\n      <td>That Means a Lot</td>\n      <td>1965</td>\n      <td>Anthology 2</td>\n      <td>146.0</td>\n      <td>NaN</td>\n      <td>NaN</td>\n      <td>NaN</td>\n      <td>NaN</td>\n      <td>Rock, Pop/Rock</td>\n      <td>British Invasion, Contemporary Pop/Rock, Early...</td>\n      <td>...</td>\n      <td>NaN</td>\n      <td>NaN</td>\n      <td>NaN</td>\n      <td>NaN</td>\n      <td>NaN</td>\n      <td>NaN</td>\n      <td>NaN</td>\n      <td>NaN</td>\n      <td>NaN</td>\n      <td>NaN</td>\n    </tr>\n    <tr>\n      <th>88</th>\n      <td>Happiness Is a Warm Gun</td>\n      <td>1968</td>\n      <td>The Beatles</td>\n      <td>163.0</td>\n      <td>7.0</td>\n      <td>NaN</td>\n      <td>NaN</td>\n      <td>NaN</td>\n      <td>Pop/Rock</td>\n      <td>British Psychedelia, Contemporary Pop/Rock, Ea...</td>\n      <td>...</td>\n      <td>NaN</td>\n      <td>NaN</td>\n      <td>NaN</td>\n      <td>NaN</td>\n      <td>NaN</td>\n      <td>24.0</td>\n      <td>NaN</td>\n      <td>50.0</td>\n      <td>41.0</td>\n      <td>NaN</td>\n    </tr>\n    <tr>\n      <th>149</th>\n      <td>Jessie's Dream</td>\n      <td>1967</td>\n      <td>NaN</td>\n      <td>NaN</td>\n      <td>NaN</td>\n      <td>NaN</td>\n      <td>NaN</td>\n      <td>NaN</td>\n      <td>NaN</td>\n      <td>NaN</td>\n      <td>...</td>\n      <td>NaN</td>\n      <td>NaN</td>\n      <td>NaN</td>\n      <td>NaN</td>\n      <td>NaN</td>\n      <td>NaN</td>\n      <td>NaN</td>\n      <td>NaN</td>\n      <td>NaN</td>\n      <td>NaN</td>\n    </tr>\n    <tr>\n      <th>98</th>\n      <td>Hey Jude</td>\n      <td>1968</td>\n      <td>UK: 1967-1970 US: Hey Jude</td>\n      <td>431.0</td>\n      <td>28.0</td>\n      <td>Hey Jude</td>\n      <td>Revolution</td>\n      <td>RIAA 4xPlatinum</td>\n      <td>Rock, Pop/Rock</td>\n      <td>Contemporary Pop/Rock, Early Pop/Rock</td>\n      <td>...</td>\n      <td>2.0</td>\n      <td>1.0</td>\n      <td>9.0</td>\n      <td>1.0</td>\n      <td>11.0</td>\n      <td>7.0</td>\n      <td>10.0</td>\n      <td>6.0</td>\n      <td>4.0</td>\n      <td>20.0</td>\n    </tr>\n    <tr>\n      <th>153</th>\n      <td>Kansas City/Hey, Hey, Hey, Hey</td>\n      <td>1964</td>\n      <td>UK: Beatles for Sale US: Beatles VI</td>\n      <td>163.0</td>\n      <td>8.0</td>\n      <td>Boys</td>\n      <td>Kansas City/Hey, Hey, Hey, Hey</td>\n      <td>NaN</td>\n      <td>R&amp;B, Rock and Roll, Pop/Rock</td>\n      <td>British Invasion, Merseybeat, Contemporary Pop...</td>\n      <td>...</td>\n      <td>NaN</td>\n      <td>NaN</td>\n      <td>NaN</td>\n      <td>NaN</td>\n      <td>NaN</td>\n      <td>NaN</td>\n      <td>NaN</td>\n      <td>NaN</td>\n      <td>NaN</td>\n      <td>NaN</td>\n    </tr>\n    <tr>\n      <th>129</th>\n      <td>I'm Down</td>\n      <td>1965</td>\n      <td>Rock 'n' Roll Music</td>\n      <td>153.0</td>\n      <td>20.0</td>\n      <td>Help!</td>\n      <td>I'm Down</td>\n      <td>RIAA Gold</td>\n      <td>Rock and Roll, Pop/Rock</td>\n      <td>British Invasion, Contemporary Pop/Rock, Early...</td>\n      <td>...</td>\n      <td>NaN</td>\n      <td>NaN</td>\n      <td>NaN</td>\n      <td>NaN</td>\n      <td>NaN</td>\n      <td>NaN</td>\n      <td>NaN</td>\n      <td>NaN</td>\n      <td>NaN</td>\n      <td>NaN</td>\n    </tr>\n    <tr>\n      <th>232</th>\n      <td>Sie Liebt Dich</td>\n      <td>1964</td>\n      <td>UK: Rarities US: Rarities</td>\n      <td>139.0</td>\n      <td>9.0</td>\n      <td>Komm Gib Mir Deine Hand; Sie Liebt Dich</td>\n      <td>Sie Liebt Dich; I'll Get You</td>\n      <td>NaN</td>\n      <td>Rock and Roll, Pop/Rock</td>\n      <td>Alternative/Indie Rock, Britpop, Contemporary ...</td>\n      <td>...</td>\n      <td>NaN</td>\n      <td>NaN</td>\n      <td>NaN</td>\n      <td>NaN</td>\n      <td>NaN</td>\n      <td>NaN</td>\n      <td>NaN</td>\n      <td>NaN</td>\n      <td>NaN</td>\n      <td>NaN</td>\n    </tr>\n    <tr>\n      <th>104</th>\n      <td>I Am the Walrus</td>\n      <td>1967</td>\n      <td>Magical Mystery Tour</td>\n      <td>273.0</td>\n      <td>20.0</td>\n      <td>Hello, Goodbye</td>\n      <td>I Am the Walrus</td>\n      <td>RIAA Gold</td>\n      <td>Psychedelic Rock, Acid Rock, Experimental Rock...</td>\n      <td>British Psychedelia, Contemporary Pop/Rock, Ea...</td>\n      <td>...</td>\n      <td>NaN</td>\n      <td>NaN</td>\n      <td>NaN</td>\n      <td>NaN</td>\n      <td>27.0</td>\n      <td>33.0</td>\n      <td>9.0</td>\n      <td>29.0</td>\n      <td>NaN</td>\n      <td>35.0</td>\n    </tr>\n    <tr>\n      <th>182</th>\n      <td>Misery</td>\n      <td>1963</td>\n      <td>UK: Please Please Me US: Rarities</td>\n      <td>107.0</td>\n      <td>23.0</td>\n      <td>Misery; Roll Over Beethoven</td>\n      <td>Ask Me Why; Misery</td>\n      <td>NaN</td>\n      <td>Pop/Rock</td>\n      <td>British Invasion, Early Pop/Rock, Merseybeat, ...</td>\n      <td>...</td>\n      <td>NaN</td>\n      <td>NaN</td>\n      <td>NaN</td>\n      <td>NaN</td>\n      <td>NaN</td>\n      <td>NaN</td>\n      <td>NaN</td>\n      <td>NaN</td>\n      <td>NaN</td>\n      <td>NaN</td>\n    </tr>\n    <tr>\n      <th>303</th>\n      <td>You Won't See Me</td>\n      <td>1965</td>\n      <td>Rubber Soul</td>\n      <td>202.0</td>\n      <td>11.0</td>\n      <td>NaN</td>\n      <td>NaN</td>\n      <td>NaN</td>\n      <td>Pop/Rock</td>\n      <td>British Invasion, Contemporary Pop/Rock, Early...</td>\n      <td>...</td>\n      <td>NaN</td>\n      <td>NaN</td>\n      <td>NaN</td>\n      <td>NaN</td>\n      <td>NaN</td>\n      <td>NaN</td>\n      <td>NaN</td>\n      <td>NaN</td>\n      <td>NaN</td>\n      <td>NaN</td>\n    </tr>\n  </tbody>\n</table>\n<p>10 rows × 30 columns</p>\n</div>"
     },
     "metadata": {},
     "output_type": "display_data"
    }
   ],
   "source": [
    "# Get the songs as a pd.DataFrame object from '../data/The Beatles songs dataset, 310x30, v0.csv'\n",
    "songs  = pd.read_csv('../data/The Beatles songs dataset, 310x30, v0.csv')\n",
    "display(songs.sample(10))"
   ],
   "metadata": {
    "collapsed": false
   }
  },
  {
   "cell_type": "markdown",
   "source": [
    "### Find all album titles"
   ],
   "metadata": {
    "collapsed": false
   }
  },
  {
   "cell_type": "code",
   "execution_count": 146,
   "outputs": [
    {
     "data": {
      "text/plain": "54"
     },
     "metadata": {},
     "output_type": "display_data"
    },
    {
     "data": {
      "text/plain": "array(['Anthology 2', \"Sgt. Pepper's Lonely Hearts Club Band\",\n       \"UK: A Hard Day's Night US: 1962-1966\", 'Live at the BBC',\n       'UK: Please Please Me US: The Early Beatles', 'Let It Be',\n       'UK: Help! US: Yesterday and Today', 'Anthology 1',\n       'UK: With the Beatles US: Meet The Beatles!', 'Anthology 3',\n       'Yellow Submarine', 'Magical Mystery Tour',\n       \"UK: A Hard Day's Night US: Something New\",\n       'UK: Revolver US: Yesterday and Today', 'Help!',\n       \"UK: Beatles for Sale US: Beatles '65\", 'The Beatles',\n       'UK: A Collection of Beatles Oldies US: Beatles VI',\n       'The Beatles Bootleg Recordings 1963',\n       'On Air – Live at the BBC Volume 2',\n       'Let It Be... Naked - Fly on the Wall bonus disc', 'Abbey Road',\n       \"UK: A Hard Day's Night US: Hey Jude\", nan,\n       \"The Beatles' Christmas Album\",\n       'UK: A Collection of Beatles Oldies US: Yesterday and Today',\n       'UK: With the Beatles US: The Beatles Second Album',\n       'UK: Help! US: Beatles VI', 'UK: 1967-1970 US: Hey Jude',\n       'UK: Rubber Soul US: Yesterday and Today',\n       'UK: Beatles for Sale US: Beatles VI', 'Revolver',\n       'UK: A Collection of Beatles Oldies US: 1962-1966', 'Rubber Soul',\n       'UK: Past Masters Volume 1 US: The Beatles Second Album',\n       \"UK: A Collection of Beatles Oldies US: Beatles '65\",\n       'UK: Please Please Me US: Meet The Beatles!',\n       'UK: A Collection of Beatles Oldies US: Meet The Beatles!',\n       \"UK: A Hard Day's Night US: Beatles '65\", \"Rock 'n' Roll Music\",\n       'Live! at the Star-Club in Hamburg, Germany; 1962',\n       'UK: Help! US: Rubber Soul', 'UK: Rarities US: Something New',\n       \"UK: Rock 'n' Roll Music US: The Beatles Second Album\",\n       \"UK: Rock 'n' Roll Music US: Something New\",\n       'UK: Please Please Me US: Rarities',\n       'UK: A Collection of Beatles Oldies US: Hey Jude',\n       'UK: Rarities US: Hey Jude',\n       'UK: A Collection of Beatles Oldies US: The Beatles Second Album',\n       \"UK: Rarities US: Beatles '65\", 'UK: Rarities US: Rarities',\n       'UK: Rarities US: The Beatles Second Album',\n       'UK: Rarities US: Meet The Beatles!',\n       'UK: Rarities US: Beatles VI',\n       \"UK: A Hard Day's Night US: The Beatles Second Album\"],\n      dtype=object)"
     },
     "metadata": {},
     "output_type": "display_data"
    }
   ],
   "source": [
    "display(songs['Album debut'].nunique())\n",
    "display(songs['Album debut'].unique())\n",
    "# display(songs['Album.debut'].nunique())\n",
    "# display(songs['Album.debut'].unique())"
   ],
   "metadata": {
    "collapsed": false
   }
  },
  {
   "cell_type": "markdown",
   "source": [
    "### Copy the *Album.debut* column to a new column, *Album*, in order to keep the original values in *Album.debut*"
   ],
   "metadata": {
    "collapsed": false
   }
  },
  {
   "cell_type": "code",
   "execution_count": 147,
   "outputs": [],
   "source": [
    "songs['Album'] = songs['Album debut']"
   ],
   "metadata": {
    "collapsed": false
   }
  },
  {
   "cell_type": "markdown",
   "source": [
    "### Put the *Album* and *Album.debut* columns next to each other"
   ],
   "metadata": {
    "collapsed": false
   }
  },
  {
   "cell_type": "code",
   "execution_count": 148,
   "outputs": [
    {
     "data": {
      "text/plain": "['Title',\n 'Year',\n 'Album debut',\n 'Duration',\n 'Other releases',\n 'Single A side',\n 'Single B side',\n 'Single certification',\n 'Genre',\n 'Styles',\n 'Themes',\n 'Moods',\n 'Songwriter(s)',\n 'Lead vocal(s)',\n 'Cover',\n 'Covered by',\n 'Chart position UK (Wikipedia)',\n 'Chart position US (Wikipedia)',\n 'Highest position (The Guardian)',\n 'Weeks on chart in UK (The Guardian)',\n 'Weeks at No1 in UK (The Guardian)',\n 'Highest position (Billboard)',\n 'Weeks at No1 (Billboard)',\n 'Top 50 (Billboard)',\n 'Top 50 (Ultimate classic rock)',\n 'Top 50 (Rolling Stone)',\n 'Top 50 (NME)',\n 'Top 50 (Top50songs.org)',\n 'Top 50 (USA today, 2017)',\n 'Top 50 (Vulture, by Bill Wyman)',\n 'Album']"
     },
     "metadata": {},
     "output_type": "display_data"
    },
    {
     "data": {
      "text/plain": "['Title',\n 'Year',\n 'Album',\n 'Album debut',\n 'Duration',\n 'Other releases',\n 'Single A side',\n 'Single B side',\n 'Single certification',\n 'Genre',\n 'Styles',\n 'Themes',\n 'Moods',\n 'Songwriter(s)',\n 'Lead vocal(s)',\n 'Cover',\n 'Covered by',\n 'Chart position UK (Wikipedia)',\n 'Chart position US (Wikipedia)',\n 'Highest position (The Guardian)',\n 'Weeks on chart in UK (The Guardian)',\n 'Weeks at No1 in UK (The Guardian)',\n 'Highest position (Billboard)',\n 'Weeks at No1 (Billboard)',\n 'Top 50 (Billboard)',\n 'Top 50 (Ultimate classic rock)',\n 'Top 50 (Rolling Stone)',\n 'Top 50 (NME)',\n 'Top 50 (Top50songs.org)',\n 'Top 50 (USA today, 2017)',\n 'Top 50 (Vulture, by Bill Wyman)']"
     },
     "metadata": {},
     "output_type": "display_data"
    }
   ],
   "source": [
    "c = songs.columns.tolist()\n",
    "display(c)\n",
    "c = ['Title',\n",
    "     'Year',\n",
    "     'Album',\n",
    "     'Album debut',\n",
    "     'Duration',\n",
    "     'Other releases',\n",
    "     'Single A side',\n",
    "     'Single B side',\n",
    "     'Single certification',\n",
    "     'Genre',\n",
    "     'Styles',\n",
    "     'Themes',\n",
    "     'Moods',\n",
    "     'Songwriter(s)',\n",
    "     'Lead vocal(s)',\n",
    "     'Cover',\n",
    "     'Covered by',\n",
    "     'Chart position UK (Wikipedia)',\n",
    "     'Chart position US (Wikipedia)',\n",
    "     'Highest position (The Guardian)',\n",
    "     'Weeks on chart in UK (The Guardian)',\n",
    "     'Weeks at No1 in UK (The Guardian)',\n",
    "     'Highest position (Billboard)',\n",
    "     'Weeks at No1 (Billboard)',\n",
    "     'Top 50 (Billboard)',\n",
    "     'Top 50 (Ultimate classic rock)',\n",
    "     'Top 50 (Rolling Stone)',\n",
    "     'Top 50 (NME)',\n",
    "     'Top 50 (Top50songs.org)',\n",
    "     'Top 50 (USA today, 2017)',\n",
    "     'Top 50 (Vulture, by Bill Wyman)',\n",
    "     ]\n",
    "# c = ['Title',\n",
    "#      'Year',\n",
    "#      'Album',\n",
    "#      'Album.debut',\n",
    "#      'Duration',\n",
    "#      'Other.releases',\n",
    "#      'Genre',\n",
    "#      'Songwriter',\n",
    "#      'Lead.vocal',\n",
    "#      'Top.50.Billboard',\n",
    "#      'Top50'\n",
    "#      ]\n",
    "display(c)"
   ],
   "metadata": {
    "collapsed": false
   }
  },
  {
   "cell_type": "code",
   "execution_count": 149,
   "outputs": [
    {
     "data": {
      "text/plain": "                          Title  Year  \\\n147              It's Only Love  1965   \n266        Things We Said Today  1964   \n109               I Got a Woman  1963   \n276             Twist and Shout  1963   \n230          She's Leaving Home  1967   \n163             Long Tall Sally  1964   \n115    I Saw Her Standing There  1963   \n83   Good Morning, Good Morning  1967   \n48      Crying, Waiting, Hoping  1963   \n15             Anna (Go to Him)  1963   \n\n                                                 Album  \\\n147                          UK: Help! US: Rubber Soul   \n266           UK: A Hard Day's Night US: Something New   \n109                                    Live at the BBC   \n276         UK: Please Please Me US: The Early Beatles   \n230              Sgt. Pepper's Lonely Hearts Club Band   \n163  UK: Rock 'n' Roll Music US: The Beatles Second...   \n115         UK: Please Please Me US: Meet The Beatles!   \n83               Sgt. Pepper's Lonely Hearts Club Band   \n48                                     Live at the BBC   \n15          UK: Please Please Me US: The Early Beatles   \n\n                                           Album debut  Duration  \\\n147                          UK: Help! US: Rubber Soul     115.0   \n266           UK: A Hard Day's Night US: Something New     158.0   \n109                                    Live at the BBC     151.0   \n276         UK: Please Please Me US: The Early Beatles     125.0   \n230              Sgt. Pepper's Lonely Hearts Club Band     215.0   \n163  UK: Rock 'n' Roll Music US: The Beatles Second...     130.0   \n115         UK: Please Please Me US: Meet The Beatles!     175.0   \n83               Sgt. Pepper's Lonely Hearts Club Band     161.0   \n48                                     Live at the BBC     130.0   \n15          UK: Please Please Me US: The Early Beatles     168.0   \n\n     Other releases                          Single A side  \\\n147            15.0                                    NaN   \n266            22.0                     A Hard Day's Night   \n109             NaN                                    NaN   \n276            44.0  Twist and Shout; Back in the U.S.S.R.   \n230             7.0                                    NaN   \n163            35.0                                    NaN   \n115            42.0               I Want to Hold Your Hand   \n83              6.0                                    NaN   \n48              NaN                                    NaN   \n15             16.0                                    NaN   \n\n                        Single B side Single certification  \\\n147                               NaN                  NaN   \n266              Things We Said Today                  NaN   \n109                               NaN                  NaN   \n276  There's a Place; Twist and Shout        RIAA Platinum   \n230                               NaN                  NaN   \n163                               NaN                  NaN   \n115          I Saw Her Standing There            RIAA Gold   \n83                                NaN                  NaN   \n48                                NaN                  NaN   \n15                                NaN                  NaN   \n\n                            Genre  ... Weeks at No1 in UK (The Guardian)  \\\n147           Folk Rock, Pop/Rock  ...                               NaN   \n266                Rock, Pop/Rock  ...                               NaN   \n109     Jump Blues, R&B, Pop/Rock  ...                               NaN   \n276  Rock and Roll, R&B, Pop/Rock  ...                               NaN   \n230         Baroque Pop, Pop/Rock  ...                               NaN   \n163       Rock and Roll, Pop/Rock  ...                               NaN   \n115       Rock and Roll, Pop/Rock  ...                               NaN   \n83      Rock, Hard Rock, Pop/Rock  ...                               NaN   \n48        Rock and Roll, Pop/Rock  ...                               NaN   \n15                 Soul, Pop/Rock  ...                               NaN   \n\n    Highest position (Billboard) Weeks at No1 (Billboard) Top 50 (Billboard)  \\\n147                          NaN                      NaN                NaN   \n266                          NaN                      NaN                NaN   \n109                          NaN                      NaN                NaN   \n276                          2.0                      NaN               13.0   \n230                          NaN                      NaN                NaN   \n163                          NaN                      NaN                NaN   \n115                         12.0                      NaN               36.0   \n83                           NaN                      NaN                NaN   \n48                           NaN                      NaN                NaN   \n15                           NaN                      NaN                NaN   \n\n    Top 50 (Ultimate classic rock) Top 50 (Rolling Stone)  Top 50 (NME)  \\\n147                            NaN                    NaN           NaN   \n266                            NaN                   47.0           NaN   \n109                            NaN                    NaN           NaN   \n276                           25.0                    NaN          23.0   \n230                            NaN                    NaN          47.0   \n163                            NaN                    NaN           NaN   \n115                           17.0                   16.0          31.0   \n83                             NaN                    NaN           NaN   \n48                             NaN                    NaN           NaN   \n15                             NaN                    NaN           NaN   \n\n     Top 50 (Top50songs.org)  Top 50 (USA today, 2017)  \\\n147                      NaN                       NaN   \n266                      NaN                       NaN   \n109                      NaN                       NaN   \n276                     44.0                       NaN   \n230                      NaN                       NaN   \n163                      NaN                       NaN   \n115                      NaN                      17.0   \n83                       NaN                       NaN   \n48                       NaN                       NaN   \n15                       NaN                       NaN   \n\n     Top 50 (Vulture, by Bill Wyman)  \n147                              NaN  \n266                              NaN  \n109                              NaN  \n276                             43.0  \n230                              NaN  \n163                              NaN  \n115                             21.0  \n83                               NaN  \n48                               NaN  \n15                               NaN  \n\n[10 rows x 31 columns]",
      "text/html": "<div>\n<style scoped>\n    .dataframe tbody tr th:only-of-type {\n        vertical-align: middle;\n    }\n\n    .dataframe tbody tr th {\n        vertical-align: top;\n    }\n\n    .dataframe thead th {\n        text-align: right;\n    }\n</style>\n<table border=\"1\" class=\"dataframe\">\n  <thead>\n    <tr style=\"text-align: right;\">\n      <th></th>\n      <th>Title</th>\n      <th>Year</th>\n      <th>Album</th>\n      <th>Album debut</th>\n      <th>Duration</th>\n      <th>Other releases</th>\n      <th>Single A side</th>\n      <th>Single B side</th>\n      <th>Single certification</th>\n      <th>Genre</th>\n      <th>...</th>\n      <th>Weeks at No1 in UK (The Guardian)</th>\n      <th>Highest position (Billboard)</th>\n      <th>Weeks at No1 (Billboard)</th>\n      <th>Top 50 (Billboard)</th>\n      <th>Top 50 (Ultimate classic rock)</th>\n      <th>Top 50 (Rolling Stone)</th>\n      <th>Top 50 (NME)</th>\n      <th>Top 50 (Top50songs.org)</th>\n      <th>Top 50 (USA today, 2017)</th>\n      <th>Top 50 (Vulture, by Bill Wyman)</th>\n    </tr>\n  </thead>\n  <tbody>\n    <tr>\n      <th>147</th>\n      <td>It's Only Love</td>\n      <td>1965</td>\n      <td>UK: Help! US: Rubber Soul</td>\n      <td>UK: Help! US: Rubber Soul</td>\n      <td>115.0</td>\n      <td>15.0</td>\n      <td>NaN</td>\n      <td>NaN</td>\n      <td>NaN</td>\n      <td>Folk Rock, Pop/Rock</td>\n      <td>...</td>\n      <td>NaN</td>\n      <td>NaN</td>\n      <td>NaN</td>\n      <td>NaN</td>\n      <td>NaN</td>\n      <td>NaN</td>\n      <td>NaN</td>\n      <td>NaN</td>\n      <td>NaN</td>\n      <td>NaN</td>\n    </tr>\n    <tr>\n      <th>266</th>\n      <td>Things We Said Today</td>\n      <td>1964</td>\n      <td>UK: A Hard Day's Night US: Something New</td>\n      <td>UK: A Hard Day's Night US: Something New</td>\n      <td>158.0</td>\n      <td>22.0</td>\n      <td>A Hard Day's Night</td>\n      <td>Things We Said Today</td>\n      <td>NaN</td>\n      <td>Rock, Pop/Rock</td>\n      <td>...</td>\n      <td>NaN</td>\n      <td>NaN</td>\n      <td>NaN</td>\n      <td>NaN</td>\n      <td>NaN</td>\n      <td>47.0</td>\n      <td>NaN</td>\n      <td>NaN</td>\n      <td>NaN</td>\n      <td>NaN</td>\n    </tr>\n    <tr>\n      <th>109</th>\n      <td>I Got a Woman</td>\n      <td>1963</td>\n      <td>Live at the BBC</td>\n      <td>Live at the BBC</td>\n      <td>151.0</td>\n      <td>NaN</td>\n      <td>NaN</td>\n      <td>NaN</td>\n      <td>NaN</td>\n      <td>Jump Blues, R&amp;B, Pop/Rock</td>\n      <td>...</td>\n      <td>NaN</td>\n      <td>NaN</td>\n      <td>NaN</td>\n      <td>NaN</td>\n      <td>NaN</td>\n      <td>NaN</td>\n      <td>NaN</td>\n      <td>NaN</td>\n      <td>NaN</td>\n      <td>NaN</td>\n    </tr>\n    <tr>\n      <th>276</th>\n      <td>Twist and Shout</td>\n      <td>1963</td>\n      <td>UK: Please Please Me US: The Early Beatles</td>\n      <td>UK: Please Please Me US: The Early Beatles</td>\n      <td>125.0</td>\n      <td>44.0</td>\n      <td>Twist and Shout; Back in the U.S.S.R.</td>\n      <td>There's a Place; Twist and Shout</td>\n      <td>RIAA Platinum</td>\n      <td>Rock and Roll, R&amp;B, Pop/Rock</td>\n      <td>...</td>\n      <td>NaN</td>\n      <td>2.0</td>\n      <td>NaN</td>\n      <td>13.0</td>\n      <td>25.0</td>\n      <td>NaN</td>\n      <td>23.0</td>\n      <td>44.0</td>\n      <td>NaN</td>\n      <td>43.0</td>\n    </tr>\n    <tr>\n      <th>230</th>\n      <td>She's Leaving Home</td>\n      <td>1967</td>\n      <td>Sgt. Pepper's Lonely Hearts Club Band</td>\n      <td>Sgt. Pepper's Lonely Hearts Club Band</td>\n      <td>215.0</td>\n      <td>7.0</td>\n      <td>NaN</td>\n      <td>NaN</td>\n      <td>NaN</td>\n      <td>Baroque Pop, Pop/Rock</td>\n      <td>...</td>\n      <td>NaN</td>\n      <td>NaN</td>\n      <td>NaN</td>\n      <td>NaN</td>\n      <td>NaN</td>\n      <td>NaN</td>\n      <td>47.0</td>\n      <td>NaN</td>\n      <td>NaN</td>\n      <td>NaN</td>\n    </tr>\n    <tr>\n      <th>163</th>\n      <td>Long Tall Sally</td>\n      <td>1964</td>\n      <td>UK: Rock 'n' Roll Music US: The Beatles Second...</td>\n      <td>UK: Rock 'n' Roll Music US: The Beatles Second...</td>\n      <td>130.0</td>\n      <td>35.0</td>\n      <td>NaN</td>\n      <td>NaN</td>\n      <td>NaN</td>\n      <td>Rock and Roll, Pop/Rock</td>\n      <td>...</td>\n      <td>NaN</td>\n      <td>NaN</td>\n      <td>NaN</td>\n      <td>NaN</td>\n      <td>NaN</td>\n      <td>NaN</td>\n      <td>NaN</td>\n      <td>NaN</td>\n      <td>NaN</td>\n      <td>NaN</td>\n    </tr>\n    <tr>\n      <th>115</th>\n      <td>I Saw Her Standing There</td>\n      <td>1963</td>\n      <td>UK: Please Please Me US: Meet The Beatles!</td>\n      <td>UK: Please Please Me US: Meet The Beatles!</td>\n      <td>175.0</td>\n      <td>42.0</td>\n      <td>I Want to Hold Your Hand</td>\n      <td>I Saw Her Standing There</td>\n      <td>RIAA Gold</td>\n      <td>Rock and Roll, Pop/Rock</td>\n      <td>...</td>\n      <td>NaN</td>\n      <td>12.0</td>\n      <td>NaN</td>\n      <td>36.0</td>\n      <td>17.0</td>\n      <td>16.0</td>\n      <td>31.0</td>\n      <td>NaN</td>\n      <td>17.0</td>\n      <td>21.0</td>\n    </tr>\n    <tr>\n      <th>83</th>\n      <td>Good Morning, Good Morning</td>\n      <td>1967</td>\n      <td>Sgt. Pepper's Lonely Hearts Club Band</td>\n      <td>Sgt. Pepper's Lonely Hearts Club Band</td>\n      <td>161.0</td>\n      <td>6.0</td>\n      <td>NaN</td>\n      <td>NaN</td>\n      <td>NaN</td>\n      <td>Rock, Hard Rock, Pop/Rock</td>\n      <td>...</td>\n      <td>NaN</td>\n      <td>NaN</td>\n      <td>NaN</td>\n      <td>NaN</td>\n      <td>NaN</td>\n      <td>NaN</td>\n      <td>NaN</td>\n      <td>NaN</td>\n      <td>NaN</td>\n      <td>NaN</td>\n    </tr>\n    <tr>\n      <th>48</th>\n      <td>Crying, Waiting, Hoping</td>\n      <td>1963</td>\n      <td>Live at the BBC</td>\n      <td>Live at the BBC</td>\n      <td>130.0</td>\n      <td>NaN</td>\n      <td>NaN</td>\n      <td>NaN</td>\n      <td>NaN</td>\n      <td>Rock and Roll, Pop/Rock</td>\n      <td>...</td>\n      <td>NaN</td>\n      <td>NaN</td>\n      <td>NaN</td>\n      <td>NaN</td>\n      <td>NaN</td>\n      <td>NaN</td>\n      <td>NaN</td>\n      <td>NaN</td>\n      <td>NaN</td>\n      <td>NaN</td>\n    </tr>\n    <tr>\n      <th>15</th>\n      <td>Anna (Go to Him)</td>\n      <td>1963</td>\n      <td>UK: Please Please Me US: The Early Beatles</td>\n      <td>UK: Please Please Me US: The Early Beatles</td>\n      <td>168.0</td>\n      <td>16.0</td>\n      <td>NaN</td>\n      <td>NaN</td>\n      <td>NaN</td>\n      <td>Soul, Pop/Rock</td>\n      <td>...</td>\n      <td>NaN</td>\n      <td>NaN</td>\n      <td>NaN</td>\n      <td>NaN</td>\n      <td>NaN</td>\n      <td>NaN</td>\n      <td>NaN</td>\n      <td>NaN</td>\n      <td>NaN</td>\n      <td>NaN</td>\n    </tr>\n  </tbody>\n</table>\n<p>10 rows × 31 columns</p>\n</div>"
     },
     "metadata": {},
     "output_type": "display_data"
    }
   ],
   "source": [
    "songs = songs[c]\n",
    "display(songs.sample(10))"
   ],
   "metadata": {
    "collapsed": false
   }
  },
  {
   "cell_type": "markdown",
   "source": [
    "### Replace the album titles in the *Album* column with original UK titles only"
   ],
   "metadata": {
    "collapsed": false
   }
  },
  {
   "cell_type": "code",
   "execution_count": 150,
   "outputs": [],
   "source": [
    "songs['Album'].replace(\"UK: A Hard Day's Night US: 1962-1966\", \"A Hard Day's Night\", inplace=True)\n",
    "songs['Album'].replace('UK: Please Please Me US: The Early Beatles', 'Please Please Me', inplace=True)\n",
    "songs['Album'].replace('UK: Help! US: Yesterday and Today', 'Help!', inplace=True)\n",
    "songs['Album'].replace(\"UK: A Hard Day's Night US: Something New\", \"A Hard Day's Night\", inplace=True)\n",
    "songs['Album'].replace('UK: With the Beatles US: Meet The Beatles!', 'With the Beatles', inplace=True)\n",
    "songs['Album'].replace('UK: Revolver US: Yesterday and Today', 'Revolver', inplace=True)\n",
    "songs['Album'].replace(\"UK: Beatles for Sale US: Beatles '65\", \"Beatles for Sale\", inplace=True)\n",
    "songs['Album'].replace('UK: A Collection of Beatles Oldies US: Beatles VI', 'A Collection of Beatles Oldies', inplace=True)\n",
    "songs['Album'].replace(\"UK: A Hard Day's Night US: Hey Jude\", \"A Hard Day's Night\", inplace=True)\n",
    "songs['Album'].replace(\"UK: A Hard Day's Night US: Hey Jude\", \"A Hard Day's Night\", inplace=True)\n",
    "songs['Album'].replace('UK: A Collection of Beatles Oldies US: Yesterday and Today', 'A Collection of Beatles Oldies', inplace=True)\n",
    "songs['Album'].replace('UK: With the Beatles US: The Beatles Second Album', 'With the Beatles', inplace=True)\n",
    "songs['Album'].replace('UK: Help! US: Beatles VI', 'Help!', inplace=True)\n",
    "songs['Album'].replace('UK: 1967-1970 US: Hey Jude', '1967-1970', inplace=True)\n",
    "songs['Album'].replace('UK: Rubber Soul US: Yesterday and Today', 'Rubber Soul', inplace=True)\n",
    "songs['Album'].replace('UK: Beatles for Sale US: Beatles VI', 'Beatles for Sale', inplace=True)\n",
    "songs['Album'].replace('UK: A Collection of Beatles Oldies US: 1962-1966', 'A Collection of Beatles Oldies', inplace=True)\n",
    "songs['Album'].replace('Past Masters Volume 1', 'Past Masters Volume 1', inplace=True)\n",
    "songs['Album'].replace(\"UK: A Collection of Beatles Oldies US: Beatles '65\", \"A Collection of Beatles Oldies\", inplace=True)\n",
    "songs['Album'].replace('UK: Please Please Me US: Meet The Beatles!', 'Please Please Me', inplace=True)\n",
    "songs['Album'].replace('UK: A Collection of Beatles Oldies US: Meet The Beatles!', 'A Collection of Beatles Oldies', inplace=True)\n",
    "songs['Album'].replace(\"UK: A Hard Day's Night US: Beatles '65\", \"A Hard Day's Night\", inplace=True)\n",
    "songs['Album'].replace('UK: Help! US: Rubber Soul', 'Help!', inplace=True)\n",
    "songs['Album'].replace('UK: Rarities US: Something New', 'Rarities', inplace=True)\n",
    "songs['Album'].replace(\"UK: Rock 'n' Roll Music US: The Beatles Second Album\", \"Rock 'n' Roll Music\", inplace=True)\n",
    "songs['Album'].replace(\"UK: Rock 'n' Roll Music US: Something New\", \"Rock 'n' Roll Music\", inplace=True)\n",
    "songs['Album'].replace('UK: Please Please Me US: Rarities', 'Please Please Me', inplace=True)\n",
    "songs['Album'].replace('UK: A Collection of Beatles Oldies US: Hey Jude', 'A Collection of Beatles Oldies', inplace=True)\n",
    "songs['Album'].replace('UK: Rarities US: Hey Jude', 'Rarities', inplace=True)\n",
    "songs['Album'].replace('UK: A Collection of Beatles Oldies US: The Beatles Second Album', 'A Collection of Beatles Oldies', inplace=True)\n",
    "songs['Album'].replace(\"UK: Rarities US: Beatles '65\", \"Rarities\", inplace=True)\n",
    "songs['Album'].replace('UK: Rarities US: The Beatles Second Album', 'Rarities', inplace=True)\n",
    "songs['Album'].replace('UK: Rarities US: Meet The Beatles!', 'Rarities', inplace=True)\n",
    "songs['Album'].replace('UK: Rarities US: Beatles VI', 'Rarities', inplace=True)\n",
    "songs['Album'].replace(\"UK: A Hard Day's Night US: The Beatles Second Album\", \"A Hard Day's Night\", inplace=True)\n",
    "songs['Album'].replace('UK: Past Masters Volume 1 US: The Beatles Second Album', 'Past Masters Volume 1', inplace=True)\n",
    "songs['Album'].replace('UK: Rarities US: Rarities', 'Rarities', inplace=True)"
   ],
   "metadata": {
    "collapsed": false
   }
  },
  {
   "cell_type": "code",
   "execution_count": 151,
   "outputs": [
    {
     "data": {
      "text/plain": "27"
     },
     "metadata": {},
     "output_type": "display_data"
    },
    {
     "data": {
      "text/plain": "array(['Anthology 2', \"Sgt. Pepper's Lonely Hearts Club Band\",\n       \"A Hard Day's Night\", 'Live at the BBC', 'Please Please Me',\n       'Let It Be', 'Help!', 'Anthology 1', 'With the Beatles',\n       'Anthology 3', 'Yellow Submarine', 'Magical Mystery Tour',\n       'Revolver', 'Beatles for Sale', 'The Beatles',\n       'A Collection of Beatles Oldies',\n       'The Beatles Bootleg Recordings 1963',\n       'On Air – Live at the BBC Volume 2',\n       'Let It Be... Naked - Fly on the Wall bonus disc', 'Abbey Road',\n       nan, \"The Beatles' Christmas Album\", '1967-1970', 'Rubber Soul',\n       'Past Masters Volume 1', \"Rock 'n' Roll Music\",\n       'Live! at the Star-Club in Hamburg, Germany; 1962', 'Rarities'],\n      dtype=object)"
     },
     "metadata": {},
     "output_type": "display_data"
    }
   ],
   "source": [
    "display(songs['Album'].nunique())\n",
    "display(songs['Album'].unique())"
   ],
   "metadata": {
    "collapsed": false
   }
  },
  {
   "cell_type": "markdown",
   "source": [
    "### Display the resulting dataframe"
   ],
   "metadata": {
    "collapsed": false
   }
  },
  {
   "cell_type": "code",
   "execution_count": 152,
   "outputs": [
    {
     "data": {
      "text/plain": "                               Title  Year                 Album  \\\n309          Your Mother Should Know  1967  Magical Mystery Tour   \n36                 Carry That Weight  1969            Abbey Road   \n5                Across the Universe  1968             Let It Be   \n232                   Sie Liebt Dich  1964              Rarities   \n10              All Things Must Pass  1969           Anthology 3   \n6                      Act Naturally  1965                 Help!   \n167                Love of the Loved  1962                   NaN   \n190                Not a Second Time  1963      With the Beatles   \n282                What You're Doing  1964      Beatles for Sale   \n106  I Don't Want to Spoil the Party  1964      Beatles for Sale   \n\n                                    Album debut  Duration  Other releases  \\\n309                        Magical Mystery Tour     149.0            13.0   \n36                                   Abbey Road      96.0             5.0   \n5                                     Let It Be     230.0            19.0   \n232                   UK: Rarities US: Rarities     139.0             9.0   \n10                                  Anthology 3     227.0             NaN   \n6             UK: Help! US: Yesterday and Today     139.0            14.0   \n167                                         NaN     122.0             NaN   \n190  UK: With the Beatles US: Meet The Beatles!     128.0             9.0   \n282         UK: Beatles for Sale US: Beatles VI     150.0             8.0   \n106         UK: Beatles for Sale US: Beatles VI     153.0            11.0   \n\n                               Single A side  \\\n309                                      NaN   \n36                                       NaN   \n5                                        NaN   \n232  Komm Gib Mir Deine Hand; Sie Liebt Dich   \n10                                       NaN   \n6                                  Yesterday   \n167                                      NaN   \n190                                      NaN   \n282                                      NaN   \n106   Eight Days a Week; I'll Follow the Sun   \n\n                                         Single B side Single certification  \\\n309                                                NaN                  NaN   \n36                                                 NaN                  NaN   \n5                                                  NaN                  NaN   \n232                       Sie Liebt Dich; I'll Get You                  NaN   \n10                                                 NaN                  NaN   \n6                                        Act Naturally            RIAA Gold   \n167                                                NaN                  NaN   \n190                                                NaN                  NaN   \n282                                                NaN                  NaN   \n106  I Don't Want to Spoil the Party; I Don't Want ...            RIAA Gold   \n\n                                                 Genre  ...  \\\n309  Music Hall, Vaudeville Rock, Psychedelic Pop, ...  ...   \n36                            Symphonic Rock, Pop/Rock  ...   \n5                           Psychedelic folk, Pop/Rock  ...   \n232                            Rock and Roll, Pop/Rock  ...   \n10                                 Folk Rock, Pop/Rock  ...   \n6                                    Country, Pop/Rock  ...   \n167                                           Pop/Rock  ...   \n190                                     Rock, Pop/Rock  ...   \n282                               Jangle pop, Pop/Rock  ...   \n106                             Country Rock, Pop/Rock  ...   \n\n    Weeks at No1 in UK (The Guardian) Highest position (Billboard)  \\\n309                               NaN                          NaN   \n36                                NaN                          NaN   \n5                                 NaN                          NaN   \n232                               NaN                          NaN   \n10                                NaN                          NaN   \n6                                 NaN                         47.0   \n167                               NaN                          NaN   \n190                               NaN                          NaN   \n282                               NaN                          NaN   \n106                               NaN                         39.0   \n\n    Weeks at No1 (Billboard) Top 50 (Billboard)  \\\n309                      NaN                NaN   \n36                       NaN                NaN   \n5                        NaN                NaN   \n232                      NaN                NaN   \n10                       NaN                NaN   \n6                        NaN               50.0   \n167                      NaN                NaN   \n190                      NaN                NaN   \n282                      NaN                NaN   \n106                      NaN               49.0   \n\n    Top 50 (Ultimate classic rock) Top 50 (Rolling Stone)  Top 50 (NME)  \\\n309                            NaN                    NaN           NaN   \n36                             NaN                    NaN           NaN   \n5                              NaN                    NaN           7.0   \n232                            NaN                    NaN           NaN   \n10                             NaN                    NaN           NaN   \n6                              NaN                    NaN           NaN   \n167                            NaN                    NaN           NaN   \n190                            NaN                    NaN           NaN   \n282                            NaN                    NaN           NaN   \n106                            NaN                    NaN           NaN   \n\n     Top 50 (Top50songs.org)  Top 50 (USA today, 2017)  \\\n309                      NaN                       NaN   \n36                       NaN                       NaN   \n5                       30.0                      32.0   \n232                      NaN                       NaN   \n10                       NaN                       NaN   \n6                        NaN                       NaN   \n167                      NaN                       NaN   \n190                      NaN                       NaN   \n282                      NaN                       NaN   \n106                      NaN                       NaN   \n\n     Top 50 (Vulture, by Bill Wyman)  \n309                              NaN  \n36                               NaN  \n5                                NaN  \n232                              NaN  \n10                               NaN  \n6                                NaN  \n167                              NaN  \n190                              NaN  \n282                              NaN  \n106                              NaN  \n\n[10 rows x 31 columns]",
      "text/html": "<div>\n<style scoped>\n    .dataframe tbody tr th:only-of-type {\n        vertical-align: middle;\n    }\n\n    .dataframe tbody tr th {\n        vertical-align: top;\n    }\n\n    .dataframe thead th {\n        text-align: right;\n    }\n</style>\n<table border=\"1\" class=\"dataframe\">\n  <thead>\n    <tr style=\"text-align: right;\">\n      <th></th>\n      <th>Title</th>\n      <th>Year</th>\n      <th>Album</th>\n      <th>Album debut</th>\n      <th>Duration</th>\n      <th>Other releases</th>\n      <th>Single A side</th>\n      <th>Single B side</th>\n      <th>Single certification</th>\n      <th>Genre</th>\n      <th>...</th>\n      <th>Weeks at No1 in UK (The Guardian)</th>\n      <th>Highest position (Billboard)</th>\n      <th>Weeks at No1 (Billboard)</th>\n      <th>Top 50 (Billboard)</th>\n      <th>Top 50 (Ultimate classic rock)</th>\n      <th>Top 50 (Rolling Stone)</th>\n      <th>Top 50 (NME)</th>\n      <th>Top 50 (Top50songs.org)</th>\n      <th>Top 50 (USA today, 2017)</th>\n      <th>Top 50 (Vulture, by Bill Wyman)</th>\n    </tr>\n  </thead>\n  <tbody>\n    <tr>\n      <th>309</th>\n      <td>Your Mother Should Know</td>\n      <td>1967</td>\n      <td>Magical Mystery Tour</td>\n      <td>Magical Mystery Tour</td>\n      <td>149.0</td>\n      <td>13.0</td>\n      <td>NaN</td>\n      <td>NaN</td>\n      <td>NaN</td>\n      <td>Music Hall, Vaudeville Rock, Psychedelic Pop, ...</td>\n      <td>...</td>\n      <td>NaN</td>\n      <td>NaN</td>\n      <td>NaN</td>\n      <td>NaN</td>\n      <td>NaN</td>\n      <td>NaN</td>\n      <td>NaN</td>\n      <td>NaN</td>\n      <td>NaN</td>\n      <td>NaN</td>\n    </tr>\n    <tr>\n      <th>36</th>\n      <td>Carry That Weight</td>\n      <td>1969</td>\n      <td>Abbey Road</td>\n      <td>Abbey Road</td>\n      <td>96.0</td>\n      <td>5.0</td>\n      <td>NaN</td>\n      <td>NaN</td>\n      <td>NaN</td>\n      <td>Symphonic Rock, Pop/Rock</td>\n      <td>...</td>\n      <td>NaN</td>\n      <td>NaN</td>\n      <td>NaN</td>\n      <td>NaN</td>\n      <td>NaN</td>\n      <td>NaN</td>\n      <td>NaN</td>\n      <td>NaN</td>\n      <td>NaN</td>\n      <td>NaN</td>\n    </tr>\n    <tr>\n      <th>5</th>\n      <td>Across the Universe</td>\n      <td>1968</td>\n      <td>Let It Be</td>\n      <td>Let It Be</td>\n      <td>230.0</td>\n      <td>19.0</td>\n      <td>NaN</td>\n      <td>NaN</td>\n      <td>NaN</td>\n      <td>Psychedelic folk, Pop/Rock</td>\n      <td>...</td>\n      <td>NaN</td>\n      <td>NaN</td>\n      <td>NaN</td>\n      <td>NaN</td>\n      <td>NaN</td>\n      <td>NaN</td>\n      <td>7.0</td>\n      <td>30.0</td>\n      <td>32.0</td>\n      <td>NaN</td>\n    </tr>\n    <tr>\n      <th>232</th>\n      <td>Sie Liebt Dich</td>\n      <td>1964</td>\n      <td>Rarities</td>\n      <td>UK: Rarities US: Rarities</td>\n      <td>139.0</td>\n      <td>9.0</td>\n      <td>Komm Gib Mir Deine Hand; Sie Liebt Dich</td>\n      <td>Sie Liebt Dich; I'll Get You</td>\n      <td>NaN</td>\n      <td>Rock and Roll, Pop/Rock</td>\n      <td>...</td>\n      <td>NaN</td>\n      <td>NaN</td>\n      <td>NaN</td>\n      <td>NaN</td>\n      <td>NaN</td>\n      <td>NaN</td>\n      <td>NaN</td>\n      <td>NaN</td>\n      <td>NaN</td>\n      <td>NaN</td>\n    </tr>\n    <tr>\n      <th>10</th>\n      <td>All Things Must Pass</td>\n      <td>1969</td>\n      <td>Anthology 3</td>\n      <td>Anthology 3</td>\n      <td>227.0</td>\n      <td>NaN</td>\n      <td>NaN</td>\n      <td>NaN</td>\n      <td>NaN</td>\n      <td>Folk Rock, Pop/Rock</td>\n      <td>...</td>\n      <td>NaN</td>\n      <td>NaN</td>\n      <td>NaN</td>\n      <td>NaN</td>\n      <td>NaN</td>\n      <td>NaN</td>\n      <td>NaN</td>\n      <td>NaN</td>\n      <td>NaN</td>\n      <td>NaN</td>\n    </tr>\n    <tr>\n      <th>6</th>\n      <td>Act Naturally</td>\n      <td>1965</td>\n      <td>Help!</td>\n      <td>UK: Help! US: Yesterday and Today</td>\n      <td>139.0</td>\n      <td>14.0</td>\n      <td>Yesterday</td>\n      <td>Act Naturally</td>\n      <td>RIAA Gold</td>\n      <td>Country, Pop/Rock</td>\n      <td>...</td>\n      <td>NaN</td>\n      <td>47.0</td>\n      <td>NaN</td>\n      <td>50.0</td>\n      <td>NaN</td>\n      <td>NaN</td>\n      <td>NaN</td>\n      <td>NaN</td>\n      <td>NaN</td>\n      <td>NaN</td>\n    </tr>\n    <tr>\n      <th>167</th>\n      <td>Love of the Loved</td>\n      <td>1962</td>\n      <td>NaN</td>\n      <td>NaN</td>\n      <td>122.0</td>\n      <td>NaN</td>\n      <td>NaN</td>\n      <td>NaN</td>\n      <td>NaN</td>\n      <td>Pop/Rock</td>\n      <td>...</td>\n      <td>NaN</td>\n      <td>NaN</td>\n      <td>NaN</td>\n      <td>NaN</td>\n      <td>NaN</td>\n      <td>NaN</td>\n      <td>NaN</td>\n      <td>NaN</td>\n      <td>NaN</td>\n      <td>NaN</td>\n    </tr>\n    <tr>\n      <th>190</th>\n      <td>Not a Second Time</td>\n      <td>1963</td>\n      <td>With the Beatles</td>\n      <td>UK: With the Beatles US: Meet The Beatles!</td>\n      <td>128.0</td>\n      <td>9.0</td>\n      <td>NaN</td>\n      <td>NaN</td>\n      <td>NaN</td>\n      <td>Rock, Pop/Rock</td>\n      <td>...</td>\n      <td>NaN</td>\n      <td>NaN</td>\n      <td>NaN</td>\n      <td>NaN</td>\n      <td>NaN</td>\n      <td>NaN</td>\n      <td>NaN</td>\n      <td>NaN</td>\n      <td>NaN</td>\n      <td>NaN</td>\n    </tr>\n    <tr>\n      <th>282</th>\n      <td>What You're Doing</td>\n      <td>1964</td>\n      <td>Beatles for Sale</td>\n      <td>UK: Beatles for Sale US: Beatles VI</td>\n      <td>150.0</td>\n      <td>8.0</td>\n      <td>NaN</td>\n      <td>NaN</td>\n      <td>NaN</td>\n      <td>Jangle pop, Pop/Rock</td>\n      <td>...</td>\n      <td>NaN</td>\n      <td>NaN</td>\n      <td>NaN</td>\n      <td>NaN</td>\n      <td>NaN</td>\n      <td>NaN</td>\n      <td>NaN</td>\n      <td>NaN</td>\n      <td>NaN</td>\n      <td>NaN</td>\n    </tr>\n    <tr>\n      <th>106</th>\n      <td>I Don't Want to Spoil the Party</td>\n      <td>1964</td>\n      <td>Beatles for Sale</td>\n      <td>UK: Beatles for Sale US: Beatles VI</td>\n      <td>153.0</td>\n      <td>11.0</td>\n      <td>Eight Days a Week; I'll Follow the Sun</td>\n      <td>I Don't Want to Spoil the Party; I Don't Want ...</td>\n      <td>RIAA Gold</td>\n      <td>Country Rock, Pop/Rock</td>\n      <td>...</td>\n      <td>NaN</td>\n      <td>39.0</td>\n      <td>NaN</td>\n      <td>49.0</td>\n      <td>NaN</td>\n      <td>NaN</td>\n      <td>NaN</td>\n      <td>NaN</td>\n      <td>NaN</td>\n      <td>NaN</td>\n    </tr>\n  </tbody>\n</table>\n<p>10 rows × 31 columns</p>\n</div>"
     },
     "metadata": {},
     "output_type": "display_data"
    }
   ],
   "source": [
    "display(songs.sample(10))"
   ],
   "metadata": {
    "collapsed": false
   }
  },
  {
   "cell_type": "markdown",
   "source": [
    "### Save the resulting dataframe as *'../data/The Beatles songs dataset, 310x31, v0 (Album).csv'*"
   ],
   "metadata": {
    "collapsed": false
   }
  },
  {
   "cell_type": "code",
   "execution_count": 153,
   "outputs": [],
   "source": [
    "songs.to_csv('../data/The Beatles songs dataset, 310x31 (Album), v0.csv', index=False)"
   ],
   "metadata": {
    "collapsed": false
   }
  },
  {
   "cell_type": "markdown",
   "source": [
    "Repeat the same process for all the other starting datasets."
   ],
   "metadata": {
    "collapsed": false
   }
  },
  {
   "cell_type": "markdown",
   "source": [
    "## Get The Beatles rarities\n",
    "Compile all tracks that do not appear on official albums and were not released as singles."
   ],
   "metadata": {
    "collapsed": false
   }
  }
 ],
 "metadata": {
  "kernelspec": {
   "display_name": "Python 3",
   "language": "python",
   "name": "python3"
  },
  "language_info": {
   "codemirror_mode": {
    "name": "ipython",
    "version": 2
   },
   "file_extension": ".py",
   "mimetype": "text/x-python",
   "name": "python",
   "nbconvert_exporter": "python",
   "pygments_lexer": "ipython2",
   "version": "2.7.6"
  }
 },
 "nbformat": 4,
 "nbformat_minor": 0
}
