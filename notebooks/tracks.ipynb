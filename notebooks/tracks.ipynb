{
 "cells": [
  {
   "cell_type": "markdown",
   "source": [
    "# Working with Spotify tracks\n",
    "Getting information about Spotify tracks and running basic operations with tracks."
   ],
   "metadata": {
    "collapsed": false
   }
  },
  {
   "cell_type": "markdown",
   "source": [
    "## Import statements"
   ],
   "metadata": {
    "collapsed": false
   }
  },
  {
   "cell_type": "code",
   "execution_count": 1,
   "outputs": [],
   "source": [
    "from my_spotify import get_spotify_object, get_all_tracks_from_playlist"
   ],
   "metadata": {
    "collapsed": false
   }
  },
  {
   "cell_type": "markdown",
   "source": [
    "## Get the Spotify object"
   ],
   "metadata": {
    "collapsed": false
   }
  },
  {
   "cell_type": "code",
   "execution_count": 35,
   "outputs": [],
   "source": [
    "spot = get_spotify_object('env/.env')"
   ],
   "metadata": {
    "collapsed": false
   }
  },
  {
   "cell_type": "markdown",
   "source": [
    "## Specify a playlist to work with"
   ],
   "metadata": {
    "collapsed": false
   }
  },
  {
   "cell_type": "code",
   "execution_count": 2,
   "outputs": [],
   "source": [
    "THE_BEATLES_PLAYLIST_URL_1 = 'https://open.spotify.com/playlist/6ZmqDRJKJf3v3LzYZAaGGU?si=6b487ba5f9b54374' # 215 songs"
   ],
   "metadata": {
    "collapsed": false
   }
  },
  {
   "cell_type": "markdown",
   "source": [
    "## Get the tracks from the playlist"
   ],
   "metadata": {
    "collapsed": false
   }
  },
  {
   "cell_type": "code",
   "execution_count": 4,
   "outputs": [],
   "source": [
    "tracks = get_all_tracks_from_playlist(THE_BEATLES_PLAYLIST_URL_1, 'env/.env')"
   ],
   "metadata": {
    "collapsed": false
   }
  },
  {
   "cell_type": "markdown",
   "source": [
    "## Check what some items from the \"encompassing\" dictionary corresponding to a track are\n",
    "This \"encompassing\" dictionary includes an \"embedded\" dictionary pertaining to the track itself, as well as some other metadata."
   ],
   "metadata": {
    "collapsed": false
   }
  },
  {
   "cell_type": "code",
   "execution_count": 13,
   "outputs": [
    {
     "data": {
      "text/plain": "dict_keys(['added_at', 'added_by', 'is_local', 'primary_color', 'track', 'video_thumbnail'])"
     },
     "metadata": {},
     "output_type": "display_data"
    },
    {
     "data": {
      "text/plain": "'2020-01-15T04:20:38Z'"
     },
     "metadata": {},
     "output_type": "display_data"
    },
    {
     "data": {
      "text/plain": "False"
     },
     "metadata": {},
     "output_type": "display_data"
    },
    {
     "data": {
      "text/plain": "None"
     },
     "metadata": {},
     "output_type": "display_data"
    },
    {
     "data": {
      "text/plain": "{'url': None}"
     },
     "metadata": {},
     "output_type": "display_data"
    },
    {
     "data": {
      "text/plain": "{'album': {'album_group': 'album',\n  'album_type': 'album',\n  'artists': [{'external_urls': {'spotify': 'https://open.spotify.com/artist/3WrFJ7ztbogyGnTHbHJFl2'},\n    'href': 'https://api.spotify.com/v1/artists/3WrFJ7ztbogyGnTHbHJFl2',\n    'id': '3WrFJ7ztbogyGnTHbHJFl2',\n    'name': 'The Beatles',\n    'type': 'artist',\n    'uri': 'spotify:artist:3WrFJ7ztbogyGnTHbHJFl2'}],\n  'available_markets': ['AD',\n   'AE',\n   'AG',\n   'AL',\n   'AM',\n   'AO',\n   'AR',\n   'AT',\n   'AU',\n   'AZ',\n   'BA',\n   'BB',\n   'BD',\n   'BE',\n   'BF',\n   'BG',\n   'BH',\n   'BI',\n   'BJ',\n   'BN',\n   'BO',\n   'BR',\n   'BS',\n   'BT',\n   'BW',\n   'BY',\n   'BZ',\n   'CA',\n   'CD',\n   'CG',\n   'CH',\n   'CI',\n   'CL',\n   'CM',\n   'CO',\n   'CR',\n   'CV',\n   'CW',\n   'CY',\n   'CZ',\n   'DE',\n   'DJ',\n   'DK',\n   'DM',\n   'DO',\n   'DZ',\n   'EC',\n   'EE',\n   'EG',\n   'ES',\n   'ET',\n   'FI',\n   'FJ',\n   'FM',\n   'FR',\n   'GA',\n   'GB',\n   'GD',\n   'GE',\n   'GH',\n   'GM',\n   'GN',\n   'GQ',\n   'GR',\n   'GT',\n   'GW',\n   'GY',\n   'HK',\n   'HN',\n   'HR',\n   'HT',\n   'HU',\n   'ID',\n   'IE',\n   'IL',\n   'IN',\n   'IQ',\n   'IS',\n   'IT',\n   'JM',\n   'JO',\n   'JP',\n   'KE',\n   'KG',\n   'KH',\n   'KI',\n   'KM',\n   'KN',\n   'KR',\n   'KW',\n   'KZ',\n   'LA',\n   'LB',\n   'LC',\n   'LI',\n   'LK',\n   'LR',\n   'LS',\n   'LT',\n   'LU',\n   'LV',\n   'LY',\n   'MA',\n   'MC',\n   'MD',\n   'ME',\n   'MG',\n   'MH',\n   'MK',\n   'ML',\n   'MN',\n   'MO',\n   'MR',\n   'MT',\n   'MU',\n   'MV',\n   'MW',\n   'MX',\n   'MY',\n   'MZ',\n   'NA',\n   'NE',\n   'NG',\n   'NI',\n   'NL',\n   'NO',\n   'NP',\n   'NR',\n   'NZ',\n   'OM',\n   'PA',\n   'PE',\n   'PG',\n   'PH',\n   'PK',\n   'PL',\n   'PS',\n   'PT',\n   'PW',\n   'PY',\n   'QA',\n   'RO',\n   'RS',\n   'RW',\n   'SA',\n   'SB',\n   'SC',\n   'SE',\n   'SG',\n   'SI',\n   'SK',\n   'SL',\n   'SM',\n   'SN',\n   'SR',\n   'ST',\n   'SV',\n   'SZ',\n   'TD',\n   'TG',\n   'TH',\n   'TJ',\n   'TL',\n   'TN',\n   'TO',\n   'TR',\n   'TT',\n   'TV',\n   'TW',\n   'TZ',\n   'UA',\n   'UG',\n   'US',\n   'UY',\n   'UZ',\n   'VC',\n   'VE',\n   'VN',\n   'VU',\n   'WS',\n   'XK',\n   'ZA',\n   'ZM',\n   'ZW'],\n  'external_urls': {'spotify': 'https://open.spotify.com/album/3KzAvEXcqJKBF97HrXwlgf'},\n  'href': 'https://api.spotify.com/v1/albums/3KzAvEXcqJKBF97HrXwlgf',\n  'id': '3KzAvEXcqJKBF97HrXwlgf',\n  'images': [{'height': 640,\n    'url': 'https://i.scdn.co/image/ab67616d0000b273dbeec63ad914c973e75c24df',\n    'width': 640},\n   {'height': 300,\n    'url': 'https://i.scdn.co/image/ab67616d00001e02dbeec63ad914c973e75c24df',\n    'width': 300},\n   {'height': 64,\n    'url': 'https://i.scdn.co/image/ab67616d00004851dbeec63ad914c973e75c24df',\n    'width': 64}],\n  'is_playable': True,\n  'name': 'Please Please Me (Remastered)',\n  'release_date': '1963-03-22',\n  'release_date_precision': 'day',\n  'total_tracks': 14,\n  'type': 'album',\n  'uri': 'spotify:album:3KzAvEXcqJKBF97HrXwlgf'},\n 'artists': [{'external_urls': {'spotify': 'https://open.spotify.com/artist/3WrFJ7ztbogyGnTHbHJFl2'},\n   'href': 'https://api.spotify.com/v1/artists/3WrFJ7ztbogyGnTHbHJFl2',\n   'id': '3WrFJ7ztbogyGnTHbHJFl2',\n   'name': 'The Beatles',\n   'type': 'artist',\n   'uri': 'spotify:artist:3WrFJ7ztbogyGnTHbHJFl2'}],\n 'available_markets': ['AR',\n  'AU',\n  'AT',\n  'BE',\n  'BO',\n  'BR',\n  'BG',\n  'CA',\n  'CL',\n  'CO',\n  'CR',\n  'CY',\n  'CZ',\n  'DK',\n  'DO',\n  'DE',\n  'EC',\n  'EE',\n  'SV',\n  'FI',\n  'FR',\n  'GR',\n  'GT',\n  'HN',\n  'HK',\n  'HU',\n  'IS',\n  'IE',\n  'IT',\n  'LV',\n  'LT',\n  'LU',\n  'MY',\n  'MT',\n  'MX',\n  'NL',\n  'NZ',\n  'NI',\n  'NO',\n  'PA',\n  'PY',\n  'PE',\n  'PH',\n  'PL',\n  'PT',\n  'SG',\n  'SK',\n  'ES',\n  'SE',\n  'CH',\n  'TW',\n  'TR',\n  'UY',\n  'US',\n  'GB',\n  'AD',\n  'LI',\n  'MC',\n  'ID',\n  'JP',\n  'TH',\n  'VN',\n  'RO',\n  'IL',\n  'ZA',\n  'SA',\n  'AE',\n  'BH',\n  'QA',\n  'OM',\n  'KW',\n  'EG',\n  'MA',\n  'DZ',\n  'TN',\n  'LB',\n  'JO',\n  'PS',\n  'IN',\n  'BY',\n  'KZ',\n  'MD',\n  'UA',\n  'AL',\n  'BA',\n  'HR',\n  'ME',\n  'MK',\n  'RS',\n  'SI',\n  'KR',\n  'BD',\n  'PK',\n  'LK',\n  'GH',\n  'KE',\n  'NG',\n  'TZ',\n  'UG',\n  'AG',\n  'AM',\n  'BS',\n  'BB',\n  'BZ',\n  'BT',\n  'BW',\n  'BF',\n  'CV',\n  'CW',\n  'DM',\n  'FJ',\n  'GM',\n  'GE',\n  'GD',\n  'GW',\n  'GY',\n  'HT',\n  'JM',\n  'KI',\n  'LS',\n  'LR',\n  'MW',\n  'MV',\n  'ML',\n  'MH',\n  'FM',\n  'NA',\n  'NR',\n  'NE',\n  'PW',\n  'PG',\n  'WS',\n  'SM',\n  'ST',\n  'SN',\n  'SC',\n  'SL',\n  'SB',\n  'KN',\n  'LC',\n  'VC',\n  'SR',\n  'TL',\n  'TO',\n  'TT',\n  'TV',\n  'VU',\n  'AZ',\n  'BN',\n  'BI',\n  'KH',\n  'CM',\n  'TD',\n  'KM',\n  'GQ',\n  'SZ',\n  'GA',\n  'GN',\n  'KG',\n  'LA',\n  'MO',\n  'MR',\n  'MN',\n  'NP',\n  'RW',\n  'TG',\n  'UZ',\n  'ZW',\n  'BJ',\n  'MG',\n  'MU',\n  'MZ',\n  'AO',\n  'CI',\n  'DJ',\n  'ZM',\n  'CD',\n  'CG',\n  'IQ',\n  'LY',\n  'TJ',\n  'VE',\n  'ET',\n  'XK'],\n 'disc_number': 1,\n 'duration_ms': 173946,\n 'episode': False,\n 'explicit': False,\n 'external_ids': {'isrc': 'GBAYE0601410'},\n 'external_urls': {'spotify': 'https://open.spotify.com/track/3KiexfmhxHvG5IgAElmTkd'},\n 'href': 'https://api.spotify.com/v1/tracks/3KiexfmhxHvG5IgAElmTkd',\n 'id': '3KiexfmhxHvG5IgAElmTkd',\n 'is_local': False,\n 'name': 'I Saw Her Standing There - Remastered 2009',\n 'popularity': 64,\n 'preview_url': None,\n 'track': True,\n 'track_number': 1,\n 'type': 'track',\n 'uri': 'spotify:track:3KiexfmhxHvG5IgAElmTkd'}"
     },
     "metadata": {},
     "output_type": "display_data"
    }
   ],
   "source": [
    "# type(tracks)                          # list\n",
    "\n",
    "t = tracks[0]\n",
    "# type(track)                           # dict\n",
    "\n",
    "display(t.keys())\n",
    "display(t['added_at'])\n",
    "display(t['is_local'])\n",
    "display(t['primary_color'])\n",
    "display(t['video_thumbnail'])\n",
    "\n",
    "display(t['track'])"
   ],
   "metadata": {
    "collapsed": false
   }
  },
  {
   "cell_type": "markdown",
   "source": [
    "## Check what some items from the \"embedded\" dictionary corresponding to a track are"
   ],
   "metadata": {
    "collapsed": false
   }
  },
  {
   "cell_type": "code",
   "execution_count": 31,
   "outputs": [
    {
     "data": {
      "text/plain": "dict_keys(['album', 'artists', 'available_markets', 'disc_number', 'duration_ms', 'episode', 'explicit', 'external_ids', 'external_urls', 'href', 'id', 'is_local', 'name', 'popularity', 'preview_url', 'track', 'track_number', 'type', 'uri'])"
     },
     "metadata": {},
     "output_type": "display_data"
    },
    {
     "data": {
      "text/plain": "True"
     },
     "metadata": {},
     "output_type": "display_data"
    },
    {
     "data": {
      "text/plain": "'I Saw Her Standing There - Remastered 2009'"
     },
     "metadata": {},
     "output_type": "display_data"
    },
    {
     "data": {
      "text/plain": "64"
     },
     "metadata": {},
     "output_type": "display_data"
    },
    {
     "data": {
      "text/plain": "{'album_group': 'album',\n 'album_type': 'album',\n 'artists': [{'external_urls': {'spotify': 'https://open.spotify.com/artist/3WrFJ7ztbogyGnTHbHJFl2'},\n   'href': 'https://api.spotify.com/v1/artists/3WrFJ7ztbogyGnTHbHJFl2',\n   'id': '3WrFJ7ztbogyGnTHbHJFl2',\n   'name': 'The Beatles',\n   'type': 'artist',\n   'uri': 'spotify:artist:3WrFJ7ztbogyGnTHbHJFl2'}],\n 'available_markets': ['AD',\n  'AE',\n  'AG',\n  'AL',\n  'AM',\n  'AO',\n  'AR',\n  'AT',\n  'AU',\n  'AZ',\n  'BA',\n  'BB',\n  'BD',\n  'BE',\n  'BF',\n  'BG',\n  'BH',\n  'BI',\n  'BJ',\n  'BN',\n  'BO',\n  'BR',\n  'BS',\n  'BT',\n  'BW',\n  'BY',\n  'BZ',\n  'CA',\n  'CD',\n  'CG',\n  'CH',\n  'CI',\n  'CL',\n  'CM',\n  'CO',\n  'CR',\n  'CV',\n  'CW',\n  'CY',\n  'CZ',\n  'DE',\n  'DJ',\n  'DK',\n  'DM',\n  'DO',\n  'DZ',\n  'EC',\n  'EE',\n  'EG',\n  'ES',\n  'ET',\n  'FI',\n  'FJ',\n  'FM',\n  'FR',\n  'GA',\n  'GB',\n  'GD',\n  'GE',\n  'GH',\n  'GM',\n  'GN',\n  'GQ',\n  'GR',\n  'GT',\n  'GW',\n  'GY',\n  'HK',\n  'HN',\n  'HR',\n  'HT',\n  'HU',\n  'ID',\n  'IE',\n  'IL',\n  'IN',\n  'IQ',\n  'IS',\n  'IT',\n  'JM',\n  'JO',\n  'JP',\n  'KE',\n  'KG',\n  'KH',\n  'KI',\n  'KM',\n  'KN',\n  'KR',\n  'KW',\n  'KZ',\n  'LA',\n  'LB',\n  'LC',\n  'LI',\n  'LK',\n  'LR',\n  'LS',\n  'LT',\n  'LU',\n  'LV',\n  'LY',\n  'MA',\n  'MC',\n  'MD',\n  'ME',\n  'MG',\n  'MH',\n  'MK',\n  'ML',\n  'MN',\n  'MO',\n  'MR',\n  'MT',\n  'MU',\n  'MV',\n  'MW',\n  'MX',\n  'MY',\n  'MZ',\n  'NA',\n  'NE',\n  'NG',\n  'NI',\n  'NL',\n  'NO',\n  'NP',\n  'NR',\n  'NZ',\n  'OM',\n  'PA',\n  'PE',\n  'PG',\n  'PH',\n  'PK',\n  'PL',\n  'PS',\n  'PT',\n  'PW',\n  'PY',\n  'QA',\n  'RO',\n  'RS',\n  'RW',\n  'SA',\n  'SB',\n  'SC',\n  'SE',\n  'SG',\n  'SI',\n  'SK',\n  'SL',\n  'SM',\n  'SN',\n  'SR',\n  'ST',\n  'SV',\n  'SZ',\n  'TD',\n  'TG',\n  'TH',\n  'TJ',\n  'TL',\n  'TN',\n  'TO',\n  'TR',\n  'TT',\n  'TV',\n  'TW',\n  'TZ',\n  'UA',\n  'UG',\n  'US',\n  'UY',\n  'UZ',\n  'VC',\n  'VE',\n  'VN',\n  'VU',\n  'WS',\n  'XK',\n  'ZA',\n  'ZM',\n  'ZW'],\n 'external_urls': {'spotify': 'https://open.spotify.com/album/3KzAvEXcqJKBF97HrXwlgf'},\n 'href': 'https://api.spotify.com/v1/albums/3KzAvEXcqJKBF97HrXwlgf',\n 'id': '3KzAvEXcqJKBF97HrXwlgf',\n 'images': [{'height': 640,\n   'url': 'https://i.scdn.co/image/ab67616d0000b273dbeec63ad914c973e75c24df',\n   'width': 640},\n  {'height': 300,\n   'url': 'https://i.scdn.co/image/ab67616d00001e02dbeec63ad914c973e75c24df',\n   'width': 300},\n  {'height': 64,\n   'url': 'https://i.scdn.co/image/ab67616d00004851dbeec63ad914c973e75c24df',\n   'width': 64}],\n 'is_playable': True,\n 'name': 'Please Please Me (Remastered)',\n 'release_date': '1963-03-22',\n 'release_date_precision': 'day',\n 'total_tracks': 14,\n 'type': 'album',\n 'uri': 'spotify:album:3KzAvEXcqJKBF97HrXwlgf'}"
     },
     "metadata": {},
     "output_type": "display_data"
    },
    {
     "data": {
      "text/plain": "'Please Please Me (Remastered)'"
     },
     "metadata": {},
     "output_type": "display_data"
    },
    {
     "data": {
      "text/plain": "173946"
     },
     "metadata": {},
     "output_type": "display_data"
    },
    {
     "data": {
      "text/plain": "'The Beatles'"
     },
     "metadata": {},
     "output_type": "display_data"
    },
    {
     "data": {
      "text/plain": "'3KiexfmhxHvG5IgAElmTkd'"
     },
     "metadata": {},
     "output_type": "display_data"
    },
    {
     "data": {
      "text/plain": "'spotify:track:3KiexfmhxHvG5IgAElmTkd'"
     },
     "metadata": {},
     "output_type": "display_data"
    },
    {
     "data": {
      "text/plain": "'https://api.spotify.com/v1/tracks/3KiexfmhxHvG5IgAElmTkd'"
     },
     "metadata": {},
     "output_type": "display_data"
    },
    {
     "data": {
      "text/plain": "False"
     },
     "metadata": {},
     "output_type": "display_data"
    },
    {
     "data": {
      "text/plain": "True"
     },
     "metadata": {},
     "output_type": "display_data"
    }
   ],
   "source": [
    "track = t['track']\n",
    "# type(track)                           # dict\n",
    "\n",
    "display(track.keys())\n",
    "\n",
    "display(track['track'])\n",
    "display(track['name'])\n",
    "display(track['popularity'])\n",
    "display(track['album'])\n",
    "display(track['album']['name'])\n",
    "display(track['duration_ms'])\n",
    "display(track['artists'][0]['name'])\n",
    "display(track['id'])\n",
    "display(track['uri'])\n",
    "display(track['href'])\n",
    "display(track['episode'])               # False\n",
    "display(track['track'])                 # True"
   ],
   "metadata": {
    "collapsed": false
   }
  },
  {
   "cell_type": "markdown",
   "source": [
    "## Get the audio features for a track"
   ],
   "metadata": {
    "collapsed": false
   }
  },
  {
   "cell_type": "code",
   "execution_count": 36,
   "outputs": [
    {
     "data": {
      "text/plain": "[{'danceability': 0.491,\n  'energy': 0.801,\n  'key': 4,\n  'loudness': -9.835,\n  'mode': 1,\n  'speechiness': 0.0361,\n  'acousticness': 0.27,\n  'instrumentalness': 0,\n  'liveness': 0.0665,\n  'valence': 0.971,\n  'tempo': 160.109,\n  'type': 'audio_features',\n  'id': '3KiexfmhxHvG5IgAElmTkd',\n  'uri': 'spotify:track:3KiexfmhxHvG5IgAElmTkd',\n  'track_href': 'https://api.spotify.com/v1/tracks/3KiexfmhxHvG5IgAElmTkd',\n  'analysis_url': 'https://api.spotify.com/v1/audio-analysis/3KiexfmhxHvG5IgAElmTkd',\n  'duration_ms': 173947,\n  'time_signature': 4}]"
     },
     "execution_count": 36,
     "metadata": {},
     "output_type": "execute_result"
    }
   ],
   "source": [
    "spot.audio_features(['spotify:track:3KiexfmhxHvG5IgAElmTkd'])"
   ],
   "metadata": {
    "collapsed": false
   }
  }
 ],
 "metadata": {
  "kernelspec": {
   "display_name": "Python 3",
   "language": "python",
   "name": "python3"
  },
  "language_info": {
   "codemirror_mode": {
    "name": "ipython",
    "version": 2
   },
   "file_extension": ".py",
   "mimetype": "text/x-python",
   "name": "python",
   "nbconvert_exporter": "python",
   "pygments_lexer": "ipython2",
   "version": "2.7.6"
  }
 },
 "nbformat": 4,
 "nbformat_minor": 0
}
