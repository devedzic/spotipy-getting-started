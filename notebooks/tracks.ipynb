{
 "cells": [
  {
   "cell_type": "markdown",
   "source": [
    "# Working with Spotify tracks\n",
    "Getting information about Spotify tracks and running basic operations with tracks."
   ],
   "metadata": {
    "collapsed": false
   }
  },
  {
   "cell_type": "markdown",
   "source": [
    "## Import statements"
   ],
   "metadata": {
    "collapsed": false
   }
  },
  {
   "cell_type": "code",
   "execution_count": 66,
   "outputs": [],
   "source": [
    "from my_spotify import get_spotify_object, get_all_tracks_from_playlist\n",
    "import pandas as pd"
   ],
   "metadata": {
    "collapsed": false,
    "ExecuteTime": {
     "end_time": "2023-05-14T18:14:43.752248700Z",
     "start_time": "2023-05-14T18:14:43.743857800Z"
    }
   }
  },
  {
   "cell_type": "markdown",
   "source": [
    "## Get the Spotify object"
   ],
   "metadata": {
    "collapsed": false
   }
  },
  {
   "cell_type": "code",
   "execution_count": 38,
   "outputs": [],
   "source": [
    "spot = get_spotify_object('env/.env')"
   ],
   "metadata": {
    "collapsed": false
   }
  },
  {
   "cell_type": "markdown",
   "source": [
    "## Specify a playlist to work with"
   ],
   "metadata": {
    "collapsed": false
   }
  },
  {
   "cell_type": "code",
   "execution_count": 39,
   "outputs": [],
   "source": [
    "THE_BEATLES_PLAYLIST_URL_1 = 'https://open.spotify.com/playlist/6ZmqDRJKJf3v3LzYZAaGGU?si=6b487ba5f9b54374' # 215 songs"
   ],
   "metadata": {
    "collapsed": false
   }
  },
  {
   "cell_type": "markdown",
   "source": [
    "## Get the tracks from the playlist"
   ],
   "metadata": {
    "collapsed": false
   }
  },
  {
   "cell_type": "code",
   "execution_count": 40,
   "outputs": [],
   "source": [
    "tracks = get_all_tracks_from_playlist(THE_BEATLES_PLAYLIST_URL_1, 'env/.env')"
   ],
   "metadata": {
    "collapsed": false
   }
  },
  {
   "cell_type": "markdown",
   "source": [
    "## Check what some items from the \"encompassing\" dictionary corresponding to a track are\n",
    "This \"encompassing\" dictionary includes an \"embedded\" dictionary pertaining to the track itself, as well as some other metadata."
   ],
   "metadata": {
    "collapsed": false
   }
  },
  {
   "cell_type": "code",
   "execution_count": 41,
   "outputs": [],
   "source": [
    "# type(tracks)                          # list\n",
    "\n",
    "t = tracks[0]\n",
    "# type(track)                           # dict\n",
    "\n",
    "display(t.keys())\n",
    "display(t['added_at'])\n",
    "display(t['is_local'])\n",
    "display(t['primary_color'])\n",
    "display(t['video_thumbnail'])\n",
    "\n",
    "display(t['track'])"
   ],
   "metadata": {
    "collapsed": false
   }
  },
  {
   "cell_type": "markdown",
   "source": [
    "## Check what some items from the \"embedded\" dictionary corresponding to a track are"
   ],
   "metadata": {
    "collapsed": false
   }
  },
  {
   "cell_type": "code",
   "execution_count": 42,
   "outputs": [],
   "source": [
    "track = t['track']\n",
    "# type(track)                           # dict\n",
    "\n",
    "display(track.keys())\n",
    "\n",
    "display(track['track'])\n",
    "display(track['name'])\n",
    "display(track['popularity'])\n",
    "display(track['album'])\n",
    "display(track['album']['name'])\n",
    "display(track['duration_ms'])\n",
    "display(track['artists'][0]['name'])\n",
    "display(track['id'])\n",
    "display(track['uri'])\n",
    "display(track['href'])\n",
    "display(track['episode'])               # False\n",
    "display(track['track'])                 # True"
   ],
   "metadata": {
    "collapsed": false
   }
  },
  {
   "cell_type": "markdown",
   "source": [
    "## Get the audio features for a track\n",
    "See [this](https://developer.spotify.com/documentation/web-api/reference/#/operations/get-several-audio-features) for an explanation of the meanings of all these parameters."
   ],
   "metadata": {
    "collapsed": false
   }
  },
  {
   "cell_type": "code",
   "execution_count": 43,
   "outputs": [],
   "source": [
    "spot.audio_features(['spotify:track:3KiexfmhxHvG5IgAElmTkd'])"
   ],
   "metadata": {
    "collapsed": false
   }
  },
  {
   "cell_type": "markdown",
   "source": [
    "## Create a list of URIs of all tracks from the playlist"
   ],
   "metadata": {
    "collapsed": false
   }
  },
  {
   "cell_type": "code",
   "execution_count": 44,
   "outputs": [],
   "source": [
    "uri_list = [t['track']['uri'] for t in tracks]\n",
    "uri_list[:5]"
   ],
   "metadata": {
    "collapsed": false
   }
  },
  {
   "cell_type": "markdown",
   "source": [
    "## Create a list of *(uri, title, popularity, duration)* tuples of all tracks from the playlist"
   ],
   "metadata": {
    "collapsed": false
   }
  },
  {
   "cell_type": "code",
   "execution_count": 45,
   "outputs": [],
   "source": [
    "tracks_data = [(t['track']['uri'],\n",
    "                t['track']['name'].split(' - Remastered')[0].split(' / Remastered')[0],\n",
    "                t['track']['album']['name'].split(' (Remastered)')[0],\n",
    "                t['track']['popularity'],\n",
    "                int(round(t['track']['duration_ms'] / 1000, 0))) for t in tracks]\n",
    "display(len(tracks_data))\n",
    "display(tracks_data[:])"
   ],
   "metadata": {
    "collapsed": false
   }
  },
  {
   "cell_type": "markdown",
   "source": [
    "## Create a list of audio features dictionaries of all tracks from the playlist\n",
    "See [this](https://developer.spotify.com/documentation/web-api/reference/#/operations/get-several-audio-features) for an explanation of the meanings of all these parameters.\n",
    "\n",
    "**Important:** `spot.audio_features()` will accept max 100 URIs!"
   ],
   "metadata": {
    "collapsed": false
   }
  },
  {
   "cell_type": "code",
   "execution_count": 46,
   "outputs": [],
   "source": [
    "offset = 0\n",
    "runs, last_run = divmod(len(tracks), 100)                                                       # how many full runs, 100 tracks each\n",
    "tracks_audio_features_dicts = []\n",
    "\n",
    "if runs > 0:                                                                                    # all full runs, 100 tracks each\n",
    "    for _ in range(runs):\n",
    "        tracks_audio_features_dicts.extend(spot.audio_features(uri_list[offset:(offset+100)]))\n",
    "        offset += 100\n",
    "tracks_audio_features_dicts.extend(spot.audio_features(uri_list[offset:(offset+last_run)]))     # last run, generally < 100 tracks\n",
    "\n",
    "# display(len(tracks_audio_features_dicts))\n",
    "# display(tracks_audio_features_dicts)"
   ],
   "metadata": {
    "collapsed": false
   }
  },
  {
   "cell_type": "markdown",
   "source": [
    "## Create a list of *(key, mode, tempo, time_signature, valence, danceability, energy, loudness, acousticness, instrumentalness, liveness, speechiness)* tuples of all tracks from the playlist\n",
    "See [this](https://developer.spotify.com/documentation/web-api/reference/#/operations/get-several-audio-features) for an explanation of the meanings of all these parameters.\n",
    "\n",
    "Use `tracks_audio_features_dicts` list created above."
   ],
   "metadata": {
    "collapsed": false
   }
  },
  {
   "cell_type": "code",
   "execution_count": 47,
   "outputs": [],
   "source": [
    "tracks_audio_features = [(t['key'],\n",
    "                          t['mode'],\n",
    "                          t['tempo'],\n",
    "                          t['time_signature'],\n",
    "                          t['valence'],\n",
    "                          t['danceability'],\n",
    "                          t['energy'],\n",
    "                          t['loudness'],\n",
    "                          t['acousticness'],\n",
    "                          t['instrumentalness'],\n",
    "                          t['liveness'],\n",
    "                          t['speechiness']) for t in tracks_audio_features_dicts]\n",
    "\n",
    "# display(len(tracks_audio_features))\n",
    "# display(tracks_audio_features)"
   ],
   "metadata": {
    "collapsed": false
   }
  },
  {
   "cell_type": "markdown",
   "source": [
    "## Join the tuples from *tracks_data* and *tracks_audio_features* pairwise to create *tracks_data_and_audio_features*"
   ],
   "metadata": {
    "collapsed": false
   }
  },
  {
   "cell_type": "code",
   "execution_count": 48,
   "outputs": [],
   "source": [
    "tracks_data_and_audio_features = [(d + af) for d, af in zip(tracks_data, tracks_audio_features)]\n",
    "# display(tracks_data_and_audio_features[:5])"
   ],
   "metadata": {
    "collapsed": false
   }
  },
  {
   "cell_type": "markdown",
   "source": [
    "## Bundle it all together in the *get_playlist_tracks_data()*, *get_playlist_tracks_audio_features()* and *get_playlist_tracks_df()* functions\n",
    "Assumption: the *.env* file is already created as explained in *spotify_authentication.ipynb*, and its relative path is passed as an argument."
   ],
   "metadata": {
    "collapsed": false
   }
  },
  {
   "cell_type": "markdown",
   "source": [
    "### *get_playlist_tracks_data()*"
   ],
   "metadata": {
    "collapsed": false
   }
  },
  {
   "cell_type": "code",
   "execution_count": 72,
   "outputs": [],
   "source": [
    "def get_playlist_tracks_data(playlist_id: str, env_file_path: str) -> list:\n",
    "    tracks = get_all_tracks_from_playlist(playlist_id, env_file_path)\n",
    "    tracks_data = [(t['track']['uri'],\n",
    "                    t['track']['name'].split(' - Remastered')[0].split(' / Remastered')[0],\n",
    "                    t['track']['album']['name'].split(' (Remastered)')[0],\n",
    "                    t['track']['popularity'],\n",
    "                    int(round(t['track']['duration_ms'] / 1000, 0))) for t in tracks]\n",
    "    return tracks_data"
   ],
   "metadata": {
    "collapsed": false
   }
  },
  {
   "cell_type": "code",
   "execution_count": 57,
   "outputs": [],
   "source": [
    "# Test get_tracks(data)\n",
    "display(get_playlist_tracks_data(THE_BEATLES_PLAYLIST_URL_1, 'env/.env'))"
   ],
   "metadata": {
    "collapsed": false
   }
  },
  {
   "cell_type": "markdown",
   "source": [
    "### *get_playlist_tracks_audio_features()*"
   ],
   "metadata": {
    "collapsed": false
   }
  },
  {
   "cell_type": "code",
   "execution_count": 73,
   "outputs": [],
   "source": [
    "def get_playlist_tracks_audio_features(playlist_id: str, env_file_path: str) -> list:\n",
    "    spot = get_spotify_object(env_file_path)\n",
    "    tracks = get_all_tracks_from_playlist(playlist_id, env_file_path)\n",
    "    uri_list = [t['track']['uri'] for t in tracks]\n",
    "\n",
    "    offset = 0\n",
    "    runs, last_run = divmod(len(tracks), 100)                                                       # how many full runs, 100 tracks each\n",
    "    tracks_audio_features_dicts = []\n",
    "\n",
    "    if runs > 0:                                                                                    # all full runs, 100 tracks each\n",
    "        for _ in range(runs):\n",
    "            tracks_audio_features_dicts.extend(spot.audio_features(uri_list[offset:(offset+100)]))\n",
    "            offset += 100\n",
    "    tracks_audio_features_dicts.extend(spot.audio_features(uri_list[offset:(offset+last_run)]))     # last run, < 100 tracks\n",
    "\n",
    "    tracks_audio_features = [(t['key'],\n",
    "                              t['mode'],\n",
    "                              t['tempo'],\n",
    "                              t['time_signature'],\n",
    "                              t['valence'],\n",
    "                              t['danceability'],\n",
    "                              t['energy'],\n",
    "                              t['loudness'],\n",
    "                              t['acousticness'],\n",
    "                              t['instrumentalness'],\n",
    "                              t['liveness'],\n",
    "                              t['speechiness']) for t in tracks_audio_features_dicts]\n",
    "\n",
    "    return tracks_audio_features"
   ],
   "metadata": {
    "collapsed": false
   }
  },
  {
   "cell_type": "code",
   "execution_count": 59,
   "outputs": [],
   "source": [
    "# Test get_tracks_audio_features()\n",
    "display(get_playlist_tracks_audio_features(THE_BEATLES_PLAYLIST_URL_1, 'env/.env'))"
   ],
   "metadata": {
    "collapsed": false
   }
  },
  {
   "cell_type": "markdown",
   "source": [
    "### *get_playlist_tracks_df()*"
   ],
   "metadata": {
    "collapsed": false
   }
  },
  {
   "cell_type": "code",
   "execution_count": 70,
   "outputs": [],
   "source": [
    "def get_playlist_tracks_df(playlist_id: str, env_file_path: str) -> pd.DataFrame:\n",
    "    COLUMNS = [\n",
    "        'URI',\n",
    "        'Title',\n",
    "        'Album',\n",
    "        'Popularity',\n",
    "        'Duration',\n",
    "        'Key',\n",
    "        'Mode',\n",
    "        'Tempo',\n",
    "        'Time_signature',\n",
    "        'Valence',\n",
    "        'Danceability',\n",
    "        'Energy',\n",
    "        'Loudness',\n",
    "        'Acousticness',\n",
    "        'Instrumentalness',\n",
    "        'Liveness',\n",
    "        'Speechiness'\n",
    "    ]\n",
    "\n",
    "    tracks_data = get_playlist_tracks_data(playlist_id, env_file_path)\n",
    "    tracks_audio_features = get_playlist_tracks_audio_features(playlist_id, env_file_path)\n",
    "    tracks_data_and_audio_features = [(d + af) for d, af in zip(tracks_data, tracks_audio_features)]\n",
    "    return pd.DataFrame(tracks_data_and_audio_features, columns=COLUMNS)\n"
   ],
   "metadata": {
    "collapsed": false
   }
  },
  {
   "cell_type": "code",
   "execution_count": 71,
   "outputs": [
    {
     "data": {
      "text/plain": "                                      URI  \\\n0    spotify:track:3KiexfmhxHvG5IgAElmTkd   \n1    spotify:track:40qXGg5nRbcWzcFb26KWkQ   \n2    spotify:track:2baEFuU0gQon0hgVRioI1o   \n3    spotify:track:3JQWLa88R35d971o5bIImd   \n4    spotify:track:5ZBeML7Lf3FMEVviTyvi8l   \n..                                    ...   \n210  spotify:track:48TNLcToLs8DWkdj5vYdiW   \n211  spotify:track:1tM9TBNPjieSOZ2d5VAQ1y   \n212  spotify:track:379hxtlY5LvbPQa5LL6dPo   \n213  spotify:track:5xf0zdP4KCfshyVn02D3Ea   \n214  spotify:track:4qh4lu4xf4r3ZkBoyeajuc   \n\n                                      Title  \\\n0                  I Saw Her Standing There   \n1                                    Misery   \n2                          Anna (Go To Him)   \n3                                    Chains   \n4                           Twist And Shout   \n..                                      ...   \n210                                    Rain   \n211                            Lady Madonna   \n212                         The Inner Light   \n213  Kansas City / Hey-Hey-Hey-Hey - Medley   \n214                              Revolution   \n\n                                       Album  Popularity  Duration  Key  Mode  \\\n0                           Please Please Me          69       174    4     1   \n1                           Please Please Me          53       109    0     1   \n2                           Please Please Me          56       177    2     1   \n3                           Please Please Me          49       145   10     1   \n4                           Please Please Me          77       155    2     1   \n..                                       ...         ...       ...  ...   ...   \n210  Past Masters (Vols. 1 & 2 / Remastered)          50       181    0     1   \n211  Past Masters (Vols. 1 & 2 / Remastered)          37       138    2     1   \n212  Past Masters (Vols. 1 & 2 / Remastered)          39       156    8     1   \n213                         Beatles For Sale          45       158    7     1   \n214  Past Masters (Vols. 1 & 2 / Remastered)          39       205    1     1   \n\n       Tempo  Time_signature  Valence  Danceability  Energy  Loudness  \\\n0    160.109               4    0.971         0.491   0.801    -9.835   \n1    133.348               4    0.882         0.591   0.605   -10.925   \n2    109.286               4    0.835         0.608   0.565   -11.060   \n3    129.884               4    0.929         0.654   0.561   -10.551   \n4    124.631               4    0.937         0.482   0.849    -9.198   \n..       ...             ...      ...           ...     ...       ...   \n210  106.933               4    0.541         0.234   0.693    -8.277   \n211  109.110               4    0.780         0.631   0.748    -7.604   \n212  101.545               3    0.387         0.304   0.543   -10.619   \n213  131.360               4    0.924         0.588   0.724    -6.630   \n214  121.054               4    0.708         0.417   0.825    -9.539   \n\n     Acousticness  Instrumentalness  Liveness  Speechiness  \n0        0.270000          0.000000    0.0665       0.0361  \n1        0.707000          0.000000    0.3090       0.0413  \n2        0.635000          0.000000    0.0601       0.0336  \n3        0.608000          0.000000    0.1290       0.0304  \n4        0.641000          0.000008    0.0414       0.0452  \n..            ...               ...       ...          ...  \n210      0.000028          0.899000    0.4420       0.0408  \n211      0.385000          0.308000    0.2050       0.0300  \n212      0.751000          0.014500    0.0764       0.0340  \n213      0.614000          0.000089    0.8770       0.0335  \n214      0.088800          0.000358    0.2300       0.1760  \n\n[215 rows x 17 columns]",
      "text/html": "<div>\n<style scoped>\n    .dataframe tbody tr th:only-of-type {\n        vertical-align: middle;\n    }\n\n    .dataframe tbody tr th {\n        vertical-align: top;\n    }\n\n    .dataframe thead th {\n        text-align: right;\n    }\n</style>\n<table border=\"1\" class=\"dataframe\">\n  <thead>\n    <tr style=\"text-align: right;\">\n      <th></th>\n      <th>URI</th>\n      <th>Title</th>\n      <th>Album</th>\n      <th>Popularity</th>\n      <th>Duration</th>\n      <th>Key</th>\n      <th>Mode</th>\n      <th>Tempo</th>\n      <th>Time_signature</th>\n      <th>Valence</th>\n      <th>Danceability</th>\n      <th>Energy</th>\n      <th>Loudness</th>\n      <th>Acousticness</th>\n      <th>Instrumentalness</th>\n      <th>Liveness</th>\n      <th>Speechiness</th>\n    </tr>\n  </thead>\n  <tbody>\n    <tr>\n      <th>0</th>\n      <td>spotify:track:3KiexfmhxHvG5IgAElmTkd</td>\n      <td>I Saw Her Standing There</td>\n      <td>Please Please Me</td>\n      <td>69</td>\n      <td>174</td>\n      <td>4</td>\n      <td>1</td>\n      <td>160.109</td>\n      <td>4</td>\n      <td>0.971</td>\n      <td>0.491</td>\n      <td>0.801</td>\n      <td>-9.835</td>\n      <td>0.270000</td>\n      <td>0.000000</td>\n      <td>0.0665</td>\n      <td>0.0361</td>\n    </tr>\n    <tr>\n      <th>1</th>\n      <td>spotify:track:40qXGg5nRbcWzcFb26KWkQ</td>\n      <td>Misery</td>\n      <td>Please Please Me</td>\n      <td>53</td>\n      <td>109</td>\n      <td>0</td>\n      <td>1</td>\n      <td>133.348</td>\n      <td>4</td>\n      <td>0.882</td>\n      <td>0.591</td>\n      <td>0.605</td>\n      <td>-10.925</td>\n      <td>0.707000</td>\n      <td>0.000000</td>\n      <td>0.3090</td>\n      <td>0.0413</td>\n    </tr>\n    <tr>\n      <th>2</th>\n      <td>spotify:track:2baEFuU0gQon0hgVRioI1o</td>\n      <td>Anna (Go To Him)</td>\n      <td>Please Please Me</td>\n      <td>56</td>\n      <td>177</td>\n      <td>2</td>\n      <td>1</td>\n      <td>109.286</td>\n      <td>4</td>\n      <td>0.835</td>\n      <td>0.608</td>\n      <td>0.565</td>\n      <td>-11.060</td>\n      <td>0.635000</td>\n      <td>0.000000</td>\n      <td>0.0601</td>\n      <td>0.0336</td>\n    </tr>\n    <tr>\n      <th>3</th>\n      <td>spotify:track:3JQWLa88R35d971o5bIImd</td>\n      <td>Chains</td>\n      <td>Please Please Me</td>\n      <td>49</td>\n      <td>145</td>\n      <td>10</td>\n      <td>1</td>\n      <td>129.884</td>\n      <td>4</td>\n      <td>0.929</td>\n      <td>0.654</td>\n      <td>0.561</td>\n      <td>-10.551</td>\n      <td>0.608000</td>\n      <td>0.000000</td>\n      <td>0.1290</td>\n      <td>0.0304</td>\n    </tr>\n    <tr>\n      <th>4</th>\n      <td>spotify:track:5ZBeML7Lf3FMEVviTyvi8l</td>\n      <td>Twist And Shout</td>\n      <td>Please Please Me</td>\n      <td>77</td>\n      <td>155</td>\n      <td>2</td>\n      <td>1</td>\n      <td>124.631</td>\n      <td>4</td>\n      <td>0.937</td>\n      <td>0.482</td>\n      <td>0.849</td>\n      <td>-9.198</td>\n      <td>0.641000</td>\n      <td>0.000008</td>\n      <td>0.0414</td>\n      <td>0.0452</td>\n    </tr>\n    <tr>\n      <th>...</th>\n      <td>...</td>\n      <td>...</td>\n      <td>...</td>\n      <td>...</td>\n      <td>...</td>\n      <td>...</td>\n      <td>...</td>\n      <td>...</td>\n      <td>...</td>\n      <td>...</td>\n      <td>...</td>\n      <td>...</td>\n      <td>...</td>\n      <td>...</td>\n      <td>...</td>\n      <td>...</td>\n      <td>...</td>\n    </tr>\n    <tr>\n      <th>210</th>\n      <td>spotify:track:48TNLcToLs8DWkdj5vYdiW</td>\n      <td>Rain</td>\n      <td>Past Masters (Vols. 1 &amp; 2 / Remastered)</td>\n      <td>50</td>\n      <td>181</td>\n      <td>0</td>\n      <td>1</td>\n      <td>106.933</td>\n      <td>4</td>\n      <td>0.541</td>\n      <td>0.234</td>\n      <td>0.693</td>\n      <td>-8.277</td>\n      <td>0.000028</td>\n      <td>0.899000</td>\n      <td>0.4420</td>\n      <td>0.0408</td>\n    </tr>\n    <tr>\n      <th>211</th>\n      <td>spotify:track:1tM9TBNPjieSOZ2d5VAQ1y</td>\n      <td>Lady Madonna</td>\n      <td>Past Masters (Vols. 1 &amp; 2 / Remastered)</td>\n      <td>37</td>\n      <td>138</td>\n      <td>2</td>\n      <td>1</td>\n      <td>109.110</td>\n      <td>4</td>\n      <td>0.780</td>\n      <td>0.631</td>\n      <td>0.748</td>\n      <td>-7.604</td>\n      <td>0.385000</td>\n      <td>0.308000</td>\n      <td>0.2050</td>\n      <td>0.0300</td>\n    </tr>\n    <tr>\n      <th>212</th>\n      <td>spotify:track:379hxtlY5LvbPQa5LL6dPo</td>\n      <td>The Inner Light</td>\n      <td>Past Masters (Vols. 1 &amp; 2 / Remastered)</td>\n      <td>39</td>\n      <td>156</td>\n      <td>8</td>\n      <td>1</td>\n      <td>101.545</td>\n      <td>3</td>\n      <td>0.387</td>\n      <td>0.304</td>\n      <td>0.543</td>\n      <td>-10.619</td>\n      <td>0.751000</td>\n      <td>0.014500</td>\n      <td>0.0764</td>\n      <td>0.0340</td>\n    </tr>\n    <tr>\n      <th>213</th>\n      <td>spotify:track:5xf0zdP4KCfshyVn02D3Ea</td>\n      <td>Kansas City / Hey-Hey-Hey-Hey - Medley</td>\n      <td>Beatles For Sale</td>\n      <td>45</td>\n      <td>158</td>\n      <td>7</td>\n      <td>1</td>\n      <td>131.360</td>\n      <td>4</td>\n      <td>0.924</td>\n      <td>0.588</td>\n      <td>0.724</td>\n      <td>-6.630</td>\n      <td>0.614000</td>\n      <td>0.000089</td>\n      <td>0.8770</td>\n      <td>0.0335</td>\n    </tr>\n    <tr>\n      <th>214</th>\n      <td>spotify:track:4qh4lu4xf4r3ZkBoyeajuc</td>\n      <td>Revolution</td>\n      <td>Past Masters (Vols. 1 &amp; 2 / Remastered)</td>\n      <td>39</td>\n      <td>205</td>\n      <td>1</td>\n      <td>1</td>\n      <td>121.054</td>\n      <td>4</td>\n      <td>0.708</td>\n      <td>0.417</td>\n      <td>0.825</td>\n      <td>-9.539</td>\n      <td>0.088800</td>\n      <td>0.000358</td>\n      <td>0.2300</td>\n      <td>0.1760</td>\n    </tr>\n  </tbody>\n</table>\n<p>215 rows × 17 columns</p>\n</div>"
     },
     "metadata": {},
     "output_type": "display_data"
    }
   ],
   "source": [
    "# Test get_playlist_tracks_df()\n",
    "tracks_df = get_playlist_tracks_df(THE_BEATLES_PLAYLIST_URL_1, 'env/.env')\n",
    "display(tracks_df)"
   ],
   "metadata": {
    "collapsed": false,
    "ExecuteTime": {
     "end_time": "2023-05-14T18:18:36.416840200Z",
     "start_time": "2023-05-14T18:18:34.288830900Z"
    }
   }
  },
  {
   "cell_type": "markdown",
   "source": [
    "## Save the resulting dataframe"
   ],
   "metadata": {
    "collapsed": false
   }
  },
  {
   "cell_type": "code",
   "execution_count": 69,
   "outputs": [],
   "source": [
    "from pathlib import Path\n",
    "data_dir = Path().cwd().parent / 'data'\n",
    "data_dir.mkdir(parents=True, exist_ok=True)\n",
    "# print(data_dir)\n",
    "tracks_df.to_csv(data_dir / 'The Beatles songs dataset, Spotify 1.csv', index=False)"
   ],
   "metadata": {
    "collapsed": false,
    "ExecuteTime": {
     "end_time": "2023-05-14T18:17:20.047659700Z",
     "start_time": "2023-05-14T18:17:20.041373800Z"
    }
   }
  }
 ],
 "metadata": {
  "kernelspec": {
   "display_name": "Python 3",
   "language": "python",
   "name": "python3"
  },
  "language_info": {
   "codemirror_mode": {
    "name": "ipython",
    "version": 2
   },
   "file_extension": ".py",
   "mimetype": "text/x-python",
   "name": "python",
   "nbconvert_exporter": "python",
   "pygments_lexer": "ipython2",
   "version": "2.7.6"
  }
 },
 "nbformat": 4,
 "nbformat_minor": 0
}
