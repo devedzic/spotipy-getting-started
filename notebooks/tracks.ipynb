{
 "cells": [
  {
   "cell_type": "markdown",
   "source": [
    "# Working with Spotify tracks\n",
    "Getting information about Spotify tracks and running basic operations with tracks."
   ],
   "metadata": {
    "collapsed": false
   }
  },
  {
   "cell_type": "markdown",
   "source": [
    "## Import statements"
   ],
   "metadata": {
    "collapsed": false
   }
  },
  {
   "cell_type": "code",
   "execution_count": 1,
   "outputs": [],
   "source": [
    "from my_spotify import get_spotify_object, get_all_tracks_from_playlist\n",
    "import pandas as pd"
   ],
   "metadata": {
    "collapsed": false,
    "ExecuteTime": {
     "end_time": "2023-05-12T18:38:24.026852200Z",
     "start_time": "2023-05-12T18:38:22.296628600Z"
    }
   }
  },
  {
   "cell_type": "markdown",
   "source": [
    "## Get the Spotify object"
   ],
   "metadata": {
    "collapsed": false
   }
  },
  {
   "cell_type": "code",
   "execution_count": 2,
   "outputs": [],
   "source": [
    "spot = get_spotify_object('env/.env')"
   ],
   "metadata": {
    "collapsed": false,
    "ExecuteTime": {
     "end_time": "2023-05-12T18:38:28.791751100Z",
     "start_time": "2023-05-12T18:38:28.787103200Z"
    }
   }
  },
  {
   "cell_type": "markdown",
   "source": [
    "## Specify a playlist to work with"
   ],
   "metadata": {
    "collapsed": false
   }
  },
  {
   "cell_type": "code",
   "execution_count": 3,
   "outputs": [],
   "source": [
    "THE_BEATLES_PLAYLIST_URL_1 = 'https://open.spotify.com/playlist/6ZmqDRJKJf3v3LzYZAaGGU?si=6b487ba5f9b54374' # 215 songs"
   ],
   "metadata": {
    "collapsed": false,
    "ExecuteTime": {
     "end_time": "2023-05-12T18:38:34.392125700Z",
     "start_time": "2023-05-12T18:38:34.379196600Z"
    }
   }
  },
  {
   "cell_type": "markdown",
   "source": [
    "## Get the tracks from the playlist"
   ],
   "metadata": {
    "collapsed": false
   }
  },
  {
   "cell_type": "code",
   "execution_count": 4,
   "outputs": [],
   "source": [
    "tracks = get_all_tracks_from_playlist(THE_BEATLES_PLAYLIST_URL_1, 'env/.env')"
   ],
   "metadata": {
    "collapsed": false,
    "ExecuteTime": {
     "end_time": "2023-05-12T18:38:39.488512600Z",
     "start_time": "2023-05-12T18:38:38.663849200Z"
    }
   }
  },
  {
   "cell_type": "markdown",
   "source": [
    "## Check what some items from the \"encompassing\" dictionary corresponding to a track are\n",
    "This \"encompassing\" dictionary includes an \"embedded\" dictionary pertaining to the track itself, as well as some other metadata."
   ],
   "metadata": {
    "collapsed": false
   }
  },
  {
   "cell_type": "code",
   "execution_count": 5,
   "outputs": [
    {
     "data": {
      "text/plain": "dict_keys(['added_at', 'added_by', 'is_local', 'primary_color', 'track', 'video_thumbnail'])"
     },
     "metadata": {},
     "output_type": "display_data"
    },
    {
     "data": {
      "text/plain": "'2020-01-15T04:20:38Z'"
     },
     "metadata": {},
     "output_type": "display_data"
    },
    {
     "data": {
      "text/plain": "False"
     },
     "metadata": {},
     "output_type": "display_data"
    },
    {
     "data": {
      "text/plain": "None"
     },
     "metadata": {},
     "output_type": "display_data"
    },
    {
     "data": {
      "text/plain": "{'url': None}"
     },
     "metadata": {},
     "output_type": "display_data"
    },
    {
     "data": {
      "text/plain": "{'album': {'album_type': 'album',\n  'artists': [{'external_urls': {'spotify': 'https://open.spotify.com/artist/3WrFJ7ztbogyGnTHbHJFl2'},\n    'href': 'https://api.spotify.com/v1/artists/3WrFJ7ztbogyGnTHbHJFl2',\n    'id': '3WrFJ7ztbogyGnTHbHJFl2',\n    'name': 'The Beatles',\n    'type': 'artist',\n    'uri': 'spotify:artist:3WrFJ7ztbogyGnTHbHJFl2'}],\n  'available_markets': ['AD',\n   'AE',\n   'AG',\n   'AL',\n   'AM',\n   'AO',\n   'AR',\n   'AT',\n   'AU',\n   'AZ',\n   'BA',\n   'BB',\n   'BD',\n   'BE',\n   'BF',\n   'BG',\n   'BH',\n   'BI',\n   'BJ',\n   'BN',\n   'BO',\n   'BR',\n   'BS',\n   'BT',\n   'BW',\n   'BY',\n   'BZ',\n   'CA',\n   'CD',\n   'CG',\n   'CH',\n   'CI',\n   'CL',\n   'CM',\n   'CO',\n   'CR',\n   'CV',\n   'CW',\n   'CY',\n   'CZ',\n   'DE',\n   'DJ',\n   'DK',\n   'DM',\n   'DO',\n   'DZ',\n   'EC',\n   'EE',\n   'EG',\n   'ES',\n   'ET',\n   'FI',\n   'FJ',\n   'FM',\n   'FR',\n   'GA',\n   'GB',\n   'GD',\n   'GE',\n   'GH',\n   'GM',\n   'GN',\n   'GQ',\n   'GR',\n   'GT',\n   'GW',\n   'GY',\n   'HK',\n   'HN',\n   'HR',\n   'HT',\n   'HU',\n   'ID',\n   'IE',\n   'IL',\n   'IN',\n   'IQ',\n   'IS',\n   'IT',\n   'JM',\n   'JO',\n   'JP',\n   'KE',\n   'KG',\n   'KH',\n   'KI',\n   'KM',\n   'KN',\n   'KR',\n   'KW',\n   'KZ',\n   'LA',\n   'LB',\n   'LC',\n   'LI',\n   'LK',\n   'LR',\n   'LS',\n   'LT',\n   'LU',\n   'LV',\n   'LY',\n   'MA',\n   'MC',\n   'MD',\n   'ME',\n   'MG',\n   'MH',\n   'MK',\n   'ML',\n   'MN',\n   'MO',\n   'MR',\n   'MT',\n   'MU',\n   'MV',\n   'MW',\n   'MX',\n   'MY',\n   'MZ',\n   'NA',\n   'NE',\n   'NG',\n   'NI',\n   'NL',\n   'NO',\n   'NP',\n   'NR',\n   'NZ',\n   'OM',\n   'PA',\n   'PE',\n   'PG',\n   'PH',\n   'PK',\n   'PL',\n   'PS',\n   'PT',\n   'PW',\n   'PY',\n   'QA',\n   'RO',\n   'RS',\n   'RW',\n   'SA',\n   'SB',\n   'SC',\n   'SE',\n   'SG',\n   'SI',\n   'SK',\n   'SL',\n   'SM',\n   'SN',\n   'SR',\n   'ST',\n   'SV',\n   'SZ',\n   'TD',\n   'TG',\n   'TH',\n   'TJ',\n   'TL',\n   'TN',\n   'TO',\n   'TR',\n   'TT',\n   'TV',\n   'TW',\n   'TZ',\n   'UA',\n   'UG',\n   'US',\n   'UY',\n   'UZ',\n   'VC',\n   'VE',\n   'VN',\n   'VU',\n   'WS',\n   'XK',\n   'ZA',\n   'ZM',\n   'ZW'],\n  'external_urls': {'spotify': 'https://open.spotify.com/album/3KzAvEXcqJKBF97HrXwlgf'},\n  'href': 'https://api.spotify.com/v1/albums/3KzAvEXcqJKBF97HrXwlgf',\n  'id': '3KzAvEXcqJKBF97HrXwlgf',\n  'images': [{'height': 640,\n    'url': 'https://i.scdn.co/image/ab67616d0000b273dbeec63ad914c973e75c24df',\n    'width': 640},\n   {'height': 300,\n    'url': 'https://i.scdn.co/image/ab67616d00001e02dbeec63ad914c973e75c24df',\n    'width': 300},\n   {'height': 64,\n    'url': 'https://i.scdn.co/image/ab67616d00004851dbeec63ad914c973e75c24df',\n    'width': 64}],\n  'name': 'Please Please Me (Remastered)',\n  'release_date': '1963-03-22',\n  'release_date_precision': 'day',\n  'total_tracks': 14,\n  'type': 'album',\n  'uri': 'spotify:album:3KzAvEXcqJKBF97HrXwlgf'},\n 'artists': [{'external_urls': {'spotify': 'https://open.spotify.com/artist/3WrFJ7ztbogyGnTHbHJFl2'},\n   'href': 'https://api.spotify.com/v1/artists/3WrFJ7ztbogyGnTHbHJFl2',\n   'id': '3WrFJ7ztbogyGnTHbHJFl2',\n   'name': 'The Beatles',\n   'type': 'artist',\n   'uri': 'spotify:artist:3WrFJ7ztbogyGnTHbHJFl2'}],\n 'available_markets': ['AR',\n  'AU',\n  'AT',\n  'BE',\n  'BO',\n  'BR',\n  'BG',\n  'CA',\n  'CL',\n  'CO',\n  'CR',\n  'CY',\n  'CZ',\n  'DK',\n  'DO',\n  'DE',\n  'EC',\n  'EE',\n  'SV',\n  'FI',\n  'FR',\n  'GR',\n  'GT',\n  'HN',\n  'HK',\n  'HU',\n  'IS',\n  'IE',\n  'IT',\n  'LV',\n  'LT',\n  'LU',\n  'MY',\n  'MT',\n  'MX',\n  'NL',\n  'NZ',\n  'NI',\n  'NO',\n  'PA',\n  'PY',\n  'PE',\n  'PH',\n  'PL',\n  'PT',\n  'SG',\n  'SK',\n  'ES',\n  'SE',\n  'CH',\n  'TW',\n  'TR',\n  'UY',\n  'US',\n  'GB',\n  'AD',\n  'LI',\n  'MC',\n  'ID',\n  'JP',\n  'TH',\n  'VN',\n  'RO',\n  'IL',\n  'ZA',\n  'SA',\n  'AE',\n  'BH',\n  'QA',\n  'OM',\n  'KW',\n  'EG',\n  'MA',\n  'DZ',\n  'TN',\n  'LB',\n  'JO',\n  'PS',\n  'IN',\n  'BY',\n  'KZ',\n  'MD',\n  'UA',\n  'AL',\n  'BA',\n  'HR',\n  'ME',\n  'MK',\n  'RS',\n  'SI',\n  'KR',\n  'BD',\n  'PK',\n  'LK',\n  'GH',\n  'KE',\n  'NG',\n  'TZ',\n  'UG',\n  'AG',\n  'AM',\n  'BS',\n  'BB',\n  'BZ',\n  'BT',\n  'BW',\n  'BF',\n  'CV',\n  'CW',\n  'DM',\n  'FJ',\n  'GM',\n  'GE',\n  'GD',\n  'GW',\n  'GY',\n  'HT',\n  'JM',\n  'KI',\n  'LS',\n  'LR',\n  'MW',\n  'MV',\n  'ML',\n  'MH',\n  'FM',\n  'NA',\n  'NR',\n  'NE',\n  'PW',\n  'PG',\n  'WS',\n  'SM',\n  'ST',\n  'SN',\n  'SC',\n  'SL',\n  'SB',\n  'KN',\n  'LC',\n  'VC',\n  'SR',\n  'TL',\n  'TO',\n  'TT',\n  'TV',\n  'VU',\n  'AZ',\n  'BN',\n  'BI',\n  'KH',\n  'CM',\n  'TD',\n  'KM',\n  'GQ',\n  'SZ',\n  'GA',\n  'GN',\n  'KG',\n  'LA',\n  'MO',\n  'MR',\n  'MN',\n  'NP',\n  'RW',\n  'TG',\n  'UZ',\n  'ZW',\n  'BJ',\n  'MG',\n  'MU',\n  'MZ',\n  'AO',\n  'CI',\n  'DJ',\n  'ZM',\n  'CD',\n  'CG',\n  'IQ',\n  'LY',\n  'TJ',\n  'VE',\n  'ET',\n  'XK'],\n 'disc_number': 1,\n 'duration_ms': 173946,\n 'episode': False,\n 'explicit': False,\n 'external_ids': {'isrc': 'GBAYE0601410'},\n 'external_urls': {'spotify': 'https://open.spotify.com/track/3KiexfmhxHvG5IgAElmTkd'},\n 'href': 'https://api.spotify.com/v1/tracks/3KiexfmhxHvG5IgAElmTkd',\n 'id': '3KiexfmhxHvG5IgAElmTkd',\n 'is_local': False,\n 'name': 'I Saw Her Standing There - Remastered 2009',\n 'popularity': 69,\n 'preview_url': None,\n 'track': True,\n 'track_number': 1,\n 'type': 'track',\n 'uri': 'spotify:track:3KiexfmhxHvG5IgAElmTkd'}"
     },
     "metadata": {},
     "output_type": "display_data"
    }
   ],
   "source": [
    "# type(tracks)                          # list\n",
    "\n",
    "t = tracks[0]\n",
    "# type(track)                           # dict\n",
    "\n",
    "display(t.keys())\n",
    "display(t['added_at'])\n",
    "display(t['is_local'])\n",
    "display(t['primary_color'])\n",
    "display(t['video_thumbnail'])\n",
    "\n",
    "display(t['track'])"
   ],
   "metadata": {
    "collapsed": false,
    "ExecuteTime": {
     "end_time": "2023-05-12T18:39:55.262853100Z",
     "start_time": "2023-05-12T18:39:55.246551Z"
    }
   }
  },
  {
   "cell_type": "markdown",
   "source": [
    "## Check what some items from the \"embedded\" dictionary corresponding to a track are"
   ],
   "metadata": {
    "collapsed": false
   }
  },
  {
   "cell_type": "code",
   "execution_count": 6,
   "outputs": [
    {
     "data": {
      "text/plain": "dict_keys(['album', 'artists', 'available_markets', 'disc_number', 'duration_ms', 'episode', 'explicit', 'external_ids', 'external_urls', 'href', 'id', 'is_local', 'name', 'popularity', 'preview_url', 'track', 'track_number', 'type', 'uri'])"
     },
     "metadata": {},
     "output_type": "display_data"
    },
    {
     "data": {
      "text/plain": "True"
     },
     "metadata": {},
     "output_type": "display_data"
    },
    {
     "data": {
      "text/plain": "'I Saw Her Standing There - Remastered 2009'"
     },
     "metadata": {},
     "output_type": "display_data"
    },
    {
     "data": {
      "text/plain": "64"
     },
     "metadata": {},
     "output_type": "display_data"
    },
    {
     "data": {
      "text/plain": "{'album_group': 'album',\n 'album_type': 'album',\n 'artists': [{'external_urls': {'spotify': 'https://open.spotify.com/artist/3WrFJ7ztbogyGnTHbHJFl2'},\n   'href': 'https://api.spotify.com/v1/artists/3WrFJ7ztbogyGnTHbHJFl2',\n   'id': '3WrFJ7ztbogyGnTHbHJFl2',\n   'name': 'The Beatles',\n   'type': 'artist',\n   'uri': 'spotify:artist:3WrFJ7ztbogyGnTHbHJFl2'}],\n 'available_markets': ['AD',\n  'AE',\n  'AG',\n  'AL',\n  'AM',\n  'AO',\n  'AR',\n  'AT',\n  'AU',\n  'AZ',\n  'BA',\n  'BB',\n  'BD',\n  'BE',\n  'BF',\n  'BG',\n  'BH',\n  'BI',\n  'BJ',\n  'BN',\n  'BO',\n  'BR',\n  'BS',\n  'BT',\n  'BW',\n  'BY',\n  'BZ',\n  'CA',\n  'CD',\n  'CG',\n  'CH',\n  'CI',\n  'CL',\n  'CM',\n  'CO',\n  'CR',\n  'CV',\n  'CW',\n  'CY',\n  'CZ',\n  'DE',\n  'DJ',\n  'DK',\n  'DM',\n  'DO',\n  'DZ',\n  'EC',\n  'EE',\n  'EG',\n  'ES',\n  'ET',\n  'FI',\n  'FJ',\n  'FM',\n  'FR',\n  'GA',\n  'GB',\n  'GD',\n  'GE',\n  'GH',\n  'GM',\n  'GN',\n  'GQ',\n  'GR',\n  'GT',\n  'GW',\n  'GY',\n  'HK',\n  'HN',\n  'HR',\n  'HT',\n  'HU',\n  'ID',\n  'IE',\n  'IL',\n  'IN',\n  'IQ',\n  'IS',\n  'IT',\n  'JM',\n  'JO',\n  'JP',\n  'KE',\n  'KG',\n  'KH',\n  'KI',\n  'KM',\n  'KN',\n  'KR',\n  'KW',\n  'KZ',\n  'LA',\n  'LB',\n  'LC',\n  'LI',\n  'LK',\n  'LR',\n  'LS',\n  'LT',\n  'LU',\n  'LV',\n  'LY',\n  'MA',\n  'MC',\n  'MD',\n  'ME',\n  'MG',\n  'MH',\n  'MK',\n  'ML',\n  'MN',\n  'MO',\n  'MR',\n  'MT',\n  'MU',\n  'MV',\n  'MW',\n  'MX',\n  'MY',\n  'MZ',\n  'NA',\n  'NE',\n  'NG',\n  'NI',\n  'NL',\n  'NO',\n  'NP',\n  'NR',\n  'NZ',\n  'OM',\n  'PA',\n  'PE',\n  'PG',\n  'PH',\n  'PK',\n  'PL',\n  'PS',\n  'PT',\n  'PW',\n  'PY',\n  'QA',\n  'RO',\n  'RS',\n  'RW',\n  'SA',\n  'SB',\n  'SC',\n  'SE',\n  'SG',\n  'SI',\n  'SK',\n  'SL',\n  'SM',\n  'SN',\n  'SR',\n  'ST',\n  'SV',\n  'SZ',\n  'TD',\n  'TG',\n  'TH',\n  'TJ',\n  'TL',\n  'TN',\n  'TO',\n  'TR',\n  'TT',\n  'TV',\n  'TW',\n  'TZ',\n  'UA',\n  'UG',\n  'US',\n  'UY',\n  'UZ',\n  'VC',\n  'VE',\n  'VN',\n  'VU',\n  'WS',\n  'XK',\n  'ZA',\n  'ZM',\n  'ZW'],\n 'external_urls': {'spotify': 'https://open.spotify.com/album/3KzAvEXcqJKBF97HrXwlgf'},\n 'href': 'https://api.spotify.com/v1/albums/3KzAvEXcqJKBF97HrXwlgf',\n 'id': '3KzAvEXcqJKBF97HrXwlgf',\n 'images': [{'height': 640,\n   'url': 'https://i.scdn.co/image/ab67616d0000b273dbeec63ad914c973e75c24df',\n   'width': 640},\n  {'height': 300,\n   'url': 'https://i.scdn.co/image/ab67616d00001e02dbeec63ad914c973e75c24df',\n   'width': 300},\n  {'height': 64,\n   'url': 'https://i.scdn.co/image/ab67616d00004851dbeec63ad914c973e75c24df',\n   'width': 64}],\n 'is_playable': True,\n 'name': 'Please Please Me (Remastered)',\n 'release_date': '1963-03-22',\n 'release_date_precision': 'day',\n 'total_tracks': 14,\n 'type': 'album',\n 'uri': 'spotify:album:3KzAvEXcqJKBF97HrXwlgf'}"
     },
     "metadata": {},
     "output_type": "display_data"
    },
    {
     "data": {
      "text/plain": "'Please Please Me (Remastered)'"
     },
     "metadata": {},
     "output_type": "display_data"
    },
    {
     "data": {
      "text/plain": "173946"
     },
     "metadata": {},
     "output_type": "display_data"
    },
    {
     "data": {
      "text/plain": "'The Beatles'"
     },
     "metadata": {},
     "output_type": "display_data"
    },
    {
     "data": {
      "text/plain": "'3KiexfmhxHvG5IgAElmTkd'"
     },
     "metadata": {},
     "output_type": "display_data"
    },
    {
     "data": {
      "text/plain": "'spotify:track:3KiexfmhxHvG5IgAElmTkd'"
     },
     "metadata": {},
     "output_type": "display_data"
    },
    {
     "data": {
      "text/plain": "'https://api.spotify.com/v1/tracks/3KiexfmhxHvG5IgAElmTkd'"
     },
     "metadata": {},
     "output_type": "display_data"
    },
    {
     "data": {
      "text/plain": "False"
     },
     "metadata": {},
     "output_type": "display_data"
    },
    {
     "data": {
      "text/plain": "True"
     },
     "metadata": {},
     "output_type": "display_data"
    }
   ],
   "source": [
    "track = t['track']\n",
    "# type(track)                           # dict\n",
    "\n",
    "display(track.keys())\n",
    "\n",
    "display(track['track'])\n",
    "display(track['name'])\n",
    "display(track['popularity'])\n",
    "display(track['album'])\n",
    "display(track['album']['name'])\n",
    "display(track['duration_ms'])\n",
    "display(track['artists'][0]['name'])\n",
    "display(track['id'])\n",
    "display(track['uri'])\n",
    "display(track['href'])\n",
    "display(track['episode'])               # False\n",
    "display(track['track'])                 # True"
   ],
   "metadata": {
    "collapsed": false
   }
  },
  {
   "cell_type": "markdown",
   "source": [
    "## Get the audio features for a track\n",
    "See [this](https://developer.spotify.com/documentation/web-api/reference/#/operations/get-several-audio-features) for an explanation of the meanings of all these parameters."
   ],
   "metadata": {
    "collapsed": false
   }
  },
  {
   "cell_type": "code",
   "execution_count": 7,
   "outputs": [
    {
     "data": {
      "text/plain": "[{'danceability': 0.491,\n  'energy': 0.801,\n  'key': 4,\n  'loudness': -9.835,\n  'mode': 1,\n  'speechiness': 0.0361,\n  'acousticness': 0.27,\n  'instrumentalness': 0,\n  'liveness': 0.0665,\n  'valence': 0.971,\n  'tempo': 160.109,\n  'type': 'audio_features',\n  'id': '3KiexfmhxHvG5IgAElmTkd',\n  'uri': 'spotify:track:3KiexfmhxHvG5IgAElmTkd',\n  'track_href': 'https://api.spotify.com/v1/tracks/3KiexfmhxHvG5IgAElmTkd',\n  'analysis_url': 'https://api.spotify.com/v1/audio-analysis/3KiexfmhxHvG5IgAElmTkd',\n  'duration_ms': 173947,\n  'time_signature': 4}]"
     },
     "execution_count": 7,
     "metadata": {},
     "output_type": "execute_result"
    }
   ],
   "source": [
    "spot.audio_features(['spotify:track:3KiexfmhxHvG5IgAElmTkd'])"
   ],
   "metadata": {
    "collapsed": false
   }
  },
  {
   "cell_type": "markdown",
   "source": [
    "## Create a list of URIs of all tracks from the playlist"
   ],
   "metadata": {
    "collapsed": false
   }
  },
  {
   "cell_type": "code",
   "execution_count": 6,
   "outputs": [
    {
     "data": {
      "text/plain": "['spotify:track:3KiexfmhxHvG5IgAElmTkd',\n 'spotify:track:40qXGg5nRbcWzcFb26KWkQ',\n 'spotify:track:2baEFuU0gQon0hgVRioI1o',\n 'spotify:track:3JQWLa88R35d971o5bIImd',\n 'spotify:track:5ZBeML7Lf3FMEVviTyvi8l']"
     },
     "execution_count": 6,
     "metadata": {},
     "output_type": "execute_result"
    }
   ],
   "source": [
    "uri_list = [t['track']['uri'] for t in tracks]\n",
    "uri_list[:5]"
   ],
   "metadata": {
    "collapsed": false,
    "ExecuteTime": {
     "end_time": "2023-05-12T19:00:47.440587100Z",
     "start_time": "2023-05-12T19:00:47.432553Z"
    }
   }
  },
  {
   "cell_type": "markdown",
   "source": [
    "## Create a list of *(uri, title, popularity, duration)* tuples of all tracks from the playlist"
   ],
   "metadata": {
    "collapsed": false
   }
  },
  {
   "cell_type": "code",
   "execution_count": 7,
   "outputs": [
    {
     "data": {
      "text/plain": "215"
     },
     "metadata": {},
     "output_type": "display_data"
    },
    {
     "data": {
      "text/plain": "[('spotify:track:3KiexfmhxHvG5IgAElmTkd',\n  'I Saw Her Standing There',\n  'Please Please Me',\n  69,\n  174),\n ('spotify:track:40qXGg5nRbcWzcFb26KWkQ',\n  'Misery',\n  'Please Please Me',\n  53,\n  109),\n ('spotify:track:2baEFuU0gQon0hgVRioI1o',\n  'Anna (Go To Him)',\n  'Please Please Me',\n  56,\n  177),\n ('spotify:track:3JQWLa88R35d971o5bIImd',\n  'Chains',\n  'Please Please Me',\n  48,\n  145),\n ('spotify:track:5ZBeML7Lf3FMEVviTyvi8l',\n  'Twist And Shout',\n  'Please Please Me',\n  77,\n  155),\n ('spotify:track:4dessGxnKXmTbHPhVgqODq',\n  \"There's A Place\",\n  'Please Please Me',\n  49,\n  110),\n ('spotify:track:7fh53ta3vAOGJMQ4i5tCHe',\n  'A Taste Of Honey',\n  'Please Please Me',\n  49,\n  123),\n ('spotify:track:7Aobt67JnaF7qN8jCCKvHq',\n  'Do You Want To Know A Secret',\n  'Please Please Me',\n  63,\n  117),\n ('spotify:track:7JxGM1R32ZqfwZou3VtnTg', 'Boys', 'Please Please Me', 50, 146),\n ('spotify:track:7529Z6b1rlGZFFPWjHPeV5',\n  'Ask Me Why',\n  'Please Please Me',\n  50,\n  147),\n ('spotify:track:6EHuOufBeL6vk3TvVJB5qo',\n  'Please Please Me',\n  'Please Please Me',\n  60,\n  121),\n ('spotify:track:2VmB1rF9FtfKUmFHDVnq8Q',\n  \"Baby It's You\",\n  'Please Please Me',\n  54,\n  161),\n ('spotify:track:7Msq9qojB7yORuJvz49iUy',\n  'P.S. I Love You',\n  'Please Please Me',\n  52,\n  124),\n ('spotify:track:3VbGCXWRiouAq8VyMYN2MI',\n  'Love Me Do',\n  'Please Please Me',\n  69,\n  142),\n ('spotify:track:4ekUX4pWizXXksJe0JfS9U',\n  \"It Won't Be Long\",\n  'With The Beatles',\n  53,\n  133),\n ('spotify:track:5tztLBvTlNC15Np2tnQ5Ll',\n  \"All I've Got To Do\",\n  'With The Beatles',\n  53,\n  123),\n ('spotify:track:4joiWvli4qJVEW6qZV2i2J',\n  'All My Loving',\n  'With The Beatles',\n  71,\n  128),\n ('spotify:track:7y1hMqXNa0dKQLZH7CKbUG',\n  \"Don't Bother Me\",\n  'With The Beatles',\n  51,\n  148),\n ('spotify:track:0KogQrSowDnZoU8GSpaxkj',\n  'Little Child',\n  'With The Beatles',\n  44,\n  106),\n ('spotify:track:0ESIjVxnDnCDaTPo6sStHm',\n  'Till There Was You',\n  'With The Beatles',\n  63,\n  134),\n ('spotify:track:6wfK1R6FoLpmUA9lk5ll4T',\n  'Please Mister Postman',\n  'With The Beatles',\n  56,\n  154),\n ('spotify:track:3idqWaBn3mRdsIodCU6uBi',\n  'Roll Over Beethoven',\n  'With The Beatles',\n  54,\n  165),\n ('spotify:track:2RvKsA6Ho7VbJkVFiD4UQF',\n  'Hold Me Tight',\n  'With The Beatles',\n  48,\n  152),\n ('spotify:track:7rgUYidQh5tH0YlXCoKaYJ',\n  'You Really Got A Hold On Me',\n  'With The Beatles',\n  53,\n  181),\n ('spotify:track:0sIZcoe69iSym9AecvZ7CT',\n  'I Wanna Be Your Man',\n  'With The Beatles',\n  48,\n  120),\n ('spotify:track:5maTh4fY9SlgR3FhRkf040',\n  'Devil In Her Heart',\n  'With The Beatles',\n  47,\n  146),\n ('spotify:track:5vl0sRtrQM1BTSAxQZFqEN',\n  'Not A Second Time',\n  'With The Beatles',\n  47,\n  127),\n ('spotify:track:3zw4FTrVNfy2teEkV9FOvh',\n  \"Money (That's What I Want)\",\n  'With The Beatles',\n  49,\n  170),\n ('spotify:track:5J2CHimS7dWYMImCHkEFaJ',\n  \"A Hard Day's Night\",\n  \"A Hard Day's Night\",\n  69,\n  154),\n ('spotify:track:3pU1CUgPiFfxPCpscwIwQR',\n  'I Should Have Known Better',\n  \"A Hard Day's Night\",\n  57,\n  163),\n ('spotify:track:1hgvykolO4kBIEozATmpyj',\n  'If I Fell',\n  \"A Hard Day's Night\",\n  64,\n  139),\n ('spotify:track:0gd50I2gKioJ59C827EdAY',\n  \"I'm Happy Just To Dance With You\",\n  \"A Hard Day's Night\",\n  55,\n  116),\n ('spotify:track:65vdMBskhx3akkG9vQlSH1',\n  'And I Love Her',\n  \"A Hard Day's Night\",\n  71,\n  150),\n ('spotify:track:0Wzp5pWPoX0YoBg002HXL9',\n  'Tell Me Why',\n  \"A Hard Day's Night\",\n  50,\n  129),\n ('spotify:track:3SdingSsFcZDZAyvcJbgAw',\n  \"Can't Buy Me Love\",\n  \"A Hard Day's Night\",\n  67,\n  132),\n ('spotify:track:70XHAdaMaoLIOVb1hSaeJ4',\n  'Any Time At All',\n  \"A Hard Day's Night\",\n  51,\n  131),\n ('spotify:track:01xMiErR26kH1KCif6uEYI',\n  \"I'll Cry Instead\",\n  \"A Hard Day's Night\",\n  48,\n  106),\n ('spotify:track:0voUr8lubIafUVJlauJxYF',\n  'Things We Said Today',\n  \"A Hard Day's Night\",\n  55,\n  155),\n ('spotify:track:4oLQ0imA5IDtNUnhFKY87q',\n  'When I Get Home',\n  \"A Hard Day's Night\",\n  45,\n  137),\n ('spotify:track:3lSi6qfnp2YZazTzcOLBZk',\n  \"I'll Be Back\",\n  \"A Hard Day's Night\",\n  52,\n  144),\n ('spotify:track:5b9G4dtK3Tdguuy9BO3Nwo',\n  \"You Can't Do That\",\n  \"A Hard Day's Night\",\n  50,\n  155),\n ('spotify:track:4ltC6PrqkTtpcRNi5lvS4z',\n  'No Reply',\n  'Beatles For Sale',\n  54,\n  136),\n ('spotify:track:7wC4EW11mBVxDK3xdC7FTf',\n  \"I'm A Loser\",\n  'Beatles For Sale',\n  49,\n  150),\n ('spotify:track:7cb2SdLm1UMLwdUoWwrZN1',\n  \"Baby's In Black\",\n  'Beatles For Sale',\n  47,\n  125),\n ('spotify:track:7Ho3T7ERfooiAfvODaMQ2N',\n  'Rock And Roll Music',\n  'Beatles For Sale',\n  53,\n  151),\n ('spotify:track:45WX2cfbL8bCIqv3rOq1G3',\n  \"I'll Follow The Sun\",\n  'Beatles For Sale',\n  66,\n  109),\n ('spotify:track:6pPOkr2OxhQ6htrzOiDmq9',\n  'Mr Moonlight',\n  'Beatles For Sale',\n  46,\n  159),\n ('spotify:track:1Dg4dFJr3HW7sbA7vPejre',\n  'Eight Days A Week',\n  'Beatles For Sale',\n  66,\n  164),\n ('spotify:track:42qkSeX6HNJYHxlk6cWoFe',\n  'Words Of Love',\n  'Beatles For Sale',\n  50,\n  124),\n ('spotify:track:2d7GP7Fz1NrfPpo7MzWZgb',\n  \"Honey Don't\",\n  'Beatles For Sale',\n  45,\n  177),\n ('spotify:track:2CxTkdvhDuQrOxl8xXkdJS',\n  'Every Little Thing',\n  'Beatles For Sale',\n  46,\n  124),\n ('spotify:track:4DZAH8eiqSAkMIE9l5D71U',\n  \"Everybody's Trying To Be My Baby\",\n  'Beatles For Sale',\n  44,\n  146),\n ('spotify:track:6C6y4OWK1Ki3FVF1TIonxW',\n  \"What You're Doing\",\n  'Beatles For Sale',\n  45,\n  150),\n ('spotify:track:3kQDIa85ZK8cKVn72NfBnl',\n  \"I Don't Want To Spoil The Party\",\n  'Beatles For Sale',\n  44,\n  154),\n ('spotify:track:7DD7eSuYSC5xk2ArU62esN', 'Help!', 'Help!', 72, 140),\n ('spotify:track:5xcfepnz1v7a83T8An9gjw',\n  'The Night Before',\n  'Help!',\n  54,\n  155),\n ('spotify:track:4F1AgKpuFRMLEgtPETVwZk',\n  \"You've Got To Hide Your Love Away\",\n  'Help!',\n  70,\n  129),\n ('spotify:track:5EzvwjFwdP5Kfl5AZAemzu', 'I Need You', 'Help!', 55, 149),\n ('spotify:track:7hefVXaGsFPesbK6fKwS6F', 'Another Girl', 'Help!', 51, 125),\n ('spotify:track:70HNt0eoBVqr4ss68U8x3B',\n  \"You're Going To Lose That Girl\",\n  'Help!',\n  55,\n  139),\n ('spotify:track:7CZiDzGVjUssMSOXrDNYHL', 'Ticket To Ride', 'Help!', 68, 190),\n ('spotify:track:0IxxqsYBcCHEQ1HqLYJnwx', 'Act Naturally', 'Help!', 50, 150),\n ('spotify:track:2ue1KRstSKHF8jQkIJZiNC', \"It's Only Love\", 'Help!', 54, 116),\n ('spotify:track:0y1LLH0NiwOD5tM3aNMXTr',\n  'You Like Me Too Much',\n  'Help!',\n  48,\n  157),\n ('spotify:track:2jnr9KaaMAmvk0zMcM9UzV',\n  'Tell Me What You See',\n  'Help!',\n  47,\n  158),\n ('spotify:track:788U1Sqej9M6c4iikuDGxO',\n  \"I've Just Seen A Face\",\n  'Help!',\n  64,\n  125),\n ('spotify:track:3BQHpFgAp4l80e1XslIjNI', 'Yesterday', 'Help!', 78, 126),\n ('spotify:track:70Dohn82wv6VtxGesqRzbZ',\n  'Dizzy Miss Lizzy',\n  'Help!',\n  47,\n  177),\n ('spotify:track:06ypiqmILMdVeaiErMFA91',\n  'Drive My Car',\n  'Rubber Soul',\n  66,\n  149),\n ('spotify:track:1H7gMYGykdtwZOV6s1N0by',\n  'Norwegian Wood (This Bird Has Flown)',\n  'Rubber Soul',\n  72,\n  125),\n ('spotify:track:4LLBKnNCrSRrSjSTuiwjE9',\n  \"You Won't See Me\",\n  'Rubber Soul',\n  55,\n  200),\n ('spotify:track:5SUlhldQJtOhUr2GzH5RI7',\n  'Nowhere Man',\n  'Rubber Soul',\n  66,\n  164),\n ('spotify:track:64bKVrkaXQAKx04dLHqCNz',\n  'Think For Yourself',\n  'Rubber Soul',\n  53,\n  139),\n ('spotify:track:4GBaPHvAyj4V2jeobD9tsy', 'The Word', 'Rubber Soul', 53, 163),\n ('spotify:track:5By7Pzgl6TMuVJG168VWzS', 'Michelle', 'Rubber Soul', 68, 162),\n ('spotify:track:19QXdPRZFHI5kNK3tN8Mh7',\n  'What Goes On',\n  'Rubber Soul',\n  51,\n  169),\n ('spotify:track:4gUYV3ktbaOeAK5KrXMWV5',\n  'Run For Your Life',\n  'Rubber Soul',\n  53,\n  141),\n ('spotify:track:7C6hdDIz90Uf5YmdZnYbJJ',\n  'If I Needed Someone',\n  'Rubber Soul',\n  54,\n  142),\n ('spotify:track:0CGbof9amBnsNlRhZ8IY2H', 'Wait', 'Rubber Soul', 53, 135),\n ('spotify:track:3KfbEIOC7YIv90FIfNSZpo',\n  'In My Life',\n  'Rubber Soul',\n  76,\n  146),\n ('spotify:track:5E3BVY66TEDexFutOO5GeS',\n  \"I'm Looking Through You\",\n  'Rubber Soul',\n  58,\n  146),\n ('spotify:track:6tQvjqDIK9GXWIC6mejms8', 'Girl', 'Rubber Soul', 64, 152),\n ('spotify:track:4BRkPBUxOYffM2QXVlq7aC', 'Taxman', 'Revolver', 58, 159),\n ('spotify:track:5GjPQ0eI7AgmOnADn1EO6Q',\n  'Eleanor Rigby',\n  'Revolver',\n  70,\n  127),\n ('spotify:track:2ylCrFiBu98SC0vFfaCent',\n  \"I'm Only Sleeping\",\n  'Revolver',\n  59,\n  180),\n ('spotify:track:4RdJFhfLQcezwN5LsXl4qP', 'Love You To', 'Revolver', 51, 180),\n ('spotify:track:2B4Y9u4ERAFiMo13XPJyGP',\n  'Here, There And Everywhere',\n  'Revolver',\n  67,\n  145),\n ('spotify:track:50xwQXPtfNZFKFeZ0XePWc',\n  'Yellow Submarine',\n  'Revolver',\n  59,\n  159),\n ('spotify:track:3VSuWxZM6x6V3ig5nYtikL',\n  'She Said She Said',\n  'Revolver',\n  54,\n  156),\n ('spotify:track:7HTH1ppjkkOe7RLoBDKXYJ',\n  'Good Day Sunshine',\n  'Revolver',\n  59,\n  129),\n ('spotify:track:4KRgqwb4kvBuTz1utbYxfb',\n  'And Your Bird Can Sing',\n  'Revolver',\n  56,\n  120),\n ('spotify:track:1kDkaFlmkdEZiVUogaP9OZ', 'For No One', 'Revolver', 65, 120),\n ('spotify:track:1ob06Ol8FMIPQgjpg7bMyk',\n  'Doctor Robert',\n  'Revolver',\n  50,\n  134),\n ('spotify:track:7orb0y6ySGdsYZywMoQtsD',\n  'I Want To Tell You',\n  'Revolver',\n  51,\n  148),\n ('spotify:track:00oZhqZIQfL9P5CjOP6JsO',\n  'Tomorrow Never Knows',\n  'Revolver',\n  57,\n  180),\n ('spotify:track:3tGhRLgcCP6SIZU3tbGl7l',\n  'Got To Get You Into My Life',\n  'Revolver',\n  58,\n  149),\n ('spotify:track:4fUKE8EULjQdHF4zb0M8FO',\n  \"Sgt. Pepper's Lonely Hearts Club Band\",\n  \"Sgt. Pepper's Lonely Hearts Club Band\",\n  62,\n  123),\n ('spotify:track:2RnPATK99oGOZygnD2GTO6',\n  'With A Little Help From My Friends',\n  \"Sgt. Pepper's Lonely Hearts Club Band\",\n  67,\n  164),\n ('spotify:track:25yQPHgC35WNnnOUqFhgVR',\n  'Lucy In The Sky With Diamonds',\n  \"Sgt. Pepper's Lonely Hearts Club Band\",\n  68,\n  208),\n ('spotify:track:3LtOmWpTXLhilL5odoKysR',\n  'Getting Better',\n  \"Sgt. Pepper's Lonely Hearts Club Band\",\n  54,\n  168),\n ('spotify:track:3pKKxkeB1pOUMHwWBmKc3Y',\n  'Fixing A Hole',\n  \"Sgt. Pepper's Lonely Hearts Club Band\",\n  54,\n  157),\n ('spotify:track:3PjMtNzwhDHqxoKudm6GvF',\n  \"She's Leaving Home\",\n  \"Sgt. Pepper's Lonely Hearts Club Band\",\n  58,\n  215),\n ('spotify:track:6W35n1UlkvqhfMZstB4BXs',\n  'Being For The Benefit Of Mr. Kite!',\n  \"Sgt. Pepper's Lonely Hearts Club Band\",\n  52,\n  158),\n ('spotify:track:3Umg8CDhO8dOSj7yBTInYb',\n  'Within You Without You',\n  \"Sgt. Pepper's Lonely Hearts Club Band\",\n  53,\n  305),\n ('spotify:track:1NrbnHlR2BFREcyWXHIHip',\n  \"When I'm Sixty Four\",\n  \"Sgt. Pepper's Lonely Hearts Club Band\",\n  65,\n  158),\n ('spotify:track:6h9W5FxX4E9lUFsyq8j1AD',\n  'Lovely Rita',\n  \"Sgt. Pepper's Lonely Hearts Club Band\",\n  55,\n  162),\n ('spotify:track:0xIuNHHcKI1JDuBPlSwzb1',\n  'Good Morning Good Morning',\n  \"Sgt. Pepper's Lonely Hearts Club Band\",\n  50,\n  161),\n ('spotify:track:42ocGQCOT0xYtV3f5kJDsD',\n  \"Sgt. Pepper's Lonely Hearts Club Band - Reprise\",\n  \"Sgt. Pepper's Lonely Hearts Club Band\",\n  51,\n  79),\n ('spotify:track:0hKRSZhUGEhKU6aNSPBACZ',\n  'A Day In The Life',\n  \"Sgt. Pepper's Lonely Hearts Club Band\",\n  64,\n  337),\n ('spotify:track:0j3p1p06deJ7f9xmJ9yG22',\n  'Back In The U.S.S.R.',\n  'The Beatles',\n  63,\n  163),\n ('spotify:track:5NQYyej46WQkgCbnzGD21W',\n  'Dear Prudence',\n  'The Beatles',\n  59,\n  236),\n ('spotify:track:2jAojvUaPoHPFSPpF0UNRo',\n  'Glass Onion',\n  'The Beatles',\n  57,\n  138),\n ('spotify:track:1gFNm7cXfG1vSMcxPpSxec',\n  'Ob-La-Di, Ob-La-Da',\n  'The Beatles',\n  72,\n  189),\n ('spotify:track:1TPcNcmuKlq0PKpYOBgP1U', 'Honey Pie', 'The Beatles', 51, 161),\n ('spotify:track:5Z3Rd1fMcaty8g5Pn7yhBQ',\n  'The Continuing Story Of Bungalow Bill',\n  'The Beatles',\n  52,\n  194),\n ('spotify:track:389QX9Q1eUOEZ19vtzzI9O',\n  'While My Guitar Gently Weeps',\n  'The Beatles',\n  72,\n  285),\n ('spotify:track:71LsKf3xISiOlY1mj7FFPP',\n  'Happiness Is A Warm Gun',\n  'The Beatles',\n  59,\n  165),\n ('spotify:track:1swmf4hFMJYRNA8Rq9PVaW',\n  'Martha My Dear',\n  'The Beatles',\n  55,\n  149),\n ('spotify:track:2X9H5BokS1u5O46YpNYNsZ',\n  \"I'm So Tired\",\n  'The Beatles',\n  56,\n  123),\n ('spotify:track:5jgFfDIR6FR0gvlA56Nakr', 'Blackbird', 'The Beatles', 77, 138),\n ('spotify:track:4ZmjfLdJXbqjAENqk7eWSE', 'Piggies', 'The Beatles', 50, 124),\n ('spotify:track:6j67aNAPeQ31uw4qw4rpLa',\n  'Wild Honey Pie',\n  'The Beatles',\n  50,\n  53),\n ('spotify:track:1ITQbrueGLl581a25XXm9c',\n  'Rocky Raccoon',\n  'The Beatles',\n  58,\n  213),\n ('spotify:track:3T4Kt51PV4k8tx6YCtBgcl',\n  'Good Night',\n  'The Beatles',\n  49,\n  194),\n ('spotify:track:5dZ8PeKKZJLIQAWNTdp8WX',\n  'Revolution 9',\n  'The Beatles',\n  45,\n  502),\n ('spotify:track:5XmetMMUFNXClbiYnGdVmP',\n  'Cry Baby Cry',\n  'The Beatles',\n  50,\n  182),\n ('spotify:track:5iyCSUM7zzficwaGo8GIoc',\n  'Savoy Truffle',\n  'The Beatles',\n  48,\n  174),\n ('spotify:track:1aOzDhi5a1RWWRy5dmYA8I',\n  'Revolution 1',\n  'The Beatles',\n  51,\n  256),\n ('spotify:track:40d2EcaOOCUjDzzo2YvUWn',\n  'Long, Long, Long',\n  'The Beatles',\n  50,\n  186),\n ('spotify:track:0Bs0hUYxz7REyIHH7tRhL2',\n  'Helter Skelter',\n  'The Beatles',\n  61,\n  270),\n ('spotify:track:2tBv9tAdqEbLNDi5smSjbg',\n  'Sexy Sadie',\n  'The Beatles',\n  52,\n  195),\n ('spotify:track:64P3zpRsDHIk7YTpRtaKYL',\n  \"Everybody's Got Something To Hide Except Me And My Monkey\",\n  'The Beatles',\n  50,\n  145),\n ('spotify:track:6TjUg1cTUzWHbal6yQAi7c',\n  \"Mother Nature's Son\",\n  'The Beatles',\n  55,\n  168),\n ('spotify:track:2AsGApoUuN8pTM17Lq9eUd', 'Yer Blues', 'The Beatles', 52, 240),\n ('spotify:track:1ABegtCPBMMJaMpfDyATjE', 'Birthday', 'The Beatles', 55, 163),\n ('spotify:track:5FnpXVgDOk2sLT58qM22Of', 'Julia', 'The Beatles', 55, 177),\n ('spotify:track:09x9v1o51dbqi5H0u7UGfp', 'I Will', 'The Beatles', 66, 106),\n ('spotify:track:4eLIq1nQNwz2qLu8DeiWIp',\n  \"Why Don't We Do It In The Road?\",\n  'The Beatles',\n  51,\n  101),\n ('spotify:track:4zq4rrfHZeZsTbo5vjJXSV',\n  \"Don't Pass Me By\",\n  'The Beatles',\n  51,\n  230),\n ('spotify:track:68BTFws92cRztMS1oQ7Ewj',\n  'All You Need Is Love',\n  'Magical Mystery Tour',\n  66,\n  230),\n ('spotify:track:0JBvtprXP2Z0LP3jmzA7Xp',\n  \"Baby, You're A Rich Man\",\n  'Magical Mystery Tour',\n  53,\n  181),\n ('spotify:track:1h04XMpzGzmAudoI6VHBgA',\n  'Penny Lane',\n  'Magical Mystery Tour',\n  65,\n  181),\n ('spotify:track:3Am0IbOxmvlSXro7N5iSfZ',\n  'Strawberry Fields Forever',\n  'Magical Mystery Tour',\n  70,\n  247),\n ('spotify:track:0vZ97gHhemKm6c64hTfJNA',\n  'Hello, Goodbye',\n  'Magical Mystery Tour',\n  61,\n  209),\n ('spotify:track:6Pq9MmkDQYZiiCDpxnvrf6',\n  'I Am The Walrus',\n  'Magical Mystery Tour',\n  62,\n  276),\n ('spotify:track:1dxbAIfCASqv6jix2R1Taj',\n  'Your Mother Should Know',\n  'Magical Mystery Tour',\n  56,\n  148),\n ('spotify:track:0QIX9BS0AUCQcHYvyrsMkV',\n  'Blue Jay Way',\n  'Magical Mystery Tour',\n  51,\n  235),\n ('spotify:track:1itLKsCWHtLnxALkgBk1Fa',\n  'Flying',\n  'Magical Mystery Tour',\n  51,\n  136),\n ('spotify:track:6rHh8urosEFRI67xVa6fzU',\n  'The Fool On The Hill',\n  'Magical Mystery Tour',\n  58,\n  179),\n ('spotify:track:0qHMhBZqYb99yhX9BHcIkV',\n  'Magical Mystery Tour',\n  'Magical Mystery Tour',\n  54,\n  170),\n ('spotify:track:4phXWLTSlC1BEogSWhJMDD',\n  'Only A Northern Song',\n  'Yellow Submarine',\n  41,\n  204),\n ('spotify:track:2ck8lFrYAch2GPtdhpTHe3',\n  'All Together Now',\n  'Yellow Submarine',\n  44,\n  131),\n ('spotify:track:5xYC2ZJJ9TMJL8BOl85O2R',\n  'Hey Bulldog',\n  'Yellow Submarine',\n  53,\n  191),\n ('spotify:track:2bQZ9BBhP7vSBiyDz7KXnv',\n  \"It's All Too Much\",\n  'Yellow Submarine',\n  42,\n  385),\n ('spotify:track:2EqlS6tkEnglzr7tkKAAYD',\n  'Come Together',\n  'Abbey Road',\n  79,\n  260),\n ('spotify:track:0pNeVovbiZHkulpGeOx1Gj', 'Something', 'Abbey Road', 74, 182),\n ('spotify:track:2S8xyNRJX1XQdo3qnTuovI',\n  \"Maxwell's Silver Hammer\",\n  'Abbey Road',\n  59,\n  208),\n ('spotify:track:2mxByJWOajjiVsLWjNXvDJ',\n  'Oh! Darling',\n  'Abbey Road',\n  67,\n  207),\n ('spotify:track:0suLngfo7rJoetk7Ub6N8l',\n  \"Octopus's Garden\",\n  'Abbey Road',\n  66,\n  171),\n ('spotify:track:3Z25k4ZF6QENy2d9YatsM5',\n  \"I Want You (She's So Heavy)\",\n  'Abbey Road',\n  63,\n  467),\n ('spotify:track:6dGnYIeXmHdcikdzNNDMm2',\n  'Here Comes The Sun',\n  'Abbey Road',\n  84,\n  186),\n ('spotify:track:1rxoyGj1QuPoVi8fOft1Kt', 'Because', 'Abbey Road', 59, 166),\n ('spotify:track:1jOLTO379yIu9aMnCkpMQl',\n  'You Never Give Me Your Money',\n  'Abbey Road',\n  59,\n  243),\n ('spotify:track:4nwKdZID1ht0lDBJ5h2p87', 'Sun King', 'Abbey Road', 57, 146),\n ('spotify:track:4JOyMhad5dD81uGYLGgKrS',\n  'Mean Mr Mustard',\n  'Abbey Road',\n  56,\n  67),\n ('spotify:track:6UCFZ9ZOFRxK8oak7MdPZu', 'Her Majesty', 'Abbey Road', 26, 26),\n ('spotify:track:5aHHf6jrqDRb1fcBmue2kn', 'The End', 'Abbey Road', 58, 142),\n ('spotify:track:5eZrW59C3UgBhkqNlowEID',\n  'Carry That Weight',\n  'Abbey Road',\n  60,\n  96),\n ('spotify:track:01SfTM5nfCou5gQL70r6gs',\n  'Golden Slumbers',\n  'Abbey Road',\n  68,\n  92),\n ('spotify:track:1FTCA6wQwulQFokDddKE68',\n  'Polythene Pam',\n  'Abbey Road',\n  56,\n  73),\n ('spotify:track:2jtUGFsqanQ82zqDlhiKIp',\n  'She Came In Through The Bathroom Window',\n  'Abbey Road',\n  59,\n  119),\n ('spotify:track:0CaBBQsaAiRHhiLmzi7ZRp', 'Two Of Us', 'Let It Be', 59, 217),\n ('spotify:track:4OUmlC67FoPLvQNuE5C7kF', 'Dig A Pony', 'Let It Be', 53, 235),\n ('spotify:track:4dkoqJrP0L8FXftrMZongF',\n  'Across The Universe',\n  'Let It Be',\n  67,\n  228),\n ('spotify:track:2BMqay80iBzZTa608Y1eG1', 'I Me Mine', 'Let It Be', 55, 146),\n ('spotify:track:0eRyOunOVBChlXxIvqwOxH', 'Dig It', 'Let It Be', 46, 50),\n ('spotify:track:7iN1s7xHE4ifF5povM6A48', 'Let It Be', 'Let It Be', 79, 243),\n ('spotify:track:2VsX1BoWSGiuVXGiFSUr6h', 'Maggie Mae', 'Let It Be', 50, 40),\n ('spotify:track:3gwRWIbr5ycEVLIAXrWaw7',\n  \"I've Got A Feeling\",\n  'Let It Be',\n  58,\n  218),\n ('spotify:track:50qHmeex1nPTyQTwBXjSE4',\n  'One After 909',\n  'Let It Be',\n  50,\n  174),\n ('spotify:track:3mlMpmY8oZIBFc39D9zLbh',\n  'The Long And Winding Road',\n  'Let It Be',\n  66,\n  218),\n ('spotify:track:5dpRJkvY8oWMQmQbEQTXhO',\n  'For You Blue',\n  'Let It Be',\n  50,\n  152),\n ('spotify:track:4MLBqAEzNN89o2M9h92Z26', 'Get Back', 'Let It Be', 68, 189),\n ('spotify:track:6hLY3Tz1Xt5kBuKNDTs4ib',\n  'Free As A Bird - Anthology 1 Version',\n  'Anthology 1',\n  50,\n  265),\n ('spotify:track:5frMgt4jqRGJk3yMKfqOyl',\n  'Real Love - Anthology 2 Version',\n  'Anthology 2',\n  51,\n  234),\n ('spotify:track:2k7gS1tS9OHeS3e8MatzgJ',\n  'You Know My Name (Look Up The Number)',\n  'Past Masters (Vols. 1 & 2 / Remastered)',\n  38,\n  260),\n ('spotify:track:7vMCInGW1N1uTFC1LoklEM',\n  'Old Brown Shoe',\n  'Past Masters (Vols. 1 & 2 / Remastered)',\n  36,\n  199),\n ('spotify:track:6r7JAngkBzKGDKRUzLgY2U',\n  'The Ballad Of John And Yoko',\n  'Past Masters (Vols. 1 & 2 / Remastered)',\n  38,\n  180),\n ('spotify:track:2iGtdYI4lI0jDpnxJOqZRw',\n  'Hey Jude',\n  'Past Masters (Vols. 1 & 2 / Remastered)',\n  48,\n  430),\n ('spotify:track:5BhMoGrz5KzG2fA5uzHjZ1',\n  \"Don't Let Me Down - Naked Version\",\n  'Let It Be... Naked',\n  46,\n  199),\n ('spotify:track:3jleJdmTQKNUeupoZd1WVX',\n  'Norwegian Wood (This Bird Has Flown) - Take 1 / Anthology 2 Version',\n  'Anthology 2',\n  34,\n  119),\n ('spotify:track:4tnVkev96FKWFk1wLBYcJA',\n  'Across The Universe - Naked Version',\n  'Let It Be... Naked',\n  44,\n  218),\n ('spotify:track:7nBGBbzfnPiowCvXKJnV9J',\n  'From Me To You',\n  'Past Masters (Vols. 1 & 2 / Remastered)',\n  40,\n  117),\n ('spotify:track:3k6zSunlStXxWF0s1063lk',\n  'Thank You Girl',\n  'Past Masters (Vols. 1 & 2 / Remastered)',\n  39,\n  124),\n ('spotify:track:48JM82SHQTBYkhEYhMaOaa',\n  'She Loves You',\n  'Past Masters (Vols. 1 & 2 / Remastered)',\n  49,\n  141),\n ('spotify:track:4VMOdHVfB57lNhSDadhOBc',\n  \"I'll Get You\",\n  'Past Masters (Vols. 1 & 2 / Remastered)',\n  40,\n  126),\n ('spotify:track:27E39dDg0Bx1RzkF3eJJsb',\n  'I Want To Hold Your Hand',\n  'Past Masters (Vols. 1 & 2 / Remastered)',\n  39,\n  147),\n ('spotify:track:0oQshbv1BFLZ61b1tQ4Eqg',\n  'This Boy',\n  'Past Masters (Vols. 1 & 2 / Remastered)',\n  54,\n  136),\n ('spotify:track:7ds98B8y5BQltzC60Gdkri',\n  'Long Tall Sally',\n  'Past Masters (Vols. 1 & 2 / Remastered)',\n  43,\n  123),\n ('spotify:track:1QQSTB03vIsgjU67UnUPEL',\n  'I Call Your Name',\n  'Past Masters (Vols. 1 & 2 / Remastered)',\n  41,\n  129),\n ('spotify:track:2x7vw79tKsW99s8sbyuvPM',\n  'Slow Down',\n  'Past Masters (Vols. 1 & 2 / Remastered)',\n  37,\n  177),\n ('spotify:track:4jXXFZtmxoYU15WKTIiYrE',\n  'Matchbox',\n  'Past Masters (Vols. 1 & 2 / Remastered)',\n  35,\n  119),\n ('spotify:track:1Q7gCIpOjIIU0bUKcGzrG4',\n  'I Feel Fine',\n  'Past Masters (Vols. 1 & 2 / Remastered)',\n  38,\n  140),\n ('spotify:track:6vsb1bU8oW7iqtjH2GeEaS',\n  \"She's A Woman\",\n  'Past Masters (Vols. 1 & 2 / Remastered)',\n  43,\n  183),\n ('spotify:track:7iTjGs5z7opNGCXyurs0Q7',\n  'Bad Boy',\n  'Past Masters (Vols. 1 & 2 / Remastered)',\n  38,\n  141),\n ('spotify:track:2rQvZscmpb6a7ejDiKprcL',\n  'Yes It Is',\n  'Past Masters (Vols. 1 & 2 / Remastered)',\n  44,\n  162),\n ('spotify:track:5ovYFa8Em47SgPmhBlZb5N',\n  \"I'm Down\",\n  'Past Masters (Vols. 1 & 2 / Remastered)',\n  41,\n  154),\n ('spotify:track:7qbRP2jO0Sq3kTYdEW1v00',\n  'Day Tripper',\n  'Past Masters (Vols. 1 & 2 / Remastered)',\n  42,\n  169),\n ('spotify:track:7tBAxQ6hD4mhr1sYQhwWDP',\n  'We Can Work It Out',\n  'Past Masters (Vols. 1 & 2 / Remastered)',\n  39,\n  135),\n ('spotify:track:4401c08DdNwwGEg8WGCkQf',\n  'Paperback Writer',\n  'Past Masters (Vols. 1 & 2 / Remastered)',\n  38,\n  139),\n ('spotify:track:48TNLcToLs8DWkdj5vYdiW',\n  'Rain',\n  'Past Masters (Vols. 1 & 2 / Remastered)',\n  50,\n  181),\n ('spotify:track:1tM9TBNPjieSOZ2d5VAQ1y',\n  'Lady Madonna',\n  'Past Masters (Vols. 1 & 2 / Remastered)',\n  37,\n  138),\n ('spotify:track:379hxtlY5LvbPQa5LL6dPo',\n  'The Inner Light',\n  'Past Masters (Vols. 1 & 2 / Remastered)',\n  39,\n  156),\n ('spotify:track:5xf0zdP4KCfshyVn02D3Ea',\n  'Kansas City / Hey-Hey-Hey-Hey - Medley',\n  'Beatles For Sale',\n  45,\n  158),\n ('spotify:track:4qh4lu4xf4r3ZkBoyeajuc',\n  'Revolution',\n  'Past Masters (Vols. 1 & 2 / Remastered)',\n  39,\n  205)]"
     },
     "metadata": {},
     "output_type": "display_data"
    }
   ],
   "source": [
    "tracks_data = [(t['track']['uri'],\n",
    "                t['track']['name'].split(' - Remastered')[0].split(' / Remastered')[0],\n",
    "                t['track']['album']['name'].split(' (Remastered)')[0],\n",
    "                t['track']['popularity'],\n",
    "                int(round(t['track']['duration_ms'] / 1000, 0))) for t in tracks]\n",
    "display(len(tracks_data))\n",
    "display(tracks_data[:])"
   ],
   "metadata": {
    "collapsed": false,
    "ExecuteTime": {
     "end_time": "2023-05-12T19:01:06.618610600Z",
     "start_time": "2023-05-12T19:01:06.599910Z"
    }
   }
  },
  {
   "cell_type": "markdown",
   "source": [
    "## Create a list of audio features dictionaries of all tracks from the playlist\n",
    "See [this](https://developer.spotify.com/documentation/web-api/reference/#/operations/get-several-audio-features) for an explanation of the meanings of all these parameters.\n",
    "\n",
    "**Important:** `spot.audio_features()` will accept max 100 URIs!"
   ],
   "metadata": {
    "collapsed": false
   }
  },
  {
   "cell_type": "code",
   "execution_count": 8,
   "outputs": [],
   "source": [
    "offset = 0\n",
    "runs, last_run = divmod(len(tracks), 100)                                                       # how many full runs, 100 tracks each\n",
    "tracks_audio_features_dicts = []\n",
    "\n",
    "if runs > 0:                                                                                    # all full runs, 100 tracks each\n",
    "    for _ in range(runs):\n",
    "        tracks_audio_features_dicts.extend(spot.audio_features(uri_list[offset:(offset+100)]))\n",
    "        offset += 100\n",
    "tracks_audio_features_dicts.extend(spot.audio_features(uri_list[offset:(offset+last_run)]))     # last run, generally < 100 tracks\n",
    "\n",
    "# display(len(tracks_audio_features_dicts))\n",
    "# display(tracks_audio_features_dicts)"
   ],
   "metadata": {
    "collapsed": false,
    "ExecuteTime": {
     "end_time": "2023-05-12T19:02:33.348127300Z",
     "start_time": "2023-05-12T19:02:32.847308100Z"
    }
   }
  },
  {
   "cell_type": "markdown",
   "source": [
    "## Create a list of *(key, mode, tempo, time_signature, valence, danceability, energy, loudness, acousticness, instrumentalness, liveness, speechiness)* tuples of all tracks from the playlist\n",
    "See [this](https://developer.spotify.com/documentation/web-api/reference/#/operations/get-several-audio-features) for an explanation of the meanings of all these parameters.\n",
    "\n",
    "Use `tracks_audio_features_dicts` list created above."
   ],
   "metadata": {
    "collapsed": false
   }
  },
  {
   "cell_type": "code",
   "execution_count": 9,
   "outputs": [],
   "source": [
    "tracks_audio_features = [(t['key'],\n",
    "                          t['mode'],\n",
    "                          t['tempo'],\n",
    "                          t['time_signature'],\n",
    "                          t['valence'],\n",
    "                          t['danceability'],\n",
    "                          t['energy'],\n",
    "                          t['loudness'],\n",
    "                          t['acousticness'],\n",
    "                          t['instrumentalness'],\n",
    "                          t['liveness'],\n",
    "                          t['speechiness']) for t in tracks_audio_features_dicts]\n",
    "\n",
    "# display(len(tracks_audio_features))\n",
    "# display(tracks_audio_features)"
   ],
   "metadata": {
    "collapsed": false,
    "ExecuteTime": {
     "end_time": "2023-05-12T19:03:46.044306500Z",
     "start_time": "2023-05-12T19:03:46.040808Z"
    }
   }
  },
  {
   "cell_type": "markdown",
   "source": [
    "## Join the tuples from *tracks_data* and *tracks_audio_features* pairwise to create *tracks_data_and_audio_features*"
   ],
   "metadata": {
    "collapsed": false
   }
  },
  {
   "cell_type": "code",
   "execution_count": 10,
   "outputs": [],
   "source": [
    "tracks_data_and_audio_features = [(d + af) for d, af in zip(tracks_data, tracks_audio_features)]\n",
    "# display(tracks_data_and_audio_features[:5])"
   ],
   "metadata": {
    "collapsed": false,
    "ExecuteTime": {
     "end_time": "2023-05-12T19:03:57.599412900Z",
     "start_time": "2023-05-12T19:03:57.591093100Z"
    }
   }
  },
  {
   "cell_type": "markdown",
   "source": [
    "## Bundle it all together in the *get_tracks_data()*, *get_tracks_audio_features()* and *get_tracks_df()* functions\n",
    "Assumption: the *.env* file is already created as explained in *spotify_authentication.ipynb*, and its relative path is passed as an argument."
   ],
   "metadata": {
    "collapsed": false
   }
  },
  {
   "cell_type": "markdown",
   "source": [
    "### *get_tracks_data()*"
   ],
   "metadata": {
    "collapsed": false
   }
  },
  {
   "cell_type": "code",
   "execution_count": 11,
   "outputs": [],
   "source": [
    "def get_tracks_data(playlist_id: str, env_file_path: str) -> list:\n",
    "    tracks = get_all_tracks_from_playlist(playlist_id, env_file_path)\n",
    "    tracks_data = [(t['track']['uri'],\n",
    "                    t['track']['name'].split(' - Remastered')[0].split(' / Remastered')[0],\n",
    "                    t['track']['album']['name'].split(' (Remastered)')[0],\n",
    "                    t['track']['popularity'],\n",
    "                    int(round(t['track']['duration_ms'] / 1000, 0))) for t in tracks]\n",
    "    return tracks_data"
   ],
   "metadata": {
    "collapsed": false,
    "ExecuteTime": {
     "end_time": "2023-05-12T19:04:19.306988400Z",
     "start_time": "2023-05-12T19:04:19.304488200Z"
    }
   }
  },
  {
   "cell_type": "code",
   "execution_count": 12,
   "outputs": [
    {
     "data": {
      "text/plain": "[('spotify:track:3KiexfmhxHvG5IgAElmTkd',\n  'I Saw Her Standing There',\n  'Please Please Me',\n  69,\n  174),\n ('spotify:track:40qXGg5nRbcWzcFb26KWkQ',\n  'Misery',\n  'Please Please Me',\n  53,\n  109),\n ('spotify:track:2baEFuU0gQon0hgVRioI1o',\n  'Anna (Go To Him)',\n  'Please Please Me',\n  56,\n  177),\n ('spotify:track:3JQWLa88R35d971o5bIImd',\n  'Chains',\n  'Please Please Me',\n  48,\n  145),\n ('spotify:track:5ZBeML7Lf3FMEVviTyvi8l',\n  'Twist And Shout',\n  'Please Please Me',\n  77,\n  155),\n ('spotify:track:4dessGxnKXmTbHPhVgqODq',\n  \"There's A Place\",\n  'Please Please Me',\n  49,\n  110),\n ('spotify:track:7fh53ta3vAOGJMQ4i5tCHe',\n  'A Taste Of Honey',\n  'Please Please Me',\n  49,\n  123),\n ('spotify:track:7Aobt67JnaF7qN8jCCKvHq',\n  'Do You Want To Know A Secret',\n  'Please Please Me',\n  63,\n  117),\n ('spotify:track:7JxGM1R32ZqfwZou3VtnTg', 'Boys', 'Please Please Me', 50, 146),\n ('spotify:track:7529Z6b1rlGZFFPWjHPeV5',\n  'Ask Me Why',\n  'Please Please Me',\n  50,\n  147),\n ('spotify:track:6EHuOufBeL6vk3TvVJB5qo',\n  'Please Please Me',\n  'Please Please Me',\n  60,\n  121),\n ('spotify:track:2VmB1rF9FtfKUmFHDVnq8Q',\n  \"Baby It's You\",\n  'Please Please Me',\n  54,\n  161),\n ('spotify:track:7Msq9qojB7yORuJvz49iUy',\n  'P.S. I Love You',\n  'Please Please Me',\n  52,\n  124),\n ('spotify:track:3VbGCXWRiouAq8VyMYN2MI',\n  'Love Me Do',\n  'Please Please Me',\n  69,\n  142),\n ('spotify:track:4ekUX4pWizXXksJe0JfS9U',\n  \"It Won't Be Long\",\n  'With The Beatles',\n  53,\n  133),\n ('spotify:track:5tztLBvTlNC15Np2tnQ5Ll',\n  \"All I've Got To Do\",\n  'With The Beatles',\n  53,\n  123),\n ('spotify:track:4joiWvli4qJVEW6qZV2i2J',\n  'All My Loving',\n  'With The Beatles',\n  71,\n  128),\n ('spotify:track:7y1hMqXNa0dKQLZH7CKbUG',\n  \"Don't Bother Me\",\n  'With The Beatles',\n  51,\n  148),\n ('spotify:track:0KogQrSowDnZoU8GSpaxkj',\n  'Little Child',\n  'With The Beatles',\n  44,\n  106),\n ('spotify:track:0ESIjVxnDnCDaTPo6sStHm',\n  'Till There Was You',\n  'With The Beatles',\n  63,\n  134),\n ('spotify:track:6wfK1R6FoLpmUA9lk5ll4T',\n  'Please Mister Postman',\n  'With The Beatles',\n  56,\n  154),\n ('spotify:track:3idqWaBn3mRdsIodCU6uBi',\n  'Roll Over Beethoven',\n  'With The Beatles',\n  54,\n  165),\n ('spotify:track:2RvKsA6Ho7VbJkVFiD4UQF',\n  'Hold Me Tight',\n  'With The Beatles',\n  48,\n  152),\n ('spotify:track:7rgUYidQh5tH0YlXCoKaYJ',\n  'You Really Got A Hold On Me',\n  'With The Beatles',\n  53,\n  181),\n ('spotify:track:0sIZcoe69iSym9AecvZ7CT',\n  'I Wanna Be Your Man',\n  'With The Beatles',\n  48,\n  120),\n ('spotify:track:5maTh4fY9SlgR3FhRkf040',\n  'Devil In Her Heart',\n  'With The Beatles',\n  47,\n  146),\n ('spotify:track:5vl0sRtrQM1BTSAxQZFqEN',\n  'Not A Second Time',\n  'With The Beatles',\n  47,\n  127),\n ('spotify:track:3zw4FTrVNfy2teEkV9FOvh',\n  \"Money (That's What I Want)\",\n  'With The Beatles',\n  49,\n  170),\n ('spotify:track:5J2CHimS7dWYMImCHkEFaJ',\n  \"A Hard Day's Night\",\n  \"A Hard Day's Night\",\n  69,\n  154),\n ('spotify:track:3pU1CUgPiFfxPCpscwIwQR',\n  'I Should Have Known Better',\n  \"A Hard Day's Night\",\n  57,\n  163),\n ('spotify:track:1hgvykolO4kBIEozATmpyj',\n  'If I Fell',\n  \"A Hard Day's Night\",\n  64,\n  139),\n ('spotify:track:0gd50I2gKioJ59C827EdAY',\n  \"I'm Happy Just To Dance With You\",\n  \"A Hard Day's Night\",\n  55,\n  116),\n ('spotify:track:65vdMBskhx3akkG9vQlSH1',\n  'And I Love Her',\n  \"A Hard Day's Night\",\n  71,\n  150),\n ('spotify:track:0Wzp5pWPoX0YoBg002HXL9',\n  'Tell Me Why',\n  \"A Hard Day's Night\",\n  50,\n  129),\n ('spotify:track:3SdingSsFcZDZAyvcJbgAw',\n  \"Can't Buy Me Love\",\n  \"A Hard Day's Night\",\n  67,\n  132),\n ('spotify:track:70XHAdaMaoLIOVb1hSaeJ4',\n  'Any Time At All',\n  \"A Hard Day's Night\",\n  51,\n  131),\n ('spotify:track:01xMiErR26kH1KCif6uEYI',\n  \"I'll Cry Instead\",\n  \"A Hard Day's Night\",\n  48,\n  106),\n ('spotify:track:0voUr8lubIafUVJlauJxYF',\n  'Things We Said Today',\n  \"A Hard Day's Night\",\n  55,\n  155),\n ('spotify:track:4oLQ0imA5IDtNUnhFKY87q',\n  'When I Get Home',\n  \"A Hard Day's Night\",\n  45,\n  137),\n ('spotify:track:3lSi6qfnp2YZazTzcOLBZk',\n  \"I'll Be Back\",\n  \"A Hard Day's Night\",\n  52,\n  144),\n ('spotify:track:5b9G4dtK3Tdguuy9BO3Nwo',\n  \"You Can't Do That\",\n  \"A Hard Day's Night\",\n  50,\n  155),\n ('spotify:track:4ltC6PrqkTtpcRNi5lvS4z',\n  'No Reply',\n  'Beatles For Sale',\n  54,\n  136),\n ('spotify:track:7wC4EW11mBVxDK3xdC7FTf',\n  \"I'm A Loser\",\n  'Beatles For Sale',\n  49,\n  150),\n ('spotify:track:7cb2SdLm1UMLwdUoWwrZN1',\n  \"Baby's In Black\",\n  'Beatles For Sale',\n  47,\n  125),\n ('spotify:track:7Ho3T7ERfooiAfvODaMQ2N',\n  'Rock And Roll Music',\n  'Beatles For Sale',\n  53,\n  151),\n ('spotify:track:45WX2cfbL8bCIqv3rOq1G3',\n  \"I'll Follow The Sun\",\n  'Beatles For Sale',\n  66,\n  109),\n ('spotify:track:6pPOkr2OxhQ6htrzOiDmq9',\n  'Mr Moonlight',\n  'Beatles For Sale',\n  46,\n  159),\n ('spotify:track:1Dg4dFJr3HW7sbA7vPejre',\n  'Eight Days A Week',\n  'Beatles For Sale',\n  66,\n  164),\n ('spotify:track:42qkSeX6HNJYHxlk6cWoFe',\n  'Words Of Love',\n  'Beatles For Sale',\n  50,\n  124),\n ('spotify:track:2d7GP7Fz1NrfPpo7MzWZgb',\n  \"Honey Don't\",\n  'Beatles For Sale',\n  45,\n  177),\n ('spotify:track:2CxTkdvhDuQrOxl8xXkdJS',\n  'Every Little Thing',\n  'Beatles For Sale',\n  46,\n  124),\n ('spotify:track:4DZAH8eiqSAkMIE9l5D71U',\n  \"Everybody's Trying To Be My Baby\",\n  'Beatles For Sale',\n  44,\n  146),\n ('spotify:track:6C6y4OWK1Ki3FVF1TIonxW',\n  \"What You're Doing\",\n  'Beatles For Sale',\n  45,\n  150),\n ('spotify:track:3kQDIa85ZK8cKVn72NfBnl',\n  \"I Don't Want To Spoil The Party\",\n  'Beatles For Sale',\n  44,\n  154),\n ('spotify:track:7DD7eSuYSC5xk2ArU62esN', 'Help!', 'Help!', 72, 140),\n ('spotify:track:5xcfepnz1v7a83T8An9gjw',\n  'The Night Before',\n  'Help!',\n  54,\n  155),\n ('spotify:track:4F1AgKpuFRMLEgtPETVwZk',\n  \"You've Got To Hide Your Love Away\",\n  'Help!',\n  70,\n  129),\n ('spotify:track:5EzvwjFwdP5Kfl5AZAemzu', 'I Need You', 'Help!', 55, 149),\n ('spotify:track:7hefVXaGsFPesbK6fKwS6F', 'Another Girl', 'Help!', 51, 125),\n ('spotify:track:70HNt0eoBVqr4ss68U8x3B',\n  \"You're Going To Lose That Girl\",\n  'Help!',\n  55,\n  139),\n ('spotify:track:7CZiDzGVjUssMSOXrDNYHL', 'Ticket To Ride', 'Help!', 68, 190),\n ('spotify:track:0IxxqsYBcCHEQ1HqLYJnwx', 'Act Naturally', 'Help!', 50, 150),\n ('spotify:track:2ue1KRstSKHF8jQkIJZiNC', \"It's Only Love\", 'Help!', 54, 116),\n ('spotify:track:0y1LLH0NiwOD5tM3aNMXTr',\n  'You Like Me Too Much',\n  'Help!',\n  48,\n  157),\n ('spotify:track:2jnr9KaaMAmvk0zMcM9UzV',\n  'Tell Me What You See',\n  'Help!',\n  47,\n  158),\n ('spotify:track:788U1Sqej9M6c4iikuDGxO',\n  \"I've Just Seen A Face\",\n  'Help!',\n  64,\n  125),\n ('spotify:track:3BQHpFgAp4l80e1XslIjNI', 'Yesterday', 'Help!', 78, 126),\n ('spotify:track:70Dohn82wv6VtxGesqRzbZ',\n  'Dizzy Miss Lizzy',\n  'Help!',\n  47,\n  177),\n ('spotify:track:06ypiqmILMdVeaiErMFA91',\n  'Drive My Car',\n  'Rubber Soul',\n  66,\n  149),\n ('spotify:track:1H7gMYGykdtwZOV6s1N0by',\n  'Norwegian Wood (This Bird Has Flown)',\n  'Rubber Soul',\n  72,\n  125),\n ('spotify:track:4LLBKnNCrSRrSjSTuiwjE9',\n  \"You Won't See Me\",\n  'Rubber Soul',\n  55,\n  200),\n ('spotify:track:5SUlhldQJtOhUr2GzH5RI7',\n  'Nowhere Man',\n  'Rubber Soul',\n  66,\n  164),\n ('spotify:track:64bKVrkaXQAKx04dLHqCNz',\n  'Think For Yourself',\n  'Rubber Soul',\n  53,\n  139),\n ('spotify:track:4GBaPHvAyj4V2jeobD9tsy', 'The Word', 'Rubber Soul', 53, 163),\n ('spotify:track:5By7Pzgl6TMuVJG168VWzS', 'Michelle', 'Rubber Soul', 68, 162),\n ('spotify:track:19QXdPRZFHI5kNK3tN8Mh7',\n  'What Goes On',\n  'Rubber Soul',\n  51,\n  169),\n ('spotify:track:4gUYV3ktbaOeAK5KrXMWV5',\n  'Run For Your Life',\n  'Rubber Soul',\n  53,\n  141),\n ('spotify:track:7C6hdDIz90Uf5YmdZnYbJJ',\n  'If I Needed Someone',\n  'Rubber Soul',\n  54,\n  142),\n ('spotify:track:0CGbof9amBnsNlRhZ8IY2H', 'Wait', 'Rubber Soul', 53, 135),\n ('spotify:track:3KfbEIOC7YIv90FIfNSZpo',\n  'In My Life',\n  'Rubber Soul',\n  76,\n  146),\n ('spotify:track:5E3BVY66TEDexFutOO5GeS',\n  \"I'm Looking Through You\",\n  'Rubber Soul',\n  58,\n  146),\n ('spotify:track:6tQvjqDIK9GXWIC6mejms8', 'Girl', 'Rubber Soul', 64, 152),\n ('spotify:track:4BRkPBUxOYffM2QXVlq7aC', 'Taxman', 'Revolver', 58, 159),\n ('spotify:track:5GjPQ0eI7AgmOnADn1EO6Q',\n  'Eleanor Rigby',\n  'Revolver',\n  70,\n  127),\n ('spotify:track:2ylCrFiBu98SC0vFfaCent',\n  \"I'm Only Sleeping\",\n  'Revolver',\n  59,\n  180),\n ('spotify:track:4RdJFhfLQcezwN5LsXl4qP', 'Love You To', 'Revolver', 51, 180),\n ('spotify:track:2B4Y9u4ERAFiMo13XPJyGP',\n  'Here, There And Everywhere',\n  'Revolver',\n  67,\n  145),\n ('spotify:track:50xwQXPtfNZFKFeZ0XePWc',\n  'Yellow Submarine',\n  'Revolver',\n  59,\n  159),\n ('spotify:track:3VSuWxZM6x6V3ig5nYtikL',\n  'She Said She Said',\n  'Revolver',\n  54,\n  156),\n ('spotify:track:7HTH1ppjkkOe7RLoBDKXYJ',\n  'Good Day Sunshine',\n  'Revolver',\n  59,\n  129),\n ('spotify:track:4KRgqwb4kvBuTz1utbYxfb',\n  'And Your Bird Can Sing',\n  'Revolver',\n  56,\n  120),\n ('spotify:track:1kDkaFlmkdEZiVUogaP9OZ', 'For No One', 'Revolver', 65, 120),\n ('spotify:track:1ob06Ol8FMIPQgjpg7bMyk',\n  'Doctor Robert',\n  'Revolver',\n  50,\n  134),\n ('spotify:track:7orb0y6ySGdsYZywMoQtsD',\n  'I Want To Tell You',\n  'Revolver',\n  51,\n  148),\n ('spotify:track:00oZhqZIQfL9P5CjOP6JsO',\n  'Tomorrow Never Knows',\n  'Revolver',\n  57,\n  180),\n ('spotify:track:3tGhRLgcCP6SIZU3tbGl7l',\n  'Got To Get You Into My Life',\n  'Revolver',\n  58,\n  149),\n ('spotify:track:4fUKE8EULjQdHF4zb0M8FO',\n  \"Sgt. Pepper's Lonely Hearts Club Band\",\n  \"Sgt. Pepper's Lonely Hearts Club Band\",\n  62,\n  123),\n ('spotify:track:2RnPATK99oGOZygnD2GTO6',\n  'With A Little Help From My Friends',\n  \"Sgt. Pepper's Lonely Hearts Club Band\",\n  67,\n  164),\n ('spotify:track:25yQPHgC35WNnnOUqFhgVR',\n  'Lucy In The Sky With Diamonds',\n  \"Sgt. Pepper's Lonely Hearts Club Band\",\n  68,\n  208),\n ('spotify:track:3LtOmWpTXLhilL5odoKysR',\n  'Getting Better',\n  \"Sgt. Pepper's Lonely Hearts Club Band\",\n  54,\n  168),\n ('spotify:track:3pKKxkeB1pOUMHwWBmKc3Y',\n  'Fixing A Hole',\n  \"Sgt. Pepper's Lonely Hearts Club Band\",\n  54,\n  157),\n ('spotify:track:3PjMtNzwhDHqxoKudm6GvF',\n  \"She's Leaving Home\",\n  \"Sgt. Pepper's Lonely Hearts Club Band\",\n  58,\n  215),\n ('spotify:track:6W35n1UlkvqhfMZstB4BXs',\n  'Being For The Benefit Of Mr. Kite!',\n  \"Sgt. Pepper's Lonely Hearts Club Band\",\n  52,\n  158),\n ('spotify:track:3Umg8CDhO8dOSj7yBTInYb',\n  'Within You Without You',\n  \"Sgt. Pepper's Lonely Hearts Club Band\",\n  53,\n  305),\n ('spotify:track:1NrbnHlR2BFREcyWXHIHip',\n  \"When I'm Sixty Four\",\n  \"Sgt. Pepper's Lonely Hearts Club Band\",\n  65,\n  158),\n ('spotify:track:6h9W5FxX4E9lUFsyq8j1AD',\n  'Lovely Rita',\n  \"Sgt. Pepper's Lonely Hearts Club Band\",\n  55,\n  162),\n ('spotify:track:0xIuNHHcKI1JDuBPlSwzb1',\n  'Good Morning Good Morning',\n  \"Sgt. Pepper's Lonely Hearts Club Band\",\n  50,\n  161),\n ('spotify:track:42ocGQCOT0xYtV3f5kJDsD',\n  \"Sgt. Pepper's Lonely Hearts Club Band - Reprise\",\n  \"Sgt. Pepper's Lonely Hearts Club Band\",\n  51,\n  79),\n ('spotify:track:0hKRSZhUGEhKU6aNSPBACZ',\n  'A Day In The Life',\n  \"Sgt. Pepper's Lonely Hearts Club Band\",\n  64,\n  337),\n ('spotify:track:0j3p1p06deJ7f9xmJ9yG22',\n  'Back In The U.S.S.R.',\n  'The Beatles',\n  63,\n  163),\n ('spotify:track:5NQYyej46WQkgCbnzGD21W',\n  'Dear Prudence',\n  'The Beatles',\n  59,\n  236),\n ('spotify:track:2jAojvUaPoHPFSPpF0UNRo',\n  'Glass Onion',\n  'The Beatles',\n  57,\n  138),\n ('spotify:track:1gFNm7cXfG1vSMcxPpSxec',\n  'Ob-La-Di, Ob-La-Da',\n  'The Beatles',\n  72,\n  189),\n ('spotify:track:1TPcNcmuKlq0PKpYOBgP1U', 'Honey Pie', 'The Beatles', 51, 161),\n ('spotify:track:5Z3Rd1fMcaty8g5Pn7yhBQ',\n  'The Continuing Story Of Bungalow Bill',\n  'The Beatles',\n  52,\n  194),\n ('spotify:track:389QX9Q1eUOEZ19vtzzI9O',\n  'While My Guitar Gently Weeps',\n  'The Beatles',\n  72,\n  285),\n ('spotify:track:71LsKf3xISiOlY1mj7FFPP',\n  'Happiness Is A Warm Gun',\n  'The Beatles',\n  59,\n  165),\n ('spotify:track:1swmf4hFMJYRNA8Rq9PVaW',\n  'Martha My Dear',\n  'The Beatles',\n  55,\n  149),\n ('spotify:track:2X9H5BokS1u5O46YpNYNsZ',\n  \"I'm So Tired\",\n  'The Beatles',\n  56,\n  123),\n ('spotify:track:5jgFfDIR6FR0gvlA56Nakr', 'Blackbird', 'The Beatles', 77, 138),\n ('spotify:track:4ZmjfLdJXbqjAENqk7eWSE', 'Piggies', 'The Beatles', 50, 124),\n ('spotify:track:6j67aNAPeQ31uw4qw4rpLa',\n  'Wild Honey Pie',\n  'The Beatles',\n  50,\n  53),\n ('spotify:track:1ITQbrueGLl581a25XXm9c',\n  'Rocky Raccoon',\n  'The Beatles',\n  58,\n  213),\n ('spotify:track:3T4Kt51PV4k8tx6YCtBgcl',\n  'Good Night',\n  'The Beatles',\n  49,\n  194),\n ('spotify:track:5dZ8PeKKZJLIQAWNTdp8WX',\n  'Revolution 9',\n  'The Beatles',\n  45,\n  502),\n ('spotify:track:5XmetMMUFNXClbiYnGdVmP',\n  'Cry Baby Cry',\n  'The Beatles',\n  50,\n  182),\n ('spotify:track:5iyCSUM7zzficwaGo8GIoc',\n  'Savoy Truffle',\n  'The Beatles',\n  48,\n  174),\n ('spotify:track:1aOzDhi5a1RWWRy5dmYA8I',\n  'Revolution 1',\n  'The Beatles',\n  51,\n  256),\n ('spotify:track:40d2EcaOOCUjDzzo2YvUWn',\n  'Long, Long, Long',\n  'The Beatles',\n  50,\n  186),\n ('spotify:track:0Bs0hUYxz7REyIHH7tRhL2',\n  'Helter Skelter',\n  'The Beatles',\n  61,\n  270),\n ('spotify:track:2tBv9tAdqEbLNDi5smSjbg',\n  'Sexy Sadie',\n  'The Beatles',\n  52,\n  195),\n ('spotify:track:64P3zpRsDHIk7YTpRtaKYL',\n  \"Everybody's Got Something To Hide Except Me And My Monkey\",\n  'The Beatles',\n  50,\n  145),\n ('spotify:track:6TjUg1cTUzWHbal6yQAi7c',\n  \"Mother Nature's Son\",\n  'The Beatles',\n  55,\n  168),\n ('spotify:track:2AsGApoUuN8pTM17Lq9eUd', 'Yer Blues', 'The Beatles', 52, 240),\n ('spotify:track:1ABegtCPBMMJaMpfDyATjE', 'Birthday', 'The Beatles', 55, 163),\n ('spotify:track:5FnpXVgDOk2sLT58qM22Of', 'Julia', 'The Beatles', 55, 177),\n ('spotify:track:09x9v1o51dbqi5H0u7UGfp', 'I Will', 'The Beatles', 66, 106),\n ('spotify:track:4eLIq1nQNwz2qLu8DeiWIp',\n  \"Why Don't We Do It In The Road?\",\n  'The Beatles',\n  51,\n  101),\n ('spotify:track:4zq4rrfHZeZsTbo5vjJXSV',\n  \"Don't Pass Me By\",\n  'The Beatles',\n  51,\n  230),\n ('spotify:track:68BTFws92cRztMS1oQ7Ewj',\n  'All You Need Is Love',\n  'Magical Mystery Tour',\n  66,\n  230),\n ('spotify:track:0JBvtprXP2Z0LP3jmzA7Xp',\n  \"Baby, You're A Rich Man\",\n  'Magical Mystery Tour',\n  53,\n  181),\n ('spotify:track:1h04XMpzGzmAudoI6VHBgA',\n  'Penny Lane',\n  'Magical Mystery Tour',\n  65,\n  181),\n ('spotify:track:3Am0IbOxmvlSXro7N5iSfZ',\n  'Strawberry Fields Forever',\n  'Magical Mystery Tour',\n  70,\n  247),\n ('spotify:track:0vZ97gHhemKm6c64hTfJNA',\n  'Hello, Goodbye',\n  'Magical Mystery Tour',\n  61,\n  209),\n ('spotify:track:6Pq9MmkDQYZiiCDpxnvrf6',\n  'I Am The Walrus',\n  'Magical Mystery Tour',\n  62,\n  276),\n ('spotify:track:1dxbAIfCASqv6jix2R1Taj',\n  'Your Mother Should Know',\n  'Magical Mystery Tour',\n  56,\n  148),\n ('spotify:track:0QIX9BS0AUCQcHYvyrsMkV',\n  'Blue Jay Way',\n  'Magical Mystery Tour',\n  51,\n  235),\n ('spotify:track:1itLKsCWHtLnxALkgBk1Fa',\n  'Flying',\n  'Magical Mystery Tour',\n  51,\n  136),\n ('spotify:track:6rHh8urosEFRI67xVa6fzU',\n  'The Fool On The Hill',\n  'Magical Mystery Tour',\n  58,\n  179),\n ('spotify:track:0qHMhBZqYb99yhX9BHcIkV',\n  'Magical Mystery Tour',\n  'Magical Mystery Tour',\n  54,\n  170),\n ('spotify:track:4phXWLTSlC1BEogSWhJMDD',\n  'Only A Northern Song',\n  'Yellow Submarine',\n  41,\n  204),\n ('spotify:track:2ck8lFrYAch2GPtdhpTHe3',\n  'All Together Now',\n  'Yellow Submarine',\n  44,\n  131),\n ('spotify:track:5xYC2ZJJ9TMJL8BOl85O2R',\n  'Hey Bulldog',\n  'Yellow Submarine',\n  53,\n  191),\n ('spotify:track:2bQZ9BBhP7vSBiyDz7KXnv',\n  \"It's All Too Much\",\n  'Yellow Submarine',\n  42,\n  385),\n ('spotify:track:2EqlS6tkEnglzr7tkKAAYD',\n  'Come Together',\n  'Abbey Road',\n  79,\n  260),\n ('spotify:track:0pNeVovbiZHkulpGeOx1Gj', 'Something', 'Abbey Road', 74, 182),\n ('spotify:track:2S8xyNRJX1XQdo3qnTuovI',\n  \"Maxwell's Silver Hammer\",\n  'Abbey Road',\n  59,\n  208),\n ('spotify:track:2mxByJWOajjiVsLWjNXvDJ',\n  'Oh! Darling',\n  'Abbey Road',\n  67,\n  207),\n ('spotify:track:0suLngfo7rJoetk7Ub6N8l',\n  \"Octopus's Garden\",\n  'Abbey Road',\n  66,\n  171),\n ('spotify:track:3Z25k4ZF6QENy2d9YatsM5',\n  \"I Want You (She's So Heavy)\",\n  'Abbey Road',\n  63,\n  467),\n ('spotify:track:6dGnYIeXmHdcikdzNNDMm2',\n  'Here Comes The Sun',\n  'Abbey Road',\n  84,\n  186),\n ('spotify:track:1rxoyGj1QuPoVi8fOft1Kt', 'Because', 'Abbey Road', 59, 166),\n ('spotify:track:1jOLTO379yIu9aMnCkpMQl',\n  'You Never Give Me Your Money',\n  'Abbey Road',\n  59,\n  243),\n ('spotify:track:4nwKdZID1ht0lDBJ5h2p87', 'Sun King', 'Abbey Road', 57, 146),\n ('spotify:track:4JOyMhad5dD81uGYLGgKrS',\n  'Mean Mr Mustard',\n  'Abbey Road',\n  56,\n  67),\n ('spotify:track:6UCFZ9ZOFRxK8oak7MdPZu', 'Her Majesty', 'Abbey Road', 26, 26),\n ('spotify:track:5aHHf6jrqDRb1fcBmue2kn', 'The End', 'Abbey Road', 58, 142),\n ('spotify:track:5eZrW59C3UgBhkqNlowEID',\n  'Carry That Weight',\n  'Abbey Road',\n  60,\n  96),\n ('spotify:track:01SfTM5nfCou5gQL70r6gs',\n  'Golden Slumbers',\n  'Abbey Road',\n  68,\n  92),\n ('spotify:track:1FTCA6wQwulQFokDddKE68',\n  'Polythene Pam',\n  'Abbey Road',\n  56,\n  73),\n ('spotify:track:2jtUGFsqanQ82zqDlhiKIp',\n  'She Came In Through The Bathroom Window',\n  'Abbey Road',\n  59,\n  119),\n ('spotify:track:0CaBBQsaAiRHhiLmzi7ZRp', 'Two Of Us', 'Let It Be', 59, 217),\n ('spotify:track:4OUmlC67FoPLvQNuE5C7kF', 'Dig A Pony', 'Let It Be', 53, 235),\n ('spotify:track:4dkoqJrP0L8FXftrMZongF',\n  'Across The Universe',\n  'Let It Be',\n  67,\n  228),\n ('spotify:track:2BMqay80iBzZTa608Y1eG1', 'I Me Mine', 'Let It Be', 55, 146),\n ('spotify:track:0eRyOunOVBChlXxIvqwOxH', 'Dig It', 'Let It Be', 46, 50),\n ('spotify:track:7iN1s7xHE4ifF5povM6A48', 'Let It Be', 'Let It Be', 79, 243),\n ('spotify:track:2VsX1BoWSGiuVXGiFSUr6h', 'Maggie Mae', 'Let It Be', 50, 40),\n ('spotify:track:3gwRWIbr5ycEVLIAXrWaw7',\n  \"I've Got A Feeling\",\n  'Let It Be',\n  58,\n  218),\n ('spotify:track:50qHmeex1nPTyQTwBXjSE4',\n  'One After 909',\n  'Let It Be',\n  50,\n  174),\n ('spotify:track:3mlMpmY8oZIBFc39D9zLbh',\n  'The Long And Winding Road',\n  'Let It Be',\n  66,\n  218),\n ('spotify:track:5dpRJkvY8oWMQmQbEQTXhO',\n  'For You Blue',\n  'Let It Be',\n  50,\n  152),\n ('spotify:track:4MLBqAEzNN89o2M9h92Z26', 'Get Back', 'Let It Be', 68, 189),\n ('spotify:track:6hLY3Tz1Xt5kBuKNDTs4ib',\n  'Free As A Bird - Anthology 1 Version',\n  'Anthology 1',\n  50,\n  265),\n ('spotify:track:5frMgt4jqRGJk3yMKfqOyl',\n  'Real Love - Anthology 2 Version',\n  'Anthology 2',\n  51,\n  234),\n ('spotify:track:2k7gS1tS9OHeS3e8MatzgJ',\n  'You Know My Name (Look Up The Number)',\n  'Past Masters (Vols. 1 & 2 / Remastered)',\n  38,\n  260),\n ('spotify:track:7vMCInGW1N1uTFC1LoklEM',\n  'Old Brown Shoe',\n  'Past Masters (Vols. 1 & 2 / Remastered)',\n  36,\n  199),\n ('spotify:track:6r7JAngkBzKGDKRUzLgY2U',\n  'The Ballad Of John And Yoko',\n  'Past Masters (Vols. 1 & 2 / Remastered)',\n  38,\n  180),\n ('spotify:track:2iGtdYI4lI0jDpnxJOqZRw',\n  'Hey Jude',\n  'Past Masters (Vols. 1 & 2 / Remastered)',\n  48,\n  430),\n ('spotify:track:5BhMoGrz5KzG2fA5uzHjZ1',\n  \"Don't Let Me Down - Naked Version\",\n  'Let It Be... Naked',\n  46,\n  199),\n ('spotify:track:3jleJdmTQKNUeupoZd1WVX',\n  'Norwegian Wood (This Bird Has Flown) - Take 1 / Anthology 2 Version',\n  'Anthology 2',\n  34,\n  119),\n ('spotify:track:4tnVkev96FKWFk1wLBYcJA',\n  'Across The Universe - Naked Version',\n  'Let It Be... Naked',\n  44,\n  218),\n ('spotify:track:7nBGBbzfnPiowCvXKJnV9J',\n  'From Me To You',\n  'Past Masters (Vols. 1 & 2 / Remastered)',\n  40,\n  117),\n ('spotify:track:3k6zSunlStXxWF0s1063lk',\n  'Thank You Girl',\n  'Past Masters (Vols. 1 & 2 / Remastered)',\n  39,\n  124),\n ('spotify:track:48JM82SHQTBYkhEYhMaOaa',\n  'She Loves You',\n  'Past Masters (Vols. 1 & 2 / Remastered)',\n  49,\n  141),\n ('spotify:track:4VMOdHVfB57lNhSDadhOBc',\n  \"I'll Get You\",\n  'Past Masters (Vols. 1 & 2 / Remastered)',\n  40,\n  126),\n ('spotify:track:27E39dDg0Bx1RzkF3eJJsb',\n  'I Want To Hold Your Hand',\n  'Past Masters (Vols. 1 & 2 / Remastered)',\n  39,\n  147),\n ('spotify:track:0oQshbv1BFLZ61b1tQ4Eqg',\n  'This Boy',\n  'Past Masters (Vols. 1 & 2 / Remastered)',\n  54,\n  136),\n ('spotify:track:7ds98B8y5BQltzC60Gdkri',\n  'Long Tall Sally',\n  'Past Masters (Vols. 1 & 2 / Remastered)',\n  43,\n  123),\n ('spotify:track:1QQSTB03vIsgjU67UnUPEL',\n  'I Call Your Name',\n  'Past Masters (Vols. 1 & 2 / Remastered)',\n  41,\n  129),\n ('spotify:track:2x7vw79tKsW99s8sbyuvPM',\n  'Slow Down',\n  'Past Masters (Vols. 1 & 2 / Remastered)',\n  37,\n  177),\n ('spotify:track:4jXXFZtmxoYU15WKTIiYrE',\n  'Matchbox',\n  'Past Masters (Vols. 1 & 2 / Remastered)',\n  35,\n  119),\n ('spotify:track:1Q7gCIpOjIIU0bUKcGzrG4',\n  'I Feel Fine',\n  'Past Masters (Vols. 1 & 2 / Remastered)',\n  38,\n  140),\n ('spotify:track:6vsb1bU8oW7iqtjH2GeEaS',\n  \"She's A Woman\",\n  'Past Masters (Vols. 1 & 2 / Remastered)',\n  43,\n  183),\n ('spotify:track:7iTjGs5z7opNGCXyurs0Q7',\n  'Bad Boy',\n  'Past Masters (Vols. 1 & 2 / Remastered)',\n  38,\n  141),\n ('spotify:track:2rQvZscmpb6a7ejDiKprcL',\n  'Yes It Is',\n  'Past Masters (Vols. 1 & 2 / Remastered)',\n  44,\n  162),\n ('spotify:track:5ovYFa8Em47SgPmhBlZb5N',\n  \"I'm Down\",\n  'Past Masters (Vols. 1 & 2 / Remastered)',\n  41,\n  154),\n ('spotify:track:7qbRP2jO0Sq3kTYdEW1v00',\n  'Day Tripper',\n  'Past Masters (Vols. 1 & 2 / Remastered)',\n  42,\n  169),\n ('spotify:track:7tBAxQ6hD4mhr1sYQhwWDP',\n  'We Can Work It Out',\n  'Past Masters (Vols. 1 & 2 / Remastered)',\n  39,\n  135),\n ('spotify:track:4401c08DdNwwGEg8WGCkQf',\n  'Paperback Writer',\n  'Past Masters (Vols. 1 & 2 / Remastered)',\n  38,\n  139),\n ('spotify:track:48TNLcToLs8DWkdj5vYdiW',\n  'Rain',\n  'Past Masters (Vols. 1 & 2 / Remastered)',\n  50,\n  181),\n ('spotify:track:1tM9TBNPjieSOZ2d5VAQ1y',\n  'Lady Madonna',\n  'Past Masters (Vols. 1 & 2 / Remastered)',\n  37,\n  138),\n ('spotify:track:379hxtlY5LvbPQa5LL6dPo',\n  'The Inner Light',\n  'Past Masters (Vols. 1 & 2 / Remastered)',\n  39,\n  156),\n ('spotify:track:5xf0zdP4KCfshyVn02D3Ea',\n  'Kansas City / Hey-Hey-Hey-Hey - Medley',\n  'Beatles For Sale',\n  45,\n  158),\n ('spotify:track:4qh4lu4xf4r3ZkBoyeajuc',\n  'Revolution',\n  'Past Masters (Vols. 1 & 2 / Remastered)',\n  39,\n  205)]"
     },
     "metadata": {},
     "output_type": "display_data"
    }
   ],
   "source": [
    "# Test get_tracks(data)\n",
    "display(get_tracks_data(THE_BEATLES_PLAYLIST_URL_1, 'env/.env'))"
   ],
   "metadata": {
    "collapsed": false,
    "ExecuteTime": {
     "end_time": "2023-05-12T19:04:24.137730800Z",
     "start_time": "2023-05-12T19:04:23.361070100Z"
    }
   }
  },
  {
   "cell_type": "markdown",
   "source": [
    "### *get_tracks_audio_features()*"
   ],
   "metadata": {
    "collapsed": false
   }
  },
  {
   "cell_type": "code",
   "execution_count": 13,
   "outputs": [],
   "source": [
    "def get_tracks_audio_features(playlist_id: str, env_file_path: str) -> list:\n",
    "    spot = get_spotify_object('env/.env')\n",
    "    tracks = get_all_tracks_from_playlist(playlist_id, env_file_path)\n",
    "    uri_list = [t['track']['uri'] for t in tracks]\n",
    "\n",
    "    offset = 0\n",
    "    runs, last_run = divmod(len(tracks), 100)                                                       # how many full runs, 100 tracks each\n",
    "    tracks_audio_features_dicts = []\n",
    "\n",
    "    if runs > 0:                                                                                    # all full runs, 100 tracks each\n",
    "        for _ in range(runs):\n",
    "            tracks_audio_features_dicts.extend(spot.audio_features(uri_list[offset:(offset+100)]))\n",
    "            offset += 100\n",
    "    tracks_audio_features_dicts.extend(spot.audio_features(uri_list[offset:(offset+last_run)]))     # last run, < 100 tracks\n",
    "\n",
    "    tracks_audio_features = [(t['key'],\n",
    "                              t['mode'],\n",
    "                              t['tempo'],\n",
    "                              t['time_signature'],\n",
    "                              t['valence'],\n",
    "                              t['danceability'],\n",
    "                              t['energy'],\n",
    "                              t['loudness'],\n",
    "                              t['acousticness'],\n",
    "                              t['instrumentalness'],\n",
    "                              t['liveness'],\n",
    "                              t['speechiness']) for t in tracks_audio_features_dicts]\n",
    "\n",
    "    return tracks_audio_features"
   ],
   "metadata": {
    "collapsed": false,
    "ExecuteTime": {
     "end_time": "2023-05-12T19:04:36.421607900Z",
     "start_time": "2023-05-12T19:04:36.416830Z"
    }
   }
  },
  {
   "cell_type": "code",
   "execution_count": 14,
   "outputs": [
    {
     "data": {
      "text/plain": "[(4, 1, 160.109, 4, 0.971, 0.491, 0.801, -9.835, 0.27, 0, 0.0665, 0.0361),\n (0, 1, 133.348, 4, 0.882, 0.591, 0.605, -10.925, 0.707, 0, 0.309, 0.0413),\n (2, 1, 109.286, 4, 0.835, 0.608, 0.565, -11.06, 0.635, 0, 0.0601, 0.0336),\n (10, 1, 129.884, 4, 0.929, 0.654, 0.561, -10.551, 0.608, 0, 0.129, 0.0304),\n (2,\n  1,\n  124.631,\n  4,\n  0.937,\n  0.482,\n  0.849,\n  -9.198,\n  0.641,\n  7.74e-06,\n  0.0414,\n  0.0452),\n (4,\n  1,\n  140.928,\n  4,\n  0.927,\n  0.455,\n  0.582,\n  -10.009,\n  0.629,\n  4.22e-06,\n  0.172,\n  0.0292),\n (1, 0, 101.408, 3, 0.412, 0.42, 0.372, -11.416, 0.698, 0, 0.104, 0.0327),\n (4, 1, 124.451, 4, 0.609, 0.673, 0.349, -12.414, 0.608, 0, 0.38, 0.0368),\n (4, 1, 142.445, 4, 0.822, 0.402, 0.86, -10.31, 0.607, 0, 0.736, 0.0504),\n (4, 1, 133.942, 4, 0.597, 0.605, 0.394, -11.33, 0.767, 0, 0.0967, 0.0378),\n (4, 1, 139.388, 4, 0.706, 0.527, 0.48, -9.61, 0.334, 0, 0.0702, 0.028),\n (4, 0, 112.421, 4, 0.879, 0.608, 0.494, -12.211, 0.778, 0, 0.0926, 0.0345),\n (2, 1, 134.435, 4, 0.77, 0.635, 0.656, -8.5, 0.389, 0.00127, 0.0828, 0.0291),\n (0, 1, 147.997, 4, 0.744, 0.52, 0.829, -6.228, 0.386, 6.2e-05, 0.227, 0.0806),\n (4, 1, 133.117, 4, 0.862, 0.472, 0.673, -8.853, 0.284, 0, 0.206, 0.0318),\n (1, 0, 119.403, 4, 0.879, 0.49, 0.579, -10.301, 0.217, 0, 0.0644, 0.0344),\n (1, 0, 77.56, 4, 0.9, 0.416, 0.563, -8.724, 0.207, 0, 0.343, 0.0298),\n (2, 1, 170.377, 4, 0.916, 0.371, 0.724, -9.792, 0.554, 0, 0.299, 0.0562),\n (9, 1, 75.596, 4, 0.886, 0.526, 0.858, -8.533, 0.292, 0.001, 0.353, 0.0476),\n (5, 1, 122.421, 4, 0.646, 0.727, 0.338, -13.887, 0.79, 0, 0.105, 0.0454),\n (9, 1, 122.546, 4, 0.961, 0.552, 0.644, -9.129, 0.675, 0, 0.36, 0.0372),\n (2, 1, 160.673, 4, 0.967, 0.351, 0.749, -9.435, 0.289, 0, 0.0952, 0.0628),\n (5, 1, 135.731, 4, 0.963, 0.54, 0.744, -9.637, 0.664, 0, 0.21, 0.0312),\n (9, 1, 77.643, 4, 0.687, 0.373, 0.388, -9.31, 0.525, 0, 0.267, 0.0337),\n (9, 1, 99.138, 4, 0.683, 0.553, 0.914, -8.232, 0.477, 0, 0.292, 0.0415),\n (7, 1, 121.072, 4, 0.966, 0.618, 0.622, -8.861, 0.227, 0, 0.0438, 0.0296),\n (7, 1, 124.848, 4, 0.961, 0.471, 0.817, -9.999, 0.213, 0, 0.498, 0.0372),\n (11, 0, 128.816, 1, 0.923, 0.545, 0.853, -8.369, 0.425, 0, 0.266, 0.0394),\n (0, 1, 138.514, 4, 0.797, 0.59, 0.805, -6.481, 0.137, 0, 0.0996, 0.0371),\n (7, 1, 130.704, 4, 0.91, 0.682, 0.444, -7.689, 0.257, 0, 0.115, 0.0289),\n (2, 1, 108.211, 4, 0.568, 0.665, 0.31, -8.928, 0.68, 0, 0.0877, 0.0278),\n (6, 0, 132.115, 4, 0.887, 0.658, 0.537, -7.535, 0.138, 0, 0.0572, 0.0307),\n (1, 0, 113.312, 4, 0.636, 0.767, 0.331, -10.777, 0.64, 0, 0.0681, 0.0337),\n (11, 0, 150.942, 3, 0.797, 0.267, 0.688, -6.309, 0.586, 0, 0.307, 0.0388),\n (0, 1, 170.72, 4, 0.842, 0.483, 0.677, -5.91, 0.283, 0, 0.321, 0.0593),\n (2,\n  1,\n  141.016,\n  4,\n  0.744,\n  0.612,\n  0.719,\n  -7.026,\n  0.366,\n  3.88e-06,\n  0.437,\n  0.0398),\n (7, 1, 96.711, 4, 0.96, 0.643, 0.73, -6.859, 0.0917, 0, 0.253, 0.0347),\n (2, 0, 137.054, 4, 0.516, 0.551, 0.575, -8.208, 0.239, 0, 0.112, 0.0332),\n (9, 0, 125.375, 4, 0.64, 0.568, 0.793, -6.201, 0.384, 0, 0.388, 0.0482),\n (9, 1, 123.902, 4, 0.641, 0.721, 0.527, -7.224, 0.744, 0, 0.186, 0.0293),\n (0, 1, 129.161, 4, 0.961, 0.612, 0.788, -6.251, 0.367, 0, 0.382, 0.0335),\n (0, 1, 124.251, 4, 0.869, 0.718, 0.593, -9.976, 0.67, 0, 0.172, 0.0377),\n (7,\n  1,\n  89.877,\n  4,\n  0.856,\n  0.492,\n  0.628,\n  -7.813,\n  0.567,\n  1.07e-06,\n  0.267,\n  0.0439),\n (9, 1, 202.97, 3, 0.876, 0.374, 0.596, -7.666, 0.434, 0, 0.098, 0.0416),\n (9, 1, 167.092, 4, 0.965, 0.457, 0.917, -6.213, 0.566, 0, 0.333, 0.0441),\n (0, 1, 133.754, 4, 0.625, 0.689, 0.313, -10.073, 0.789, 0, 0.144, 0.0366),\n (6,\n  1,\n  126.127,\n  5,\n  0.589,\n  0.631,\n  0.424,\n  -9.106,\n  0.796,\n  0.000143,\n  0.118,\n  0.0438),\n (9, 1, 138.134, 4, 0.744, 0.652, 0.583, -7.811, 0.412, 0, 0.119, 0.038),\n (9, 1, 122.358, 4, 0.85, 0.551, 0.533, -9.8, 0.323, 0.722, 0.173, 0.0297),\n (4,\n  1,\n  162.438,\n  4,\n  0.735,\n  0.629,\n  0.545,\n  -11.466,\n  0.473,\n  5.08e-05,\n  0.0854,\n  0.0348),\n (2, 1, 123.227, 4, 0.678, 0.74, 0.49, -9.095, 0.488, 0, 0.103, 0.038),\n (4, 1, 85.172, 4, 0.943, 0.543, 0.806, -7.231, 0.466, 0, 0.134, 0.0385),\n (2, 1, 129.506, 4, 0.825, 0.695, 0.53, -8.309, 0.301, 2e-06, 0.0583, 0.0403),\n (7, 1, 95.438, 4, 0.889, 0.533, 0.668, -7.237, 0.451, 0, 0.149, 0.033),\n (6, 0, 95.003, 4, 0.763, 0.534, 0.725, -7.576, 0.188, 0, 0.0994, 0.0332),\n (2, 1, 84.496, 4, 0.632, 0.461, 0.762, -6.727, 0.0537, 0, 0.238, 0.0379),\n (7, 1, 184.267, 3, 0.378, 0.398, 0.392, -9.05, 0.207, 0, 0.102, 0.0282),\n (9, 1, 136.215, 4, 0.638, 0.601, 0.489, -8.554, 0.277, 0, 0.0988, 0.0455),\n (9, 1, 88.657, 4, 0.822, 0.516, 0.638, -7.453, 0.238, 0, 0.333, 0.0314),\n (4, 1, 131.975, 4, 0.818, 0.533, 0.66, -7.694, 0.346, 0, 0.26, 0.0337),\n (9, 1, 123.419, 4, 0.749, 0.519, 0.85, -6.777, 0.0457, 0, 0.233, 0.0678),\n (7, 1, 93.02, 4, 0.944, 0.702, 0.447, -10.122, 0.366, 0, 0.153, 0.0308),\n (0, 1, 113.155, 3, 0.685, 0.629, 0.551, -8.281, 0.22, 0, 0.0432, 0.0256),\n (7, 1, 88.316, 4, 0.899, 0.555, 0.57, -7.869, 0.415, 0, 0.191, 0.0302),\n (7, 1, 136.675, 4, 0.7, 0.592, 0.796, -8.125, 0.061, 0, 0.131, 0.0429),\n (9, 1, 120.418, 3, 0.913, 0.647, 0.56, -8.809, 0.723, 0, 0.118, 0.0387),\n (5, 1, 96.529, 4, 0.315, 0.332, 0.179, -11.83, 0.879, 0, 0.0886, 0.0326),\n (9,\n  1,\n  136.037,\n  4,\n  0.918,\n  0.373,\n  0.934,\n  -6.753,\n  0.116,\n  0.00445,\n  0.0962,\n  0.0591),\n (2, 1, 122.463, 4, 0.82, 0.754, 0.571, -8.547, 0.0173, 0, 0.3, 0.0421),\n (4,\n  1,\n  176.625,\n  3,\n  0.65,\n  0.425,\n  0.369,\n  -11.876,\n  0.183,\n  0.00126,\n  0.112,\n  0.0379),\n (9, 1, 115.941, 4, 0.473, 0.488, 0.539, -8.752, 0.136, 0, 0.0538, 0.0304),\n (4, 1, 121.402, 4, 0.687, 0.534, 0.624, -9.589, 0.00797, 0, 0.128, 0.0462),\n (0, 1, 130.544, 4, 0.799, 0.529, 0.567, -9.796, 0.0124, 0, 0.0729, 0.0282),\n (0, 1, 120.773, 4, 0.792, 0.59, 0.641, -9.687, 0.00682, 0, 0.0553, 0.0416),\n (5, 0, 117.403, 4, 0.666, 0.578, 0.29, -12.501, 0.652, 0, 0.105, 0.0341),\n (4,\n  1,\n  96.93,\n  4,\n  0.765,\n  0.67,\n  0.776,\n  -10.035,\n  0.0168,\n  3.01e-06,\n  0.0732,\n  0.0749),\n (2, 1, 176.732, 4, 0.822, 0.563, 0.705, -9.232, 0.0103, 0, 0.0552, 0.103),\n (9, 1, 127.387, 4, 0.796, 0.492, 0.755, -9.273, 0.00748, 0, 0.102, 0.0331),\n (6, 0, 127.201, 4, 0.657, 0.552, 0.487, -10.574, 0.0175, 0, 0.105, 0.04),\n (9, 1, 103.239, 4, 0.435, 0.688, 0.435, -11.359, 0.449, 0, 0.113, 0.0323),\n (1, 1, 85.843, 4, 0.774, 0.667, 0.498, -11.027, 0.00772, 0, 0.0481, 0.0364),\n (5, 0, 96.615, 4, 0.893, 0.699, 0.294, -13.205, 0.587, 0, 0.117, 0.0294),\n (7, 1, 133.586, 4, 0.783, 0.469, 0.596, -8.348, 0.0101, 0, 0.321, 0.0749),\n (4,\n  0,\n  137.831,\n  4,\n  0.813,\n  0.581,\n  0.28,\n  -9.091,\n  0.936,\n  1.56e-05,\n  0.305,\n  0.0381),\n (8, 0, 103.477, 4, 0.698, 0.494, 0.47, -9.599, 0.21, 0, 0.28, 0.0301),\n (5,\n  1,\n  123.986,\n  4,\n  0.707,\n  0.391,\n  0.593,\n  -8.999,\n  0.7,\n  0.000249,\n  0.0829,\n  0.0413),\n (7,\n  1,\n  165.361,\n  4,\n  0.36,\n  0.29,\n  0.247,\n  -12.125,\n  0.921,\n  0.00565,\n  0.0917,\n  0.0383),\n (1, 1, 111.398, 4, 0.696, 0.604, 0.549, -9.873, 0.531, 0, 0.438, 0.0389),\n (3, 1, 106.476, 4, 0.672, 0.329, 0.678, -7.878, 0.103, 0.168, 0.843, 0.0344),\n (11, 1, 117.331, 3, 0.571, 0.77, 0.496, -8.45, 0.719, 0, 0.123, 0.0468),\n (4, 1, 132.59, 4, 0.966, 0.555, 0.65, -6.936, 0.0067, 0.0491, 0.236, 0.0282),\n (1, 0, 81.208, 4, 0.713, 0.483, 0.351, -10.487, 0.783, 0, 0.115, 0.0278),\n (4, 1, 164.626, 4, 0.574, 0.394, 0.64, -8.992, 0.164, 0.139, 0.153, 0.0488),\n (9,\n  1,\n  127.492,\n  4,\n  0.449,\n  0.493,\n  0.525,\n  -9.289,\n  0.182,\n  4.4e-06,\n  0.148,\n  0.0315),\n (5,\n  1,\n  125.887,\n  4,\n  0.0534,\n  0.38,\n  0.829,\n  -6.105,\n  8.4e-05,\n  0.00208,\n  0.342,\n  0.0405),\n (0,\n  1,\n  136.679,\n  4,\n  0.711,\n  0.521,\n  0.524,\n  -6.136,\n  0.42,\n  9.27e-06,\n  0.0838,\n  0.0302),\n (7,\n  1,\n  95.513,\n  4,\n  0.583,\n  0.451,\n  0.673,\n  -9.115,\n  0.0857,\n  0.00225,\n  0.797,\n  0.0734),\n (4, 1, 112.035, 4, 0.803, 0.705, 0.515, -9.343, 0.365, 0, 0.389, 0.0337),\n (2, 1, 65.09, 1, 0.668, 0.311, 0.325, -9.042, 0.0469, 0, 0.139, 0.0283),\n (0,\n  1,\n  121.672,\n  4,\n  0.764,\n  0.632,\n  0.471,\n  -7.887,\n  0.313,\n  5.08e-06,\n  0.0712,\n  0.0348),\n (0, 0, 112.984, 4, 0.619, 0.469, 0.507, -8.917, 0.382, 0, 0.0783, 0.0451),\n (4, 1, 127.581, 3, 0.393, 0.381, 0.214, -11.629, 0.944, 0, 0.106, 0.0337),\n (0, 1, 111.874, 4, 0.71, 0.526, 0.413, -9.865, 0.338, 0, 0.0992, 0.0446),\n (6,\n  1,\n  126.166,\n  4,\n  0.354,\n  0.352,\n  0.479,\n  -9.965,\n  0.339,\n  0.000353,\n  0.486,\n  0.0338),\n (1,\n  1,\n  140.411,\n  4,\n  0.661,\n  0.704,\n  0.241,\n  -13.258,\n  0.625,\n  2.8e-05,\n  0.0868,\n  0.0476),\n (8, 0, 87.379, 4, 0.63, 0.61, 0.471, -9.151, 0.0634, 0, 0.118, 0.0261),\n (2, 1, 121.849, 3, 0.93, 0.542, 0.618, -8.876, 0.0858, 0, 0.772, 0.139),\n (0, 1, 118.773, 4, 0.879, 0.653, 0.889, -8.006, 0.0061, 0.589, 0.892, 0.0453),\n (4,\n  0,\n  163.219,\n  4,\n  0.175,\n  0.364,\n  0.457,\n  -14.162,\n  0.29,\n  0.000106,\n  0.922,\n  0.0675),\n (9,\n  1,\n  142.489,\n  4,\n  0.494,\n  0.48,\n  0.969,\n  -7.464,\n  0.069,\n  0.00022,\n  0.0608,\n  0.0854),\n (7, 1, 150.721, 4, 0.332, 0.388, 0.529, -10.533, 0.16, 0.0681, 0.108, 0.0436),\n (7,\n  0,\n  120.432,\n  4,\n  0.789,\n  0.523,\n  0.51,\n  -9.827,\n  0.0123,\n  8.38e-05,\n  0.108,\n  0.0514),\n (10,\n  1,\n  113.059,\n  4,\n  0.975,\n  0.818,\n  0.728,\n  -8.331,\n  0.232,\n  0.0642,\n  0.251,\n  0.0314),\n (7,\n  1,\n  144.197,\n  4,\n  0.553,\n  0.537,\n  0.297,\n  -15.452,\n  0.88,\n  1.5e-05,\n  0.145,\n  0.0822),\n (0, 1, 114.816, 4, 0.648, 0.621, 0.459, -10.414, 0.224, 0, 0.656, 0.104),\n (4, 0, 115.0, 4, 0.702, 0.453, 0.654, -8.855, 0.0205, 0.00395, 0.172, 0.0317),\n (9, 0, 139.288, 4, 0.44, 0.431, 0.54, -9.6, 0.523, 1.34e-06, 0.169, 0.0589),\n (10,\n  1,\n  177.624,\n  4,\n  0.824,\n  0.472,\n  0.292,\n  -11.591,\n  0.872,\n  0.0007,\n  0.128,\n  0.0321),\n (9, 1, 68.492, 4, 0.717, 0.433, 0.483, -9.422, 0.656, 2.64e-05, 0.539, 0.175),\n (7,\n  1,\n  93.699,\n  4,\n  0.372,\n  0.686,\n  0.127,\n  -14.361,\n  0.754,\n  1.41e-05,\n  0.0573,\n  0.0342),\n (8, 1, 93.245, 4, 0.52, 0.542, 0.445, -9.105, 0.643, 0, 0.516, 0.0303),\n (2, 1, 89.9, 4, 0.152, 0.792, 0.763, -11.185, 0.425, 0.627, 0.789, 0.0506),\n (7, 1, 79.456, 4, 0.648, 0.599, 0.363, -11.728, 0.333, 0, 0.243, 0.0315),\n (7, 1, 146.408, 3, 0.178, 0.146, 0.355, -14.583, 0.865, 0.835, 0.114, 0.0352),\n (2, 0, 91.158, 4, 0.101, 0.208, 0.615, -15.297, 0.769, 0.118, 0.824, 0.342),\n (9,\n  0,\n  76.644,\n  4,\n  0.362,\n  0.517,\n  0.529,\n  -11.851,\n  0.115,\n  0.00396,\n  0.174,\n  0.0323),\n (11,\n  0,\n  120.761,\n  4,\n  0.793,\n  0.623,\n  0.544,\n  -11.043,\n  0.00814,\n  0.309,\n  0.134,\n  0.0536),\n (9,\n  1,\n  98.425,\n  4,\n  0.695,\n  0.386,\n  0.626,\n  -9.451,\n  0.0785,\n  0.00164,\n  0.621,\n  0.0377),\n (5, 1, 104.837, 3, 0.163, 0.349, 0.129, -15.883, 0.539, 0.405, 0.192, 0.0294),\n (9,\n  1,\n  167.518,\n  4,\n  0.281,\n  0.166,\n  0.831,\n  -8.469,\n  0.000606,\n  0.846,\n  0.811,\n  0.0894),\n (0, 1, 75.478, 4, 0.671, 0.577, 0.624, -9.626, 0.33, 0.00622, 0.117, 0.0285),\n (2,\n  1,\n  117.089,\n  4,\n  0.81,\n  0.523,\n  0.731,\n  -8.613,\n  0.0207,\n  0.000464,\n  0.081,\n  0.0559),\n (2, 1, 84.78, 4, 0.401, 0.608, 0.178, -17.109, 0.634, 0.352, 0.166, 0.0264),\n (9,\n  1,\n  151.766,\n  3,\n  0.435,\n  0.327,\n  0.525,\n  -10.272,\n  0.000875,\n  0.259,\n  0.133,\n  0.0475),\n (2,\n  1,\n  139.239,\n  4,\n  0.91,\n  0.541,\n  0.727,\n  -7.509,\n  7.37e-05,\n  0.717,\n  0.232,\n  0.0384),\n (2,\n  1,\n  134.706,\n  4,\n  0.193,\n  0.512,\n  0.0953,\n  -16.082,\n  0.828,\n  0.000268,\n  0.117,\n  0.0304),\n (5,\n  1,\n  103.11,\n  4,\n  0.832,\n  0.631,\n  0.387,\n  -11.529,\n  0.742,\n  0.000406,\n  0.0822,\n  0.0262),\n (2,\n  1,\n  187.688,\n  4,\n  0.957,\n  0.589,\n  0.522,\n  -8.718,\n  0.53,\n  0.000243,\n  0.0993,\n  0.0521),\n (0,\n  1,\n  84.895,\n  4,\n  0.946,\n  0.599,\n  0.537,\n  -9.617,\n  0.594,\n  1.92e-05,\n  0.194,\n  0.0254),\n (7, 1, 103.436, 4, 0.653, 0.4, 0.48, -7.768, 0.346, 3.1e-05, 0.155, 0.0295),\n (7,\n  1,\n  96.751,\n  4,\n  0.467,\n  0.619,\n  0.625,\n  -9.635,\n  0.0119,\n  1.05e-06,\n  0.152,\n  0.036),\n (9, 1, 113.038, 4, 0.49, 0.651, 0.488, -8.22, 0.212, 0.026, 0.136, 0.0316),\n (10,\n  1,\n  97.871,\n  4,\n  0.289,\n  0.39,\n  0.502,\n  -12.277,\n  0.336,\n  0.000138,\n  0.0713,\n  0.178),\n (0, 1, 99.307, 4, 0.806, 0.479, 0.733, -8.753, 0.306, 2.4e-05, 0.414, 0.0256),\n (2,\n  1,\n  85.206,\n  4,\n  0.654,\n  0.401,\n  0.556,\n  -10.532,\n  0.0828,\n  0.000359,\n  0.589,\n  0.0513),\n (0,\n  1,\n  117.613,\n  4,\n  0.724,\n  0.698,\n  0.293,\n  -11.361,\n  0.784,\n  0.0106,\n  0.0936,\n  0.0332),\n (0,\n  1,\n  101.052,\n  4,\n  0.0378,\n  0.294,\n  0.407,\n  -11.575,\n  0.0258,\n  0.000219,\n  0.0852,\n  0.0308),\n (0, 1, 92.929, 4, 0.261, 0.551, 0.395, -14.755, 0.368, 0.88, 0.0932, 0.0501),\n (4, 0, 144.184, 4, 0.49, 0.356, 0.26, -10.577, 0.913, 2.1e-06, 0.105, 0.0314),\n (9,\n  1,\n  170.962,\n  4,\n  0.338,\n  0.297,\n  0.613,\n  -9.065,\n  0.0385,\n  3.98e-05,\n  0.0734,\n  0.0931),\n (9,\n  1,\n  209.242,\n  4,\n  0.801,\n  0.175,\n  0.731,\n  -8.341,\n  0.000341,\n  0.000751,\n  0.0846,\n  0.0705),\n (2, 1, 95.937, 4, 0.778, 0.587, 0.431, -9.495, 0.0722, 0, 0.561, 0.0686),\n (7, 1, 100.495, 4, 0.947, 0.587, 0.617, -9.164, 0.0197, 0.639, 0.199, 0.028),\n (7, 1, 113.511, 4, 0.199, 0.39, 0.781, -7.878, 4.3e-05, 0.412, 0.1, 0.0364),\n (9,\n  0,\n  165.007,\n  4,\n  0.187,\n  0.533,\n  0.376,\n  -11.913,\n  0.0302,\n  0.248,\n  0.0926,\n  0.0393),\n (0,\n  1,\n  133.522,\n  4,\n  0.377,\n  0.396,\n  0.338,\n  -10.872,\n  0.198,\n  2.62e-06,\n  0.138,\n  0.0304),\n (2,\n  1,\n  131.12,\n  4,\n  0.726,\n  0.764,\n  0.426,\n  -11.045,\n  0.629,\n  0.000119,\n  0.132,\n  0.0405),\n (4, 1, 173.93, 3, 0.549, 0.422, 0.656, -8.412, 0.0126, 0.0279, 0.268, 0.0397),\n (1, 0, 92.225, 4, 0.73, 0.626, 0.512, -9.15, 0.155, 4.65e-05, 0.215, 0.0247),\n (2, 0, 115.732, 4, 0.42, 0.37, 0.515, -9.487, 0.0233, 0.205, 0.0966, 0.0321),\n (9,\n  1,\n  129.171,\n  4,\n  0.394,\n  0.557,\n  0.54,\n  -10.484,\n  0.0339,\n  0.00248,\n  0.179,\n  0.0347),\n (2,\n  1,\n  81.257,\n  4,\n  0.162,\n  0.328,\n  0.249,\n  -11.777,\n  0.754,\n  5.77e-06,\n  0.134,\n  0.0272),\n (0, 1, 174.464, 3, 0.223, 0.335, 0.416, -11.051, 0.345, 0.136, 0.116, 0.0348),\n (2, 1, 74.994, 4, 0.192, 0.483, 0.177, -17.629, 0.284, 0.499, 0.116, 0.0277),\n (4,\n  1,\n  100.687,\n  4,\n  0.97,\n  0.676,\n  0.596,\n  -9.107,\n  0.0699,\n  1.96e-05,\n  0.351,\n  0.0272),\n (2,\n  1,\n  100.874,\n  3,\n  0.522,\n  0.703,\n  0.215,\n  -23.03,\n  0.728,\n  1.23e-06,\n  0.13,\n  0.0892),\n (11,\n  0,\n  123.444,\n  1,\n  0.222,\n  0.647,\n  0.487,\n  -10.119,\n  0.00101,\n  0.285,\n  0.138,\n  0.0689),\n (0, 1, 84.319, 4, 0.704, 0.543, 0.458, -8.976, 0.226, 0.00663, 0.298, 0.0274),\n (0, 1, 80.608, 4, 0.239, 0.419, 0.152, -12.126, 0.326, 0.0034, 0.113, 0.0277),\n (11, 0, 166.829, 4, 0.499, 0.474, 0.939, -8.884, 0.00472, 0.674, 0.19, 0.199),\n (2, 1, 80.652, 4, 0.69, 0.53, 0.72, -8.793, 0.00376, 3.38e-05, 0.314, 0.0338),\n (7,\n  1,\n  109.114,\n  4,\n  0.931,\n  0.726,\n  0.702,\n  -10.757,\n  0.0974,\n  3.46e-05,\n  0.239,\n  0.032),\n (11, 0, 59.004, 4, 0.527, 0.538, 0.478, -8.957, 0.472, 0, 0.17, 0.0388),\n (1,\n  1,\n  152.126,\n  4,\n  0.858,\n  0.257,\n  0.412,\n  -11.788,\n  0.361,\n  8.68e-05,\n  0.0702,\n  0.0287),\n (9, 0, 185.235, 3, 0.525, 0.291, 0.638, -7.854, 0.179, 0, 0.101, 0.0554),\n (5, 1, 157.03, 3, 0.67, 0.54, 0.489, -12.276, 0.659, 0.0019, 0.457, 0.117),\n (0, 1, 143.462, 4, 0.41, 0.443, 0.403, -8.339, 0.631, 0, 0.111, 0.0322),\n (2, 0, 169.039, 4, 0.524, 0.516, 0.515, -12.035, 0.379, 0, 0.103, 0.215),\n (2, 1, 165.156, 4, 0.364, 0.44, 0.609, -8.824, 0.0715, 0, 0.582, 0.0358),\n (4, 1, 90.95, 4, 0.888, 0.554, 0.828, -6.435, 0.0307, 0, 0.907, 0.0739),\n (3,\n  1,\n  132.282,\n  4,\n  0.392,\n  0.299,\n  0.329,\n  -10.096,\n  0.756,\n  0.0105,\n  0.0559,\n  0.0279),\n (2, 1, 128.542, 4, 0.955, 0.88, 0.556, -10.773, 0.24, 0.0483, 0.24, 0.0855),\n (2, 1, 123.095, 4, 0.332, 0.761, 0.592, -9.836, 0.492, 0.00626, 0.61, 0.0586),\n (9, 1, 72.323, 4, 0.457, 0.474, 0.503, -9.074, 0.0438, 0.016, 0.153, 0.0279),\n (8, 1, 175.726, 4, 0.405, 0.375, 0.694, -7.334, 0.0458, 0.019, 0.257, 0.031),\n (2, 1, 118.822, 4, 0.696, 0.672, 0.529, -11.566, 0.647, 0, 0.147, 0.2),\n (1,\n  1,\n  142.849,\n  4,\n  0.396,\n  0.529,\n  0.781,\n  -9.662,\n  0.00171,\n  0.000864,\n  0.179,\n  0.0933),\n (4,\n  1,\n  135.183,\n  4,\n  0.938,\n  0.656,\n  0.865,\n  -8.241,\n  0.00561,\n  0.000104,\n  0.0853,\n  0.0311),\n (10,\n  1,\n  147.114,\n  4,\n  0.649,\n  0.399,\n  0.573,\n  -9.44,\n  0.0293,\n  2.83e-05,\n  0.0914,\n  0.0253),\n (4,\n  1,\n  163.63,\n  4,\n  0.783,\n  0.486,\n  0.489,\n  -8.626,\n  0.147,\n  8.63e-06,\n  0.135,\n  0.0365),\n (2, 1, 175.023, 3, 0.469, 0.401, 0.524, -7.299, 0.113, 0, 0.0295, 0.0345),\n (2, 1, 159.441, 4, 0.794, 0.359, 0.461, -10.683, 0.509, 0, 0.224, 0.0283),\n (7, 1, 136.125, 4, 0.966, 0.644, 0.66, -8.513, 0.613, 0, 0.269, 0.0309),\n (2,\n  1,\n  137.717,\n  4,\n  0.972,\n  0.553,\n  0.71,\n  -10.492,\n  0.449,\n  1.19e-06,\n  0.0989,\n  0.0314),\n (7, 1, 75.442, 4, 0.927, 0.391, 0.883, -5.973, 0.264, 0, 0.157, 0.0442),\n (9, 1, 125.7, 4, 0.962, 0.653, 0.75, -6.531, 0.616, 0, 0.289, 0.0356),\n (7, 1, 131.011, 4, 0.916, 0.492, 0.73, -6.434, 0.57, 8.5e-06, 0.246, 0.0416),\n (2,\n  1,\n  110.173,\n  3,\n  0.703,\n  0.66,\n  0.337,\n  -11.524,\n  0.213,\n  1.57e-05,\n  0.142,\n  0.0286),\n (0, 1, 172.467, 4, 0.917, 0.383, 0.77, -7.096, 0.209, 0.00432, 0.13, 0.0487),\n (9,\n  1,\n  125.763,\n  4,\n  0.962,\n  0.69,\n  0.691,\n  -7.057,\n  0.313,\n  0.000122,\n  0.252,\n  0.0308),\n (0,\n  1,\n  168.618,\n  4,\n  0.839,\n  0.494,\n  0.799,\n  -7.327,\n  0.707,\n  4.64e-06,\n  0.314,\n  0.0628),\n (2,\n  1,\n  160.07,\n  4,\n  0.963,\n  0.344,\n  0.796,\n  -7.729,\n  0.428,\n  2.63e-06,\n  0.332,\n  0.0407),\n (7,\n  1,\n  90.138,\n  4,\n  0.769,\n  0.571,\n  0.788,\n  -8.159,\n  0.311,\n  4.09e-06,\n  0.287,\n  0.0447),\n (9,\n  1,\n  88.628,\n  4,\n  0.961,\n  0.72,\n  0.513,\n  -9.217,\n  0.367,\n  0.000364,\n  0.0677,\n  0.0317),\n (0, 1, 134.64, 4, 0.878, 0.549, 0.725, -8.512, 0.199, 0, 0.178, 0.0431),\n (4, 1, 132.571, 4, 0.426, 0.414, 0.329, -8.193, 0.638, 0, 0.114, 0.0396),\n (7,\n  1,\n  82.077,\n  4,\n  0.937,\n  0.439,\n  0.813,\n  -8.304,\n  0.563,\n  0.000605,\n  0.728,\n  0.0607),\n (6,\n  0,\n  137.698,\n  4,\n  0.729,\n  0.643,\n  0.723,\n  -10.628,\n  0.104,\n  1.23e-06,\n  0.274,\n  0.0299),\n (2, 1, 106.237, 4, 0.742, 0.373, 0.597, -10.013, 0.102, 0, 0.114, 0.0273),\n (7,\n  1,\n  157.251,\n  4,\n  0.727,\n  0.49,\n  0.724,\n  -8.109,\n  0.189,\n  3.01e-06,\n  0.691,\n  0.0827),\n (0,\n  1,\n  106.933,\n  4,\n  0.541,\n  0.234,\n  0.693,\n  -8.277,\n  2.82e-05,\n  0.899,\n  0.442,\n  0.0408),\n (2, 1, 109.11, 4, 0.78, 0.631, 0.748, -7.604, 0.385, 0.308, 0.205, 0.03),\n (8,\n  1,\n  101.545,\n  3,\n  0.387,\n  0.304,\n  0.543,\n  -10.619,\n  0.751,\n  0.0145,\n  0.0764,\n  0.034),\n (7, 1, 131.36, 4, 0.924, 0.588, 0.724, -6.63, 0.614, 8.92e-05, 0.877, 0.0335),\n (1,\n  1,\n  121.054,\n  4,\n  0.708,\n  0.417,\n  0.825,\n  -9.539,\n  0.0888,\n  0.000358,\n  0.23,\n  0.176)]"
     },
     "metadata": {},
     "output_type": "display_data"
    }
   ],
   "source": [
    "# Test get_tracks_audio_features()\n",
    "display(get_tracks_audio_features(THE_BEATLES_PLAYLIST_URL_1, 'env/.env'))"
   ],
   "metadata": {
    "collapsed": false,
    "ExecuteTime": {
     "end_time": "2023-05-12T19:04:45.594969600Z",
     "start_time": "2023-05-12T19:04:44.255803600Z"
    }
   }
  },
  {
   "cell_type": "markdown",
   "source": [
    "### *get_tracks_df()*"
   ],
   "metadata": {
    "collapsed": false
   }
  },
  {
   "cell_type": "code",
   "execution_count": 15,
   "outputs": [],
   "source": [
    "def get_tracks_df(playlist_id: str, env_file_path: str) -> pd.DataFrame:\n",
    "    tracks_data = get_tracks_data(playlist_id, env_file_path)\n",
    "    tracks_audio_features = get_tracks_audio_features(playlist_id, env_file_path)\n",
    "    tracks_data_and_audio_features = [(d + af) for d, af in zip(tracks_data, tracks_audio_features)]\n",
    "    return pd.DataFrame(tracks_data_and_audio_features,\n",
    "                        columns=[\n",
    "                            'URI',\n",
    "                            'Title',\n",
    "                            'Album',\n",
    "                            'Popularity',\n",
    "                            'Duration',\n",
    "                            'Key',\n",
    "                            'Mode',\n",
    "                            'Tempo',\n",
    "                            'time_signature',\n",
    "                            'valence',\n",
    "                            'danceability',\n",
    "                            'energy',\n",
    "                            'loudness',\n",
    "                            'acousticness',\n",
    "                            'instrumentalness',\n",
    "                            'liveness',\n",
    "                            'speechiness'\n",
    "                        ])"
   ],
   "metadata": {
    "collapsed": false,
    "ExecuteTime": {
     "end_time": "2023-05-12T19:04:56.094256Z",
     "start_time": "2023-05-12T19:04:56.087864900Z"
    }
   }
  },
  {
   "cell_type": "code",
   "execution_count": 16,
   "outputs": [
    {
     "data": {
      "text/plain": "                                      URI  \\\n0    spotify:track:3KiexfmhxHvG5IgAElmTkd   \n1    spotify:track:40qXGg5nRbcWzcFb26KWkQ   \n2    spotify:track:2baEFuU0gQon0hgVRioI1o   \n3    spotify:track:3JQWLa88R35d971o5bIImd   \n4    spotify:track:5ZBeML7Lf3FMEVviTyvi8l   \n..                                    ...   \n210  spotify:track:48TNLcToLs8DWkdj5vYdiW   \n211  spotify:track:1tM9TBNPjieSOZ2d5VAQ1y   \n212  spotify:track:379hxtlY5LvbPQa5LL6dPo   \n213  spotify:track:5xf0zdP4KCfshyVn02D3Ea   \n214  spotify:track:4qh4lu4xf4r3ZkBoyeajuc   \n\n                                      Title  \\\n0                  I Saw Her Standing There   \n1                                    Misery   \n2                          Anna (Go To Him)   \n3                                    Chains   \n4                           Twist And Shout   \n..                                      ...   \n210                                    Rain   \n211                            Lady Madonna   \n212                         The Inner Light   \n213  Kansas City / Hey-Hey-Hey-Hey - Medley   \n214                              Revolution   \n\n                                       Album  Popularity  Duration  Key  Mode  \\\n0                           Please Please Me          69       174    4     1   \n1                           Please Please Me          53       109    0     1   \n2                           Please Please Me          56       177    2     1   \n3                           Please Please Me          48       145   10     1   \n4                           Please Please Me          77       155    2     1   \n..                                       ...         ...       ...  ...   ...   \n210  Past Masters (Vols. 1 & 2 / Remastered)          50       181    0     1   \n211  Past Masters (Vols. 1 & 2 / Remastered)          37       138    2     1   \n212  Past Masters (Vols. 1 & 2 / Remastered)          39       156    8     1   \n213                         Beatles For Sale          45       158    7     1   \n214  Past Masters (Vols. 1 & 2 / Remastered)          39       205    1     1   \n\n       Tempo  time_signature  valence  danceability  energy  loudness  \\\n0    160.109               4    0.971         0.491   0.801    -9.835   \n1    133.348               4    0.882         0.591   0.605   -10.925   \n2    109.286               4    0.835         0.608   0.565   -11.060   \n3    129.884               4    0.929         0.654   0.561   -10.551   \n4    124.631               4    0.937         0.482   0.849    -9.198   \n..       ...             ...      ...           ...     ...       ...   \n210  106.933               4    0.541         0.234   0.693    -8.277   \n211  109.110               4    0.780         0.631   0.748    -7.604   \n212  101.545               3    0.387         0.304   0.543   -10.619   \n213  131.360               4    0.924         0.588   0.724    -6.630   \n214  121.054               4    0.708         0.417   0.825    -9.539   \n\n     acousticness  instrumentalness  liveness  speechiness  \n0        0.270000          0.000000    0.0665       0.0361  \n1        0.707000          0.000000    0.3090       0.0413  \n2        0.635000          0.000000    0.0601       0.0336  \n3        0.608000          0.000000    0.1290       0.0304  \n4        0.641000          0.000008    0.0414       0.0452  \n..            ...               ...       ...          ...  \n210      0.000028          0.899000    0.4420       0.0408  \n211      0.385000          0.308000    0.2050       0.0300  \n212      0.751000          0.014500    0.0764       0.0340  \n213      0.614000          0.000089    0.8770       0.0335  \n214      0.088800          0.000358    0.2300       0.1760  \n\n[215 rows x 17 columns]",
      "text/html": "<div>\n<style scoped>\n    .dataframe tbody tr th:only-of-type {\n        vertical-align: middle;\n    }\n\n    .dataframe tbody tr th {\n        vertical-align: top;\n    }\n\n    .dataframe thead th {\n        text-align: right;\n    }\n</style>\n<table border=\"1\" class=\"dataframe\">\n  <thead>\n    <tr style=\"text-align: right;\">\n      <th></th>\n      <th>URI</th>\n      <th>Title</th>\n      <th>Album</th>\n      <th>Popularity</th>\n      <th>Duration</th>\n      <th>Key</th>\n      <th>Mode</th>\n      <th>Tempo</th>\n      <th>time_signature</th>\n      <th>valence</th>\n      <th>danceability</th>\n      <th>energy</th>\n      <th>loudness</th>\n      <th>acousticness</th>\n      <th>instrumentalness</th>\n      <th>liveness</th>\n      <th>speechiness</th>\n    </tr>\n  </thead>\n  <tbody>\n    <tr>\n      <th>0</th>\n      <td>spotify:track:3KiexfmhxHvG5IgAElmTkd</td>\n      <td>I Saw Her Standing There</td>\n      <td>Please Please Me</td>\n      <td>69</td>\n      <td>174</td>\n      <td>4</td>\n      <td>1</td>\n      <td>160.109</td>\n      <td>4</td>\n      <td>0.971</td>\n      <td>0.491</td>\n      <td>0.801</td>\n      <td>-9.835</td>\n      <td>0.270000</td>\n      <td>0.000000</td>\n      <td>0.0665</td>\n      <td>0.0361</td>\n    </tr>\n    <tr>\n      <th>1</th>\n      <td>spotify:track:40qXGg5nRbcWzcFb26KWkQ</td>\n      <td>Misery</td>\n      <td>Please Please Me</td>\n      <td>53</td>\n      <td>109</td>\n      <td>0</td>\n      <td>1</td>\n      <td>133.348</td>\n      <td>4</td>\n      <td>0.882</td>\n      <td>0.591</td>\n      <td>0.605</td>\n      <td>-10.925</td>\n      <td>0.707000</td>\n      <td>0.000000</td>\n      <td>0.3090</td>\n      <td>0.0413</td>\n    </tr>\n    <tr>\n      <th>2</th>\n      <td>spotify:track:2baEFuU0gQon0hgVRioI1o</td>\n      <td>Anna (Go To Him)</td>\n      <td>Please Please Me</td>\n      <td>56</td>\n      <td>177</td>\n      <td>2</td>\n      <td>1</td>\n      <td>109.286</td>\n      <td>4</td>\n      <td>0.835</td>\n      <td>0.608</td>\n      <td>0.565</td>\n      <td>-11.060</td>\n      <td>0.635000</td>\n      <td>0.000000</td>\n      <td>0.0601</td>\n      <td>0.0336</td>\n    </tr>\n    <tr>\n      <th>3</th>\n      <td>spotify:track:3JQWLa88R35d971o5bIImd</td>\n      <td>Chains</td>\n      <td>Please Please Me</td>\n      <td>48</td>\n      <td>145</td>\n      <td>10</td>\n      <td>1</td>\n      <td>129.884</td>\n      <td>4</td>\n      <td>0.929</td>\n      <td>0.654</td>\n      <td>0.561</td>\n      <td>-10.551</td>\n      <td>0.608000</td>\n      <td>0.000000</td>\n      <td>0.1290</td>\n      <td>0.0304</td>\n    </tr>\n    <tr>\n      <th>4</th>\n      <td>spotify:track:5ZBeML7Lf3FMEVviTyvi8l</td>\n      <td>Twist And Shout</td>\n      <td>Please Please Me</td>\n      <td>77</td>\n      <td>155</td>\n      <td>2</td>\n      <td>1</td>\n      <td>124.631</td>\n      <td>4</td>\n      <td>0.937</td>\n      <td>0.482</td>\n      <td>0.849</td>\n      <td>-9.198</td>\n      <td>0.641000</td>\n      <td>0.000008</td>\n      <td>0.0414</td>\n      <td>0.0452</td>\n    </tr>\n    <tr>\n      <th>...</th>\n      <td>...</td>\n      <td>...</td>\n      <td>...</td>\n      <td>...</td>\n      <td>...</td>\n      <td>...</td>\n      <td>...</td>\n      <td>...</td>\n      <td>...</td>\n      <td>...</td>\n      <td>...</td>\n      <td>...</td>\n      <td>...</td>\n      <td>...</td>\n      <td>...</td>\n      <td>...</td>\n      <td>...</td>\n    </tr>\n    <tr>\n      <th>210</th>\n      <td>spotify:track:48TNLcToLs8DWkdj5vYdiW</td>\n      <td>Rain</td>\n      <td>Past Masters (Vols. 1 &amp; 2 / Remastered)</td>\n      <td>50</td>\n      <td>181</td>\n      <td>0</td>\n      <td>1</td>\n      <td>106.933</td>\n      <td>4</td>\n      <td>0.541</td>\n      <td>0.234</td>\n      <td>0.693</td>\n      <td>-8.277</td>\n      <td>0.000028</td>\n      <td>0.899000</td>\n      <td>0.4420</td>\n      <td>0.0408</td>\n    </tr>\n    <tr>\n      <th>211</th>\n      <td>spotify:track:1tM9TBNPjieSOZ2d5VAQ1y</td>\n      <td>Lady Madonna</td>\n      <td>Past Masters (Vols. 1 &amp; 2 / Remastered)</td>\n      <td>37</td>\n      <td>138</td>\n      <td>2</td>\n      <td>1</td>\n      <td>109.110</td>\n      <td>4</td>\n      <td>0.780</td>\n      <td>0.631</td>\n      <td>0.748</td>\n      <td>-7.604</td>\n      <td>0.385000</td>\n      <td>0.308000</td>\n      <td>0.2050</td>\n      <td>0.0300</td>\n    </tr>\n    <tr>\n      <th>212</th>\n      <td>spotify:track:379hxtlY5LvbPQa5LL6dPo</td>\n      <td>The Inner Light</td>\n      <td>Past Masters (Vols. 1 &amp; 2 / Remastered)</td>\n      <td>39</td>\n      <td>156</td>\n      <td>8</td>\n      <td>1</td>\n      <td>101.545</td>\n      <td>3</td>\n      <td>0.387</td>\n      <td>0.304</td>\n      <td>0.543</td>\n      <td>-10.619</td>\n      <td>0.751000</td>\n      <td>0.014500</td>\n      <td>0.0764</td>\n      <td>0.0340</td>\n    </tr>\n    <tr>\n      <th>213</th>\n      <td>spotify:track:5xf0zdP4KCfshyVn02D3Ea</td>\n      <td>Kansas City / Hey-Hey-Hey-Hey - Medley</td>\n      <td>Beatles For Sale</td>\n      <td>45</td>\n      <td>158</td>\n      <td>7</td>\n      <td>1</td>\n      <td>131.360</td>\n      <td>4</td>\n      <td>0.924</td>\n      <td>0.588</td>\n      <td>0.724</td>\n      <td>-6.630</td>\n      <td>0.614000</td>\n      <td>0.000089</td>\n      <td>0.8770</td>\n      <td>0.0335</td>\n    </tr>\n    <tr>\n      <th>214</th>\n      <td>spotify:track:4qh4lu4xf4r3ZkBoyeajuc</td>\n      <td>Revolution</td>\n      <td>Past Masters (Vols. 1 &amp; 2 / Remastered)</td>\n      <td>39</td>\n      <td>205</td>\n      <td>1</td>\n      <td>1</td>\n      <td>121.054</td>\n      <td>4</td>\n      <td>0.708</td>\n      <td>0.417</td>\n      <td>0.825</td>\n      <td>-9.539</td>\n      <td>0.088800</td>\n      <td>0.000358</td>\n      <td>0.2300</td>\n      <td>0.1760</td>\n    </tr>\n  </tbody>\n</table>\n<p>215 rows × 17 columns</p>\n</div>"
     },
     "metadata": {},
     "output_type": "display_data"
    }
   ],
   "source": [
    "# Test get_tracks_df()\n",
    "tracks_df = get_tracks_df(THE_BEATLES_PLAYLIST_URL_1, 'env/.env')\n",
    "display(tracks_df)"
   ],
   "metadata": {
    "collapsed": false,
    "ExecuteTime": {
     "end_time": "2023-05-12T19:05:09.755278200Z",
     "start_time": "2023-05-12T19:05:07.560732800Z"
    }
   }
  },
  {
   "cell_type": "markdown",
   "source": [
    "## Save the resulting dataframe"
   ],
   "metadata": {
    "collapsed": false
   }
  },
  {
   "cell_type": "code",
   "execution_count": 17,
   "outputs": [],
   "source": [
    "from pathlib import Path\n",
    "data_dir = Path().cwd().parent / 'data'\n",
    "data_dir.mkdir(parents=True, exist_ok=True)\n",
    "# print(data_dir)\n",
    "tracks_df.to_csv(data_dir / 'The Beatles songs dataset, Spotify 1.csv')"
   ],
   "metadata": {
    "collapsed": false,
    "ExecuteTime": {
     "end_time": "2023-05-12T19:05:20.337638300Z",
     "start_time": "2023-05-12T19:05:20.277868Z"
    }
   }
  }
 ],
 "metadata": {
  "kernelspec": {
   "display_name": "Python 3",
   "language": "python",
   "name": "python3"
  },
  "language_info": {
   "codemirror_mode": {
    "name": "ipython",
    "version": 2
   },
   "file_extension": ".py",
   "mimetype": "text/x-python",
   "name": "python",
   "nbconvert_exporter": "python",
   "pygments_lexer": "ipython2",
   "version": "2.7.6"
  }
 },
 "nbformat": 4,
 "nbformat_minor": 0
}
