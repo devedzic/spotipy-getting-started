{
 "cells": [
  {
   "cell_type": "markdown",
   "source": [
    "# Working with Spotify tracks\n",
    "Getting information about Spotify tracks and running basic operations with tracks."
   ],
   "metadata": {
    "collapsed": false
   }
  },
  {
   "cell_type": "markdown",
   "source": [
    "## Import statements"
   ],
   "metadata": {
    "collapsed": false
   }
  },
  {
   "cell_type": "code",
   "execution_count": null,
   "outputs": [],
   "source": [
    "from my_spotify import get_spotify_object, get_all_tracks_from_playlist\n",
    "import pandas as pd"
   ],
   "metadata": {
    "collapsed": false
   }
  },
  {
   "cell_type": "markdown",
   "source": [
    "## Get the Spotify object"
   ],
   "metadata": {
    "collapsed": false
   }
  },
  {
   "cell_type": "code",
   "execution_count": null,
   "outputs": [],
   "source": [
    "spot = get_spotify_object('env/.env')"
   ],
   "metadata": {
    "collapsed": false
   }
  },
  {
   "cell_type": "markdown",
   "source": [
    "## Specify a playlist to work with"
   ],
   "metadata": {
    "collapsed": false
   }
  },
  {
   "cell_type": "code",
   "execution_count": null,
   "outputs": [],
   "source": [
    "THE_BEATLES_PLAYLIST_URL_1 = 'https://open.spotify.com/playlist/6ZmqDRJKJf3v3LzYZAaGGU?si=6b487ba5f9b54374' # 215 songs"
   ],
   "metadata": {
    "collapsed": false
   }
  },
  {
   "cell_type": "markdown",
   "source": [
    "## Get the tracks from the playlist"
   ],
   "metadata": {
    "collapsed": false
   }
  },
  {
   "cell_type": "code",
   "execution_count": null,
   "outputs": [],
   "source": [
    "tracks = get_all_tracks_from_playlist(THE_BEATLES_PLAYLIST_URL_1, 'env/.env')"
   ],
   "metadata": {
    "collapsed": false
   }
  },
  {
   "cell_type": "markdown",
   "source": [
    "## Check what some items from the \"encompassing\" dictionary corresponding to a track are\n",
    "This \"encompassing\" dictionary includes an \"embedded\" dictionary pertaining to the track itself, as well as some other metadata."
   ],
   "metadata": {
    "collapsed": false
   }
  },
  {
   "cell_type": "code",
   "execution_count": null,
   "outputs": [],
   "source": [
    "# type(tracks)                          # list\n",
    "\n",
    "t = tracks[0]\n",
    "# type(track)                           # dict\n",
    "\n",
    "display(t.keys())\n",
    "display(t['added_at'])\n",
    "display(t['is_local'])\n",
    "display(t['primary_color'])\n",
    "display(t['video_thumbnail'])\n",
    "\n",
    "display(t['track'])"
   ],
   "metadata": {
    "collapsed": false
   }
  },
  {
   "cell_type": "markdown",
   "source": [
    "## Check what some items from the \"embedded\" dictionary corresponding to a track are"
   ],
   "metadata": {
    "collapsed": false
   }
  },
  {
   "cell_type": "code",
   "execution_count": null,
   "outputs": [],
   "source": [
    "track = t['track']\n",
    "# type(track)                           # dict\n",
    "\n",
    "display(track.keys())\n",
    "\n",
    "display(track['track'])\n",
    "display(track['name'])\n",
    "display(track['popularity'])\n",
    "display(track['album'])\n",
    "display(track['album']['name'])\n",
    "display(track['duration_ms'])\n",
    "display(track['artists'][0]['name'])\n",
    "display(track['id'])\n",
    "display(track['uri'])\n",
    "display(track['href'])\n",
    "display(track['episode'])               # False\n",
    "display(track['track'])                 # True"
   ],
   "metadata": {
    "collapsed": false
   }
  },
  {
   "cell_type": "markdown",
   "source": [
    "## Get the audio features for a track\n",
    "See [this](https://developer.spotify.com/documentation/web-api/reference/#/operations/get-several-audio-features) for an explanation of the meanings of all these parameters."
   ],
   "metadata": {
    "collapsed": false
   }
  },
  {
   "cell_type": "code",
   "execution_count": null,
   "outputs": [],
   "source": [
    "spot.audio_features(['spotify:track:3KiexfmhxHvG5IgAElmTkd'])"
   ],
   "metadata": {
    "collapsed": false
   }
  },
  {
   "cell_type": "markdown",
   "source": [
    "## Create a list of URIs of all tracks from the playlist"
   ],
   "metadata": {
    "collapsed": false
   }
  },
  {
   "cell_type": "code",
   "execution_count": null,
   "outputs": [],
   "source": [
    "uri_list = [t['track']['uri'] for t in tracks]\n",
    "uri_list[:5]"
   ],
   "metadata": {
    "collapsed": false
   }
  },
  {
   "cell_type": "markdown",
   "source": [
    "## Create a list of *(uri, title, popularity, duration)* tuples of all tracks from the playlist"
   ],
   "metadata": {
    "collapsed": false
   }
  },
  {
   "cell_type": "code",
   "execution_count": null,
   "outputs": [],
   "source": [
    "tracks_data = [(t['track']['uri'],\n",
    "                t['track']['name'].split(' - Remastered')[0].split(' / Remastered')[0],\n",
    "                t['track']['popularity'],\n",
    "                int(round(t['track']['duration_ms'] / 1000, 0))) for t in tracks]\n",
    "# display(len(tracks_data))\n",
    "# display(tracks_data[:])"
   ],
   "metadata": {
    "collapsed": false
   }
  },
  {
   "cell_type": "markdown",
   "source": [
    "## Create a list of audio features dictionaries of all tracks from the playlist\n",
    "See [this](https://developer.spotify.com/documentation/web-api/reference/#/operations/get-several-audio-features) for an explanation of the meanings of all these parameters.\n",
    "\n",
    "**Important:** `spot.audio_features()` will accept max 100 URIs!"
   ],
   "metadata": {
    "collapsed": false
   }
  },
  {
   "cell_type": "code",
   "execution_count": null,
   "outputs": [],
   "source": [
    "offset = 0\n",
    "runs, last_run = divmod(len(tracks), 100)                                                       # how many full runs, 100 tracks each\n",
    "tracks_audio_features_dicts = []\n",
    "\n",
    "if runs > 0:                                                                                    # all full runs, 100 tracks each\n",
    "    for _ in range(runs):\n",
    "        tracks_audio_features_dicts.extend(spot.audio_features(uri_list[offset:(offset+100)]))\n",
    "        offset += 100\n",
    "tracks_audio_features_dicts.extend(spot.audio_features(uri_list[offset:(offset+last_run)]))     # last run, generally < 100 tracks\n",
    "\n",
    "# display(len(tracks_audio_features_dicts))\n",
    "# display(tracks_audio_features_dicts)"
   ],
   "metadata": {
    "collapsed": false
   }
  },
  {
   "cell_type": "markdown",
   "source": [
    "## Create a list of *(key, mode, tempo, time_signature, valence, danceability, energy, loudness, acousticness, instrumentalness, liveness, speechiness)* tuples of all tracks from the playlist\n",
    "See [this](https://developer.spotify.com/documentation/web-api/reference/#/operations/get-several-audio-features) for an explanation of the meanings of all these parameters.\n",
    "\n",
    "Use `tracks_audio_features_dicts` list created above."
   ],
   "metadata": {
    "collapsed": false
   }
  },
  {
   "cell_type": "code",
   "execution_count": null,
   "outputs": [],
   "source": [
    "tracks_audio_features = [(t['key'],\n",
    "                          t['mode'],\n",
    "                          t['tempo'],\n",
    "                          t['time_signature'],\n",
    "                          t['valence'],\n",
    "                          t['danceability'],\n",
    "                          t['energy'],\n",
    "                          t['loudness'],\n",
    "                          t['acousticness'],\n",
    "                          t['instrumentalness'],\n",
    "                          t['liveness'],\n",
    "                          t['speechiness']) for t in tracks_audio_features_dicts]\n",
    "\n",
    "# display(len(tracks_audio_features))\n",
    "# display(tracks_audio_features)"
   ],
   "metadata": {
    "collapsed": false
   }
  },
  {
   "cell_type": "markdown",
   "source": [
    "## Join the tuples from *tracks_data* and *tracks_audio_features* pairwise to create *tracks_data_and_audio_features*"
   ],
   "metadata": {
    "collapsed": false
   }
  },
  {
   "cell_type": "code",
   "execution_count": null,
   "outputs": [],
   "source": [
    "tracks_data_and_audio_features = [(d + af) for d, af in zip(tracks_data, tracks_audio_features)]\n",
    "# display(tracks_data_and_audio_features[:5])"
   ],
   "metadata": {
    "collapsed": false
   }
  },
  {
   "cell_type": "markdown",
   "source": [
    "## Bundle it all together in the *get_tracks_data()*, *get_tracks_audio_features()* and *get_tracks_df()* functions\n",
    "Assumption: the *.env* file is already created as explained in *spotify_authentication.ipynb*, and its relative path is passed as an argument."
   ],
   "metadata": {
    "collapsed": false
   }
  },
  {
   "cell_type": "markdown",
   "source": [
    "### *get_tracks_data()*"
   ],
   "metadata": {
    "collapsed": false
   }
  },
  {
   "cell_type": "code",
   "execution_count": null,
   "outputs": [],
   "source": [
    "def get_tracks_data(playlist_id: str, env_file_path: str) -> list:\n",
    "    tracks = get_all_tracks_from_playlist(playlist_id, env_file_path)\n",
    "    tracks_data = [(t['track']['uri'],\n",
    "                    t['track']['name'].split(' - Remastered')[0].split(' / Remastered')[0],\n",
    "                    t['track']['popularity'],\n",
    "                    int(round(t['track']['duration_ms'] / 1000, 0))) for t in tracks]\n",
    "    return tracks_data"
   ],
   "metadata": {
    "collapsed": false
   }
  },
  {
   "cell_type": "code",
   "execution_count": null,
   "outputs": [],
   "source": [
    "# Test get_tracks(data)\n",
    "display(get_tracks_data(THE_BEATLES_PLAYLIST_URL_1, 'env/.env'))"
   ],
   "metadata": {
    "collapsed": false
   }
  },
  {
   "cell_type": "markdown",
   "source": [
    "### *get_tracks_audio_features()*"
   ],
   "metadata": {
    "collapsed": false
   }
  },
  {
   "cell_type": "code",
   "execution_count": null,
   "outputs": [],
   "source": [
    "def get_tracks_audio_features(playlist_id: str, env_file_path: str) -> list:\n",
    "    spot = get_spotify_object('env/.env')\n",
    "    tracks = get_all_tracks_from_playlist(playlist_id, env_file_path)\n",
    "    uri_list = [t['track']['uri'] for t in tracks]\n",
    "\n",
    "    offset = 0\n",
    "    runs, last_run = divmod(len(tracks), 100)                                                       # how many full runs, 100 tracks each\n",
    "    tracks_audio_features_dicts = []\n",
    "\n",
    "    if runs > 0:                                                                                    # all full runs, 100 tracks each\n",
    "        for _ in range(runs):\n",
    "            tracks_audio_features_dicts.extend(spot.audio_features(uri_list[offset:(offset+100)]))\n",
    "            offset += 100\n",
    "    tracks_audio_features_dicts.extend(spot.audio_features(uri_list[offset:(offset+last_run)]))     # last run, < 100 tracks\n",
    "\n",
    "    tracks_audio_features = [(t['key'],\n",
    "                              t['mode'],\n",
    "                              t['tempo'],\n",
    "                              t['time_signature'],\n",
    "                              t['valence'],\n",
    "                              t['danceability'],\n",
    "                              t['energy'],\n",
    "                              t['loudness'],\n",
    "                              t['acousticness'],\n",
    "                              t['instrumentalness'],\n",
    "                              t['liveness'],\n",
    "                              t['speechiness']) for t in tracks_audio_features_dicts]\n",
    "\n",
    "    return tracks_audio_features"
   ],
   "metadata": {
    "collapsed": false
   }
  },
  {
   "cell_type": "code",
   "execution_count": null,
   "outputs": [],
   "source": [
    "# Test get_tracks_audio_features()\n",
    "display(get_tracks_audio_features(THE_BEATLES_PLAYLIST_URL_1, 'env/.env'))"
   ],
   "metadata": {
    "collapsed": false
   }
  },
  {
   "cell_type": "markdown",
   "source": [
    "### *get_tracks_df()*"
   ],
   "metadata": {
    "collapsed": false
   }
  },
  {
   "cell_type": "code",
   "execution_count": null,
   "outputs": [],
   "source": [
    "def get_tracks_df(playlist_id: str, env_file_path: str) -> pd.DataFrame:\n",
    "    tracks_data = get_tracks_data(playlist_id, env_file_path)\n",
    "    tracks_audio_features = get_tracks_audio_features(playlist_id, env_file_path)\n",
    "    tracks_data_and_audio_features = [(d + af) for d, af in zip(tracks_data, tracks_audio_features)]\n",
    "    return pd.DataFrame(tracks_data_and_audio_features,\n",
    "                        columns=[\n",
    "                            'URI',\n",
    "                            'Title',\n",
    "                            'Popularity',\n",
    "                            'Duration',\n",
    "                            'Key',\n",
    "                            'Mode',\n",
    "                            'Tempo',\n",
    "                            'time_signature',\n",
    "                            'valence',\n",
    "                            'danceability',\n",
    "                            'energy',\n",
    "                            'loudness',\n",
    "                            'acousticness',\n",
    "                            'instrumentalness',\n",
    "                            'liveness',\n",
    "                            'speechiness'\n",
    "                        ])"
   ],
   "metadata": {
    "collapsed": false
   }
  },
  {
   "cell_type": "code",
   "execution_count": null,
   "outputs": [],
   "source": [
    "# Test get_tracks_df()\n",
    "tracks_df = get_tracks_df(THE_BEATLES_PLAYLIST_URL_1, 'env/.env')\n",
    "display(tracks_df)"
   ],
   "metadata": {
    "collapsed": false
   }
  }
 ],
 "metadata": {
  "kernelspec": {
   "display_name": "Python 3",
   "language": "python",
   "name": "python3"
  },
  "language_info": {
   "codemirror_mode": {
    "name": "ipython",
    "version": 2
   },
   "file_extension": ".py",
   "mimetype": "text/x-python",
   "name": "python",
   "nbconvert_exporter": "python",
   "pygments_lexer": "ipython2",
   "version": "2.7.6"
  }
 },
 "nbformat": 4,
 "nbformat_minor": 0
}
