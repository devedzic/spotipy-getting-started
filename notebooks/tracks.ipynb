{
 "cells": [
  {
   "cell_type": "markdown",
   "source": [
    "\n",
    "# Working with Spotify tracks\n",
    "Getting information about Spotify tracks and running basic operations with tracks."
   ],
   "metadata": {
    "collapsed": false
   }
  },
  {
   "cell_type": "markdown",
   "source": [
    "## Import statements"
   ],
   "metadata": {
    "collapsed": false
   }
  },
  {
   "cell_type": "code",
   "execution_count": 1,
   "outputs": [],
   "source": [
    "# Enable import from my_spotify.py. Based on https://stackoverflow.com/a/35273613/1899061.\n",
    "# Putting my_spotify.py in the root directory (without this cell) used to work, but then suddenly stopped working.\n",
    "import os\n",
    "import sys\n",
    "my_spotify_module_path = os.path.abspath(os.path.join('..'))\n",
    "if my_spotify_module_path not in sys.path:\n",
    "    sys.path.append(my_spotify_module_path)"
   ],
   "metadata": {
    "collapsed": false,
    "ExecuteTime": {
     "end_time": "2023-07-17T16:20:43.101179700Z",
     "start_time": "2023-07-17T16:20:43.098377700Z"
    }
   }
  },
  {
   "cell_type": "code",
   "execution_count": 2,
   "outputs": [],
   "source": [
    "from my_spotify.my_spotify import get_spotify_object, get_all_tracks_from_playlist\n",
    "import pandas as pd"
   ],
   "metadata": {
    "collapsed": false,
    "ExecuteTime": {
     "end_time": "2023-07-17T16:20:48.133779100Z",
     "start_time": "2023-07-17T16:20:45.886871400Z"
    }
   }
  },
  {
   "cell_type": "markdown",
   "source": [
    "## Get the Spotify object"
   ],
   "metadata": {
    "collapsed": false
   }
  },
  {
   "cell_type": "code",
   "execution_count": 3,
   "outputs": [],
   "source": [
    "spot = get_spotify_object('env/.env')"
   ],
   "metadata": {
    "collapsed": false,
    "ExecuteTime": {
     "end_time": "2023-07-17T16:20:53.477528Z",
     "start_time": "2023-07-17T16:20:53.474112100Z"
    }
   }
  },
  {
   "cell_type": "markdown",
   "source": [
    "## Specify a playlist to work with"
   ],
   "metadata": {
    "collapsed": false
   }
  },
  {
   "cell_type": "code",
   "execution_count": 4,
   "outputs": [],
   "source": [
    "THE_BEATLES_PLAYLIST_URL_1 = 'https://open.spotify.com/playlist/6ZmqDRJKJf3v3LzYZAaGGU?si=6b487ba5f9b54374' # 215 songs"
   ],
   "metadata": {
    "collapsed": false,
    "ExecuteTime": {
     "end_time": "2023-07-17T16:21:05.813935900Z",
     "start_time": "2023-07-17T16:21:05.810437500Z"
    }
   }
  },
  {
   "cell_type": "markdown",
   "source": [
    "## Get the tracks from the playlist"
   ],
   "metadata": {
    "collapsed": false
   }
  },
  {
   "cell_type": "code",
   "execution_count": 5,
   "outputs": [],
   "source": [
    "tracks = get_all_tracks_from_playlist(THE_BEATLES_PLAYLIST_URL_1, 'env/.env')"
   ],
   "metadata": {
    "collapsed": false,
    "ExecuteTime": {
     "end_time": "2023-07-17T16:21:15.519807Z",
     "start_time": "2023-07-17T16:21:14.746499900Z"
    }
   }
  },
  {
   "cell_type": "markdown",
   "source": [
    "## Check what some items from the \"encompassing\" dictionary corresponding to a track are\n",
    "This \"encompassing\" dictionary includes an \"embedded\" dictionary pertaining to the track itself, as well as some other metadata."
   ],
   "metadata": {
    "collapsed": false
   }
  },
  {
   "cell_type": "code",
   "execution_count": 23,
   "outputs": [
    {
     "data": {
      "text/plain": "dict_keys(['added_at', 'added_by', 'is_local', 'primary_color', 'track', 'video_thumbnail'])"
     },
     "metadata": {},
     "output_type": "display_data"
    },
    {
     "data": {
      "text/plain": "'2020-01-15T04:20:38Z'"
     },
     "metadata": {},
     "output_type": "display_data"
    },
    {
     "data": {
      "text/plain": "False"
     },
     "metadata": {},
     "output_type": "display_data"
    },
    {
     "data": {
      "text/plain": "None"
     },
     "metadata": {},
     "output_type": "display_data"
    },
    {
     "data": {
      "text/plain": "{'url': None}"
     },
     "metadata": {},
     "output_type": "display_data"
    },
    {
     "data": {
      "text/plain": "{'album': {'album_type': 'album',\n  'artists': [{'external_urls': {'spotify': 'https://open.spotify.com/artist/3WrFJ7ztbogyGnTHbHJFl2'},\n    'href': 'https://api.spotify.com/v1/artists/3WrFJ7ztbogyGnTHbHJFl2',\n    'id': '3WrFJ7ztbogyGnTHbHJFl2',\n    'name': 'The Beatles',\n    'type': 'artist',\n    'uri': 'spotify:artist:3WrFJ7ztbogyGnTHbHJFl2'}],\n  'available_markets': ['AD',\n   'AE',\n   'AG',\n   'AL',\n   'AM',\n   'AO',\n   'AR',\n   'AT',\n   'AU',\n   'AZ',\n   'BA',\n   'BB',\n   'BD',\n   'BE',\n   'BF',\n   'BG',\n   'BH',\n   'BI',\n   'BJ',\n   'BN',\n   'BO',\n   'BR',\n   'BS',\n   'BT',\n   'BW',\n   'BY',\n   'BZ',\n   'CA',\n   'CD',\n   'CG',\n   'CH',\n   'CI',\n   'CL',\n   'CM',\n   'CO',\n   'CR',\n   'CV',\n   'CW',\n   'CY',\n   'CZ',\n   'DE',\n   'DJ',\n   'DK',\n   'DM',\n   'DO',\n   'DZ',\n   'EC',\n   'EE',\n   'EG',\n   'ES',\n   'ET',\n   'FI',\n   'FJ',\n   'FM',\n   'FR',\n   'GA',\n   'GB',\n   'GD',\n   'GE',\n   'GH',\n   'GM',\n   'GN',\n   'GQ',\n   'GR',\n   'GT',\n   'GW',\n   'GY',\n   'HK',\n   'HN',\n   'HR',\n   'HT',\n   'HU',\n   'ID',\n   'IE',\n   'IL',\n   'IN',\n   'IQ',\n   'IS',\n   'IT',\n   'JM',\n   'JO',\n   'JP',\n   'KE',\n   'KG',\n   'KH',\n   'KI',\n   'KM',\n   'KN',\n   'KR',\n   'KW',\n   'KZ',\n   'LA',\n   'LB',\n   'LC',\n   'LI',\n   'LK',\n   'LR',\n   'LS',\n   'LT',\n   'LU',\n   'LV',\n   'LY',\n   'MA',\n   'MC',\n   'MD',\n   'ME',\n   'MG',\n   'MH',\n   'MK',\n   'ML',\n   'MN',\n   'MO',\n   'MR',\n   'MT',\n   'MU',\n   'MV',\n   'MW',\n   'MX',\n   'MY',\n   'MZ',\n   'NA',\n   'NE',\n   'NG',\n   'NI',\n   'NL',\n   'NO',\n   'NP',\n   'NR',\n   'NZ',\n   'OM',\n   'PA',\n   'PE',\n   'PG',\n   'PH',\n   'PK',\n   'PL',\n   'PS',\n   'PT',\n   'PW',\n   'PY',\n   'QA',\n   'RO',\n   'RS',\n   'RW',\n   'SA',\n   'SB',\n   'SC',\n   'SE',\n   'SG',\n   'SI',\n   'SK',\n   'SL',\n   'SM',\n   'SN',\n   'SR',\n   'ST',\n   'SV',\n   'SZ',\n   'TD',\n   'TG',\n   'TH',\n   'TJ',\n   'TL',\n   'TN',\n   'TO',\n   'TR',\n   'TT',\n   'TV',\n   'TW',\n   'TZ',\n   'UA',\n   'UG',\n   'US',\n   'UY',\n   'UZ',\n   'VC',\n   'VE',\n   'VN',\n   'VU',\n   'WS',\n   'XK',\n   'ZA',\n   'ZM',\n   'ZW'],\n  'external_urls': {'spotify': 'https://open.spotify.com/album/3KzAvEXcqJKBF97HrXwlgf'},\n  'href': 'https://api.spotify.com/v1/albums/3KzAvEXcqJKBF97HrXwlgf',\n  'id': '3KzAvEXcqJKBF97HrXwlgf',\n  'images': [{'height': 640,\n    'url': 'https://i.scdn.co/image/ab67616d0000b273dbeec63ad914c973e75c24df',\n    'width': 640},\n   {'height': 300,\n    'url': 'https://i.scdn.co/image/ab67616d00001e02dbeec63ad914c973e75c24df',\n    'width': 300},\n   {'height': 64,\n    'url': 'https://i.scdn.co/image/ab67616d00004851dbeec63ad914c973e75c24df',\n    'width': 64}],\n  'name': 'Please Please Me (Remastered)',\n  'release_date': '1963-03-22',\n  'release_date_precision': 'day',\n  'total_tracks': 14,\n  'type': 'album',\n  'uri': 'spotify:album:3KzAvEXcqJKBF97HrXwlgf'},\n 'artists': [{'external_urls': {'spotify': 'https://open.spotify.com/artist/3WrFJ7ztbogyGnTHbHJFl2'},\n   'href': 'https://api.spotify.com/v1/artists/3WrFJ7ztbogyGnTHbHJFl2',\n   'id': '3WrFJ7ztbogyGnTHbHJFl2',\n   'name': 'The Beatles',\n   'type': 'artist',\n   'uri': 'spotify:artist:3WrFJ7ztbogyGnTHbHJFl2'}],\n 'available_markets': ['AR',\n  'AU',\n  'AT',\n  'BE',\n  'BO',\n  'BR',\n  'BG',\n  'CA',\n  'CL',\n  'CO',\n  'CR',\n  'CY',\n  'CZ',\n  'DK',\n  'DO',\n  'DE',\n  'EC',\n  'EE',\n  'SV',\n  'FI',\n  'FR',\n  'GR',\n  'GT',\n  'HN',\n  'HK',\n  'HU',\n  'IS',\n  'IE',\n  'IT',\n  'LV',\n  'LT',\n  'LU',\n  'MY',\n  'MT',\n  'MX',\n  'NL',\n  'NZ',\n  'NI',\n  'NO',\n  'PA',\n  'PY',\n  'PE',\n  'PH',\n  'PL',\n  'PT',\n  'SG',\n  'SK',\n  'ES',\n  'SE',\n  'CH',\n  'TW',\n  'TR',\n  'UY',\n  'US',\n  'GB',\n  'AD',\n  'LI',\n  'MC',\n  'ID',\n  'JP',\n  'TH',\n  'VN',\n  'RO',\n  'IL',\n  'ZA',\n  'SA',\n  'AE',\n  'BH',\n  'QA',\n  'OM',\n  'KW',\n  'EG',\n  'MA',\n  'DZ',\n  'TN',\n  'LB',\n  'JO',\n  'PS',\n  'IN',\n  'BY',\n  'KZ',\n  'MD',\n  'UA',\n  'AL',\n  'BA',\n  'HR',\n  'ME',\n  'MK',\n  'RS',\n  'SI',\n  'KR',\n  'BD',\n  'PK',\n  'LK',\n  'GH',\n  'KE',\n  'NG',\n  'TZ',\n  'UG',\n  'AG',\n  'AM',\n  'BS',\n  'BB',\n  'BZ',\n  'BT',\n  'BW',\n  'BF',\n  'CV',\n  'CW',\n  'DM',\n  'FJ',\n  'GM',\n  'GE',\n  'GD',\n  'GW',\n  'GY',\n  'HT',\n  'JM',\n  'KI',\n  'LS',\n  'LR',\n  'MW',\n  'MV',\n  'ML',\n  'MH',\n  'FM',\n  'NA',\n  'NR',\n  'NE',\n  'PW',\n  'PG',\n  'WS',\n  'SM',\n  'ST',\n  'SN',\n  'SC',\n  'SL',\n  'SB',\n  'KN',\n  'LC',\n  'VC',\n  'SR',\n  'TL',\n  'TO',\n  'TT',\n  'TV',\n  'VU',\n  'AZ',\n  'BN',\n  'BI',\n  'KH',\n  'CM',\n  'TD',\n  'KM',\n  'GQ',\n  'SZ',\n  'GA',\n  'GN',\n  'KG',\n  'LA',\n  'MO',\n  'MR',\n  'MN',\n  'NP',\n  'RW',\n  'TG',\n  'UZ',\n  'ZW',\n  'BJ',\n  'MG',\n  'MU',\n  'MZ',\n  'AO',\n  'CI',\n  'DJ',\n  'ZM',\n  'CD',\n  'CG',\n  'IQ',\n  'LY',\n  'TJ',\n  'VE',\n  'ET',\n  'XK'],\n 'disc_number': 1,\n 'duration_ms': 173946,\n 'episode': False,\n 'explicit': False,\n 'external_ids': {'isrc': 'GBAYE0601410'},\n 'external_urls': {'spotify': 'https://open.spotify.com/track/3KiexfmhxHvG5IgAElmTkd'},\n 'href': 'https://api.spotify.com/v1/tracks/3KiexfmhxHvG5IgAElmTkd',\n 'id': '3KiexfmhxHvG5IgAElmTkd',\n 'is_local': False,\n 'name': 'I Saw Her Standing There - Remastered 2009',\n 'popularity': 70,\n 'preview_url': None,\n 'track': True,\n 'track_number': 1,\n 'type': 'track',\n 'uri': 'spotify:track:3KiexfmhxHvG5IgAElmTkd'}"
     },
     "metadata": {},
     "output_type": "display_data"
    }
   ],
   "source": [
    "# type(tracks)                          # list\n",
    "\n",
    "t = tracks[0]\n",
    "# type(track)                           # dict\n",
    "\n",
    "display(t.keys())\n",
    "display(t['added_at'])\n",
    "display(t['is_local'])\n",
    "display(t['primary_color'])\n",
    "display(t['video_thumbnail'])\n",
    "\n",
    "display(t['track'])"
   ],
   "metadata": {
    "collapsed": false,
    "ExecuteTime": {
     "end_time": "2023-06-23T12:04:40.728082100Z",
     "start_time": "2023-06-23T12:04:40.712751800Z"
    }
   }
  },
  {
   "cell_type": "markdown",
   "source": [
    "## Check what some items from the \"embedded\" dictionary corresponding to a track are"
   ],
   "metadata": {
    "collapsed": false
   }
  },
  {
   "cell_type": "code",
   "execution_count": 42,
   "outputs": [],
   "source": [
    "track = t['track']\n",
    "# type(track)                           # dict\n",
    "\n",
    "display(track.keys())\n",
    "\n",
    "display(track['track'])\n",
    "display(track['name'])\n",
    "display(track['popularity'])\n",
    "display(track['album'])\n",
    "display(track['album']['name'])\n",
    "display(track['duration_ms'])\n",
    "display(track['artists'][0]['name'])\n",
    "display(track['id'])\n",
    "display(track['uri'])\n",
    "display(track['href'])\n",
    "display(track['episode'])               # False\n",
    "display(track['track'])                 # True"
   ],
   "metadata": {
    "collapsed": false
   }
  },
  {
   "cell_type": "markdown",
   "source": [
    "## Get the audio features for a track\n",
    "See [this](https://developer.spotify.com/documentation/web-api/reference/#/operations/get-several-audio-features) for an explanation of the meanings of all these parameters."
   ],
   "metadata": {
    "collapsed": false
   }
  },
  {
   "cell_type": "code",
   "execution_count": 43,
   "outputs": [],
   "source": [
    "spot.audio_features(['spotify:track:3KiexfmhxHvG5IgAElmTkd'])"
   ],
   "metadata": {
    "collapsed": false
   }
  },
  {
   "cell_type": "markdown",
   "source": [
    "## Create a list of URIs of all tracks from the playlist"
   ],
   "metadata": {
    "collapsed": false
   }
  },
  {
   "cell_type": "code",
   "execution_count": 44,
   "outputs": [],
   "source": [
    "uri_list = [t['track']['uri'] for t in tracks]\n",
    "uri_list[:5]"
   ],
   "metadata": {
    "collapsed": false
   }
  },
  {
   "cell_type": "markdown",
   "source": [
    "## Create a list of *(uri, title, popularity, duration)* tuples of all tracks from the playlist"
   ],
   "metadata": {
    "collapsed": false
   }
  },
  {
   "cell_type": "code",
   "execution_count": 45,
   "outputs": [],
   "source": [
    "tracks_data = [(t['track']['uri'],\n",
    "                t['track']['name'].split(' - Remastered')[0].split(' / Remastered')[0],\n",
    "                t['track']['album']['name'].split(' (Remastered)')[0],\n",
    "                t['track']['popularity'],\n",
    "                int(round(t['track']['duration_ms'] / 1000, 0))) for t in tracks]\n",
    "display(len(tracks_data))\n",
    "display(tracks_data[:])"
   ],
   "metadata": {
    "collapsed": false
   }
  },
  {
   "cell_type": "markdown",
   "source": [
    "## Create a list of audio features dictionaries of all tracks from the playlist\n",
    "See [this](https://developer.spotify.com/documentation/web-api/reference/#/operations/get-several-audio-features) for an explanation of the meanings of all these parameters.\n",
    "\n",
    "**Important:** `spot.audio_features()` will accept max 100 URIs!"
   ],
   "metadata": {
    "collapsed": false
   }
  },
  {
   "cell_type": "code",
   "execution_count": 46,
   "outputs": [],
   "source": [
    "offset = 0\n",
    "runs, last_run = divmod(len(tracks), 100)                                                       # how many full runs, 100 tracks each\n",
    "tracks_audio_features_dicts = []\n",
    "\n",
    "if runs > 0:                                                                                    # all full runs, 100 tracks each\n",
    "    for _ in range(runs):\n",
    "        tracks_audio_features_dicts.extend(spot.audio_features(uri_list[offset:(offset+100)]))\n",
    "        offset += 100\n",
    "tracks_audio_features_dicts.extend(spot.audio_features(uri_list[offset:(offset+last_run)]))     # last run, generally < 100 tracks\n",
    "\n",
    "# display(len(tracks_audio_features_dicts))\n",
    "# display(tracks_audio_features_dicts)"
   ],
   "metadata": {
    "collapsed": false
   }
  },
  {
   "cell_type": "markdown",
   "source": [
    "## Create a list of *(key, mode, tempo, time_signature, valence, danceability, energy, loudness, acousticness, instrumentalness, liveness, speechiness)* tuples of all tracks from the playlist\n",
    "See [this](https://developer.spotify.com/documentation/web-api/reference/#/operations/get-several-audio-features) for an explanation of the meanings of all these parameters.\n",
    "\n",
    "Use `tracks_audio_features_dicts` list created above."
   ],
   "metadata": {
    "collapsed": false
   }
  },
  {
   "cell_type": "code",
   "execution_count": 47,
   "outputs": [],
   "source": [
    "tracks_audio_features = [(t['key'],\n",
    "                          t['mode'],\n",
    "                          t['tempo'],\n",
    "                          t['time_signature'],\n",
    "                          t['valence'],\n",
    "                          t['danceability'],\n",
    "                          t['energy'],\n",
    "                          t['loudness'],\n",
    "                          t['acousticness'],\n",
    "                          t['instrumentalness'],\n",
    "                          t['liveness'],\n",
    "                          t['speechiness']) for t in tracks_audio_features_dicts]\n",
    "\n",
    "# display(len(tracks_audio_features))\n",
    "# display(tracks_audio_features)"
   ],
   "metadata": {
    "collapsed": false
   }
  },
  {
   "cell_type": "markdown",
   "source": [
    "## Join the tuples from *tracks_data* and *tracks_audio_features* pairwise to create *tracks_data_and_audio_features*"
   ],
   "metadata": {
    "collapsed": false
   }
  },
  {
   "cell_type": "code",
   "execution_count": 48,
   "outputs": [],
   "source": [
    "tracks_data_and_audio_features = [(d + af) for d, af in zip(tracks_data, tracks_audio_features)]\n",
    "# display(tracks_data_and_audio_features[:5])"
   ],
   "metadata": {
    "collapsed": false
   }
  },
  {
   "cell_type": "markdown",
   "source": [
    "## Bundle it all together in the *get_playlist_tracks_data()*, *get_playlist_tracks_audio_features()* and *get_playlist_tracks_df()* functions\n",
    "Assumption: the *.env* file is already created as explained in *spotify_authentication.ipynb*, and its relative path is passed as an argument."
   ],
   "metadata": {
    "collapsed": false
   }
  },
  {
   "cell_type": "markdown",
   "source": [
    "### *get_playlist_tracks_data()*"
   ],
   "metadata": {
    "collapsed": false
   }
  },
  {
   "cell_type": "code",
   "execution_count": 6,
   "outputs": [],
   "source": [
    "def get_playlist_tracks_data(playlist_id: str, env_file_path: str) -> list:\n",
    "    tracks = get_all_tracks_from_playlist(playlist_id, env_file_path)\n",
    "    tracks_data = [(t['track']['uri'],\n",
    "                    t['track']['name'].split(' - Remastered')[0].split(' / Remastered')[0],\n",
    "                    t['track']['album']['name'].split(' (Remastered)')[0],\n",
    "                    t['track']['popularity'],\n",
    "                    int(round(t['track']['duration_ms'] / 1000, 0))) for t in tracks]\n",
    "    return tracks_data"
   ],
   "metadata": {
    "collapsed": false,
    "ExecuteTime": {
     "end_time": "2023-07-17T16:21:46.359326700Z",
     "start_time": "2023-07-17T16:21:46.353462900Z"
    }
   }
  },
  {
   "cell_type": "code",
   "execution_count": 57,
   "outputs": [],
   "source": [
    "# Test get_tracks(data)\n",
    "display(get_playlist_tracks_data(THE_BEATLES_PLAYLIST_URL_1, 'env/.env'))"
   ],
   "metadata": {
    "collapsed": false
   }
  },
  {
   "cell_type": "markdown",
   "source": [
    "### *get_playlist_tracks_audio_features()*"
   ],
   "metadata": {
    "collapsed": false
   }
  },
  {
   "cell_type": "code",
   "execution_count": 7,
   "outputs": [],
   "source": [
    "def get_playlist_tracks_audio_features(playlist_id: str, env_file_path: str) -> list:\n",
    "    spot = get_spotify_object(env_file_path)\n",
    "    tracks = get_all_tracks_from_playlist(playlist_id, env_file_path)\n",
    "    uri_list = [t['track']['uri'] for t in tracks]\n",
    "\n",
    "    offset = 0\n",
    "    runs, last_run = divmod(len(tracks), 100)                                                       # how many full runs, 100 tracks each\n",
    "    tracks_audio_features_dicts = []\n",
    "\n",
    "    if runs > 0:                                                                                    # all full runs, 100 tracks each\n",
    "        for _ in range(runs):\n",
    "            tracks_audio_features_dicts.extend(spot.audio_features(uri_list[offset:(offset+100)]))\n",
    "            offset += 100\n",
    "    tracks_audio_features_dicts.extend(spot.audio_features(uri_list[offset:(offset+last_run)]))     # last run, < 100 tracks\n",
    "\n",
    "    tracks_audio_features = [(t['key'],\n",
    "                              t['mode'],\n",
    "                              t['tempo'],\n",
    "                              t['time_signature'],\n",
    "                              t['valence'],\n",
    "                              t['danceability'],\n",
    "                              t['energy'],\n",
    "                              t['loudness'],\n",
    "                              t['acousticness'],\n",
    "                              t['instrumentalness'],\n",
    "                              t['liveness'],\n",
    "                              t['speechiness']) for t in tracks_audio_features_dicts]\n",
    "\n",
    "    return tracks_audio_features"
   ],
   "metadata": {
    "collapsed": false,
    "ExecuteTime": {
     "end_time": "2023-07-17T16:22:07.495291200Z",
     "start_time": "2023-07-17T16:22:07.491301600Z"
    }
   }
  },
  {
   "cell_type": "code",
   "execution_count": 59,
   "outputs": [],
   "source": [
    "# Test get_tracks_audio_features()\n",
    "display(get_playlist_tracks_audio_features(THE_BEATLES_PLAYLIST_URL_1, 'env/.env'))"
   ],
   "metadata": {
    "collapsed": false
   }
  },
  {
   "cell_type": "markdown",
   "source": [
    "### *get_playlist_tracks_df()*"
   ],
   "metadata": {
    "collapsed": false
   }
  },
  {
   "cell_type": "code",
   "execution_count": 8,
   "outputs": [],
   "source": [
    "def get_playlist_tracks_df(playlist_id: str, env_file_path: str) -> pd.DataFrame:\n",
    "    COLUMNS = [\n",
    "        'URI',\n",
    "        'Title',\n",
    "        'Album',\n",
    "        'Popularity',\n",
    "        'Duration',\n",
    "        'Key',\n",
    "        'Mode',\n",
    "        'Tempo',\n",
    "        'Time_signature',\n",
    "        'Valence',\n",
    "        'Danceability',\n",
    "        'Energy',\n",
    "        'Loudness',\n",
    "        'Acousticness',\n",
    "        'Instrumentalness',\n",
    "        'Liveness',\n",
    "        'Speechiness'\n",
    "    ]\n",
    "\n",
    "    tracks_data = get_playlist_tracks_data(playlist_id, env_file_path)\n",
    "    tracks_audio_features = get_playlist_tracks_audio_features(playlist_id, env_file_path)\n",
    "    tracks_data_and_audio_features = [(d + af) for d, af in zip(tracks_data, tracks_audio_features)]\n",
    "    return pd.DataFrame(tracks_data_and_audio_features, columns=COLUMNS)\n"
   ],
   "metadata": {
    "collapsed": false,
    "ExecuteTime": {
     "end_time": "2023-07-17T16:22:14.878278600Z",
     "start_time": "2023-07-17T16:22:14.875287800Z"
    }
   }
  },
  {
   "cell_type": "code",
   "execution_count": 9,
   "outputs": [
    {
     "data": {
      "text/plain": "                                      URI  \\\n0    spotify:track:3KiexfmhxHvG5IgAElmTkd   \n1    spotify:track:40qXGg5nRbcWzcFb26KWkQ   \n2    spotify:track:2baEFuU0gQon0hgVRioI1o   \n3    spotify:track:3JQWLa88R35d971o5bIImd   \n4    spotify:track:5ZBeML7Lf3FMEVviTyvi8l   \n..                                    ...   \n210  spotify:track:48TNLcToLs8DWkdj5vYdiW   \n211  spotify:track:1tM9TBNPjieSOZ2d5VAQ1y   \n212  spotify:track:379hxtlY5LvbPQa5LL6dPo   \n213  spotify:track:5xf0zdP4KCfshyVn02D3Ea   \n214  spotify:track:4qh4lu4xf4r3ZkBoyeajuc   \n\n                                      Title  \\\n0                  I Saw Her Standing There   \n1                                    Misery   \n2                          Anna (Go To Him)   \n3                                    Chains   \n4                           Twist And Shout   \n..                                      ...   \n210                                    Rain   \n211                            Lady Madonna   \n212                         The Inner Light   \n213  Kansas City / Hey-Hey-Hey-Hey - Medley   \n214                              Revolution   \n\n                                       Album  Popularity  Duration  Key  Mode  \\\n0                           Please Please Me          71       174    4     1   \n1                           Please Please Me          54       109    0     1   \n2                           Please Please Me          58       177    2     1   \n3                           Please Please Me          50       145   10     1   \n4                           Please Please Me          80       155    2     1   \n..                                       ...         ...       ...  ...   ...   \n210  Past Masters (Vols. 1 & 2 / Remastered)          52       181    0     1   \n211  Past Masters (Vols. 1 & 2 / Remastered)          39       138    2     1   \n212  Past Masters (Vols. 1 & 2 / Remastered)          41       156    8     1   \n213                         Beatles For Sale          47       158    7     1   \n214  Past Masters (Vols. 1 & 2 / Remastered)          41       205    1     1   \n\n       Tempo  Time_signature  Valence  Danceability  Energy  Loudness  \\\n0    160.109               4    0.971         0.491   0.801    -9.835   \n1    133.348               4    0.882         0.591   0.605   -10.925   \n2    109.286               4    0.835         0.608   0.565   -11.060   \n3    129.884               4    0.929         0.654   0.561   -10.551   \n4    124.631               4    0.937         0.482   0.849    -9.198   \n..       ...             ...      ...           ...     ...       ...   \n210  106.933               4    0.541         0.234   0.693    -8.277   \n211  109.110               4    0.780         0.631   0.748    -7.604   \n212  101.545               3    0.387         0.304   0.543   -10.619   \n213  131.360               4    0.924         0.588   0.724    -6.630   \n214  121.054               4    0.708         0.417   0.825    -9.539   \n\n     Acousticness  Instrumentalness  Liveness  Speechiness  \n0        0.270000          0.000000    0.0665       0.0361  \n1        0.707000          0.000000    0.3090       0.0413  \n2        0.635000          0.000000    0.0601       0.0336  \n3        0.608000          0.000000    0.1290       0.0304  \n4        0.641000          0.000008    0.0414       0.0452  \n..            ...               ...       ...          ...  \n210      0.000028          0.899000    0.4420       0.0408  \n211      0.385000          0.308000    0.2050       0.0300  \n212      0.751000          0.014500    0.0764       0.0340  \n213      0.614000          0.000089    0.8770       0.0335  \n214      0.088800          0.000358    0.2300       0.1760  \n\n[215 rows x 17 columns]",
      "text/html": "<div>\n<style scoped>\n    .dataframe tbody tr th:only-of-type {\n        vertical-align: middle;\n    }\n\n    .dataframe tbody tr th {\n        vertical-align: top;\n    }\n\n    .dataframe thead th {\n        text-align: right;\n    }\n</style>\n<table border=\"1\" class=\"dataframe\">\n  <thead>\n    <tr style=\"text-align: right;\">\n      <th></th>\n      <th>URI</th>\n      <th>Title</th>\n      <th>Album</th>\n      <th>Popularity</th>\n      <th>Duration</th>\n      <th>Key</th>\n      <th>Mode</th>\n      <th>Tempo</th>\n      <th>Time_signature</th>\n      <th>Valence</th>\n      <th>Danceability</th>\n      <th>Energy</th>\n      <th>Loudness</th>\n      <th>Acousticness</th>\n      <th>Instrumentalness</th>\n      <th>Liveness</th>\n      <th>Speechiness</th>\n    </tr>\n  </thead>\n  <tbody>\n    <tr>\n      <th>0</th>\n      <td>spotify:track:3KiexfmhxHvG5IgAElmTkd</td>\n      <td>I Saw Her Standing There</td>\n      <td>Please Please Me</td>\n      <td>71</td>\n      <td>174</td>\n      <td>4</td>\n      <td>1</td>\n      <td>160.109</td>\n      <td>4</td>\n      <td>0.971</td>\n      <td>0.491</td>\n      <td>0.801</td>\n      <td>-9.835</td>\n      <td>0.270000</td>\n      <td>0.000000</td>\n      <td>0.0665</td>\n      <td>0.0361</td>\n    </tr>\n    <tr>\n      <th>1</th>\n      <td>spotify:track:40qXGg5nRbcWzcFb26KWkQ</td>\n      <td>Misery</td>\n      <td>Please Please Me</td>\n      <td>54</td>\n      <td>109</td>\n      <td>0</td>\n      <td>1</td>\n      <td>133.348</td>\n      <td>4</td>\n      <td>0.882</td>\n      <td>0.591</td>\n      <td>0.605</td>\n      <td>-10.925</td>\n      <td>0.707000</td>\n      <td>0.000000</td>\n      <td>0.3090</td>\n      <td>0.0413</td>\n    </tr>\n    <tr>\n      <th>2</th>\n      <td>spotify:track:2baEFuU0gQon0hgVRioI1o</td>\n      <td>Anna (Go To Him)</td>\n      <td>Please Please Me</td>\n      <td>58</td>\n      <td>177</td>\n      <td>2</td>\n      <td>1</td>\n      <td>109.286</td>\n      <td>4</td>\n      <td>0.835</td>\n      <td>0.608</td>\n      <td>0.565</td>\n      <td>-11.060</td>\n      <td>0.635000</td>\n      <td>0.000000</td>\n      <td>0.0601</td>\n      <td>0.0336</td>\n    </tr>\n    <tr>\n      <th>3</th>\n      <td>spotify:track:3JQWLa88R35d971o5bIImd</td>\n      <td>Chains</td>\n      <td>Please Please Me</td>\n      <td>50</td>\n      <td>145</td>\n      <td>10</td>\n      <td>1</td>\n      <td>129.884</td>\n      <td>4</td>\n      <td>0.929</td>\n      <td>0.654</td>\n      <td>0.561</td>\n      <td>-10.551</td>\n      <td>0.608000</td>\n      <td>0.000000</td>\n      <td>0.1290</td>\n      <td>0.0304</td>\n    </tr>\n    <tr>\n      <th>4</th>\n      <td>spotify:track:5ZBeML7Lf3FMEVviTyvi8l</td>\n      <td>Twist And Shout</td>\n      <td>Please Please Me</td>\n      <td>80</td>\n      <td>155</td>\n      <td>2</td>\n      <td>1</td>\n      <td>124.631</td>\n      <td>4</td>\n      <td>0.937</td>\n      <td>0.482</td>\n      <td>0.849</td>\n      <td>-9.198</td>\n      <td>0.641000</td>\n      <td>0.000008</td>\n      <td>0.0414</td>\n      <td>0.0452</td>\n    </tr>\n    <tr>\n      <th>...</th>\n      <td>...</td>\n      <td>...</td>\n      <td>...</td>\n      <td>...</td>\n      <td>...</td>\n      <td>...</td>\n      <td>...</td>\n      <td>...</td>\n      <td>...</td>\n      <td>...</td>\n      <td>...</td>\n      <td>...</td>\n      <td>...</td>\n      <td>...</td>\n      <td>...</td>\n      <td>...</td>\n      <td>...</td>\n    </tr>\n    <tr>\n      <th>210</th>\n      <td>spotify:track:48TNLcToLs8DWkdj5vYdiW</td>\n      <td>Rain</td>\n      <td>Past Masters (Vols. 1 &amp; 2 / Remastered)</td>\n      <td>52</td>\n      <td>181</td>\n      <td>0</td>\n      <td>1</td>\n      <td>106.933</td>\n      <td>4</td>\n      <td>0.541</td>\n      <td>0.234</td>\n      <td>0.693</td>\n      <td>-8.277</td>\n      <td>0.000028</td>\n      <td>0.899000</td>\n      <td>0.4420</td>\n      <td>0.0408</td>\n    </tr>\n    <tr>\n      <th>211</th>\n      <td>spotify:track:1tM9TBNPjieSOZ2d5VAQ1y</td>\n      <td>Lady Madonna</td>\n      <td>Past Masters (Vols. 1 &amp; 2 / Remastered)</td>\n      <td>39</td>\n      <td>138</td>\n      <td>2</td>\n      <td>1</td>\n      <td>109.110</td>\n      <td>4</td>\n      <td>0.780</td>\n      <td>0.631</td>\n      <td>0.748</td>\n      <td>-7.604</td>\n      <td>0.385000</td>\n      <td>0.308000</td>\n      <td>0.2050</td>\n      <td>0.0300</td>\n    </tr>\n    <tr>\n      <th>212</th>\n      <td>spotify:track:379hxtlY5LvbPQa5LL6dPo</td>\n      <td>The Inner Light</td>\n      <td>Past Masters (Vols. 1 &amp; 2 / Remastered)</td>\n      <td>41</td>\n      <td>156</td>\n      <td>8</td>\n      <td>1</td>\n      <td>101.545</td>\n      <td>3</td>\n      <td>0.387</td>\n      <td>0.304</td>\n      <td>0.543</td>\n      <td>-10.619</td>\n      <td>0.751000</td>\n      <td>0.014500</td>\n      <td>0.0764</td>\n      <td>0.0340</td>\n    </tr>\n    <tr>\n      <th>213</th>\n      <td>spotify:track:5xf0zdP4KCfshyVn02D3Ea</td>\n      <td>Kansas City / Hey-Hey-Hey-Hey - Medley</td>\n      <td>Beatles For Sale</td>\n      <td>47</td>\n      <td>158</td>\n      <td>7</td>\n      <td>1</td>\n      <td>131.360</td>\n      <td>4</td>\n      <td>0.924</td>\n      <td>0.588</td>\n      <td>0.724</td>\n      <td>-6.630</td>\n      <td>0.614000</td>\n      <td>0.000089</td>\n      <td>0.8770</td>\n      <td>0.0335</td>\n    </tr>\n    <tr>\n      <th>214</th>\n      <td>spotify:track:4qh4lu4xf4r3ZkBoyeajuc</td>\n      <td>Revolution</td>\n      <td>Past Masters (Vols. 1 &amp; 2 / Remastered)</td>\n      <td>41</td>\n      <td>205</td>\n      <td>1</td>\n      <td>1</td>\n      <td>121.054</td>\n      <td>4</td>\n      <td>0.708</td>\n      <td>0.417</td>\n      <td>0.825</td>\n      <td>-9.539</td>\n      <td>0.088800</td>\n      <td>0.000358</td>\n      <td>0.2300</td>\n      <td>0.1760</td>\n    </tr>\n  </tbody>\n</table>\n<p>215 rows × 17 columns</p>\n</div>"
     },
     "metadata": {},
     "output_type": "display_data"
    }
   ],
   "source": [
    "# Test get_playlist_tracks_df()\n",
    "tracks_df = get_playlist_tracks_df(THE_BEATLES_PLAYLIST_URL_1, 'env/.env')\n",
    "display(tracks_df)"
   ],
   "metadata": {
    "collapsed": false,
    "ExecuteTime": {
     "end_time": "2023-07-17T16:22:27.021427700Z",
     "start_time": "2023-07-17T16:22:24.961981800Z"
    }
   }
  },
  {
   "cell_type": "markdown",
   "source": [
    "## Save the resulting dataframe"
   ],
   "metadata": {
    "collapsed": false
   }
  },
  {
   "cell_type": "code",
   "execution_count": 11,
   "outputs": [],
   "source": [
    "from pathlib import Path\n",
    "data_dir = Path().cwd().parent / 'data'\n",
    "data_dir.mkdir(parents=True, exist_ok=True)\n",
    "# print(data_dir)\n",
    "tracks_df.to_csv(data_dir / 'The Beatles songs dataset, Spotify 1.csv', index=False)"
   ],
   "metadata": {
    "collapsed": false,
    "ExecuteTime": {
     "end_time": "2023-07-17T16:30:26.053620700Z",
     "start_time": "2023-07-17T16:30:26.045146600Z"
    }
   }
  }
 ],
 "metadata": {
  "kernelspec": {
   "display_name": "Python 3",
   "language": "python",
   "name": "python3"
  },
  "language_info": {
   "codemirror_mode": {
    "name": "ipython",
    "version": 2
   },
   "file_extension": ".py",
   "mimetype": "text/x-python",
   "name": "python",
   "nbconvert_exporter": "python",
   "pygments_lexer": "ipython2",
   "version": "2.7.6"
  }
 },
 "nbformat": 4,
 "nbformat_minor": 0
}
