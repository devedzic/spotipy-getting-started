{
 "cells": [
  {
   "cell_type": "markdown",
   "source": [
    "# Working with Spotify playlists\n",
    "Getting a playlist from a Spotify object and running basic operations with the playlist."
   ],
   "metadata": {
    "collapsed": false
   }
  },
  {
   "cell_type": "markdown",
   "source": [
    "## Import statements"
   ],
   "metadata": {
    "collapsed": false
   }
  },
  {
   "cell_type": "code",
   "execution_count": null,
   "outputs": [],
   "source": [
    "# import os\n",
    "#\n",
    "# from pathlib import Path\n",
    "# from dotenv import load_dotenv\n",
    "#\n",
    "# import spotipy\n",
    "# from spotipy.oauth2 import SpotifyClientCredentials\n",
    "#\n",
    "# # Based on https://github.com/ipython/ipynb; the reported compiler errors don't seem to matter\n",
    "# import ipynb\n",
    "# # from ipynb.fs.full.spotify_authentication import get_spotify_object\n",
    "#\n",
    "from my_spotify import get_spotify_object\n",
    "\n",
    "# from my_spotify import get_spotify_object\n",
    "# import my_spotify\n",
    "# %run \"M:\\\\Vladan\\\\Courses\\\\P3\\\\Python\\\\Python projects\\\\Jupyter projects\\\\spotipy-getting-started\\\\spotify_authentication.ipynb\""
   ],
   "metadata": {
    "collapsed": false
   }
  },
  {
   "cell_type": "markdown",
   "source": [
    "## Define playlists to work with\n",
    "A Spotify playlist can be identified by its ID, its URI, and its URL. See the differences [here](https://spotipy.readthedocs.io/en/2.22.1/#ids-uris-and-urls). Spotify URLs are used in this notebook. See also [this](https://towardsdatascience.com/extracting-song-data-from-the-spotify-api-using-python-b1e79388d50), section *Extracting Tracks From a Playlist*.\n",
    "\n",
    "To get any of these playlist identifiers, go to Spotify, open a playlist of your choice, click the '.&nbsp;. .' under the playlist title, and then select *Share > Copy link to playlist*."
   ],
   "metadata": {
    "collapsed": false
   }
  },
  {
   "cell_type": "code",
   "execution_count": null,
   "outputs": [],
   "source": [
    "THE_BEATLES_PLAYLIST_URL_1 = 'https://open.spotify.com/playlist/6ZmqDRJKJf3v3LzYZAaGGU?si=6b487ba5f9b54374' # 215 songs\n",
    "THE_BEATLES_PLAYLIST_URL_2 = 'https://open.spotify.com/playlist/01pA1OnfpqfS8Q4MeIbBef?si=03d0ad93c5a04c9c' # 219 songs\n",
    "THE_BEATLES_PLAYLIST_URL_3 = 'https://open.spotify.com/playlist/0eb2h4Qy3n43wLggYf5qEo?si=3ab4e29b207e4892' # 216 songs\n",
    "THE_BEATLES_PLAYLIST_URL_4 = 'https://open.spotify.com/playlist/4dRYcGMAbZWrrDxfeBU7IB?si=62d59e6a73d944e4' # 237 songs\n",
    "THE_BEATLES_PLAYLIST_URL_5 = 'https://open.spotify.com/playlist/6Z2fd7oueYPdy5dUo34LQF?si=981aaa474b01497e' # 213 songs\n",
    "THE_BEATLES_PLAYLIST_URL_6 = 'https://open.spotify.com/playlist/24Wec2tWqPZKEUkh0V6lXz?si=27bb6f162d214322' # 226 songs\n",
    "THE_BEATLES_PLAYLIST_URL_7 = 'https://open.spotify.com/playlist/2nr5EYhGrWFlOzmw9El6dF?si=27d2fb443d3141b0' # 215+145 songs (solo)"
   ],
   "metadata": {
    "collapsed": false
   }
  },
  {
   "cell_type": "markdown",
   "source": [
    "## Get the Spotify object"
   ],
   "metadata": {
    "collapsed": false
   }
  },
  {
   "cell_type": "code",
   "execution_count": null,
   "metadata": {},
   "outputs": [],
   "source": [
    "# display(get_spotify_object('env/.env'))\n",
    "spot = get_spotify_object('env/.env')"
   ]
  },
  {
   "cell_type": "markdown",
   "source": [
    "## Get a playlist"
   ],
   "metadata": {
    "collapsed": false
   }
  },
  {
   "cell_type": "code",
   "execution_count": null,
   "outputs": [],
   "source": [
    "pl1 = spot.playlist(THE_BEATLES_PLAYLIST_URL_1)"
   ],
   "metadata": {
    "collapsed": false
   }
  },
  {
   "cell_type": "markdown",
   "source": [
    "## Check what some items of the playlist dictionary are"
   ],
   "metadata": {
    "collapsed": false
   }
  },
  {
   "cell_type": "code",
   "execution_count": null,
   "outputs": [],
   "source": [
    "# print(pl1)\n",
    "# type(pl1)                         # dict\n",
    "\n",
    "# for k, v in pl1.items():\n",
    "#     print(str(k) + ': ' + str(v))\n",
    "\n",
    "display(pl1.keys())\n",
    "display(pl1['id'])\n",
    "display(pl1['uri'])\n",
    "display(pl1['snapshot_id'])\n",
    "display(pl1['type'])\n",
    "display(pl1['collaborative'])\n",
    "display(pl1['external_urls'])\n",
    "display(pl1['followers'])\n",
    "display(pl1['href'])\n",
    "display(pl1['images'])\n",
    "display(pl1['name'])"
   ],
   "metadata": {
    "collapsed": false
   }
  },
  {
   "cell_type": "markdown",
   "source": [
    "## Get the tracks from the playlist\n",
    "<u>**Important:**</u>&nbsp;The `playlist_tracks()` method of the Spotify object will return a dictionary with only the first 100 tracks max under its `items` key. If there are more than 100 tracks in the playlist, the `next` key in the returned dictionary will point to the next 100 tracks, and so on."
   ],
   "metadata": {
    "collapsed": false
   }
  },
  {
   "cell_type": "code",
   "execution_count": null,
   "outputs": [],
   "source": [
    "tracks1 = spot.playlist_tracks(THE_BEATLES_PLAYLIST_URL_1)"
   ],
   "metadata": {
    "collapsed": false
   }
  },
  {
   "cell_type": "markdown",
   "source": [
    "## Check what some items of the tracks dictionary are"
   ],
   "metadata": {
    "collapsed": false
   }
  },
  {
   "cell_type": "code",
   "execution_count": null,
   "outputs": [],
   "source": [
    "# type(tracks1)                     # dict\n",
    "\n",
    "display(tracks1.keys())\n",
    "display(tracks1['total'])           # total number of tracks in the playlist\n",
    "display(tracks1['href'])            # notice offset=0, limit=100\n",
    "display(tracks1['limit'])           # 100\n",
    "display(tracks1['offset'])          # 0\n",
    "display(tracks1['next'])            # notice offset=100, limit=100\n",
    "display(tracks1['previous'])        # None (this is the FIRST 100 tracks, no previous tracks)\n",
    "\n",
    "display(tracks1['items'])           # only max 100 first tracks (if the playlist is longer than 100), not all, but very detailed\n",
    "display(type(tracks1['items']))     # list\n",
    "display(len(tracks1['items']))      # 100 (only the first 100 songs from the playlist)\n",
    "display(tracks1['items'][0])        # the first track, very detailed\n",
    "display(type(tracks1['items'][0]))  # dict"
   ],
   "metadata": {
    "collapsed": false
   }
  },
  {
   "cell_type": "markdown",
   "source": [
    "## Create the list of ALL tracks from the playlist\n",
    "Remember that `<tracks>['items']` returns only the first 100 (or less, if you set `limit` to a value smaller than 100)."
   ],
   "metadata": {
    "collapsed": false
   }
  },
  {
   "cell_type": "code",
   "execution_count": null,
   "outputs": [],
   "source": [
    "offset = 0\n",
    "all_tracks = []\n",
    "tracks = spot.playlist_tracks(THE_BEATLES_PLAYLIST_URL_1, offset=offset)                        # the first 100 tracks (offset = 0)\n",
    "if tracks['items']:                                                                             # if the playlist is not empty\n",
    "    all_tracks.extend(tracks['items'])\n",
    "    while tracks['next']:\n",
    "        offset += 100\n",
    "        tracks = spot.playlist_tracks(THE_BEATLES_PLAYLIST_URL_1, offset=offset)                # the next 100 tracks\n",
    "        all_tracks.extend(tracks['items'])"
   ],
   "metadata": {
    "collapsed": false
   }
  },
  {
   "cell_type": "code",
   "execution_count": null,
   "outputs": [],
   "source": [
    "display(len(all_tracks))\n",
    "display(all_tracks)"
   ],
   "metadata": {
    "collapsed": false
   }
  },
  {
   "cell_type": "markdown",
   "source": [
    "## Bundle it all together in the *get_all_tracks_from_playlist()* function\n",
    "Assumption: the *.env* file is already created as explained in *spotify_authentication.ipynb*, and its relative path is passed as an argument."
   ],
   "metadata": {
    "collapsed": false
   }
  },
  {
   "cell_type": "code",
   "execution_count": null,
   "outputs": [],
   "source": [
    "def get_all_tracks_from_playlist(playlist_id: str, env_file_path: str) -> list:\n",
    "    spot = get_spotify_object(env_file_path)\n",
    "    offset = 0\n",
    "    all_tracks = []\n",
    "    tracks = spot.playlist_items(playlist_id, offset=offset)           # the first 100 tracks (offset = 0)\n",
    "    if not tracks['items']:                                             # if the playlist is empty\n",
    "        return []\n",
    "    all_tracks.extend(tracks['items'])\n",
    "    while tracks['next']:\n",
    "        offset += 100\n",
    "        tracks = spot.playlist_items(playlist_id, offset=offset)       # the next 100 tracks\n",
    "        all_tracks.extend(tracks['items'])\n",
    "    return all_tracks"
   ],
   "metadata": {
    "collapsed": false
   }
  },
  {
   "cell_type": "code",
   "execution_count": null,
   "outputs": [],
   "source": [
    "# Test get_all_tracks_from_playlist()\n",
    "all_tracks = get_all_tracks_from_playlist(THE_BEATLES_PLAYLIST_URL_1, 'env/.env')"
   ],
   "metadata": {
    "collapsed": false
   }
  },
  {
   "cell_type": "code",
   "execution_count": null,
   "outputs": [],
   "source": [
    "display(all_tracks)"
   ],
   "metadata": {
    "collapsed": false
   }
  }
 ],
 "metadata": {
  "kernelspec": {
   "display_name": "Python 3 (ipykernel)",
   "language": "python",
   "name": "python3"
  },
  "language_info": {
   "codemirror_mode": {
    "name": "ipython",
    "version": 3
   },
   "file_extension": ".py",
   "mimetype": "text/x-python",
   "name": "python",
   "nbconvert_exporter": "python",
   "pygments_lexer": "ipython3",
   "version": "3.10.0"
  },
  "varInspector": {
   "cols": {
    "lenName": 16,
    "lenType": 16,
    "lenVar": 40
   },
   "kernels_config": {
    "python": {
     "delete_cmd_postfix": "",
     "delete_cmd_prefix": "del ",
     "library": "var_list.py",
     "varRefreshCmd": "print(var_dic_list())"
    },
    "r": {
     "delete_cmd_postfix": ") ",
     "delete_cmd_prefix": "rm(",
     "library": "var_list.r",
     "varRefreshCmd": "cat(var_dic_list()) "
    }
   },
   "types_to_exclude": [
    "module",
    "function",
    "builtin_function_or_method",
    "instance",
    "_Feature"
   ],
   "window_display": false
  }
 },
 "nbformat": 4,
 "nbformat_minor": 1
}
